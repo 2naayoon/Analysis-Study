{
  "cells": [
    {
      "cell_type": "markdown",
      "metadata": {
        "id": "o8gREODUUiLQ"
      },
      "source": [
        "## 🐍 파이썬 텍스트 분석: Chapter 7. 비지도 학습 (토픽 모델링과 군집화)\n",
        "\n",
        "이 노트북에서는 정해진 정답(레이블) 없이 데이터 자체의 특성만으로 숨겨진 구조를 찾아내는 **비지도 학습(Unsupervised Learning)** 기법을 배웁니다.\n",
        "\n",
        "텍스트 데이터의 주요 주제들을 자동으로 추출하는 **토픽 모델링(Topic Modeling)** 과 유사한 문서들을 그룹으로 묶는 **군집화(Clustering)** 를 실습합니다.\n",
        "\n",
        "---"
      ]
    },
    {
      "cell_type": "markdown",
      "metadata": {},
      "source": [
        "\n",
        "### 🤔 비지도 학습(Unsupervised Learning)이란 무엇일까요?\n",
        "\n",
        "**비지도 학습**은 말 그대로 '지도'(supervision)나 '정답'이 없는 데이터를 가지고 학습하는 방법입니다.\n",
        "\n",
        "이해를 돕기 위해 쉬운 비유를 들어보겠습니다. 🍎🍇🍊\n",
        "\n",
        "여러분 앞에 이름표가 없는 온갖 종류의 과일이 담긴 상자가 있다고 상상해 보세요. 사과, 오렌지, 포도, 바나나가 뒤죽박죽 섞여 있습니다. 여러분은 각 과일의 이름은 모르지만, **색깔, 모양, 크기**와 같은 특징을 보고 비슷한 것끼리 그룹으로 나눌 수는 있습니다.\n",
        "\n",
        "* \"동그랗고 빨간 것들은 이쪽에 모아두자.\" (아마도 사과 그룹)\n",
        "* \"길고 노란 것들은 저쪽에 모으자.\" (아마도 바나나 그룹)\n",
        "* \"작고 동그란 알맹이가 많이 달린 건 여기 두자.\" (아마도 포도 그룹)\n",
        "\n",
        "이렇게 정답(과일 이름)을 모르는 상태에서 데이터의 **내재된 특성(색, 모양, 크기)**만을 이용해 스스로 패턴이나 구조를 찾아내 그룹으로 나누는 과정이 바로 **비지도 학습**입니다.\n",
        "\n",
        "텍스트 분석에서의 비지도 학습도 마찬가지입니다. 수많은 뉴스 기사가 있을 때, 우리는 각 기사에 '스포츠', '정치', '경제' 같은 딱지를 붙여주지 않아도, 기사에 사용된 **단어들의 패턴**을 분석하여 비슷한 내용의 기사들을 그룹으로 묶거나(군집화), 전체 기사들을 관통하는 숨겨진 주제들(토픽 모델링)을 발견할 수 있습니다.\n",
        "\n",
        "* **지도 학습(Supervised Learning)과의 차이점:** 지도 학습은 \"이건 사과야\", \"이건 바나나야\"라고 이름표가 붙은 과일 사진(정답 데이터)을 먼저 학습한 뒤, 새로운 과일 사진을 보고 이름을 맞추는 방식입니다. 반면 비지도 학습은 이름표 없이 비슷한 것끼리 분류하는 방식이죠.\n",
        "\n",
        "이번 챕터에서는 텍스트 데이터의 숨겨진 구조를 파헤치는 두 가지 대표적인 비지도 학습 기법, **토픽 모델링**과 **군집화**를 실습해 보겠습니다.\n",
        "\n",
        "---\n",
        "\n",
        "### 💡 시작 전 준비: 토픽 분석용 데이터셋 생성 및 전처리\n",
        "\n",
        "토픽 모델링과 군집화는 여러 주제가 섞인 데이터에서 그 진가를 발휘합니다. 실습을 위해 다양한 분야의 뉴스 기사 제목으로 구성된 샘플 데이터셋을 만들고, **Kiwipiepy**를 사용하여 전처리합니다."
      ]
    },
    {
      "cell_type": "code",
      "execution_count": 20,
      "metadata": {
        "id": "2QfsO5OYUiLR"
      },
      "outputs": [],
      "source": [
        "# 필요 라이브러리 설치\n",
        "# !pip install kiwipiepy scikit-learn pandas plotly pyldavis\n",
        "\n",
        "import pandas as pd\n",
        "import re\n",
        "from kiwipiepy import Kiwi\n",
        "from sklearn.feature_extraction.text import CountVectorizer, TfidfVectorizer\n",
        "\n",
        "# 여러 주제를 가진 샘플 뉴스 데이터\n",
        "raw_news_data = {\n",
        "    'category': ['IT', 'IT', 'IT', 'IT', '정치', '정치', '정치', '스포츠', '스포츠', '스포츠', '경제', '경제'],\n",
        "    'document': [\n",
        "        '과기부, 데이터-AI 기반 신규 서비스 개발 사업 공모',\n",
        "        '구글, 차세대 인공지능 모델 제미나이 프로 공개',\n",
        "        '오픈AI 라이벌 등장, 미스트랄AI 거대언어모델 공개',\n",
        "        '네이버, 생성형 AI 하이퍼클로바X 기술 컨퍼런스 개최',\n",
        "        '여야, 내년도 예산안 처리 막판 협상 돌입',\n",
        "        '대통령, 국무회의 주재하며 민생 안정 대책 논의',\n",
        "        '국회, 본회의 열어 법안 처리 예정',\n",
        "        '손흥민, 리그 10호골 기록하며 팀 승리 이끌어',\n",
        "        '프로농구 플레이오프, 4강 대진표 확정',\n",
        "        '이정후, 메이저리그 샌프란시스코 자이언츠와 계약',\n",
        "        '한국은행, 기준금리 3.5%로 동결 결정',\n",
        "        '코스피, 외인 매수세에 힘입어 소폭 상승 마감'\n",
        "    ]\n",
        "}\n",
        "news_df = pd.DataFrame(raw_news_data)"
      ]
    },
    {
      "cell_type": "code",
      "execution_count": 21,
      "metadata": {},
      "outputs": [
        {
          "data": {
            "text/html": [
              "<div>\n",
              "<style scoped>\n",
              "    .dataframe tbody tr th:only-of-type {\n",
              "        vertical-align: middle;\n",
              "    }\n",
              "\n",
              "    .dataframe tbody tr th {\n",
              "        vertical-align: top;\n",
              "    }\n",
              "\n",
              "    .dataframe thead th {\n",
              "        text-align: right;\n",
              "    }\n",
              "</style>\n",
              "<table border=\"1\" class=\"dataframe\">\n",
              "  <thead>\n",
              "    <tr style=\"text-align: right;\">\n",
              "      <th></th>\n",
              "      <th>category</th>\n",
              "      <th>document</th>\n",
              "      <th>processed</th>\n",
              "    </tr>\n",
              "  </thead>\n",
              "  <tbody>\n",
              "    <tr>\n",
              "      <th>0</th>\n",
              "      <td>IT</td>\n",
              "      <td>과기부, 데이터-AI 기반 신규 서비스 개발 사업 공모</td>\n",
              "      <td>과기부 데이터 기반 신규 서비스 개발 사업 공모</td>\n",
              "    </tr>\n",
              "    <tr>\n",
              "      <th>1</th>\n",
              "      <td>IT</td>\n",
              "      <td>구글, 차세대 인공지능 모델 제미나이 프로 공개</td>\n",
              "      <td>구글 차세대 인공지능 모델 제미나 프로 공개</td>\n",
              "    </tr>\n",
              "    <tr>\n",
              "      <th>2</th>\n",
              "      <td>IT</td>\n",
              "      <td>오픈AI 라이벌 등장, 미스트랄AI 거대언어모델 공개</td>\n",
              "      <td>오픈 라이벌 등장 미스트 거대 언어 모델 공개</td>\n",
              "    </tr>\n",
              "    <tr>\n",
              "      <th>3</th>\n",
              "      <td>IT</td>\n",
              "      <td>네이버, 생성형 AI 하이퍼클로바X 기술 컨퍼런스 개최</td>\n",
              "      <td>네이버 생성 하이퍼 클로 기술 컨퍼런스 개최</td>\n",
              "    </tr>\n",
              "    <tr>\n",
              "      <th>4</th>\n",
              "      <td>정치</td>\n",
              "      <td>여야, 내년도 예산안 처리 막판 협상 돌입</td>\n",
              "      <td>내년도 예산안 처리 막판 협상 돌입</td>\n",
              "    </tr>\n",
              "  </tbody>\n",
              "</table>\n",
              "</div>"
            ],
            "text/plain": [
              "  category                        document                   processed\n",
              "0       IT  과기부, 데이터-AI 기반 신규 서비스 개발 사업 공모  과기부 데이터 기반 신규 서비스 개발 사업 공모\n",
              "1       IT      구글, 차세대 인공지능 모델 제미나이 프로 공개    구글 차세대 인공지능 모델 제미나 프로 공개\n",
              "2       IT   오픈AI 라이벌 등장, 미스트랄AI 거대언어모델 공개   오픈 라이벌 등장 미스트 거대 언어 모델 공개\n",
              "3       IT  네이버, 생성형 AI 하이퍼클로바X 기술 컨퍼런스 개최    네이버 생성 하이퍼 클로 기술 컨퍼런스 개최\n",
              "4       정치         여야, 내년도 예산안 처리 막판 협상 돌입         내년도 예산안 처리 막판 협상 돌입"
            ]
          },
          "execution_count": 21,
          "metadata": {},
          "output_type": "execute_result"
        }
      ],
      "source": [
        "kiwi = Kiwi()\n",
        "# kiwi.tokenize를 사용하여 명사를 추출합니다.\n",
        "\n",
        "kiwi.add_user_word('과기부', 'NNG')\n",
        "\n",
        "# 토큰(token) 객체에서 품사(tag)가 'NNG'(일반명사), 'NNP'(고유명사)인 경우만 선택합니다.\n",
        "def news_preprocess(text):\n",
        "    text = re.sub(r'[^가-힣\\s]', '', str(text))\n",
        "    tokens = kiwi.tokenize(text) # 형태소 분석\n",
        "    # 명사만 추출하여 토픽 분석에 더 적합하게 만듭니다.\n",
        "    nouns = [token.form for token in tokens if token.tag in ['NNG', 'NNP']]\n",
        "    return ' '.join([word for word in nouns if len(word) > 1]) # 뽑은 명사를 말뭉치로 붙임\n",
        "\n",
        "news_df['processed'] = news_df['document'].apply(news_preprocess)\n",
        "news_df.head()"
      ]
    },
    {
      "cell_type": "markdown",
      "metadata": {},
      "source": [
        "벡터화"
      ]
    },
    {
      "cell_type": "code",
      "execution_count": 22,
      "metadata": {},
      "outputs": [],
      "source": [
        "# 1. LDA 토픽 모델링을 위한 DTM(단어 빈도 행렬) 생성\n",
        "# 너무 자주 등장하거나(max_df) 너무 드물게 등장하는(min_df) 단어는 제외합니다.\n",
        "count_vectorizer = CountVectorizer(max_df=0.85, min_df=2)\n",
        "dtm = count_vectorizer.fit_transform(news_df['processed'])"
      ]
    },
    {
      "cell_type": "code",
      "execution_count": 23,
      "metadata": {},
      "outputs": [
        {
          "name": "stdout",
          "output_type": "stream",
          "text": [
            "데이터 준비 및 벡터화 완료.\n",
            "DTM 형태: (12, 5)\n",
            "TF-IDF 행렬 형태: (12, 5)\n",
            "\n",
            "[전처리 후 데이터 샘플]\n",
            "                         document                   processed\n",
            "0  과기부, 데이터-AI 기반 신규 서비스 개발 사업 공모  과기부 데이터 기반 신규 서비스 개발 사업 공모\n",
            "1      구글, 차세대 인공지능 모델 제미나이 프로 공개    구글 차세대 인공지능 모델 제미나 프로 공개\n",
            "2   오픈AI 라이벌 등장, 미스트랄AI 거대언어모델 공개   오픈 라이벌 등장 미스트 거대 언어 모델 공개\n",
            "3  네이버, 생성형 AI 하이퍼클로바X 기술 컨퍼런스 개최    네이버 생성 하이퍼 클로 기술 컨퍼런스 개최\n",
            "4         여야, 내년도 예산안 처리 막판 협상 돌입         내년도 예산안 처리 막판 협상 돌입\n"
          ]
        }
      ],
      "source": [
        "# 2. 군집화를 위한 TF-IDF 행렬 생성\n",
        "tfidf_vectorizer = TfidfVectorizer(max_df=0.85, min_df=2)\n",
        "tfidf_matrix = tfidf_vectorizer.fit_transform(news_df['processed'])\n",
        "\n",
        "print(\"데이터 준비 및 벡터화 완료.\")\n",
        "print(\"DTM 형태:\", dtm.shape)\n",
        "print(\"TF-IDF 행렬 형태:\", tfidf_matrix.shape)\n",
        "print(\"\\n[전처리 후 데이터 샘플]\")\n",
        "print(news_df[['document', 'processed']].head())"
      ]
    },
    {
      "cell_type": "markdown",
      "metadata": {
        "id": "rJC95PoaUiLS"
      },
      "source": [
        "---\n",
        "\n",
        "### 1. 토픽 모델링 (Topic Modeling) with LDA\n",
        "\n",
        "#### 💡 개념 (Concept)\n",
        "\n",
        "**토픽 모델링** 은 대량의 문서 집합에서 숨겨진 주요 주제(Topic)들을 자동으로 발견하는 기술입니다. \n",
        "\n",
        "가장 널리 사용되는 알고리즘 중 하나인 **LDA(Latent Dirichlet Allocation, 잠재 디리클레 할당)** 는 다음과 같은 가정에 기반합니다.\n",
        "\n",
        "* **모든 문서는 여러 토픽의 혼합으로 구성되어 있다.** (예: 한 IT 기사는 70%의 'AI' 토픽과 30%의 '기업' 토픽으로 이루어짐)\n",
        "* **모든 토픽은 여러 단어의 혼합으로 구성되어 있다.** (예: 'AI' 토픽은 '인공지능', '데이터', '모델' 등의 단어를 높은 확률로 포함함)\n",
        "\n",
        "LDA는 이 가정을 바탕으로, 각 문서가 어떤 토픽 분포를 가지는지, 그리고 각 토픽이 어떤 단어 분포를 가지는지를 역으로 추적합니다. \n",
        "\n",
        "우리는 모델에 전체 토픽의 개수(`n_components`)를 미리 알려주어야 합니다.\n",
        "\n",
        "#### 💻 예시 코드 (Example Code)"
      ]
    },
    {
      "cell_type": "code",
      "execution_count": 36,
      "metadata": {
        "id": "G61TBSBmUiLS"
      },
      "outputs": [
        {
          "name": "stdout",
          "output_type": "stream",
          "text": [
            "LDA 토픽별 주요 단어:\n",
            "Topic #1: 모델 공개 프로 리그 처리\n",
            "Topic #2: 처리 프로 리그 모델 공개\n",
            "Topic #3: 리그 프로 처리 모델 공개\n",
            "Topic #4: 프로 리그 처리 모델 공개\n"
          ]
        }
      ],
      "source": [
        "from sklearn.decomposition import LatentDirichletAllocation\n",
        "\n",
        "# LDA 모델 생성 및 학습\n",
        "# n_components는 추출할 토픽의 개수를 의미합니다.\n",
        "# 데이터의 실제 카테고리 수인 4개로 설정해봅니다.\n",
        "lda = LatentDirichletAllocation(n_components=4, random_state=42) # 토픽의 얼마가 적절한지는 실험적으로 확인 1, 2, ... 해봐야 함\n",
        "lda.fit(dtm) # LDA는 TF-IDF가 아닌 DTM(단어 빈도)을 입력으로 받습니다.\n",
        "\n",
        "def display_topics(model, feature_names, n_top_words):\n",
        "    \"\"\"LDA 모델의 토픽별 상위 단어를 출력하는 함수\"\"\"\n",
        "    for topic_idx, topic in enumerate(model.components_):\n",
        "        print(f\"Topic #{topic_idx+1}:\", \" \".join([feature_names[i]\n",
        "                        for i in topic.argsort()[:-n_top_words - 1:-1]]))\n",
        "\n",
        "# 토픽별 상위 5개 단어 출력\n",
        "n_top_words = 5\n",
        "feature_names = count_vectorizer.get_feature_names_out()\n",
        "print(\"LDA 토픽별 주요 단어:\")\n",
        "display_topics(lda, feature_names, n_top_words)\n",
        "\n",
        "# 데이터가 많으면 토픽이 유사한 주제로 모이게 됨"
      ]
    },
    {
      "cell_type": "markdown",
      "metadata": {
        "id": "rgwKF2wuUiLS"
      },
      "source": [
        "#### ✏️ 연습 문제 (Practice Problems)\n",
        "\n",
        "1.  `LatentDirichletAllocation` 모델을 `n_components=3`으로 설정하여 다시 학습시키고, 토픽별 주요 단어의 변화를 관찰해 보세요. 토픽의 개수가 줄어들면서 각 토픽이 어떻게 합쳐지거나 재구성되었나요?\n"
      ]
    },
    {
      "cell_type": "code",
      "execution_count": 25,
      "metadata": {},
      "outputs": [],
      "source": [
        "# 코드 작성\n"
      ]
    },
    {
      "cell_type": "markdown",
      "metadata": {},
      "source": [
        "2.  위 예제에서 `n_components=4`로 학습한 결과(4개의 토픽)를 보고, 각 토픽에 어울리는 이름(예: 'IT/기술', '정치/사회')을 직접 붙여보세요."
      ]
    },
    {
      "cell_type": "code",
      "execution_count": 26,
      "metadata": {},
      "outputs": [],
      "source": [
        "# 코드 작성"
      ]
    },
    {
      "cell_type": "markdown",
      "metadata": {},
      "source": [
        "\n",
        "---\n",
        "\n",
        "### 2. LDA 결과 시각화 (Visualizing LDA with pyLDAvis)\n",
        "\n",
        "#### 💡 개념 (Concept)\n",
        "\n",
        "단어 목록만으로 토픽을 해석하는 것은 때로 어렵습니다. **pyLDAvis**는 LDA 모델의 결과를 인터랙티브 시각화로 보여주는 강력한 도구입니다. 이 시각화는 다음 정보를 제공합니다.\n",
        "\n",
        "* **좌측 (토픽 분포도)**: 각 원은 하나의 토픽을 의미하며, 원의 크기는 해당 토픽의 비중을 나타냅니다. 원 사이의 거리는 토픽 간의 유사도를 보여줍니다. (가까울수록 유사)\n",
        "* **우측 (단어 막대그래프)**: 특정 토픽을 선택했을 때, 해당 토픽을 구성하는 주요 단어들과 그 중요도를 보여줍니다.\n",
        "\n",
        "#### 💻 예시 코드 (Example Code)"
      ]
    },
    {
      "cell_type": "code",
      "execution_count": 27,
      "metadata": {},
      "outputs": [
        {
          "name": "stdout",
          "output_type": "stream",
          "text": [
            "Requirement already satisfied: pyldavis in c:\\users\\admin\\workspace\\analysis_prep\\class\\.venv\\lib\\site-packages (3.4.1)\n",
            "Requirement already satisfied: numpy>=1.24.2 in c:\\users\\admin\\workspace\\analysis_prep\\class\\.venv\\lib\\site-packages (from pyldavis) (1.26.4)\n",
            "Requirement already satisfied: scipy in c:\\users\\admin\\workspace\\analysis_prep\\class\\.venv\\lib\\site-packages (from pyldavis) (1.13.1)\n",
            "Requirement already satisfied: pandas>=2.0.0 in c:\\users\\admin\\workspace\\analysis_prep\\class\\.venv\\lib\\site-packages (from pyldavis) (2.3.0)\n",
            "Requirement already satisfied: joblib>=1.2.0 in c:\\users\\admin\\workspace\\analysis_prep\\class\\.venv\\lib\\site-packages (from pyldavis) (1.5.1)\n",
            "Requirement already satisfied: jinja2 in c:\\users\\admin\\workspace\\analysis_prep\\class\\.venv\\lib\\site-packages (from pyldavis) (3.1.6)\n",
            "Requirement already satisfied: numexpr in c:\\users\\admin\\workspace\\analysis_prep\\class\\.venv\\lib\\site-packages (from pyldavis) (2.11.0)\n",
            "Requirement already satisfied: funcy in c:\\users\\admin\\workspace\\analysis_prep\\class\\.venv\\lib\\site-packages (from pyldavis) (2.0)\n",
            "Requirement already satisfied: scikit-learn>=1.0.0 in c:\\users\\admin\\workspace\\analysis_prep\\class\\.venv\\lib\\site-packages (from pyldavis) (1.7.0)\n",
            "Requirement already satisfied: gensim in c:\\users\\admin\\workspace\\analysis_prep\\class\\.venv\\lib\\site-packages (from pyldavis) (4.3.3)\n",
            "Requirement already satisfied: setuptools in c:\\users\\admin\\workspace\\analysis_prep\\class\\.venv\\lib\\site-packages (from pyldavis) (65.5.0)\n",
            "Requirement already satisfied: python-dateutil>=2.8.2 in c:\\users\\admin\\workspace\\analysis_prep\\class\\.venv\\lib\\site-packages (from pandas>=2.0.0->pyldavis) (2.9.0.post0)\n",
            "Requirement already satisfied: pytz>=2020.1 in c:\\users\\admin\\workspace\\analysis_prep\\class\\.venv\\lib\\site-packages (from pandas>=2.0.0->pyldavis) (2025.2)\n",
            "Requirement already satisfied: tzdata>=2022.7 in c:\\users\\admin\\workspace\\analysis_prep\\class\\.venv\\lib\\site-packages (from pandas>=2.0.0->pyldavis) (2025.2)\n",
            "Requirement already satisfied: threadpoolctl>=3.1.0 in c:\\users\\admin\\workspace\\analysis_prep\\class\\.venv\\lib\\site-packages (from scikit-learn>=1.0.0->pyldavis) (3.6.0)\n",
            "Requirement already satisfied: smart-open>=1.8.1 in c:\\users\\admin\\workspace\\analysis_prep\\class\\.venv\\lib\\site-packages (from gensim->pyldavis) (7.1.0)\n",
            "Requirement already satisfied: MarkupSafe>=2.0 in c:\\users\\admin\\workspace\\analysis_prep\\class\\.venv\\lib\\site-packages (from jinja2->pyldavis) (3.0.2)\n",
            "Requirement already satisfied: six>=1.5 in c:\\users\\admin\\workspace\\analysis_prep\\class\\.venv\\lib\\site-packages (from python-dateutil>=2.8.2->pandas>=2.0.0->pyldavis) (1.17.0)\n",
            "Requirement already satisfied: wrapt in c:\\users\\admin\\workspace\\analysis_prep\\class\\.venv\\lib\\site-packages (from smart-open>=1.8.1->gensim->pyldavis) (1.17.2)\n"
          ]
        },
        {
          "name": "stderr",
          "output_type": "stream",
          "text": [
            "\n",
            "[notice] A new release of pip is available: 24.0 -> 25.1.1\n",
            "[notice] To update, run: python.exe -m pip install --upgrade pip\n"
          ]
        }
      ],
      "source": [
        " !pip install pyldavis"
      ]
    },
    {
      "cell_type": "code",
      "execution_count": 37,
      "metadata": {
        "id": "Zp1ZGa7PUiLS"
      },
      "outputs": [
        {
          "data": {
            "text/html": [
              "\n",
              "<link rel=\"stylesheet\" type=\"text/css\" href=\"https://cdn.jsdelivr.net/gh/bmabey/pyLDAvis@3.4.0/pyLDAvis/js/ldavis.v1.0.0.css\">\n",
              "\n",
              "\n",
              "<div id=\"ldavis_el178522033903201392271737111\" style=\"background-color:white;\"></div>\n",
              "<script type=\"text/javascript\">\n",
              "\n",
              "var ldavis_el178522033903201392271737111_data = {\"mdsDat\": {\"x\": [-0.17121203403479637, 0.0928870626108733, 0.09288705864270723, -0.014562087218783994], \"y\": [2.361717415959158e-09, 0.14135956969701183, -0.14135957147436737, -5.8436201590418e-10], \"topics\": [1, 2, 3, 4], \"cluster\": [1, 1, 1, 1], \"Freq\": [50.5899967221336, 19.79218721382461, 19.79218721321932, 9.825628850822463]}, \"tinfo\": {\"Term\": [\"\\ub9ac\\uadf8\", \"\\ucc98\\ub9ac\", \"\\ud504\\ub85c\", \"\\uacf5\\uac1c\", \"\\ubaa8\\ub378\", \"\\uacf5\\uac1c\", \"\\ubaa8\\ub378\", \"\\ud504\\ub85c\", \"\\ucc98\\ub9ac\", \"\\ub9ac\\uadf8\", \"\\ucc98\\ub9ac\", \"\\ub9ac\\uadf8\", \"\\ud504\\ub85c\", \"\\uacf5\\uac1c\", \"\\ubaa8\\ub378\", \"\\ub9ac\\uadf8\", \"\\ucc98\\ub9ac\", \"\\ud504\\ub85c\", \"\\uacf5\\uac1c\", \"\\ubaa8\\ub378\", \"\\ub9ac\\uadf8\", \"\\ucc98\\ub9ac\", \"\\ud504\\ub85c\", \"\\uacf5\\uac1c\", \"\\ubaa8\\ub378\"], \"Freq\": [1.0, 1.0, 2.0, 2.0, 2.0, 1.5701603972801472, 1.5701603972801472, 1.5693452517782502, 0.1746668129170185, 0.1746668129577978, 1.3693848781317057, 0.15244042262813237, 0.15254867785311338, 0.15242237138475492, 0.15242237138475492, 1.3693848769292352, 0.15244042281279926, 0.1525486781698663, 0.15242237170501596, 0.15242237170501596, 0.19644073629821546, 0.19644073125238593, 0.19695298915452256, 0.19636421418856126, 0.19636421418856126], \"Total\": [1.0, 1.0, 2.0, 2.0, 2.0, 2.0713693545584793, 2.0713693545584793, 2.0713955969557527, 1.8929328451139096, 1.8929328488133808, 1.8929328451139096, 1.8929328488133808, 2.0713955969557527, 2.0713693545584793, 2.0713693545584793, 1.8929328488133808, 1.8929328451139096, 2.0713955969557527, 2.0713693545584793, 2.0713693545584793, 1.8929328488133808, 1.8929328451139096, 2.0713955969557527, 2.0713693545584793, 2.0713693545584793], \"Category\": [\"Default\", \"Default\", \"Default\", \"Default\", \"Default\", \"Topic1\", \"Topic1\", \"Topic1\", \"Topic1\", \"Topic1\", \"Topic2\", \"Topic2\", \"Topic2\", \"Topic2\", \"Topic2\", \"Topic3\", \"Topic3\", \"Topic3\", \"Topic3\", \"Topic3\", \"Topic4\", \"Topic4\", \"Topic4\", \"Topic4\", \"Topic4\"], \"logprob\": [5.0, 4.0, 3.0, 2.0, 1.0, -1.17, -1.17, -1.1705, -3.366, -3.366, -0.3683, -2.5637, -2.563, -2.5638, -2.5638, -0.3683, -2.5637, -2.563, -2.5638, -2.5638, -1.6098, -1.6098, -1.6072, -1.6102, -1.6102], \"loglift\": [5.0, 4.0, 3.0, 2.0, 1.0, 0.4044, 0.4044, 0.4039, -1.7016, -1.7016, 1.2961, -0.8992, -0.9886, -0.9894, -0.9894, 1.2961, -0.8992, -0.9886, -0.9894, -0.9894, 0.0547, 0.0547, -0.0328, -0.0358, -0.0358]}, \"token.table\": {\"Topic\": [1, 3, 1, 2, 1], \"Freq\": [0.9655448438486279, 0.5282807578868253, 0.9655448438486279, 0.5282807589192757, 0.9655326114139279], \"Term\": [\"\\uacf5\\uac1c\", \"\\ub9ac\\uadf8\", \"\\ubaa8\\ub378\", \"\\ucc98\\ub9ac\", \"\\ud504\\ub85c\"]}, \"R\": 5, \"lambda.step\": 0.01, \"plot.opts\": {\"xlab\": \"PC1\", \"ylab\": \"PC2\"}, \"topic.order\": [1, 2, 3, 4]};\n",
              "\n",
              "function LDAvis_load_lib(url, callback){\n",
              "  var s = document.createElement('script');\n",
              "  s.src = url;\n",
              "  s.async = true;\n",
              "  s.onreadystatechange = s.onload = callback;\n",
              "  s.onerror = function(){console.warn(\"failed to load library \" + url);};\n",
              "  document.getElementsByTagName(\"head\")[0].appendChild(s);\n",
              "}\n",
              "\n",
              "if(typeof(LDAvis) !== \"undefined\"){\n",
              "   // already loaded: just create the visualization\n",
              "   !function(LDAvis){\n",
              "       new LDAvis(\"#\" + \"ldavis_el178522033903201392271737111\", ldavis_el178522033903201392271737111_data);\n",
              "   }(LDAvis);\n",
              "}else if(typeof define === \"function\" && define.amd){\n",
              "   // require.js is available: use it to load d3/LDAvis\n",
              "   require.config({paths: {d3: \"https://d3js.org/d3.v5\"}});\n",
              "   require([\"d3\"], function(d3){\n",
              "      window.d3 = d3;\n",
              "      LDAvis_load_lib(\"https://cdn.jsdelivr.net/gh/bmabey/pyLDAvis@3.4.0/pyLDAvis/js/ldavis.v3.0.0.js\", function(){\n",
              "        new LDAvis(\"#\" + \"ldavis_el178522033903201392271737111\", ldavis_el178522033903201392271737111_data);\n",
              "      });\n",
              "    });\n",
              "}else{\n",
              "    // require.js not available: dynamically load d3 & LDAvis\n",
              "    LDAvis_load_lib(\"https://d3js.org/d3.v5.js\", function(){\n",
              "         LDAvis_load_lib(\"https://cdn.jsdelivr.net/gh/bmabey/pyLDAvis@3.4.0/pyLDAvis/js/ldavis.v3.0.0.js\", function(){\n",
              "                 new LDAvis(\"#\" + \"ldavis_el178522033903201392271737111\", ldavis_el178522033903201392271737111_data);\n",
              "            })\n",
              "         });\n",
              "}\n",
              "</script>"
            ],
            "text/plain": [
              "<IPython.core.display.HTML object>"
            ]
          },
          "execution_count": 37,
          "metadata": {},
          "output_type": "execute_result"
        }
      ],
      "source": [
        "import pyLDAvis\n",
        "import pyLDAvis.lda_model\n",
        "\n",
        "# pyLDAvis를 위한 데이터 준비\n",
        "# 이전에 n_components=4로 학습한 lda_model, dtm, count_vectorizer를 사용합니다.\n",
        "pyLDAvis.enable_notebook()\n",
        "vis = pyLDAvis.lda_model.prepare(lda, dtm, count_vectorizer)\n",
        "pyLDAvis.display(vis)"
      ]
    },
    {
      "cell_type": "markdown",
      "metadata": {
        "id": "ewCzGLEuUiLS"
      },
      "source": [
        "#### ✏️ 연습 문제 (Practice Problems)\n",
        "\n",
        "1.  위에서 생성된 `pyLDAvis` 시각화 결과에서, 1번 토픽(Topic 1) 원을 클릭해 보세요. 우측 막대그래프에 나타나는 주요 단어들은 무엇인가요? "
      ]
    },
    {
      "cell_type": "markdown",
      "metadata": {},
      "source": [
        "> 공개, 모델, 프로"
      ]
    },
    {
      "cell_type": "markdown",
      "metadata": {},
      "source": [
        "  2.  우측 상단의 슬라이더 `λ`(람다) 값을 0에 가깝게, 그리고 1에 가깝게 조절해 보세요. `λ=0`일 때와 `λ=1`일 때 나타나는 단어 목록의 특징은 각각 무엇인지 설명해 보세요. (힌트: `λ=0`은 토픽 내 단어 빈도, `λ=1`은 토픽 고유 단어에 가중치를 둡니다.)"
      ]
    },
    {
      "cell_type": "markdown",
      "metadata": {},
      "source": [
        "> 작성해보기"
      ]
    },
    {
      "cell_type": "markdown",
      "metadata": {},
      "source": [
        "\n",
        "---\n",
        "\n",
        "### 3. 텍스트 군집화 (Text Clustering) with K-Means\n",
        "\n",
        "#### 💡 개념 (Concept)\n",
        "\n",
        "**군집화(Clustering)** 는 레이블이 없는 문서들을 내용의 유사도에 따라 여러 개의 그룹(군집, Cluster)으로 묶는 작업입니다. **K-평균(K-Means)** 알고리즘은 가장 대중적인 군집화 방법 중 하나입니다.\n",
        "\n",
        "1.  먼저, 우리가 지정한 K개의 임의의 중심점(Centroid)을 설정합니다.\n",
        "2.  모든 문서는 K개의 중심점 중 가장 가까운 곳에 소속됩니다.\n",
        "3.  각 군집의 평균 위치로 중심점을 이동시킵니다.\n",
        "4.  중심점의 위치에 더 이상 변화가 없을 때까지 2~3번 과정을 반복합니다.\n",
        "\n",
        "이때 문서 간의 거리는 보통 TF-IDF 벡터를 이용하여 계산합니다."
      ]
    },
    {
      "cell_type": "markdown",
      "metadata": {},
      "source": [
        "\n",
        "#### 💻 예시 코드 (Example Code)"
      ]
    },
    {
      "cell_type": "code",
      "execution_count": 38,
      "metadata": {
        "id": "NE7R7l34UiLS"
      },
      "outputs": [
        {
          "name": "stdout",
          "output_type": "stream",
          "text": [
            "문서별 군집 할당 결과:\n",
            "                          document category  cluster_id\n",
            "4          여야, 내년도 예산안 처리 막판 협상 돌입       정치           0\n",
            "6              국회, 본회의 열어 법안 처리 예정       정치           0\n",
            "0   과기부, 데이터-AI 기반 신규 서비스 개발 사업 공모       IT           1\n",
            "3   네이버, 생성형 AI 하이퍼클로바X 기술 컨퍼런스 개최       IT           1\n",
            "5       대통령, 국무회의 주재하며 민생 안정 대책 논의       정치           1\n",
            "10          한국은행, 기준금리 3.5%로 동결 결정       경제           1\n",
            "11       코스피, 외인 매수세에 힘입어 소폭 상승 마감       경제           1\n",
            "1       구글, 차세대 인공지능 모델 제미나이 프로 공개       IT           2\n",
            "2    오픈AI 라이벌 등장, 미스트랄AI 거대언어모델 공개       IT           2\n",
            "8            프로농구 플레이오프, 4강 대진표 확정      스포츠           2\n",
            "7       손흥민, 리그 10호골 기록하며 팀 승리 이끌어      스포츠           3\n",
            "9       이정후, 메이저리그 샌프란시스코 자이언츠와 계약      스포츠           3\n"
          ]
        }
      ],
      "source": [
        "from sklearn.cluster import KMeans\n",
        "\n",
        "# K-Means 군집화 수행\n",
        "# n_clusters는 생성할 군집의 개수입니다. 샘플 데이터의 카테고리 수와 동일하게 4로 설정합니다.\n",
        "kmeans = KMeans(n_clusters=4, random_state=42, n_init='auto') # n_init 기본값이 'auto'로 변경되었습니다.\n",
        "kmeans.fit(tfidf_matrix) # 군집화는 보통 TF-IDF 행렬을 사용합니다.\n",
        "\n",
        "# 각 문서가 어떤 군집에 속하는지 확인\n",
        "news_df['cluster_id'] = kmeans.labels_\n",
        "print(\"문서별 군집 할당 결과:\")\n",
        "print(news_df[['document', 'category', 'cluster_id']].sort_values(by='cluster_id'))"
      ]
    },
    {
      "cell_type": "markdown",
      "metadata": {
        "id": "tvHJ34UBUiLS"
      },
      "source": [
        "#### ✏️ 연습 문제 (Practice Problems)\n",
        "\n",
        "1.  `KMeans` 모델을 `n_clusters=3`으로 설정하여 다시 군집화를 수행해 보세요. 기존의 4개 카테고리가 3개의 군집으로 어떻게 재편성되었는지 결과를 확인하고 분석해 보세요."
      ]
    },
    {
      "cell_type": "code",
      "execution_count": 30,
      "metadata": {},
      "outputs": [],
      "source": [
        "# 코드 작성"
      ]
    },
    {
      "cell_type": "markdown",
      "metadata": {},
      "source": [
        "2.  각 군집의 중심(centroid)에 가장 가까운 단어들을 찾아, 각 군집의 특징을 파악해 보세요. (힌트: `kmeans.cluster_centers_`는 각 군집의 중심 벡터입니다. `argsort()`를 사용하여 각 중심 벡터에서 값이 가장 큰 단어의 인덱스를 찾고, 이를 `tfidf_vectorizer.get_feature_names_out()`에 매핑할 수 있습니다.)\n"
      ]
    },
    {
      "cell_type": "code",
      "execution_count": 31,
      "metadata": {},
      "outputs": [],
      "source": [
        "# 코드 작성"
      ]
    },
    {
      "cell_type": "markdown",
      "metadata": {},
      "source": [
        "---\n",
        "\n",
        "### 4. 군집 결과 시각화 (Visualizing Clustering Results)\n",
        "\n",
        "#### 💡 개념 (Concept)\n",
        "\n",
        "수천 차원의 TF-IDF 벡터를 직접 시각화하는 것은 불가능합니다. \n",
        "\n",
        "따라서 **차원 축소(Dimensionality Reduction)** 기법을 사용하여 고차원 벡터를 2차원으로 압축한 뒤, \n",
        "\n",
        "산점도(Scatter Plot)로 시각화합니다. \n",
        "\n",
        "**t-SNE(t-Distributed Stochastic Neighbor Embedding)** 는 고차원 데이터의 지역적 구조를 잘 보존하면서 2차원으로 변환하는 비선형 차원 축소 기법으로, 특히 군집화 결과를 시각화할 때 매우 효과적입니다.\n",
        "\n",
        "#### 💻 예시 코드 (Example Code)"
      ]
    },
    {
      "cell_type": "code",
      "execution_count": 39,
      "metadata": {
        "id": "fvOJrjAbUiLS"
      },
      "outputs": [
        {
          "data": {
            "application/vnd.plotly.v1+json": {
              "config": {
                "plotlyServerURL": "https://plot.ly"
              },
              "data": [
                {
                  "customdata": [
                    [
                      "과기부, 데이터-AI 기반 신규 서비스 개발 사업 공모",
                      "IT"
                    ],
                    [
                      "구글, 차세대 인공지능 모델 제미나이 프로 공개",
                      "IT"
                    ],
                    [
                      "오픈AI 라이벌 등장, 미스트랄AI 거대언어모델 공개",
                      "IT"
                    ],
                    [
                      "네이버, 생성형 AI 하이퍼클로바X 기술 컨퍼런스 개최",
                      "IT"
                    ],
                    [
                      "여야, 내년도 예산안 처리 막판 협상 돌입",
                      "정치"
                    ],
                    [
                      "대통령, 국무회의 주재하며 민생 안정 대책 논의",
                      "정치"
                    ],
                    [
                      "국회, 본회의 열어 법안 처리 예정",
                      "정치"
                    ],
                    [
                      "손흥민, 리그 10호골 기록하며 팀 승리 이끌어",
                      "스포츠"
                    ],
                    [
                      "프로농구 플레이오프, 4강 대진표 확정",
                      "스포츠"
                    ],
                    [
                      "이정후, 메이저리그 샌프란시스코 자이언츠와 계약",
                      "스포츠"
                    ],
                    [
                      "한국은행, 기준금리 3.5%로 동결 결정",
                      "경제"
                    ],
                    [
                      "코스피, 외인 매수세에 힘입어 소폭 상승 마감",
                      "경제"
                    ]
                  ],
                  "hovertemplate": "t-SNE Component 1=%{x}<br>t-SNE Component 2=%{y}<br>document=%{customdata[0]}<br>category=%{customdata[1]}<br>군집 ID=%{marker.color}<extra></extra>",
                  "legendgroup": "",
                  "marker": {
                    "color": {
                      "bdata": "AQAAAAIAAAACAAAAAQAAAAAAAAABAAAAAAAAAAMAAAACAAAAAwAAAAEAAAABAAAA",
                      "dtype": "i4"
                    },
                    "coloraxis": "coloraxis",
                    "symbol": "circle"
                  },
                  "mode": "markers",
                  "name": "",
                  "orientation": "v",
                  "showlegend": false,
                  "type": "scatter",
                  "x": {
                    "bdata": "dk+7wzsPvsP/sCBCdk+7w4tWHsTXcY9DSKNzww+8uES/g2bED7y4RNdxj0PXcY9D",
                    "dtype": "f4"
                  },
                  "xaxis": "x",
                  "y": {
                    "bdata": "FTJawk/hrETIUrtEFTJawi9AlsQLfRJD7OqpxJxtqsOiMohEnG2qwwt9EkMLfRJD",
                    "dtype": "f4"
                  },
                  "yaxis": "y"
                }
              ],
              "layout": {
                "coloraxis": {
                  "colorbar": {
                    "title": {
                      "text": "군집 ID"
                    }
                  },
                  "colorscale": [
                    [
                      0,
                      "#0d0887"
                    ],
                    [
                      0.1111111111111111,
                      "#46039f"
                    ],
                    [
                      0.2222222222222222,
                      "#7201a8"
                    ],
                    [
                      0.3333333333333333,
                      "#9c179e"
                    ],
                    [
                      0.4444444444444444,
                      "#bd3786"
                    ],
                    [
                      0.5555555555555556,
                      "#d8576b"
                    ],
                    [
                      0.6666666666666666,
                      "#ed7953"
                    ],
                    [
                      0.7777777777777778,
                      "#fb9f3a"
                    ],
                    [
                      0.8888888888888888,
                      "#fdca26"
                    ],
                    [
                      1,
                      "#f0f921"
                    ]
                  ]
                },
                "legend": {
                  "tracegroupgap": 0
                },
                "template": {
                  "data": {
                    "bar": [
                      {
                        "error_x": {
                          "color": "#2a3f5f"
                        },
                        "error_y": {
                          "color": "#2a3f5f"
                        },
                        "marker": {
                          "line": {
                            "color": "#E5ECF6",
                            "width": 0.5
                          },
                          "pattern": {
                            "fillmode": "overlay",
                            "size": 10,
                            "solidity": 0.2
                          }
                        },
                        "type": "bar"
                      }
                    ],
                    "barpolar": [
                      {
                        "marker": {
                          "line": {
                            "color": "#E5ECF6",
                            "width": 0.5
                          },
                          "pattern": {
                            "fillmode": "overlay",
                            "size": 10,
                            "solidity": 0.2
                          }
                        },
                        "type": "barpolar"
                      }
                    ],
                    "carpet": [
                      {
                        "aaxis": {
                          "endlinecolor": "#2a3f5f",
                          "gridcolor": "white",
                          "linecolor": "white",
                          "minorgridcolor": "white",
                          "startlinecolor": "#2a3f5f"
                        },
                        "baxis": {
                          "endlinecolor": "#2a3f5f",
                          "gridcolor": "white",
                          "linecolor": "white",
                          "minorgridcolor": "white",
                          "startlinecolor": "#2a3f5f"
                        },
                        "type": "carpet"
                      }
                    ],
                    "choropleth": [
                      {
                        "colorbar": {
                          "outlinewidth": 0,
                          "ticks": ""
                        },
                        "type": "choropleth"
                      }
                    ],
                    "contour": [
                      {
                        "colorbar": {
                          "outlinewidth": 0,
                          "ticks": ""
                        },
                        "colorscale": [
                          [
                            0,
                            "#0d0887"
                          ],
                          [
                            0.1111111111111111,
                            "#46039f"
                          ],
                          [
                            0.2222222222222222,
                            "#7201a8"
                          ],
                          [
                            0.3333333333333333,
                            "#9c179e"
                          ],
                          [
                            0.4444444444444444,
                            "#bd3786"
                          ],
                          [
                            0.5555555555555556,
                            "#d8576b"
                          ],
                          [
                            0.6666666666666666,
                            "#ed7953"
                          ],
                          [
                            0.7777777777777778,
                            "#fb9f3a"
                          ],
                          [
                            0.8888888888888888,
                            "#fdca26"
                          ],
                          [
                            1,
                            "#f0f921"
                          ]
                        ],
                        "type": "contour"
                      }
                    ],
                    "contourcarpet": [
                      {
                        "colorbar": {
                          "outlinewidth": 0,
                          "ticks": ""
                        },
                        "type": "contourcarpet"
                      }
                    ],
                    "heatmap": [
                      {
                        "colorbar": {
                          "outlinewidth": 0,
                          "ticks": ""
                        },
                        "colorscale": [
                          [
                            0,
                            "#0d0887"
                          ],
                          [
                            0.1111111111111111,
                            "#46039f"
                          ],
                          [
                            0.2222222222222222,
                            "#7201a8"
                          ],
                          [
                            0.3333333333333333,
                            "#9c179e"
                          ],
                          [
                            0.4444444444444444,
                            "#bd3786"
                          ],
                          [
                            0.5555555555555556,
                            "#d8576b"
                          ],
                          [
                            0.6666666666666666,
                            "#ed7953"
                          ],
                          [
                            0.7777777777777778,
                            "#fb9f3a"
                          ],
                          [
                            0.8888888888888888,
                            "#fdca26"
                          ],
                          [
                            1,
                            "#f0f921"
                          ]
                        ],
                        "type": "heatmap"
                      }
                    ],
                    "histogram": [
                      {
                        "marker": {
                          "pattern": {
                            "fillmode": "overlay",
                            "size": 10,
                            "solidity": 0.2
                          }
                        },
                        "type": "histogram"
                      }
                    ],
                    "histogram2d": [
                      {
                        "colorbar": {
                          "outlinewidth": 0,
                          "ticks": ""
                        },
                        "colorscale": [
                          [
                            0,
                            "#0d0887"
                          ],
                          [
                            0.1111111111111111,
                            "#46039f"
                          ],
                          [
                            0.2222222222222222,
                            "#7201a8"
                          ],
                          [
                            0.3333333333333333,
                            "#9c179e"
                          ],
                          [
                            0.4444444444444444,
                            "#bd3786"
                          ],
                          [
                            0.5555555555555556,
                            "#d8576b"
                          ],
                          [
                            0.6666666666666666,
                            "#ed7953"
                          ],
                          [
                            0.7777777777777778,
                            "#fb9f3a"
                          ],
                          [
                            0.8888888888888888,
                            "#fdca26"
                          ],
                          [
                            1,
                            "#f0f921"
                          ]
                        ],
                        "type": "histogram2d"
                      }
                    ],
                    "histogram2dcontour": [
                      {
                        "colorbar": {
                          "outlinewidth": 0,
                          "ticks": ""
                        },
                        "colorscale": [
                          [
                            0,
                            "#0d0887"
                          ],
                          [
                            0.1111111111111111,
                            "#46039f"
                          ],
                          [
                            0.2222222222222222,
                            "#7201a8"
                          ],
                          [
                            0.3333333333333333,
                            "#9c179e"
                          ],
                          [
                            0.4444444444444444,
                            "#bd3786"
                          ],
                          [
                            0.5555555555555556,
                            "#d8576b"
                          ],
                          [
                            0.6666666666666666,
                            "#ed7953"
                          ],
                          [
                            0.7777777777777778,
                            "#fb9f3a"
                          ],
                          [
                            0.8888888888888888,
                            "#fdca26"
                          ],
                          [
                            1,
                            "#f0f921"
                          ]
                        ],
                        "type": "histogram2dcontour"
                      }
                    ],
                    "mesh3d": [
                      {
                        "colorbar": {
                          "outlinewidth": 0,
                          "ticks": ""
                        },
                        "type": "mesh3d"
                      }
                    ],
                    "parcoords": [
                      {
                        "line": {
                          "colorbar": {
                            "outlinewidth": 0,
                            "ticks": ""
                          }
                        },
                        "type": "parcoords"
                      }
                    ],
                    "pie": [
                      {
                        "automargin": true,
                        "type": "pie"
                      }
                    ],
                    "scatter": [
                      {
                        "fillpattern": {
                          "fillmode": "overlay",
                          "size": 10,
                          "solidity": 0.2
                        },
                        "type": "scatter"
                      }
                    ],
                    "scatter3d": [
                      {
                        "line": {
                          "colorbar": {
                            "outlinewidth": 0,
                            "ticks": ""
                          }
                        },
                        "marker": {
                          "colorbar": {
                            "outlinewidth": 0,
                            "ticks": ""
                          }
                        },
                        "type": "scatter3d"
                      }
                    ],
                    "scattercarpet": [
                      {
                        "marker": {
                          "colorbar": {
                            "outlinewidth": 0,
                            "ticks": ""
                          }
                        },
                        "type": "scattercarpet"
                      }
                    ],
                    "scattergeo": [
                      {
                        "marker": {
                          "colorbar": {
                            "outlinewidth": 0,
                            "ticks": ""
                          }
                        },
                        "type": "scattergeo"
                      }
                    ],
                    "scattergl": [
                      {
                        "marker": {
                          "colorbar": {
                            "outlinewidth": 0,
                            "ticks": ""
                          }
                        },
                        "type": "scattergl"
                      }
                    ],
                    "scattermap": [
                      {
                        "marker": {
                          "colorbar": {
                            "outlinewidth": 0,
                            "ticks": ""
                          }
                        },
                        "type": "scattermap"
                      }
                    ],
                    "scattermapbox": [
                      {
                        "marker": {
                          "colorbar": {
                            "outlinewidth": 0,
                            "ticks": ""
                          }
                        },
                        "type": "scattermapbox"
                      }
                    ],
                    "scatterpolar": [
                      {
                        "marker": {
                          "colorbar": {
                            "outlinewidth": 0,
                            "ticks": ""
                          }
                        },
                        "type": "scatterpolar"
                      }
                    ],
                    "scatterpolargl": [
                      {
                        "marker": {
                          "colorbar": {
                            "outlinewidth": 0,
                            "ticks": ""
                          }
                        },
                        "type": "scatterpolargl"
                      }
                    ],
                    "scatterternary": [
                      {
                        "marker": {
                          "colorbar": {
                            "outlinewidth": 0,
                            "ticks": ""
                          }
                        },
                        "type": "scatterternary"
                      }
                    ],
                    "surface": [
                      {
                        "colorbar": {
                          "outlinewidth": 0,
                          "ticks": ""
                        },
                        "colorscale": [
                          [
                            0,
                            "#0d0887"
                          ],
                          [
                            0.1111111111111111,
                            "#46039f"
                          ],
                          [
                            0.2222222222222222,
                            "#7201a8"
                          ],
                          [
                            0.3333333333333333,
                            "#9c179e"
                          ],
                          [
                            0.4444444444444444,
                            "#bd3786"
                          ],
                          [
                            0.5555555555555556,
                            "#d8576b"
                          ],
                          [
                            0.6666666666666666,
                            "#ed7953"
                          ],
                          [
                            0.7777777777777778,
                            "#fb9f3a"
                          ],
                          [
                            0.8888888888888888,
                            "#fdca26"
                          ],
                          [
                            1,
                            "#f0f921"
                          ]
                        ],
                        "type": "surface"
                      }
                    ],
                    "table": [
                      {
                        "cells": {
                          "fill": {
                            "color": "#EBF0F8"
                          },
                          "line": {
                            "color": "white"
                          }
                        },
                        "header": {
                          "fill": {
                            "color": "#C8D4E3"
                          },
                          "line": {
                            "color": "white"
                          }
                        },
                        "type": "table"
                      }
                    ]
                  },
                  "layout": {
                    "annotationdefaults": {
                      "arrowcolor": "#2a3f5f",
                      "arrowhead": 0,
                      "arrowwidth": 1
                    },
                    "autotypenumbers": "strict",
                    "coloraxis": {
                      "colorbar": {
                        "outlinewidth": 0,
                        "ticks": ""
                      }
                    },
                    "colorscale": {
                      "diverging": [
                        [
                          0,
                          "#8e0152"
                        ],
                        [
                          0.1,
                          "#c51b7d"
                        ],
                        [
                          0.2,
                          "#de77ae"
                        ],
                        [
                          0.3,
                          "#f1b6da"
                        ],
                        [
                          0.4,
                          "#fde0ef"
                        ],
                        [
                          0.5,
                          "#f7f7f7"
                        ],
                        [
                          0.6,
                          "#e6f5d0"
                        ],
                        [
                          0.7,
                          "#b8e186"
                        ],
                        [
                          0.8,
                          "#7fbc41"
                        ],
                        [
                          0.9,
                          "#4d9221"
                        ],
                        [
                          1,
                          "#276419"
                        ]
                      ],
                      "sequential": [
                        [
                          0,
                          "#0d0887"
                        ],
                        [
                          0.1111111111111111,
                          "#46039f"
                        ],
                        [
                          0.2222222222222222,
                          "#7201a8"
                        ],
                        [
                          0.3333333333333333,
                          "#9c179e"
                        ],
                        [
                          0.4444444444444444,
                          "#bd3786"
                        ],
                        [
                          0.5555555555555556,
                          "#d8576b"
                        ],
                        [
                          0.6666666666666666,
                          "#ed7953"
                        ],
                        [
                          0.7777777777777778,
                          "#fb9f3a"
                        ],
                        [
                          0.8888888888888888,
                          "#fdca26"
                        ],
                        [
                          1,
                          "#f0f921"
                        ]
                      ],
                      "sequentialminus": [
                        [
                          0,
                          "#0d0887"
                        ],
                        [
                          0.1111111111111111,
                          "#46039f"
                        ],
                        [
                          0.2222222222222222,
                          "#7201a8"
                        ],
                        [
                          0.3333333333333333,
                          "#9c179e"
                        ],
                        [
                          0.4444444444444444,
                          "#bd3786"
                        ],
                        [
                          0.5555555555555556,
                          "#d8576b"
                        ],
                        [
                          0.6666666666666666,
                          "#ed7953"
                        ],
                        [
                          0.7777777777777778,
                          "#fb9f3a"
                        ],
                        [
                          0.8888888888888888,
                          "#fdca26"
                        ],
                        [
                          1,
                          "#f0f921"
                        ]
                      ]
                    },
                    "colorway": [
                      "#636efa",
                      "#EF553B",
                      "#00cc96",
                      "#ab63fa",
                      "#FFA15A",
                      "#19d3f3",
                      "#FF6692",
                      "#B6E880",
                      "#FF97FF",
                      "#FECB52"
                    ],
                    "font": {
                      "color": "#2a3f5f"
                    },
                    "geo": {
                      "bgcolor": "white",
                      "lakecolor": "white",
                      "landcolor": "#E5ECF6",
                      "showlakes": true,
                      "showland": true,
                      "subunitcolor": "white"
                    },
                    "hoverlabel": {
                      "align": "left"
                    },
                    "hovermode": "closest",
                    "mapbox": {
                      "style": "light"
                    },
                    "paper_bgcolor": "white",
                    "plot_bgcolor": "#E5ECF6",
                    "polar": {
                      "angularaxis": {
                        "gridcolor": "white",
                        "linecolor": "white",
                        "ticks": ""
                      },
                      "bgcolor": "#E5ECF6",
                      "radialaxis": {
                        "gridcolor": "white",
                        "linecolor": "white",
                        "ticks": ""
                      }
                    },
                    "scene": {
                      "xaxis": {
                        "backgroundcolor": "#E5ECF6",
                        "gridcolor": "white",
                        "gridwidth": 2,
                        "linecolor": "white",
                        "showbackground": true,
                        "ticks": "",
                        "zerolinecolor": "white"
                      },
                      "yaxis": {
                        "backgroundcolor": "#E5ECF6",
                        "gridcolor": "white",
                        "gridwidth": 2,
                        "linecolor": "white",
                        "showbackground": true,
                        "ticks": "",
                        "zerolinecolor": "white"
                      },
                      "zaxis": {
                        "backgroundcolor": "#E5ECF6",
                        "gridcolor": "white",
                        "gridwidth": 2,
                        "linecolor": "white",
                        "showbackground": true,
                        "ticks": "",
                        "zerolinecolor": "white"
                      }
                    },
                    "shapedefaults": {
                      "line": {
                        "color": "#2a3f5f"
                      }
                    },
                    "ternary": {
                      "aaxis": {
                        "gridcolor": "white",
                        "linecolor": "white",
                        "ticks": ""
                      },
                      "baxis": {
                        "gridcolor": "white",
                        "linecolor": "white",
                        "ticks": ""
                      },
                      "bgcolor": "#E5ECF6",
                      "caxis": {
                        "gridcolor": "white",
                        "linecolor": "white",
                        "ticks": ""
                      }
                    },
                    "title": {
                      "x": 0.05
                    },
                    "xaxis": {
                      "automargin": true,
                      "gridcolor": "white",
                      "linecolor": "white",
                      "ticks": "",
                      "title": {
                        "standoff": 15
                      },
                      "zerolinecolor": "white",
                      "zerolinewidth": 2
                    },
                    "yaxis": {
                      "automargin": true,
                      "gridcolor": "white",
                      "linecolor": "white",
                      "ticks": "",
                      "title": {
                        "standoff": 15
                      },
                      "zerolinecolor": "white",
                      "zerolinewidth": 2
                    }
                  }
                },
                "title": {
                  "text": "K-Means 군집화 결과 (2D t-SNE)"
                },
                "xaxis": {
                  "anchor": "y",
                  "domain": [
                    0,
                    1
                  ],
                  "title": {
                    "text": "t-SNE Component 1"
                  }
                },
                "yaxis": {
                  "anchor": "x",
                  "domain": [
                    0,
                    1
                  ],
                  "title": {
                    "text": "t-SNE Component 2"
                  }
                }
              }
            }
          },
          "metadata": {},
          "output_type": "display_data"
        }
      ],
      "source": [
        "from sklearn.manifold import TSNE\n",
        "import plotly.express as px\n",
        "\n",
        "# t-SNE를 사용하여 2차원으로 차원 축소\n",
        "tsne = TSNE(n_components=2, random_state=42, perplexity=3)\n",
        "tsne_components = tsne.fit_transform(tfidf_matrix.toarray())\n",
        "\n",
        "# 데이터프레임에 t-SNE 결과 추가\n",
        "news_df['tsne_x'] = tsne_components[:, 0]\n",
        "news_df['tsne_y'] = tsne_components[:, 1]\n",
        "\n",
        "# 인터랙티브 산점도 시각화\n",
        "fig = px.scatter(news_df,\n",
        "                 x='tsne_x',\n",
        "                 y='tsne_y',\n",
        "                 color='cluster_id',\n",
        "                 hover_data=['document', 'category'],\n",
        "                 title='K-Means 군집화 결과 (2D t-SNE)',\n",
        "                 labels={'tsne_x': 't-SNE Component 1', 'tsne_y': 't-SNE Component 2', 'cluster_id': '군집 ID'}\n",
        ")\n",
        "fig.show()"
      ]
    },
    {
      "cell_type": "markdown",
      "metadata": {
        "id": "91ddu8IOUiLS"
      },
      "source": [
        "#### ✏️ 연습 문제 (Practice Problems)\n",
        "\n",
        "1.  PCA 대신 또 다른 차원 축소 기법인 **t-SNE** (`sklearn.manifold.TSNE`)를 사용하여 2차원으로 축소하고, 그 결과를 산점도로 시각화해 보세요. PCA 결과와 어떤 차이가 있는지 비교해 보세요.\n"
      ]
    },
    {
      "cell_type": "code",
      "execution_count": 33,
      "metadata": {},
      "outputs": [],
      "source": [
        "# 코드 작성"
      ]
    },
    {
      "cell_type": "markdown",
      "metadata": {},
      "source": [
        "2.  위 예시 코드의 `px.scatter`에서 `color` 인자를 `'cluster_id'` 대신 실제 카테고리인 `'category'`로 변경하여 시각화해 보세요. K-Means가 얼마나 실제 카테고리를 잘 분리해냈는지 시각적으로 확인할 수 있습니다."
      ]
    },
    {
      "cell_type": "code",
      "execution_count": 34,
      "metadata": {},
      "outputs": [],
      "source": [
        "# 코드 작성"
      ]
    },
    {
      "cell_type": "markdown",
      "metadata": {},
      "source": [
        "\n",
        "---\n"
      ]
    },
    {
      "cell_type": "markdown",
      "metadata": {},
      "source": [
        "### 🏆 최종 실습 과제: 실제 도서 리뷰 데이터로 숨은 목소리 찾기\n",
        "\n",
        "지금까지 배운 토픽 모델링과 군집화 기법을 실제 데이터에 적용하여 독자들이 남긴 리뷰 속에 숨겨진 다양한 목소리와 주제를 발견해 봅시다.\n",
        "\n",
        "**과제 목표:**\n",
        "교보문고의 특정 베스트셀러 도서에 대한 리뷰를 직접 수집(크롤링)하고, 비지도 학습을 통해 리뷰들을 주제별로 묶고(토픽 모델링), 비슷한 내용의 리뷰들을 그룹화(군집화)하여 인사이트를 도출합니다.\n",
        "\n",
        "#### 📚 1단계: 데이터 수집 (웹 크롤링)\n",
        "\n",
        "먼저 분석할 리뷰 데이터를 수집해야 합니다. 제가 알려드리는 방식으로 수집을 해보세요(별도 교육)\n",
        "\n",
        "* **대상 도서:** 밑바닥부터 시작하는 딥러닝\n",
        "* **대상 URL:** `https://product.kyobobook.co.kr/detail/S000001057805`\n",
        "* **수집 내용:** 리뷰 텍스트"
      ]
    },
    {
      "cell_type": "code",
      "execution_count": 35,
      "metadata": {},
      "outputs": [],
      "source": [
        "# 웹 크롤링을 위한 예시 코드\n",
        "import requests\n",
        "import pandas as pd\n",
        "\n",
        "# 리뷰 수집\n",
        "\n",
        "# Kiwipiepy를 사용하여 명사만 추출합니다.\n",
        "kiwi = Kiwi()"
      ]
    },
    {
      "cell_type": "code",
      "execution_count": null,
      "metadata": {},
      "outputs": [
        {
          "name": "stdout",
          "output_type": "stream",
          "text": [
            "교보문고 '밑바닥부터 시작하는 딥러닝' 리뷰 수집 시작...\n",
            "페이지 1 수집 완료 - 현재까지 0개 리뷰\n",
            "페이지 2 수집 완료 - 현재까지 0개 리뷰\n",
            "페이지 3 수집 완료 - 현재까지 0개 리뷰\n",
            "페이지 4 수집 완료 - 현재까지 0개 리뷰\n",
            "페이지 5 수집 완료 - 현재까지 0개 리뷰\n",
            "\n",
            "총 0개의 리뷰를 수집했습니다.\n",
            "\n",
            "수집된 데이터 미리보기:\n",
            "Empty DataFrame\n",
            "Columns: []\n",
            "Index: []\n"
          ]
        },
        {
          "ename": "KeyError",
          "evalue": "'review_text'",
          "output_type": "error",
          "traceback": [
            "\u001b[31m---------------------------------------------------------------------------\u001b[39m",
            "\u001b[31mKeyError\u001b[39m                                  Traceback (most recent call last)",
            "\u001b[36mCell\u001b[39m\u001b[36m \u001b[39m\u001b[32mIn[41]\u001b[39m\u001b[32m, line 86\u001b[39m\n\u001b[32m     83\u001b[39m \u001b[38;5;28mprint\u001b[39m(review_df.head())\n\u001b[32m     85\u001b[39m \u001b[38;5;66;03m# 빈 리뷰 제거\u001b[39;00m\n\u001b[32m---> \u001b[39m\u001b[32m86\u001b[39m review_df = review_df[\u001b[43mreview_df\u001b[49m\u001b[43m[\u001b[49m\u001b[33;43m'\u001b[39;49m\u001b[33;43mreview_text\u001b[39;49m\u001b[33;43m'\u001b[39;49m\u001b[43m]\u001b[49m.str.strip() != \u001b[33m'\u001b[39m\u001b[33m'\u001b[39m]\n\u001b[32m     87\u001b[39m \u001b[38;5;28mprint\u001b[39m(\u001b[33mf\u001b[39m\u001b[33m\"\u001b[39m\u001b[38;5;130;01m\\n\u001b[39;00m\u001b[33m전처리 후 \u001b[39m\u001b[38;5;132;01m{\u001b[39;00m\u001b[38;5;28mlen\u001b[39m(review_df)\u001b[38;5;132;01m}\u001b[39;00m\u001b[33m개의 유효한 리뷰\u001b[39m\u001b[33m\"\u001b[39m)\n",
            "\u001b[36mFile \u001b[39m\u001b[32mc:\\Users\\Admin\\workspace\\analysis_prep\\class\\.venv\\Lib\\site-packages\\pandas\\core\\frame.py:4107\u001b[39m, in \u001b[36mDataFrame.__getitem__\u001b[39m\u001b[34m(self, key)\u001b[39m\n\u001b[32m   4105\u001b[39m \u001b[38;5;28;01mif\u001b[39;00m \u001b[38;5;28mself\u001b[39m.columns.nlevels > \u001b[32m1\u001b[39m:\n\u001b[32m   4106\u001b[39m     \u001b[38;5;28;01mreturn\u001b[39;00m \u001b[38;5;28mself\u001b[39m._getitem_multilevel(key)\n\u001b[32m-> \u001b[39m\u001b[32m4107\u001b[39m indexer = \u001b[38;5;28;43mself\u001b[39;49m\u001b[43m.\u001b[49m\u001b[43mcolumns\u001b[49m\u001b[43m.\u001b[49m\u001b[43mget_loc\u001b[49m\u001b[43m(\u001b[49m\u001b[43mkey\u001b[49m\u001b[43m)\u001b[49m\n\u001b[32m   4108\u001b[39m \u001b[38;5;28;01mif\u001b[39;00m is_integer(indexer):\n\u001b[32m   4109\u001b[39m     indexer = [indexer]\n",
            "\u001b[36mFile \u001b[39m\u001b[32mc:\\Users\\Admin\\workspace\\analysis_prep\\class\\.venv\\Lib\\site-packages\\pandas\\core\\indexes\\range.py:417\u001b[39m, in \u001b[36mRangeIndex.get_loc\u001b[39m\u001b[34m(self, key)\u001b[39m\n\u001b[32m    415\u001b[39m         \u001b[38;5;28;01mraise\u001b[39;00m \u001b[38;5;167;01mKeyError\u001b[39;00m(key) \u001b[38;5;28;01mfrom\u001b[39;00m\u001b[38;5;250m \u001b[39m\u001b[34;01merr\u001b[39;00m\n\u001b[32m    416\u001b[39m \u001b[38;5;28;01mif\u001b[39;00m \u001b[38;5;28misinstance\u001b[39m(key, Hashable):\n\u001b[32m--> \u001b[39m\u001b[32m417\u001b[39m     \u001b[38;5;28;01mraise\u001b[39;00m \u001b[38;5;167;01mKeyError\u001b[39;00m(key)\n\u001b[32m    418\u001b[39m \u001b[38;5;28mself\u001b[39m._check_indexing_error(key)\n\u001b[32m    419\u001b[39m \u001b[38;5;28;01mraise\u001b[39;00m \u001b[38;5;167;01mKeyError\u001b[39;00m(key)\n",
            "\u001b[31mKeyError\u001b[39m: 'review_text'"
          ]
        }
      ],
      "source": [
        "\"\"\"\n",
        "fetch(\"https://product.kyobobook.co.kr/api/review/list?page=1&pageLimit=10&reviewSort=001&revwPatrCode=000&saleCmdtid=S000001057805\", {\n",
        "  \"headers\": {\n",
        "    \"accept\": \"*/*\",\n",
        "    \"accept-language\": \"ko-KR,ko;q=0.9,en-US;q=0.8,en;q=0.7\",\n",
        "    \"priority\": \"u=1, i\",\n",
        "    \"sec-ch-ua\": \"\\\"Google Chrome\\\";v=\\\"137\\\", \\\"Chromium\\\";v=\\\"137\\\", \\\"Not/A)Brand\\\";v=\\\"24\\\"\",\n",
        "    \"sec-ch-ua-mobile\": \"?0\",\n",
        "    \"sec-ch-ua-platform\": \"\\\"Windows\\\"\",\n",
        "    \"sec-fetch-dest\": \"empty\",\n",
        "    \"sec-fetch-mode\": \"cors\",\n",
        "    \"sec-fetch-site\": \"same-origin\"\n",
        "  },\n",
        "  \"referrer\": \"https://product.kyobobook.co.kr/detail/S000001057805\",\n",
        "  \"referrerPolicy\": \"strict-origin-when-cross-origin\",\n",
        "  \"body\": null,\n",
        "  \"method\": \"GET\",\n",
        "  \"mode\": \"cors\",\n",
        "  \"credentials\": \"include\"\n",
        "});\n",
        "\"\"\"\n",
        "\n",
        "# 교보문고 API를 사용하여 리뷰 데이터 수집\n",
        "import requests\n",
        "import json\n",
        "import pandas as pd\n",
        "import time\n",
        "\n",
        "def collect_reviews(book_id=\"S000001057805\", max_pages=10):\n",
        "    \"\"\"\n",
        "    교보문고 API를 통해 리뷰 데이터를 수집하는 함수\n",
        "    \n",
        "    Parameters:\n",
        "    book_id (str): 도서 ID\n",
        "    max_pages (int): 수집할 최대 페이지 수\n",
        "    \n",
        "    Returns:\n",
        "    pd.DataFrame: 수집된 리뷰 데이터\n",
        "    \"\"\"\n",
        "    \n",
        "    reviews = []\n",
        "    \n",
        "    for page in range(1, max_pages + 1):\n",
        "        url = f\"https://product.kyobobook.co.kr/api/review/list\"\n",
        "        \n",
        "        params = {\n",
        "            'page': page,\n",
        "            'pageLimit': 10,\n",
        "            'reviewSort': '001',\n",
        "            'revwPatrCode': '002',\n",
        "            'saleCmdtid': book_id\n",
        "        }\n",
        "        \n",
        "        headers = {\n",
        "            \"accept\": \"*/*\",\n",
        "            \"accept-language\": \"ko-KR,ko;q=0.9,en-US;q=0.8,en;q=0.7\",\n",
        "            \"cache-control\": \"no-cache\",\n",
        "            \"pragma\": \"no-cache\",\n",
        "            \"sec-ch-ua\": '\"Google Chrome\";v=\"137\", \"Chromium\";v=\"137\", \"Not/A)Brand\";v=\"24\"',\n",
        "            \"sec-ch-ua-mobile\": \"?0\",\n",
        "            \"sec-ch-ua-platform\": '\"macOS\"',\n",
        "            \"sec-fetch-dest\": \"empty\",\n",
        "            \"sec-fetch-mode\": \"cors\",\n",
        "            \"sec-fetch-site\": \"same-origin\",\n",
        "            \"User-Agent\": \"Mozilla/5.0 (Macintosh; Intel Mac OS X 10_15_7) AppleWebKit/537.36 (KHTML, like Gecko) Chrome/137.0.0.0 Safari/537.36\"\n",
        "        }\n",
        "        \n",
        "        try:\n",
        "            response = requests.get(url, params=params, headers=headers)\n",
        "            response.raise_for_status()\n",
        "            \n",
        "            data = response.json()\n",
        "            \n",
        "            # 리뷰 데이터 추출\n",
        "            if 'result' in data and 'reviewList' in data['result']:\n",
        "                for review in data['result']['reviewList']:\n",
        "                    reviews.append({\n",
        "                        'review_id': review.get('revwId', ''),\n",
        "                        'review_text': review.get('revwCntt', ''),\n",
        "                        'rating': review.get('revwScrVal', 0),\n",
        "                        'date': review.get('revwRgstDt', ''),\n",
        "                        'user_id': review.get('mbrId', '')\n",
        "                    })\n",
        "            \n",
        "            print(f\"페이지 {page} 수집 완료 - 현재까지 {len(reviews)}개 리뷰\")\n",
        "            \n",
        "            # API 호출 간격 조절 (서버 부하 방지)\n",
        "            time.sleep(1)\n",
        "            \n",
        "        except requests.exceptions.RequestException as e:\n",
        "            print(f\"페이지 {page} 수집 중 오류 발생: {e}\")\n",
        "            continue\n",
        "        except json.JSONDecodeError as e:\n",
        "            print(f\"페이지 {page} JSON 파싱 오류: {e}\")\n",
        "            continue\n",
        "    \n",
        "    return pd.DataFrame(reviews)\n",
        "\n",
        "# 리뷰 데이터 수집 실행\n",
        "print(\"교보문고 '밑바닥부터 시작하는 딥러닝' 리뷰 수집 시작...\")\n",
        "review_df = collect_reviews(max_pages=5)  # 5페이지까지 수집\n",
        "\n",
        "print(f\"\\n총 {len(review_df)}개의 리뷰를 수집했습니다.\")\n",
        "print(\"\\n수집된 데이터 미리보기:\")\n",
        "print(review_df.head())\n",
        "\n",
        "# 빈 리뷰 제거\n",
        "review_df = review_df[review_df['review_text'].str.strip() != '']\n",
        "print(f\"\\n전처리 후 {len(review_df)}개의 유효한 리뷰\")"
      ]
    },
    {
      "cell_type": "markdown",
      "metadata": {},
      "source": [
        "\n",
        "#### 🔍 2단계: 토픽 모델링 (LDA)으로 리뷰 주제 파악하기\n",
        "\n",
        "수집한 리뷰들에는 어떤 숨겨진 주제들이 있을지 LDA를 통해 분석해 봅시다.\n",
        "\n",
        "1.  **DTM 생성:** 전처리된 'processed' 데이터를 `CountVectorizer`를 사용하여 DTM(단어-문서 행렬)으로 변환하세요.\n",
        "2.  **LDA 모델 학습:** `LatentDirichletAllocation`을 사용해 **4개의 토픽**을 추출해 보세요.\n",
        "3.  **결과 해석:**\n",
        "    * 각 토픽을 대표하는 상위 5~7개의 키워드를 출력하세요.\n",
        "    * 키워드를 바탕으로 각 토픽에 **이름을 붙여보세요.** 예를 들어, \"실천과 변화\", \"선물 및 추천\", \"번역 및 가독성\" 등과 같이 해석할 수 있습니다. 이를 통해 독자들이 어떤 관점에서 이 책을 평가하는지 파악할 수 있습니다."
      ]
    },
    {
      "cell_type": "markdown",
      "metadata": {},
      "source": [
        "\n",
        "#### 🧩 3단계: K-Means 군집화로 유사 리뷰 그룹화하기\n",
        "\n",
        "비슷한 내용을 담고 있는 리뷰들을 그룹으로 묶어 봅시다.\n",
        "\n",
        "1.  **TF-IDF 행렬 생성:** 전처리된 'processed' 데이터를 `TfidfVectorizer`를 사용하여 TF-IDF 행렬로 변환하세요.\n",
        "2.  **K-Means 모델 학습:** `KMeans`를 사용하여 **4개의 군집**으로 리뷰들을 나누세요.\n",
        "3.  **결과 분석:**\n",
        "    * 원본 `review_df`에 'cluster\\_id' 컬럼을 추가하여 각 리뷰가 어떤 군집에 속하는지 확인하세요.\n",
        "    * 각 군집별로 리뷰 내용을 몇 개씩 출력하여, 그룹이 어떤 기준으로 묶였는지(e.g., 긍정적 실천 후기, 책의 구성 칭찬, 배송 관련 등) 그 특징을 분석해 보세요.\n"
      ]
    },
    {
      "cell_type": "markdown",
      "metadata": {},
      "source": [
        "#### 📊 4단계: 시각화로 군집 결과 확인하기\n",
        "\n",
        "군집화 결과를 PCA나 t-SNE를 이용해 2차원 공간에 시각화하여 그룹이 잘 형성되었는지 확인합니다.\n",
        "\n",
        "1.  **차원 축소:** `PCA`나 `t-SNE`를 사용해 TF-IDF 행렬을 2개의 주성분으로 축소하세요.\n",
        "2.  **산점도 시각화:** `plotly.express`를 사용해 결과를 산점도로 그리세요.\n",
        "    * 각 점의 색상은 `cluster_id`로 구분합니다.\n",
        "    * 마우스를 점 위에 올렸을 때 원본 리뷰(`review`)가 표시되도록 설정하여, 각 군집의 분포와 특징을 시각적으로 탐색해 보세요."
      ]
    },
    {
      "cell_type": "markdown",
      "metadata": {},
      "source": [
        "\n",
        "#### ✨ 도전 과제\n",
        "\n",
        "* 토픽과 군집의 개수(`n_components`, `n_clusters`)를 3, 5 등 다른 숫자로 변경하며 결과를 비교해 보세요. 어떤 개수가 가장 해석하기 좋은 결과를 도출하나요?\n",
        "* 다른 책(예: 소설, 에세이)의 리뷰를 수집하여 동일한 분석을 수행하고, 책의 장르에 따라 리뷰의 주제와 군집이 어떻게 달라지는지 비교 분석해 보세요."
      ]
    }
  ],
  "metadata": {
    "colab": {
      "provenance": []
    },
    "kernelspec": {
      "display_name": ".venv",
      "language": "python",
      "name": "python3"
    },
    "language_info": {
      "codemirror_mode": {
        "name": "ipython",
        "version": 3
      },
      "file_extension": ".py",
      "mimetype": "text/x-python",
      "name": "python",
      "nbconvert_exporter": "python",
      "pygments_lexer": "ipython3",
      "version": "3.11.9"
    }
  },
  "nbformat": 4,
  "nbformat_minor": 0
}
