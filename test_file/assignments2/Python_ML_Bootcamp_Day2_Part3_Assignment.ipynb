{
 "cells": [
  {
   "cell_type": "markdown",
   "metadata": {},
   "source": [
    "## 📝 Lab #2-3 (종합 과제): 로지스틱 회귀 vs. K-NN 모델 비교 및 ROC 커브 시각화\n",
    "\n",
    "지금까지 배운 로지스틱 회귀와 K-NN 모델의 성능을 종합적으로 비교하고 평가하는 미니 프로젝트를 수행합니다. 각 모델의 기본 성능을 확인하고, 하이퍼파라미터 튜닝의 효과를 ROC 커브 시각화를 통해 분석합니다.\n",
    "\n",
    "### 과제 목표\n",
    "1. 로지스틱 회귀와 K-NN(k=11)의 기본 모델을 학습하고 **정확도**와 **ROC-AUC 점수**를 비교합니다.\n",
    "2. 두 모델의 예측 확률을 사용하여 **ROC 커브**를 하나의 그래프에 시각화합니다.\n",
    "3. 시각화된 ROC 커브와 AUC 점수를 바탕으로, 고객 이탈 예측 문제에서 어떤 모델이 더 나은 성능을 보이는지 **분석하고 설명**합니다."
   ]
  },
  {
   "cell_type": "code",
   "execution_count": null,
   "metadata": {},
   "outputs": [],
   "source": [
    "# --- 기본 라이브러리 및 데이터 준비 (튜토리얼 본문 코드 재사용) ---\n",
    "import pandas as pd\n",
    "import numpy as np\n",
    "import plotly.graph_objects as go\n",
    "from sklearn.model_selection import train_test_split\n",
    "from sklearn.impute import SimpleImputer\n",
    "from sklearn.preprocessing import StandardScaler, OneHotEncoder\n",
    "from sklearn.pipeline import Pipeline\n",
    "from sklearn.compose import ColumnTransformer\n",
    "from sklearn.linear_model import LogisticRegression\n",
    "from sklearn.neighbors import KNeighborsClassifier\n",
    "from sklearn.metrics import accuracy_score, roc_auc_score, roc_curve\n",
    "\n",
    "path = './WA_Fn-UseC_-Telco-Customer-Churn.csv'\n",
    "df = pd.read_csv(path)\n",
    "df['TotalCharges'] = pd.to_numeric(df['TotalCharges'], errors='coerce')\n",
    "df.drop('customerID', axis=1, inplace=True)\n",
    "X = df.drop('Churn', axis=1)\n",
    "y = df['Churn'].apply(lambda x: 1 if x == 'Yes' else 0)\n",
    "X_train, X_test, y_train, y_test = train_test_split(X, y, test_size=0.2, random_state=42, stratify=y)\n",
    "numeric_features = X.select_dtypes(include=np.number).columns.tolist()\n",
    "categorical_features = X.select_dtypes(include='object').columns.tolist()\n",
    "numeric_transformer = Pipeline(steps=[('imputer', SimpleImputer(strategy='median')), ('scaler', StandardScaler())])\n",
    "categorical_transformer = Pipeline(steps=[('imputer', SimpleImputer(strategy='most_frequent')), ('onehot', OneHotEncoder(handle_unknown='ignore'))])\n",
    "preprocessor = ColumnTransformer(transformers=[('num', numeric_transformer, numeric_features), ('cat', categorical_transformer, categorical_features)])"
   ]
  },
  {
   "cell_type": "markdown",
   "metadata": {},
   "source": [
    "### [문제 1] 두 모델 학습 및 성능 평가"
   ]
  },
  {
   "cell_type": "code",
   "execution_count": null,
   "metadata": {},
   "outputs": [],
   "source": [
    "# 로지스틱 회귀 파이프라인 생성 및 학습\n",
    "lr_pipeline = # 여기에 코드 작성\n",
    "# 여기에 학습 코드를 작성하세요\n",
    "\n",
    "# K-NN(k=11) 파이프라인 생성 및 학습\n",
    "knn_pipeline = # 여기에 코드 작성\n",
    "# 여기에 학습 코드를 작성하세요\n",
    "\n",
    "# 테스트 데이터에 대한 예측 확률 계산 (ROC-AUC 계산용)\n",
    "# predict_proba(X_test)[:, 1] 를 사용합니다.\n",
    "y_pred_proba_lr = # 여기에 코드 작성\n",
    "y_pred_proba_knn = # 여기에 코드 작성\n",
    "\n",
    "# 각 모델의 정확도와 ROC-AUC 점수 계산 및 출력\n",
    "acc_lr = # 여기에 코드 작성\n",
    "auc_lr = # 여기에 코드 작성\n",
    "acc_knn = # 여기에 코드 작성\n",
    "auc_knn = # 여기에 코드 작성\n",
    "\n",
    "print(f\"로지스틱 회귀 정확도: {acc_lr:.4f}, ROC-AUC: {auc_lr:.4f}\")\n",
    "print(f\"K-NN (k=11) 정확도: {acc_knn:.4f}, ROC-AUC: {auc_knn:.4f}\")"
   ]
  },
  {
   "cell_type": "markdown",
   "metadata": {},
   "source": [
    "### [문제 2] ROC 커브 시각화"
   ]
  },
  {
   "cell_type": "code",
   "execution_count": null,
   "metadata": {},
   "outputs": [],
   "source": [
    "# 각 모델의 ROC 커브 계산\n",
    "# roc_curve(y_test, y_pred_proba) 함수를 사용합니다.\n",
    "fpr_lr, tpr_lr, _ = # 여기에 코드 작성\n",
    "fpr_knn, tpr_knn, _ = # 여기에 코드 작성\n",
    "\n",
    "# Plotly를 사용하여 ROC 커브 시각화\n",
    "fig = go.Figure()\n",
    "\n",
    "# 로지스틱 회귀 ROC 커브 추가\n",
    "\n",
    "# K-NN ROC 커브 추가\n",
    "# 여기에 K-NN ROC 커브를 추가하는 코드를 작성하세요\n",
    "\n",
    "# 램덤 추측선 (y=x) 추가\n"
   ]
  },
  {
   "cell_type": "markdown",
   "metadata": {},
   "source": [
    "### [문제 3] 결과 분석\n",
    "\n",
    "**아래 질문에 대한 답을 마크다운 셀에 작성해보세요.**\n",
    "\n",
    "1. 정확도 측면에서 어떤 모델이 더 우수한가요?\n",
    "2. ROC-AUC 점수와 ROC 커브 그래프를 종합적으로 고려했을 때, 어떤 모델이 '이탈 고객을 더 잘 찾아내는' 모델이라고 할 수 있나요? 그 이유는 무엇인가요? (힌트: ROC 커브가 왼쪽 위 모서리에 가까울수록 성능이 좋습니다.)"
   ]
  }
 ],
 "metadata": {
  "kernelspec": {
   "display_name": "Python 3",
   "language": "python",
   "name": "python3"
  }
 },
 "nbformat": 4,
 "nbformat_minor": 4
}
