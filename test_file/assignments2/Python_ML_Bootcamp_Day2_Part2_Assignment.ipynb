{
  "cells": [
    {
      "cell_type": "markdown",
      "metadata": {
        "id": "8F_moliW6We3"
      },
      "source": [
        "---\n",
        "\n",
        "## 📝 Lab #2 (응용): 통신사 고객 이탈 예측을 위한 전체 전처리 파이프라인 구축 및 평가\n",
        "\n",
        "지금까지 배운 모든 전처리 기법과 파이프라인 구축 능력을 종합적으로 활용하여, 통신사 고객 이탈 예측 문제를 해결하는 미니 프로젝트를 수행합니다.\n",
        "\n",
        "### 과제 목표\n",
        "1. 데이터 특성에 맞게 **수치형**과 **범주형** 변수를 식별하고 분리합니다.\n",
        "2. 각 변수 그룹에 적합한 전처리 전략(결측치 처리, 스케일링, 인코딩)을 조합하여 `ColumnTransformer`를 구성합니다.\n",
        "3. `SMOTE`를 파이프라인에 통합하여 데이터 불균형 문제를 처리합니다. (`imblearn.pipeline.Pipeline` 사용)\n",
        "4. 최종 파이프라인을 `LogisticRegression` 모델과 결합하여 학습시키고, 테스트 데이터에 대한 성능을 **정확도(Accuracy)**와 **ROC-AUC 점수**로 평가합니다.\n",
        "5. `Plotly`를 사용하여 모델의 **혼동 행렬(Confusion Matrix)**을 시각화하고 결과를 분석합니다.\n",
        "\n",
        "---"
      ]
    },
    {
      "cell_type": "code",
      "execution_count": null,
      "metadata": {
        "id": "sIMBs54z6We3"
      },
      "outputs": [],
      "source": [
        "import pandas as pd\n",
        "import numpy as np\n",
        "from sklearn.model_selection import train_test_split\n",
        "from sklearn.impute import SimpleImputer\n",
        "from sklearn.preprocessing import StandardScaler, OneHotEncoder\n",
        "from sklearn.compose import ColumnTransformer\n",
        "from sklearn.linear_model import LogisticRegression\n",
        "from sklearn.metrics import accuracy_score, roc_auc_score, confusion_matrix\n",
        "from imblearn.pipeline import Pipeline as ImbPipeline\n",
        "from imblearn.over_sampling import SMOTE\n",
        "import plotly.express as px\n"
      ]
    },
    {
      "cell_type": "code",
      "execution_count": null,
      "metadata": {},
      "outputs": [],
      "source": [
        "# 데이터 로드 및 기본 준비\n",
        "# customerID는 예측에 사용하지 않으므로 미리 제거\n",
        "\n",
        "# [문제 1] 수치형, 범주형 컬럼 식별\n",
        "\n",
        "# [문제 2 & 3] 전처리 파이프라인 정의\n",
        "\n",
        "# [문제 4] ColumnTransformer로 통합\n",
        "\n",
        "# [문제 5] SMOTE를 포함한 최종 파이프라인 구축  (imblearn.pipeline.Pipeline 사용\n",
        "\n",
        "# [문제 6] 파이프라인 훈련 \n",
        "\n",
        "# [문제 7] 예측 및 평가 \n",
        "\n",
        "# [문제 8] 혼동 행렬 시각화 \n",
        "\n",
        "# 결과 분석:"
      ]
    }
  ],
  "metadata": {
    "colab": {
      "provenance": []
    },
    "kernelspec": {
      "display_name": "Python 3",
      "name": "python3"
    }
  },
  "nbformat": 4,
  "nbformat_minor": 0
}
