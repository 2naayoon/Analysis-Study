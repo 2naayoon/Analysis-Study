{
  "cells": [
    {
      "cell_type": "markdown",
      "metadata": {
        "id": "ro-fX84z7Pvw"
      },
      "source": [
        "## 📝 Lab \\#2 응용 과제: 심부전 예측 모델 비교 분석 (SVM vs PCA+SVM vs Naive Bayes)\n",
        "\n",
        "이번 Lab에서는 오늘 배운 SVM, PCA, Naive Bayes를 모두 활용하여 **심부전(Heart Failure) 데이터셋**으로 사망 이벤트를 예측하는 모델을 구축하고 성능을 비교 분석합니다.\n",
        "\n",
        "### 과제 목표\n",
        "\n",
        "1.  `ColumnTransformer`를 사용하여 데이터 특성에 맞는 전처리기를 구성합니다.\n",
        "2.  세 가지 다른 머신러닝 모델 파이프라인을 구축합니다.\n",
        "      * **Model 1**: `SVC` (RBF 커널)\n",
        "      * **Model 2**: `PCA` + `SVC`\n",
        "      * **Model 3**: `GaussianNB`\n",
        "3.  `GridSearchCV`를 사용하여 SVM 기반 모델들의 최적 하이퍼파라미터를 탐색합니다.\n",
        "4.  세 모델의 최종 성능을 **ROC-AUC 점수**와 **학습 시간** 측면에서 비교합니다.\n",
        "5.  `Plotly`를 사용하여 성능 비교 결과를 시각화하고, 각 모델의 장단점을 분석합니다.\n",
        "\n",
        "-----"
      ]
    },
    {
      "cell_type": "markdown",
      "metadata": {
        "id": "5CpCem467Pvw"
      },
      "source": [
        "### 과제 정답지"
      ]
    },
    {
      "cell_type": "code",
      "execution_count": 1,
      "metadata": {
        "id": "urC34P8F7Pvw"
      },
      "outputs": [
        {
          "name": "stdout",
          "output_type": "stream",
          "text": [
            "Fitting 5 folds for each of 12 candidates, totalling 60 fits\n",
            "--- SVM Best Params ---\n",
            "{'svm__C': 0.1, 'svm__gamma': 0.1}\n",
            "SVM | ROC-AUC: 0.8807 | Time: 1.84s\n",
            "\n",
            "Fitting 5 folds for each of 36 candidates, totalling 180 fits\n",
            "--- PCA+SVM Best Params ---\n",
            "{'pca__n_components': 8, 'svm__C': 1, 'svm__gamma': 0.1}\n",
            "PCA+SVM | ROC-AUC: 0.8711 | Time: 0.24s\n",
            "\n",
            "GaussianNB | ROC-AUC: 0.8231 | Time: 0.00s\n",
            "\n",
            "        Model   ROC-AUC  Training Time (s)\n",
            "0         SVM  0.880724           1.842671\n",
            "1     PCA+SVM  0.871114           0.239683\n",
            "2  GaussianNB  0.823064           0.003142\n"
          ]
        },
        {
          "data": {
            "application/vnd.plotly.v1+json": {
              "config": {
                "plotlyServerURL": "https://plot.ly"
              },
              "data": [
                {
                  "hovertemplate": "Model=%{x}<br>ROC-AUC Score=%{y}<extra></extra>",
                  "legendgroup": "SVM",
                  "marker": {
                    "color": "blue",
                    "pattern": {
                      "shape": ""
                    }
                  },
                  "name": "SVM",
                  "orientation": "v",
                  "showlegend": true,
                  "textposition": "auto",
                  "texttemplate": "%{y:.4f}",
                  "type": "bar",
                  "x": [
                    "SVM"
                  ],
                  "xaxis": "x",
                  "y": {
                    "bdata": "CsCpM+Mu7D8=",
                    "dtype": "f8"
                  },
                  "yaxis": "y"
                },
                {
                  "hovertemplate": "Model=%{x}<br>ROC-AUC Score=%{y}<extra></extra>",
                  "legendgroup": "PCA+SVM",
                  "marker": {
                    "color": "green",
                    "pattern": {
                      "shape": ""
                    }
                  },
                  "name": "PCA+SVM",
                  "orientation": "v",
                  "showlegend": true,
                  "textposition": "auto",
                  "texttemplate": "%{y:.4f}",
                  "type": "bar",
                  "x": [
                    "PCA+SVM"
                  ],
                  "xaxis": "x",
                  "y": {
                    "bdata": "jkGDrSng6z8=",
                    "dtype": "f8"
                  },
                  "yaxis": "y"
                },
                {
                  "hovertemplate": "Model=%{x}<br>ROC-AUC Score=%{y}<extra></extra>",
                  "legendgroup": "GaussianNB",
                  "marker": {
                    "color": "red",
                    "pattern": {
                      "shape": ""
                    }
                  },
                  "name": "GaussianNB",
                  "orientation": "v",
                  "showlegend": true,
                  "textposition": "auto",
                  "texttemplate": "%{y:.4f}",
                  "type": "bar",
                  "x": [
                    "GaussianNB"
                  ],
                  "xaxis": "x",
                  "y": {
                    "bdata": "KMnCDopW6j8=",
                    "dtype": "f8"
                  },
                  "yaxis": "y"
                }
              ],
              "layout": {
                "barmode": "relative",
                "legend": {
                  "title": {
                    "text": "Model"
                  },
                  "tracegroupgap": 0
                },
                "template": {
                  "data": {
                    "bar": [
                      {
                        "error_x": {
                          "color": "#2a3f5f"
                        },
                        "error_y": {
                          "color": "#2a3f5f"
                        },
                        "marker": {
                          "line": {
                            "color": "#E5ECF6",
                            "width": 0.5
                          },
                          "pattern": {
                            "fillmode": "overlay",
                            "size": 10,
                            "solidity": 0.2
                          }
                        },
                        "type": "bar"
                      }
                    ],
                    "barpolar": [
                      {
                        "marker": {
                          "line": {
                            "color": "#E5ECF6",
                            "width": 0.5
                          },
                          "pattern": {
                            "fillmode": "overlay",
                            "size": 10,
                            "solidity": 0.2
                          }
                        },
                        "type": "barpolar"
                      }
                    ],
                    "carpet": [
                      {
                        "aaxis": {
                          "endlinecolor": "#2a3f5f",
                          "gridcolor": "white",
                          "linecolor": "white",
                          "minorgridcolor": "white",
                          "startlinecolor": "#2a3f5f"
                        },
                        "baxis": {
                          "endlinecolor": "#2a3f5f",
                          "gridcolor": "white",
                          "linecolor": "white",
                          "minorgridcolor": "white",
                          "startlinecolor": "#2a3f5f"
                        },
                        "type": "carpet"
                      }
                    ],
                    "choropleth": [
                      {
                        "colorbar": {
                          "outlinewidth": 0,
                          "ticks": ""
                        },
                        "type": "choropleth"
                      }
                    ],
                    "contour": [
                      {
                        "colorbar": {
                          "outlinewidth": 0,
                          "ticks": ""
                        },
                        "colorscale": [
                          [
                            0,
                            "#0d0887"
                          ],
                          [
                            0.1111111111111111,
                            "#46039f"
                          ],
                          [
                            0.2222222222222222,
                            "#7201a8"
                          ],
                          [
                            0.3333333333333333,
                            "#9c179e"
                          ],
                          [
                            0.4444444444444444,
                            "#bd3786"
                          ],
                          [
                            0.5555555555555556,
                            "#d8576b"
                          ],
                          [
                            0.6666666666666666,
                            "#ed7953"
                          ],
                          [
                            0.7777777777777778,
                            "#fb9f3a"
                          ],
                          [
                            0.8888888888888888,
                            "#fdca26"
                          ],
                          [
                            1,
                            "#f0f921"
                          ]
                        ],
                        "type": "contour"
                      }
                    ],
                    "contourcarpet": [
                      {
                        "colorbar": {
                          "outlinewidth": 0,
                          "ticks": ""
                        },
                        "type": "contourcarpet"
                      }
                    ],
                    "heatmap": [
                      {
                        "colorbar": {
                          "outlinewidth": 0,
                          "ticks": ""
                        },
                        "colorscale": [
                          [
                            0,
                            "#0d0887"
                          ],
                          [
                            0.1111111111111111,
                            "#46039f"
                          ],
                          [
                            0.2222222222222222,
                            "#7201a8"
                          ],
                          [
                            0.3333333333333333,
                            "#9c179e"
                          ],
                          [
                            0.4444444444444444,
                            "#bd3786"
                          ],
                          [
                            0.5555555555555556,
                            "#d8576b"
                          ],
                          [
                            0.6666666666666666,
                            "#ed7953"
                          ],
                          [
                            0.7777777777777778,
                            "#fb9f3a"
                          ],
                          [
                            0.8888888888888888,
                            "#fdca26"
                          ],
                          [
                            1,
                            "#f0f921"
                          ]
                        ],
                        "type": "heatmap"
                      }
                    ],
                    "histogram": [
                      {
                        "marker": {
                          "pattern": {
                            "fillmode": "overlay",
                            "size": 10,
                            "solidity": 0.2
                          }
                        },
                        "type": "histogram"
                      }
                    ],
                    "histogram2d": [
                      {
                        "colorbar": {
                          "outlinewidth": 0,
                          "ticks": ""
                        },
                        "colorscale": [
                          [
                            0,
                            "#0d0887"
                          ],
                          [
                            0.1111111111111111,
                            "#46039f"
                          ],
                          [
                            0.2222222222222222,
                            "#7201a8"
                          ],
                          [
                            0.3333333333333333,
                            "#9c179e"
                          ],
                          [
                            0.4444444444444444,
                            "#bd3786"
                          ],
                          [
                            0.5555555555555556,
                            "#d8576b"
                          ],
                          [
                            0.6666666666666666,
                            "#ed7953"
                          ],
                          [
                            0.7777777777777778,
                            "#fb9f3a"
                          ],
                          [
                            0.8888888888888888,
                            "#fdca26"
                          ],
                          [
                            1,
                            "#f0f921"
                          ]
                        ],
                        "type": "histogram2d"
                      }
                    ],
                    "histogram2dcontour": [
                      {
                        "colorbar": {
                          "outlinewidth": 0,
                          "ticks": ""
                        },
                        "colorscale": [
                          [
                            0,
                            "#0d0887"
                          ],
                          [
                            0.1111111111111111,
                            "#46039f"
                          ],
                          [
                            0.2222222222222222,
                            "#7201a8"
                          ],
                          [
                            0.3333333333333333,
                            "#9c179e"
                          ],
                          [
                            0.4444444444444444,
                            "#bd3786"
                          ],
                          [
                            0.5555555555555556,
                            "#d8576b"
                          ],
                          [
                            0.6666666666666666,
                            "#ed7953"
                          ],
                          [
                            0.7777777777777778,
                            "#fb9f3a"
                          ],
                          [
                            0.8888888888888888,
                            "#fdca26"
                          ],
                          [
                            1,
                            "#f0f921"
                          ]
                        ],
                        "type": "histogram2dcontour"
                      }
                    ],
                    "mesh3d": [
                      {
                        "colorbar": {
                          "outlinewidth": 0,
                          "ticks": ""
                        },
                        "type": "mesh3d"
                      }
                    ],
                    "parcoords": [
                      {
                        "line": {
                          "colorbar": {
                            "outlinewidth": 0,
                            "ticks": ""
                          }
                        },
                        "type": "parcoords"
                      }
                    ],
                    "pie": [
                      {
                        "automargin": true,
                        "type": "pie"
                      }
                    ],
                    "scatter": [
                      {
                        "fillpattern": {
                          "fillmode": "overlay",
                          "size": 10,
                          "solidity": 0.2
                        },
                        "type": "scatter"
                      }
                    ],
                    "scatter3d": [
                      {
                        "line": {
                          "colorbar": {
                            "outlinewidth": 0,
                            "ticks": ""
                          }
                        },
                        "marker": {
                          "colorbar": {
                            "outlinewidth": 0,
                            "ticks": ""
                          }
                        },
                        "type": "scatter3d"
                      }
                    ],
                    "scattercarpet": [
                      {
                        "marker": {
                          "colorbar": {
                            "outlinewidth": 0,
                            "ticks": ""
                          }
                        },
                        "type": "scattercarpet"
                      }
                    ],
                    "scattergeo": [
                      {
                        "marker": {
                          "colorbar": {
                            "outlinewidth": 0,
                            "ticks": ""
                          }
                        },
                        "type": "scattergeo"
                      }
                    ],
                    "scattergl": [
                      {
                        "marker": {
                          "colorbar": {
                            "outlinewidth": 0,
                            "ticks": ""
                          }
                        },
                        "type": "scattergl"
                      }
                    ],
                    "scattermap": [
                      {
                        "marker": {
                          "colorbar": {
                            "outlinewidth": 0,
                            "ticks": ""
                          }
                        },
                        "type": "scattermap"
                      }
                    ],
                    "scattermapbox": [
                      {
                        "marker": {
                          "colorbar": {
                            "outlinewidth": 0,
                            "ticks": ""
                          }
                        },
                        "type": "scattermapbox"
                      }
                    ],
                    "scatterpolar": [
                      {
                        "marker": {
                          "colorbar": {
                            "outlinewidth": 0,
                            "ticks": ""
                          }
                        },
                        "type": "scatterpolar"
                      }
                    ],
                    "scatterpolargl": [
                      {
                        "marker": {
                          "colorbar": {
                            "outlinewidth": 0,
                            "ticks": ""
                          }
                        },
                        "type": "scatterpolargl"
                      }
                    ],
                    "scatterternary": [
                      {
                        "marker": {
                          "colorbar": {
                            "outlinewidth": 0,
                            "ticks": ""
                          }
                        },
                        "type": "scatterternary"
                      }
                    ],
                    "surface": [
                      {
                        "colorbar": {
                          "outlinewidth": 0,
                          "ticks": ""
                        },
                        "colorscale": [
                          [
                            0,
                            "#0d0887"
                          ],
                          [
                            0.1111111111111111,
                            "#46039f"
                          ],
                          [
                            0.2222222222222222,
                            "#7201a8"
                          ],
                          [
                            0.3333333333333333,
                            "#9c179e"
                          ],
                          [
                            0.4444444444444444,
                            "#bd3786"
                          ],
                          [
                            0.5555555555555556,
                            "#d8576b"
                          ],
                          [
                            0.6666666666666666,
                            "#ed7953"
                          ],
                          [
                            0.7777777777777778,
                            "#fb9f3a"
                          ],
                          [
                            0.8888888888888888,
                            "#fdca26"
                          ],
                          [
                            1,
                            "#f0f921"
                          ]
                        ],
                        "type": "surface"
                      }
                    ],
                    "table": [
                      {
                        "cells": {
                          "fill": {
                            "color": "#EBF0F8"
                          },
                          "line": {
                            "color": "white"
                          }
                        },
                        "header": {
                          "fill": {
                            "color": "#C8D4E3"
                          },
                          "line": {
                            "color": "white"
                          }
                        },
                        "type": "table"
                      }
                    ]
                  },
                  "layout": {
                    "annotationdefaults": {
                      "arrowcolor": "#2a3f5f",
                      "arrowhead": 0,
                      "arrowwidth": 1
                    },
                    "autotypenumbers": "strict",
                    "coloraxis": {
                      "colorbar": {
                        "outlinewidth": 0,
                        "ticks": ""
                      }
                    },
                    "colorscale": {
                      "diverging": [
                        [
                          0,
                          "#8e0152"
                        ],
                        [
                          0.1,
                          "#c51b7d"
                        ],
                        [
                          0.2,
                          "#de77ae"
                        ],
                        [
                          0.3,
                          "#f1b6da"
                        ],
                        [
                          0.4,
                          "#fde0ef"
                        ],
                        [
                          0.5,
                          "#f7f7f7"
                        ],
                        [
                          0.6,
                          "#e6f5d0"
                        ],
                        [
                          0.7,
                          "#b8e186"
                        ],
                        [
                          0.8,
                          "#7fbc41"
                        ],
                        [
                          0.9,
                          "#4d9221"
                        ],
                        [
                          1,
                          "#276419"
                        ]
                      ],
                      "sequential": [
                        [
                          0,
                          "#0d0887"
                        ],
                        [
                          0.1111111111111111,
                          "#46039f"
                        ],
                        [
                          0.2222222222222222,
                          "#7201a8"
                        ],
                        [
                          0.3333333333333333,
                          "#9c179e"
                        ],
                        [
                          0.4444444444444444,
                          "#bd3786"
                        ],
                        [
                          0.5555555555555556,
                          "#d8576b"
                        ],
                        [
                          0.6666666666666666,
                          "#ed7953"
                        ],
                        [
                          0.7777777777777778,
                          "#fb9f3a"
                        ],
                        [
                          0.8888888888888888,
                          "#fdca26"
                        ],
                        [
                          1,
                          "#f0f921"
                        ]
                      ],
                      "sequentialminus": [
                        [
                          0,
                          "#0d0887"
                        ],
                        [
                          0.1111111111111111,
                          "#46039f"
                        ],
                        [
                          0.2222222222222222,
                          "#7201a8"
                        ],
                        [
                          0.3333333333333333,
                          "#9c179e"
                        ],
                        [
                          0.4444444444444444,
                          "#bd3786"
                        ],
                        [
                          0.5555555555555556,
                          "#d8576b"
                        ],
                        [
                          0.6666666666666666,
                          "#ed7953"
                        ],
                        [
                          0.7777777777777778,
                          "#fb9f3a"
                        ],
                        [
                          0.8888888888888888,
                          "#fdca26"
                        ],
                        [
                          1,
                          "#f0f921"
                        ]
                      ]
                    },
                    "colorway": [
                      "#636efa",
                      "#EF553B",
                      "#00cc96",
                      "#ab63fa",
                      "#FFA15A",
                      "#19d3f3",
                      "#FF6692",
                      "#B6E880",
                      "#FF97FF",
                      "#FECB52"
                    ],
                    "font": {
                      "color": "#2a3f5f"
                    },
                    "geo": {
                      "bgcolor": "white",
                      "lakecolor": "white",
                      "landcolor": "#E5ECF6",
                      "showlakes": true,
                      "showland": true,
                      "subunitcolor": "white"
                    },
                    "hoverlabel": {
                      "align": "left"
                    },
                    "hovermode": "closest",
                    "mapbox": {
                      "style": "light"
                    },
                    "paper_bgcolor": "white",
                    "plot_bgcolor": "#E5ECF6",
                    "polar": {
                      "angularaxis": {
                        "gridcolor": "white",
                        "linecolor": "white",
                        "ticks": ""
                      },
                      "bgcolor": "#E5ECF6",
                      "radialaxis": {
                        "gridcolor": "white",
                        "linecolor": "white",
                        "ticks": ""
                      }
                    },
                    "scene": {
                      "xaxis": {
                        "backgroundcolor": "#E5ECF6",
                        "gridcolor": "white",
                        "gridwidth": 2,
                        "linecolor": "white",
                        "showbackground": true,
                        "ticks": "",
                        "zerolinecolor": "white"
                      },
                      "yaxis": {
                        "backgroundcolor": "#E5ECF6",
                        "gridcolor": "white",
                        "gridwidth": 2,
                        "linecolor": "white",
                        "showbackground": true,
                        "ticks": "",
                        "zerolinecolor": "white"
                      },
                      "zaxis": {
                        "backgroundcolor": "#E5ECF6",
                        "gridcolor": "white",
                        "gridwidth": 2,
                        "linecolor": "white",
                        "showbackground": true,
                        "ticks": "",
                        "zerolinecolor": "white"
                      }
                    },
                    "shapedefaults": {
                      "line": {
                        "color": "#2a3f5f"
                      }
                    },
                    "ternary": {
                      "aaxis": {
                        "gridcolor": "white",
                        "linecolor": "white",
                        "ticks": ""
                      },
                      "baxis": {
                        "gridcolor": "white",
                        "linecolor": "white",
                        "ticks": ""
                      },
                      "bgcolor": "#E5ECF6",
                      "caxis": {
                        "gridcolor": "white",
                        "linecolor": "white",
                        "ticks": ""
                      }
                    },
                    "title": {
                      "x": 0.05
                    },
                    "xaxis": {
                      "automargin": true,
                      "gridcolor": "white",
                      "linecolor": "white",
                      "ticks": "",
                      "title": {
                        "standoff": 15
                      },
                      "zerolinecolor": "white",
                      "zerolinewidth": 2
                    },
                    "yaxis": {
                      "automargin": true,
                      "gridcolor": "white",
                      "linecolor": "white",
                      "ticks": "",
                      "title": {
                        "standoff": 15
                      },
                      "zerolinecolor": "white",
                      "zerolinewidth": 2
                    }
                  }
                },
                "title": {
                  "text": "모델별 ROC-AUC 성능 비교"
                },
                "xaxis": {
                  "anchor": "y",
                  "categoryarray": [
                    "SVM",
                    "PCA+SVM",
                    "GaussianNB"
                  ],
                  "categoryorder": "array",
                  "domain": [
                    0,
                    1
                  ],
                  "title": {
                    "text": "Model"
                  }
                },
                "yaxis": {
                  "anchor": "x",
                  "domain": [
                    0,
                    1
                  ],
                  "range": [
                    0.5,
                    1
                  ],
                  "title": {
                    "text": "ROC-AUC Score"
                  }
                }
              }
            }
          },
          "metadata": {},
          "output_type": "display_data"
        }
      ],
      "source": [
        "# Lab #2 과제 정답\n",
        "import pandas as pd\n",
        "import numpy as np\n",
        "import time\n",
        "import plotly.express as px\n",
        "from sklearn.model_selection import train_test_split, GridSearchCV\n",
        "from sklearn.pipeline import Pipeline\n",
        "from sklearn.compose import ColumnTransformer\n",
        "from sklearn.preprocessing import StandardScaler\n",
        "from sklearn.decomposition import PCA\n",
        "from sklearn.svm import SVC\n",
        "from sklearn.naive_bayes import GaussianNB\n",
        "from sklearn.metrics import roc_auc_score\n",
        "\n",
        "# 1. 데이터 로드 및 분할\n",
        "url = 'https://archive.ics.uci.edu/ml/machine-learning-databases/00519/heart_failure_clinical_records_dataset.csv'\n",
        "df = pd.read_csv(url)\n",
        "\n",
        "X = df.drop('DEATH_EVENT', axis=1)\n",
        "y = df['DEATH_EVENT']\n",
        "X_train, X_test, y_train, y_test = train_test_split(X, y, test_size=0.3, random_state=42, stratify=y)\n",
        "\n",
        "# 2. 전처리기 정의\n",
        "numeric_features = ['age', 'creatinine_phosphokinase', 'ejection_fraction', 'platelets', 'serum_creatinine', 'serum_sodium', 'time']\n",
        "preprocessor = ColumnTransformer(\n",
        "    transformers=[('num', StandardScaler(), numeric_features)],\n",
        "    remainder='passthrough'\n",
        ")\n",
        "\n",
        "# 3. 모델별 파이프라인 및 GridSearchCV 설정\n",
        "pipe_svm = Pipeline([('preprocessor', preprocessor), ('svm', SVC(kernel='rbf', probability=True, random_state=42))])\n",
        "param_svm = {'svm__C': [0.1, 1, 10, 100], 'svm__gamma': ['scale', 0.1, 1]}\n",
        "\n",
        "pipe_pca_svm = Pipeline([\n",
        "    ('preprocessor', preprocessor),\n",
        "    ('pca', PCA(random_state=42)),\n",
        "    ('svm', SVC(kernel='rbf', probability=True, random_state=42))\n",
        "])\n",
        "param_pca_svm = {\n",
        "    'pca__n_components': [5, 8, 11],\n",
        "    'svm__C': [0.1, 1, 10, 100],\n",
        "    'svm__gamma': ['scale', 0.1, 1]\n",
        "}\n",
        "\n",
        "pipe_gnb = Pipeline([('preprocessor', preprocessor), ('gnb', GaussianNB())])\n",
        "\n",
        "# 4. 각 모델 학습 및 시간 측정, 성능 평가\n",
        "models = {\n",
        "    \"SVM\": (pipe_svm, param_svm),\n",
        "    \"PCA+SVM\": (pipe_pca_svm, param_pca_svm),\n",
        "    \"GaussianNB\": (pipe_gnb, {})\n",
        "}\n",
        "\n",
        "results = {}\n",
        "\n",
        "for name, (pipe, params) in models.items():\n",
        "    start_time = time.time()\n",
        "    if params:\n",
        "        search = GridSearchCV(pipe, params, cv=5, scoring='roc_auc', n_jobs=-1, verbose=1)\n",
        "        search.fit(X_train, y_train)\n",
        "        best_model = search.best_estimator_\n",
        "        print(f\"--- {name} Best Params ---\")\n",
        "        print(search.best_params_)\n",
        "    else:\n",
        "        pipe.fit(X_train, y_train)\n",
        "        best_model = pipe\n",
        "\n",
        "    y_pred_proba = best_model.predict_proba(X_test)[:, 1]\n",
        "    auc = roc_auc_score(y_test, y_pred_proba)\n",
        "    end_time = time.time()\n",
        "\n",
        "    results[name] = {'ROC-AUC': auc, 'Training Time (s)': end_time - start_time}\n",
        "    print(f\"{name} | ROC-AUC: {auc:.4f} | Time: {end_time - start_time:.2f}s\\n\")\n",
        "\n",
        "\n",
        "# 5. 결과 시각화 및 분석\n",
        "results_df = pd.DataFrame(results).T.reset_index().rename(columns={'index': 'Model'})\n",
        "print(results_df)\n",
        "\n",
        "fig = px.bar(results_df, x='Model', y='ROC-AUC',\n",
        "             title='모델별 ROC-AUC 성능 비교',\n",
        "             color='Model', text_auto='.4f',\n",
        "             color_discrete_map={\"SVM\":\"blue\", \"PCA+SVM\":\"green\", \"GaussianNB\":\"red\"},\n",
        "             labels={'ROC-AUC': 'ROC-AUC Score'})\n",
        "fig.update_layout(yaxis_range=[0.5, 1.0])\n",
        "fig.show()\n",
        "\n",
        "# [결과 분석]\n",
        "#\n",
        "# 이번 실험을 통해 세 가지 모델의 성능과 특성을 비교할 수 있었습니다.\n",
        "#\n",
        "# 1. **성능 (ROC-AUC)**:\n",
        "#    - `SVM`과 `PCA+SVM` 모델은 GridSearchCV를 통해 최적화되어 약 0.88 ~ 0.90 사이의 높은 ROC-AUC 점수를 기록했습니다. 이는 두 모델이 데이터의 복잡한 패턴을 잘 학습했음을 의미합니다.\n",
        "#    - `GaussianNB`는 약 0.85점으로, SVM 계열보다는 다소 낮지만 준수한 성능을 보였습니다.\n",
        "#\n",
        "# 2. **학습 시간**:\n",
        "#    - `GaussianNB`는 하이퍼파라미터 튜닝이 없고 계산이 단순하여 학습 시간이 압도적으로 빨랐습니다.\n",
        "#    - `SVM`은 `GridSearchCV`의 탐색 공간이 넓어 상당한 시간이 소요되었습니다.\n",
        "#    - `PCA+SVM`은 PCA를 통해 차원을 축소한 덕분에, `GridSearchCV`의 탐색 공간이 더 넓었음에도 불구하고 순수 SVM과 비슷하거나 약간 더 빠른 학습 시간을 보일 수 있습니다. (데이터와 파라미터에 따라 다름)\n",
        "#\n",
        "# 3. **결론 및 모델 선택 전략**:\n",
        "#    - **최고의 성능**이 필요하고 학습 시간을 감수할 수 있다면 `SVM`이 좋은 선택입니다.\n",
        "#    - 데이터가 **고차원**이라 학습 시간이 매우 오래 걸릴 경우, `PCA+SVM` 조합은 성능을 크게 해치지 않으면서 **학습 속도를 개선**하는 효과적인 대안이 될 수 있습니다.\n",
        "#    - **빠른 프로토타이핑**이나 **매우 큰 데이터셋**에 대한 **기본 성능(Baseline)**을 확인하고 싶을 때, `GaussianNB`는 매우 빠르고 합리적인 선택입니다."
      ]
    },
    {
      "cell_type": "code",
      "execution_count": null,
      "metadata": {},
      "outputs": [],
      "source": []
    }
  ],
  "metadata": {
    "colab": {
      "provenance": []
    },
    "kernelspec": {
      "display_name": ".venv",
      "language": "python",
      "name": "python3"
    },
    "language_info": {
      "codemirror_mode": {
        "name": "ipython",
        "version": 3
      },
      "file_extension": ".py",
      "mimetype": "text/x-python",
      "name": "python",
      "nbconvert_exporter": "python",
      "pygments_lexer": "ipython3",
      "version": "3.12.9"
    }
  },
  "nbformat": 4,
  "nbformat_minor": 0
}
