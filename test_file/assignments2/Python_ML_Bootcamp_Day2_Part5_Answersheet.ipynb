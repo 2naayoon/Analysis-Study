{
  "cells": [
    {
      "cell_type": "markdown",
      "metadata": {},
      "source": [
        "### 🔑 Part 5 연습문제 정답"
      ]
    },
    {
      "cell_type": "markdown",
      "metadata": {
        "id": "VEL_1Sg58l28"
      },
      "source": [
        "#### ✏️ 연습문제 1\n",
        "\n",
        "`RandomForestClassifier`의 `n_estimators`(트리 개수)와 `max_depth`(트리 최대 깊이)를 변경하면서 모델의 성능(정확도, ROC-AUC)이 어떻게 변하는지 확인해보세요.\n",
        "* Case 1: `n_estimators=200`, `max_depth=5`\n",
        "* Case 2: `n_estimators=50`, `max_depth=10`"
      ]
    },
    {
      "cell_type": "code",
      "execution_count": 4,
      "metadata": {},
      "outputs": [
        {
          "name": "stdout",
          "output_type": "stream",
          "text": [
            "Case 1 (n_estimators=200, max_depth=5):\n",
            "Accuracy: 0.8500\n",
            "ROC-AUC: 0.8999\n",
            "\n",
            "Case 2 (n_estimators=50, max_depth=10):\n",
            "Accuracy: 0.8500\n",
            "ROC-AUC: 0.8742\n"
          ]
        }
      ],
      "source": [
        "# 코드 작성\n",
        "# Case 1: n_estimators=200, max_depth=5\n",
        "rf_case1 = RandomForestClassifier(n_estimators=200, max_depth=5, random_state=42)\n",
        "rf_case1.fit(X_train, y_train)\n",
        "y_pred_case1 = rf_case1.predict(X_test)\n",
        "y_pred_proba_case1 = rf_case1.predict_proba(X_test)[:, 1]\n",
        "\n",
        "# Case 2: n_estimators=50, max_depth=10\n",
        "rf_case2 = RandomForestClassifier(n_estimators=50, max_depth=10, random_state=42)\n",
        "rf_case2.fit(X_train, y_train)\n",
        "y_pred_case2 = rf_case2.predict(X_test)\n",
        "y_pred_proba_case2 = rf_case2.predict_proba(X_test)[:, 1]\n",
        "\n",
        "# 성능 평가\n",
        "print(\"Case 1 (n_estimators=200, max_depth=5):\")\n",
        "print(f\"Accuracy: {accuracy_score(y_test, y_pred_case1):.4f}\")\n",
        "print(f\"ROC-AUC: {roc_auc_score(y_test, y_pred_proba_case1):.4f}\\n\")\n",
        "\n",
        "print(\"Case 2 (n_estimators=50, max_depth=10):\")\n",
        "print(f\"Accuracy: {accuracy_score(y_test, y_pred_case2):.4f}\")\n",
        "print(f\"ROC-AUC: {roc_auc_score(y_test, y_pred_proba_case2):.4f}\")\n"
      ]
    }
  ],
  "metadata": {
    "colab": {
      "provenance": []
    },
    "kernelspec": {
      "display_name": ".venv",
      "language": "python",
      "name": "python3"
    },
    "language_info": {
      "codemirror_mode": {
        "name": "ipython",
        "version": 3
      },
      "file_extension": ".py",
      "mimetype": "text/x-python",
      "name": "python",
      "nbconvert_exporter": "python",
      "pygments_lexer": "ipython3",
      "version": "3.12.9"
    }
  },
  "nbformat": 4,
  "nbformat_minor": 0
}
