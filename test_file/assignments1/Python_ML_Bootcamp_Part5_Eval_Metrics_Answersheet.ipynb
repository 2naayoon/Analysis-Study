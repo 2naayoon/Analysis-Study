{
  "cells": [
    {
      "cell_type": "markdown",
      "metadata": {
        "id": "m60-PLXKrQg3"
      },
      "source": [
        "## 🔑 Part 5 연습문제 정답지"
      ]
    },
    {
      "cell_type": "code",
      "execution_count": null,
      "metadata": {
        "id": "Oz6vb1VarQg3"
      },
      "outputs": [],
      "source": [
        "# 연습문제 1 정답\n",
        "mae_B = mean_absolute_error(y_true, y_pred_B)\n",
        "print(f\"모델 B의 MAE: {mae_B:.2f}\") # 출력: 모델 B의 MAE: 24.00\n",
        "\n",
        "# 연습문제 2 정답\n",
        "rmse_B = np.sqrt(mean_squared_error(y_true, y_pred_B))\n",
        "print(f\"모델 B의 RMSE: {rmse_B:.2f}\") # 출력: 모델 B의 RMSE: 24.90\n",
        "\n",
        "\n",
        "# 연습문제 3 정답\n",
        "mape_B = mean_absolute_percentage_error(y_true, y_pred_B)\n",
        "print(f\"모델 B의 MAPE: {mape_B:.2f}\") # 출력: 모델 B의 MAPE: 0.0480\n",
        "\n",
        "# 연습문제 4 정답\n",
        "r2_B = r2_score(y_true, y_pred_B)\n",
        "print(f\"모델 B의 R²: {r2_B:.4f}\") # 출력: 모델 B의 R²: 0.9419\n",
        "\n",
        "# 연습문제 5 정답\n",
        "rmsle_F = np.sqrt(mean_squared_log_error(y_true, y_pred_F))\n",
        "print(f\"모델 F의 RMSLE: {rmsle_F:.4f}\") # 출력: 모델 F의 RMSLE: 0.1198"
      ]
    },
    {
      "cell_type": "markdown",
      "metadata": {
        "id": "fBimGZ0erQg3"
      },
      "source": [
        "#### Lab #1 과제 정답"
      ]
    },
    {
      "cell_type": "code",
      "execution_count": null,
      "metadata": {
        "id": "WqJ3bXFMrQg3"
      },
      "outputs": [],
      "source": [
        "# [문제 1 & 2] 모델 훈련 정답\n",
        "lr_model = LinearRegression()\n",
        "lr_model.fit(X_train, y_train)\n",
        "\n",
        "rf_model = RandomForestRegressor(n_estimators=100, random_state=42)\n",
        "rf_model.fit(X_train, y_train)\n",
        "\n",
        "# [문제 3 & 4] 예측 및 평가 정답\n",
        "lr_preds = lr_model.predict(X_test)\n",
        "rf_preds = rf_model.predict(X_test)\n",
        "\n",
        "lr_metrics = evaluate_regression(y_test, lr_preds, model_name=\"Linear Regression\")\n",
        "rf_metrics = evaluate_regression(y_test, rf_preds, model_name=\"Random Forest\")\n",
        "\n",
        "\n",
        "# [문제 5] 결과 분석 DataFrame 정답\n",
        "metrics_data = {\n",
        "    'Metric': ['MAE', 'MAPE', 'RMSE', 'R²', 'RMSLE'],\n",
        "    'Linear Regression': lr_metrics,\n",
        "    'Random Forest': rf_metrics\n",
        "}\n",
        "metrics_df = pd.DataFrame(metrics_data).set_index('Metric')\n",
        "# 소수점 자리 정리\n",
        "metrics_df['Linear Regression'] = metrics_df['Linear Regression'].apply(lambda x: f\"{x:,.4f}\")\n",
        "metrics_df['Random Forest'] = metrics_df['Random Forest'].apply(lambda x: f\"{x:,.4f}\")\n",
        "print(metrics_df)\n",
        "\n",
        "\n",
        "# [문제 6] 시각화 정답\n",
        "fig = px.scatter(x=y_test, y=rf_preds,\n",
        "                 title='실제값 vs 예측값 (Random Forest)',\n",
        "                 labels={'x': '실제 가격', 'y': '예측 가격'},\n",
        "                 opacity=0.6)\n",
        "fig.add_shape(type='line', x0=y_test.min(), y0=y_test.min(),\n",
        "              x1=y_test.max(), y1=y_test.max(), line=dict(color='Red', dash='dash'))\n",
        "fig.show()"
      ]
    }
  ],
  "metadata": {
    "colab": {
      "provenance": []
    },
    "kernelspec": {
      "display_name": ".venv",
      "language": "python",
      "name": "python3"
    },
    "language_info": {
      "codemirror_mode": {
        "name": "ipython",
        "version": 3
      },
      "file_extension": ".py",
      "mimetype": "text/x-python",
      "name": "python",
      "nbconvert_exporter": "python",
      "pygments_lexer": "ipython3",
      "version": "3.12.9"
    }
  },
  "nbformat": 4,
  "nbformat_minor": 0
}
