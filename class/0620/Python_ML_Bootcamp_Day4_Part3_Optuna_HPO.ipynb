{
  "cells": [
    {
      "cell_type": "markdown",
      "metadata": {
        "id": "9X3zXEZC32sA"
      },
      "source": [
        "# 🚀 Day 4-2: 스마트한 모델 튜닝의 시작, Optuna HPO 🧠\n",
        "\n",
        "최고의 성능을 내는 머신러닝 모델을 만드는 과정은 종종 최고의 요리 레시피를 찾는 여정과 비유됩니다. \n",
        "\n",
        "좋은 재료(데이터)를 준비하고, 기본 조리법(알고리즘)을 선택했다면, 다음은 양념의 '황금 비율'을 찾는 단계입니다. \n",
        "\n",
        "소금을 얼마나 넣을지, 불의 세기는 어떻게 조절할지 등 사소해 보이는 설정 하나하나가 요리의 맛을 좌우하듯, \n",
        "\n",
        "머신러닝에서도 이러한 '설정값'들이 모델의 성능을 결정합니다.\n",
        "\n",
        "이 설정값들을 우리는 `하이퍼파라미터(Hyperparameter)` 라고 부릅니다.  \n",
        "\n",
        "예를 들어, 랜덤 포레스트의 트리 개수(`n_estimators`)나 트리의 최대 깊이(`max_depth`), 신경망의 학습률(`learning_rate`) 등이 모두 하이퍼파라미터에 해당합니다.  \n",
        "\n",
        "이 값들은 모델이 학습을 시작하기 전에 개발자가 직접 정해주어야 하며, 어떤 값을 선택하느냐에 따라 모델의 성능이 극적으로 달라질 수 있습니다. \n",
        "\n",
        "그렇다면 최적의 하이퍼파라미터 조합은 어떻게 찾을 수 있을까요? \n",
        "\n",
        "모든 경우의 수를 하나씩 시도해보는 것은 하이퍼파라미터가 몇 개만 되어도 조합의 수가 기하급수적으로 늘어나기 때문에 현실적으로 불가능에 가깝습니다. \n",
        "\n",
        "이번 시간에는 이 문제를 해결하기 위한 세련되고 강력한 도구, `Optuna(옵튜나)`에 대해 배우고, 이를 활용해 하이퍼파라미터 최적화(Hyperparameter Optimization, HPO)를 자동화하는 방법을 익혀보겠습니다."
      ]
    },
    {
      "cell_type": "markdown",
      "metadata": {},
      "source": [
        "\n",
        "---\n",
        "\n",
        "### 1. 하이퍼파라미터 탐색: 무작위에서 베이지안까지\n",
        "\n",
        "최적의 하이퍼파라미터를 찾기 위한 여정에는 여러 전략이 있습니다. 가장 기본적인 두 가지 방법과 그 한계를 먼저 짚어보겠습니다.\n",
        "\n",
        "#### 🧠 개념 이해하기: Grid Search vs. Random Search\n",
        "\n",
        "* `그리드 탐색 (Grid Search)`: 개발자가 지정한 하이퍼파라미터 값들의 목록을 받아, 가능한 모든 조합을 격자(Grid)처럼 만들어 하나도 빠짐없이 테스트하는 가장 단순하고 무식한(?) 방법입니다.  모든 조합을 시도하므로 최고의 조합을 놓칠 염려는 없지만, 탐색해야 할 조합이 조금만 늘어나도 시간이 기하급수적으로 증가하여 매우 비효율적입니다. \n",
        "\n",
        "* `랜덤 탐색 (Random Search)`: 지정된 범위 내에서 하이퍼파라미터 조합을 무작위로 샘플링하여 테스트하는 방법입니다.  그리드 탐색보다 중요하지 않은 파라미터에 낭비되는 시간을 줄이고, 의외의 좋은 조합을 발견할 가능성이 있어 동일한 시간 내에 더 나은 성능을 보이는 경우가 많습니다.  하지만 이 방법 역시 이전 시도 결과로부터 아무것도 배우지 못하고 그저 '운'에 맡기는 방식이라는 한계가 있습니다. \n",
        "\n",
        "이러한 한계를 극복하기 위해 등장한 것이 바로 `베이지안 최적화(Bayesian Optimization)` 입니다.\n",
        "\n",
        "#### 🧠 개념 이해하기: 베이지안 최적화\n",
        "\n",
        "`베이지안 최적화`는 '과거의 경험으로부터 학습하여 더 나은 의사결정을 내리는' 스마트한 탐색 기법입니다.  \n",
        "\n",
        "이전 하이퍼파라미터 조합들의 시도 결과를 바탕으로, 다음번에 시도할 때 가장 성능이 좋을 것으로 '기대되는' 유망한 지점을 통계적으로 추론하여 탐색을 진행합니다. \n",
        "\n",
        "이 방식은 두 가지 핵심 요소의 균형을 맞추며 동작합니다.\n",
        "\n",
        "1.  `탐색 (Exploration)`: 아직 시도해보지 않은 불확실한 영역을 탐험하여 의외의 '대박'을 노립니다.\n",
        "   \n",
        "2.  `활용 (Exploitation)`: 지금까지 가장 좋았던 결과 주변을 더 깊게 파고들어 점진적인 성능 향상을 꾀합니다.\n",
        "\n",
        "이처럼 과거 데이터를 기반으로 다음 탐색 지점을 지능적으로 선택하기 때문에, 그리드 탐색이나 랜덤 탐색에 비해 훨씬 적은 시도만으로도 전역 최적(Global Optimum)에 가까운 하이퍼파라미터 조합을 찾아낼 수 있습니다. \n",
        "\n",
        "그리고 `Optuna`는 바로 이 베이지안 최적화를 기반으로 한, 사용하기 매우 편리한 파이썬 라이브러리입니다. "
      ]
    },
    {
      "cell_type": "markdown",
      "metadata": {},
      "source": [
        "\n",
        "#### 💻 Optuna 설치하기\n",
        "\n",
        "Optuna는 `pip`을 통해 간단히 설치할 수 있습니다. 시각화 기능까지 함께 사용하기 위해 `plotly`도 같이 설치해 줍니다. "
      ]
    },
    {
      "cell_type": "code",
      "execution_count": null,
      "metadata": {
        "id": "Sv08h14R32sD"
      },
      "outputs": [],
      "source": [
        "# 터미널이나 Jupyter Notebook 셀에서 실행하세요.\n",
        "!pip install optuna plotly"
      ]
    },
    {
      "cell_type": "markdown",
      "metadata": {
        "id": "E0kbY9cf32sE"
      },
      "source": [
        "---\n",
        "\n",
        "### 2. Optuna의 기본 구조: `Study`, `Objective`, `Trial`\n",
        "\n",
        "Optuna를 사용한 최적화는 크게 세 가지 요소를 중심으로 이루어집니다. \n",
        "\n",
        "1.  `하이퍼파라미터(Hyperparameter)`: 최적화의 '목표'를 정의하는 함수입니다. 이 함수는 특정 하이퍼파라미터 조합을 입력받아 모델의 성능(예: 정확도, RMSE 등)을 계산하고 반환하는 역할을 합니다.  Optuna는 이 함수의 반환값을 최대화하거나 최소화하는 방향으로 탐색을 진행합니다.\n",
        "\n",
        "2.  `Optuna(옵튜나)`: `Objective` 함수 내에서 하이퍼파라미터 값을 제안하는 역할을 합니다.  예를 들어, `trial.suggest_int('n_estimators', 100, 500)`와 같은 코드는 'n_estimators'라는 이름의 파라미터를 100에서 500 사이의 정수 중에서 추천해달라는 의미입니다.\n",
        "\n",
        "3.  `그리드 탐색 (Grid Search)`: 전체 최적화 과정을 관리하고 조율하는 컨트롤 타워입니다. 어떤 방향(최대화/최소화)으로 최적화를 진행할지 설정하고, 각 `trial`의 기록을 모두 저장하며, 최종적으로 최적의 결과를 알려줍니다. \n",
        "\n",
        "#### 💻 코드 예시: 간단한 수학 함수 최적화\n",
        "\n",
        "개념을 확실히 이해하기 위해, 머신러닝 모델이 아닌 간단한 2차 함수 $f(x) = (x-2)^2$의 최솟값을 찾는 문제에 Optuna를 적용해 보겠습니다. 이 함수의 최솟값은 $x=2$일 때 $0$이 됩니다. "
      ]
    },
    {
      "cell_type": "code",
      "execution_count": 1,
      "metadata": {
        "id": "odv0m6Pv32sF"
      },
      "outputs": [
        {
          "name": "stderr",
          "output_type": "stream",
          "text": [
            "[I 2025-06-20 08:09:25,829] A new study created in memory with name: no-name-7a33f3e2-6637-4b4e-841a-bf05cb8882fd\n",
            "[I 2025-06-20 08:09:25,834] Trial 0 finished with value: 20.104380141138716 and parameters: {'x': -2.4837908226342043}. Best is trial 0 with value: 20.104380141138716.\n",
            "[I 2025-06-20 08:09:25,836] Trial 1 finished with value: 26.39958785234146 and parameters: {'x': -3.1380529242448896}. Best is trial 0 with value: 20.104380141138716.\n",
            "[I 2025-06-20 08:09:25,836] Trial 2 finished with value: 140.19971209348276 and parameters: {'x': -9.8405959348963}. Best is trial 0 with value: 20.104380141138716.\n",
            "[I 2025-06-20 08:09:25,840] Trial 3 finished with value: 8.90617061238132 and parameters: {'x': -0.9843207958229492}. Best is trial 3 with value: 8.90617061238132.\n",
            "[I 2025-06-20 08:09:25,844] Trial 4 finished with value: 22.271451685634354 and parameters: {'x': -2.719263892349564}. Best is trial 3 with value: 8.90617061238132.\n",
            "[I 2025-06-20 08:09:25,845] Trial 5 finished with value: 25.834103089190243 and parameters: {'x': -3.082725950628289}. Best is trial 3 with value: 8.90617061238132.\n",
            "[I 2025-06-20 08:09:25,853] Trial 6 finished with value: 14.226222289775123 and parameters: {'x': -1.7717664680856267}. Best is trial 3 with value: 8.90617061238132.\n",
            "[I 2025-06-20 08:09:25,856] Trial 7 finished with value: 21.354759591559496 and parameters: {'x': -2.6211210319098432}. Best is trial 3 with value: 8.90617061238132.\n",
            "[I 2025-06-20 08:09:25,858] Trial 8 finished with value: 39.361025095741915 and parameters: {'x': -4.273836553158037}. Best is trial 3 with value: 8.90617061238132.\n",
            "[I 2025-06-20 08:09:25,865] Trial 9 finished with value: 57.15923230850395 and parameters: {'x': 9.560372497999285}. Best is trial 3 with value: 8.90617061238132.\n",
            "[I 2025-06-20 08:09:25,883] Trial 10 finished with value: 4.197603575174773 and parameters: {'x': 4.048805401978131}. Best is trial 10 with value: 4.197603575174773.\n",
            "[I 2025-06-20 08:09:25,893] Trial 11 finished with value: 4.655544937691139 and parameters: {'x': 4.157671183867259}. Best is trial 10 with value: 4.197603575174773.\n",
            "[I 2025-06-20 08:09:25,907] Trial 12 finished with value: 13.72852078328151 and parameters: {'x': 5.705201854593284}. Best is trial 10 with value: 4.197603575174773.\n",
            "[I 2025-06-20 08:09:25,940] Trial 13 finished with value: 2.0948501506955863 and parameters: {'x': 3.4473597171040744}. Best is trial 13 with value: 2.0948501506955863.\n",
            "[I 2025-06-20 08:09:25,946] Trial 14 finished with value: 0.4790893384705649 and parameters: {'x': 2.692162797664368}. Best is trial 14 with value: 0.4790893384705649.\n",
            "[I 2025-06-20 08:09:25,951] Trial 15 finished with value: 0.05864497533130038 and parameters: {'x': 1.7578327533886955}. Best is trial 15 with value: 0.05864497533130038.\n",
            "[I 2025-06-20 08:09:25,956] Trial 16 finished with value: 0.06180243037468861 and parameters: {'x': 1.7513990539545583}. Best is trial 15 with value: 0.05864497533130038.\n",
            "[I 2025-06-20 08:09:25,961] Trial 17 finished with value: 0.8042653060076346 and parameters: {'x': 1.1031916001688908}. Best is trial 15 with value: 0.05864497533130038.\n",
            "[I 2025-06-20 08:09:25,969] Trial 18 finished with value: 23.506729212881496 and parameters: {'x': 6.848373873050788}. Best is trial 15 with value: 0.05864497533130038.\n",
            "[I 2025-06-20 08:09:25,981] Trial 19 finished with value: 0.7084658019090484 and parameters: {'x': 1.1582958940880421}. Best is trial 15 with value: 0.05864497533130038.\n",
            "[I 2025-06-20 08:09:25,989] Trial 20 finished with value: 59.99662885380326 and parameters: {'x': -5.7457490828068565}. Best is trial 15 with value: 0.05864497533130038.\n",
            "[I 2025-06-20 08:09:25,998] Trial 21 finished with value: 0.0018585646733801098 and parameters: {'x': 1.9568889263253615}. Best is trial 21 with value: 0.0018585646733801098.\n",
            "[I 2025-06-20 08:09:26,004] Trial 22 finished with value: 2.3965832611397926 and parameters: {'x': 0.4519098020012553}. Best is trial 21 with value: 0.0018585646733801098.\n",
            "[I 2025-06-20 08:09:26,009] Trial 23 finished with value: 17.42610303517783 and parameters: {'x': 6.17445841219886}. Best is trial 21 with value: 0.0018585646733801098.\n",
            "[I 2025-06-20 08:09:26,014] Trial 24 finished with value: 0.04108940525549912 and parameters: {'x': 2.202705217632648}. Best is trial 21 with value: 0.0018585646733801098.\n",
            "[I 2025-06-20 08:09:26,021] Trial 25 finished with value: 30.463608034249525 and parameters: {'x': 7.519384751423797}. Best is trial 21 with value: 0.0018585646733801098.\n",
            "[I 2025-06-20 08:09:26,027] Trial 26 finished with value: 6.2587389442300845 and parameters: {'x': -0.5017471783196008}. Best is trial 21 with value: 0.0018585646733801098.\n",
            "[I 2025-06-20 08:09:26,034] Trial 27 finished with value: 8.662598172962065 and parameters: {'x': 4.9432292083631655}. Best is trial 21 with value: 0.0018585646733801098.\n",
            "[I 2025-06-20 08:09:26,041] Trial 28 finished with value: 0.021613701994601376 and parameters: {'x': 2.147015992309005}. Best is trial 21 with value: 0.0018585646733801098.\n",
            "[I 2025-06-20 08:09:26,047] Trial 29 finished with value: 0.6697895269339662 and parameters: {'x': 2.818406700201047}. Best is trial 21 with value: 0.0018585646733801098.\n",
            "[I 2025-06-20 08:09:26,057] Trial 30 finished with value: 70.67349847741855 and parameters: {'x': -6.4067531471679695}. Best is trial 21 with value: 0.0018585646733801098.\n",
            "[I 2025-06-20 08:09:26,064] Trial 31 finished with value: 0.04650053732988533 and parameters: {'x': 2.2156398324287174}. Best is trial 21 with value: 0.0018585646733801098.\n",
            "[I 2025-06-20 08:09:26,071] Trial 32 finished with value: 3.215587218197415 and parameters: {'x': 0.20679415063484274}. Best is trial 21 with value: 0.0018585646733801098.\n",
            "[I 2025-06-20 08:09:26,080] Trial 33 finished with value: 0.1536152573068779 and parameters: {'x': 2.3919378232664945}. Best is trial 21 with value: 0.0018585646733801098.\n",
            "[I 2025-06-20 08:09:26,087] Trial 34 finished with value: 38.11031916256421 and parameters: {'x': 8.173355583680905}. Best is trial 21 with value: 0.0018585646733801098.\n",
            "[I 2025-06-20 08:09:26,095] Trial 35 finished with value: 11.066186035141662 and parameters: {'x': -1.3265877464966502}. Best is trial 21 with value: 0.0018585646733801098.\n",
            "[I 2025-06-20 08:09:26,101] Trial 36 finished with value: 9.288801811440376 and parameters: {'x': 5.047753568030128}. Best is trial 21 with value: 0.0018585646733801098.\n",
            "[I 2025-06-20 08:09:26,123] Trial 37 finished with value: 6.403610061990035 and parameters: {'x': -0.5305355286954647}. Best is trial 21 with value: 0.0018585646733801098.\n",
            "[I 2025-06-20 08:09:26,132] Trial 38 finished with value: 2.754026461136637 and parameters: {'x': 3.659525974830354}. Best is trial 21 with value: 0.0018585646733801098.\n",
            "[I 2025-06-20 08:09:26,141] Trial 39 finished with value: 1.8978010463204198 and parameters: {'x': 0.622393000046668}. Best is trial 21 with value: 0.0018585646733801098.\n",
            "[I 2025-06-20 08:09:26,151] Trial 40 finished with value: 15.557734423628178 and parameters: {'x': -1.944329401004457}. Best is trial 21 with value: 0.0018585646733801098.\n",
            "[I 2025-06-20 08:09:26,160] Trial 41 finished with value: 0.0134332537451014 and parameters: {'x': 1.8840980856711098}. Best is trial 21 with value: 0.0018585646733801098.\n",
            "[I 2025-06-20 08:09:26,169] Trial 42 finished with value: 0.00022628598836712185 and parameters: {'x': 1.9849571947972753}. Best is trial 42 with value: 0.00022628598836712185.\n",
            "[I 2025-06-20 08:09:26,173] Trial 43 finished with value: 1.5153760581022317 and parameters: {'x': 3.2310061161920487}. Best is trial 42 with value: 0.00022628598836712185.\n",
            "[I 2025-06-20 08:09:26,175] Trial 44 finished with value: 6.650514793459266 and parameters: {'x': 4.578859203884397}. Best is trial 42 with value: 0.00022628598836712185.\n",
            "[I 2025-06-20 08:09:26,177] Trial 45 finished with value: 4.841248573080365 and parameters: {'x': -0.20028374831074114}. Best is trial 42 with value: 0.00022628598836712185.\n",
            "[I 2025-06-20 08:09:26,179] Trial 46 finished with value: 34.408020750373346 and parameters: {'x': -3.8658350428880413}. Best is trial 42 with value: 0.00022628598836712185.\n",
            "[I 2025-06-20 08:09:26,181] Trial 47 finished with value: 0.42792579511926865 and parameters: {'x': 1.345839625841439}. Best is trial 42 with value: 0.00022628598836712185.\n",
            "[I 2025-06-20 08:09:26,183] Trial 48 finished with value: 2.7560977711495878 and parameters: {'x': 3.6601499242988833}. Best is trial 42 with value: 0.00022628598836712185.\n",
            "[I 2025-06-20 08:09:26,186] Trial 49 finished with value: 141.7959298638504 and parameters: {'x': -9.907809616543691}. Best is trial 42 with value: 0.00022628598836712185.\n",
            "[I 2025-06-20 08:09:26,189] Trial 50 finished with value: 0.0001546233085423036 and parameters: {'x': 2.0124347621023606}. Best is trial 50 with value: 0.0001546233085423036.\n",
            "[I 2025-06-20 08:09:26,191] Trial 51 finished with value: 0.007628771097374452 and parameters: {'x': 1.9126571634455667}. Best is trial 50 with value: 0.0001546233085423036.\n",
            "[I 2025-06-20 08:09:26,193] Trial 52 finished with value: 0.8215243043795737 and parameters: {'x': 1.093620220669297}. Best is trial 50 with value: 0.0001546233085423036.\n",
            "[I 2025-06-20 08:09:26,196] Trial 53 finished with value: 0.5231192473515308 and parameters: {'x': 2.7232698302511524}. Best is trial 50 with value: 0.0001546233085423036.\n",
            "[I 2025-06-20 08:09:26,198] Trial 54 finished with value: 0.02164902658189587 and parameters: {'x': 1.8528639181509312}. Best is trial 50 with value: 0.0001546233085423036.\n",
            "[I 2025-06-20 08:09:26,200] Trial 55 finished with value: 9.58720011847795 and parameters: {'x': -1.0963204159902362}. Best is trial 50 with value: 0.0001546233085423036.\n",
            "[I 2025-06-20 08:09:26,203] Trial 56 finished with value: 5.1899821589521755 and parameters: {'x': 4.278153234300137}. Best is trial 50 with value: 0.0001546233085423036.\n",
            "[I 2025-06-20 08:09:26,207] Trial 57 finished with value: 13.316322858192748 and parameters: {'x': 5.649153718082146}. Best is trial 50 with value: 0.0001546233085423036.\n",
            "[I 2025-06-20 08:09:26,213] Trial 58 finished with value: 2.679226510063328 and parameters: {'x': 0.3631657047632073}. Best is trial 50 with value: 0.0001546233085423036.\n",
            "[I 2025-06-20 08:09:26,218] Trial 59 finished with value: 1.451617757131673 and parameters: {'x': 3.2048310077067543}. Best is trial 50 with value: 0.0001546233085423036.\n",
            "[I 2025-06-20 08:09:26,231] Trial 60 finished with value: 0.30174143244704527 and parameters: {'x': 1.4506900397343543}. Best is trial 50 with value: 0.0001546233085423036.\n",
            "[I 2025-06-20 08:09:26,241] Trial 61 finished with value: 0.002698983351546952 and parameters: {'x': 1.948048259398294}. Best is trial 50 with value: 0.0001546233085423036.\n",
            "[I 2025-06-20 08:09:26,250] Trial 62 finished with value: 0.00038262335298844215 and parameters: {'x': 1.9804392394578216}. Best is trial 50 with value: 0.0001546233085423036.\n",
            "[I 2025-06-20 08:09:26,258] Trial 63 finished with value: 0.7768405227609682 and parameters: {'x': 2.8813855698620032}. Best is trial 50 with value: 0.0001546233085423036.\n",
            "[I 2025-06-20 08:09:26,263] Trial 64 finished with value: 1.484030018508814 and parameters: {'x': 0.781792292542518}. Best is trial 50 with value: 0.0001546233085423036.\n",
            "[I 2025-06-20 08:09:26,269] Trial 65 finished with value: 0.08555807997378058 and parameters: {'x': 1.7074968718564183}. Best is trial 50 with value: 0.0001546233085423036.\n",
            "[I 2025-06-20 08:09:26,277] Trial 66 finished with value: 117.36922969835443 and parameters: {'x': -8.833708030880029}. Best is trial 50 with value: 0.0001546233085423036.\n",
            "[I 2025-06-20 08:09:26,282] Trial 67 finished with value: 5.713593017732917 and parameters: {'x': -0.3903123263985644}. Best is trial 50 with value: 0.0001546233085423036.\n",
            "[I 2025-06-20 08:09:26,285] Trial 68 finished with value: 2.693000538802561 and parameters: {'x': 3.641036422143811}. Best is trial 50 with value: 0.0001546233085423036.\n",
            "[I 2025-06-20 08:09:26,291] Trial 69 finished with value: 14.49539254060815 and parameters: {'x': -1.8072815158073285}. Best is trial 50 with value: 0.0001546233085423036.\n",
            "[I 2025-06-20 08:09:26,297] Trial 70 finished with value: 1.0260869017363181 and parameters: {'x': 0.9870405231519288}. Best is trial 50 with value: 0.0001546233085423036.\n",
            "[I 2025-06-20 08:09:26,303] Trial 71 finished with value: 0.12465429322555022 and parameters: {'x': 2.3530641488816872}. Best is trial 50 with value: 0.0001546233085423036.\n",
            "[I 2025-06-20 08:09:26,309] Trial 72 finished with value: 0.006564874001134608 and parameters: {'x': 1.9189760899417054}. Best is trial 50 with value: 0.0001546233085423036.\n",
            "[I 2025-06-20 08:09:26,313] Trial 73 finished with value: 3.4673679034379066 and parameters: {'x': 0.1379130247386653}. Best is trial 50 with value: 0.0001546233085423036.\n",
            "[I 2025-06-20 08:09:26,321] Trial 74 finished with value: 0.03760426870748804 and parameters: {'x': 1.8060817989267433}. Best is trial 50 with value: 0.0001546233085423036.\n",
            "[I 2025-06-20 08:09:26,324] Trial 75 finished with value: 0.5049133386418431 and parameters: {'x': 2.7105725428426313}. Best is trial 50 with value: 0.0001546233085423036.\n",
            "[I 2025-06-20 08:09:26,326] Trial 76 finished with value: 3.783725189060958 and parameters: {'x': 3.945179988859889}. Best is trial 50 with value: 0.0001546233085423036.\n",
            "[I 2025-06-20 08:09:26,329] Trial 77 finished with value: 10.588646467176165 and parameters: {'x': 5.2540200471380265}. Best is trial 50 with value: 0.0001546233085423036.\n",
            "[I 2025-06-20 08:09:26,331] Trial 78 finished with value: 2.0390329361794803 and parameters: {'x': 0.5720528944742105}. Best is trial 50 with value: 0.0001546233085423036.\n",
            "[I 2025-06-20 08:09:26,334] Trial 79 finished with value: 1.1104740307857557 and parameters: {'x': 3.053790316327568}. Best is trial 50 with value: 0.0001546233085423036.\n",
            "[I 2025-06-20 08:09:26,337] Trial 80 finished with value: 6.034665752934092 and parameters: {'x': 4.4565556686006715}. Best is trial 50 with value: 0.0001546233085423036.\n",
            "[I 2025-06-20 08:09:26,339] Trial 81 finished with value: 0.07171763056590592 and parameters: {'x': 2.2678014760338447}. Best is trial 50 with value: 0.0001546233085423036.\n",
            "[I 2025-06-20 08:09:26,341] Trial 82 finished with value: 0.00023492408803863694 and parameters: {'x': 2.0153272335415964}. Best is trial 50 with value: 0.0001546233085423036.\n",
            "[I 2025-06-20 08:09:26,344] Trial 83 finished with value: 0.2490162468260478 and parameters: {'x': 1.5009847228530495}. Best is trial 50 with value: 0.0001546233085423036.\n",
            "[I 2025-06-20 08:09:26,346] Trial 84 finished with value: 0.002913921424667002 and parameters: {'x': 2.0539807505011463}. Best is trial 50 with value: 0.0001546233085423036.\n",
            "[I 2025-06-20 08:09:26,349] Trial 85 finished with value: 0.8469406517577038 and parameters: {'x': 1.0797062144305745}. Best is trial 50 with value: 0.0001546233085423036.\n",
            "[I 2025-06-20 08:09:26,351] Trial 86 finished with value: 7.025462104271487 and parameters: {'x': -0.6505588286758486}. Best is trial 50 with value: 0.0001546233085423036.\n",
            "[I 2025-06-20 08:09:26,353] Trial 87 finished with value: 0.16124200324427318 and parameters: {'x': 2.4015495028564637}. Best is trial 50 with value: 0.0001546233085423036.\n",
            "[I 2025-06-20 08:09:26,356] Trial 88 finished with value: 3.979697884103032 and parameters: {'x': 0.005081985618699214}. Best is trial 50 with value: 0.0001546233085423036.\n",
            "[I 2025-06-20 08:09:26,358] Trial 89 finished with value: 1.6867966621580963 and parameters: {'x': 3.2987673626012075}. Best is trial 50 with value: 0.0001546233085423036.\n",
            "[I 2025-06-20 08:09:26,360] Trial 90 finished with value: 0.27613475623524386 and parameters: {'x': 1.474514742133289}. Best is trial 50 with value: 0.0001546233085423036.\n",
            "[I 2025-06-20 08:09:26,362] Trial 91 finished with value: 0.0004621935516279193 and parameters: {'x': 1.9785013127929187}. Best is trial 50 with value: 0.0001546233085423036.\n",
            "[I 2025-06-20 08:09:26,365] Trial 92 finished with value: 0.002322901288249415 and parameters: {'x': 1.9518035137354453}. Best is trial 50 with value: 0.0001546233085423036.\n",
            "[I 2025-06-20 08:09:26,368] Trial 93 finished with value: 3.7886581407547677 and parameters: {'x': 3.946447569485181}. Best is trial 50 with value: 0.0001546233085423036.\n",
            "[I 2025-06-20 08:09:26,373] Trial 94 finished with value: 0.37008693043566915 and parameters: {'x': 2.6083477052111474}. Best is trial 50 with value: 0.0001546233085423036.\n",
            "[I 2025-06-20 08:09:26,378] Trial 95 finished with value: 1.2830752181731915 and parameters: {'x': 0.8672708981520818}. Best is trial 50 with value: 0.0001546233085423036.\n",
            "[I 2025-06-20 08:09:26,381] Trial 96 finished with value: 2.761762412134122e-05 and parameters: {'x': 2.0052552472940235}. Best is trial 96 with value: 2.761762412134122e-05.\n",
            "[I 2025-06-20 08:09:26,386] Trial 97 finished with value: 1.1170214562367449 and parameters: {'x': 3.056892357923334}. Best is trial 96 with value: 2.761762412134122e-05.\n",
            "[I 2025-06-20 08:09:26,389] Trial 98 finished with value: 0.04058208920236794 and parameters: {'x': 2.201449966995202}. Best is trial 96 with value: 2.761762412134122e-05.\n",
            "[I 2025-06-20 08:09:26,392] Trial 99 finished with value: 2.5286629125763396 and parameters: {'x': 0.40982299331919037}. Best is trial 96 with value: 2.761762412134122e-05.\n"
          ]
        },
        {
          "name": "stdout",
          "output_type": "stream",
          "text": [
            "최적의 x 값: {'x': 2.0052552472940235}\n",
            "해당 x에서의 함수 최솟값: 2.761762412134122e-05\n"
          ]
        }
      ],
      "source": [
        "import optuna\n",
        "\n",
        "# 1. Objective 함수 정의\n",
        "def objective_math(trial):\n",
        "    # Trial 객체가 -10과 10 사이에서 float 타입의 x값을 제안\n",
        "    x = trial.suggest_float('x', -10, 10)\n",
        "\n",
        "    # 우리가 최소화하고 싶은 목표 함수\n",
        "    y = (x - 2)**2\n",
        "\n",
        "    # 성능 지표(y값)를 반환\n",
        "    return y\n",
        "\n",
        "# 2. Study 객체 생성\n",
        "# direction='minimize'로 설정하여 objective 함수의 반환값을 최소화하는 것을 목표로 함\n",
        "study = optuna.create_study(direction='minimize')\n",
        "\n",
        "# 3. 최적화 실행\n",
        "# objective 함수를 100번 시도(trial)하여 최적의 x값을 찾음\n",
        "study.optimize(objective_math, n_trials=100)\n",
        "\n",
        "# 최적화 결과 확인\n",
        "print(\"최적의 x 값:\", study.best_params)\n",
        "print(\"해당 x에서의 함수 최솟값:\", study.best_value)"
      ]
    },
    {
      "cell_type": "markdown",
      "metadata": {
        "id": "oDEQ_xxw32sF"
      },
      "source": [
        "위 코드를 실행하면 Optuna가 100번의 시도를 통해 함수 값이 0에 가장 가까워지는 $x$값, 즉 2.0에 매우 근접한 값을 찾아내는 것을 확인할 수 있습니다. \n",
        "\n",
        "#### ✏️ 연습문제 1\n",
        "\n",
        "아래에 정의된 3차 함수 $f(x) = x^3 - 6x^2 + 9x + 1$ 의 최솟값을 $-1$과 $4$ 사이의 범위에서 찾아보세요. Optuna를 사용하여 `objective` 함수를 정의하고, 50번의 `trial`을 통해 최솟값과 그때의 $x$값을 출력하는 코드를 작성하세요."
      ]
    },
    {
      "cell_type": "code",
      "execution_count": null,
      "metadata": {
        "id": "8cz6DHOw32sF"
      },
      "outputs": [],
      "source": [
        "# 여기에 코드를 작성하세요.\n",
        "def objective_poly(trial):\n",
        "    # -1과 4 사이에서 x값을 제안받으세요.\n",
        "    # 3차 함수식을 계산하여 반환하세요.\n",
        "    return # 여기에 식 작성\n",
        "\n",
        "# study 객체를 생성하고 'minimize' 방향으로 설정하세요.\n",
        "study_poly = ??\n",
        "\n",
        "# 50번의 trial로 최적화를 실행하세요.\n",
        "\n",
        "# 결과를 출력하세요.\n",
        "print(\"Best params:\", study_poly.best_params)\n",
        "print(\"Best value:\", study_poly.best_value)"
      ]
    },
    {
      "cell_type": "markdown",
      "metadata": {
        "id": "vbDLpJGQ32sF"
      },
      "source": [
        "---\n",
        "\n",
        "### 3. 실전! 머신러닝 모델에 Optuna 적용하기\n",
        "\n",
        "이제 실제 머신러닝 모델의 하이퍼파라미터 튜닝에 Optuna를 적용해 보겠습니다. \n",
        "\n",
        "`scikit-learn`의 와인 데이터셋(Wine dataset)을 사용하여 `RandomForestClassifier`의 분류 정확도를 극대화하는 최적의 하이퍼파라미터 조합을 찾아보겠습니다.\n",
        "\n",
        "#### 🧠 개념 이해하기: 탐색 공간(Search Space) 정의\n",
        "\n",
        "Optuna의 `trial` 객체는 다양한 타입의 하이퍼파라미터 값을 제안하는 여러 메소드를 제공합니다.\n",
        "\n",
        "* `trial.suggest_int(name, low, high)`: `low`와 `high` 사이의 `하이퍼파라미터(Hyperparameter)`를 추천합니다. (예: 트리의 개수)\n",
        "  \n",
        "* `trial.suggest_float(name, low, high)`: `low`와 `high` 사이의 `Optuna(옵튜나)`를 추천합니다. (예: Regularization 강도)\n",
        "* `trial.suggest_categorical(name, choices)`: 주어진 리스트(`choices`) 안에서 하나의 `그리드 탐색 (Grid Search)`를 선택합니다. (예: `['gini', 'entropy']`)\n",
        "* `trial.suggest_loguniform(name, low, high)`: 로그 스케일에서 균등하게 `랜덤 탐색 (Random Search)`를 추천합니다. $10^{-5}$ 에서 $10^{-1}$ 처럼 매우 넓은 범위의 학습률(`learning_rate`) 등을 탐색할 때 유용합니다.\n",
        "\n",
        "#### 💻 코드 예시: RandomForestClassifier 튜닝\n",
        "\n",
        "`RandomForestClassifier`의 주요 하이퍼파라미터인 `n_estimators`, `max_depth`, `min_samples_split` 등을 Optuna로 최적화해 보겠습니다. \n",
        "\n",
        "모델의 성능은 3-Fold 교차 검증(Cross-validation)을 통한 평균 정확도로 평가합니다. "
      ]
    },
    {
      "cell_type": "code",
      "execution_count": 2,
      "metadata": {
        "id": "ZhVeVPTN32sG"
      },
      "outputs": [
        {
          "name": "stderr",
          "output_type": "stream",
          "text": [
            "[I 2025-06-20 08:16:31,798] A new study created in memory with name: no-name-58f82b81-fa27-4c05-9a6c-17a62dc8e276\n",
            "[I 2025-06-20 08:16:33,691] Trial 0 finished with value: 0.9437853107344633 and parameters: {'n_estimators': 376, 'max_depth': 20, 'min_samples_split': 0.17933866076924498, 'criterion': 'gini'}. Best is trial 0 with value: 0.9437853107344633.\n",
            "[I 2025-06-20 08:16:34,171] Trial 1 finished with value: 0.39887005649717516 and parameters: {'n_estimators': 111, 'max_depth': 8, 'min_samples_split': 0.9779844035521922, 'criterion': 'entropy'}. Best is trial 0 with value: 0.9437853107344633.\n",
            "[I 2025-06-20 08:16:34,296] Trial 2 finished with value: 0.9382297551789077 and parameters: {'n_estimators': 266, 'max_depth': 19, 'min_samples_split': 0.21122496867696428, 'criterion': 'gini'}. Best is trial 0 with value: 0.9437853107344633.\n",
            "[I 2025-06-20 08:16:34,418] Trial 3 finished with value: 0.9383239171374765 and parameters: {'n_estimators': 260, 'max_depth': 16, 'min_samples_split': 0.37147390647892464, 'criterion': 'gini'}. Best is trial 0 with value: 0.9437853107344633.\n",
            "[I 2025-06-20 08:16:34,560] Trial 4 finished with value: 0.9271186440677966 and parameters: {'n_estimators': 319, 'max_depth': 30, 'min_samples_split': 0.43111215346132925, 'criterion': 'entropy'}. Best is trial 0 with value: 0.9437853107344633.\n",
            "[I 2025-06-20 08:16:35,061] Trial 5 finished with value: 0.9382297551789077 and parameters: {'n_estimators': 187, 'max_depth': 5, 'min_samples_split': 0.17058401180706712, 'criterion': 'entropy'}. Best is trial 0 with value: 0.9437853107344633.\n",
            "[I 2025-06-20 08:16:35,529] Trial 6 finished with value: 0.9494350282485876 and parameters: {'n_estimators': 66, 'max_depth': 5, 'min_samples_split': 0.11368004638793809, 'criterion': 'gini'}. Best is trial 6 with value: 0.9494350282485876.\n",
            "[I 2025-06-20 08:16:35,983] Trial 7 finished with value: 0.8988700564971751 and parameters: {'n_estimators': 66, 'max_depth': 3, 'min_samples_split': 0.5621923373627457, 'criterion': 'entropy'}. Best is trial 6 with value: 0.9494350282485876.\n",
            "[I 2025-06-20 08:16:36,542] Trial 8 finished with value: 0.9269303201506592 and parameters: {'n_estimators': 352, 'max_depth': 4, 'min_samples_split': 0.5756013703667195, 'criterion': 'entropy'}. Best is trial 6 with value: 0.9494350282485876.\n",
            "[I 2025-06-20 08:16:36,619] Trial 9 finished with value: 0.9382297551789077 and parameters: {'n_estimators': 146, 'max_depth': 6, 'min_samples_split': 0.24106430118795535, 'criterion': 'gini'}. Best is trial 6 with value: 0.9494350282485876.\n",
            "[I 2025-06-20 08:16:36,661] Trial 10 finished with value: 0.39887005649717516 and parameters: {'n_estimators': 62, 'max_depth': 2, 'min_samples_split': 0.7505131560664984, 'criterion': 'gini'}. Best is trial 6 with value: 0.9494350282485876.\n",
            "[I 2025-06-20 08:16:36,837] Trial 11 finished with value: 0.9383239171374765 and parameters: {'n_estimators': 389, 'max_depth': 9, 'min_samples_split': 0.3457259365221706, 'criterion': 'gini'}. Best is trial 6 with value: 0.9494350282485876.\n",
            "[I 2025-06-20 08:16:36,942] Trial 12 finished with value: 0.9494350282485876 and parameters: {'n_estimators': 210, 'max_depth': 12, 'min_samples_split': 0.10736311683883909, 'criterion': 'gini'}. Best is trial 6 with value: 0.9494350282485876.\n",
            "[I 2025-06-20 08:16:37,468] Trial 13 finished with value: 0.9438794726930321 and parameters: {'n_estimators': 207, 'max_depth': 9, 'min_samples_split': 0.15573778754516218, 'criterion': 'gini'}. Best is trial 6 with value: 0.9494350282485876.\n",
            "[I 2025-06-20 08:16:37,550] Trial 14 finished with value: 0.9494350282485876 and parameters: {'n_estimators': 139, 'max_depth': 13, 'min_samples_split': 0.10047851069164247, 'criterion': 'gini'}. Best is trial 6 with value: 0.9494350282485876.\n",
            "[I 2025-06-20 08:16:37,679] Trial 15 finished with value: 0.39887005649717516 and parameters: {'n_estimators': 301, 'max_depth': 3, 'min_samples_split': 0.7370418828230223, 'criterion': 'gini'}. Best is trial 6 with value: 0.9494350282485876.\n",
            "[I 2025-06-20 08:16:37,772] Trial 16 finished with value: 0.9438794726930321 and parameters: {'n_estimators': 176, 'max_depth': 2, 'min_samples_split': 0.2977211372531013, 'criterion': 'gini'}. Best is trial 6 with value: 0.9494350282485876.\n",
            "[I 2025-06-20 08:16:38,304] Trial 17 finished with value: 0.9383239171374765 and parameters: {'n_estimators': 241, 'max_depth': 12, 'min_samples_split': 0.4579625028794852, 'criterion': 'gini'}. Best is trial 6 with value: 0.9494350282485876.\n",
            "[I 2025-06-20 08:16:38,374] Trial 18 finished with value: 0.39887005649717516 and parameters: {'n_estimators': 100, 'max_depth': 32, 'min_samples_split': 0.6768910711830247, 'criterion': 'gini'}. Best is trial 6 with value: 0.9494350282485876.\n",
            "[I 2025-06-20 08:16:38,419] Trial 19 finished with value: 0.9437853107344633 and parameters: {'n_estimators': 51, 'max_depth': 4, 'min_samples_split': 0.10889324862197095, 'criterion': 'gini'}. Best is trial 6 with value: 0.9494350282485876.\n",
            "[I 2025-06-20 08:16:38,498] Trial 20 finished with value: 0.39887005649717516 and parameters: {'n_estimators': 150, 'max_depth': 6, 'min_samples_split': 0.9669894099875541, 'criterion': 'gini'}. Best is trial 6 with value: 0.9494350282485876.\n",
            "[I 2025-06-20 08:16:38,566] Trial 21 finished with value: 0.9494350282485876 and parameters: {'n_estimators': 111, 'max_depth': 14, 'min_samples_split': 0.10390539618905024, 'criterion': 'gini'}. Best is trial 6 with value: 0.9494350282485876.\n",
            "[I 2025-06-20 08:16:38,646] Trial 22 finished with value: 0.9495291902071563 and parameters: {'n_estimators': 151, 'max_depth': 11, 'min_samples_split': 0.27119801384423303, 'criterion': 'gini'}. Best is trial 22 with value: 0.9495291902071563.\n",
            "[I 2025-06-20 08:16:38,760] Trial 23 finished with value: 0.9438794726930321 and parameters: {'n_estimators': 221, 'max_depth': 10, 'min_samples_split': 0.2714425332330027, 'criterion': 'gini'}. Best is trial 22 with value: 0.9495291902071563.\n",
            "[I 2025-06-20 08:16:38,854] Trial 24 finished with value: 0.9495291902071563 and parameters: {'n_estimators': 180, 'max_depth': 7, 'min_samples_split': 0.24702834865612877, 'criterion': 'gini'}. Best is trial 22 with value: 0.9495291902071563.\n",
            "[I 2025-06-20 08:16:38,936] Trial 25 finished with value: 0.938135593220339 and parameters: {'n_estimators': 173, 'max_depth': 7, 'min_samples_split': 0.46891395188238866, 'criterion': 'gini'}. Best is trial 22 with value: 0.9495291902071563.\n",
            "[I 2025-06-20 08:16:38,987] Trial 26 finished with value: 0.9383239171374765 and parameters: {'n_estimators': 90, 'max_depth': 5, 'min_samples_split': 0.333709736548136, 'criterion': 'entropy'}. Best is trial 22 with value: 0.9495291902071563.\n",
            "[I 2025-06-20 08:16:39,057] Trial 27 finished with value: 0.9494350282485876 and parameters: {'n_estimators': 127, 'max_depth': 3, 'min_samples_split': 0.2463094538764121, 'criterion': 'gini'}. Best is trial 22 with value: 0.9495291902071563.\n",
            "[I 2025-06-20 08:16:39,529] Trial 28 finished with value: 0.9383239171374765 and parameters: {'n_estimators': 88, 'max_depth': 4, 'min_samples_split': 0.3825671473938516, 'criterion': 'gini'}. Best is trial 22 with value: 0.9495291902071563.\n",
            "[I 2025-06-20 08:16:39,637] Trial 29 finished with value: 0.9382297551789077 and parameters: {'n_estimators': 166, 'max_depth': 7, 'min_samples_split': 0.19011053488652668, 'criterion': 'gini'}. Best is trial 22 with value: 0.9495291902071563.\n",
            "[I 2025-06-20 08:16:39,754] Trial 30 finished with value: 0.9438794726930321 and parameters: {'n_estimators': 195, 'max_depth': 21, 'min_samples_split': 0.28849546740961823, 'criterion': 'gini'}. Best is trial 22 with value: 0.9495291902071563.\n",
            "[I 2025-06-20 08:16:39,872] Trial 31 finished with value: 0.9382297551789077 and parameters: {'n_estimators': 238, 'max_depth': 10, 'min_samples_split': 0.1817004315282861, 'criterion': 'gini'}. Best is trial 22 with value: 0.9495291902071563.\n",
            "[I 2025-06-20 08:16:39,992] Trial 32 finished with value: 0.9437853107344633 and parameters: {'n_estimators': 218, 'max_depth': 11, 'min_samples_split': 0.14945652982663765, 'criterion': 'gini'}. Best is trial 22 with value: 0.9495291902071563.\n",
            "[I 2025-06-20 08:16:40,071] Trial 33 finished with value: 0.9382297551789077 and parameters: {'n_estimators': 123, 'max_depth': 18, 'min_samples_split': 0.22363039675146856, 'criterion': 'gini'}. Best is trial 22 with value: 0.9495291902071563.\n",
            "[I 2025-06-20 08:16:40,209] Trial 34 finished with value: 0.9382297551789077 and parameters: {'n_estimators': 277, 'max_depth': 8, 'min_samples_split': 0.2135718980848495, 'criterion': 'gini'}. Best is trial 22 with value: 0.9495291902071563.\n",
            "[I 2025-06-20 08:16:40,291] Trial 35 finished with value: 0.9438794726930321 and parameters: {'n_estimators': 162, 'max_depth': 15, 'min_samples_split': 0.3999726050287534, 'criterion': 'entropy'}. Best is trial 22 with value: 0.9495291902071563.\n",
            "[I 2025-06-20 08:16:40,396] Trial 36 finished with value: 0.9326741996233522 and parameters: {'n_estimators': 201, 'max_depth': 6, 'min_samples_split': 0.49853973292961085, 'criterion': 'gini'}. Best is trial 22 with value: 0.9495291902071563.\n",
            "[I 2025-06-20 08:16:40,528] Trial 37 finished with value: 0.9438794726930321 and parameters: {'n_estimators': 254, 'max_depth': 26, 'min_samples_split': 0.32176938006936107, 'criterion': 'entropy'}. Best is trial 22 with value: 0.9495291902071563.\n",
            "[I 2025-06-20 08:16:40,668] Trial 38 finished with value: 0.9437853107344633 and parameters: {'n_estimators': 292, 'max_depth': 5, 'min_samples_split': 0.14356117415091874, 'criterion': 'gini'}. Best is trial 22 with value: 0.9495291902071563.\n",
            "[I 2025-06-20 08:16:40,771] Trial 39 finished with value: 0.9325800376647835 and parameters: {'n_estimators': 185, 'max_depth': 17, 'min_samples_split': 0.25889183312705233, 'criterion': 'entropy'}. Best is trial 22 with value: 0.9495291902071563.\n",
            "[I 2025-06-20 08:16:40,924] Trial 40 finished with value: 0.39887005649717516 and parameters: {'n_estimators': 344, 'max_depth': 8, 'min_samples_split': 0.8717092721537685, 'criterion': 'gini'}. Best is trial 22 with value: 0.9495291902071563.\n",
            "[I 2025-06-20 08:16:41,008] Trial 41 finished with value: 0.9437853107344633 and parameters: {'n_estimators': 139, 'max_depth': 12, 'min_samples_split': 0.1063305124379656, 'criterion': 'gini'}. Best is trial 22 with value: 0.9495291902071563.\n",
            "[I 2025-06-20 08:16:41,091] Trial 42 finished with value: 0.9494350282485876 and parameters: {'n_estimators': 151, 'max_depth': 21, 'min_samples_split': 0.145209646815806, 'criterion': 'gini'}. Best is trial 22 with value: 0.9495291902071563.\n",
            "[I 2025-06-20 08:16:41,159] Trial 43 finished with value: 0.9438794726930321 and parameters: {'n_estimators': 122, 'max_depth': 13, 'min_samples_split': 0.19475387706497216, 'criterion': 'gini'}. Best is trial 22 with value: 0.9495291902071563.\n",
            "[I 2025-06-20 08:16:41,215] Trial 44 finished with value: 0.9437853107344633 and parameters: {'n_estimators': 75, 'max_depth': 8, 'min_samples_split': 0.13369209086273265, 'criterion': 'gini'}. Best is trial 22 with value: 0.9495291902071563.\n",
            "[I 2025-06-20 08:16:41,321] Trial 45 finished with value: 0.9438794726930321 and parameters: {'n_estimators': 208, 'max_depth': 10, 'min_samples_split': 0.22167715155275342, 'criterion': 'gini'}. Best is trial 22 with value: 0.9495291902071563.\n",
            "[I 2025-06-20 08:16:41,414] Trial 46 finished with value: 0.9382297551789077 and parameters: {'n_estimators': 186, 'max_depth': 9, 'min_samples_split': 0.1759913080308892, 'criterion': 'gini'}. Best is trial 22 with value: 0.9495291902071563.\n",
            "[I 2025-06-20 08:16:41,483] Trial 47 finished with value: 0.9158192090395479 and parameters: {'n_estimators': 137, 'max_depth': 14, 'min_samples_split': 0.6029471686002794, 'criterion': 'gini'}. Best is trial 22 with value: 0.9495291902071563.\n",
            "[I 2025-06-20 08:16:41,550] Trial 48 finished with value: 0.9382297551789077 and parameters: {'n_estimators': 106, 'max_depth': 6, 'min_samples_split': 0.10530082831194615, 'criterion': 'entropy'}. Best is trial 22 with value: 0.9495291902071563.\n",
            "[I 2025-06-20 08:16:41,596] Trial 49 finished with value: 0.9494350282485876 and parameters: {'n_estimators': 74, 'max_depth': 12, 'min_samples_split': 0.3120721785244661, 'criterion': 'gini'}. Best is trial 22 with value: 0.9495291902071563.\n",
            "[I 2025-06-20 08:16:41,678] Trial 50 finished with value: 0.9382297551789077 and parameters: {'n_estimators': 160, 'max_depth': 16, 'min_samples_split': 0.36497921143273665, 'criterion': 'gini'}. Best is trial 22 with value: 0.9495291902071563.\n",
            "[I 2025-06-20 08:16:41,746] Trial 51 finished with value: 0.9494350282485876 and parameters: {'n_estimators': 112, 'max_depth': 15, 'min_samples_split': 0.11840109577242697, 'criterion': 'gini'}. Best is trial 22 with value: 0.9495291902071563.\n",
            "[I 2025-06-20 08:16:41,792] Trial 52 finished with value: 0.9437853107344633 and parameters: {'n_estimators': 51, 'max_depth': 5, 'min_samples_split': 0.15682175345654153, 'criterion': 'gini'}. Best is trial 22 with value: 0.9495291902071563.\n",
            "[I 2025-06-20 08:16:41,850] Trial 53 finished with value: 0.9495291902071563 and parameters: {'n_estimators': 101, 'max_depth': 24, 'min_samples_split': 0.24285994722382598, 'criterion': 'gini'}. Best is trial 22 with value: 0.9495291902071563.\n",
            "[I 2025-06-20 08:16:41,902] Trial 54 finished with value: 0.9383239171374765 and parameters: {'n_estimators': 95, 'max_depth': 25, 'min_samples_split': 0.24783728532526286, 'criterion': 'gini'}. Best is trial 22 with value: 0.9495291902071563.\n",
            "[I 2025-06-20 08:16:41,971] Trial 55 finished with value: 0.9494350282485876 and parameters: {'n_estimators': 134, 'max_depth': 25, 'min_samples_split': 0.2862241995535181, 'criterion': 'gini'}. Best is trial 22 with value: 0.9495291902071563.\n",
            "[I 2025-06-20 08:16:42,016] Trial 56 finished with value: 0.9495291902071563 and parameters: {'n_estimators': 73, 'max_depth': 19, 'min_samples_split': 0.4079446886687991, 'criterion': 'gini'}. Best is trial 22 with value: 0.9495291902071563.\n",
            "[I 2025-06-20 08:16:42,057] Trial 57 finished with value: 0.9438794726930321 and parameters: {'n_estimators': 58, 'max_depth': 20, 'min_samples_split': 0.4246373113937407, 'criterion': 'gini'}. Best is trial 22 with value: 0.9495291902071563.\n",
            "[I 2025-06-20 08:16:42,103] Trial 58 finished with value: 0.9158192090395479 and parameters: {'n_estimators': 76, 'max_depth': 28, 'min_samples_split': 0.5223358225252682, 'criterion': 'gini'}. Best is trial 22 with value: 0.9495291902071563.\n",
            "[I 2025-06-20 08:16:42,161] Trial 59 finished with value: 0.9382297551789077 and parameters: {'n_estimators': 89, 'max_depth': 22, 'min_samples_split': 0.41420757468997604, 'criterion': 'gini'}. Best is trial 22 with value: 0.9495291902071563.\n",
            "[I 2025-06-20 08:16:42,279] Trial 60 finished with value: 0.9438794726930321 and parameters: {'n_estimators': 236, 'max_depth': 19, 'min_samples_split': 0.357687612413203, 'criterion': 'entropy'}. Best is trial 22 with value: 0.9495291902071563.\n",
            "[I 2025-06-20 08:16:42,323] Trial 61 finished with value: 0.9439736346516008 and parameters: {'n_estimators': 67, 'max_depth': 23, 'min_samples_split': 0.21961786131690095, 'criterion': 'gini'}. Best is trial 22 with value: 0.9495291902071563.\n",
            "[I 2025-06-20 08:16:42,392] Trial 62 finished with value: 0.9494350282485876 and parameters: {'n_estimators': 115, 'max_depth': 4, 'min_samples_split': 0.2791252817188915, 'criterion': 'gini'}. Best is trial 22 with value: 0.9495291902071563.\n",
            "[I 2025-06-20 08:16:42,483] Trial 63 finished with value: 0.9438794726930321 and parameters: {'n_estimators': 177, 'max_depth': 30, 'min_samples_split': 0.16611471411332304, 'criterion': 'gini'}. Best is trial 22 with value: 0.9495291902071563.\n",
            "[I 2025-06-20 08:16:42,542] Trial 64 finished with value: 0.9495291902071563 and parameters: {'n_estimators': 84, 'max_depth': 11, 'min_samples_split': 0.1961429606991037, 'criterion': 'gini'}. Best is trial 22 with value: 0.9495291902071563.\n",
            "[I 2025-06-20 08:16:42,599] Trial 65 finished with value: 0.9550847457627119 and parameters: {'n_estimators': 81, 'max_depth': 11, 'min_samples_split': 0.24228757283052352, 'criterion': 'gini'}. Best is trial 65 with value: 0.9550847457627119.\n",
            "[I 2025-06-20 08:16:42,645] Trial 66 finished with value: 0.9438794726930321 and parameters: {'n_estimators': 79, 'max_depth': 11, 'min_samples_split': 0.3363032753311495, 'criterion': 'gini'}. Best is trial 65 with value: 0.9550847457627119.\n",
            "[I 2025-06-20 08:16:42,701] Trial 67 finished with value: 0.9495291902071563 and parameters: {'n_estimators': 97, 'max_depth': 7, 'min_samples_split': 0.2543278569783093, 'criterion': 'gini'}. Best is trial 65 with value: 0.9550847457627119.\n",
            "[I 2025-06-20 08:16:42,758] Trial 68 finished with value: 0.9550847457627119 and parameters: {'n_estimators': 86, 'max_depth': 7, 'min_samples_split': 0.25247062859103053, 'criterion': 'gini'}. Best is trial 65 with value: 0.9550847457627119.\n",
            "[I 2025-06-20 08:16:42,816] Trial 69 finished with value: 0.9383239171374765 and parameters: {'n_estimators': 107, 'max_depth': 9, 'min_samples_split': 0.3094407791875181, 'criterion': 'gini'}. Best is trial 65 with value: 0.9550847457627119.\n",
            "[I 2025-06-20 08:16:42,862] Trial 70 finished with value: 0.9438794726930321 and parameters: {'n_estimators': 85, 'max_depth': 11, 'min_samples_split': 0.377125304284063, 'criterion': 'gini'}. Best is trial 65 with value: 0.9550847457627119.\n",
            "[I 2025-06-20 08:16:42,920] Trial 71 finished with value: 0.9439736346516008 and parameters: {'n_estimators': 95, 'max_depth': 7, 'min_samples_split': 0.25499473451638976, 'criterion': 'gini'}. Best is trial 65 with value: 0.9550847457627119.\n",
            "[I 2025-06-20 08:16:42,967] Trial 72 finished with value: 0.9438794726930321 and parameters: {'n_estimators': 63, 'max_depth': 10, 'min_samples_split': 0.1988930146940617, 'criterion': 'gini'}. Best is trial 65 with value: 0.9550847457627119.\n",
            "[I 2025-06-20 08:16:43,024] Trial 73 finished with value: 0.9495291902071563 and parameters: {'n_estimators': 100, 'max_depth': 9, 'min_samples_split': 0.23557867679120792, 'criterion': 'gini'}. Best is trial 65 with value: 0.9550847457627119.\n",
            "[I 2025-06-20 08:16:43,095] Trial 74 finished with value: 0.9383239171374765 and parameters: {'n_estimators': 120, 'max_depth': 8, 'min_samples_split': 0.2803623670423676, 'criterion': 'gini'}. Best is trial 65 with value: 0.9550847457627119.\n",
            "[I 2025-06-20 08:16:43,154] Trial 75 finished with value: 0.9494350282485876 and parameters: {'n_estimators': 81, 'max_depth': 6, 'min_samples_split': 0.34133252940450287, 'criterion': 'gini'}. Best is trial 65 with value: 0.9550847457627119.\n",
            "[I 2025-06-20 08:16:43,199] Trial 76 finished with value: 0.9494350282485876 and parameters: {'n_estimators': 68, 'max_depth': 14, 'min_samples_split': 0.30936232221211624, 'criterion': 'gini'}. Best is trial 65 with value: 0.9550847457627119.\n",
            "[I 2025-06-20 08:16:43,255] Trial 77 finished with value: 0.9269303201506592 and parameters: {'n_estimators': 100, 'max_depth': 7, 'min_samples_split': 0.4603066645101864, 'criterion': 'gini'}. Best is trial 65 with value: 0.9550847457627119.\n",
            "[I 2025-06-20 08:16:43,297] Trial 78 finished with value: 0.9494350282485876 and parameters: {'n_estimators': 50, 'max_depth': 8, 'min_samples_split': 0.26242923853471734, 'criterion': 'entropy'}. Best is trial 65 with value: 0.9550847457627119.\n",
            "[I 2025-06-20 08:16:43,367] Trial 79 finished with value: 0.9438794726930321 and parameters: {'n_estimators': 127, 'max_depth': 17, 'min_samples_split': 0.19672060734942906, 'criterion': 'gini'}. Best is trial 65 with value: 0.9550847457627119.\n",
            "[I 2025-06-20 08:16:43,446] Trial 80 finished with value: 0.9382297551789077 and parameters: {'n_estimators': 144, 'max_depth': 10, 'min_samples_split': 0.23702912465543421, 'criterion': 'gini'}. Best is trial 65 with value: 0.9550847457627119.\n",
            "[I 2025-06-20 08:16:43,505] Trial 81 finished with value: 0.9495291902071563 and parameters: {'n_estimators': 99, 'max_depth': 9, 'min_samples_split': 0.23028806838090168, 'criterion': 'gini'}. Best is trial 65 with value: 0.9550847457627119.\n",
            "[I 2025-06-20 08:16:43,562] Trial 82 finished with value: 0.9494350282485876 and parameters: {'n_estimators': 103, 'max_depth': 13, 'min_samples_split': 0.2948501469848175, 'criterion': 'gini'}. Best is trial 65 with value: 0.9550847457627119.\n",
            "[I 2025-06-20 08:16:43,617] Trial 83 finished with value: 0.9382297551789077 and parameters: {'n_estimators': 88, 'max_depth': 11, 'min_samples_split': 0.20881874500365644, 'criterion': 'gini'}. Best is trial 65 with value: 0.9550847457627119.\n",
            "[I 2025-06-20 08:16:43,662] Trial 84 finished with value: 0.9494350282485876 and parameters: {'n_estimators': 62, 'max_depth': 7, 'min_samples_split': 0.26738101938627473, 'criterion': 'gini'}. Best is trial 65 with value: 0.9550847457627119.\n",
            "[I 2025-06-20 08:16:43,732] Trial 85 finished with value: 0.9494350282485876 and parameters: {'n_estimators': 114, 'max_depth': 9, 'min_samples_split': 0.18281410919775914, 'criterion': 'gini'}. Best is trial 65 with value: 0.9550847457627119.\n",
            "[I 2025-06-20 08:16:43,799] Trial 86 finished with value: 0.9158192090395479 and parameters: {'n_estimators': 129, 'max_depth': 12, 'min_samples_split': 0.5998395804943208, 'criterion': 'gini'}. Best is trial 65 with value: 0.9550847457627119.\n",
            "[I 2025-06-20 08:16:43,854] Trial 87 finished with value: 0.9438794726930321 and parameters: {'n_estimators': 93, 'max_depth': 8, 'min_samples_split': 0.2352081471981517, 'criterion': 'gini'}. Best is trial 65 with value: 0.9550847457627119.\n",
            "[I 2025-06-20 08:16:43,935] Trial 88 finished with value: 0.9383239171374765 and parameters: {'n_estimators': 154, 'max_depth': 6, 'min_samples_split': 0.3966592271627021, 'criterion': 'gini'}. Best is trial 65 with value: 0.9550847457627119.\n",
            "[I 2025-06-20 08:16:43,982] Trial 89 finished with value: 0.9550847457627119 and parameters: {'n_estimators': 71, 'max_depth': 32, 'min_samples_split': 0.3214437137134134, 'criterion': 'gini'}. Best is trial 65 with value: 0.9550847457627119.\n",
            "[I 2025-06-20 08:16:44,028] Trial 90 finished with value: 0.9495291902071563 and parameters: {'n_estimators': 70, 'max_depth': 29, 'min_samples_split': 0.32604505954105656, 'criterion': 'entropy'}. Best is trial 65 with value: 0.9550847457627119.\n",
            "[I 2025-06-20 08:16:44,083] Trial 91 finished with value: 0.9550847457627119 and parameters: {'n_estimators': 81, 'max_depth': 23, 'min_samples_split': 0.24248628433184036, 'criterion': 'gini'}. Best is trial 65 with value: 0.9550847457627119.\n",
            "[I 2025-06-20 08:16:44,139] Trial 92 finished with value: 0.9550847457627119 and parameters: {'n_estimators': 81, 'max_depth': 23, 'min_samples_split': 0.2623353150052863, 'criterion': 'gini'}. Best is trial 65 with value: 0.9550847457627119.\n",
            "[I 2025-06-20 08:16:44,196] Trial 93 finished with value: 0.9495291902071563 and parameters: {'n_estimators': 79, 'max_depth': 32, 'min_samples_split': 0.2974127211280252, 'criterion': 'gini'}. Best is trial 65 with value: 0.9550847457627119.\n",
            "[I 2025-06-20 08:16:44,242] Trial 94 finished with value: 0.9437853107344633 and parameters: {'n_estimators': 56, 'max_depth': 23, 'min_samples_split': 0.357969363582041, 'criterion': 'gini'}. Best is trial 65 with value: 0.9550847457627119.\n",
            "[I 2025-06-20 08:16:44,300] Trial 95 finished with value: 0.9495291902071563 and parameters: {'n_estimators': 85, 'max_depth': 27, 'min_samples_split': 0.21140128852993534, 'criterion': 'gini'}. Best is trial 65 with value: 0.9550847457627119.\n",
            "[I 2025-06-20 08:16:44,342] Trial 96 finished with value: 0.9438794726930321 and parameters: {'n_estimators': 61, 'max_depth': 24, 'min_samples_split': 0.27283008126060526, 'criterion': 'gini'}. Best is trial 65 with value: 0.9550847457627119.\n",
            "[I 2025-06-20 08:16:44,386] Trial 97 finished with value: 0.9550847457627119 and parameters: {'n_estimators': 73, 'max_depth': 18, 'min_samples_split': 0.17598584600282866, 'criterion': 'gini'}. Best is trial 65 with value: 0.9550847457627119.\n",
            "[I 2025-06-20 08:16:44,434] Trial 98 finished with value: 0.9494350282485876 and parameters: {'n_estimators': 73, 'max_depth': 18, 'min_samples_split': 0.17771046797715442, 'criterion': 'gini'}. Best is trial 65 with value: 0.9550847457627119.\n",
            "[I 2025-06-20 08:16:44,480] Trial 99 finished with value: 0.9438794726930321 and parameters: {'n_estimators': 69, 'max_depth': 21, 'min_samples_split': 0.3140124815364791, 'criterion': 'gini'}. Best is trial 65 with value: 0.9550847457627119.\n"
          ]
        },
        {
          "name": "stdout",
          "output_type": "stream",
          "text": [
            "최고 정확도: 0.9550847457627119\n",
            "최적 하이퍼파라미터: {'n_estimators': 81, 'max_depth': 11, 'min_samples_split': 0.24228757283052352, 'criterion': 'gini'}\n"
          ]
        }
      ],
      "source": [
        "import optuna\n",
        "from sklearn.datasets import load_wine\n",
        "from sklearn.ensemble import RandomForestClassifier\n",
        "from sklearn.model_selection import cross_val_score\n",
        "\n",
        "# 1. 데이터 로드\n",
        "X, y = load_wine(return_X_y=True)\n",
        "\n",
        "# 2. Objective 함수 정의\n",
        "def objective_rf(trial):\n",
        "    # 튜닝할 하이퍼파라미터들의 탐색 공간 정의\n",
        "    n_estimators = trial.suggest_int('n_estimators', 50, 400)\n",
        "    max_depth = trial.suggest_int('max_depth', 2, 32, log=True) # 로그 스케일로 탐색\n",
        "    min_samples_split = trial.suggest_float('min_samples_split', 0.1, 1.0)\n",
        "    criterion = trial.suggest_categorical('criterion', ['gini', 'entropy'])\n",
        "\n",
        "    # 제안받은 하이퍼파라미터로 모델 생성\n",
        "    model = RandomForestClassifier(\n",
        "        n_estimators=n_estimators,\n",
        "        max_depth=max_depth,\n",
        "        min_samples_split=min_samples_split,\n",
        "        criterion=criterion,\n",
        "        random_state=42\n",
        "    )\n",
        "\n",
        "    # 3-Fold 교차 검증으로 정확도 계산\n",
        "    score = cross_val_score(model, X, y, n_jobs=-1, cv=3)\n",
        "    accuracy = score.mean()\n",
        "\n",
        "    return accuracy\n",
        "\n",
        "# 3. Study 생성 및 최적화 실행\n",
        "# 정확도를 '최대화'하는 것이 목표\n",
        "study_rf = optuna.create_study(direction='maximize')\n",
        "study_rf.optimize(objective_rf, n_trials=100) # 100번 시도\n",
        "\n",
        "# 결과 출력\n",
        "print(\"최고 정확도:\", study_rf.best_value)\n",
        "print(\"최적 하이퍼파라미터:\", study_rf.best_params)"
      ]
    },
    {
      "cell_type": "markdown",
      "metadata": {
        "id": "A6UgVeQ932sG"
      },
      "source": [
        "위 코드는 랜덤 포레스트 모델의 정확도를 최대화하는 파라미터 조합을 100번의 시도 끝에 찾아냅니다.  \n",
        "\n",
        "`direction='maximize'`로 설정하여 `objective_rf` 함수가 반환하는 정확도(`accuracy`)를 가장 높이는 방향으로 탐색이 진행됩니다."
      ]
    },
    {
      "cell_type": "markdown",
      "metadata": {},
      "source": [
        "\n",
        "#### ✏️ 연습문제 2\n",
        "\n",
        "이번에는 캘리포니아 주택 가격 데이터셋 `fetch_california_housing`의 주택가격 예측 문제를 해결하는 `LightGBM` 회귀 모델(`LGBMRegressor`)의 성능을 최적화해 봅시다.\n",
        "\n",
        "`LGBMRegressor`의 `n_estimators`, `learning_rate`, `num_leaves` 세 가지 하이퍼파라미터를 튜닝하세요. \n",
        "\n",
        "성능 지표는 `하이퍼파라미터(Hyperparameter)`를 사용하고, 이 값을 `Optuna(옵튜나)`하는 방향으로 최적화를 수행하세요. (RMSE를 최소화하는 것과 동일합니다.)"
      ]
    },
    {
      "cell_type": "code",
      "execution_count": null,
      "metadata": {
        "id": "jC4qZfKV32sG"
      },
      "outputs": [],
      "source": [
        "import numpy as np\n",
        "from lightgbm import LGBMRegressor\n",
        "from sklearn.datasets import fetch_california_housing\n",
        "from sklearn.model_selection import cross_val_score\n",
        "from sklearn.metrics import mean_squared_error\n",
        "\n",
        "# 데이터 로드\n",
        "X, y = fetch_california_housing(return_X_y=True)\n",
        "\n",
        "def objective_lgbm(trial):\n",
        "    # LGBMRegressor의 하이퍼파라미터 탐색 공간을 정의하세요.\n",
        "    # n_estimators: 100 ~ 1000\n",
        "    n_estimators = ?\n",
        "    # learning_rate: 0.01 ~ 0.3 (로그 스케일)\n",
        "    learning_rate = ?\n",
        "    # num_leaves: 20 ~ 300\n",
        "    num_leaves = ?\n",
        "\n",
        "    model = ?\n",
        "\n",
        "    # 3-Fold 교차 검증을 사용하여 'neg_root_mean_squared_error'를 계산하세요.\n",
        "    score = ?\n",
        "    neg_rmse = ?\n",
        "\n",
        "    return neg_rmse\n",
        "\n",
        "# study 객체를 생성하고 'maximize' 방향으로 50번의 trial을 실행하세요.\n",
        "study_lgbm = ?\n",
        "\n",
        "# 결과 출력 (최적 RMSE는 best_value에 -1을 곱해주면 됩니다.)\n",
        "print(\"Best Negative RMSE:\", study_lgbm.best_value)\n",
        "print(\"Best RMSE:\", -study_lgbm.best_value)\n",
        "print(\"Best Hyperparameters:\", study_lgbm.best_params)"
      ]
    },
    {
      "cell_type": "markdown",
      "metadata": {
        "id": "x2KViNkD32sH"
      },
      "source": [
        "---\n",
        "\n",
        "### 4. 최적화 과정 엿보기: 시각화\n",
        "\n",
        "Optuna의 가장 강력한 기능 중 하나는 최적화 과정을 시각적으로 분석할 수 있는 다양한 도구를 제공한다는 점입니다. \n",
        "\n",
        "이를 통해 우리는 단순히 최종 결과만 얻는 것이 아니라, 어떤 하이퍼파라미터가 중요한지, 탐색이 어떻게 진행되었는지 깊이 있게 이해할 수 있습니다.\n",
        "\n",
        "#### 💻 코드 예시: Optuna 시각화 기능 사용하기\n",
        "\n",
        "앞서 실행한 랜덤 포레스트 튜닝(`study_rf`) 결과를 바탕으로 몇 가지 유용한 시각화 차트를 그려보겠습니다."
      ]
    },
    {
      "cell_type": "code",
      "execution_count": 3,
      "metadata": {
        "id": "zppGjN5132sH"
      },
      "outputs": [
        {
          "data": {
            "application/vnd.plotly.v1+json": {
              "config": {
                "plotlyServerURL": "https://plot.ly"
              },
              "data": [
                {
                  "mode": "markers",
                  "name": "Objective Value",
                  "type": "scatter",
                  "x": [
                    0,
                    1,
                    2,
                    3,
                    4,
                    5,
                    6,
                    7,
                    8,
                    9,
                    10,
                    11,
                    12,
                    13,
                    14,
                    15,
                    16,
                    17,
                    18,
                    19,
                    20,
                    21,
                    22,
                    23,
                    24,
                    25,
                    26,
                    27,
                    28,
                    29,
                    30,
                    31,
                    32,
                    33,
                    34,
                    35,
                    36,
                    37,
                    38,
                    39,
                    40,
                    41,
                    42,
                    43,
                    44,
                    45,
                    46,
                    47,
                    48,
                    49,
                    50,
                    51,
                    52,
                    53,
                    54,
                    55,
                    56,
                    57,
                    58,
                    59,
                    60,
                    61,
                    62,
                    63,
                    64,
                    65,
                    66,
                    67,
                    68,
                    69,
                    70,
                    71,
                    72,
                    73,
                    74,
                    75,
                    76,
                    77,
                    78,
                    79,
                    80,
                    81,
                    82,
                    83,
                    84,
                    85,
                    86,
                    87,
                    88,
                    89,
                    90,
                    91,
                    92,
                    93,
                    94,
                    95,
                    96,
                    97,
                    98,
                    99
                  ],
                  "y": [
                    0.9437853107344633,
                    0.39887005649717516,
                    0.9382297551789077,
                    0.9383239171374765,
                    0.9271186440677966,
                    0.9382297551789077,
                    0.9494350282485876,
                    0.8988700564971751,
                    0.9269303201506592,
                    0.9382297551789077,
                    0.39887005649717516,
                    0.9383239171374765,
                    0.9494350282485876,
                    0.9438794726930321,
                    0.9494350282485876,
                    0.39887005649717516,
                    0.9438794726930321,
                    0.9383239171374765,
                    0.39887005649717516,
                    0.9437853107344633,
                    0.39887005649717516,
                    0.9494350282485876,
                    0.9495291902071563,
                    0.9438794726930321,
                    0.9495291902071563,
                    0.938135593220339,
                    0.9383239171374765,
                    0.9494350282485876,
                    0.9383239171374765,
                    0.9382297551789077,
                    0.9438794726930321,
                    0.9382297551789077,
                    0.9437853107344633,
                    0.9382297551789077,
                    0.9382297551789077,
                    0.9438794726930321,
                    0.9326741996233522,
                    0.9438794726930321,
                    0.9437853107344633,
                    0.9325800376647835,
                    0.39887005649717516,
                    0.9437853107344633,
                    0.9494350282485876,
                    0.9438794726930321,
                    0.9437853107344633,
                    0.9438794726930321,
                    0.9382297551789077,
                    0.9158192090395479,
                    0.9382297551789077,
                    0.9494350282485876,
                    0.9382297551789077,
                    0.9494350282485876,
                    0.9437853107344633,
                    0.9495291902071563,
                    0.9383239171374765,
                    0.9494350282485876,
                    0.9495291902071563,
                    0.9438794726930321,
                    0.9158192090395479,
                    0.9382297551789077,
                    0.9438794726930321,
                    0.9439736346516008,
                    0.9494350282485876,
                    0.9438794726930321,
                    0.9495291902071563,
                    0.9550847457627119,
                    0.9438794726930321,
                    0.9495291902071563,
                    0.9550847457627119,
                    0.9383239171374765,
                    0.9438794726930321,
                    0.9439736346516008,
                    0.9438794726930321,
                    0.9495291902071563,
                    0.9383239171374765,
                    0.9494350282485876,
                    0.9494350282485876,
                    0.9269303201506592,
                    0.9494350282485876,
                    0.9438794726930321,
                    0.9382297551789077,
                    0.9495291902071563,
                    0.9494350282485876,
                    0.9382297551789077,
                    0.9494350282485876,
                    0.9494350282485876,
                    0.9158192090395479,
                    0.9438794726930321,
                    0.9383239171374765,
                    0.9550847457627119,
                    0.9495291902071563,
                    0.9550847457627119,
                    0.9550847457627119,
                    0.9495291902071563,
                    0.9437853107344633,
                    0.9495291902071563,
                    0.9438794726930321,
                    0.9550847457627119,
                    0.9494350282485876,
                    0.9438794726930321
                  ]
                },
                {
                  "mode": "lines",
                  "name": "Best Value",
                  "type": "scatter",
                  "x": [
                    0,
                    1,
                    2,
                    3,
                    4,
                    5,
                    6,
                    7,
                    8,
                    9,
                    10,
                    11,
                    12,
                    13,
                    14,
                    15,
                    16,
                    17,
                    18,
                    19,
                    20,
                    21,
                    22,
                    23,
                    24,
                    25,
                    26,
                    27,
                    28,
                    29,
                    30,
                    31,
                    32,
                    33,
                    34,
                    35,
                    36,
                    37,
                    38,
                    39,
                    40,
                    41,
                    42,
                    43,
                    44,
                    45,
                    46,
                    47,
                    48,
                    49,
                    50,
                    51,
                    52,
                    53,
                    54,
                    55,
                    56,
                    57,
                    58,
                    59,
                    60,
                    61,
                    62,
                    63,
                    64,
                    65,
                    66,
                    67,
                    68,
                    69,
                    70,
                    71,
                    72,
                    73,
                    74,
                    75,
                    76,
                    77,
                    78,
                    79,
                    80,
                    81,
                    82,
                    83,
                    84,
                    85,
                    86,
                    87,
                    88,
                    89,
                    90,
                    91,
                    92,
                    93,
                    94,
                    95,
                    96,
                    97,
                    98,
                    99
                  ],
                  "y": [
                    0.9437853107344633,
                    0.9437853107344633,
                    0.9437853107344633,
                    0.9437853107344633,
                    0.9437853107344633,
                    0.9437853107344633,
                    0.9494350282485876,
                    0.9494350282485876,
                    0.9494350282485876,
                    0.9494350282485876,
                    0.9494350282485876,
                    0.9494350282485876,
                    0.9494350282485876,
                    0.9494350282485876,
                    0.9494350282485876,
                    0.9494350282485876,
                    0.9494350282485876,
                    0.9494350282485876,
                    0.9494350282485876,
                    0.9494350282485876,
                    0.9494350282485876,
                    0.9494350282485876,
                    0.9495291902071563,
                    0.9495291902071563,
                    0.9495291902071563,
                    0.9495291902071563,
                    0.9495291902071563,
                    0.9495291902071563,
                    0.9495291902071563,
                    0.9495291902071563,
                    0.9495291902071563,
                    0.9495291902071563,
                    0.9495291902071563,
                    0.9495291902071563,
                    0.9495291902071563,
                    0.9495291902071563,
                    0.9495291902071563,
                    0.9495291902071563,
                    0.9495291902071563,
                    0.9495291902071563,
                    0.9495291902071563,
                    0.9495291902071563,
                    0.9495291902071563,
                    0.9495291902071563,
                    0.9495291902071563,
                    0.9495291902071563,
                    0.9495291902071563,
                    0.9495291902071563,
                    0.9495291902071563,
                    0.9495291902071563,
                    0.9495291902071563,
                    0.9495291902071563,
                    0.9495291902071563,
                    0.9495291902071563,
                    0.9495291902071563,
                    0.9495291902071563,
                    0.9495291902071563,
                    0.9495291902071563,
                    0.9495291902071563,
                    0.9495291902071563,
                    0.9495291902071563,
                    0.9495291902071563,
                    0.9495291902071563,
                    0.9495291902071563,
                    0.9495291902071563,
                    0.9550847457627119,
                    0.9550847457627119,
                    0.9550847457627119,
                    0.9550847457627119,
                    0.9550847457627119,
                    0.9550847457627119,
                    0.9550847457627119,
                    0.9550847457627119,
                    0.9550847457627119,
                    0.9550847457627119,
                    0.9550847457627119,
                    0.9550847457627119,
                    0.9550847457627119,
                    0.9550847457627119,
                    0.9550847457627119,
                    0.9550847457627119,
                    0.9550847457627119,
                    0.9550847457627119,
                    0.9550847457627119,
                    0.9550847457627119,
                    0.9550847457627119,
                    0.9550847457627119,
                    0.9550847457627119,
                    0.9550847457627119,
                    0.9550847457627119,
                    0.9550847457627119,
                    0.9550847457627119,
                    0.9550847457627119,
                    0.9550847457627119,
                    0.9550847457627119,
                    0.9550847457627119,
                    0.9550847457627119,
                    0.9550847457627119,
                    0.9550847457627119,
                    0.9550847457627119
                  ]
                },
                {
                  "marker": {
                    "color": "#cccccc"
                  },
                  "mode": "markers",
                  "name": "Infeasible Trial",
                  "showlegend": false,
                  "type": "scatter",
                  "x": [],
                  "y": []
                }
              ],
              "layout": {
                "template": {
                  "data": {
                    "bar": [
                      {
                        "error_x": {
                          "color": "#2a3f5f"
                        },
                        "error_y": {
                          "color": "#2a3f5f"
                        },
                        "marker": {
                          "line": {
                            "color": "#E5ECF6",
                            "width": 0.5
                          },
                          "pattern": {
                            "fillmode": "overlay",
                            "size": 10,
                            "solidity": 0.2
                          }
                        },
                        "type": "bar"
                      }
                    ],
                    "barpolar": [
                      {
                        "marker": {
                          "line": {
                            "color": "#E5ECF6",
                            "width": 0.5
                          },
                          "pattern": {
                            "fillmode": "overlay",
                            "size": 10,
                            "solidity": 0.2
                          }
                        },
                        "type": "barpolar"
                      }
                    ],
                    "carpet": [
                      {
                        "aaxis": {
                          "endlinecolor": "#2a3f5f",
                          "gridcolor": "white",
                          "linecolor": "white",
                          "minorgridcolor": "white",
                          "startlinecolor": "#2a3f5f"
                        },
                        "baxis": {
                          "endlinecolor": "#2a3f5f",
                          "gridcolor": "white",
                          "linecolor": "white",
                          "minorgridcolor": "white",
                          "startlinecolor": "#2a3f5f"
                        },
                        "type": "carpet"
                      }
                    ],
                    "choropleth": [
                      {
                        "colorbar": {
                          "outlinewidth": 0,
                          "ticks": ""
                        },
                        "type": "choropleth"
                      }
                    ],
                    "contour": [
                      {
                        "colorbar": {
                          "outlinewidth": 0,
                          "ticks": ""
                        },
                        "colorscale": [
                          [
                            0,
                            "#0d0887"
                          ],
                          [
                            0.1111111111111111,
                            "#46039f"
                          ],
                          [
                            0.2222222222222222,
                            "#7201a8"
                          ],
                          [
                            0.3333333333333333,
                            "#9c179e"
                          ],
                          [
                            0.4444444444444444,
                            "#bd3786"
                          ],
                          [
                            0.5555555555555556,
                            "#d8576b"
                          ],
                          [
                            0.6666666666666666,
                            "#ed7953"
                          ],
                          [
                            0.7777777777777778,
                            "#fb9f3a"
                          ],
                          [
                            0.8888888888888888,
                            "#fdca26"
                          ],
                          [
                            1,
                            "#f0f921"
                          ]
                        ],
                        "type": "contour"
                      }
                    ],
                    "contourcarpet": [
                      {
                        "colorbar": {
                          "outlinewidth": 0,
                          "ticks": ""
                        },
                        "type": "contourcarpet"
                      }
                    ],
                    "heatmap": [
                      {
                        "colorbar": {
                          "outlinewidth": 0,
                          "ticks": ""
                        },
                        "colorscale": [
                          [
                            0,
                            "#0d0887"
                          ],
                          [
                            0.1111111111111111,
                            "#46039f"
                          ],
                          [
                            0.2222222222222222,
                            "#7201a8"
                          ],
                          [
                            0.3333333333333333,
                            "#9c179e"
                          ],
                          [
                            0.4444444444444444,
                            "#bd3786"
                          ],
                          [
                            0.5555555555555556,
                            "#d8576b"
                          ],
                          [
                            0.6666666666666666,
                            "#ed7953"
                          ],
                          [
                            0.7777777777777778,
                            "#fb9f3a"
                          ],
                          [
                            0.8888888888888888,
                            "#fdca26"
                          ],
                          [
                            1,
                            "#f0f921"
                          ]
                        ],
                        "type": "heatmap"
                      }
                    ],
                    "heatmapgl": [
                      {
                        "colorbar": {
                          "outlinewidth": 0,
                          "ticks": ""
                        },
                        "colorscale": [
                          [
                            0,
                            "#0d0887"
                          ],
                          [
                            0.1111111111111111,
                            "#46039f"
                          ],
                          [
                            0.2222222222222222,
                            "#7201a8"
                          ],
                          [
                            0.3333333333333333,
                            "#9c179e"
                          ],
                          [
                            0.4444444444444444,
                            "#bd3786"
                          ],
                          [
                            0.5555555555555556,
                            "#d8576b"
                          ],
                          [
                            0.6666666666666666,
                            "#ed7953"
                          ],
                          [
                            0.7777777777777778,
                            "#fb9f3a"
                          ],
                          [
                            0.8888888888888888,
                            "#fdca26"
                          ],
                          [
                            1,
                            "#f0f921"
                          ]
                        ],
                        "type": "heatmapgl"
                      }
                    ],
                    "histogram": [
                      {
                        "marker": {
                          "pattern": {
                            "fillmode": "overlay",
                            "size": 10,
                            "solidity": 0.2
                          }
                        },
                        "type": "histogram"
                      }
                    ],
                    "histogram2d": [
                      {
                        "colorbar": {
                          "outlinewidth": 0,
                          "ticks": ""
                        },
                        "colorscale": [
                          [
                            0,
                            "#0d0887"
                          ],
                          [
                            0.1111111111111111,
                            "#46039f"
                          ],
                          [
                            0.2222222222222222,
                            "#7201a8"
                          ],
                          [
                            0.3333333333333333,
                            "#9c179e"
                          ],
                          [
                            0.4444444444444444,
                            "#bd3786"
                          ],
                          [
                            0.5555555555555556,
                            "#d8576b"
                          ],
                          [
                            0.6666666666666666,
                            "#ed7953"
                          ],
                          [
                            0.7777777777777778,
                            "#fb9f3a"
                          ],
                          [
                            0.8888888888888888,
                            "#fdca26"
                          ],
                          [
                            1,
                            "#f0f921"
                          ]
                        ],
                        "type": "histogram2d"
                      }
                    ],
                    "histogram2dcontour": [
                      {
                        "colorbar": {
                          "outlinewidth": 0,
                          "ticks": ""
                        },
                        "colorscale": [
                          [
                            0,
                            "#0d0887"
                          ],
                          [
                            0.1111111111111111,
                            "#46039f"
                          ],
                          [
                            0.2222222222222222,
                            "#7201a8"
                          ],
                          [
                            0.3333333333333333,
                            "#9c179e"
                          ],
                          [
                            0.4444444444444444,
                            "#bd3786"
                          ],
                          [
                            0.5555555555555556,
                            "#d8576b"
                          ],
                          [
                            0.6666666666666666,
                            "#ed7953"
                          ],
                          [
                            0.7777777777777778,
                            "#fb9f3a"
                          ],
                          [
                            0.8888888888888888,
                            "#fdca26"
                          ],
                          [
                            1,
                            "#f0f921"
                          ]
                        ],
                        "type": "histogram2dcontour"
                      }
                    ],
                    "mesh3d": [
                      {
                        "colorbar": {
                          "outlinewidth": 0,
                          "ticks": ""
                        },
                        "type": "mesh3d"
                      }
                    ],
                    "parcoords": [
                      {
                        "line": {
                          "colorbar": {
                            "outlinewidth": 0,
                            "ticks": ""
                          }
                        },
                        "type": "parcoords"
                      }
                    ],
                    "pie": [
                      {
                        "automargin": true,
                        "type": "pie"
                      }
                    ],
                    "scatter": [
                      {
                        "fillpattern": {
                          "fillmode": "overlay",
                          "size": 10,
                          "solidity": 0.2
                        },
                        "type": "scatter"
                      }
                    ],
                    "scatter3d": [
                      {
                        "line": {
                          "colorbar": {
                            "outlinewidth": 0,
                            "ticks": ""
                          }
                        },
                        "marker": {
                          "colorbar": {
                            "outlinewidth": 0,
                            "ticks": ""
                          }
                        },
                        "type": "scatter3d"
                      }
                    ],
                    "scattercarpet": [
                      {
                        "marker": {
                          "colorbar": {
                            "outlinewidth": 0,
                            "ticks": ""
                          }
                        },
                        "type": "scattercarpet"
                      }
                    ],
                    "scattergeo": [
                      {
                        "marker": {
                          "colorbar": {
                            "outlinewidth": 0,
                            "ticks": ""
                          }
                        },
                        "type": "scattergeo"
                      }
                    ],
                    "scattergl": [
                      {
                        "marker": {
                          "colorbar": {
                            "outlinewidth": 0,
                            "ticks": ""
                          }
                        },
                        "type": "scattergl"
                      }
                    ],
                    "scattermapbox": [
                      {
                        "marker": {
                          "colorbar": {
                            "outlinewidth": 0,
                            "ticks": ""
                          }
                        },
                        "type": "scattermapbox"
                      }
                    ],
                    "scatterpolar": [
                      {
                        "marker": {
                          "colorbar": {
                            "outlinewidth": 0,
                            "ticks": ""
                          }
                        },
                        "type": "scatterpolar"
                      }
                    ],
                    "scatterpolargl": [
                      {
                        "marker": {
                          "colorbar": {
                            "outlinewidth": 0,
                            "ticks": ""
                          }
                        },
                        "type": "scatterpolargl"
                      }
                    ],
                    "scatterternary": [
                      {
                        "marker": {
                          "colorbar": {
                            "outlinewidth": 0,
                            "ticks": ""
                          }
                        },
                        "type": "scatterternary"
                      }
                    ],
                    "surface": [
                      {
                        "colorbar": {
                          "outlinewidth": 0,
                          "ticks": ""
                        },
                        "colorscale": [
                          [
                            0,
                            "#0d0887"
                          ],
                          [
                            0.1111111111111111,
                            "#46039f"
                          ],
                          [
                            0.2222222222222222,
                            "#7201a8"
                          ],
                          [
                            0.3333333333333333,
                            "#9c179e"
                          ],
                          [
                            0.4444444444444444,
                            "#bd3786"
                          ],
                          [
                            0.5555555555555556,
                            "#d8576b"
                          ],
                          [
                            0.6666666666666666,
                            "#ed7953"
                          ],
                          [
                            0.7777777777777778,
                            "#fb9f3a"
                          ],
                          [
                            0.8888888888888888,
                            "#fdca26"
                          ],
                          [
                            1,
                            "#f0f921"
                          ]
                        ],
                        "type": "surface"
                      }
                    ],
                    "table": [
                      {
                        "cells": {
                          "fill": {
                            "color": "#EBF0F8"
                          },
                          "line": {
                            "color": "white"
                          }
                        },
                        "header": {
                          "fill": {
                            "color": "#C8D4E3"
                          },
                          "line": {
                            "color": "white"
                          }
                        },
                        "type": "table"
                      }
                    ]
                  },
                  "layout": {
                    "annotationdefaults": {
                      "arrowcolor": "#2a3f5f",
                      "arrowhead": 0,
                      "arrowwidth": 1
                    },
                    "autotypenumbers": "strict",
                    "coloraxis": {
                      "colorbar": {
                        "outlinewidth": 0,
                        "ticks": ""
                      }
                    },
                    "colorscale": {
                      "diverging": [
                        [
                          0,
                          "#8e0152"
                        ],
                        [
                          0.1,
                          "#c51b7d"
                        ],
                        [
                          0.2,
                          "#de77ae"
                        ],
                        [
                          0.3,
                          "#f1b6da"
                        ],
                        [
                          0.4,
                          "#fde0ef"
                        ],
                        [
                          0.5,
                          "#f7f7f7"
                        ],
                        [
                          0.6,
                          "#e6f5d0"
                        ],
                        [
                          0.7,
                          "#b8e186"
                        ],
                        [
                          0.8,
                          "#7fbc41"
                        ],
                        [
                          0.9,
                          "#4d9221"
                        ],
                        [
                          1,
                          "#276419"
                        ]
                      ],
                      "sequential": [
                        [
                          0,
                          "#0d0887"
                        ],
                        [
                          0.1111111111111111,
                          "#46039f"
                        ],
                        [
                          0.2222222222222222,
                          "#7201a8"
                        ],
                        [
                          0.3333333333333333,
                          "#9c179e"
                        ],
                        [
                          0.4444444444444444,
                          "#bd3786"
                        ],
                        [
                          0.5555555555555556,
                          "#d8576b"
                        ],
                        [
                          0.6666666666666666,
                          "#ed7953"
                        ],
                        [
                          0.7777777777777778,
                          "#fb9f3a"
                        ],
                        [
                          0.8888888888888888,
                          "#fdca26"
                        ],
                        [
                          1,
                          "#f0f921"
                        ]
                      ],
                      "sequentialminus": [
                        [
                          0,
                          "#0d0887"
                        ],
                        [
                          0.1111111111111111,
                          "#46039f"
                        ],
                        [
                          0.2222222222222222,
                          "#7201a8"
                        ],
                        [
                          0.3333333333333333,
                          "#9c179e"
                        ],
                        [
                          0.4444444444444444,
                          "#bd3786"
                        ],
                        [
                          0.5555555555555556,
                          "#d8576b"
                        ],
                        [
                          0.6666666666666666,
                          "#ed7953"
                        ],
                        [
                          0.7777777777777778,
                          "#fb9f3a"
                        ],
                        [
                          0.8888888888888888,
                          "#fdca26"
                        ],
                        [
                          1,
                          "#f0f921"
                        ]
                      ]
                    },
                    "colorway": [
                      "#636efa",
                      "#EF553B",
                      "#00cc96",
                      "#ab63fa",
                      "#FFA15A",
                      "#19d3f3",
                      "#FF6692",
                      "#B6E880",
                      "#FF97FF",
                      "#FECB52"
                    ],
                    "font": {
                      "color": "#2a3f5f"
                    },
                    "geo": {
                      "bgcolor": "white",
                      "lakecolor": "white",
                      "landcolor": "#E5ECF6",
                      "showlakes": true,
                      "showland": true,
                      "subunitcolor": "white"
                    },
                    "hoverlabel": {
                      "align": "left"
                    },
                    "hovermode": "closest",
                    "mapbox": {
                      "style": "light"
                    },
                    "paper_bgcolor": "white",
                    "plot_bgcolor": "#E5ECF6",
                    "polar": {
                      "angularaxis": {
                        "gridcolor": "white",
                        "linecolor": "white",
                        "ticks": ""
                      },
                      "bgcolor": "#E5ECF6",
                      "radialaxis": {
                        "gridcolor": "white",
                        "linecolor": "white",
                        "ticks": ""
                      }
                    },
                    "scene": {
                      "xaxis": {
                        "backgroundcolor": "#E5ECF6",
                        "gridcolor": "white",
                        "gridwidth": 2,
                        "linecolor": "white",
                        "showbackground": true,
                        "ticks": "",
                        "zerolinecolor": "white"
                      },
                      "yaxis": {
                        "backgroundcolor": "#E5ECF6",
                        "gridcolor": "white",
                        "gridwidth": 2,
                        "linecolor": "white",
                        "showbackground": true,
                        "ticks": "",
                        "zerolinecolor": "white"
                      },
                      "zaxis": {
                        "backgroundcolor": "#E5ECF6",
                        "gridcolor": "white",
                        "gridwidth": 2,
                        "linecolor": "white",
                        "showbackground": true,
                        "ticks": "",
                        "zerolinecolor": "white"
                      }
                    },
                    "shapedefaults": {
                      "line": {
                        "color": "#2a3f5f"
                      }
                    },
                    "ternary": {
                      "aaxis": {
                        "gridcolor": "white",
                        "linecolor": "white",
                        "ticks": ""
                      },
                      "baxis": {
                        "gridcolor": "white",
                        "linecolor": "white",
                        "ticks": ""
                      },
                      "bgcolor": "#E5ECF6",
                      "caxis": {
                        "gridcolor": "white",
                        "linecolor": "white",
                        "ticks": ""
                      }
                    },
                    "title": {
                      "x": 0.05
                    },
                    "xaxis": {
                      "automargin": true,
                      "gridcolor": "white",
                      "linecolor": "white",
                      "ticks": "",
                      "title": {
                        "standoff": 15
                      },
                      "zerolinecolor": "white",
                      "zerolinewidth": 2
                    },
                    "yaxis": {
                      "automargin": true,
                      "gridcolor": "white",
                      "linecolor": "white",
                      "ticks": "",
                      "title": {
                        "standoff": 15
                      },
                      "zerolinecolor": "white",
                      "zerolinewidth": 2
                    }
                  }
                },
                "title": {
                  "text": "Optimization History Plot"
                },
                "xaxis": {
                  "title": {
                    "text": "Trial"
                  }
                },
                "yaxis": {
                  "title": {
                    "text": "Objective Value"
                  }
                }
              }
            }
          },
          "metadata": {},
          "output_type": "display_data"
        }
      ],
      "source": [
        "# 시각화 라이브러리 임포트\n",
        "from optuna.visualization import plot_optimization_history, plot_param_importances\n",
        "from optuna.visualization import plot_parallel_coordinate, plot_contour\n",
        "\n",
        "# 1. 최적화 과정 시각화 (Optimization History)\n",
        "# 각 trial마다 성능이 어떻게 변해왔는지 보여줍니다.\n",
        "plot_optimization_history(study_rf)"
      ]
    },
    {
      "cell_type": "markdown",
      "metadata": {
        "id": "IxJf7YeB32sH"
      },
      "source": [
        "`하이퍼파라미터(Hyperparameter)`는 각 시도(trial)를 거치면서 최고 점수가 어떻게 개선되었는지를 보여줍니다.  초반에 성능이 급격히 오르다가 특정 시점부터 수렴하는 양상을 관찰할 수 있습니다. "
      ]
    },
    {
      "cell_type": "code",
      "execution_count": 4,
      "metadata": {
        "id": "2JVYNXTi32sH"
      },
      "outputs": [
        {
          "data": {
            "application/vnd.plotly.v1+json": {
              "config": {
                "plotlyServerURL": "https://plot.ly"
              },
              "data": [
                {
                  "cliponaxis": false,
                  "hovertemplate": [
                    "criterion (CategoricalDistribution): 8.338111268466961e-06<extra></extra>",
                    "max_depth (IntDistribution): 1.9225902382676e-05<extra></extra>",
                    "n_estimators (IntDistribution): 2.228466444061558e-05<extra></extra>",
                    "min_samples_split (FloatDistribution): 0.9999501513219082<extra></extra>"
                  ],
                  "name": "Objective Value",
                  "orientation": "h",
                  "text": [
                    "<0.01",
                    "<0.01",
                    "<0.01",
                    "1.00"
                  ],
                  "textposition": "outside",
                  "type": "bar",
                  "x": [
                    0.000008338111268466961,
                    0.000019225902382676,
                    0.00002228466444061558,
                    0.9999501513219082
                  ],
                  "y": [
                    "criterion",
                    "max_depth",
                    "n_estimators",
                    "min_samples_split"
                  ]
                }
              ],
              "layout": {
                "template": {
                  "data": {
                    "bar": [
                      {
                        "error_x": {
                          "color": "#2a3f5f"
                        },
                        "error_y": {
                          "color": "#2a3f5f"
                        },
                        "marker": {
                          "line": {
                            "color": "#E5ECF6",
                            "width": 0.5
                          },
                          "pattern": {
                            "fillmode": "overlay",
                            "size": 10,
                            "solidity": 0.2
                          }
                        },
                        "type": "bar"
                      }
                    ],
                    "barpolar": [
                      {
                        "marker": {
                          "line": {
                            "color": "#E5ECF6",
                            "width": 0.5
                          },
                          "pattern": {
                            "fillmode": "overlay",
                            "size": 10,
                            "solidity": 0.2
                          }
                        },
                        "type": "barpolar"
                      }
                    ],
                    "carpet": [
                      {
                        "aaxis": {
                          "endlinecolor": "#2a3f5f",
                          "gridcolor": "white",
                          "linecolor": "white",
                          "minorgridcolor": "white",
                          "startlinecolor": "#2a3f5f"
                        },
                        "baxis": {
                          "endlinecolor": "#2a3f5f",
                          "gridcolor": "white",
                          "linecolor": "white",
                          "minorgridcolor": "white",
                          "startlinecolor": "#2a3f5f"
                        },
                        "type": "carpet"
                      }
                    ],
                    "choropleth": [
                      {
                        "colorbar": {
                          "outlinewidth": 0,
                          "ticks": ""
                        },
                        "type": "choropleth"
                      }
                    ],
                    "contour": [
                      {
                        "colorbar": {
                          "outlinewidth": 0,
                          "ticks": ""
                        },
                        "colorscale": [
                          [
                            0,
                            "#0d0887"
                          ],
                          [
                            0.1111111111111111,
                            "#46039f"
                          ],
                          [
                            0.2222222222222222,
                            "#7201a8"
                          ],
                          [
                            0.3333333333333333,
                            "#9c179e"
                          ],
                          [
                            0.4444444444444444,
                            "#bd3786"
                          ],
                          [
                            0.5555555555555556,
                            "#d8576b"
                          ],
                          [
                            0.6666666666666666,
                            "#ed7953"
                          ],
                          [
                            0.7777777777777778,
                            "#fb9f3a"
                          ],
                          [
                            0.8888888888888888,
                            "#fdca26"
                          ],
                          [
                            1,
                            "#f0f921"
                          ]
                        ],
                        "type": "contour"
                      }
                    ],
                    "contourcarpet": [
                      {
                        "colorbar": {
                          "outlinewidth": 0,
                          "ticks": ""
                        },
                        "type": "contourcarpet"
                      }
                    ],
                    "heatmap": [
                      {
                        "colorbar": {
                          "outlinewidth": 0,
                          "ticks": ""
                        },
                        "colorscale": [
                          [
                            0,
                            "#0d0887"
                          ],
                          [
                            0.1111111111111111,
                            "#46039f"
                          ],
                          [
                            0.2222222222222222,
                            "#7201a8"
                          ],
                          [
                            0.3333333333333333,
                            "#9c179e"
                          ],
                          [
                            0.4444444444444444,
                            "#bd3786"
                          ],
                          [
                            0.5555555555555556,
                            "#d8576b"
                          ],
                          [
                            0.6666666666666666,
                            "#ed7953"
                          ],
                          [
                            0.7777777777777778,
                            "#fb9f3a"
                          ],
                          [
                            0.8888888888888888,
                            "#fdca26"
                          ],
                          [
                            1,
                            "#f0f921"
                          ]
                        ],
                        "type": "heatmap"
                      }
                    ],
                    "heatmapgl": [
                      {
                        "colorbar": {
                          "outlinewidth": 0,
                          "ticks": ""
                        },
                        "colorscale": [
                          [
                            0,
                            "#0d0887"
                          ],
                          [
                            0.1111111111111111,
                            "#46039f"
                          ],
                          [
                            0.2222222222222222,
                            "#7201a8"
                          ],
                          [
                            0.3333333333333333,
                            "#9c179e"
                          ],
                          [
                            0.4444444444444444,
                            "#bd3786"
                          ],
                          [
                            0.5555555555555556,
                            "#d8576b"
                          ],
                          [
                            0.6666666666666666,
                            "#ed7953"
                          ],
                          [
                            0.7777777777777778,
                            "#fb9f3a"
                          ],
                          [
                            0.8888888888888888,
                            "#fdca26"
                          ],
                          [
                            1,
                            "#f0f921"
                          ]
                        ],
                        "type": "heatmapgl"
                      }
                    ],
                    "histogram": [
                      {
                        "marker": {
                          "pattern": {
                            "fillmode": "overlay",
                            "size": 10,
                            "solidity": 0.2
                          }
                        },
                        "type": "histogram"
                      }
                    ],
                    "histogram2d": [
                      {
                        "colorbar": {
                          "outlinewidth": 0,
                          "ticks": ""
                        },
                        "colorscale": [
                          [
                            0,
                            "#0d0887"
                          ],
                          [
                            0.1111111111111111,
                            "#46039f"
                          ],
                          [
                            0.2222222222222222,
                            "#7201a8"
                          ],
                          [
                            0.3333333333333333,
                            "#9c179e"
                          ],
                          [
                            0.4444444444444444,
                            "#bd3786"
                          ],
                          [
                            0.5555555555555556,
                            "#d8576b"
                          ],
                          [
                            0.6666666666666666,
                            "#ed7953"
                          ],
                          [
                            0.7777777777777778,
                            "#fb9f3a"
                          ],
                          [
                            0.8888888888888888,
                            "#fdca26"
                          ],
                          [
                            1,
                            "#f0f921"
                          ]
                        ],
                        "type": "histogram2d"
                      }
                    ],
                    "histogram2dcontour": [
                      {
                        "colorbar": {
                          "outlinewidth": 0,
                          "ticks": ""
                        },
                        "colorscale": [
                          [
                            0,
                            "#0d0887"
                          ],
                          [
                            0.1111111111111111,
                            "#46039f"
                          ],
                          [
                            0.2222222222222222,
                            "#7201a8"
                          ],
                          [
                            0.3333333333333333,
                            "#9c179e"
                          ],
                          [
                            0.4444444444444444,
                            "#bd3786"
                          ],
                          [
                            0.5555555555555556,
                            "#d8576b"
                          ],
                          [
                            0.6666666666666666,
                            "#ed7953"
                          ],
                          [
                            0.7777777777777778,
                            "#fb9f3a"
                          ],
                          [
                            0.8888888888888888,
                            "#fdca26"
                          ],
                          [
                            1,
                            "#f0f921"
                          ]
                        ],
                        "type": "histogram2dcontour"
                      }
                    ],
                    "mesh3d": [
                      {
                        "colorbar": {
                          "outlinewidth": 0,
                          "ticks": ""
                        },
                        "type": "mesh3d"
                      }
                    ],
                    "parcoords": [
                      {
                        "line": {
                          "colorbar": {
                            "outlinewidth": 0,
                            "ticks": ""
                          }
                        },
                        "type": "parcoords"
                      }
                    ],
                    "pie": [
                      {
                        "automargin": true,
                        "type": "pie"
                      }
                    ],
                    "scatter": [
                      {
                        "fillpattern": {
                          "fillmode": "overlay",
                          "size": 10,
                          "solidity": 0.2
                        },
                        "type": "scatter"
                      }
                    ],
                    "scatter3d": [
                      {
                        "line": {
                          "colorbar": {
                            "outlinewidth": 0,
                            "ticks": ""
                          }
                        },
                        "marker": {
                          "colorbar": {
                            "outlinewidth": 0,
                            "ticks": ""
                          }
                        },
                        "type": "scatter3d"
                      }
                    ],
                    "scattercarpet": [
                      {
                        "marker": {
                          "colorbar": {
                            "outlinewidth": 0,
                            "ticks": ""
                          }
                        },
                        "type": "scattercarpet"
                      }
                    ],
                    "scattergeo": [
                      {
                        "marker": {
                          "colorbar": {
                            "outlinewidth": 0,
                            "ticks": ""
                          }
                        },
                        "type": "scattergeo"
                      }
                    ],
                    "scattergl": [
                      {
                        "marker": {
                          "colorbar": {
                            "outlinewidth": 0,
                            "ticks": ""
                          }
                        },
                        "type": "scattergl"
                      }
                    ],
                    "scattermapbox": [
                      {
                        "marker": {
                          "colorbar": {
                            "outlinewidth": 0,
                            "ticks": ""
                          }
                        },
                        "type": "scattermapbox"
                      }
                    ],
                    "scatterpolar": [
                      {
                        "marker": {
                          "colorbar": {
                            "outlinewidth": 0,
                            "ticks": ""
                          }
                        },
                        "type": "scatterpolar"
                      }
                    ],
                    "scatterpolargl": [
                      {
                        "marker": {
                          "colorbar": {
                            "outlinewidth": 0,
                            "ticks": ""
                          }
                        },
                        "type": "scatterpolargl"
                      }
                    ],
                    "scatterternary": [
                      {
                        "marker": {
                          "colorbar": {
                            "outlinewidth": 0,
                            "ticks": ""
                          }
                        },
                        "type": "scatterternary"
                      }
                    ],
                    "surface": [
                      {
                        "colorbar": {
                          "outlinewidth": 0,
                          "ticks": ""
                        },
                        "colorscale": [
                          [
                            0,
                            "#0d0887"
                          ],
                          [
                            0.1111111111111111,
                            "#46039f"
                          ],
                          [
                            0.2222222222222222,
                            "#7201a8"
                          ],
                          [
                            0.3333333333333333,
                            "#9c179e"
                          ],
                          [
                            0.4444444444444444,
                            "#bd3786"
                          ],
                          [
                            0.5555555555555556,
                            "#d8576b"
                          ],
                          [
                            0.6666666666666666,
                            "#ed7953"
                          ],
                          [
                            0.7777777777777778,
                            "#fb9f3a"
                          ],
                          [
                            0.8888888888888888,
                            "#fdca26"
                          ],
                          [
                            1,
                            "#f0f921"
                          ]
                        ],
                        "type": "surface"
                      }
                    ],
                    "table": [
                      {
                        "cells": {
                          "fill": {
                            "color": "#EBF0F8"
                          },
                          "line": {
                            "color": "white"
                          }
                        },
                        "header": {
                          "fill": {
                            "color": "#C8D4E3"
                          },
                          "line": {
                            "color": "white"
                          }
                        },
                        "type": "table"
                      }
                    ]
                  },
                  "layout": {
                    "annotationdefaults": {
                      "arrowcolor": "#2a3f5f",
                      "arrowhead": 0,
                      "arrowwidth": 1
                    },
                    "autotypenumbers": "strict",
                    "coloraxis": {
                      "colorbar": {
                        "outlinewidth": 0,
                        "ticks": ""
                      }
                    },
                    "colorscale": {
                      "diverging": [
                        [
                          0,
                          "#8e0152"
                        ],
                        [
                          0.1,
                          "#c51b7d"
                        ],
                        [
                          0.2,
                          "#de77ae"
                        ],
                        [
                          0.3,
                          "#f1b6da"
                        ],
                        [
                          0.4,
                          "#fde0ef"
                        ],
                        [
                          0.5,
                          "#f7f7f7"
                        ],
                        [
                          0.6,
                          "#e6f5d0"
                        ],
                        [
                          0.7,
                          "#b8e186"
                        ],
                        [
                          0.8,
                          "#7fbc41"
                        ],
                        [
                          0.9,
                          "#4d9221"
                        ],
                        [
                          1,
                          "#276419"
                        ]
                      ],
                      "sequential": [
                        [
                          0,
                          "#0d0887"
                        ],
                        [
                          0.1111111111111111,
                          "#46039f"
                        ],
                        [
                          0.2222222222222222,
                          "#7201a8"
                        ],
                        [
                          0.3333333333333333,
                          "#9c179e"
                        ],
                        [
                          0.4444444444444444,
                          "#bd3786"
                        ],
                        [
                          0.5555555555555556,
                          "#d8576b"
                        ],
                        [
                          0.6666666666666666,
                          "#ed7953"
                        ],
                        [
                          0.7777777777777778,
                          "#fb9f3a"
                        ],
                        [
                          0.8888888888888888,
                          "#fdca26"
                        ],
                        [
                          1,
                          "#f0f921"
                        ]
                      ],
                      "sequentialminus": [
                        [
                          0,
                          "#0d0887"
                        ],
                        [
                          0.1111111111111111,
                          "#46039f"
                        ],
                        [
                          0.2222222222222222,
                          "#7201a8"
                        ],
                        [
                          0.3333333333333333,
                          "#9c179e"
                        ],
                        [
                          0.4444444444444444,
                          "#bd3786"
                        ],
                        [
                          0.5555555555555556,
                          "#d8576b"
                        ],
                        [
                          0.6666666666666666,
                          "#ed7953"
                        ],
                        [
                          0.7777777777777778,
                          "#fb9f3a"
                        ],
                        [
                          0.8888888888888888,
                          "#fdca26"
                        ],
                        [
                          1,
                          "#f0f921"
                        ]
                      ]
                    },
                    "colorway": [
                      "#636efa",
                      "#EF553B",
                      "#00cc96",
                      "#ab63fa",
                      "#FFA15A",
                      "#19d3f3",
                      "#FF6692",
                      "#B6E880",
                      "#FF97FF",
                      "#FECB52"
                    ],
                    "font": {
                      "color": "#2a3f5f"
                    },
                    "geo": {
                      "bgcolor": "white",
                      "lakecolor": "white",
                      "landcolor": "#E5ECF6",
                      "showlakes": true,
                      "showland": true,
                      "subunitcolor": "white"
                    },
                    "hoverlabel": {
                      "align": "left"
                    },
                    "hovermode": "closest",
                    "mapbox": {
                      "style": "light"
                    },
                    "paper_bgcolor": "white",
                    "plot_bgcolor": "#E5ECF6",
                    "polar": {
                      "angularaxis": {
                        "gridcolor": "white",
                        "linecolor": "white",
                        "ticks": ""
                      },
                      "bgcolor": "#E5ECF6",
                      "radialaxis": {
                        "gridcolor": "white",
                        "linecolor": "white",
                        "ticks": ""
                      }
                    },
                    "scene": {
                      "xaxis": {
                        "backgroundcolor": "#E5ECF6",
                        "gridcolor": "white",
                        "gridwidth": 2,
                        "linecolor": "white",
                        "showbackground": true,
                        "ticks": "",
                        "zerolinecolor": "white"
                      },
                      "yaxis": {
                        "backgroundcolor": "#E5ECF6",
                        "gridcolor": "white",
                        "gridwidth": 2,
                        "linecolor": "white",
                        "showbackground": true,
                        "ticks": "",
                        "zerolinecolor": "white"
                      },
                      "zaxis": {
                        "backgroundcolor": "#E5ECF6",
                        "gridcolor": "white",
                        "gridwidth": 2,
                        "linecolor": "white",
                        "showbackground": true,
                        "ticks": "",
                        "zerolinecolor": "white"
                      }
                    },
                    "shapedefaults": {
                      "line": {
                        "color": "#2a3f5f"
                      }
                    },
                    "ternary": {
                      "aaxis": {
                        "gridcolor": "white",
                        "linecolor": "white",
                        "ticks": ""
                      },
                      "baxis": {
                        "gridcolor": "white",
                        "linecolor": "white",
                        "ticks": ""
                      },
                      "bgcolor": "#E5ECF6",
                      "caxis": {
                        "gridcolor": "white",
                        "linecolor": "white",
                        "ticks": ""
                      }
                    },
                    "title": {
                      "x": 0.05
                    },
                    "xaxis": {
                      "automargin": true,
                      "gridcolor": "white",
                      "linecolor": "white",
                      "ticks": "",
                      "title": {
                        "standoff": 15
                      },
                      "zerolinecolor": "white",
                      "zerolinewidth": 2
                    },
                    "yaxis": {
                      "automargin": true,
                      "gridcolor": "white",
                      "linecolor": "white",
                      "ticks": "",
                      "title": {
                        "standoff": 15
                      },
                      "zerolinecolor": "white",
                      "zerolinewidth": 2
                    }
                  }
                },
                "title": {
                  "text": "Hyperparameter Importances"
                },
                "xaxis": {
                  "title": {
                    "text": "Hyperparameter Importance"
                  }
                },
                "yaxis": {
                  "title": {
                    "text": "Hyperparameter"
                  }
                }
              }
            }
          },
          "metadata": {},
          "output_type": "display_data"
        }
      ],
      "source": [
        "# 2. 하이퍼파라미터 중요도 시각화 (Parameter Importances)\n",
        "# 어떤 파라미터가 성능에 가장 큰 영향을 미쳤는지 보여줍니다.\n",
        "plot_param_importances(study_rf)"
      ]
    },
    {
      "cell_type": "markdown",
      "metadata": {
        "id": "GPDRYkwq32sH"
      },
      "source": [
        "`하이퍼파라미터(Hyperparameter)`는 어떤 파라미터가 목표 함수 값에 가장 큰 영향을 미쳤는지 순위로 보여줍니다.  이를 통해 우리는 어떤 파라미터를 더 집중적으로 튜닝해야 할지 힌트를 얻을 수 있습니다. "
      ]
    },
    {
      "cell_type": "code",
      "execution_count": 5,
      "metadata": {
        "id": "t6aV_Ixw32sH"
      },
      "outputs": [
        {
          "data": {
            "application/vnd.plotly.v1+json": {
              "config": {
                "plotlyServerURL": "https://plot.ly"
              },
              "data": [
                {
                  "dimensions": [
                    {
                      "label": "Objective Value",
                      "range": [
                        0.39887005649717516,
                        0.9550847457627119
                      ],
                      "values": [
                        0.9437853107344633,
                        0.39887005649717516,
                        0.9382297551789077,
                        0.9383239171374765,
                        0.9271186440677966,
                        0.9382297551789077,
                        0.9494350282485876,
                        0.8988700564971751,
                        0.9269303201506592,
                        0.9382297551789077,
                        0.39887005649717516,
                        0.9383239171374765,
                        0.9494350282485876,
                        0.9438794726930321,
                        0.9494350282485876,
                        0.39887005649717516,
                        0.9438794726930321,
                        0.9383239171374765,
                        0.39887005649717516,
                        0.9437853107344633,
                        0.39887005649717516,
                        0.9494350282485876,
                        0.9495291902071563,
                        0.9438794726930321,
                        0.9495291902071563,
                        0.938135593220339,
                        0.9383239171374765,
                        0.9494350282485876,
                        0.9383239171374765,
                        0.9382297551789077,
                        0.9438794726930321,
                        0.9382297551789077,
                        0.9437853107344633,
                        0.9382297551789077,
                        0.9382297551789077,
                        0.9438794726930321,
                        0.9326741996233522,
                        0.9438794726930321,
                        0.9437853107344633,
                        0.9325800376647835,
                        0.39887005649717516,
                        0.9437853107344633,
                        0.9494350282485876,
                        0.9438794726930321,
                        0.9437853107344633,
                        0.9438794726930321,
                        0.9382297551789077,
                        0.9158192090395479,
                        0.9382297551789077,
                        0.9494350282485876,
                        0.9382297551789077,
                        0.9494350282485876,
                        0.9437853107344633,
                        0.9495291902071563,
                        0.9383239171374765,
                        0.9494350282485876,
                        0.9495291902071563,
                        0.9438794726930321,
                        0.9158192090395479,
                        0.9382297551789077,
                        0.9438794726930321,
                        0.9439736346516008,
                        0.9494350282485876,
                        0.9438794726930321,
                        0.9495291902071563,
                        0.9550847457627119,
                        0.9438794726930321,
                        0.9495291902071563,
                        0.9550847457627119,
                        0.9383239171374765,
                        0.9438794726930321,
                        0.9439736346516008,
                        0.9438794726930321,
                        0.9495291902071563,
                        0.9383239171374765,
                        0.9494350282485876,
                        0.9494350282485876,
                        0.9269303201506592,
                        0.9494350282485876,
                        0.9438794726930321,
                        0.9382297551789077,
                        0.9495291902071563,
                        0.9494350282485876,
                        0.9382297551789077,
                        0.9494350282485876,
                        0.9494350282485876,
                        0.9158192090395479,
                        0.9438794726930321,
                        0.9383239171374765,
                        0.9550847457627119,
                        0.9495291902071563,
                        0.9550847457627119,
                        0.9550847457627119,
                        0.9495291902071563,
                        0.9437853107344633,
                        0.9495291902071563,
                        0.9438794726930321,
                        0.9550847457627119,
                        0.9494350282485876,
                        0.9438794726930321
                      ]
                    },
                    {
                      "label": "criterion",
                      "range": [
                        0,
                        1
                      ],
                      "ticktext": [
                        "gini",
                        "entropy"
                      ],
                      "tickvals": [
                        0,
                        1
                      ],
                      "values": [
                        0,
                        1,
                        0,
                        0,
                        1,
                        1,
                        0,
                        1,
                        1,
                        0,
                        0,
                        0,
                        0,
                        0,
                        0,
                        0,
                        0,
                        0,
                        0,
                        0,
                        0,
                        0,
                        0,
                        0,
                        0,
                        0,
                        1,
                        0,
                        0,
                        0,
                        0,
                        0,
                        0,
                        0,
                        0,
                        1,
                        0,
                        1,
                        0,
                        1,
                        0,
                        0,
                        0,
                        0,
                        0,
                        0,
                        0,
                        0,
                        1,
                        0,
                        0,
                        0,
                        0,
                        0,
                        0,
                        0,
                        0,
                        0,
                        0,
                        0,
                        1,
                        0,
                        0,
                        0,
                        0,
                        0,
                        0,
                        0,
                        0,
                        0,
                        0,
                        0,
                        0,
                        0,
                        0,
                        0,
                        0,
                        0,
                        1,
                        0,
                        0,
                        0,
                        0,
                        0,
                        0,
                        0,
                        0,
                        0,
                        0,
                        0,
                        1,
                        0,
                        0,
                        0,
                        0,
                        0,
                        0,
                        0,
                        0,
                        0
                      ]
                    },
                    {
                      "label": "max_depth",
                      "range": [
                        0.3010299956639812,
                        1.505149978319906
                      ],
                      "ticktext": [
                        "2",
                        "10",
                        "32"
                      ],
                      "tickvals": [
                        0.3010299956639812,
                        1,
                        1.505149978319906
                      ],
                      "values": [
                        1.3010299956639813,
                        0.9030899869919435,
                        1.2787536009528289,
                        1.2041199826559248,
                        1.4771212547196624,
                        0.6989700043360189,
                        0.6989700043360189,
                        0.47712125471966244,
                        0.6020599913279624,
                        0.7781512503836436,
                        0.3010299956639812,
                        0.9542425094393249,
                        1.0791812460476249,
                        0.9542425094393249,
                        1.1139433523068367,
                        0.47712125471966244,
                        0.3010299956639812,
                        1.0791812460476249,
                        1.505149978319906,
                        0.6020599913279624,
                        0.7781512503836436,
                        1.146128035678238,
                        1.0413926851582251,
                        1,
                        0.8450980400142568,
                        0.8450980400142568,
                        0.6989700043360189,
                        0.47712125471966244,
                        0.6020599913279624,
                        0.8450980400142568,
                        1.3222192947339193,
                        1,
                        1.0413926851582251,
                        1.255272505103306,
                        0.9030899869919435,
                        1.1760912590556813,
                        0.7781512503836436,
                        1.414973347970818,
                        0.6989700043360189,
                        1.2304489213782739,
                        0.9030899869919435,
                        1.0791812460476249,
                        1.3222192947339193,
                        1.1139433523068367,
                        0.9030899869919435,
                        1,
                        0.9542425094393249,
                        1.146128035678238,
                        0.7781512503836436,
                        1.0791812460476249,
                        1.2041199826559248,
                        1.1760912590556813,
                        0.6989700043360189,
                        1.380211241711606,
                        1.3979400086720377,
                        1.3979400086720377,
                        1.2787536009528289,
                        1.3010299956639813,
                        1.4471580313422192,
                        1.3424226808222062,
                        1.2787536009528289,
                        1.3617278360175928,
                        0.6020599913279624,
                        1.4771212547196624,
                        1.0413926851582251,
                        1.0413926851582251,
                        1.0413926851582251,
                        0.8450980400142568,
                        0.8450980400142568,
                        0.9542425094393249,
                        1.0413926851582251,
                        0.8450980400142568,
                        1,
                        0.9542425094393249,
                        0.9030899869919435,
                        0.7781512503836436,
                        1.146128035678238,
                        0.8450980400142568,
                        0.9030899869919435,
                        1.2304489213782739,
                        1,
                        0.9542425094393249,
                        1.1139433523068367,
                        1.0413926851582251,
                        0.8450980400142568,
                        0.9542425094393249,
                        1.0791812460476249,
                        0.9030899869919435,
                        0.7781512503836436,
                        1.505149978319906,
                        1.462397997898956,
                        1.3617278360175928,
                        1.3617278360175928,
                        1.505149978319906,
                        1.3617278360175928,
                        1.4313637641589874,
                        1.380211241711606,
                        1.255272505103306,
                        1.255272505103306,
                        1.3222192947339193
                      ]
                    },
                    {
                      "label": "min_samples_split",
                      "range": [
                        0.10047851069164247,
                        0.9779844035521922
                      ],
                      "values": [
                        0.17933866076924498,
                        0.9779844035521922,
                        0.21122496867696428,
                        0.37147390647892464,
                        0.43111215346132925,
                        0.17058401180706712,
                        0.11368004638793809,
                        0.5621923373627457,
                        0.5756013703667195,
                        0.24106430118795535,
                        0.7505131560664984,
                        0.3457259365221706,
                        0.10736311683883909,
                        0.15573778754516218,
                        0.10047851069164247,
                        0.7370418828230223,
                        0.2977211372531013,
                        0.4579625028794852,
                        0.6768910711830247,
                        0.10889324862197095,
                        0.9669894099875541,
                        0.10390539618905024,
                        0.27119801384423303,
                        0.2714425332330027,
                        0.24702834865612877,
                        0.46891395188238866,
                        0.333709736548136,
                        0.2463094538764121,
                        0.3825671473938516,
                        0.19011053488652668,
                        0.28849546740961823,
                        0.1817004315282861,
                        0.14945652982663765,
                        0.22363039675146856,
                        0.2135718980848495,
                        0.3999726050287534,
                        0.49853973292961085,
                        0.32176938006936107,
                        0.14356117415091874,
                        0.25889183312705233,
                        0.8717092721537685,
                        0.1063305124379656,
                        0.145209646815806,
                        0.19475387706497216,
                        0.13369209086273265,
                        0.22167715155275342,
                        0.1759913080308892,
                        0.6029471686002794,
                        0.10530082831194615,
                        0.3120721785244661,
                        0.36497921143273665,
                        0.11840109577242697,
                        0.15682175345654153,
                        0.24285994722382598,
                        0.24783728532526286,
                        0.2862241995535181,
                        0.4079446886687991,
                        0.4246373113937407,
                        0.5223358225252682,
                        0.41420757468997604,
                        0.357687612413203,
                        0.21961786131690095,
                        0.2791252817188915,
                        0.16611471411332304,
                        0.1961429606991037,
                        0.24228757283052352,
                        0.3363032753311495,
                        0.2543278569783093,
                        0.25247062859103053,
                        0.3094407791875181,
                        0.377125304284063,
                        0.25499473451638976,
                        0.1988930146940617,
                        0.23557867679120792,
                        0.2803623670423676,
                        0.34133252940450287,
                        0.30936232221211624,
                        0.4603066645101864,
                        0.26242923853471734,
                        0.19672060734942906,
                        0.23702912465543421,
                        0.23028806838090168,
                        0.2948501469848175,
                        0.20881874500365644,
                        0.26738101938627473,
                        0.18281410919775914,
                        0.5998395804943208,
                        0.2352081471981517,
                        0.3966592271627021,
                        0.3214437137134134,
                        0.32604505954105656,
                        0.24248628433184036,
                        0.2623353150052863,
                        0.2974127211280252,
                        0.357969363582041,
                        0.21140128852993534,
                        0.27283008126060526,
                        0.17598584600282866,
                        0.17771046797715442,
                        0.3140124815364791
                      ]
                    },
                    {
                      "label": "n_estimators",
                      "range": [
                        50,
                        389
                      ],
                      "values": [
                        376,
                        111,
                        266,
                        260,
                        319,
                        187,
                        66,
                        66,
                        352,
                        146,
                        62,
                        389,
                        210,
                        207,
                        139,
                        301,
                        176,
                        241,
                        100,
                        51,
                        150,
                        111,
                        151,
                        221,
                        180,
                        173,
                        90,
                        127,
                        88,
                        166,
                        195,
                        238,
                        218,
                        123,
                        277,
                        162,
                        201,
                        254,
                        292,
                        185,
                        344,
                        139,
                        151,
                        122,
                        75,
                        208,
                        186,
                        137,
                        106,
                        74,
                        160,
                        112,
                        51,
                        101,
                        95,
                        134,
                        73,
                        58,
                        76,
                        89,
                        236,
                        67,
                        115,
                        177,
                        84,
                        81,
                        79,
                        97,
                        86,
                        107,
                        85,
                        95,
                        63,
                        100,
                        120,
                        81,
                        68,
                        100,
                        50,
                        127,
                        144,
                        99,
                        103,
                        88,
                        62,
                        114,
                        129,
                        93,
                        154,
                        71,
                        70,
                        81,
                        81,
                        79,
                        56,
                        85,
                        61,
                        73,
                        73,
                        69
                      ]
                    }
                  ],
                  "labelangle": 30,
                  "labelside": "bottom",
                  "line": {
                    "color": [
                      0.9437853107344633,
                      0.39887005649717516,
                      0.9382297551789077,
                      0.9383239171374765,
                      0.9271186440677966,
                      0.9382297551789077,
                      0.9494350282485876,
                      0.8988700564971751,
                      0.9269303201506592,
                      0.9382297551789077,
                      0.39887005649717516,
                      0.9383239171374765,
                      0.9494350282485876,
                      0.9438794726930321,
                      0.9494350282485876,
                      0.39887005649717516,
                      0.9438794726930321,
                      0.9383239171374765,
                      0.39887005649717516,
                      0.9437853107344633,
                      0.39887005649717516,
                      0.9494350282485876,
                      0.9495291902071563,
                      0.9438794726930321,
                      0.9495291902071563,
                      0.938135593220339,
                      0.9383239171374765,
                      0.9494350282485876,
                      0.9383239171374765,
                      0.9382297551789077,
                      0.9438794726930321,
                      0.9382297551789077,
                      0.9437853107344633,
                      0.9382297551789077,
                      0.9382297551789077,
                      0.9438794726930321,
                      0.9326741996233522,
                      0.9438794726930321,
                      0.9437853107344633,
                      0.9325800376647835,
                      0.39887005649717516,
                      0.9437853107344633,
                      0.9494350282485876,
                      0.9438794726930321,
                      0.9437853107344633,
                      0.9438794726930321,
                      0.9382297551789077,
                      0.9158192090395479,
                      0.9382297551789077,
                      0.9494350282485876,
                      0.9382297551789077,
                      0.9494350282485876,
                      0.9437853107344633,
                      0.9495291902071563,
                      0.9383239171374765,
                      0.9494350282485876,
                      0.9495291902071563,
                      0.9438794726930321,
                      0.9158192090395479,
                      0.9382297551789077,
                      0.9438794726930321,
                      0.9439736346516008,
                      0.9494350282485876,
                      0.9438794726930321,
                      0.9495291902071563,
                      0.9550847457627119,
                      0.9438794726930321,
                      0.9495291902071563,
                      0.9550847457627119,
                      0.9383239171374765,
                      0.9438794726930321,
                      0.9439736346516008,
                      0.9438794726930321,
                      0.9495291902071563,
                      0.9383239171374765,
                      0.9494350282485876,
                      0.9494350282485876,
                      0.9269303201506592,
                      0.9494350282485876,
                      0.9438794726930321,
                      0.9382297551789077,
                      0.9495291902071563,
                      0.9494350282485876,
                      0.9382297551789077,
                      0.9494350282485876,
                      0.9494350282485876,
                      0.9158192090395479,
                      0.9438794726930321,
                      0.9383239171374765,
                      0.9550847457627119,
                      0.9495291902071563,
                      0.9550847457627119,
                      0.9550847457627119,
                      0.9495291902071563,
                      0.9437853107344633,
                      0.9495291902071563,
                      0.9438794726930321,
                      0.9550847457627119,
                      0.9494350282485876,
                      0.9438794726930321
                    ],
                    "colorbar": {
                      "title": {
                        "text": "Objective Value"
                      }
                    },
                    "colorscale": [
                      [
                        0,
                        "rgb(247,251,255)"
                      ],
                      [
                        0.125,
                        "rgb(222,235,247)"
                      ],
                      [
                        0.25,
                        "rgb(198,219,239)"
                      ],
                      [
                        0.375,
                        "rgb(158,202,225)"
                      ],
                      [
                        0.5,
                        "rgb(107,174,214)"
                      ],
                      [
                        0.625,
                        "rgb(66,146,198)"
                      ],
                      [
                        0.75,
                        "rgb(33,113,181)"
                      ],
                      [
                        0.875,
                        "rgb(8,81,156)"
                      ],
                      [
                        1,
                        "rgb(8,48,107)"
                      ]
                    ],
                    "reversescale": false,
                    "showscale": true
                  },
                  "type": "parcoords"
                }
              ],
              "layout": {
                "template": {
                  "data": {
                    "bar": [
                      {
                        "error_x": {
                          "color": "#2a3f5f"
                        },
                        "error_y": {
                          "color": "#2a3f5f"
                        },
                        "marker": {
                          "line": {
                            "color": "#E5ECF6",
                            "width": 0.5
                          },
                          "pattern": {
                            "fillmode": "overlay",
                            "size": 10,
                            "solidity": 0.2
                          }
                        },
                        "type": "bar"
                      }
                    ],
                    "barpolar": [
                      {
                        "marker": {
                          "line": {
                            "color": "#E5ECF6",
                            "width": 0.5
                          },
                          "pattern": {
                            "fillmode": "overlay",
                            "size": 10,
                            "solidity": 0.2
                          }
                        },
                        "type": "barpolar"
                      }
                    ],
                    "carpet": [
                      {
                        "aaxis": {
                          "endlinecolor": "#2a3f5f",
                          "gridcolor": "white",
                          "linecolor": "white",
                          "minorgridcolor": "white",
                          "startlinecolor": "#2a3f5f"
                        },
                        "baxis": {
                          "endlinecolor": "#2a3f5f",
                          "gridcolor": "white",
                          "linecolor": "white",
                          "minorgridcolor": "white",
                          "startlinecolor": "#2a3f5f"
                        },
                        "type": "carpet"
                      }
                    ],
                    "choropleth": [
                      {
                        "colorbar": {
                          "outlinewidth": 0,
                          "ticks": ""
                        },
                        "type": "choropleth"
                      }
                    ],
                    "contour": [
                      {
                        "colorbar": {
                          "outlinewidth": 0,
                          "ticks": ""
                        },
                        "colorscale": [
                          [
                            0,
                            "#0d0887"
                          ],
                          [
                            0.1111111111111111,
                            "#46039f"
                          ],
                          [
                            0.2222222222222222,
                            "#7201a8"
                          ],
                          [
                            0.3333333333333333,
                            "#9c179e"
                          ],
                          [
                            0.4444444444444444,
                            "#bd3786"
                          ],
                          [
                            0.5555555555555556,
                            "#d8576b"
                          ],
                          [
                            0.6666666666666666,
                            "#ed7953"
                          ],
                          [
                            0.7777777777777778,
                            "#fb9f3a"
                          ],
                          [
                            0.8888888888888888,
                            "#fdca26"
                          ],
                          [
                            1,
                            "#f0f921"
                          ]
                        ],
                        "type": "contour"
                      }
                    ],
                    "contourcarpet": [
                      {
                        "colorbar": {
                          "outlinewidth": 0,
                          "ticks": ""
                        },
                        "type": "contourcarpet"
                      }
                    ],
                    "heatmap": [
                      {
                        "colorbar": {
                          "outlinewidth": 0,
                          "ticks": ""
                        },
                        "colorscale": [
                          [
                            0,
                            "#0d0887"
                          ],
                          [
                            0.1111111111111111,
                            "#46039f"
                          ],
                          [
                            0.2222222222222222,
                            "#7201a8"
                          ],
                          [
                            0.3333333333333333,
                            "#9c179e"
                          ],
                          [
                            0.4444444444444444,
                            "#bd3786"
                          ],
                          [
                            0.5555555555555556,
                            "#d8576b"
                          ],
                          [
                            0.6666666666666666,
                            "#ed7953"
                          ],
                          [
                            0.7777777777777778,
                            "#fb9f3a"
                          ],
                          [
                            0.8888888888888888,
                            "#fdca26"
                          ],
                          [
                            1,
                            "#f0f921"
                          ]
                        ],
                        "type": "heatmap"
                      }
                    ],
                    "heatmapgl": [
                      {
                        "colorbar": {
                          "outlinewidth": 0,
                          "ticks": ""
                        },
                        "colorscale": [
                          [
                            0,
                            "#0d0887"
                          ],
                          [
                            0.1111111111111111,
                            "#46039f"
                          ],
                          [
                            0.2222222222222222,
                            "#7201a8"
                          ],
                          [
                            0.3333333333333333,
                            "#9c179e"
                          ],
                          [
                            0.4444444444444444,
                            "#bd3786"
                          ],
                          [
                            0.5555555555555556,
                            "#d8576b"
                          ],
                          [
                            0.6666666666666666,
                            "#ed7953"
                          ],
                          [
                            0.7777777777777778,
                            "#fb9f3a"
                          ],
                          [
                            0.8888888888888888,
                            "#fdca26"
                          ],
                          [
                            1,
                            "#f0f921"
                          ]
                        ],
                        "type": "heatmapgl"
                      }
                    ],
                    "histogram": [
                      {
                        "marker": {
                          "pattern": {
                            "fillmode": "overlay",
                            "size": 10,
                            "solidity": 0.2
                          }
                        },
                        "type": "histogram"
                      }
                    ],
                    "histogram2d": [
                      {
                        "colorbar": {
                          "outlinewidth": 0,
                          "ticks": ""
                        },
                        "colorscale": [
                          [
                            0,
                            "#0d0887"
                          ],
                          [
                            0.1111111111111111,
                            "#46039f"
                          ],
                          [
                            0.2222222222222222,
                            "#7201a8"
                          ],
                          [
                            0.3333333333333333,
                            "#9c179e"
                          ],
                          [
                            0.4444444444444444,
                            "#bd3786"
                          ],
                          [
                            0.5555555555555556,
                            "#d8576b"
                          ],
                          [
                            0.6666666666666666,
                            "#ed7953"
                          ],
                          [
                            0.7777777777777778,
                            "#fb9f3a"
                          ],
                          [
                            0.8888888888888888,
                            "#fdca26"
                          ],
                          [
                            1,
                            "#f0f921"
                          ]
                        ],
                        "type": "histogram2d"
                      }
                    ],
                    "histogram2dcontour": [
                      {
                        "colorbar": {
                          "outlinewidth": 0,
                          "ticks": ""
                        },
                        "colorscale": [
                          [
                            0,
                            "#0d0887"
                          ],
                          [
                            0.1111111111111111,
                            "#46039f"
                          ],
                          [
                            0.2222222222222222,
                            "#7201a8"
                          ],
                          [
                            0.3333333333333333,
                            "#9c179e"
                          ],
                          [
                            0.4444444444444444,
                            "#bd3786"
                          ],
                          [
                            0.5555555555555556,
                            "#d8576b"
                          ],
                          [
                            0.6666666666666666,
                            "#ed7953"
                          ],
                          [
                            0.7777777777777778,
                            "#fb9f3a"
                          ],
                          [
                            0.8888888888888888,
                            "#fdca26"
                          ],
                          [
                            1,
                            "#f0f921"
                          ]
                        ],
                        "type": "histogram2dcontour"
                      }
                    ],
                    "mesh3d": [
                      {
                        "colorbar": {
                          "outlinewidth": 0,
                          "ticks": ""
                        },
                        "type": "mesh3d"
                      }
                    ],
                    "parcoords": [
                      {
                        "line": {
                          "colorbar": {
                            "outlinewidth": 0,
                            "ticks": ""
                          }
                        },
                        "type": "parcoords"
                      }
                    ],
                    "pie": [
                      {
                        "automargin": true,
                        "type": "pie"
                      }
                    ],
                    "scatter": [
                      {
                        "fillpattern": {
                          "fillmode": "overlay",
                          "size": 10,
                          "solidity": 0.2
                        },
                        "type": "scatter"
                      }
                    ],
                    "scatter3d": [
                      {
                        "line": {
                          "colorbar": {
                            "outlinewidth": 0,
                            "ticks": ""
                          }
                        },
                        "marker": {
                          "colorbar": {
                            "outlinewidth": 0,
                            "ticks": ""
                          }
                        },
                        "type": "scatter3d"
                      }
                    ],
                    "scattercarpet": [
                      {
                        "marker": {
                          "colorbar": {
                            "outlinewidth": 0,
                            "ticks": ""
                          }
                        },
                        "type": "scattercarpet"
                      }
                    ],
                    "scattergeo": [
                      {
                        "marker": {
                          "colorbar": {
                            "outlinewidth": 0,
                            "ticks": ""
                          }
                        },
                        "type": "scattergeo"
                      }
                    ],
                    "scattergl": [
                      {
                        "marker": {
                          "colorbar": {
                            "outlinewidth": 0,
                            "ticks": ""
                          }
                        },
                        "type": "scattergl"
                      }
                    ],
                    "scattermapbox": [
                      {
                        "marker": {
                          "colorbar": {
                            "outlinewidth": 0,
                            "ticks": ""
                          }
                        },
                        "type": "scattermapbox"
                      }
                    ],
                    "scatterpolar": [
                      {
                        "marker": {
                          "colorbar": {
                            "outlinewidth": 0,
                            "ticks": ""
                          }
                        },
                        "type": "scatterpolar"
                      }
                    ],
                    "scatterpolargl": [
                      {
                        "marker": {
                          "colorbar": {
                            "outlinewidth": 0,
                            "ticks": ""
                          }
                        },
                        "type": "scatterpolargl"
                      }
                    ],
                    "scatterternary": [
                      {
                        "marker": {
                          "colorbar": {
                            "outlinewidth": 0,
                            "ticks": ""
                          }
                        },
                        "type": "scatterternary"
                      }
                    ],
                    "surface": [
                      {
                        "colorbar": {
                          "outlinewidth": 0,
                          "ticks": ""
                        },
                        "colorscale": [
                          [
                            0,
                            "#0d0887"
                          ],
                          [
                            0.1111111111111111,
                            "#46039f"
                          ],
                          [
                            0.2222222222222222,
                            "#7201a8"
                          ],
                          [
                            0.3333333333333333,
                            "#9c179e"
                          ],
                          [
                            0.4444444444444444,
                            "#bd3786"
                          ],
                          [
                            0.5555555555555556,
                            "#d8576b"
                          ],
                          [
                            0.6666666666666666,
                            "#ed7953"
                          ],
                          [
                            0.7777777777777778,
                            "#fb9f3a"
                          ],
                          [
                            0.8888888888888888,
                            "#fdca26"
                          ],
                          [
                            1,
                            "#f0f921"
                          ]
                        ],
                        "type": "surface"
                      }
                    ],
                    "table": [
                      {
                        "cells": {
                          "fill": {
                            "color": "#EBF0F8"
                          },
                          "line": {
                            "color": "white"
                          }
                        },
                        "header": {
                          "fill": {
                            "color": "#C8D4E3"
                          },
                          "line": {
                            "color": "white"
                          }
                        },
                        "type": "table"
                      }
                    ]
                  },
                  "layout": {
                    "annotationdefaults": {
                      "arrowcolor": "#2a3f5f",
                      "arrowhead": 0,
                      "arrowwidth": 1
                    },
                    "autotypenumbers": "strict",
                    "coloraxis": {
                      "colorbar": {
                        "outlinewidth": 0,
                        "ticks": ""
                      }
                    },
                    "colorscale": {
                      "diverging": [
                        [
                          0,
                          "#8e0152"
                        ],
                        [
                          0.1,
                          "#c51b7d"
                        ],
                        [
                          0.2,
                          "#de77ae"
                        ],
                        [
                          0.3,
                          "#f1b6da"
                        ],
                        [
                          0.4,
                          "#fde0ef"
                        ],
                        [
                          0.5,
                          "#f7f7f7"
                        ],
                        [
                          0.6,
                          "#e6f5d0"
                        ],
                        [
                          0.7,
                          "#b8e186"
                        ],
                        [
                          0.8,
                          "#7fbc41"
                        ],
                        [
                          0.9,
                          "#4d9221"
                        ],
                        [
                          1,
                          "#276419"
                        ]
                      ],
                      "sequential": [
                        [
                          0,
                          "#0d0887"
                        ],
                        [
                          0.1111111111111111,
                          "#46039f"
                        ],
                        [
                          0.2222222222222222,
                          "#7201a8"
                        ],
                        [
                          0.3333333333333333,
                          "#9c179e"
                        ],
                        [
                          0.4444444444444444,
                          "#bd3786"
                        ],
                        [
                          0.5555555555555556,
                          "#d8576b"
                        ],
                        [
                          0.6666666666666666,
                          "#ed7953"
                        ],
                        [
                          0.7777777777777778,
                          "#fb9f3a"
                        ],
                        [
                          0.8888888888888888,
                          "#fdca26"
                        ],
                        [
                          1,
                          "#f0f921"
                        ]
                      ],
                      "sequentialminus": [
                        [
                          0,
                          "#0d0887"
                        ],
                        [
                          0.1111111111111111,
                          "#46039f"
                        ],
                        [
                          0.2222222222222222,
                          "#7201a8"
                        ],
                        [
                          0.3333333333333333,
                          "#9c179e"
                        ],
                        [
                          0.4444444444444444,
                          "#bd3786"
                        ],
                        [
                          0.5555555555555556,
                          "#d8576b"
                        ],
                        [
                          0.6666666666666666,
                          "#ed7953"
                        ],
                        [
                          0.7777777777777778,
                          "#fb9f3a"
                        ],
                        [
                          0.8888888888888888,
                          "#fdca26"
                        ],
                        [
                          1,
                          "#f0f921"
                        ]
                      ]
                    },
                    "colorway": [
                      "#636efa",
                      "#EF553B",
                      "#00cc96",
                      "#ab63fa",
                      "#FFA15A",
                      "#19d3f3",
                      "#FF6692",
                      "#B6E880",
                      "#FF97FF",
                      "#FECB52"
                    ],
                    "font": {
                      "color": "#2a3f5f"
                    },
                    "geo": {
                      "bgcolor": "white",
                      "lakecolor": "white",
                      "landcolor": "#E5ECF6",
                      "showlakes": true,
                      "showland": true,
                      "subunitcolor": "white"
                    },
                    "hoverlabel": {
                      "align": "left"
                    },
                    "hovermode": "closest",
                    "mapbox": {
                      "style": "light"
                    },
                    "paper_bgcolor": "white",
                    "plot_bgcolor": "#E5ECF6",
                    "polar": {
                      "angularaxis": {
                        "gridcolor": "white",
                        "linecolor": "white",
                        "ticks": ""
                      },
                      "bgcolor": "#E5ECF6",
                      "radialaxis": {
                        "gridcolor": "white",
                        "linecolor": "white",
                        "ticks": ""
                      }
                    },
                    "scene": {
                      "xaxis": {
                        "backgroundcolor": "#E5ECF6",
                        "gridcolor": "white",
                        "gridwidth": 2,
                        "linecolor": "white",
                        "showbackground": true,
                        "ticks": "",
                        "zerolinecolor": "white"
                      },
                      "yaxis": {
                        "backgroundcolor": "#E5ECF6",
                        "gridcolor": "white",
                        "gridwidth": 2,
                        "linecolor": "white",
                        "showbackground": true,
                        "ticks": "",
                        "zerolinecolor": "white"
                      },
                      "zaxis": {
                        "backgroundcolor": "#E5ECF6",
                        "gridcolor": "white",
                        "gridwidth": 2,
                        "linecolor": "white",
                        "showbackground": true,
                        "ticks": "",
                        "zerolinecolor": "white"
                      }
                    },
                    "shapedefaults": {
                      "line": {
                        "color": "#2a3f5f"
                      }
                    },
                    "ternary": {
                      "aaxis": {
                        "gridcolor": "white",
                        "linecolor": "white",
                        "ticks": ""
                      },
                      "baxis": {
                        "gridcolor": "white",
                        "linecolor": "white",
                        "ticks": ""
                      },
                      "bgcolor": "#E5ECF6",
                      "caxis": {
                        "gridcolor": "white",
                        "linecolor": "white",
                        "ticks": ""
                      }
                    },
                    "title": {
                      "x": 0.05
                    },
                    "xaxis": {
                      "automargin": true,
                      "gridcolor": "white",
                      "linecolor": "white",
                      "ticks": "",
                      "title": {
                        "standoff": 15
                      },
                      "zerolinecolor": "white",
                      "zerolinewidth": 2
                    },
                    "yaxis": {
                      "automargin": true,
                      "gridcolor": "white",
                      "linecolor": "white",
                      "ticks": "",
                      "title": {
                        "standoff": 15
                      },
                      "zerolinecolor": "white",
                      "zerolinewidth": 2
                    }
                  }
                },
                "title": {
                  "text": "Parallel Coordinate Plot"
                }
              }
            }
          },
          "metadata": {},
          "output_type": "display_data"
        }
      ],
      "source": [
        "# 3. 파라미터 관계 시각화 (Parallel Coordinate Plot)\n",
        "# 파라미터 조합과 성능 간의 관계를 한눈에 볼 수 있습니다.\n",
        "plot_parallel_coordinate(study_rf)"
      ]
    },
    {
      "cell_type": "markdown",
      "metadata": {
        "id": "PA7Y436l32sH"
      },
      "source": [
        "`하이퍼파라미터(Hyperparameter)`는 어떤 파라미터 값의 범위가 높은 점수(파란색 선)로 이어지는지 경향성을 파악하는 데 유용합니다.\n",
        "\n",
        "#### ✏️ 연습문제 3\n",
        "\n",
        "연습문제 2에서 생성한 `study_lgbm` 객체를 사용하여, `learning_rate`와 `num_leaves` 두 파라미터 간의 관계를 보여주는 `Optuna(옵튜나)`를 그려보세요."
      ]
    },
    {
      "cell_type": "code",
      "execution_count": null,
      "metadata": {
        "id": "63aIscvP32sH"
      },
      "outputs": [],
      "source": [
        "# plot_contour 함수를 사용하세요.\n",
        "# params 인자에 보고 싶은 파라미터 이름 리스트를 전달합니다.\n",
        "from optuna.visualization import plot_contour\n",
        "\n",
        "plot_contour(study_lgbm, params=['learning_rate', 'num_leaves'])"
      ]
    }
  ],
  "metadata": {
    "colab": {
      "provenance": []
    },
    "kernelspec": {
      "display_name": ".venv",
      "language": "python",
      "name": "python3"
    },
    "language_info": {
      "codemirror_mode": {
        "name": "ipython",
        "version": 3
      },
      "file_extension": ".py",
      "mimetype": "text/x-python",
      "name": "python",
      "nbconvert_exporter": "python",
      "pygments_lexer": "ipython3",
      "version": "3.12.9"
    }
  },
  "nbformat": 4,
  "nbformat_minor": 0
}
