{
  "cells": [
    {
      "cell_type": "markdown",
      "metadata": {
        "id": "WHtWmyhUGe1F"
      },
      "source": [
        "## 🚀 Day 4-4: 이상치 탐지 (Anomaly Detection) · Isolation Forest · One-Class SVM\n",
        "\n",
        "지금까지 우리는 주어진 데이터와 레이블을 통해 모델을 '학습'시키는 **지도학습(Supervised Learning)** 의 세계를 탐험했습니다. \n",
        "\n",
        "하지만 현실 세계의 데이터는 항상 깔끔한 정답(label)을 가지고 있지 않습니다. \n",
        "\n",
        "때로는 데이터의 패턴 자체에서 '정상'의 범주를 벗어나는 '특이한' 녀석들을 찾아내야 할 때가 있습니다.\n",
        "\n",
        "예를 들어, 신용카드 거래 내역에서 사기 행위를 탐지하거나, 서버 로그 데이터에서 시스템 공격을 감지하고, 제조 공정에서 불량품을 찾아내는 경우가 바로 그렇습니다. \n",
        "\n",
        "이러한 문제들에서 '비정상' 또는 '이상' 데이터는 전체 데이터에 비해 극히 드물게 발생하며, 어떤 패턴으로 나타날지 미리 정의하기 어렵습니다.\n",
        "\n",
        "이것이 바로 **이상 탐지(Anomaly Detection)** 또는 **이상치 탐지(Outlier Detection)** 가 필요한 이유입니다.\n",
        "\n",
        "이상 탐지는 대부분의 정상 데이터가 따르는 일반적인 패턴을 학습한 후, 그 패턴에서 크게 벗어나는 데이터를 '이상치'로 식별하는 기법입니다. \n",
        "\n",
        "---\n",
        "\n",
        "### 1. 이상치 분류와 이상 탐지의 차이\n",
        "\n",
        "<img src=\"https://www.makinarocks.ai/wp-content/uploads/2022/04/19405b6372f32b2eb80b94cf3715fe34.png\" width=\"500px\">\n",
        "\n",
        "- 분류 : 데이터 타겟 라벨 중 하나로 단순 분류하는 방식\n",
        "- 이상 탐지 : Normal Boundary 를 정해놓고, 그 영역을 벗어나면 Anomaly 로 분류하는 방식\n",
        "\n",
        "\n",
        "### 2. 어떤 방식을 어떻게 써야 하는가?\n",
        "\n",
        "<img src=\"./images/anomaly_detection_flowchart.png\" width=\"500px\">\n",
        "\n",
        "- 타겟 클래스가 한가지 분류로 쏠려 있고, 이상치가 많아 보이는 경우에 \"이상탐지기법\"을 사용\n",
        "- 분류방식 진행시 : 리샘플링과 Class Weight 조절이 중요\n",
        "- 이상팀지방식 진행시 : 타겟을 제외한 Feature 데이터만 학습(옵션: 정상데이터만 학습)\n",
        "\n"
      ]
    },
    {
      "cell_type": "markdown",
      "metadata": {},
      "source": [
        "### 4. 이상데이터 유형\n",
        "\n",
        "- 데이터 포인트(Data Point)\n",
        "\n",
        "  - Global\n",
        "  - Normal 데이터 그룹과 다른 Sparce 한 데이터 그룹\n",
        "  - ex : 사기거래, 고객이탈징후\n",
        "\n",
        "- 시계열 흐름(Context, Time Series)\n",
        "\n",
        "  - Local\n",
        "  - 특정 Context를 기반으로 크게 벗어난 데이터\n",
        "  - ex : 제조 공정의 센서 데이터, 기계 고장 시그널\n",
        "\n",
        "- 그룹 이상(Group Anomaly)\n",
        "  - Group\n",
        "  - 개별 데이터는 정상 데이터\n",
        "  - but, 거시적으로 볼때, 집합 데이터 그룹 전체가 이상\n",
        "  - ex : 디도스"
      ]
    },
    {
      "cell_type": "markdown",
      "metadata": {},
      "source": [
        "### 4. 효과적인 이상탐지 전략\n",
        "\n",
        "- Label 확보하기\n",
        "  - 보통 Normal 자동수집, Abnormal은 수동 관리\n",
        "  - ex : 장애 발생시, '이 구간이 장애구간'으로 사람이 등재\n",
        "  - 불량 탐지는 자동 수행함.\n",
        "- 낮은 성능 해결하기\n",
        "  - 이상탐지는 precision과 recall 이 모두 형편없이 나오는 경우가 많음.\n",
        "  - 이상 탐지 모델의 성능이 낮은 원인\n",
        "    - 데이터 불균형 : 정상 데이터에 비해 이상 데이터가 훨씬 적어 학습이 어려움\n",
        "    - 레이블의 부정확성 : 이상 데이터의 레이블이 정확하지 않아 모델 학습에 방해\n",
        "    - 특징 추출의 어려움 : 이상 데이터의 특징을 정확히 추출하기 어려움\n",
        "- 평가지표 만들기"
      ]
    },
    {
      "cell_type": "markdown",
      "metadata": {},
      "source": [
        "### 5. ML기반 이상탐지 - 불균형문제\n",
        "\n",
        "- ML 알고리즘들은 클래스별로 고르게 분포 되어 있다고 가정하고 있음.\n",
        "  - 다수의 클래스 쪽으로 편향되는 결과\n",
        "  - 암 발생률은 낮기 때문에 암발생 패턴이 학습되지 않고, 암이 없다고 판단해버림.\n",
        "  - 고객이탈이 드문 B2C 비즈니스에서 고객잔존만 예측하게되는 경우.\n",
        "- 클래스 불균형이 가져오는 문제\n",
        "  - 재현율이 형편없이 낮게 나오는 현상\n",
        "  <div style=\"display: flex; justify-content: space-between;\">\n",
        "    <img src=\"https://machinelearningmastery.com/wp-content/uploads/2019/10/Scatter-Plot-of-Imbalanced-Classification-Dataset.png\" width=\"50%\">\n",
        "    <img src=\"https://machinelearningmastery.com/wp-content/uploads/2019/10/Scatter-Plot-of-Binary-Classification-Dataset-With-Provided-Class-Distribution.png\" width=\"50%\">\n",
        "  </div>\n",
        "  </br>\n",
        "- 해결방안\n",
        "  - 전체 성능은 조금 낮추되, 이상치 클래스의 성능을 높이도록 Resampling, Class Weight Adjustment 방법 사용\n",
        "  - Resampling\n",
        "    - Down sampling : Normal Class를 줄이는 방법\n",
        "    - Up sampling : Abnormal Class를 늘리는 방법 (복원추출, SMOTE)\n",
        "  - Class Weight Adjustment - Resampling을 하지 않고, Abnormal Class에 가중치를 부여하여 클래스 불균형 문제 해결 - Abnormal Class에 가중치를 높게 책정하여 패널티를 부과하는 방식 - Scikit-Learn 프레임워크에는 해당 Hyper-parameter를 기본 제공함. - class_weight = 'balanced' : 비율의 역으로 가중치 부여 - class_weight = {0:0.3, 1:0.7} : 비율 직정 지정.\n",
        "    </br>"
      ]
    },
    {
      "cell_type": "markdown",
      "metadata": {},
      "source": [
        "\n",
        "이번 시간에는 대표적인 이상 탐지 알고리즘인 **olon Fo**와 **On-l VM**에 대해 배우고, \n",
        "\n",
        "실제 데이터에 적용해보는 실습까지 진행하며 '정답 없는 데이터' 속에서 인사이트를 찾아내는 능력을 길러보겠습니다.\n",
        "\n",
        "-   **핵심 포인트**:\n",
        "    -   **분포 기반 탐지**: 데이터의 정상적인 분포를 학습하고, 이 분포에서 벗어나는 데이터를 탐지하는 원리를 이해합니다.\n",
        "  \n",
        "    -   **알고리즘 원리**: olon Fo의 '격리' 기반 아이디어와 On-l VM의 '경계' 기반 아이디어를 파악합니다.\n",
        "    -   **실전 적용**: 실제 신용카드 사기 탐지 데이터를 통해 비지도 학습 방식의 평가 방법(Pon, ll, O-U)을 이해합니다.\n",
        "\n",
        "---"
      ]
    },
    {
      "cell_type": "markdown",
      "metadata": {},
      "source": [
        "\n",
        "### 1. Isolation Forest (아이솔레이션 포레스트)\n",
        "\n",
        "#### 🧠 개념 이해하기\n",
        "\n",
        "\"숲 속에 외톨이 나무를 찾는 가장 빠른 방법은 무엇일까요?\"\n",
        "\n",
        "Isolation Forest는 이 질문에서 아이디어를 얻은 알고리즘입니다. \n",
        "\n",
        "데이터 포인터들을 무작위로 분할하여 고립시키는(isolate) 과정을 반복했을 때, \n",
        "\n",
        "**이상치(anomaly)는 정상 데이터보다 훨씬 적은 횟수의 분할만으로도 쉽게 고립된다**는 사실에 기반합니다. \n",
        "\n",
        "-   **정상 데이터**: 밀집된 군집 내에 위치하므로, 다른 데이터들로부터 완전히 분리시키려면 여러 번의 분할(split)이 필요합니다. 트리 구조에서 깊은 곳(deep)에 위치하게 됩니다.\n",
        "  \n",
        "-   **이상 데이터**: 데이터가 없는 외딴 공간에 홀로 떨어져 있으므로, 몇 번의 분할만으로도 쉽게 분리됩니다. 트리 구조에서 얕은 곳(shallow)에 위치하게 됩니다. \n",
        "\n",
        "Isolation Forest는 이러한 수많은 무작위 결정 트리(Isolation Tree)를 만들어 앙상블을 구성합니다.  \n",
        "\n",
        "그리고 각 데이터 포인트가 모든 트리에서 평균적으로 얼마나 빨리 격리되는지(평균 경로 길이)를 측정하여 **이상치 점수(anomaly score)**를 계산합니다.  \n",
        "\n",
        "경로 길이가 짧을수록 이상치일 확률이 높다고 판단하는 것입니다.\n",
        "\n",
        "<img src=\"https://user-images.githubusercontent.com/37654013/89287034-2b659880-d68e-11ea-85f2-d18a7eb9ef20.png\" width=\"500px\" style=\"border: 1px solid black; padding: 10px;\">\n",
        "\n",
        "<img src=\"https://www.researchgate.net/profile/Fei-Tony-Liu/publication/224384174/figure/fig3/AS:680002085478400@1539136539221/Anomalies-are-more-susceptible-to-isolation-and-hence-have-short-path-lengths-Given-a_Q320.jpg\" width=\"300px\">\n",
        "\n",
        "-   **장점**: 데이터의 분포에 대한 가정이 필요 없고, 계산 속도가 빠르며 대용량 데이터에도 잘 작동합니다.\n",
        "  \n",
        "-   **주요 하이퍼파라미터** \n",
        "  \n",
        "    -   `n_estimators`: 앙상블에 사용할 트리의 개수입니다. 많을수록 안정적이지만 시간과 메모리가 더 필요합니다. (기본값: 100)\n",
        "  \n",
        "    -   `max_samples`: 각 트리를 훈련시킬 때 사용할 샘플의 수 또는 비율입니다. (기본값: 'auto')\n",
        "    -   `contamination`: 데이터셋에 포함된 이상치의 비율을 의미하는 **가장 중요한 파라미터**입니다. 모델은 이 값을 기준으로 이상치를 판단할 임계값(threshold)을 결정합니다. 'auto'로 설정하거나 0과 0.5 사이의 값으로 직접 지정할 수 있습니다. 예를 들어 0.1로 설정하면, 상위 10%의 이상치 점수를 가진 데이터를 이상치로 분류합니다.\n",
        "\n",
        "#### 💻 코드 예시 (scikit-learn)\n",
        "\n",
        "`scikit-learn`을 사용하여 2차원 공간에 두 개의 정상 데이터 군집과 일부 이상치를 생성하고, Isolation Forest로 탐지하는 과정을 살펴봅시다. "
      ]
    },
    {
      "cell_type": "code",
      "execution_count": 1,
      "metadata": {
        "id": "tT6j6Y4XGe1J"
      },
      "outputs": [],
      "source": [
        "import numpy as np\n",
        "import pandas as pd\n",
        "import plotly.express as px\n",
        "from sklearn.ensemble import IsolationForest\n",
        "\n",
        "# 1) 합성 데이터 생성 (2개 정상 군집 + 일부 이상치)\n",
        "rng = np.random.RandomState(42)\n",
        "\n",
        "# 정상 데이터 생성 (두 개의 Gaussian 분포)\n",
        "X_cluster1 = 0.5 * rng.randn(100, 2) + np.array([2, 2])\n",
        "X_cluster2 = 0.5 * rng.randn(100, 2) + np.array([-2, -2])\n",
        "\n",
        "# 이상치 데이터 생성 (균일 분포로 생성된 산발적 점들)\n",
        "X_outliers = rng.uniform(low=-6, high=6, size=(20, 2))\n",
        "\n",
        "# 데이터 합치기\n",
        "X = np.vstack([X_cluster1, X_cluster2, X_outliers])"
      ]
    },
    {
      "cell_type": "code",
      "execution_count": 4,
      "metadata": {},
      "outputs": [],
      "source": [
        "# 2) Isolation Forest 모델 훈련\n",
        "# 데이터의 10%를 이상치로 가정 (20 / 220 ≈ 0.09)\n",
        "model = IsolationForest(n_estimators=100, contamination=0.1, random_state=42)\n",
        "model.fit(X)\n",
        "\n",
        "# 3) 훈련 데이터에 대한 예측\n",
        "# scikit-learn의 predict 결과: 정상 = 1, 이상치 = -1\n",
        "y_pred = model.predict(X)"
      ]
    },
    {
      "cell_type": "code",
      "execution_count": 3,
      "metadata": {},
      "outputs": [
        {
          "name": "stdout",
          "output_type": "stream",
          "text": [
            "예측된 이상치 개수: 22건\n",
            "실제 이상치 개수: 20건\n"
          ]
        }
      ],
      "source": [
        "# 4) 이상치로 판정된 데이터 개수와 비율 출력\n",
        "n_outliers = np.sum(y_pred == -1)\n",
        "print(f\"예측된 이상치 개수: {n_outliers}건\")\n",
        "print(f\"실제 이상치 개수: {len(X_outliers)}건\")"
      ]
    },
    {
      "cell_type": "code",
      "execution_count": 5,
      "metadata": {},
      "outputs": [
        {
          "data": {
            "application/vnd.plotly.v1+json": {
              "config": {
                "plotlyServerURL": "https://plot.ly"
              },
              "data": [
                {
                  "hovertemplate": "Prediction=Normal<br>feature1=%{x}<br>feature2=%{y}<extra></extra>",
                  "legendgroup": "Normal",
                  "marker": {
                    "color": "blue",
                    "symbol": "circle"
                  },
                  "mode": "markers",
                  "name": "Normal",
                  "orientation": "v",
                  "showlegend": true,
                  "type": "scatter",
                  "x": {
                    "bdata": "CJOKoqL8AUDNiwSqO5cCQJyFCjJ0IP4/Ah0QKh1RBkAvzJA2hD78P5LcJ6rrSvw/zPcs9cT3AED3jYhHXjPyP0RXLsy45fc/Aj+d3128+D9Qw+cH09wFQNfEGh0mRQBAdkGNqxql+z92hRjhw8r2PwyxsFfkMfs/loCVcbQv+z98TymRW+T/P8flozZJSgNATnuXVuDVAECA0if+31/1P7gTSZUw9AJAdW5K/iYT/z/9o6ep/Cv0PyWqu56cUPw/GAQQed1fAUCE1Qar3EsBQK3xFeuplfo/NT+9Vr4fBECrOrxSSEn5P8n0kLg2UwFANfN6sqYq/D/oyGHZOSb3P7Za6cQGQANA4KYW9YVs/z9EitK2UHIBQJlOirARcgFAm2tt1qC2/z+4Lt3dIlkAQCkaeYn2XQBANBlPqhw+/j/OeHQOXekFQG1jhIE0iPk/0uA4LF+pA0BDyRAVDcP7P62ADkxoYwBA4u3N/DFi+j9da45m9tz8PwKzZic6LwFADzJEdjwFAED+bLkaUq30P385PeQeQv0/xKg41q+1/j+HgB9RdIsHQLrnJEq7BwFAikbuRlum8D8xtvf8rD0AQJLnWXQLdv4/OKMiCem4/z/X29UkQJIEQHqQWkcEKgNADfGhHHacBUDpMOUQ8VgCQGaC8LBhE/g/dDboAQtmAEATvmPFPZjzPyoEGelmgPc/HIc26ASl+D/Ic6ey5bv5P7ZXTagKQQNAoxnRQevoAECkh3XU3yPzPz1cGLceCgFAFB7wlbka9j+O/YrZdxYCQC54oDKBAAFAgMriMk+P+j/js8AwGywBQPhO7JeNdgdAzDs/3zV49j9r57IY2jP4PwiCJOFmogRA3mejRX/aA0BdFXojykkDQGKGl/RxCf4/m4E7Qkbi+D9Kzrx/GGL/P/jnONVUGwFAYZsxXlANAECUTfPwroACQMJd+unPbvc/HjipJFk2/j/THmNnmOQBQO+AEzfEOfk/vJOdkYlt/D8JRfVjO9sAQI1JM1dWsQBAkIQJJ9zt+D9ERfgQmzsAQD8OY2FAI/2/P1zVOulV97+KTkDCu4IFwOBqmDA14fu/Es+39NBu+79Rw8tSNF74v96o3PDVQgHAK9o3fl8XA8DZYlIkA/EBwFyyK5Qo9+q/nFtuBIqC+r8FBmYbQuMBwAGX4cFafP+/jupXk3jcAsBVQvU65esCwOL0Lzurov+/1lK+rmey7b+euW36vhkIwHZ23FmrpQLAgeFzjoorA8AyEL86yfX7v1M+V4AazQTApkxLEFjmAcDrQ/uGWeDxv0OuzyklCwXAbDuN8aUL7r9AMGm41RMGwAhy+q9d3fW/nkK2zA5z/L/5X/RCLbUDwK36uDmhAgHAe/GfV9Lw8r84mJwFm8IBwMTmtrVFePS/fNDkM9ex9r/W95OaEO0DwFp77GNTaP6/ujO+mgtx/7/s79Q3hBf/v1L/XWrWT/O/djJpZRjf7b/WykyNbZsAwLAW7VWHwP2/7WrL/x3VAMAm9lFvglsCwKbqnBDVJP2/ZjqclJ7N+L9qbzslQn/5v3HUcRHkUAPAnuIr7ooF+r+JCjo6ZxUAwFO7iqBXx/W/9i2BaIuf+79mQkPS594AwP0Z/ByMZfm/YjWNIGGO9b9bBpc9XIv6v8zJrHgbaP2/OBn0LVo5/78bmI2k20UDwL/+omspBgTA2GbJXTC89r/OzSd4zQH7v6hvA2uKDADAmlxtlMBk/7/LStps9DL4v3CnHCNPTQPA+ytj/lCy/L9/P7Qk9EkDwFjMY/dOCv6/AS2X3VfiAcCkUiKf1soFwBseidev3wLAt2vt5EKD/b8t+/lZgyP5v9kkHPx4EwDA7YiGG/USAMAfSQyIEmv9vy1X0Npg2Pu/1usC0l5vAMAcj3DJlXr6vx/COgAPNf6/Hw75l/U3/7/QGxmczc3/v0rE9dEOZPS/2qsqjZCM7b80RQ3CfAX5v9hSEjOR9uy//JznCuBbA8BzGVCF3n4IwFbLihJaCQPApJhmcRVE/b+KN80viGX4v0vA/gP6lwPAyPy8NutHBcBUS6+ygZD2v+5fIPA/2gbAq8vl7kl1AMDYnMm0ylrwvziAatFAfghA",
                    "dtype": "f8"
                  },
                  "xaxis": "x",
                  "y": {
                    "bdata": "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",
                    "dtype": "f8"
                  },
                  "yaxis": "y"
                },
                {
                  "hovertemplate": "Prediction=Anomaly<br>feature1=%{x}<br>feature2=%{y}<extra></extra>",
                  "legendgroup": "Anomaly",
                  "marker": {
                    "color": "red",
                    "symbol": "circle"
                  },
                  "mode": "markers",
                  "name": "Anomaly",
                  "orientation": "v",
                  "showlegend": true,
                  "type": "scatter",
                  "x": {
                    "bdata": "QkFhKIYV5j/zoySZ++H9P/96u60u4fu/IMIcyQ73DMCeP4wFQksVwACDae7aCQ5AYp96Z6zWF0CopLZ8otIJQOJgRJZ3yBBAMGcolrX94r/w/KUHYcsVQCsbdtnfDArAwCEgQT2u9j+c7N2zmowSwCC1bhtQMc8/wN0Xe5z4zj8gdnZepu7jP3A7wMhRFBJAQKYeiziREcDkGKnhdpcDQAniS25EdBHAiOhnmeuv/L8=",
                    "dtype": "f8"
                  },
                  "xaxis": "x",
                  "y": {
                    "bdata": "GCtjz6BJA0AmXKgGdOEKQLAvr8ux2bK/VNTnEvkYBMAqeSZktYERQOjcf+CH/BdAQFEWjChJ5T9w4IoCSFkVQC1jG00sQQjA0Mh9nOPMEcDoNPkUsmL0P1SAFU23ewBAuEaNCZY7+78IXfo1lXgAQCT5+S1/JApA7vflNJvnEEAwXD5EcmbnP5xP15kCiPK/mw56h1GeFsAdhSlZMY4LwGACHnBGTRfA8IpHV6JD8T8=",
                    "dtype": "f8"
                  },
                  "yaxis": "y"
                }
              ],
              "layout": {
                "legend": {
                  "title": {
                    "text": "Prediction"
                  },
                  "tracegroupgap": 0
                },
                "template": {
                  "data": {
                    "bar": [
                      {
                        "error_x": {
                          "color": "#2a3f5f"
                        },
                        "error_y": {
                          "color": "#2a3f5f"
                        },
                        "marker": {
                          "line": {
                            "color": "#E5ECF6",
                            "width": 0.5
                          },
                          "pattern": {
                            "fillmode": "overlay",
                            "size": 10,
                            "solidity": 0.2
                          }
                        },
                        "type": "bar"
                      }
                    ],
                    "barpolar": [
                      {
                        "marker": {
                          "line": {
                            "color": "#E5ECF6",
                            "width": 0.5
                          },
                          "pattern": {
                            "fillmode": "overlay",
                            "size": 10,
                            "solidity": 0.2
                          }
                        },
                        "type": "barpolar"
                      }
                    ],
                    "carpet": [
                      {
                        "aaxis": {
                          "endlinecolor": "#2a3f5f",
                          "gridcolor": "white",
                          "linecolor": "white",
                          "minorgridcolor": "white",
                          "startlinecolor": "#2a3f5f"
                        },
                        "baxis": {
                          "endlinecolor": "#2a3f5f",
                          "gridcolor": "white",
                          "linecolor": "white",
                          "minorgridcolor": "white",
                          "startlinecolor": "#2a3f5f"
                        },
                        "type": "carpet"
                      }
                    ],
                    "choropleth": [
                      {
                        "colorbar": {
                          "outlinewidth": 0,
                          "ticks": ""
                        },
                        "type": "choropleth"
                      }
                    ],
                    "contour": [
                      {
                        "colorbar": {
                          "outlinewidth": 0,
                          "ticks": ""
                        },
                        "colorscale": [
                          [
                            0,
                            "#0d0887"
                          ],
                          [
                            0.1111111111111111,
                            "#46039f"
                          ],
                          [
                            0.2222222222222222,
                            "#7201a8"
                          ],
                          [
                            0.3333333333333333,
                            "#9c179e"
                          ],
                          [
                            0.4444444444444444,
                            "#bd3786"
                          ],
                          [
                            0.5555555555555556,
                            "#d8576b"
                          ],
                          [
                            0.6666666666666666,
                            "#ed7953"
                          ],
                          [
                            0.7777777777777778,
                            "#fb9f3a"
                          ],
                          [
                            0.8888888888888888,
                            "#fdca26"
                          ],
                          [
                            1,
                            "#f0f921"
                          ]
                        ],
                        "type": "contour"
                      }
                    ],
                    "contourcarpet": [
                      {
                        "colorbar": {
                          "outlinewidth": 0,
                          "ticks": ""
                        },
                        "type": "contourcarpet"
                      }
                    ],
                    "heatmap": [
                      {
                        "colorbar": {
                          "outlinewidth": 0,
                          "ticks": ""
                        },
                        "colorscale": [
                          [
                            0,
                            "#0d0887"
                          ],
                          [
                            0.1111111111111111,
                            "#46039f"
                          ],
                          [
                            0.2222222222222222,
                            "#7201a8"
                          ],
                          [
                            0.3333333333333333,
                            "#9c179e"
                          ],
                          [
                            0.4444444444444444,
                            "#bd3786"
                          ],
                          [
                            0.5555555555555556,
                            "#d8576b"
                          ],
                          [
                            0.6666666666666666,
                            "#ed7953"
                          ],
                          [
                            0.7777777777777778,
                            "#fb9f3a"
                          ],
                          [
                            0.8888888888888888,
                            "#fdca26"
                          ],
                          [
                            1,
                            "#f0f921"
                          ]
                        ],
                        "type": "heatmap"
                      }
                    ],
                    "histogram": [
                      {
                        "marker": {
                          "pattern": {
                            "fillmode": "overlay",
                            "size": 10,
                            "solidity": 0.2
                          }
                        },
                        "type": "histogram"
                      }
                    ],
                    "histogram2d": [
                      {
                        "colorbar": {
                          "outlinewidth": 0,
                          "ticks": ""
                        },
                        "colorscale": [
                          [
                            0,
                            "#0d0887"
                          ],
                          [
                            0.1111111111111111,
                            "#46039f"
                          ],
                          [
                            0.2222222222222222,
                            "#7201a8"
                          ],
                          [
                            0.3333333333333333,
                            "#9c179e"
                          ],
                          [
                            0.4444444444444444,
                            "#bd3786"
                          ],
                          [
                            0.5555555555555556,
                            "#d8576b"
                          ],
                          [
                            0.6666666666666666,
                            "#ed7953"
                          ],
                          [
                            0.7777777777777778,
                            "#fb9f3a"
                          ],
                          [
                            0.8888888888888888,
                            "#fdca26"
                          ],
                          [
                            1,
                            "#f0f921"
                          ]
                        ],
                        "type": "histogram2d"
                      }
                    ],
                    "histogram2dcontour": [
                      {
                        "colorbar": {
                          "outlinewidth": 0,
                          "ticks": ""
                        },
                        "colorscale": [
                          [
                            0,
                            "#0d0887"
                          ],
                          [
                            0.1111111111111111,
                            "#46039f"
                          ],
                          [
                            0.2222222222222222,
                            "#7201a8"
                          ],
                          [
                            0.3333333333333333,
                            "#9c179e"
                          ],
                          [
                            0.4444444444444444,
                            "#bd3786"
                          ],
                          [
                            0.5555555555555556,
                            "#d8576b"
                          ],
                          [
                            0.6666666666666666,
                            "#ed7953"
                          ],
                          [
                            0.7777777777777778,
                            "#fb9f3a"
                          ],
                          [
                            0.8888888888888888,
                            "#fdca26"
                          ],
                          [
                            1,
                            "#f0f921"
                          ]
                        ],
                        "type": "histogram2dcontour"
                      }
                    ],
                    "mesh3d": [
                      {
                        "colorbar": {
                          "outlinewidth": 0,
                          "ticks": ""
                        },
                        "type": "mesh3d"
                      }
                    ],
                    "parcoords": [
                      {
                        "line": {
                          "colorbar": {
                            "outlinewidth": 0,
                            "ticks": ""
                          }
                        },
                        "type": "parcoords"
                      }
                    ],
                    "pie": [
                      {
                        "automargin": true,
                        "type": "pie"
                      }
                    ],
                    "scatter": [
                      {
                        "fillpattern": {
                          "fillmode": "overlay",
                          "size": 10,
                          "solidity": 0.2
                        },
                        "type": "scatter"
                      }
                    ],
                    "scatter3d": [
                      {
                        "line": {
                          "colorbar": {
                            "outlinewidth": 0,
                            "ticks": ""
                          }
                        },
                        "marker": {
                          "colorbar": {
                            "outlinewidth": 0,
                            "ticks": ""
                          }
                        },
                        "type": "scatter3d"
                      }
                    ],
                    "scattercarpet": [
                      {
                        "marker": {
                          "colorbar": {
                            "outlinewidth": 0,
                            "ticks": ""
                          }
                        },
                        "type": "scattercarpet"
                      }
                    ],
                    "scattergeo": [
                      {
                        "marker": {
                          "colorbar": {
                            "outlinewidth": 0,
                            "ticks": ""
                          }
                        },
                        "type": "scattergeo"
                      }
                    ],
                    "scattergl": [
                      {
                        "marker": {
                          "colorbar": {
                            "outlinewidth": 0,
                            "ticks": ""
                          }
                        },
                        "type": "scattergl"
                      }
                    ],
                    "scattermap": [
                      {
                        "marker": {
                          "colorbar": {
                            "outlinewidth": 0,
                            "ticks": ""
                          }
                        },
                        "type": "scattermap"
                      }
                    ],
                    "scattermapbox": [
                      {
                        "marker": {
                          "colorbar": {
                            "outlinewidth": 0,
                            "ticks": ""
                          }
                        },
                        "type": "scattermapbox"
                      }
                    ],
                    "scatterpolar": [
                      {
                        "marker": {
                          "colorbar": {
                            "outlinewidth": 0,
                            "ticks": ""
                          }
                        },
                        "type": "scatterpolar"
                      }
                    ],
                    "scatterpolargl": [
                      {
                        "marker": {
                          "colorbar": {
                            "outlinewidth": 0,
                            "ticks": ""
                          }
                        },
                        "type": "scatterpolargl"
                      }
                    ],
                    "scatterternary": [
                      {
                        "marker": {
                          "colorbar": {
                            "outlinewidth": 0,
                            "ticks": ""
                          }
                        },
                        "type": "scatterternary"
                      }
                    ],
                    "surface": [
                      {
                        "colorbar": {
                          "outlinewidth": 0,
                          "ticks": ""
                        },
                        "colorscale": [
                          [
                            0,
                            "#0d0887"
                          ],
                          [
                            0.1111111111111111,
                            "#46039f"
                          ],
                          [
                            0.2222222222222222,
                            "#7201a8"
                          ],
                          [
                            0.3333333333333333,
                            "#9c179e"
                          ],
                          [
                            0.4444444444444444,
                            "#bd3786"
                          ],
                          [
                            0.5555555555555556,
                            "#d8576b"
                          ],
                          [
                            0.6666666666666666,
                            "#ed7953"
                          ],
                          [
                            0.7777777777777778,
                            "#fb9f3a"
                          ],
                          [
                            0.8888888888888888,
                            "#fdca26"
                          ],
                          [
                            1,
                            "#f0f921"
                          ]
                        ],
                        "type": "surface"
                      }
                    ],
                    "table": [
                      {
                        "cells": {
                          "fill": {
                            "color": "#EBF0F8"
                          },
                          "line": {
                            "color": "white"
                          }
                        },
                        "header": {
                          "fill": {
                            "color": "#C8D4E3"
                          },
                          "line": {
                            "color": "white"
                          }
                        },
                        "type": "table"
                      }
                    ]
                  },
                  "layout": {
                    "annotationdefaults": {
                      "arrowcolor": "#2a3f5f",
                      "arrowhead": 0,
                      "arrowwidth": 1
                    },
                    "autotypenumbers": "strict",
                    "coloraxis": {
                      "colorbar": {
                        "outlinewidth": 0,
                        "ticks": ""
                      }
                    },
                    "colorscale": {
                      "diverging": [
                        [
                          0,
                          "#8e0152"
                        ],
                        [
                          0.1,
                          "#c51b7d"
                        ],
                        [
                          0.2,
                          "#de77ae"
                        ],
                        [
                          0.3,
                          "#f1b6da"
                        ],
                        [
                          0.4,
                          "#fde0ef"
                        ],
                        [
                          0.5,
                          "#f7f7f7"
                        ],
                        [
                          0.6,
                          "#e6f5d0"
                        ],
                        [
                          0.7,
                          "#b8e186"
                        ],
                        [
                          0.8,
                          "#7fbc41"
                        ],
                        [
                          0.9,
                          "#4d9221"
                        ],
                        [
                          1,
                          "#276419"
                        ]
                      ],
                      "sequential": [
                        [
                          0,
                          "#0d0887"
                        ],
                        [
                          0.1111111111111111,
                          "#46039f"
                        ],
                        [
                          0.2222222222222222,
                          "#7201a8"
                        ],
                        [
                          0.3333333333333333,
                          "#9c179e"
                        ],
                        [
                          0.4444444444444444,
                          "#bd3786"
                        ],
                        [
                          0.5555555555555556,
                          "#d8576b"
                        ],
                        [
                          0.6666666666666666,
                          "#ed7953"
                        ],
                        [
                          0.7777777777777778,
                          "#fb9f3a"
                        ],
                        [
                          0.8888888888888888,
                          "#fdca26"
                        ],
                        [
                          1,
                          "#f0f921"
                        ]
                      ],
                      "sequentialminus": [
                        [
                          0,
                          "#0d0887"
                        ],
                        [
                          0.1111111111111111,
                          "#46039f"
                        ],
                        [
                          0.2222222222222222,
                          "#7201a8"
                        ],
                        [
                          0.3333333333333333,
                          "#9c179e"
                        ],
                        [
                          0.4444444444444444,
                          "#bd3786"
                        ],
                        [
                          0.5555555555555556,
                          "#d8576b"
                        ],
                        [
                          0.6666666666666666,
                          "#ed7953"
                        ],
                        [
                          0.7777777777777778,
                          "#fb9f3a"
                        ],
                        [
                          0.8888888888888888,
                          "#fdca26"
                        ],
                        [
                          1,
                          "#f0f921"
                        ]
                      ]
                    },
                    "colorway": [
                      "#636efa",
                      "#EF553B",
                      "#00cc96",
                      "#ab63fa",
                      "#FFA15A",
                      "#19d3f3",
                      "#FF6692",
                      "#B6E880",
                      "#FF97FF",
                      "#FECB52"
                    ],
                    "font": {
                      "color": "#2a3f5f"
                    },
                    "geo": {
                      "bgcolor": "white",
                      "lakecolor": "white",
                      "landcolor": "#E5ECF6",
                      "showlakes": true,
                      "showland": true,
                      "subunitcolor": "white"
                    },
                    "hoverlabel": {
                      "align": "left"
                    },
                    "hovermode": "closest",
                    "mapbox": {
                      "style": "light"
                    },
                    "paper_bgcolor": "white",
                    "plot_bgcolor": "#E5ECF6",
                    "polar": {
                      "angularaxis": {
                        "gridcolor": "white",
                        "linecolor": "white",
                        "ticks": ""
                      },
                      "bgcolor": "#E5ECF6",
                      "radialaxis": {
                        "gridcolor": "white",
                        "linecolor": "white",
                        "ticks": ""
                      }
                    },
                    "scene": {
                      "xaxis": {
                        "backgroundcolor": "#E5ECF6",
                        "gridcolor": "white",
                        "gridwidth": 2,
                        "linecolor": "white",
                        "showbackground": true,
                        "ticks": "",
                        "zerolinecolor": "white"
                      },
                      "yaxis": {
                        "backgroundcolor": "#E5ECF6",
                        "gridcolor": "white",
                        "gridwidth": 2,
                        "linecolor": "white",
                        "showbackground": true,
                        "ticks": "",
                        "zerolinecolor": "white"
                      },
                      "zaxis": {
                        "backgroundcolor": "#E5ECF6",
                        "gridcolor": "white",
                        "gridwidth": 2,
                        "linecolor": "white",
                        "showbackground": true,
                        "ticks": "",
                        "zerolinecolor": "white"
                      }
                    },
                    "shapedefaults": {
                      "line": {
                        "color": "#2a3f5f"
                      }
                    },
                    "ternary": {
                      "aaxis": {
                        "gridcolor": "white",
                        "linecolor": "white",
                        "ticks": ""
                      },
                      "baxis": {
                        "gridcolor": "white",
                        "linecolor": "white",
                        "ticks": ""
                      },
                      "bgcolor": "#E5ECF6",
                      "caxis": {
                        "gridcolor": "white",
                        "linecolor": "white",
                        "ticks": ""
                      }
                    },
                    "title": {
                      "x": 0.05
                    },
                    "xaxis": {
                      "automargin": true,
                      "gridcolor": "white",
                      "linecolor": "white",
                      "ticks": "",
                      "title": {
                        "standoff": 15
                      },
                      "zerolinecolor": "white",
                      "zerolinewidth": 2
                    },
                    "yaxis": {
                      "automargin": true,
                      "gridcolor": "white",
                      "linecolor": "white",
                      "ticks": "",
                      "title": {
                        "standoff": 15
                      },
                      "zerolinecolor": "white",
                      "zerolinewidth": 2
                    }
                  }
                },
                "title": {
                  "text": "Isolation Forest Anomaly Detection"
                },
                "xaxis": {
                  "anchor": "y",
                  "domain": [
                    0,
                    1
                  ],
                  "title": {
                    "text": "feature1"
                  }
                },
                "yaxis": {
                  "anchor": "x",
                  "domain": [
                    0,
                    1
                  ],
                  "title": {
                    "text": "feature2"
                  }
                }
              }
            }
          },
          "metadata": {},
          "output_type": "display_data"
        }
      ],
      "source": [
        "# 5) 시각화\n",
        "df = pd.DataFrame(X, columns=['feature1', 'feature2'])\n",
        "df['prediction'] = y_pred\n",
        "# 예측 결과를 문자열로 변환하여 범례에 표시\n",
        "df['prediction'] = df['prediction'].apply(lambda x: 'Anomaly' if x == -1 else 'Normal')\n",
        "\n",
        "fig = px.scatter(df, x='feature1', y='feature2', color='prediction',\n",
        "                 title='Isolation Forest Anomaly Detection',\n",
        "                 color_discrete_map={'Normal': 'blue', 'Anomaly': 'red'},\n",
        "                 labels={'prediction': 'Prediction'})\n",
        "fig.show()"
      ]
    },
    {
      "cell_type": "markdown",
      "metadata": {
        "id": "Fpm8PXfXGe1K"
      },
      "source": [
        "위 코드에서 `contamination=0.1`로 설정했기 때문에, 모델은 전체 데이터 중 이상치 점수가 가장 높은 약 10%를 이상치(`-1`)로 예측합니다. [cite: 25] 시각화 결과를 보면, 두 개의 파란색 군집에서 멀리 떨어진 빨간색 점들을 성공적으로 '이상치'로 탐지해낸 것을 확인할 수 있습니다.\n"
      ]
    },
    {
      "cell_type": "markdown",
      "metadata": {},
      "source": [
        "\n",
        "#### ✏️ 연습문제 - Isolation Forest\n",
        "\n",
        "1.  위 코드 예제에서 `contamination` 값을 `0.05`와 `0.2`로 각각 변경해보세요. 이상치로 예측되는 데이터의 개수가 어떻게 변하는지 확인하고, 그 이유를 설명하세요.\n",
        "2.  `model.decision_function(X)`를 사용하여 각 데이터 포인트의 **이상치 점수**를 계산하세요. 이 점수들의 분포를 `plotly.express`의 `histogram`을 사용해 시각화하고, 정상/이상치로 예측된 데이터들의 점수 분포가 어떻게 다른지 관찰해보세요. (`y_pred` 값을 이용해 색상을 구분)"
      ]
    },
    {
      "cell_type": "markdown",
      "metadata": {},
      "source": [
        "\n",
        "---\n",
        "\n",
        "### 2. One-Class SVM (원클래스 SVM)\n",
        "\n",
        "#### 🧠 개념 이해하기\n",
        "\n",
        "\"정상 데이터만 보고 '정상의 기준'을 배울 수 있을까?\"\n",
        "\n",
        "**One-Class SVM**은 이 질문에 \"그렇다\"고 답하는 알고리즘입니다. \n",
        "\n",
        "이름에서 알 수 있듯이, 이 모델은 **오직 하나의 클래스(정상 데이터)만을 사용하여 학습**합니다. \n",
        "\n",
        "전통적인 SVM이 두 클래스를 나누는 최적의 경계(hyperplane)를 찾는 것을 목표로 한다면, One-Class SVM은 **정상 데이터들을 최대한 감싸는 가장 작은 경계(boundary)**를 찾는 것을 목표로 합니다.  학습이 완료되면, 이 경계 안에 들어오는 새로운 데이터는 '정상'으로, 경계 밖에 위치하는 데이터는 '이상(novelty)'으로 판단합니다. \n",
        "\n",
        "이러한 특성 때문에 One-Class SVM은 **Novelty Detection(신규성 탐지)**, 즉 '과거에 보지 못했던 새로운 패턴 탐지'에 특히 유용합니다.\n",
        "\n",
        "<img src=\"./images/one-class-svm-concept.png\" width=\"500px\">\n",
        "\n",
        "-   **장점**: 데이터의 분포가 복잡하고 비선형적인 경우에도 커널 트릭을 통해 유연한 경계를 만들 수 있습니다.\n",
        "-   **주요 하이퍼파라미터**\n",
        "    -   `kernel`: 데이터의 분포를 매핑할 커널 함수를 지정합니다. 비선형 데이터에는 `rbf`(방사 기저 함수)가 주로 사용됩니다. \n",
        "    -   `nu` (뉴): `contamination`과 유사하지만 더 중요한 의미를 갖습니다. **(1) 훈련 데이터에서 이상치로 간주될 비율의 상한선**이자, **(2) 서포트 벡터(경계를 결정하는 데이터) 비율의 하한선**을 의미합니다.  0과 1 사이의 값으로, 예를 들어 `nu=0.1`로 설정하면 훈련 데이터의 최대 10%까지는 경계 밖에 놓이는 것을 허용합니다.  이 값이 클수록 경계가 타이트해져 이상치를 더 많이 탐지하게 됩니다. \n",
        "    -   `gamma`: `rbf` 커널에 사용되는 파라미터로, 하나의 훈련 샘플이 미치는 영향의 범위를 조절합니다.  값이 클수록 경계가 데이터에 더 가깝게 구불구불하게 만들어져 과적합(overfitting)될 수 있고, 작을수록 경계가 완만해집니다. \n",
        "\n",
        "#### 💻 코드 예시 (scikit-learn)\n",
        "\n",
        "One-Class SVM은 **정상 데이터로만 학습**하는 것이 핵심입니다.  아래 예제에서는 정상 데이터(`X_train`)와 이상치 데이터(`X_outliers`)를 분리하여 모델을 학습하고 평가합니다."
      ]
    },
    {
      "cell_type": "code",
      "execution_count": null,
      "metadata": {
        "id": "jyuCpxCLGe1L"
      },
      "outputs": [],
      "source": [
        "import numpy as np\n",
        "import pandas as pd\n",
        "import plotly.express as px\n",
        "from sklearn.svm import OneClassSVM\n",
        "\n",
        "# 1) 합성 데이터 준비 (정상 데이터 + 이상치)\n",
        "rng = np.random.RandomState(0)\n",
        "# 원형으로 분포된 정상 데이터 생성\n",
        "X_train = 0.4 * rng.randn(200, 2)\n",
        "X_train = np.r_[X_train + 3, X_train - 3]\n",
        "\n",
        "# 주변에 산발적으로 존재하는 이상치 데이터 생성\n",
        "X_outliers = rng.uniform(low=-7, high=7, size=(40, 2))\n",
        "\n",
        "# 2) One-Class SVM 모델 학습 (⭐ 정상 데이터만 사용!)\n",
        "# 훈련 데이터의 10%를 이상치로 허용하도록 설정\n",
        "model = OneClassSVM(kernel='rbf', nu=0.1, gamma=0.1)\n",
        "model.fit(X_train)\n",
        "\n",
        "# 3) 새로운 데이터(이상치 후보)에 대한 예측\n",
        "y_pred_outliers = model.predict(X_outliers) # 정상 = 1, 이상치 = -1\n",
        "\n",
        "# 4) 결과 확인\n",
        "print(f\"임의 이상치 데이터 중 이상치로 예측된 비율: {np.mean(y_pred_outliers == -1) * 100:.2f}%\")\n",
        "\n",
        "# 5) 시각화\n",
        "# 훈련 데이터(정상)와 테스트 데이터(이상치)를 합쳐서 데이터프레임 생성\n",
        "df_train = pd.DataFrame(X_train, columns=['feature1', 'feature2'])\n",
        "df_train['type'] = 'Normal (Train)'\n",
        "\n",
        "df_outliers = pd.DataFrame(X_outliers, columns=['feature1', 'feature2'])\n",
        "df_outliers['type'] = 'Outlier (Test)'\n",
        "df_outliers['prediction'] = ['Anomaly' if p == -1 else 'Normal' for p in y_pred_outliers]\n",
        "\n",
        "df_combined = pd.concat([df_train, df_outliers])\n",
        "\n",
        "fig = px.scatter(df_combined, x='feature1', y='feature2', color='type', symbol='prediction',\n",
        "                 title='One-Class SVM Novelty Detection',\n",
        "                 color_discrete_map={'Normal (Train)': 'blue', 'Outlier (Test)': 'gray'},\n",
        "                 symbol_map={'Normal': 'circle', 'Anomaly': 'x'})\n",
        "fig.update_traces(selector=dict(name='Outlier (Test)'), marker_color='red', marker_size=8)\n",
        "fig.show()"
      ]
    },
    {
      "cell_type": "markdown",
      "metadata": {
        "id": "QYsH7iUHGe1L"
      },
      "source": [
        "결과를 보면, 정상 데이터(`X_train`)로만 학습했음에도 불구하고, 한 번도 본 적 없는 `X_outliers` 데이터 대부분을 성공적으로 이상치(빨간색 'x' 표시)로 판별하는 것을 볼 수 있습니다. [cite: 66, 68] 모델이 학습 데이터를 감싸는 보이지 않는 경계를 만들고, 그 경계 밖의 점들을 찾아낸 것입니다.\n",
        "\n",
        "#### ✏️ 연습문제 - One-Class SVM\n",
        "\n",
        "1.  위 코드 예제에서 `nu` 값을 `0.01`과 `0.3`으로 각각 변경하며 모델을 다시 학습시켜 보세요. `X_outliers`에 대한 이상치 예측 비율이 어떻게 변하는지 관찰하고, `nu` 값의 의미와 연관지어 설명하세요.\n",
        "2.  `kernel`을 `'rbf'`에서 `'linear'`로 변경하고 모델을 학습시켜보세요. 시각화 결과에서 이상치를 탐지하는 경계의 모양이 어떻게 달라질 것으로 예상되나요? 실제 결과를 확인해보세요.\n",
        "3.  (심화) 만약 학습 데이터(`X_train`)에 `X_outliers`의 일부(예: 10개)가 섞여 있다면 모델의 성능은 어떻게 될까요? `np.vstack`을 사용하여 오염된 학습 데이터를 만들고, One-Class SVM을 학습시킨 뒤, 나머지 이상치들에 대한 예측 성능을 순수한 데이터로 학습했을 때와 비교해보세요. [cite: 80]"
      ]
    },
    {
      "cell_type": "markdown",
      "metadata": {},
      "source": []
    }
  ],
  "metadata": {
    "colab": {
      "provenance": []
    },
    "kernelspec": {
      "display_name": ".venv",
      "language": "python",
      "name": "python3"
    },
    "language_info": {
      "codemirror_mode": {
        "name": "ipython",
        "version": 3
      },
      "file_extension": ".py",
      "mimetype": "text/x-python",
      "name": "python",
      "nbconvert_exporter": "python",
      "pygments_lexer": "ipython3",
      "version": "3.12.9"
    }
  },
  "nbformat": 4,
  "nbformat_minor": 0
}
