{
  "cells": [
    {
      "cell_type": "markdown",
      "metadata": {},
      "source": [
        "# 📝 Lab #4 (응용): PyCaret을 이용한 수요 예측 모델 최적화\n",
        "\n",
        "지금까지 배운 PyCaret의 다양한 기능을 총동원하여 '서울시 따릉이' 데이터셋에 대한 최적의 수요 예측 모델을 구축하는 실습을 진행합니다.\n",
        "\n",
        "다양한 모델을 시도하고, 튜닝하고, 앙상블하여 최고의 성능을 내는 파이프라인을 찾아내는 전 과정을 스스로 수행해 보세요.\n",
        "\n",
        "### 과제 목표\n",
        "1. `setup()` 함수에서 다양한 전처리 옵션을 탐색하고 적용하여 최적의 실험 환경을 구축합니다.\n",
        "2. `compare_models()`를 통해 유망한 후보 모델들을 식별합니다.\n",
        "3. 상위 모델들을 **튜닝**하고, **블렌딩** 및 **스태킹** 앙상블을 구성합니다.\n",
        "4. 단일 모델, 튜닝된 모델, 앙상블 모델들의 최종 성능을 **테스트 데이터**에 대해 객관적으로 비교하고, 최고의 모델을 선정합니다.\n",
        "5. 최종 선택한 모델의 **특성 중요도**를 시각화하고, 모델이 어떤 정보를 기반으로 예측하는지 분석합니다."
      ]
    },
    {
      "cell_type": "markdown",
      "metadata": {},
      "source": [
        "### [문제 1] 데이터 준비 및 실험 환경 설정\n",
        "\n",
        "서울시 따릉이 데이터를 불러온 후, `setup()` 함수를 실행하여 실험 환경을 설정하세요. \n",
        "- **요구사항**: `session_id=2024`, `train_size=0.8` 로 설정하세요. 그 외 `normalize`, `transformation`, `date_features` 등 성능에 도움이 될 것이라 생각하는 옵션을 자유롭게 추가하거나 변경해보세요. "
      ]
    },
    {
      "cell_type": "code",
      "execution_count": null,
      "metadata": {},
      "outputs": [],
      "source": [
        "import pandas as pd\n",
        "from pycaret.regression import *\n",
        "\n",
        "# 데이터 불러오기\n",
        "path = './datasets/ml/bike-sharing/SeoulBikeData.csv'\n",
        "df = pd.read_csv(path, encoding='cp949')\n",
        "df.columns = df.columns.str.replace('[^A-Za-z0-9_]+', '', regex=True)\n",
        "\n",
        "# --- 여기에 setup() 코드를 작성하세요. ---"
      ]
    },
    {
      "cell_type": "markdown",
      "metadata": {},
      "source": [
        "### [문제 2] 상위 모델 탐색 및 튜닝\n",
        "\n",
        "1. `compare_models()`를 실행하여 성능이 좋은 상위 3개 모델을 `top3_models` 변수에 저장하세요.\n",
        "2. `tune_model()`을 사용하여 `top3_models` 리스트에 있는 3개의 모델을 각각 튜닝하고, 튜닝된 모델들을 `tuned_top3` 리스트에 저장하세요. (for문 사용 추천)"
      ]
    },
    {
      "cell_type": "code",
      "execution_count": null,
      "metadata": {},
      "outputs": [],
      "source": [
        "# --- 1. 상위 3개 모델 탐색 --- \n",
        "# top3_models = ...\n",
        "\n",
        "# --- 2. 3개 모델 튜닝 --- \n",
        "# tuned_top3 = []\n",
        "# for model in top3_models:\n",
        "#     tuned_model = ...\n",
        "#     tuned_top3.append(tuned_model)"
      ]
    },
    {
      "cell_type": "markdown",
      "metadata": {},
      "source": [
        "### [문제 3] 앙상블 모델 생성\n",
        "\n",
        "1. 문제 2에서 찾은 `tuned_top3` 모델들을 `blend_models()`를 사용해 블렌딩하고, `blended_model` 변수에 저장하세요.\n",
        "2. `tuned_top3` 리스트에서 2, 3위 모델을 기본 모델로, 1위 모델을 메타 모델로 사용하여 `stack_models()`를 실행하고, `stacked_model` 변수에 저장하세요."
      ]
    },
    {
      "cell_type": "code",
      "execution_count": null,
      "metadata": {},
      "outputs": [],
      "source": [
        "# --- 1. 블렌딩 모델 생성 --- \n",
        "# blended_model = ...\n",
        "\n",
        "# --- 2. 스태킹 모델 생성 --- \n",
        "# stacked_model = ..."
      ]
    },
    {
      "cell_type": "markdown",
      "metadata": {},
      "source": [
        "### [문제 4] 최종 성능 비교 및 최고 모델 선정\n",
        "\n",
        "지금까지 만든 모델들(`tuned_top3` 안의 3개 모델, `blended_model`, `stacked_model`)의 성능을 테스트 데이터에 대해 평가하고, 결과를 DataFrame으로 정리하여 비교해보세요.\n",
        "\n",
        "- **요구사항**:\n",
        "  1. `predict_model()`을 사용하여 각 모델의 성능(RMSE)을 측정합니다. 반환된 결과 DataFrame에서 'RMSE' 행의 'Value' 열 값을 추출할 수 있습니다. (`predict_model(model).loc['RMSE', 'Value']`)\n",
        "  2. 모델 이름과 해당 모델의 RMSE 값을 딕셔너리 형태로 저장한 후, 최종적으로 Pandas DataFrame으로 만들어 출력하세요."
      ]
    },
    {
      "cell_type": "code",
      "execution_count": null,
      "metadata": {},
      "outputs": [],
      "source": [
        "# 성능을 기록할 딕셔너리\n",
        "performance_summary = {}\n",
        "\n",
        "# 튜닝된 개별 모델 성능 측정\n",
        "# for i, model in enumerate(tuned_top3):\n",
        "#     model_name = model.__class__.__name__\n",
        "#     rmse = predict_model(model, verbose=False).loc['RMSE', 'Value']\n",
        "#     performance_summary[f\"Tuned_{model_name}_{i+1}\"] = rmse\n",
        "\n",
        "# 앙상블 모델 성능 측정\n",
        "# performance_summary['Blended'] = ...\n",
        "# performance_summary['Stacked'] = ...\n",
        "\n",
        "# DataFrame으로 변환 및 출력\n",
        "# summary_df = pd.DataFrame.from_dict(performance_summary, orient='index', columns=['RMSE'])\n",
        "# print(summary_df.sort_values('RMSE'))"
      ]
    },
    {
      "cell_type": "markdown",
      "metadata": {},
      "source": [
        "### [문제 5] 최고 모델 분석 및 저장\n",
        "\n",
        "문제 4의 결과 가장 RMSE가 낮았던 최고의 모델(변수명: `best_performing_model`)에 대해 다음을 수행하세요.\n",
        "1. `plot_model()`을 사용하여 `best_performing_model`의 **특성 중요도**(`feature`)를 시각화하세요.\n",
        "2. `finalize_model()`과 `save_model()`을 사용하여 `best_performing_model`을 최종화하고 `'my_best_bike_model'`이라는 이름으로 저장하세요."
      ]
    },
    {
      "cell_type": "code",
      "execution_count": null,
      "metadata": {},
      "outputs": [],
      "source": [
        "# 예시: stacked_model이 최고 성능 모델이라고 가정\n",
        "# best_performing_model = stacked_model \n",
        "\n",
        "# --- 1. 특성 중요도 시각화 --- \n",
        "# plot_model(...)\n",
        "\n",
        "# --- 2. 모델 최종화 및 저장 ---\n",
        "# final_best_model = ...\n",
        "# save_model(...)"
      ]
    }
  ],
  "metadata": {
    "language_info": {
      "name": "python"
    }
  },
  "nbformat": 4,
  "nbformat_minor": 2
}
