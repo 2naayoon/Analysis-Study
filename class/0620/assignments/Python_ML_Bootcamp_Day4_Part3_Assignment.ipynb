{
 "cells": [
  {
   "cell_type": "markdown",
   "metadata": {},
   "source": [
    "# Lab #4 (Part 4): Optuna를 이용한 자전거 수요 예측 모델 최적화\n",
    "\n",
    "지금까지 배운 Optuna를 사용하여 실제 데이터셋에 대한 회귀 모델의 성능을 극한까지 끌어올리는 실습을 진행해 보겠습니다.\n",
    "\n",
    "**서울시 공공자전거(따릉이) 수요 데이터셋**을 사용하여 `XGBoost` 모델을 만들고, Optuna를 통해 최적의 하이퍼파라미터 조합을 탐색합니다.\n",
    "\n",
    "### 과제 목표\n",
    "1. `서울 따릉이` 데이터를 로드하고 기본적인 전처리를 수행합니다.\n",
    "2. Optuna의 `objective` 함수를 정의하여 `XGBRegressor` 모델의 하이퍼파라미터를 튜닝합니다.\n",
    "3. 최적화의 목표는 **RMSE (Root Mean Squared Error)를 최소화**하는 것입니다.\n",
    "4. 최적화가 끝난 후, 결과를 분석하고 시각화를 통해 탐색 과정을 이해합니다."
   ]
  },
  {
   "cell_type": "code",
   "execution_count": null,
   "metadata": {},
   "outputs": [],
   "source": [
    "# 필요한 라이브러리 임포트\n",
    "import pandas as pd\n",
    "import numpy as np\n",
    "import xgboost as xgb\n",
    "import optuna\n",
    "\n",
    "from sklearn.model_selection import cross_val_score\n",
    "from sklearn.model_selection import KFold\n",
    "\n",
    "# ---------------------------------------------------\n",
    "# 1. 데이터 로드 및 준비 (Data Loading and Preparation)\n",
    "# ---------------------------------------------------\n",
    "# 데이터셋 경로\n",
    "path = '../../datasets/ml/bike-sharing/SeoulBikeData.csv'\n",
    "\n",
    "# 데이터 로드 (원본 데이터 인코딩이 'latin1'으로 되어있음)\n",
    "df = pd.read_csv(path, encoding='cp949')\n",
    "\n",
    "# 특성(X)과 타겟(y) 분리\n",
    "# 'Date', 'Functioning Day' 컬럼은 분석에서 제외\n",
    "# 'Rented Bike Count'가 타겟 변수\n",
    "X = df.drop(columns=['Date', 'Rented Bike Count', 'Functioning Day'])\n",
    "y = df['Rented Bike Count']\n",
    "\n",
    "# 범주형 변수를 원-핫 인코딩으로 변환\n",
    "X = pd.get_dummies(X, columns=['Seasons', 'Holiday'], drop_first=True)\n",
    "\n",
    "print(\"데이터 준비 완료!\")\n",
    "print(\"X shape:\", X.shape)\n",
    "print(\"y shape:\", y.shape)"
   ]
  },
  {
   "cell_type": "markdown",
   "metadata": {},
   "source": [
    "### 2. Objective 함수 정의\n",
    "\n",
    "XGBoost 회귀 모델(`xgb.XGBRegressor`)의 성능(RMSE)을 평가하고 반환하는 `objective` 함수를 작성합니다.\n",
    "\n",
    "**튜닝할 하이퍼파라미터:**\n",
    "- `n_estimators`: 트리의 개수 (100 ~ 2000)\n",
    "- `max_depth`: 트리의 최대 깊이 (3 ~ 10)\n",
    "- `learning_rate`: 학습률 (0.01 ~ 0.3, 로그 스케일)\n",
    "- `subsample`: 각 트리를 훈련할 때 사용하는 데이터 샘플의 비율 (0.6 ~ 1.0)\n",
    "- `colsample_bytree`: 각 트리를 훈련할 때 사용하는 피처(컬럼)의 비율 (0.6 ~ 1.0)\n",
    "- `gamma`: 리프 노드를 추가적으로 분할하기 위한 최소 손실 감소 값 (0 ~ 5)"
   ]
  },
  {
   "cell_type": "code",
   "execution_count": null,
   "metadata": {},
   "outputs": [],
   "source": [
    "# [문제 1] Objective 함수를 정의하세요.\n",
    "def objective(trial):\n",
    "    # --- 하이퍼파라미터 탐색 공간 정의 ---\n",
    "    params = {\n",
    "       # 작성\n",
    "    }\n",
    "    \n",
    "    # XGBoost 모델 생성\n",
    "    model = ?\n",
    "    \n",
    "    # 3-Fold 교차 검증 설정\n",
    "    kf = ?\n",
    "    \n",
    "    # 교차 검증 수행 (scoring='neg_root_mean_squared_error')\n",
    "    scores = ?\n",
    "    \n",
    "    # 교차 검증 점수의 평균을 계산하고, RMSE를 반환 (scores는 음수 값이므로 양수로 변환)\n",
    "    rmse = ?\n",
    "    \n",
    "    return rmse"
   ]
  },
  {
   "cell_type": "markdown",
   "metadata": {},
   "source": [
    "### 3. 최적화 실행 및 결과 확인"
   ]
  },
  {
   "cell_type": "code",
   "execution_count": null,
   "metadata": {},
   "outputs": [],
   "source": [
    "# [문제 2] Optuna Study 객체를 생성하세요.\n",
    "# RMSE를 '최소화'하는 것이 목표입니다.\n",
    "\n",
    "# [문제 3] 최적화를 100번의 trial로 실행하세요.\n",
    "# 시간이 오래 걸릴 수 있습니다. (50번으로 줄여서 테스트해도 좋습니다.)\n",
    "\n",
    "# [문제 4] 최적화 결과를 출력하세요."
   ]
  },
  {
   "cell_type": "markdown",
   "metadata": {},
   "source": [
    "### 4. 결과 분석 및 시각화"
   ]
  },
  {
   "cell_type": "code",
   "execution_count": null,
   "metadata": {},
   "outputs": [],
   "source": [
    "# [문제 5] 최적화 과정을 보여주는 'Optimization History' 그래프를 그리세요.\n",
    "from optuna.visualization import plot_optimization_history\n"
   ]
  },
  {
   "cell_type": "code",
   "execution_count": null,
   "metadata": {},
   "outputs": [],
   "source": [
    "# [문제 6] 하이퍼파라미터들의 중요도를 보여주는 'Parameter Importances' 그래프를 그리세요.\n",
    "from optuna.visualization import plot_param_importances\n"
   ]
  },
  {
   "cell_type": "markdown",
   "metadata": {},
   "source": [
    "### 🌟 [심화 문제] 결과 분석 및 해석\n",
    "\n",
    "위에서 생성된 `Parameter Importances` 그래프를 보고, 서울 따릉이 수요 예측 모델의 성능에 가장 큰 영향을 미치는 하이퍼파라미터 상위 3개를 순서대로 나열하고, 그 이유를 자신만의 언어로 간단히 설명해보세요."
   ]
  },
  {
   "cell_type": "markdown",
   "metadata": {},
   "source": [
    ">자유롭게 작성하세요"
   ]
  }
 ],
 "metadata": {
  "kernelspec": {
   "display_name": "Python 3",
   "language": "python",
   "name": "python3"
  },
  "language_info": {
   "codemirror_mode": {
    "name": "ipython",
    "version": 3
   },
   "file_extension": ".py",
   "mimetype": "text/x-python",
   "name": "python",
   "nbconvert_exporter": "python",
   "pygments_lexer": "ipython3",
   "version": "3.9.7"
  }
 },
 "nbformat": 4,
 "nbformat_minor": 4
}
