{
  "cells": [
    {
      "cell_type": "markdown",
      "metadata": {
        "id": "FTA_FPkzwNKI"
      },
      "source": [
        "# 🚀 Day 4-1: 장바구니 속 숨은 패턴 찾기, 연관규칙 분석 (Association Rule Mining) 🛒\n",
        "\n",
        "\"이 상품을 구매한 고객은 이 상품도 함께 구매했어요\\!\"\n",
        "\n",
        "온라인 쇼핑몰이나 마트에서 흔히 볼 수 있는 문구죠? \n",
        "\n",
        "바로 이 추천의 배후에는 **연관규칙 분석(Association Rule Mining)** 이라는 강력한 데이터 분석 기법이 숨어있습니다.\n",
        "\n",
        "연관규칙 분석은 대규모 데이터 속에서 항목들 간의 '만약 A가 등장하면, B도 함께 등장할 것이다'($A \\rightarrow B$) 형태의 유용한 관계, 즉 **연관성** 을 찾아내는 비지도 학습 방법입니다. \n",
        "\n",
        "가장 대표적인 활용 사례가 바로 **장바구니 분석(Market Basket Analysis)** 입니다. \n",
        "\n",
        "고객들의 구매 기록(장바구니)을 분석하여 어떤 상품들이 함께 구매되는 경향이 있는지 파악하고, 이를 매장 진열, 상품 추천, 할인 프로모션 등 다양한 마케팅 전략에 활용할 수 있습니다.\n",
        "\n",
        "이번 시간에는 연관규칙 분석의 핵심 원리를 이해하고, Python 라이브러리 `mlxtend`를 활용하여 실제 데이터 속에서 의미 있는 패턴을 찾아내는 방법을 배워보겠습니다.\n",
        "\n",
        "**오늘의 핵심 포인트:**\n",
        "\n",
        "  * **지지도 (Support)**: 얼마나 자주 함께 등장하는가?\n",
        "  \n",
        "  * **신뢰도 (Confidence)**: A를 샀을 때, B를 살 확률은?\n",
        "  * **향상도 (Lift)**: 두 상품의 관계가 우연일까, 필연일까?\n",
        "\n",
        "-----"
      ]
    },
    {
      "cell_type": "markdown",
      "metadata": {},
      "source": [
        "<img src=\"images/asso_rule1.png\" width=\"800\">\n",
        "<img src=\"images/asso_rule2.png\" width=\"800\">"
      ]
    },
    {
      "cell_type": "markdown",
      "metadata": {},
      "source": [
        "\n",
        "### 1. 연관규칙의 핵심 3총사: 지지도, 신뢰도, 향상도\n",
        "\n",
        "연관규칙은 단순히 \"A와 B가 함께 나왔다\"에서 그치지 않고, 그 관계가 얼마나 의미 있는지 측정하는 '자', 즉 평가지표를 사용합니다. 가장 중요한 세 가지 지표인 지지도, 신뢰도, 향상도에 대해 알아봅시다.\n",
        "\n",
        "간단한 예시를 위해 5명의 고객 장바구니 데이터가 있다고 가정해 보겠습니다.\n",
        "\n",
        "| 고객 ID | 장바구니 |\n",
        "| :--- | :--- |\n",
        "| 1 | `[우유, 기저귀, 빵]` |\n",
        "| 2 | `[맥주, 기저귀, 과자]` |\n",
        "| 3 | `[우유, 콜라]` |\n",
        "| 4 | `[맥주, 기저귀]` |\n",
        "| 5 | `[우유, 빵, 콜라]` |"
      ]
    },
    {
      "cell_type": "markdown",
      "metadata": {},
      "source": [
        "\n",
        "#### 1.1 지지도 (Support)\n",
        "\n",
        "> **\"전체 거래 중에서 두 아이템이 동시에 포함된 거래의 비율은 얼마나 될까?\"**\n",
        "\n",
        "**지지도**는 전체 데이터에서 특정 아이템 집합(Itemset)이 얼마나 자주 발생하는지를 나타내는 지표입니다. \n",
        "\n",
        "전체 거래 횟수 중 특정 아이템 집합이 포함된 거래 횟수의 비율로 계산합니다.\n",
        "\n",
        "$Support(A \\rightarrow B) = P(A \\cap B) = \\frac{\\text{A와 B를 모두 포함하는 거래 수}}{\\text{전체 거래 수}}$\n",
        "\n",
        "  * **의미**: 지지도는 규칙이 전체 데이터에서 얼마나 **보편적으로** 나타나는지를 보여줍니다. 지지도가 너무 낮다면 그 규칙은 일부 거래에서만 우연히 발생한 것일 수 있으므로, 일반적으로 최소 지지도(minimum support)를 설정하여 의미 없는 규칙들을 걸러냅니다.\n",
        "\n",
        "  * **예시**: `{기저귀, 맥주}`의 지지도를 계산해 봅시다.\n",
        "\n",
        "      * 전체 거래 수: 5\n",
        "      * `기저귀`와 `맥주`를 모두 포함하는 거래: 고객 2, 4 (2건)\n",
        "      * $Support(\\text{{기저귀, 맥주}}) = \\frac{2}{5} = 0.4$"
      ]
    },
    {
      "cell_type": "markdown",
      "metadata": {},
      "source": [
        "\n",
        "#### 1.2 신뢰도 (Confidence)\n",
        "\n",
        "> **\"A 아이템을 구매한 고객이 B 아이템을 추가로 구매할 확률은 얼마나 될까?\"**\n",
        "\n",
        "**신뢰도**는 'A를 포함하는 거래 중에서 B도 함께 포함하는 거래'의 비율을 나타내는 조건부 확률입니다. \n",
        "\n",
        "즉, $A \\rightarrow B$ 라는 규칙이 얼마나 신뢰할 만한지를 측정합니다.\n",
        "\n",
        "$Confidence(A \\rightarrow B) = P(B | A) = \\frac{P(A \\cap B)}{P(A)} = \\frac{\\text{A와 B를 모두 포함하는 거래 수}}{\\text{A를 포함하는 거래 수}}$\n",
        "\n",
        "  * **의미**: 신뢰도는 A와 B의 **연관성 방향**을 알려줍니다. $Confidence(A \\rightarrow B)$와 $Confidence(B \\rightarrow A)$는 다른 값을 가질 수 있습니다.\n",
        "\n",
        "  * **주의점**: 신뢰도가 높다고 항상 좋은 규칙은 아닙니다. 만약 B 자체가 매우 인기 있는 상품이라면(즉, $P(B)$가 높다면), A와 상관없이 B가 구매될 확률이 원래 높기 때문에 신뢰도가 높게 나올 수 있습니다.\n",
        "\n",
        "  * **예시**: $`기저귀` \\rightarrow `맥주`$ 규칙의 신뢰도를 계산해 봅시다.\n",
        "\n",
        "      * `기저귀`를 포함하는 거래: 고객 1, 2, 4 (3건)\n",
        "      * `기저귀`와 `맥주`를 모두 포함하는 거래: 고객 2, 4 (2건)\n",
        "      * $Confidence(\\text{`기저귀`} \\rightarrow \\text{`맥주`}) = \\frac{2}{3} \\approx 0.67$\n",
        "\n",
        "#### 1.3 향상도 (Lift)\n",
        "\n",
        "> **\"A와 B가 우연히 함께 팔린 것일까, 아니면 정말로 연관성이 있는 것일까?\"**\n",
        "\n",
        "**향상도**는 A의 구매가 B의 구매 확률에 얼마나 영향을 미치는지를 측정하는 지표입니다. \n",
        "\n",
        "A와 B가 독립적일 때($P(A \\cap B) = P(A) \\times P(B)$)를 기준으로, 규칙의 신뢰도가 얼마나 더 높은지를 나타냅니다.\n",
        "\n",
        "$Lift( A \\rightarrow B ) = \\frac{P(B | A)}{P(B)} = \\frac{Confidence(A \\rightarrow B)}{Support(B)} = \\frac{Support(A \\cap B)}{Support(A) \\times Support(B)}$\n",
        "\n",
        "  * **해석**:\n",
        "\n",
        "      * **Lift \\> 1**: 양의 상관관계. A를 구매하면 B를 구매할 확률이 **증가**합니다. (우리가 찾고자 하는 의미 있는 규칙\\!)\n",
        "      * **Lift = 1**: 독립 관계. A의 구매가 B의 구매에 아무런 영향을 주지 않습니다. (우연)\n",
        "      * **Lift \\< 1**: 음의 상관관계. A를 구매하면 오히려 B를 구매할 확률이 **감소**합니다. (대체재 관계일 수 있음)\n",
        "\n",
        "  * **예시**: $`기저귀` \\rightarrow `맥주`$ 규칙의 향상도를 계산해 봅시다.\n",
        "\n",
        "      * $Confidence(\\text{`기저귀`} \\rightarrow \\text{`맥주`}) \\approx 0.67$\n",
        "      * `맥주`를 포함하는 거래: 고객 2, 4 (2건) $\\rightarrow Support(\\text{`맥주`}) = \\frac{2}{5} = 0.4$\n",
        "      * $Lift(\\text{`기저귀`} \\rightarrow \\text{`맥주`}) = \\frac{0.67}{0.4} \\approx 1.67$\n",
        "      * 향상도가 1보다 크므로, '기저귀를 사는 행위'와 '맥주를 사는 행위'는 우연 이상의 양의 관계가 있다고 해석할 수 있습니다.\n",
        "\n",
        "-----"
      ]
    },
    {
      "cell_type": "markdown",
      "metadata": {},
      "source": [
        "\n",
        "### 2. Python으로 연관규칙 분석하기: `mlxtend`\n",
        "\n",
        "이제 실제 코드로 연관규칙 분석을 수행해 봅시다. `mlxtend` 라이브러리는 연관규칙 분석을 위한 Apriori 알고리즘과 관련 기능들을 매우 편리하게 제공합니다.\n",
        "\n",
        "먼저 필요한 라이브러리를 설치합니다.\n"
      ]
    },
    {
      "cell_type": "code",
      "execution_count": null,
      "metadata": {},
      "outputs": [],
      "source": [
        "!pip install mlxtend"
      ]
    },
    {
      "cell_type": "markdown",
      "metadata": {},
      "source": [
        "\n",
        "#### 2.1 데이터 준비 및 전처리 (Transaction Encoding)\n",
        "\n",
        "연관규칙 분석을 하려면 데이터가 특별한 형태로 준비되어야 합니다. 각 행은 하나의 거래(Transaction)를, 각 열은 하나의 상품(Item)을 나타내며, 해당 거래에 상품이 포함되었는지 여부를 `True/False` 또는 `1/0`으로 표시하는 **One-Hot Encoded** 형태여야 합니다.\n",
        "\n",
        "`mlxtend.preprocessing`의 `TransactionEncoder`를 사용하면 파이썬 리스트 형태의 데이터를 손쉽게 변환할 수 있습니다.\n",
        "\n",
        "**[코드] 데이터셋 생성 및 변환**"
      ]
    },
    {
      "cell_type": "markdown",
      "metadata": {},
      "source": [
        "라이브러리 및 데이터셋 로드"
      ]
    },
    {
      "cell_type": "code",
      "execution_count": 2,
      "metadata": {
        "id": "BGj2Ntf8wNKK"
      },
      "outputs": [],
      "source": [
        "import pandas as pd\n",
        "from mlxtend.preprocessing import TransactionEncoder"
      ]
    },
    {
      "cell_type": "code",
      "execution_count": 3,
      "metadata": {},
      "outputs": [
        {
          "data": {
            "text/html": [
              "<div>\n",
              "<style scoped>\n",
              "    .dataframe tbody tr th:only-of-type {\n",
              "        vertical-align: middle;\n",
              "    }\n",
              "\n",
              "    .dataframe tbody tr th {\n",
              "        vertical-align: top;\n",
              "    }\n",
              "\n",
              "    .dataframe thead th {\n",
              "        text-align: right;\n",
              "    }\n",
              "</style>\n",
              "<table border=\"1\" class=\"dataframe\">\n",
              "  <thead>\n",
              "    <tr style=\"text-align: right;\">\n",
              "      <th></th>\n",
              "      <th>Member_number</th>\n",
              "      <th>Date</th>\n",
              "      <th>itemDescription</th>\n",
              "    </tr>\n",
              "  </thead>\n",
              "  <tbody>\n",
              "    <tr>\n",
              "      <th>0</th>\n",
              "      <td>1808</td>\n",
              "      <td>21-07-2015</td>\n",
              "      <td>tropical fruit</td>\n",
              "    </tr>\n",
              "    <tr>\n",
              "      <th>1</th>\n",
              "      <td>2552</td>\n",
              "      <td>05-01-2015</td>\n",
              "      <td>whole milk</td>\n",
              "    </tr>\n",
              "    <tr>\n",
              "      <th>2</th>\n",
              "      <td>2300</td>\n",
              "      <td>19-09-2015</td>\n",
              "      <td>pip fruit</td>\n",
              "    </tr>\n",
              "    <tr>\n",
              "      <th>3</th>\n",
              "      <td>1187</td>\n",
              "      <td>12-12-2015</td>\n",
              "      <td>other vegetables</td>\n",
              "    </tr>\n",
              "    <tr>\n",
              "      <th>4</th>\n",
              "      <td>3037</td>\n",
              "      <td>01-02-2015</td>\n",
              "      <td>whole milk</td>\n",
              "    </tr>\n",
              "  </tbody>\n",
              "</table>\n",
              "</div>"
            ],
            "text/plain": [
              "   Member_number        Date   itemDescription\n",
              "0           1808  21-07-2015    tropical fruit\n",
              "1           2552  05-01-2015        whole milk\n",
              "2           2300  19-09-2015         pip fruit\n",
              "3           1187  12-12-2015  other vegetables\n",
              "4           3037  01-02-2015        whole milk"
            ]
          },
          "execution_count": 3,
          "metadata": {},
          "output_type": "execute_result"
        }
      ],
      "source": [
        "path = \"../datasets/ml/groceries/groceries_dataset.csv\"\n",
        "raw_df = pd.read_csv(path)\n",
        "raw_df.head()"
      ]
    },
    {
      "cell_type": "code",
      "execution_count": 4,
      "metadata": {},
      "outputs": [
        {
          "data": {
            "text/plain": [
              "(38765, 3)"
            ]
          },
          "execution_count": 4,
          "metadata": {},
          "output_type": "execute_result"
        }
      ],
      "source": [
        "raw_df.shape"
      ]
    },
    {
      "cell_type": "markdown",
      "metadata": {},
      "source": [
        "데이터 전처리"
      ]
    },
    {
      "cell_type": "code",
      "execution_count": 5,
      "metadata": {},
      "outputs": [],
      "source": [
        "from dateutil import parser\n",
        "raw_df.Member_number = raw_df.Member_number.astype(str)\n",
        "raw_df.Date = raw_df.Date.apply(parser.parse)"
      ]
    },
    {
      "cell_type": "markdown",
      "metadata": {},
      "source": [
        "EDA / 시각화"
      ]
    },
    {
      "cell_type": "code",
      "execution_count": 6,
      "metadata": {},
      "outputs": [
        {
          "data": {
            "text/html": [
              "<div>\n",
              "<style scoped>\n",
              "    .dataframe tbody tr th:only-of-type {\n",
              "        vertical-align: middle;\n",
              "    }\n",
              "\n",
              "    .dataframe tbody tr th {\n",
              "        vertical-align: top;\n",
              "    }\n",
              "\n",
              "    .dataframe thead th {\n",
              "        text-align: right;\n",
              "    }\n",
              "</style>\n",
              "<table border=\"1\" class=\"dataframe\">\n",
              "  <thead>\n",
              "    <tr style=\"text-align: right;\">\n",
              "      <th></th>\n",
              "      <th>customer_id</th>\n",
              "      <th>start</th>\n",
              "      <th>end</th>\n",
              "      <th>period</th>\n",
              "    </tr>\n",
              "  </thead>\n",
              "  <tbody>\n",
              "    <tr>\n",
              "      <th>2570</th>\n",
              "      <td>3641</td>\n",
              "      <td>2014-01-02</td>\n",
              "      <td>2015-12-27</td>\n",
              "      <td>725</td>\n",
              "    </tr>\n",
              "    <tr>\n",
              "      <th>159</th>\n",
              "      <td>1165</td>\n",
              "      <td>2014-01-04</td>\n",
              "      <td>2015-12-29</td>\n",
              "      <td>725</td>\n",
              "    </tr>\n",
              "    <tr>\n",
              "      <th>1918</th>\n",
              "      <td>2974</td>\n",
              "      <td>2014-01-01</td>\n",
              "      <td>2015-12-26</td>\n",
              "      <td>725</td>\n",
              "    </tr>\n",
              "    <tr>\n",
              "      <th>3274</th>\n",
              "      <td>4364</td>\n",
              "      <td>2014-01-02</td>\n",
              "      <td>2015-12-24</td>\n",
              "      <td>722</td>\n",
              "    </tr>\n",
              "    <tr>\n",
              "      <th>2073</th>\n",
              "      <td>3133</td>\n",
              "      <td>2014-01-04</td>\n",
              "      <td>2015-12-25</td>\n",
              "      <td>721</td>\n",
              "    </tr>\n",
              "  </tbody>\n",
              "</table>\n",
              "</div>"
            ],
            "text/plain": [
              "     customer_id      start        end  period\n",
              "2570        3641 2014-01-02 2015-12-27     725\n",
              "159         1165 2014-01-04 2015-12-29     725\n",
              "1918        2974 2014-01-01 2015-12-26     725\n",
              "3274        4364 2014-01-02 2015-12-24     722\n",
              "2073        3133 2014-01-04 2015-12-25     721"
            ]
          },
          "execution_count": 6,
          "metadata": {},
          "output_type": "execute_result"
        }
      ],
      "source": [
        "gantt_df = raw_df.groupby(['Member_number']).agg(\n",
        "    customer_id=('Member_number', 'first'),\n",
        "    start=('Date', 'min'),\n",
        "    end=('Date', 'max'),\n",
        "    period=('Date', lambda x: (x.max() - x.min()).days + 1)\n",
        ").reset_index(drop=True).sort_values(by='period', ascending=False)\n",
        "gantt_df.head()"
      ]
    },
    {
      "cell_type": "code",
      "execution_count": 7,
      "metadata": {},
      "outputs": [
        {
          "data": {
            "application/vnd.plotly.v1+json": {
              "config": {
                "plotlyServerURL": "https://plot.ly"
              },
              "data": [
                {
                  "base": [
                    "2014-01-02T00:00:00.000000000",
                    "2014-01-04T00:00:00.000000000",
                    "2014-01-01T00:00:00.000000000",
                    "2014-01-02T00:00:00.000000000",
                    "2014-01-04T00:00:00.000000000",
                    "2014-01-07T00:00:00.000000000",
                    "2014-01-04T00:00:00.000000000",
                    "2014-01-08T00:00:00.000000000",
                    "2014-01-06T00:00:00.000000000",
                    "2014-01-07T00:00:00.000000000",
                    "2014-01-01T00:00:00.000000000",
                    "2014-01-07T00:00:00.000000000",
                    "2014-01-02T00:00:00.000000000",
                    "2014-01-10T00:00:00.000000000",
                    "2014-01-14T00:00:00.000000000",
                    "2014-01-07T00:00:00.000000000",
                    "2014-01-10T00:00:00.000000000",
                    "2014-01-08T00:00:00.000000000",
                    "2014-01-17T00:00:00.000000000",
                    "2014-01-05T00:00:00.000000000",
                    "2014-01-03T00:00:00.000000000",
                    "2014-01-12T00:00:00.000000000",
                    "2014-01-21T00:00:00.000000000",
                    "2014-01-09T00:00:00.000000000",
                    "2014-01-05T00:00:00.000000000",
                    "2014-01-09T00:00:00.000000000",
                    "2014-01-24T00:00:00.000000000",
                    "2014-01-20T00:00:00.000000000",
                    "2014-01-04T00:00:00.000000000",
                    "2014-01-04T00:00:00.000000000",
                    "2014-01-13T00:00:00.000000000",
                    "2014-01-24T00:00:00.000000000",
                    "2014-01-12T00:00:00.000000000",
                    "2014-01-29T00:00:00.000000000",
                    "2014-01-17T00:00:00.000000000",
                    "2014-01-06T00:00:00.000000000",
                    "2014-01-16T00:00:00.000000000",
                    "2014-01-17T00:00:00.000000000",
                    "2014-01-01T00:00:00.000000000",
                    "2014-01-16T00:00:00.000000000",
                    "2014-01-23T00:00:00.000000000",
                    "2014-01-13T00:00:00.000000000",
                    "2014-01-09T00:00:00.000000000",
                    "2014-01-27T00:00:00.000000000",
                    "2014-01-03T00:00:00.000000000",
                    "2014-01-13T00:00:00.000000000",
                    "2014-01-09T00:00:00.000000000",
                    "2014-01-27T00:00:00.000000000",
                    "2014-01-18T00:00:00.000000000",
                    "2014-01-05T00:00:00.000000000"
                  ],
                  "hovertemplate": "start=%{base}<br>end=%{x}<br>customer_id=%{y}<extra></extra>",
                  "legendgroup": "",
                  "marker": {
                    "color": "#636efa",
                    "pattern": {
                      "shape": ""
                    }
                  },
                  "name": "",
                  "orientation": "h",
                  "showlegend": false,
                  "textposition": "auto",
                  "type": "bar",
                  "x": [
                    62553600000,
                    62553600000,
                    62553600000,
                    62294400000,
                    62208000000,
                    62208000000,
                    62121600000,
                    61948800000,
                    61862400000,
                    61776000000,
                    61603200000,
                    61603200000,
                    61516800000,
                    61430400000,
                    61430400000,
                    61344000000,
                    61344000000,
                    61171200000,
                    61084800000,
                    60998400000,
                    60998400000,
                    60912000000,
                    60912000000,
                    60825600000,
                    60825600000,
                    60825600000,
                    60825600000,
                    60652800000,
                    60652800000,
                    60566400000,
                    60566400000,
                    60566400000,
                    60480000000,
                    60480000000,
                    60393600000,
                    60393600000,
                    60307200000,
                    60307200000,
                    60307200000,
                    60220800000,
                    60134400000,
                    60134400000,
                    60134400000,
                    60134400000,
                    60134400000,
                    60134400000,
                    60048000000,
                    60048000000,
                    59961600000,
                    59961600000
                  ],
                  "xaxis": "x",
                  "y": [
                    "3641",
                    "1165",
                    "2974",
                    "4364",
                    "3133",
                    "4306",
                    "4745",
                    "2834",
                    "3111",
                    "2035",
                    "2727",
                    "4251",
                    "1248",
                    "3687",
                    "2463",
                    "3232",
                    "2453",
                    "3694",
                    "4303",
                    "3864",
                    "4335",
                    "3031",
                    "2779",
                    "2666",
                    "4879",
                    "3475",
                    "3369",
                    "2011",
                    "2760",
                    "3765",
                    "1961",
                    "3289",
                    "2239",
                    "1527",
                    "3595",
                    "2093",
                    "2332",
                    "1360",
                    "1659",
                    "3566",
                    "3900",
                    "3789",
                    "4104",
                    "3899",
                    "3227",
                    "1051",
                    "4559",
                    "3486",
                    "2413",
                    "4574"
                  ],
                  "yaxis": "y"
                }
              ],
              "layout": {
                "barmode": "overlay",
                "height": 400,
                "legend": {
                  "tracegroupgap": 0
                },
                "margin": {
                  "t": 60
                },
                "template": {
                  "data": {
                    "bar": [
                      {
                        "error_x": {
                          "color": "#2a3f5f"
                        },
                        "error_y": {
                          "color": "#2a3f5f"
                        },
                        "marker": {
                          "line": {
                            "color": "#E5ECF6",
                            "width": 0.5
                          },
                          "pattern": {
                            "fillmode": "overlay",
                            "size": 10,
                            "solidity": 0.2
                          }
                        },
                        "type": "bar"
                      }
                    ],
                    "barpolar": [
                      {
                        "marker": {
                          "line": {
                            "color": "#E5ECF6",
                            "width": 0.5
                          },
                          "pattern": {
                            "fillmode": "overlay",
                            "size": 10,
                            "solidity": 0.2
                          }
                        },
                        "type": "barpolar"
                      }
                    ],
                    "carpet": [
                      {
                        "aaxis": {
                          "endlinecolor": "#2a3f5f",
                          "gridcolor": "white",
                          "linecolor": "white",
                          "minorgridcolor": "white",
                          "startlinecolor": "#2a3f5f"
                        },
                        "baxis": {
                          "endlinecolor": "#2a3f5f",
                          "gridcolor": "white",
                          "linecolor": "white",
                          "minorgridcolor": "white",
                          "startlinecolor": "#2a3f5f"
                        },
                        "type": "carpet"
                      }
                    ],
                    "choropleth": [
                      {
                        "colorbar": {
                          "outlinewidth": 0,
                          "ticks": ""
                        },
                        "type": "choropleth"
                      }
                    ],
                    "contour": [
                      {
                        "colorbar": {
                          "outlinewidth": 0,
                          "ticks": ""
                        },
                        "colorscale": [
                          [
                            0,
                            "#0d0887"
                          ],
                          [
                            0.1111111111111111,
                            "#46039f"
                          ],
                          [
                            0.2222222222222222,
                            "#7201a8"
                          ],
                          [
                            0.3333333333333333,
                            "#9c179e"
                          ],
                          [
                            0.4444444444444444,
                            "#bd3786"
                          ],
                          [
                            0.5555555555555556,
                            "#d8576b"
                          ],
                          [
                            0.6666666666666666,
                            "#ed7953"
                          ],
                          [
                            0.7777777777777778,
                            "#fb9f3a"
                          ],
                          [
                            0.8888888888888888,
                            "#fdca26"
                          ],
                          [
                            1,
                            "#f0f921"
                          ]
                        ],
                        "type": "contour"
                      }
                    ],
                    "contourcarpet": [
                      {
                        "colorbar": {
                          "outlinewidth": 0,
                          "ticks": ""
                        },
                        "type": "contourcarpet"
                      }
                    ],
                    "heatmap": [
                      {
                        "colorbar": {
                          "outlinewidth": 0,
                          "ticks": ""
                        },
                        "colorscale": [
                          [
                            0,
                            "#0d0887"
                          ],
                          [
                            0.1111111111111111,
                            "#46039f"
                          ],
                          [
                            0.2222222222222222,
                            "#7201a8"
                          ],
                          [
                            0.3333333333333333,
                            "#9c179e"
                          ],
                          [
                            0.4444444444444444,
                            "#bd3786"
                          ],
                          [
                            0.5555555555555556,
                            "#d8576b"
                          ],
                          [
                            0.6666666666666666,
                            "#ed7953"
                          ],
                          [
                            0.7777777777777778,
                            "#fb9f3a"
                          ],
                          [
                            0.8888888888888888,
                            "#fdca26"
                          ],
                          [
                            1,
                            "#f0f921"
                          ]
                        ],
                        "type": "heatmap"
                      }
                    ],
                    "histogram": [
                      {
                        "marker": {
                          "pattern": {
                            "fillmode": "overlay",
                            "size": 10,
                            "solidity": 0.2
                          }
                        },
                        "type": "histogram"
                      }
                    ],
                    "histogram2d": [
                      {
                        "colorbar": {
                          "outlinewidth": 0,
                          "ticks": ""
                        },
                        "colorscale": [
                          [
                            0,
                            "#0d0887"
                          ],
                          [
                            0.1111111111111111,
                            "#46039f"
                          ],
                          [
                            0.2222222222222222,
                            "#7201a8"
                          ],
                          [
                            0.3333333333333333,
                            "#9c179e"
                          ],
                          [
                            0.4444444444444444,
                            "#bd3786"
                          ],
                          [
                            0.5555555555555556,
                            "#d8576b"
                          ],
                          [
                            0.6666666666666666,
                            "#ed7953"
                          ],
                          [
                            0.7777777777777778,
                            "#fb9f3a"
                          ],
                          [
                            0.8888888888888888,
                            "#fdca26"
                          ],
                          [
                            1,
                            "#f0f921"
                          ]
                        ],
                        "type": "histogram2d"
                      }
                    ],
                    "histogram2dcontour": [
                      {
                        "colorbar": {
                          "outlinewidth": 0,
                          "ticks": ""
                        },
                        "colorscale": [
                          [
                            0,
                            "#0d0887"
                          ],
                          [
                            0.1111111111111111,
                            "#46039f"
                          ],
                          [
                            0.2222222222222222,
                            "#7201a8"
                          ],
                          [
                            0.3333333333333333,
                            "#9c179e"
                          ],
                          [
                            0.4444444444444444,
                            "#bd3786"
                          ],
                          [
                            0.5555555555555556,
                            "#d8576b"
                          ],
                          [
                            0.6666666666666666,
                            "#ed7953"
                          ],
                          [
                            0.7777777777777778,
                            "#fb9f3a"
                          ],
                          [
                            0.8888888888888888,
                            "#fdca26"
                          ],
                          [
                            1,
                            "#f0f921"
                          ]
                        ],
                        "type": "histogram2dcontour"
                      }
                    ],
                    "mesh3d": [
                      {
                        "colorbar": {
                          "outlinewidth": 0,
                          "ticks": ""
                        },
                        "type": "mesh3d"
                      }
                    ],
                    "parcoords": [
                      {
                        "line": {
                          "colorbar": {
                            "outlinewidth": 0,
                            "ticks": ""
                          }
                        },
                        "type": "parcoords"
                      }
                    ],
                    "pie": [
                      {
                        "automargin": true,
                        "type": "pie"
                      }
                    ],
                    "scatter": [
                      {
                        "fillpattern": {
                          "fillmode": "overlay",
                          "size": 10,
                          "solidity": 0.2
                        },
                        "type": "scatter"
                      }
                    ],
                    "scatter3d": [
                      {
                        "line": {
                          "colorbar": {
                            "outlinewidth": 0,
                            "ticks": ""
                          }
                        },
                        "marker": {
                          "colorbar": {
                            "outlinewidth": 0,
                            "ticks": ""
                          }
                        },
                        "type": "scatter3d"
                      }
                    ],
                    "scattercarpet": [
                      {
                        "marker": {
                          "colorbar": {
                            "outlinewidth": 0,
                            "ticks": ""
                          }
                        },
                        "type": "scattercarpet"
                      }
                    ],
                    "scattergeo": [
                      {
                        "marker": {
                          "colorbar": {
                            "outlinewidth": 0,
                            "ticks": ""
                          }
                        },
                        "type": "scattergeo"
                      }
                    ],
                    "scattergl": [
                      {
                        "marker": {
                          "colorbar": {
                            "outlinewidth": 0,
                            "ticks": ""
                          }
                        },
                        "type": "scattergl"
                      }
                    ],
                    "scattermap": [
                      {
                        "marker": {
                          "colorbar": {
                            "outlinewidth": 0,
                            "ticks": ""
                          }
                        },
                        "type": "scattermap"
                      }
                    ],
                    "scattermapbox": [
                      {
                        "marker": {
                          "colorbar": {
                            "outlinewidth": 0,
                            "ticks": ""
                          }
                        },
                        "type": "scattermapbox"
                      }
                    ],
                    "scatterpolar": [
                      {
                        "marker": {
                          "colorbar": {
                            "outlinewidth": 0,
                            "ticks": ""
                          }
                        },
                        "type": "scatterpolar"
                      }
                    ],
                    "scatterpolargl": [
                      {
                        "marker": {
                          "colorbar": {
                            "outlinewidth": 0,
                            "ticks": ""
                          }
                        },
                        "type": "scatterpolargl"
                      }
                    ],
                    "scatterternary": [
                      {
                        "marker": {
                          "colorbar": {
                            "outlinewidth": 0,
                            "ticks": ""
                          }
                        },
                        "type": "scatterternary"
                      }
                    ],
                    "surface": [
                      {
                        "colorbar": {
                          "outlinewidth": 0,
                          "ticks": ""
                        },
                        "colorscale": [
                          [
                            0,
                            "#0d0887"
                          ],
                          [
                            0.1111111111111111,
                            "#46039f"
                          ],
                          [
                            0.2222222222222222,
                            "#7201a8"
                          ],
                          [
                            0.3333333333333333,
                            "#9c179e"
                          ],
                          [
                            0.4444444444444444,
                            "#bd3786"
                          ],
                          [
                            0.5555555555555556,
                            "#d8576b"
                          ],
                          [
                            0.6666666666666666,
                            "#ed7953"
                          ],
                          [
                            0.7777777777777778,
                            "#fb9f3a"
                          ],
                          [
                            0.8888888888888888,
                            "#fdca26"
                          ],
                          [
                            1,
                            "#f0f921"
                          ]
                        ],
                        "type": "surface"
                      }
                    ],
                    "table": [
                      {
                        "cells": {
                          "fill": {
                            "color": "#EBF0F8"
                          },
                          "line": {
                            "color": "white"
                          }
                        },
                        "header": {
                          "fill": {
                            "color": "#C8D4E3"
                          },
                          "line": {
                            "color": "white"
                          }
                        },
                        "type": "table"
                      }
                    ]
                  },
                  "layout": {
                    "annotationdefaults": {
                      "arrowcolor": "#2a3f5f",
                      "arrowhead": 0,
                      "arrowwidth": 1
                    },
                    "autotypenumbers": "strict",
                    "coloraxis": {
                      "colorbar": {
                        "outlinewidth": 0,
                        "ticks": ""
                      }
                    },
                    "colorscale": {
                      "diverging": [
                        [
                          0,
                          "#8e0152"
                        ],
                        [
                          0.1,
                          "#c51b7d"
                        ],
                        [
                          0.2,
                          "#de77ae"
                        ],
                        [
                          0.3,
                          "#f1b6da"
                        ],
                        [
                          0.4,
                          "#fde0ef"
                        ],
                        [
                          0.5,
                          "#f7f7f7"
                        ],
                        [
                          0.6,
                          "#e6f5d0"
                        ],
                        [
                          0.7,
                          "#b8e186"
                        ],
                        [
                          0.8,
                          "#7fbc41"
                        ],
                        [
                          0.9,
                          "#4d9221"
                        ],
                        [
                          1,
                          "#276419"
                        ]
                      ],
                      "sequential": [
                        [
                          0,
                          "#0d0887"
                        ],
                        [
                          0.1111111111111111,
                          "#46039f"
                        ],
                        [
                          0.2222222222222222,
                          "#7201a8"
                        ],
                        [
                          0.3333333333333333,
                          "#9c179e"
                        ],
                        [
                          0.4444444444444444,
                          "#bd3786"
                        ],
                        [
                          0.5555555555555556,
                          "#d8576b"
                        ],
                        [
                          0.6666666666666666,
                          "#ed7953"
                        ],
                        [
                          0.7777777777777778,
                          "#fb9f3a"
                        ],
                        [
                          0.8888888888888888,
                          "#fdca26"
                        ],
                        [
                          1,
                          "#f0f921"
                        ]
                      ],
                      "sequentialminus": [
                        [
                          0,
                          "#0d0887"
                        ],
                        [
                          0.1111111111111111,
                          "#46039f"
                        ],
                        [
                          0.2222222222222222,
                          "#7201a8"
                        ],
                        [
                          0.3333333333333333,
                          "#9c179e"
                        ],
                        [
                          0.4444444444444444,
                          "#bd3786"
                        ],
                        [
                          0.5555555555555556,
                          "#d8576b"
                        ],
                        [
                          0.6666666666666666,
                          "#ed7953"
                        ],
                        [
                          0.7777777777777778,
                          "#fb9f3a"
                        ],
                        [
                          0.8888888888888888,
                          "#fdca26"
                        ],
                        [
                          1,
                          "#f0f921"
                        ]
                      ]
                    },
                    "colorway": [
                      "#636efa",
                      "#EF553B",
                      "#00cc96",
                      "#ab63fa",
                      "#FFA15A",
                      "#19d3f3",
                      "#FF6692",
                      "#B6E880",
                      "#FF97FF",
                      "#FECB52"
                    ],
                    "font": {
                      "color": "#2a3f5f"
                    },
                    "geo": {
                      "bgcolor": "white",
                      "lakecolor": "white",
                      "landcolor": "#E5ECF6",
                      "showlakes": true,
                      "showland": true,
                      "subunitcolor": "white"
                    },
                    "hoverlabel": {
                      "align": "left"
                    },
                    "hovermode": "closest",
                    "mapbox": {
                      "style": "light"
                    },
                    "paper_bgcolor": "white",
                    "plot_bgcolor": "#E5ECF6",
                    "polar": {
                      "angularaxis": {
                        "gridcolor": "white",
                        "linecolor": "white",
                        "ticks": ""
                      },
                      "bgcolor": "#E5ECF6",
                      "radialaxis": {
                        "gridcolor": "white",
                        "linecolor": "white",
                        "ticks": ""
                      }
                    },
                    "scene": {
                      "xaxis": {
                        "backgroundcolor": "#E5ECF6",
                        "gridcolor": "white",
                        "gridwidth": 2,
                        "linecolor": "white",
                        "showbackground": true,
                        "ticks": "",
                        "zerolinecolor": "white"
                      },
                      "yaxis": {
                        "backgroundcolor": "#E5ECF6",
                        "gridcolor": "white",
                        "gridwidth": 2,
                        "linecolor": "white",
                        "showbackground": true,
                        "ticks": "",
                        "zerolinecolor": "white"
                      },
                      "zaxis": {
                        "backgroundcolor": "#E5ECF6",
                        "gridcolor": "white",
                        "gridwidth": 2,
                        "linecolor": "white",
                        "showbackground": true,
                        "ticks": "",
                        "zerolinecolor": "white"
                      }
                    },
                    "shapedefaults": {
                      "line": {
                        "color": "#2a3f5f"
                      }
                    },
                    "ternary": {
                      "aaxis": {
                        "gridcolor": "white",
                        "linecolor": "white",
                        "ticks": ""
                      },
                      "baxis": {
                        "gridcolor": "white",
                        "linecolor": "white",
                        "ticks": ""
                      },
                      "bgcolor": "#E5ECF6",
                      "caxis": {
                        "gridcolor": "white",
                        "linecolor": "white",
                        "ticks": ""
                      }
                    },
                    "title": {
                      "x": 0.05
                    },
                    "xaxis": {
                      "automargin": true,
                      "gridcolor": "white",
                      "linecolor": "white",
                      "ticks": "",
                      "title": {
                        "standoff": 15
                      },
                      "zerolinecolor": "white",
                      "zerolinewidth": 2
                    },
                    "yaxis": {
                      "automargin": true,
                      "gridcolor": "white",
                      "linecolor": "white",
                      "ticks": "",
                      "title": {
                        "standoff": 15
                      },
                      "zerolinecolor": "white",
                      "zerolinewidth": 2
                    }
                  }
                },
                "xaxis": {
                  "anchor": "y",
                  "domain": [
                    0,
                    1
                  ],
                  "type": "date"
                },
                "yaxis": {
                  "anchor": "x",
                  "categoryorder": "total ascending",
                  "domain": [
                    0,
                    1
                  ],
                  "title": {
                    "text": "customer_id"
                  }
                }
              }
            }
          },
          "metadata": {},
          "output_type": "display_data"
        },
        {
          "data": {
            "application/vnd.plotly.v1+json": {
              "config": {
                "plotlyServerURL": "https://plot.ly"
              },
              "data": [
                {
                  "base": [
                    "2014-01-29T00:00:00.000000000",
                    "2014-02-17T00:00:00.000000000",
                    "2014-03-11T00:00:00.000000000",
                    "2014-05-07T00:00:00.000000000",
                    "2014-04-06T00:00:00.000000000",
                    "2014-01-17T00:00:00.000000000",
                    "2014-02-14T00:00:00.000000000",
                    "2014-02-04T00:00:00.000000000",
                    "2014-05-15T00:00:00.000000000",
                    "2014-01-19T00:00:00.000000000",
                    "2014-05-11T00:00:00.000000000",
                    "2014-02-06T00:00:00.000000000",
                    "2014-01-04T00:00:00.000000000",
                    "2014-02-12T00:00:00.000000000",
                    "2014-03-27T00:00:00.000000000",
                    "2014-04-14T00:00:00.000000000",
                    "2014-02-17T00:00:00.000000000",
                    "2014-02-13T00:00:00.000000000",
                    "2014-01-30T00:00:00.000000000",
                    "2014-05-03T00:00:00.000000000",
                    "2014-04-02T00:00:00.000000000",
                    "2014-02-14T00:00:00.000000000",
                    "2014-02-13T00:00:00.000000000",
                    "2014-04-20T00:00:00.000000000",
                    "2014-03-22T00:00:00.000000000",
                    "2014-04-30T00:00:00.000000000",
                    "2014-04-07T00:00:00.000000000",
                    "2014-04-05T00:00:00.000000000",
                    "2014-03-12T00:00:00.000000000",
                    "2014-03-08T00:00:00.000000000",
                    "2014-04-03T00:00:00.000000000",
                    "2014-03-16T00:00:00.000000000",
                    "2014-05-08T00:00:00.000000000",
                    "2014-01-08T00:00:00.000000000",
                    "2014-05-13T00:00:00.000000000",
                    "2014-01-13T00:00:00.000000000",
                    "2014-05-10T00:00:00.000000000",
                    "2014-02-08T00:00:00.000000000",
                    "2014-04-25T00:00:00.000000000",
                    "2014-03-23T00:00:00.000000000",
                    "2014-03-12T00:00:00.000000000",
                    "2014-04-08T00:00:00.000000000",
                    "2014-02-21T00:00:00.000000000",
                    "2014-03-29T00:00:00.000000000",
                    "2014-02-05T00:00:00.000000000",
                    "2014-04-16T00:00:00.000000000",
                    "2014-01-30T00:00:00.000000000",
                    "2014-01-07T00:00:00.000000000",
                    "2014-03-03T00:00:00.000000000",
                    "2014-01-14T00:00:00.000000000"
                  ],
                  "hovertemplate": "start=%{base}<br>end=%{x}<br>customer_id=%{y}<extra></extra>",
                  "legendgroup": "",
                  "marker": {
                    "color": "#636efa",
                    "pattern": {
                      "shape": ""
                    }
                  },
                  "name": "",
                  "orientation": "h",
                  "showlegend": false,
                  "textposition": "auto",
                  "type": "bar",
                  "x": [
                    51408000000,
                    51408000000,
                    51408000000,
                    51408000000,
                    51408000000,
                    51408000000,
                    51408000000,
                    51408000000,
                    51321600000,
                    51321600000,
                    51321600000,
                    51321600000,
                    51321600000,
                    51321600000,
                    51321600000,
                    51235200000,
                    51235200000,
                    51235200000,
                    51235200000,
                    51235200000,
                    51235200000,
                    51235200000,
                    51235200000,
                    51235200000,
                    51235200000,
                    51235200000,
                    51235200000,
                    51148800000,
                    51148800000,
                    51148800000,
                    51148800000,
                    51148800000,
                    51148800000,
                    51148800000,
                    51148800000,
                    51148800000,
                    51148800000,
                    51148800000,
                    51148800000,
                    51148800000,
                    51148800000,
                    51148800000,
                    51062400000,
                    51062400000,
                    51062400000,
                    50976000000,
                    50976000000,
                    50976000000,
                    50976000000,
                    50976000000
                  ],
                  "xaxis": "x",
                  "y": [
                    "1941",
                    "3920",
                    "1967",
                    "4894",
                    "4502",
                    "3054",
                    "4387",
                    "4129",
                    "2507",
                    "3293",
                    "3251",
                    "1811",
                    "2428",
                    "1302",
                    "1921",
                    "2403",
                    "1903",
                    "1494",
                    "3815",
                    "1475",
                    "1450",
                    "3164",
                    "3982",
                    "3441",
                    "2934",
                    "1163",
                    "3484",
                    "1282",
                    "2363",
                    "2524",
                    "2525",
                    "4493",
                    "1461",
                    "3911",
                    "2736",
                    "4002",
                    "4007",
                    "3413",
                    "4160",
                    "3811",
                    "1510",
                    "4220",
                    "3343",
                    "1676",
                    "2608",
                    "1823",
                    "4242",
                    "3762",
                    "3842",
                    "3246"
                  ],
                  "yaxis": "y"
                }
              ],
              "layout": {
                "barmode": "overlay",
                "height": 400,
                "legend": {
                  "tracegroupgap": 0
                },
                "margin": {
                  "t": 60
                },
                "template": {
                  "data": {
                    "bar": [
                      {
                        "error_x": {
                          "color": "#2a3f5f"
                        },
                        "error_y": {
                          "color": "#2a3f5f"
                        },
                        "marker": {
                          "line": {
                            "color": "#E5ECF6",
                            "width": 0.5
                          },
                          "pattern": {
                            "fillmode": "overlay",
                            "size": 10,
                            "solidity": 0.2
                          }
                        },
                        "type": "bar"
                      }
                    ],
                    "barpolar": [
                      {
                        "marker": {
                          "line": {
                            "color": "#E5ECF6",
                            "width": 0.5
                          },
                          "pattern": {
                            "fillmode": "overlay",
                            "size": 10,
                            "solidity": 0.2
                          }
                        },
                        "type": "barpolar"
                      }
                    ],
                    "carpet": [
                      {
                        "aaxis": {
                          "endlinecolor": "#2a3f5f",
                          "gridcolor": "white",
                          "linecolor": "white",
                          "minorgridcolor": "white",
                          "startlinecolor": "#2a3f5f"
                        },
                        "baxis": {
                          "endlinecolor": "#2a3f5f",
                          "gridcolor": "white",
                          "linecolor": "white",
                          "minorgridcolor": "white",
                          "startlinecolor": "#2a3f5f"
                        },
                        "type": "carpet"
                      }
                    ],
                    "choropleth": [
                      {
                        "colorbar": {
                          "outlinewidth": 0,
                          "ticks": ""
                        },
                        "type": "choropleth"
                      }
                    ],
                    "contour": [
                      {
                        "colorbar": {
                          "outlinewidth": 0,
                          "ticks": ""
                        },
                        "colorscale": [
                          [
                            0,
                            "#0d0887"
                          ],
                          [
                            0.1111111111111111,
                            "#46039f"
                          ],
                          [
                            0.2222222222222222,
                            "#7201a8"
                          ],
                          [
                            0.3333333333333333,
                            "#9c179e"
                          ],
                          [
                            0.4444444444444444,
                            "#bd3786"
                          ],
                          [
                            0.5555555555555556,
                            "#d8576b"
                          ],
                          [
                            0.6666666666666666,
                            "#ed7953"
                          ],
                          [
                            0.7777777777777778,
                            "#fb9f3a"
                          ],
                          [
                            0.8888888888888888,
                            "#fdca26"
                          ],
                          [
                            1,
                            "#f0f921"
                          ]
                        ],
                        "type": "contour"
                      }
                    ],
                    "contourcarpet": [
                      {
                        "colorbar": {
                          "outlinewidth": 0,
                          "ticks": ""
                        },
                        "type": "contourcarpet"
                      }
                    ],
                    "heatmap": [
                      {
                        "colorbar": {
                          "outlinewidth": 0,
                          "ticks": ""
                        },
                        "colorscale": [
                          [
                            0,
                            "#0d0887"
                          ],
                          [
                            0.1111111111111111,
                            "#46039f"
                          ],
                          [
                            0.2222222222222222,
                            "#7201a8"
                          ],
                          [
                            0.3333333333333333,
                            "#9c179e"
                          ],
                          [
                            0.4444444444444444,
                            "#bd3786"
                          ],
                          [
                            0.5555555555555556,
                            "#d8576b"
                          ],
                          [
                            0.6666666666666666,
                            "#ed7953"
                          ],
                          [
                            0.7777777777777778,
                            "#fb9f3a"
                          ],
                          [
                            0.8888888888888888,
                            "#fdca26"
                          ],
                          [
                            1,
                            "#f0f921"
                          ]
                        ],
                        "type": "heatmap"
                      }
                    ],
                    "histogram": [
                      {
                        "marker": {
                          "pattern": {
                            "fillmode": "overlay",
                            "size": 10,
                            "solidity": 0.2
                          }
                        },
                        "type": "histogram"
                      }
                    ],
                    "histogram2d": [
                      {
                        "colorbar": {
                          "outlinewidth": 0,
                          "ticks": ""
                        },
                        "colorscale": [
                          [
                            0,
                            "#0d0887"
                          ],
                          [
                            0.1111111111111111,
                            "#46039f"
                          ],
                          [
                            0.2222222222222222,
                            "#7201a8"
                          ],
                          [
                            0.3333333333333333,
                            "#9c179e"
                          ],
                          [
                            0.4444444444444444,
                            "#bd3786"
                          ],
                          [
                            0.5555555555555556,
                            "#d8576b"
                          ],
                          [
                            0.6666666666666666,
                            "#ed7953"
                          ],
                          [
                            0.7777777777777778,
                            "#fb9f3a"
                          ],
                          [
                            0.8888888888888888,
                            "#fdca26"
                          ],
                          [
                            1,
                            "#f0f921"
                          ]
                        ],
                        "type": "histogram2d"
                      }
                    ],
                    "histogram2dcontour": [
                      {
                        "colorbar": {
                          "outlinewidth": 0,
                          "ticks": ""
                        },
                        "colorscale": [
                          [
                            0,
                            "#0d0887"
                          ],
                          [
                            0.1111111111111111,
                            "#46039f"
                          ],
                          [
                            0.2222222222222222,
                            "#7201a8"
                          ],
                          [
                            0.3333333333333333,
                            "#9c179e"
                          ],
                          [
                            0.4444444444444444,
                            "#bd3786"
                          ],
                          [
                            0.5555555555555556,
                            "#d8576b"
                          ],
                          [
                            0.6666666666666666,
                            "#ed7953"
                          ],
                          [
                            0.7777777777777778,
                            "#fb9f3a"
                          ],
                          [
                            0.8888888888888888,
                            "#fdca26"
                          ],
                          [
                            1,
                            "#f0f921"
                          ]
                        ],
                        "type": "histogram2dcontour"
                      }
                    ],
                    "mesh3d": [
                      {
                        "colorbar": {
                          "outlinewidth": 0,
                          "ticks": ""
                        },
                        "type": "mesh3d"
                      }
                    ],
                    "parcoords": [
                      {
                        "line": {
                          "colorbar": {
                            "outlinewidth": 0,
                            "ticks": ""
                          }
                        },
                        "type": "parcoords"
                      }
                    ],
                    "pie": [
                      {
                        "automargin": true,
                        "type": "pie"
                      }
                    ],
                    "scatter": [
                      {
                        "fillpattern": {
                          "fillmode": "overlay",
                          "size": 10,
                          "solidity": 0.2
                        },
                        "type": "scatter"
                      }
                    ],
                    "scatter3d": [
                      {
                        "line": {
                          "colorbar": {
                            "outlinewidth": 0,
                            "ticks": ""
                          }
                        },
                        "marker": {
                          "colorbar": {
                            "outlinewidth": 0,
                            "ticks": ""
                          }
                        },
                        "type": "scatter3d"
                      }
                    ],
                    "scattercarpet": [
                      {
                        "marker": {
                          "colorbar": {
                            "outlinewidth": 0,
                            "ticks": ""
                          }
                        },
                        "type": "scattercarpet"
                      }
                    ],
                    "scattergeo": [
                      {
                        "marker": {
                          "colorbar": {
                            "outlinewidth": 0,
                            "ticks": ""
                          }
                        },
                        "type": "scattergeo"
                      }
                    ],
                    "scattergl": [
                      {
                        "marker": {
                          "colorbar": {
                            "outlinewidth": 0,
                            "ticks": ""
                          }
                        },
                        "type": "scattergl"
                      }
                    ],
                    "scattermap": [
                      {
                        "marker": {
                          "colorbar": {
                            "outlinewidth": 0,
                            "ticks": ""
                          }
                        },
                        "type": "scattermap"
                      }
                    ],
                    "scattermapbox": [
                      {
                        "marker": {
                          "colorbar": {
                            "outlinewidth": 0,
                            "ticks": ""
                          }
                        },
                        "type": "scattermapbox"
                      }
                    ],
                    "scatterpolar": [
                      {
                        "marker": {
                          "colorbar": {
                            "outlinewidth": 0,
                            "ticks": ""
                          }
                        },
                        "type": "scatterpolar"
                      }
                    ],
                    "scatterpolargl": [
                      {
                        "marker": {
                          "colorbar": {
                            "outlinewidth": 0,
                            "ticks": ""
                          }
                        },
                        "type": "scatterpolargl"
                      }
                    ],
                    "scatterternary": [
                      {
                        "marker": {
                          "colorbar": {
                            "outlinewidth": 0,
                            "ticks": ""
                          }
                        },
                        "type": "scatterternary"
                      }
                    ],
                    "surface": [
                      {
                        "colorbar": {
                          "outlinewidth": 0,
                          "ticks": ""
                        },
                        "colorscale": [
                          [
                            0,
                            "#0d0887"
                          ],
                          [
                            0.1111111111111111,
                            "#46039f"
                          ],
                          [
                            0.2222222222222222,
                            "#7201a8"
                          ],
                          [
                            0.3333333333333333,
                            "#9c179e"
                          ],
                          [
                            0.4444444444444444,
                            "#bd3786"
                          ],
                          [
                            0.5555555555555556,
                            "#d8576b"
                          ],
                          [
                            0.6666666666666666,
                            "#ed7953"
                          ],
                          [
                            0.7777777777777778,
                            "#fb9f3a"
                          ],
                          [
                            0.8888888888888888,
                            "#fdca26"
                          ],
                          [
                            1,
                            "#f0f921"
                          ]
                        ],
                        "type": "surface"
                      }
                    ],
                    "table": [
                      {
                        "cells": {
                          "fill": {
                            "color": "#EBF0F8"
                          },
                          "line": {
                            "color": "white"
                          }
                        },
                        "header": {
                          "fill": {
                            "color": "#C8D4E3"
                          },
                          "line": {
                            "color": "white"
                          }
                        },
                        "type": "table"
                      }
                    ]
                  },
                  "layout": {
                    "annotationdefaults": {
                      "arrowcolor": "#2a3f5f",
                      "arrowhead": 0,
                      "arrowwidth": 1
                    },
                    "autotypenumbers": "strict",
                    "coloraxis": {
                      "colorbar": {
                        "outlinewidth": 0,
                        "ticks": ""
                      }
                    },
                    "colorscale": {
                      "diverging": [
                        [
                          0,
                          "#8e0152"
                        ],
                        [
                          0.1,
                          "#c51b7d"
                        ],
                        [
                          0.2,
                          "#de77ae"
                        ],
                        [
                          0.3,
                          "#f1b6da"
                        ],
                        [
                          0.4,
                          "#fde0ef"
                        ],
                        [
                          0.5,
                          "#f7f7f7"
                        ],
                        [
                          0.6,
                          "#e6f5d0"
                        ],
                        [
                          0.7,
                          "#b8e186"
                        ],
                        [
                          0.8,
                          "#7fbc41"
                        ],
                        [
                          0.9,
                          "#4d9221"
                        ],
                        [
                          1,
                          "#276419"
                        ]
                      ],
                      "sequential": [
                        [
                          0,
                          "#0d0887"
                        ],
                        [
                          0.1111111111111111,
                          "#46039f"
                        ],
                        [
                          0.2222222222222222,
                          "#7201a8"
                        ],
                        [
                          0.3333333333333333,
                          "#9c179e"
                        ],
                        [
                          0.4444444444444444,
                          "#bd3786"
                        ],
                        [
                          0.5555555555555556,
                          "#d8576b"
                        ],
                        [
                          0.6666666666666666,
                          "#ed7953"
                        ],
                        [
                          0.7777777777777778,
                          "#fb9f3a"
                        ],
                        [
                          0.8888888888888888,
                          "#fdca26"
                        ],
                        [
                          1,
                          "#f0f921"
                        ]
                      ],
                      "sequentialminus": [
                        [
                          0,
                          "#0d0887"
                        ],
                        [
                          0.1111111111111111,
                          "#46039f"
                        ],
                        [
                          0.2222222222222222,
                          "#7201a8"
                        ],
                        [
                          0.3333333333333333,
                          "#9c179e"
                        ],
                        [
                          0.4444444444444444,
                          "#bd3786"
                        ],
                        [
                          0.5555555555555556,
                          "#d8576b"
                        ],
                        [
                          0.6666666666666666,
                          "#ed7953"
                        ],
                        [
                          0.7777777777777778,
                          "#fb9f3a"
                        ],
                        [
                          0.8888888888888888,
                          "#fdca26"
                        ],
                        [
                          1,
                          "#f0f921"
                        ]
                      ]
                    },
                    "colorway": [
                      "#636efa",
                      "#EF553B",
                      "#00cc96",
                      "#ab63fa",
                      "#FFA15A",
                      "#19d3f3",
                      "#FF6692",
                      "#B6E880",
                      "#FF97FF",
                      "#FECB52"
                    ],
                    "font": {
                      "color": "#2a3f5f"
                    },
                    "geo": {
                      "bgcolor": "white",
                      "lakecolor": "white",
                      "landcolor": "#E5ECF6",
                      "showlakes": true,
                      "showland": true,
                      "subunitcolor": "white"
                    },
                    "hoverlabel": {
                      "align": "left"
                    },
                    "hovermode": "closest",
                    "mapbox": {
                      "style": "light"
                    },
                    "paper_bgcolor": "white",
                    "plot_bgcolor": "#E5ECF6",
                    "polar": {
                      "angularaxis": {
                        "gridcolor": "white",
                        "linecolor": "white",
                        "ticks": ""
                      },
                      "bgcolor": "#E5ECF6",
                      "radialaxis": {
                        "gridcolor": "white",
                        "linecolor": "white",
                        "ticks": ""
                      }
                    },
                    "scene": {
                      "xaxis": {
                        "backgroundcolor": "#E5ECF6",
                        "gridcolor": "white",
                        "gridwidth": 2,
                        "linecolor": "white",
                        "showbackground": true,
                        "ticks": "",
                        "zerolinecolor": "white"
                      },
                      "yaxis": {
                        "backgroundcolor": "#E5ECF6",
                        "gridcolor": "white",
                        "gridwidth": 2,
                        "linecolor": "white",
                        "showbackground": true,
                        "ticks": "",
                        "zerolinecolor": "white"
                      },
                      "zaxis": {
                        "backgroundcolor": "#E5ECF6",
                        "gridcolor": "white",
                        "gridwidth": 2,
                        "linecolor": "white",
                        "showbackground": true,
                        "ticks": "",
                        "zerolinecolor": "white"
                      }
                    },
                    "shapedefaults": {
                      "line": {
                        "color": "#2a3f5f"
                      }
                    },
                    "ternary": {
                      "aaxis": {
                        "gridcolor": "white",
                        "linecolor": "white",
                        "ticks": ""
                      },
                      "baxis": {
                        "gridcolor": "white",
                        "linecolor": "white",
                        "ticks": ""
                      },
                      "bgcolor": "#E5ECF6",
                      "caxis": {
                        "gridcolor": "white",
                        "linecolor": "white",
                        "ticks": ""
                      }
                    },
                    "title": {
                      "x": 0.05
                    },
                    "xaxis": {
                      "automargin": true,
                      "gridcolor": "white",
                      "linecolor": "white",
                      "ticks": "",
                      "title": {
                        "standoff": 15
                      },
                      "zerolinecolor": "white",
                      "zerolinewidth": 2
                    },
                    "yaxis": {
                      "automargin": true,
                      "gridcolor": "white",
                      "linecolor": "white",
                      "ticks": "",
                      "title": {
                        "standoff": 15
                      },
                      "zerolinecolor": "white",
                      "zerolinewidth": 2
                    }
                  }
                },
                "xaxis": {
                  "anchor": "y",
                  "domain": [
                    0,
                    1
                  ],
                  "type": "date"
                },
                "yaxis": {
                  "anchor": "x",
                  "categoryorder": "total ascending",
                  "domain": [
                    0,
                    1
                  ],
                  "title": {
                    "text": "customer_id"
                  }
                }
              }
            }
          },
          "metadata": {},
          "output_type": "display_data"
        }
      ],
      "source": [
        "# 간트 차트 그리기\n",
        "from plotly import express as px\n",
        "\n",
        "fig = px.timeline(gantt_df.head(50), x_start='start', x_end='end', y='customer_id')\n",
        "fig.update_yaxes(categoryorder='total ascending')\n",
        "fig.update_layout(height=400)\n",
        "fig.show()\n",
        "\n",
        "fig2 = px.timeline(gantt_df.iloc[600:650], x_start='start', x_end='end', y='customer_id')\n",
        "fig2.update_yaxes(categoryorder='total ascending')\n",
        "fig2.update_layout(height=400)\n",
        "fig2.show()"
      ]
    },
    {
      "cell_type": "code",
      "execution_count": 8,
      "metadata": {},
      "outputs": [
        {
          "data": {
            "application/vnd.plotly.v1+json": {
              "config": {
                "plotlyServerURL": "https://plot.ly"
              },
              "data": [
                {
                  "bingroup": "x",
                  "hovertemplate": "period=%{x}<br>count=%{y}<extra></extra>",
                  "legendgroup": "",
                  "marker": {
                    "color": "#636efa",
                    "pattern": {
                      "shape": ""
                    }
                  },
                  "name": "",
                  "nbinsx": 200,
                  "orientation": "v",
                  "showlegend": false,
                  "type": "histogram",
                  "x": {
                    "bdata": "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",
                    "dtype": "i2"
                  },
                  "xaxis": "x",
                  "yaxis": "y"
                }
              ],
              "layout": {
                "barmode": "relative",
                "legend": {
                  "tracegroupgap": 0
                },
                "template": {
                  "data": {
                    "bar": [
                      {
                        "error_x": {
                          "color": "#2a3f5f"
                        },
                        "error_y": {
                          "color": "#2a3f5f"
                        },
                        "marker": {
                          "line": {
                            "color": "#E5ECF6",
                            "width": 0.5
                          },
                          "pattern": {
                            "fillmode": "overlay",
                            "size": 10,
                            "solidity": 0.2
                          }
                        },
                        "type": "bar"
                      }
                    ],
                    "barpolar": [
                      {
                        "marker": {
                          "line": {
                            "color": "#E5ECF6",
                            "width": 0.5
                          },
                          "pattern": {
                            "fillmode": "overlay",
                            "size": 10,
                            "solidity": 0.2
                          }
                        },
                        "type": "barpolar"
                      }
                    ],
                    "carpet": [
                      {
                        "aaxis": {
                          "endlinecolor": "#2a3f5f",
                          "gridcolor": "white",
                          "linecolor": "white",
                          "minorgridcolor": "white",
                          "startlinecolor": "#2a3f5f"
                        },
                        "baxis": {
                          "endlinecolor": "#2a3f5f",
                          "gridcolor": "white",
                          "linecolor": "white",
                          "minorgridcolor": "white",
                          "startlinecolor": "#2a3f5f"
                        },
                        "type": "carpet"
                      }
                    ],
                    "choropleth": [
                      {
                        "colorbar": {
                          "outlinewidth": 0,
                          "ticks": ""
                        },
                        "type": "choropleth"
                      }
                    ],
                    "contour": [
                      {
                        "colorbar": {
                          "outlinewidth": 0,
                          "ticks": ""
                        },
                        "colorscale": [
                          [
                            0,
                            "#0d0887"
                          ],
                          [
                            0.1111111111111111,
                            "#46039f"
                          ],
                          [
                            0.2222222222222222,
                            "#7201a8"
                          ],
                          [
                            0.3333333333333333,
                            "#9c179e"
                          ],
                          [
                            0.4444444444444444,
                            "#bd3786"
                          ],
                          [
                            0.5555555555555556,
                            "#d8576b"
                          ],
                          [
                            0.6666666666666666,
                            "#ed7953"
                          ],
                          [
                            0.7777777777777778,
                            "#fb9f3a"
                          ],
                          [
                            0.8888888888888888,
                            "#fdca26"
                          ],
                          [
                            1,
                            "#f0f921"
                          ]
                        ],
                        "type": "contour"
                      }
                    ],
                    "contourcarpet": [
                      {
                        "colorbar": {
                          "outlinewidth": 0,
                          "ticks": ""
                        },
                        "type": "contourcarpet"
                      }
                    ],
                    "heatmap": [
                      {
                        "colorbar": {
                          "outlinewidth": 0,
                          "ticks": ""
                        },
                        "colorscale": [
                          [
                            0,
                            "#0d0887"
                          ],
                          [
                            0.1111111111111111,
                            "#46039f"
                          ],
                          [
                            0.2222222222222222,
                            "#7201a8"
                          ],
                          [
                            0.3333333333333333,
                            "#9c179e"
                          ],
                          [
                            0.4444444444444444,
                            "#bd3786"
                          ],
                          [
                            0.5555555555555556,
                            "#d8576b"
                          ],
                          [
                            0.6666666666666666,
                            "#ed7953"
                          ],
                          [
                            0.7777777777777778,
                            "#fb9f3a"
                          ],
                          [
                            0.8888888888888888,
                            "#fdca26"
                          ],
                          [
                            1,
                            "#f0f921"
                          ]
                        ],
                        "type": "heatmap"
                      }
                    ],
                    "histogram": [
                      {
                        "marker": {
                          "pattern": {
                            "fillmode": "overlay",
                            "size": 10,
                            "solidity": 0.2
                          }
                        },
                        "type": "histogram"
                      }
                    ],
                    "histogram2d": [
                      {
                        "colorbar": {
                          "outlinewidth": 0,
                          "ticks": ""
                        },
                        "colorscale": [
                          [
                            0,
                            "#0d0887"
                          ],
                          [
                            0.1111111111111111,
                            "#46039f"
                          ],
                          [
                            0.2222222222222222,
                            "#7201a8"
                          ],
                          [
                            0.3333333333333333,
                            "#9c179e"
                          ],
                          [
                            0.4444444444444444,
                            "#bd3786"
                          ],
                          [
                            0.5555555555555556,
                            "#d8576b"
                          ],
                          [
                            0.6666666666666666,
                            "#ed7953"
                          ],
                          [
                            0.7777777777777778,
                            "#fb9f3a"
                          ],
                          [
                            0.8888888888888888,
                            "#fdca26"
                          ],
                          [
                            1,
                            "#f0f921"
                          ]
                        ],
                        "type": "histogram2d"
                      }
                    ],
                    "histogram2dcontour": [
                      {
                        "colorbar": {
                          "outlinewidth": 0,
                          "ticks": ""
                        },
                        "colorscale": [
                          [
                            0,
                            "#0d0887"
                          ],
                          [
                            0.1111111111111111,
                            "#46039f"
                          ],
                          [
                            0.2222222222222222,
                            "#7201a8"
                          ],
                          [
                            0.3333333333333333,
                            "#9c179e"
                          ],
                          [
                            0.4444444444444444,
                            "#bd3786"
                          ],
                          [
                            0.5555555555555556,
                            "#d8576b"
                          ],
                          [
                            0.6666666666666666,
                            "#ed7953"
                          ],
                          [
                            0.7777777777777778,
                            "#fb9f3a"
                          ],
                          [
                            0.8888888888888888,
                            "#fdca26"
                          ],
                          [
                            1,
                            "#f0f921"
                          ]
                        ],
                        "type": "histogram2dcontour"
                      }
                    ],
                    "mesh3d": [
                      {
                        "colorbar": {
                          "outlinewidth": 0,
                          "ticks": ""
                        },
                        "type": "mesh3d"
                      }
                    ],
                    "parcoords": [
                      {
                        "line": {
                          "colorbar": {
                            "outlinewidth": 0,
                            "ticks": ""
                          }
                        },
                        "type": "parcoords"
                      }
                    ],
                    "pie": [
                      {
                        "automargin": true,
                        "type": "pie"
                      }
                    ],
                    "scatter": [
                      {
                        "fillpattern": {
                          "fillmode": "overlay",
                          "size": 10,
                          "solidity": 0.2
                        },
                        "type": "scatter"
                      }
                    ],
                    "scatter3d": [
                      {
                        "line": {
                          "colorbar": {
                            "outlinewidth": 0,
                            "ticks": ""
                          }
                        },
                        "marker": {
                          "colorbar": {
                            "outlinewidth": 0,
                            "ticks": ""
                          }
                        },
                        "type": "scatter3d"
                      }
                    ],
                    "scattercarpet": [
                      {
                        "marker": {
                          "colorbar": {
                            "outlinewidth": 0,
                            "ticks": ""
                          }
                        },
                        "type": "scattercarpet"
                      }
                    ],
                    "scattergeo": [
                      {
                        "marker": {
                          "colorbar": {
                            "outlinewidth": 0,
                            "ticks": ""
                          }
                        },
                        "type": "scattergeo"
                      }
                    ],
                    "scattergl": [
                      {
                        "marker": {
                          "colorbar": {
                            "outlinewidth": 0,
                            "ticks": ""
                          }
                        },
                        "type": "scattergl"
                      }
                    ],
                    "scattermap": [
                      {
                        "marker": {
                          "colorbar": {
                            "outlinewidth": 0,
                            "ticks": ""
                          }
                        },
                        "type": "scattermap"
                      }
                    ],
                    "scattermapbox": [
                      {
                        "marker": {
                          "colorbar": {
                            "outlinewidth": 0,
                            "ticks": ""
                          }
                        },
                        "type": "scattermapbox"
                      }
                    ],
                    "scatterpolar": [
                      {
                        "marker": {
                          "colorbar": {
                            "outlinewidth": 0,
                            "ticks": ""
                          }
                        },
                        "type": "scatterpolar"
                      }
                    ],
                    "scatterpolargl": [
                      {
                        "marker": {
                          "colorbar": {
                            "outlinewidth": 0,
                            "ticks": ""
                          }
                        },
                        "type": "scatterpolargl"
                      }
                    ],
                    "scatterternary": [
                      {
                        "marker": {
                          "colorbar": {
                            "outlinewidth": 0,
                            "ticks": ""
                          }
                        },
                        "type": "scatterternary"
                      }
                    ],
                    "surface": [
                      {
                        "colorbar": {
                          "outlinewidth": 0,
                          "ticks": ""
                        },
                        "colorscale": [
                          [
                            0,
                            "#0d0887"
                          ],
                          [
                            0.1111111111111111,
                            "#46039f"
                          ],
                          [
                            0.2222222222222222,
                            "#7201a8"
                          ],
                          [
                            0.3333333333333333,
                            "#9c179e"
                          ],
                          [
                            0.4444444444444444,
                            "#bd3786"
                          ],
                          [
                            0.5555555555555556,
                            "#d8576b"
                          ],
                          [
                            0.6666666666666666,
                            "#ed7953"
                          ],
                          [
                            0.7777777777777778,
                            "#fb9f3a"
                          ],
                          [
                            0.8888888888888888,
                            "#fdca26"
                          ],
                          [
                            1,
                            "#f0f921"
                          ]
                        ],
                        "type": "surface"
                      }
                    ],
                    "table": [
                      {
                        "cells": {
                          "fill": {
                            "color": "#EBF0F8"
                          },
                          "line": {
                            "color": "white"
                          }
                        },
                        "header": {
                          "fill": {
                            "color": "#C8D4E3"
                          },
                          "line": {
                            "color": "white"
                          }
                        },
                        "type": "table"
                      }
                    ]
                  },
                  "layout": {
                    "annotationdefaults": {
                      "arrowcolor": "#2a3f5f",
                      "arrowhead": 0,
                      "arrowwidth": 1
                    },
                    "autotypenumbers": "strict",
                    "coloraxis": {
                      "colorbar": {
                        "outlinewidth": 0,
                        "ticks": ""
                      }
                    },
                    "colorscale": {
                      "diverging": [
                        [
                          0,
                          "#8e0152"
                        ],
                        [
                          0.1,
                          "#c51b7d"
                        ],
                        [
                          0.2,
                          "#de77ae"
                        ],
                        [
                          0.3,
                          "#f1b6da"
                        ],
                        [
                          0.4,
                          "#fde0ef"
                        ],
                        [
                          0.5,
                          "#f7f7f7"
                        ],
                        [
                          0.6,
                          "#e6f5d0"
                        ],
                        [
                          0.7,
                          "#b8e186"
                        ],
                        [
                          0.8,
                          "#7fbc41"
                        ],
                        [
                          0.9,
                          "#4d9221"
                        ],
                        [
                          1,
                          "#276419"
                        ]
                      ],
                      "sequential": [
                        [
                          0,
                          "#0d0887"
                        ],
                        [
                          0.1111111111111111,
                          "#46039f"
                        ],
                        [
                          0.2222222222222222,
                          "#7201a8"
                        ],
                        [
                          0.3333333333333333,
                          "#9c179e"
                        ],
                        [
                          0.4444444444444444,
                          "#bd3786"
                        ],
                        [
                          0.5555555555555556,
                          "#d8576b"
                        ],
                        [
                          0.6666666666666666,
                          "#ed7953"
                        ],
                        [
                          0.7777777777777778,
                          "#fb9f3a"
                        ],
                        [
                          0.8888888888888888,
                          "#fdca26"
                        ],
                        [
                          1,
                          "#f0f921"
                        ]
                      ],
                      "sequentialminus": [
                        [
                          0,
                          "#0d0887"
                        ],
                        [
                          0.1111111111111111,
                          "#46039f"
                        ],
                        [
                          0.2222222222222222,
                          "#7201a8"
                        ],
                        [
                          0.3333333333333333,
                          "#9c179e"
                        ],
                        [
                          0.4444444444444444,
                          "#bd3786"
                        ],
                        [
                          0.5555555555555556,
                          "#d8576b"
                        ],
                        [
                          0.6666666666666666,
                          "#ed7953"
                        ],
                        [
                          0.7777777777777778,
                          "#fb9f3a"
                        ],
                        [
                          0.8888888888888888,
                          "#fdca26"
                        ],
                        [
                          1,
                          "#f0f921"
                        ]
                      ]
                    },
                    "colorway": [
                      "#636efa",
                      "#EF553B",
                      "#00cc96",
                      "#ab63fa",
                      "#FFA15A",
                      "#19d3f3",
                      "#FF6692",
                      "#B6E880",
                      "#FF97FF",
                      "#FECB52"
                    ],
                    "font": {
                      "color": "#2a3f5f"
                    },
                    "geo": {
                      "bgcolor": "white",
                      "lakecolor": "white",
                      "landcolor": "#E5ECF6",
                      "showlakes": true,
                      "showland": true,
                      "subunitcolor": "white"
                    },
                    "hoverlabel": {
                      "align": "left"
                    },
                    "hovermode": "closest",
                    "mapbox": {
                      "style": "light"
                    },
                    "paper_bgcolor": "white",
                    "plot_bgcolor": "#E5ECF6",
                    "polar": {
                      "angularaxis": {
                        "gridcolor": "white",
                        "linecolor": "white",
                        "ticks": ""
                      },
                      "bgcolor": "#E5ECF6",
                      "radialaxis": {
                        "gridcolor": "white",
                        "linecolor": "white",
                        "ticks": ""
                      }
                    },
                    "scene": {
                      "xaxis": {
                        "backgroundcolor": "#E5ECF6",
                        "gridcolor": "white",
                        "gridwidth": 2,
                        "linecolor": "white",
                        "showbackground": true,
                        "ticks": "",
                        "zerolinecolor": "white"
                      },
                      "yaxis": {
                        "backgroundcolor": "#E5ECF6",
                        "gridcolor": "white",
                        "gridwidth": 2,
                        "linecolor": "white",
                        "showbackground": true,
                        "ticks": "",
                        "zerolinecolor": "white"
                      },
                      "zaxis": {
                        "backgroundcolor": "#E5ECF6",
                        "gridcolor": "white",
                        "gridwidth": 2,
                        "linecolor": "white",
                        "showbackground": true,
                        "ticks": "",
                        "zerolinecolor": "white"
                      }
                    },
                    "shapedefaults": {
                      "line": {
                        "color": "#2a3f5f"
                      }
                    },
                    "ternary": {
                      "aaxis": {
                        "gridcolor": "white",
                        "linecolor": "white",
                        "ticks": ""
                      },
                      "baxis": {
                        "gridcolor": "white",
                        "linecolor": "white",
                        "ticks": ""
                      },
                      "bgcolor": "#E5ECF6",
                      "caxis": {
                        "gridcolor": "white",
                        "linecolor": "white",
                        "ticks": ""
                      }
                    },
                    "title": {
                      "x": 0.05
                    },
                    "xaxis": {
                      "automargin": true,
                      "gridcolor": "white",
                      "linecolor": "white",
                      "ticks": "",
                      "title": {
                        "standoff": 15
                      },
                      "zerolinecolor": "white",
                      "zerolinewidth": 2
                    },
                    "yaxis": {
                      "automargin": true,
                      "gridcolor": "white",
                      "linecolor": "white",
                      "ticks": "",
                      "title": {
                        "standoff": 15
                      },
                      "zerolinecolor": "white",
                      "zerolinewidth": 2
                    }
                  }
                },
                "title": {
                  "text": "이용기간 분포"
                },
                "xaxis": {
                  "anchor": "y",
                  "domain": [
                    0,
                    1
                  ],
                  "title": {
                    "text": "period"
                  }
                },
                "yaxis": {
                  "anchor": "x",
                  "domain": [
                    0,
                    1
                  ],
                  "title": {
                    "text": "count"
                  }
                }
              }
            }
          },
          "metadata": {},
          "output_type": "display_data"
        }
      ],
      "source": [
        "# Period의 분포\n",
        "fig = px.histogram(gantt_df, x='period', nbins=200, title='이용기간 분포')\n",
        "fig.show()"
      ]
    },
    {
      "cell_type": "code",
      "execution_count": 9,
      "metadata": {},
      "outputs": [
        {
          "data": {
            "text/html": [
              "<div>\n",
              "<style scoped>\n",
              "    .dataframe tbody tr th:only-of-type {\n",
              "        vertical-align: middle;\n",
              "    }\n",
              "\n",
              "    .dataframe tbody tr th {\n",
              "        vertical-align: top;\n",
              "    }\n",
              "\n",
              "    .dataframe thead th {\n",
              "        text-align: right;\n",
              "    }\n",
              "</style>\n",
              "<table border=\"1\" class=\"dataframe\">\n",
              "  <thead>\n",
              "    <tr style=\"text-align: right;\">\n",
              "      <th></th>\n",
              "      <th>customer_id</th>\n",
              "      <th>Date</th>\n",
              "      <th>items</th>\n",
              "      <th>item_count</th>\n",
              "    </tr>\n",
              "  </thead>\n",
              "  <tbody>\n",
              "    <tr>\n",
              "      <th>0</th>\n",
              "      <td>1000</td>\n",
              "      <td>2014-06-24</td>\n",
              "      <td>[whole milk, pastry, salty snack]</td>\n",
              "      <td>3</td>\n",
              "    </tr>\n",
              "    <tr>\n",
              "      <th>1</th>\n",
              "      <td>1000</td>\n",
              "      <td>2015-03-15</td>\n",
              "      <td>[sausage, whole milk, semi-finished bread, yog...</td>\n",
              "      <td>4</td>\n",
              "    </tr>\n",
              "    <tr>\n",
              "      <th>2</th>\n",
              "      <td>1000</td>\n",
              "      <td>2015-05-27</td>\n",
              "      <td>[soda, pickled vegetables]</td>\n",
              "      <td>2</td>\n",
              "    </tr>\n",
              "    <tr>\n",
              "      <th>3</th>\n",
              "      <td>1000</td>\n",
              "      <td>2015-07-24</td>\n",
              "      <td>[canned beer, misc. beverages]</td>\n",
              "      <td>2</td>\n",
              "    </tr>\n",
              "    <tr>\n",
              "      <th>4</th>\n",
              "      <td>1000</td>\n",
              "      <td>2015-11-25</td>\n",
              "      <td>[sausage, hygiene articles]</td>\n",
              "      <td>2</td>\n",
              "    </tr>\n",
              "  </tbody>\n",
              "</table>\n",
              "</div>"
            ],
            "text/plain": [
              "  customer_id       Date                                              items  \\\n",
              "0        1000 2014-06-24                  [whole milk, pastry, salty snack]   \n",
              "1        1000 2015-03-15  [sausage, whole milk, semi-finished bread, yog...   \n",
              "2        1000 2015-05-27                         [soda, pickled vegetables]   \n",
              "3        1000 2015-07-24                     [canned beer, misc. beverages]   \n",
              "4        1000 2015-11-25                        [sausage, hygiene articles]   \n",
              "\n",
              "   item_count  \n",
              "0           3  \n",
              "1           4  \n",
              "2           2  \n",
              "3           2  \n",
              "4           2  "
            ]
          },
          "execution_count": 9,
          "metadata": {},
          "output_type": "execute_result"
        }
      ],
      "source": [
        "transaction_by_1d_df = raw_df.groupby(['Member_number', 'Date']).agg(\n",
        "    items=('itemDescription', lambda x: list(x)),\n",
        "    item_count=('itemDescription', 'size')\n",
        ").reset_index().rename(columns={\"Member_number\":\"customer_id\"})\n",
        "transaction_by_1d_df.head()"
      ]
    },
    {
      "cell_type": "code",
      "execution_count": 10,
      "metadata": {},
      "outputs": [
        {
          "data": {
            "application/vnd.plotly.v1+json": {
              "config": {
                "plotlyServerURL": "https://plot.ly"
              },
              "data": [
                {
                  "hovertemplate": "함께 구매한 상품 수=%{x}<br>빈도수=%{y}<extra></extra>",
                  "legendgroup": "",
                  "marker": {
                    "color": "#636efa",
                    "pattern": {
                      "shape": ""
                    }
                  },
                  "name": "",
                  "orientation": "v",
                  "showlegend": false,
                  "text": {
                    "bdata": "AAAAAACww0AAAAAAABSlQAAAAAAAuJVAAAAAAACAdUAAAAAAAOBlQAAAAAAAAFRAAAAAAAAgYkAAAAAAAABJQAAAAAAAAPA/",
                    "dtype": "f8"
                  },
                  "textposition": "outside",
                  "type": "bar",
                  "x": {
                    "bdata": "AgMEBQYHCAkL",
                    "dtype": "i1"
                  },
                  "xaxis": "x",
                  "y": {
                    "bdata": "YCeKCm4FWAGvAFAAkQAyAAEA",
                    "dtype": "i2"
                  },
                  "yaxis": "y"
                }
              ],
              "layout": {
                "barmode": "relative",
                "height": 500,
                "legend": {
                  "tracegroupgap": 0
                },
                "template": {
                  "data": {
                    "bar": [
                      {
                        "error_x": {
                          "color": "#2a3f5f"
                        },
                        "error_y": {
                          "color": "#2a3f5f"
                        },
                        "marker": {
                          "line": {
                            "color": "#E5ECF6",
                            "width": 0.5
                          },
                          "pattern": {
                            "fillmode": "overlay",
                            "size": 10,
                            "solidity": 0.2
                          }
                        },
                        "type": "bar"
                      }
                    ],
                    "barpolar": [
                      {
                        "marker": {
                          "line": {
                            "color": "#E5ECF6",
                            "width": 0.5
                          },
                          "pattern": {
                            "fillmode": "overlay",
                            "size": 10,
                            "solidity": 0.2
                          }
                        },
                        "type": "barpolar"
                      }
                    ],
                    "carpet": [
                      {
                        "aaxis": {
                          "endlinecolor": "#2a3f5f",
                          "gridcolor": "white",
                          "linecolor": "white",
                          "minorgridcolor": "white",
                          "startlinecolor": "#2a3f5f"
                        },
                        "baxis": {
                          "endlinecolor": "#2a3f5f",
                          "gridcolor": "white",
                          "linecolor": "white",
                          "minorgridcolor": "white",
                          "startlinecolor": "#2a3f5f"
                        },
                        "type": "carpet"
                      }
                    ],
                    "choropleth": [
                      {
                        "colorbar": {
                          "outlinewidth": 0,
                          "ticks": ""
                        },
                        "type": "choropleth"
                      }
                    ],
                    "contour": [
                      {
                        "colorbar": {
                          "outlinewidth": 0,
                          "ticks": ""
                        },
                        "colorscale": [
                          [
                            0,
                            "#0d0887"
                          ],
                          [
                            0.1111111111111111,
                            "#46039f"
                          ],
                          [
                            0.2222222222222222,
                            "#7201a8"
                          ],
                          [
                            0.3333333333333333,
                            "#9c179e"
                          ],
                          [
                            0.4444444444444444,
                            "#bd3786"
                          ],
                          [
                            0.5555555555555556,
                            "#d8576b"
                          ],
                          [
                            0.6666666666666666,
                            "#ed7953"
                          ],
                          [
                            0.7777777777777778,
                            "#fb9f3a"
                          ],
                          [
                            0.8888888888888888,
                            "#fdca26"
                          ],
                          [
                            1,
                            "#f0f921"
                          ]
                        ],
                        "type": "contour"
                      }
                    ],
                    "contourcarpet": [
                      {
                        "colorbar": {
                          "outlinewidth": 0,
                          "ticks": ""
                        },
                        "type": "contourcarpet"
                      }
                    ],
                    "heatmap": [
                      {
                        "colorbar": {
                          "outlinewidth": 0,
                          "ticks": ""
                        },
                        "colorscale": [
                          [
                            0,
                            "#0d0887"
                          ],
                          [
                            0.1111111111111111,
                            "#46039f"
                          ],
                          [
                            0.2222222222222222,
                            "#7201a8"
                          ],
                          [
                            0.3333333333333333,
                            "#9c179e"
                          ],
                          [
                            0.4444444444444444,
                            "#bd3786"
                          ],
                          [
                            0.5555555555555556,
                            "#d8576b"
                          ],
                          [
                            0.6666666666666666,
                            "#ed7953"
                          ],
                          [
                            0.7777777777777778,
                            "#fb9f3a"
                          ],
                          [
                            0.8888888888888888,
                            "#fdca26"
                          ],
                          [
                            1,
                            "#f0f921"
                          ]
                        ],
                        "type": "heatmap"
                      }
                    ],
                    "histogram": [
                      {
                        "marker": {
                          "pattern": {
                            "fillmode": "overlay",
                            "size": 10,
                            "solidity": 0.2
                          }
                        },
                        "type": "histogram"
                      }
                    ],
                    "histogram2d": [
                      {
                        "colorbar": {
                          "outlinewidth": 0,
                          "ticks": ""
                        },
                        "colorscale": [
                          [
                            0,
                            "#0d0887"
                          ],
                          [
                            0.1111111111111111,
                            "#46039f"
                          ],
                          [
                            0.2222222222222222,
                            "#7201a8"
                          ],
                          [
                            0.3333333333333333,
                            "#9c179e"
                          ],
                          [
                            0.4444444444444444,
                            "#bd3786"
                          ],
                          [
                            0.5555555555555556,
                            "#d8576b"
                          ],
                          [
                            0.6666666666666666,
                            "#ed7953"
                          ],
                          [
                            0.7777777777777778,
                            "#fb9f3a"
                          ],
                          [
                            0.8888888888888888,
                            "#fdca26"
                          ],
                          [
                            1,
                            "#f0f921"
                          ]
                        ],
                        "type": "histogram2d"
                      }
                    ],
                    "histogram2dcontour": [
                      {
                        "colorbar": {
                          "outlinewidth": 0,
                          "ticks": ""
                        },
                        "colorscale": [
                          [
                            0,
                            "#0d0887"
                          ],
                          [
                            0.1111111111111111,
                            "#46039f"
                          ],
                          [
                            0.2222222222222222,
                            "#7201a8"
                          ],
                          [
                            0.3333333333333333,
                            "#9c179e"
                          ],
                          [
                            0.4444444444444444,
                            "#bd3786"
                          ],
                          [
                            0.5555555555555556,
                            "#d8576b"
                          ],
                          [
                            0.6666666666666666,
                            "#ed7953"
                          ],
                          [
                            0.7777777777777778,
                            "#fb9f3a"
                          ],
                          [
                            0.8888888888888888,
                            "#fdca26"
                          ],
                          [
                            1,
                            "#f0f921"
                          ]
                        ],
                        "type": "histogram2dcontour"
                      }
                    ],
                    "mesh3d": [
                      {
                        "colorbar": {
                          "outlinewidth": 0,
                          "ticks": ""
                        },
                        "type": "mesh3d"
                      }
                    ],
                    "parcoords": [
                      {
                        "line": {
                          "colorbar": {
                            "outlinewidth": 0,
                            "ticks": ""
                          }
                        },
                        "type": "parcoords"
                      }
                    ],
                    "pie": [
                      {
                        "automargin": true,
                        "type": "pie"
                      }
                    ],
                    "scatter": [
                      {
                        "fillpattern": {
                          "fillmode": "overlay",
                          "size": 10,
                          "solidity": 0.2
                        },
                        "type": "scatter"
                      }
                    ],
                    "scatter3d": [
                      {
                        "line": {
                          "colorbar": {
                            "outlinewidth": 0,
                            "ticks": ""
                          }
                        },
                        "marker": {
                          "colorbar": {
                            "outlinewidth": 0,
                            "ticks": ""
                          }
                        },
                        "type": "scatter3d"
                      }
                    ],
                    "scattercarpet": [
                      {
                        "marker": {
                          "colorbar": {
                            "outlinewidth": 0,
                            "ticks": ""
                          }
                        },
                        "type": "scattercarpet"
                      }
                    ],
                    "scattergeo": [
                      {
                        "marker": {
                          "colorbar": {
                            "outlinewidth": 0,
                            "ticks": ""
                          }
                        },
                        "type": "scattergeo"
                      }
                    ],
                    "scattergl": [
                      {
                        "marker": {
                          "colorbar": {
                            "outlinewidth": 0,
                            "ticks": ""
                          }
                        },
                        "type": "scattergl"
                      }
                    ],
                    "scattermap": [
                      {
                        "marker": {
                          "colorbar": {
                            "outlinewidth": 0,
                            "ticks": ""
                          }
                        },
                        "type": "scattermap"
                      }
                    ],
                    "scattermapbox": [
                      {
                        "marker": {
                          "colorbar": {
                            "outlinewidth": 0,
                            "ticks": ""
                          }
                        },
                        "type": "scattermapbox"
                      }
                    ],
                    "scatterpolar": [
                      {
                        "marker": {
                          "colorbar": {
                            "outlinewidth": 0,
                            "ticks": ""
                          }
                        },
                        "type": "scatterpolar"
                      }
                    ],
                    "scatterpolargl": [
                      {
                        "marker": {
                          "colorbar": {
                            "outlinewidth": 0,
                            "ticks": ""
                          }
                        },
                        "type": "scatterpolargl"
                      }
                    ],
                    "scatterternary": [
                      {
                        "marker": {
                          "colorbar": {
                            "outlinewidth": 0,
                            "ticks": ""
                          }
                        },
                        "type": "scatterternary"
                      }
                    ],
                    "surface": [
                      {
                        "colorbar": {
                          "outlinewidth": 0,
                          "ticks": ""
                        },
                        "colorscale": [
                          [
                            0,
                            "#0d0887"
                          ],
                          [
                            0.1111111111111111,
                            "#46039f"
                          ],
                          [
                            0.2222222222222222,
                            "#7201a8"
                          ],
                          [
                            0.3333333333333333,
                            "#9c179e"
                          ],
                          [
                            0.4444444444444444,
                            "#bd3786"
                          ],
                          [
                            0.5555555555555556,
                            "#d8576b"
                          ],
                          [
                            0.6666666666666666,
                            "#ed7953"
                          ],
                          [
                            0.7777777777777778,
                            "#fb9f3a"
                          ],
                          [
                            0.8888888888888888,
                            "#fdca26"
                          ],
                          [
                            1,
                            "#f0f921"
                          ]
                        ],
                        "type": "surface"
                      }
                    ],
                    "table": [
                      {
                        "cells": {
                          "fill": {
                            "color": "#EBF0F8"
                          },
                          "line": {
                            "color": "white"
                          }
                        },
                        "header": {
                          "fill": {
                            "color": "#C8D4E3"
                          },
                          "line": {
                            "color": "white"
                          }
                        },
                        "type": "table"
                      }
                    ]
                  },
                  "layout": {
                    "annotationdefaults": {
                      "arrowcolor": "#2a3f5f",
                      "arrowhead": 0,
                      "arrowwidth": 1
                    },
                    "autotypenumbers": "strict",
                    "coloraxis": {
                      "colorbar": {
                        "outlinewidth": 0,
                        "ticks": ""
                      }
                    },
                    "colorscale": {
                      "diverging": [
                        [
                          0,
                          "#8e0152"
                        ],
                        [
                          0.1,
                          "#c51b7d"
                        ],
                        [
                          0.2,
                          "#de77ae"
                        ],
                        [
                          0.3,
                          "#f1b6da"
                        ],
                        [
                          0.4,
                          "#fde0ef"
                        ],
                        [
                          0.5,
                          "#f7f7f7"
                        ],
                        [
                          0.6,
                          "#e6f5d0"
                        ],
                        [
                          0.7,
                          "#b8e186"
                        ],
                        [
                          0.8,
                          "#7fbc41"
                        ],
                        [
                          0.9,
                          "#4d9221"
                        ],
                        [
                          1,
                          "#276419"
                        ]
                      ],
                      "sequential": [
                        [
                          0,
                          "#0d0887"
                        ],
                        [
                          0.1111111111111111,
                          "#46039f"
                        ],
                        [
                          0.2222222222222222,
                          "#7201a8"
                        ],
                        [
                          0.3333333333333333,
                          "#9c179e"
                        ],
                        [
                          0.4444444444444444,
                          "#bd3786"
                        ],
                        [
                          0.5555555555555556,
                          "#d8576b"
                        ],
                        [
                          0.6666666666666666,
                          "#ed7953"
                        ],
                        [
                          0.7777777777777778,
                          "#fb9f3a"
                        ],
                        [
                          0.8888888888888888,
                          "#fdca26"
                        ],
                        [
                          1,
                          "#f0f921"
                        ]
                      ],
                      "sequentialminus": [
                        [
                          0,
                          "#0d0887"
                        ],
                        [
                          0.1111111111111111,
                          "#46039f"
                        ],
                        [
                          0.2222222222222222,
                          "#7201a8"
                        ],
                        [
                          0.3333333333333333,
                          "#9c179e"
                        ],
                        [
                          0.4444444444444444,
                          "#bd3786"
                        ],
                        [
                          0.5555555555555556,
                          "#d8576b"
                        ],
                        [
                          0.6666666666666666,
                          "#ed7953"
                        ],
                        [
                          0.7777777777777778,
                          "#fb9f3a"
                        ],
                        [
                          0.8888888888888888,
                          "#fdca26"
                        ],
                        [
                          1,
                          "#f0f921"
                        ]
                      ]
                    },
                    "colorway": [
                      "#636efa",
                      "#EF553B",
                      "#00cc96",
                      "#ab63fa",
                      "#FFA15A",
                      "#19d3f3",
                      "#FF6692",
                      "#B6E880",
                      "#FF97FF",
                      "#FECB52"
                    ],
                    "font": {
                      "color": "#2a3f5f"
                    },
                    "geo": {
                      "bgcolor": "white",
                      "lakecolor": "white",
                      "landcolor": "#E5ECF6",
                      "showlakes": true,
                      "showland": true,
                      "subunitcolor": "white"
                    },
                    "hoverlabel": {
                      "align": "left"
                    },
                    "hovermode": "closest",
                    "mapbox": {
                      "style": "light"
                    },
                    "paper_bgcolor": "white",
                    "plot_bgcolor": "#E5ECF6",
                    "polar": {
                      "angularaxis": {
                        "gridcolor": "white",
                        "linecolor": "white",
                        "ticks": ""
                      },
                      "bgcolor": "#E5ECF6",
                      "radialaxis": {
                        "gridcolor": "white",
                        "linecolor": "white",
                        "ticks": ""
                      }
                    },
                    "scene": {
                      "xaxis": {
                        "backgroundcolor": "#E5ECF6",
                        "gridcolor": "white",
                        "gridwidth": 2,
                        "linecolor": "white",
                        "showbackground": true,
                        "ticks": "",
                        "zerolinecolor": "white"
                      },
                      "yaxis": {
                        "backgroundcolor": "#E5ECF6",
                        "gridcolor": "white",
                        "gridwidth": 2,
                        "linecolor": "white",
                        "showbackground": true,
                        "ticks": "",
                        "zerolinecolor": "white"
                      },
                      "zaxis": {
                        "backgroundcolor": "#E5ECF6",
                        "gridcolor": "white",
                        "gridwidth": 2,
                        "linecolor": "white",
                        "showbackground": true,
                        "ticks": "",
                        "zerolinecolor": "white"
                      }
                    },
                    "shapedefaults": {
                      "line": {
                        "color": "#2a3f5f"
                      }
                    },
                    "ternary": {
                      "aaxis": {
                        "gridcolor": "white",
                        "linecolor": "white",
                        "ticks": ""
                      },
                      "baxis": {
                        "gridcolor": "white",
                        "linecolor": "white",
                        "ticks": ""
                      },
                      "bgcolor": "#E5ECF6",
                      "caxis": {
                        "gridcolor": "white",
                        "linecolor": "white",
                        "ticks": ""
                      }
                    },
                    "title": {
                      "x": 0.05
                    },
                    "xaxis": {
                      "automargin": true,
                      "gridcolor": "white",
                      "linecolor": "white",
                      "ticks": "",
                      "title": {
                        "standoff": 15
                      },
                      "zerolinecolor": "white",
                      "zerolinewidth": 2
                    },
                    "yaxis": {
                      "automargin": true,
                      "gridcolor": "white",
                      "linecolor": "white",
                      "ticks": "",
                      "title": {
                        "standoff": 15
                      },
                      "zerolinecolor": "white",
                      "zerolinewidth": 2
                    }
                  }
                },
                "title": {
                  "text": "장바구니 내 상품 수 분포"
                },
                "width": 800,
                "xaxis": {
                  "anchor": "y",
                  "domain": [
                    0,
                    1
                  ],
                  "title": {
                    "text": "상품 수"
                  }
                },
                "yaxis": {
                  "anchor": "x",
                  "domain": [
                    0,
                    1
                  ],
                  "title": {
                    "text": "빈도수"
                  }
                }
              }
            }
          },
          "metadata": {},
          "output_type": "display_data"
        }
      ],
      "source": [
        "# item_count 별 빈도수 계산\n",
        "agg_cnt_df = transaction_by_1d_df.item_count.value_counts().sort_index()\n",
        "\n",
        "\n",
        "fig = px.bar(\n",
        "    x=agg_cnt_df.index,\n",
        "    y=agg_cnt_df.values,\n",
        "    labels={'x': '함께 구매한 상품 수', 'y': '빈도수'},\n",
        "    title='장바구니 내 상품 수 분포'\n",
        ")\n",
        "\n",
        "fig.update_layout(\n",
        "    xaxis_title='상품 수',\n",
        "    yaxis_title='빈도수',\n",
        "    width=800,\n",
        "    height=500\n",
        ")\n",
        "\n",
        "fig.update_traces(\n",
        "    text=agg_cnt_df.values,\n",
        "    textposition='outside'\n",
        ")\n",
        "\n",
        "fig.show()"
      ]
    },
    {
      "cell_type": "markdown",
      "metadata": {},
      "source": [
        "연관규칙용 데이터셋으로 변환"
      ]
    },
    {
      "cell_type": "code",
      "execution_count": 11,
      "metadata": {},
      "outputs": [
        {
          "data": {
            "text/plain": [
              "[['whole milk', 'pastry', 'salty snack'],\n",
              " ['sausage', 'whole milk', 'semi-finished bread', 'yogurt'],\n",
              " ['soda', 'pickled vegetables'],\n",
              " ['canned beer', 'misc. beverages'],\n",
              " ['sausage', 'hygiene articles'],\n",
              " ['sausage', 'whole milk', 'rolls/buns'],\n",
              " ['whole milk', 'soda'],\n",
              " ['frankfurter', 'soda', 'whipped/sour cream'],\n",
              " ['frankfurter', 'curd'],\n",
              " ['beef', 'white bread']]"
            ]
          },
          "execution_count": 11,
          "metadata": {},
          "output_type": "execute_result"
        }
      ],
      "source": [
        "# 샘플 장바구니 데이터 (리스트의 리스트)\n",
        "dataset = transaction_by_1d_df['items'].tolist()\n",
        "dataset[:10]"
      ]
    },
    {
      "cell_type": "code",
      "execution_count": 12,
      "metadata": {},
      "outputs": [
        {
          "data": {
            "text/html": [
              "<div>\n",
              "<style scoped>\n",
              "    .dataframe tbody tr th:only-of-type {\n",
              "        vertical-align: middle;\n",
              "    }\n",
              "\n",
              "    .dataframe tbody tr th {\n",
              "        vertical-align: top;\n",
              "    }\n",
              "\n",
              "    .dataframe thead th {\n",
              "        text-align: right;\n",
              "    }\n",
              "</style>\n",
              "<table border=\"1\" class=\"dataframe\">\n",
              "  <thead>\n",
              "    <tr style=\"text-align: right;\">\n",
              "      <th></th>\n",
              "      <th>Instant food products</th>\n",
              "      <th>UHT-milk</th>\n",
              "      <th>abrasive cleaner</th>\n",
              "      <th>artif. sweetener</th>\n",
              "      <th>baby cosmetics</th>\n",
              "      <th>bags</th>\n",
              "      <th>baking powder</th>\n",
              "      <th>bathroom cleaner</th>\n",
              "      <th>beef</th>\n",
              "      <th>berries</th>\n",
              "      <th>...</th>\n",
              "      <th>turkey</th>\n",
              "      <th>vinegar</th>\n",
              "      <th>waffles</th>\n",
              "      <th>whipped/sour cream</th>\n",
              "      <th>whisky</th>\n",
              "      <th>white bread</th>\n",
              "      <th>white wine</th>\n",
              "      <th>whole milk</th>\n",
              "      <th>yogurt</th>\n",
              "      <th>zwieback</th>\n",
              "    </tr>\n",
              "  </thead>\n",
              "  <tbody>\n",
              "    <tr>\n",
              "      <th>0</th>\n",
              "      <td>False</td>\n",
              "      <td>False</td>\n",
              "      <td>False</td>\n",
              "      <td>False</td>\n",
              "      <td>False</td>\n",
              "      <td>False</td>\n",
              "      <td>False</td>\n",
              "      <td>False</td>\n",
              "      <td>False</td>\n",
              "      <td>False</td>\n",
              "      <td>...</td>\n",
              "      <td>False</td>\n",
              "      <td>False</td>\n",
              "      <td>False</td>\n",
              "      <td>False</td>\n",
              "      <td>False</td>\n",
              "      <td>False</td>\n",
              "      <td>False</td>\n",
              "      <td>True</td>\n",
              "      <td>False</td>\n",
              "      <td>False</td>\n",
              "    </tr>\n",
              "    <tr>\n",
              "      <th>1</th>\n",
              "      <td>False</td>\n",
              "      <td>False</td>\n",
              "      <td>False</td>\n",
              "      <td>False</td>\n",
              "      <td>False</td>\n",
              "      <td>False</td>\n",
              "      <td>False</td>\n",
              "      <td>False</td>\n",
              "      <td>False</td>\n",
              "      <td>False</td>\n",
              "      <td>...</td>\n",
              "      <td>False</td>\n",
              "      <td>False</td>\n",
              "      <td>False</td>\n",
              "      <td>False</td>\n",
              "      <td>False</td>\n",
              "      <td>False</td>\n",
              "      <td>False</td>\n",
              "      <td>True</td>\n",
              "      <td>True</td>\n",
              "      <td>False</td>\n",
              "    </tr>\n",
              "    <tr>\n",
              "      <th>2</th>\n",
              "      <td>False</td>\n",
              "      <td>False</td>\n",
              "      <td>False</td>\n",
              "      <td>False</td>\n",
              "      <td>False</td>\n",
              "      <td>False</td>\n",
              "      <td>False</td>\n",
              "      <td>False</td>\n",
              "      <td>False</td>\n",
              "      <td>False</td>\n",
              "      <td>...</td>\n",
              "      <td>False</td>\n",
              "      <td>False</td>\n",
              "      <td>False</td>\n",
              "      <td>False</td>\n",
              "      <td>False</td>\n",
              "      <td>False</td>\n",
              "      <td>False</td>\n",
              "      <td>False</td>\n",
              "      <td>False</td>\n",
              "      <td>False</td>\n",
              "    </tr>\n",
              "    <tr>\n",
              "      <th>3</th>\n",
              "      <td>False</td>\n",
              "      <td>False</td>\n",
              "      <td>False</td>\n",
              "      <td>False</td>\n",
              "      <td>False</td>\n",
              "      <td>False</td>\n",
              "      <td>False</td>\n",
              "      <td>False</td>\n",
              "      <td>False</td>\n",
              "      <td>False</td>\n",
              "      <td>...</td>\n",
              "      <td>False</td>\n",
              "      <td>False</td>\n",
              "      <td>False</td>\n",
              "      <td>False</td>\n",
              "      <td>False</td>\n",
              "      <td>False</td>\n",
              "      <td>False</td>\n",
              "      <td>False</td>\n",
              "      <td>False</td>\n",
              "      <td>False</td>\n",
              "    </tr>\n",
              "    <tr>\n",
              "      <th>4</th>\n",
              "      <td>False</td>\n",
              "      <td>False</td>\n",
              "      <td>False</td>\n",
              "      <td>False</td>\n",
              "      <td>False</td>\n",
              "      <td>False</td>\n",
              "      <td>False</td>\n",
              "      <td>False</td>\n",
              "      <td>False</td>\n",
              "      <td>False</td>\n",
              "      <td>...</td>\n",
              "      <td>False</td>\n",
              "      <td>False</td>\n",
              "      <td>False</td>\n",
              "      <td>False</td>\n",
              "      <td>False</td>\n",
              "      <td>False</td>\n",
              "      <td>False</td>\n",
              "      <td>False</td>\n",
              "      <td>False</td>\n",
              "      <td>False</td>\n",
              "    </tr>\n",
              "    <tr>\n",
              "      <th>...</th>\n",
              "      <td>...</td>\n",
              "      <td>...</td>\n",
              "      <td>...</td>\n",
              "      <td>...</td>\n",
              "      <td>...</td>\n",
              "      <td>...</td>\n",
              "      <td>...</td>\n",
              "      <td>...</td>\n",
              "      <td>...</td>\n",
              "      <td>...</td>\n",
              "      <td>...</td>\n",
              "      <td>...</td>\n",
              "      <td>...</td>\n",
              "      <td>...</td>\n",
              "      <td>...</td>\n",
              "      <td>...</td>\n",
              "      <td>...</td>\n",
              "      <td>...</td>\n",
              "      <td>...</td>\n",
              "      <td>...</td>\n",
              "      <td>...</td>\n",
              "    </tr>\n",
              "    <tr>\n",
              "      <th>14958</th>\n",
              "      <td>False</td>\n",
              "      <td>False</td>\n",
              "      <td>False</td>\n",
              "      <td>False</td>\n",
              "      <td>False</td>\n",
              "      <td>False</td>\n",
              "      <td>False</td>\n",
              "      <td>False</td>\n",
              "      <td>False</td>\n",
              "      <td>False</td>\n",
              "      <td>...</td>\n",
              "      <td>False</td>\n",
              "      <td>False</td>\n",
              "      <td>False</td>\n",
              "      <td>True</td>\n",
              "      <td>False</td>\n",
              "      <td>False</td>\n",
              "      <td>False</td>\n",
              "      <td>False</td>\n",
              "      <td>False</td>\n",
              "      <td>False</td>\n",
              "    </tr>\n",
              "    <tr>\n",
              "      <th>14959</th>\n",
              "      <td>False</td>\n",
              "      <td>False</td>\n",
              "      <td>False</td>\n",
              "      <td>False</td>\n",
              "      <td>False</td>\n",
              "      <td>False</td>\n",
              "      <td>False</td>\n",
              "      <td>False</td>\n",
              "      <td>False</td>\n",
              "      <td>False</td>\n",
              "      <td>...</td>\n",
              "      <td>False</td>\n",
              "      <td>False</td>\n",
              "      <td>False</td>\n",
              "      <td>False</td>\n",
              "      <td>False</td>\n",
              "      <td>False</td>\n",
              "      <td>False</td>\n",
              "      <td>False</td>\n",
              "      <td>False</td>\n",
              "      <td>False</td>\n",
              "    </tr>\n",
              "    <tr>\n",
              "      <th>14960</th>\n",
              "      <td>False</td>\n",
              "      <td>False</td>\n",
              "      <td>False</td>\n",
              "      <td>False</td>\n",
              "      <td>False</td>\n",
              "      <td>False</td>\n",
              "      <td>False</td>\n",
              "      <td>False</td>\n",
              "      <td>False</td>\n",
              "      <td>False</td>\n",
              "      <td>...</td>\n",
              "      <td>False</td>\n",
              "      <td>False</td>\n",
              "      <td>False</td>\n",
              "      <td>False</td>\n",
              "      <td>False</td>\n",
              "      <td>False</td>\n",
              "      <td>False</td>\n",
              "      <td>False</td>\n",
              "      <td>False</td>\n",
              "      <td>False</td>\n",
              "    </tr>\n",
              "    <tr>\n",
              "      <th>14961</th>\n",
              "      <td>False</td>\n",
              "      <td>False</td>\n",
              "      <td>False</td>\n",
              "      <td>False</td>\n",
              "      <td>False</td>\n",
              "      <td>False</td>\n",
              "      <td>False</td>\n",
              "      <td>False</td>\n",
              "      <td>False</td>\n",
              "      <td>False</td>\n",
              "      <td>...</td>\n",
              "      <td>False</td>\n",
              "      <td>False</td>\n",
              "      <td>False</td>\n",
              "      <td>False</td>\n",
              "      <td>False</td>\n",
              "      <td>False</td>\n",
              "      <td>False</td>\n",
              "      <td>False</td>\n",
              "      <td>False</td>\n",
              "      <td>False</td>\n",
              "    </tr>\n",
              "    <tr>\n",
              "      <th>14962</th>\n",
              "      <td>False</td>\n",
              "      <td>False</td>\n",
              "      <td>False</td>\n",
              "      <td>False</td>\n",
              "      <td>False</td>\n",
              "      <td>False</td>\n",
              "      <td>False</td>\n",
              "      <td>False</td>\n",
              "      <td>False</td>\n",
              "      <td>False</td>\n",
              "      <td>...</td>\n",
              "      <td>False</td>\n",
              "      <td>False</td>\n",
              "      <td>False</td>\n",
              "      <td>False</td>\n",
              "      <td>False</td>\n",
              "      <td>False</td>\n",
              "      <td>False</td>\n",
              "      <td>False</td>\n",
              "      <td>False</td>\n",
              "      <td>False</td>\n",
              "    </tr>\n",
              "  </tbody>\n",
              "</table>\n",
              "<p>14963 rows × 167 columns</p>\n",
              "</div>"
            ],
            "text/plain": [
              "       Instant food products  UHT-milk  abrasive cleaner  artif. sweetener  \\\n",
              "0                      False     False             False             False   \n",
              "1                      False     False             False             False   \n",
              "2                      False     False             False             False   \n",
              "3                      False     False             False             False   \n",
              "4                      False     False             False             False   \n",
              "...                      ...       ...               ...               ...   \n",
              "14958                  False     False             False             False   \n",
              "14959                  False     False             False             False   \n",
              "14960                  False     False             False             False   \n",
              "14961                  False     False             False             False   \n",
              "14962                  False     False             False             False   \n",
              "\n",
              "       baby cosmetics   bags  baking powder  bathroom cleaner   beef  berries  \\\n",
              "0               False  False          False             False  False    False   \n",
              "1               False  False          False             False  False    False   \n",
              "2               False  False          False             False  False    False   \n",
              "3               False  False          False             False  False    False   \n",
              "4               False  False          False             False  False    False   \n",
              "...               ...    ...            ...               ...    ...      ...   \n",
              "14958           False  False          False             False  False    False   \n",
              "14959           False  False          False             False  False    False   \n",
              "14960           False  False          False             False  False    False   \n",
              "14961           False  False          False             False  False    False   \n",
              "14962           False  False          False             False  False    False   \n",
              "\n",
              "       ...  turkey  vinegar  waffles  whipped/sour cream  whisky  white bread  \\\n",
              "0      ...   False    False    False               False   False        False   \n",
              "1      ...   False    False    False               False   False        False   \n",
              "2      ...   False    False    False               False   False        False   \n",
              "3      ...   False    False    False               False   False        False   \n",
              "4      ...   False    False    False               False   False        False   \n",
              "...    ...     ...      ...      ...                 ...     ...          ...   \n",
              "14958  ...   False    False    False                True   False        False   \n",
              "14959  ...   False    False    False               False   False        False   \n",
              "14960  ...   False    False    False               False   False        False   \n",
              "14961  ...   False    False    False               False   False        False   \n",
              "14962  ...   False    False    False               False   False        False   \n",
              "\n",
              "       white wine  whole milk  yogurt  zwieback  \n",
              "0           False        True   False     False  \n",
              "1           False        True    True     False  \n",
              "2           False       False   False     False  \n",
              "3           False       False   False     False  \n",
              "4           False       False   False     False  \n",
              "...           ...         ...     ...       ...  \n",
              "14958       False       False   False     False  \n",
              "14959       False       False   False     False  \n",
              "14960       False       False   False     False  \n",
              "14961       False       False   False     False  \n",
              "14962       False       False   False     False  \n",
              "\n",
              "[14963 rows x 167 columns]"
            ]
          },
          "execution_count": 12,
          "metadata": {},
          "output_type": "execute_result"
        }
      ],
      "source": [
        "# TransactionEncoder 객체 생성 및 학습\n",
        "te = TransactionEncoder()\n",
        "te_ary = te.fit(dataset).transform(dataset)\n",
        "\n",
        "# One-Hot Encoded 배열을 DataFrame으로 변환\n",
        "# 열(Column) 이름은 te.columns_에 저장된 상품 이름으로 설정\n",
        "df = pd.DataFrame(te_ary, columns=te.columns_)\n",
        "df"
      ]
    },
    {
      "cell_type": "markdown",
      "metadata": {
        "id": "t5uMZwUCwNKL"
      },
      "source": [
        "#### 2.2 Apriori 알고리즘으로 빈번한 아이템셋 찾기\n",
        "\n",
        "<u>Apriori 알고리즘</u>은 연관규칙 분석의 핵심 알고리즘입니다. 이 알고리즘의 원리는 간단합니다.\n",
        "\n",
        "> \"만약 `{맥주, 기저귀}`라는 아이템 셋이 드물게 발생한다면(지지도가 낮다면), 그것의 상위 집합인 `{맥주, 기저귀, 땅콩}`은 더 드물게 발생할 것이므로 굳이 탐색할 필요가 없다.\"\n",
        "\n",
        "이처럼 <u>최소 지지도(min\\_support)</u>를 기준으로, 기준을 넘지 못하는 아이템 셋을 가지치기(pruning)하여 탐색의 효율을 높이는 방식입니다.\n",
        "\n",
        "`mlxtend.frequent_patterns`의 `apriori` 함수를 사용하여 빈번한 아이템 셋을 찾아봅시다.\n",
        "\n",
        "**[코드] `apriori` 함수로 빈번 아이템셋 추출**"
      ]
    },
    {
      "cell_type": "code",
      "execution_count": 13,
      "metadata": {
        "id": "APTktZ-uwNKL"
      },
      "outputs": [
        {
          "data": {
            "text/html": [
              "<div>\n",
              "<style scoped>\n",
              "    .dataframe tbody tr th:only-of-type {\n",
              "        vertical-align: middle;\n",
              "    }\n",
              "\n",
              "    .dataframe tbody tr th {\n",
              "        vertical-align: top;\n",
              "    }\n",
              "\n",
              "    .dataframe thead th {\n",
              "        text-align: right;\n",
              "    }\n",
              "</style>\n",
              "<table border=\"1\" class=\"dataframe\">\n",
              "  <thead>\n",
              "    <tr style=\"text-align: right;\">\n",
              "      <th></th>\n",
              "      <th>support</th>\n",
              "      <th>itemsets</th>\n",
              "    </tr>\n",
              "  </thead>\n",
              "  <tbody>\n",
              "    <tr>\n",
              "      <th>0</th>\n",
              "      <td>0.021386</td>\n",
              "      <td>(UHT-milk)</td>\n",
              "    </tr>\n",
              "    <tr>\n",
              "      <th>1</th>\n",
              "      <td>0.008087</td>\n",
              "      <td>(baking powder)</td>\n",
              "    </tr>\n",
              "    <tr>\n",
              "      <th>2</th>\n",
              "      <td>0.033950</td>\n",
              "      <td>(beef)</td>\n",
              "    </tr>\n",
              "    <tr>\n",
              "      <th>3</th>\n",
              "      <td>0.021787</td>\n",
              "      <td>(berries)</td>\n",
              "    </tr>\n",
              "    <tr>\n",
              "      <th>4</th>\n",
              "      <td>0.016574</td>\n",
              "      <td>(beverages)</td>\n",
              "    </tr>\n",
              "    <tr>\n",
              "      <th>...</th>\n",
              "      <td>...</td>\n",
              "      <td>...</td>\n",
              "    </tr>\n",
              "    <tr>\n",
              "      <th>140</th>\n",
              "      <td>0.005814</td>\n",
              "      <td>(soda, yogurt)</td>\n",
              "    </tr>\n",
              "    <tr>\n",
              "      <th>141</th>\n",
              "      <td>0.008220</td>\n",
              "      <td>(whole milk, tropical fruit)</td>\n",
              "    </tr>\n",
              "    <tr>\n",
              "      <th>142</th>\n",
              "      <td>0.005213</td>\n",
              "      <td>(tropical fruit, yogurt)</td>\n",
              "    </tr>\n",
              "    <tr>\n",
              "      <th>143</th>\n",
              "      <td>0.004611</td>\n",
              "      <td>(whipped/sour cream, whole milk)</td>\n",
              "    </tr>\n",
              "    <tr>\n",
              "      <th>144</th>\n",
              "      <td>0.011161</td>\n",
              "      <td>(whole milk, yogurt)</td>\n",
              "    </tr>\n",
              "  </tbody>\n",
              "</table>\n",
              "<p>145 rows × 2 columns</p>\n",
              "</div>"
            ],
            "text/plain": [
              "      support                          itemsets\n",
              "0    0.021386                        (UHT-milk)\n",
              "1    0.008087                   (baking powder)\n",
              "2    0.033950                            (beef)\n",
              "3    0.021787                         (berries)\n",
              "4    0.016574                       (beverages)\n",
              "..        ...                               ...\n",
              "140  0.005814                    (soda, yogurt)\n",
              "141  0.008220      (whole milk, tropical fruit)\n",
              "142  0.005213          (tropical fruit, yogurt)\n",
              "143  0.004611  (whipped/sour cream, whole milk)\n",
              "144  0.011161              (whole milk, yogurt)\n",
              "\n",
              "[145 rows x 2 columns]"
            ]
          },
          "execution_count": 13,
          "metadata": {},
          "output_type": "execute_result"
        }
      ],
      "source": [
        "from mlxtend.frequent_patterns import apriori\n",
        "\n",
        "# min_support=0.0045: 최소 지지도를 0.0045으로 설정\n",
        "# use_colnames=True: 아이템 번호 대신 아이템 이름을 사용\n",
        "frequent_itemsets = apriori(df, min_support=0.0045, use_colnames=True)\n",
        "\n",
        "frequent_itemsets"
      ]
    },
    {
      "cell_type": "markdown",
      "metadata": {
        "id": "u3ytCKSjwNKL"
      },
      "source": [
        "위 코드를 실행하면 지지도가 0.0045 이상인 아이템들의 조합(itemsets)과 각 조합의 지지도(support)가 담긴 DataFrame이 생성됩니다."
      ]
    },
    {
      "cell_type": "markdown",
      "metadata": {},
      "source": [
        "\n",
        "-----"
      ]
    },
    {
      "cell_type": "markdown",
      "metadata": {},
      "source": [
        "\n",
        "**✍️ 연습문제 1: 최소 지지도 변경하기**\n",
        "\n",
        "`apriori` 함수에서 `min_support` 값을 `0.003`로 낮춰서 실행해 보세요. 결과로 나오는 `frequent_itemsets`의 행 개수는 어떻게 변하나요? 그 이유는 무엇일까요?"
      ]
    },
    {
      "cell_type": "code",
      "execution_count": 14,
      "metadata": {
        "id": "PPYX9Qa0wNKL"
      },
      "outputs": [],
      "source": [
        "# [문제 1] 코드를 작성해보세요\n",
        "# frequent_itemsets__prob1 = apriori(?, ?, ?)\n",
        "# print(frequent_itemsets_prob1)"
      ]
    },
    {
      "cell_type": "markdown",
      "metadata": {
        "id": "aZCyzBKpwNKL"
      },
      "source": [
        "-----\n",
        "\n",
        "#### 2.3 연관규칙 생성 및 해석\n",
        "\n",
        "빈번한 아이템 셋을 찾았다면, 이제 이 조합들을 가지고 $A \\rightarrow B$ 형태의 **연관규칙**을 만들 차례입니다. \n",
        "\n",
        "`association_rules` 함수를 사용하면 이 과정을 쉽게 처리할 수 있습니다.\n",
        "\n",
        "**[코드] `association_rules` 함수로 규칙 생성**"
      ]
    },
    {
      "cell_type": "code",
      "execution_count": 15,
      "metadata": {
        "id": "CBixS7KawNKM"
      },
      "outputs": [
        {
          "data": {
            "text/html": [
              "<div>\n",
              "<style scoped>\n",
              "    .dataframe tbody tr th:only-of-type {\n",
              "        vertical-align: middle;\n",
              "    }\n",
              "\n",
              "    .dataframe tbody tr th {\n",
              "        vertical-align: top;\n",
              "    }\n",
              "\n",
              "    .dataframe thead th {\n",
              "        text-align: right;\n",
              "    }\n",
              "</style>\n",
              "<table border=\"1\" class=\"dataframe\">\n",
              "  <thead>\n",
              "    <tr style=\"text-align: right;\">\n",
              "      <th></th>\n",
              "      <th>antecedents</th>\n",
              "      <th>consequents</th>\n",
              "      <th>support</th>\n",
              "      <th>confidence</th>\n",
              "      <th>lift</th>\n",
              "      <th>leverage</th>\n",
              "      <th>conviction</th>\n",
              "    </tr>\n",
              "  </thead>\n",
              "  <tbody>\n",
              "    <tr>\n",
              "      <th>0</th>\n",
              "      <td>(beef)</td>\n",
              "      <td>(whole milk)</td>\n",
              "      <td>0.004678</td>\n",
              "      <td>0.137795</td>\n",
              "      <td>0.872548</td>\n",
              "      <td>-0.000683</td>\n",
              "      <td>0.976656</td>\n",
              "    </tr>\n",
              "    <tr>\n",
              "      <th>1</th>\n",
              "      <td>(whole milk)</td>\n",
              "      <td>(beef)</td>\n",
              "      <td>0.004678</td>\n",
              "      <td>0.029623</td>\n",
              "      <td>0.872548</td>\n",
              "      <td>-0.000683</td>\n",
              "      <td>0.995541</td>\n",
              "    </tr>\n",
              "    <tr>\n",
              "      <th>2</th>\n",
              "      <td>(other vegetables)</td>\n",
              "      <td>(bottled beer)</td>\n",
              "      <td>0.004678</td>\n",
              "      <td>0.038314</td>\n",
              "      <td>0.845568</td>\n",
              "      <td>-0.000854</td>\n",
              "      <td>0.992724</td>\n",
              "    </tr>\n",
              "    <tr>\n",
              "      <th>3</th>\n",
              "      <td>(bottled beer)</td>\n",
              "      <td>(other vegetables)</td>\n",
              "      <td>0.004678</td>\n",
              "      <td>0.103245</td>\n",
              "      <td>0.845568</td>\n",
              "      <td>-0.000854</td>\n",
              "      <td>0.978973</td>\n",
              "    </tr>\n",
              "    <tr>\n",
              "      <th>4</th>\n",
              "      <td>(bottled beer)</td>\n",
              "      <td>(whole milk)</td>\n",
              "      <td>0.007151</td>\n",
              "      <td>0.157817</td>\n",
              "      <td>0.999330</td>\n",
              "      <td>-0.000005</td>\n",
              "      <td>0.999874</td>\n",
              "    </tr>\n",
              "    <tr>\n",
              "      <th>...</th>\n",
              "      <td>...</td>\n",
              "      <td>...</td>\n",
              "      <td>...</td>\n",
              "      <td>...</td>\n",
              "      <td>...</td>\n",
              "      <td>...</td>\n",
              "      <td>...</td>\n",
              "    </tr>\n",
              "    <tr>\n",
              "      <th>95</th>\n",
              "      <td>(yogurt)</td>\n",
              "      <td>(tropical fruit)</td>\n",
              "      <td>0.005213</td>\n",
              "      <td>0.060700</td>\n",
              "      <td>0.895720</td>\n",
              "      <td>-0.000607</td>\n",
              "      <td>0.992477</td>\n",
              "    </tr>\n",
              "    <tr>\n",
              "      <th>96</th>\n",
              "      <td>(whipped/sour cream)</td>\n",
              "      <td>(whole milk)</td>\n",
              "      <td>0.004611</td>\n",
              "      <td>0.105505</td>\n",
              "      <td>0.668077</td>\n",
              "      <td>-0.002291</td>\n",
              "      <td>0.941399</td>\n",
              "    </tr>\n",
              "    <tr>\n",
              "      <th>97</th>\n",
              "      <td>(whole milk)</td>\n",
              "      <td>(whipped/sour cream)</td>\n",
              "      <td>0.004611</td>\n",
              "      <td>0.029200</td>\n",
              "      <td>0.668077</td>\n",
              "      <td>-0.002291</td>\n",
              "      <td>0.985056</td>\n",
              "    </tr>\n",
              "    <tr>\n",
              "      <th>98</th>\n",
              "      <td>(whole milk)</td>\n",
              "      <td>(yogurt)</td>\n",
              "      <td>0.011161</td>\n",
              "      <td>0.070673</td>\n",
              "      <td>0.822940</td>\n",
              "      <td>-0.002401</td>\n",
              "      <td>0.983638</td>\n",
              "    </tr>\n",
              "    <tr>\n",
              "      <th>99</th>\n",
              "      <td>(yogurt)</td>\n",
              "      <td>(whole milk)</td>\n",
              "      <td>0.011161</td>\n",
              "      <td>0.129961</td>\n",
              "      <td>0.822940</td>\n",
              "      <td>-0.002401</td>\n",
              "      <td>0.967861</td>\n",
              "    </tr>\n",
              "  </tbody>\n",
              "</table>\n",
              "<p>100 rows × 7 columns</p>\n",
              "</div>"
            ],
            "text/plain": [
              "             antecedents           consequents   support  confidence  \\\n",
              "0                 (beef)          (whole milk)  0.004678    0.137795   \n",
              "1           (whole milk)                (beef)  0.004678    0.029623   \n",
              "2     (other vegetables)        (bottled beer)  0.004678    0.038314   \n",
              "3         (bottled beer)    (other vegetables)  0.004678    0.103245   \n",
              "4         (bottled beer)          (whole milk)  0.007151    0.157817   \n",
              "..                   ...                   ...       ...         ...   \n",
              "95              (yogurt)      (tropical fruit)  0.005213    0.060700   \n",
              "96  (whipped/sour cream)          (whole milk)  0.004611    0.105505   \n",
              "97          (whole milk)  (whipped/sour cream)  0.004611    0.029200   \n",
              "98          (whole milk)              (yogurt)  0.011161    0.070673   \n",
              "99              (yogurt)          (whole milk)  0.011161    0.129961   \n",
              "\n",
              "        lift  leverage  conviction  \n",
              "0   0.872548 -0.000683    0.976656  \n",
              "1   0.872548 -0.000683    0.995541  \n",
              "2   0.845568 -0.000854    0.992724  \n",
              "3   0.845568 -0.000854    0.978973  \n",
              "4   0.999330 -0.000005    0.999874  \n",
              "..       ...       ...         ...  \n",
              "95  0.895720 -0.000607    0.992477  \n",
              "96  0.668077 -0.002291    0.941399  \n",
              "97  0.668077 -0.002291    0.985056  \n",
              "98  0.822940 -0.002401    0.983638  \n",
              "99  0.822940 -0.002401    0.967861  \n",
              "\n",
              "[100 rows x 7 columns]"
            ]
          },
          "execution_count": 15,
          "metadata": {},
          "output_type": "execute_result"
        }
      ],
      "source": [
        "from mlxtend.frequent_patterns import association_rules\n",
        "\n",
        "# 빈번 아이템셋을 기반으로 연관규칙 생성\n",
        "# metric=\"confidence\": 신뢰도를 기준으로 규칙을 필터링\n",
        "# min_threshold=0.001: 신뢰도가 0.001 이상인 규칙만 생성\n",
        "rules = association_rules(frequent_itemsets, metric=\"confidence\", min_threshold=0.001)\n",
        "\n",
        "# 결과 확인 (frozenset은 변경 불가능한 set 자료형)\n",
        "rules[['antecedents', 'consequents', 'support', 'confidence', 'lift', 'leverage', 'conviction']]"
      ]
    },
    {
      "cell_type": "markdown",
      "metadata": {
        "id": "DHpZXF-EwNKM"
      },
      "source": [
        "결과 DataFrame에는 다음과 같은 유용한 정보들이 포함됩니다.\n",
        "\n",
        "  * `antecedents`: 조건절 (A)\n",
        "  * `consequents`: 결과절 (B)\n",
        "  * `antecedent support`: A의 지지도\n",
        "  * `consequent support`: B의 지지도\n",
        "  * `support`: A와 B가 함께 발생할 지지도\n",
        "  * `confidence`: 규칙의 신뢰도\n",
        "  * `lift`: 규칙의 향상도\n",
        "  * `leverage`, `conviction`: 추가적인 평가지표\n",
        "\n",
        "-----"
      ]
    },
    {
      "cell_type": "code",
      "execution_count": 16,
      "metadata": {},
      "outputs": [
        {
          "data": {
            "text/html": [
              "<div>\n",
              "<style scoped>\n",
              "    .dataframe tbody tr th:only-of-type {\n",
              "        vertical-align: middle;\n",
              "    }\n",
              "\n",
              "    .dataframe tbody tr th {\n",
              "        vertical-align: top;\n",
              "    }\n",
              "\n",
              "    .dataframe thead th {\n",
              "        text-align: right;\n",
              "    }\n",
              "</style>\n",
              "<table border=\"1\" class=\"dataframe\">\n",
              "  <thead>\n",
              "    <tr style=\"text-align: right;\">\n",
              "      <th></th>\n",
              "      <th>support</th>\n",
              "      <th>confidence</th>\n",
              "      <th>lift</th>\n",
              "    </tr>\n",
              "  </thead>\n",
              "  <tbody>\n",
              "    <tr>\n",
              "      <th>count</th>\n",
              "      <td>100.000000</td>\n",
              "      <td>100.000000</td>\n",
              "      <td>100.000000</td>\n",
              "    </tr>\n",
              "    <tr>\n",
              "      <th>mean</th>\n",
              "      <td>0.006586</td>\n",
              "      <td>0.079516</td>\n",
              "      <td>0.830220</td>\n",
              "    </tr>\n",
              "    <tr>\n",
              "      <th>std</th>\n",
              "      <td>0.002362</td>\n",
              "      <td>0.034700</td>\n",
              "      <td>0.099863</td>\n",
              "    </tr>\n",
              "    <tr>\n",
              "      <th>min</th>\n",
              "      <td>0.004611</td>\n",
              "      <td>0.029200</td>\n",
              "      <td>0.621522</td>\n",
              "    </tr>\n",
              "    <tr>\n",
              "      <th>25%</th>\n",
              "      <td>0.004946</td>\n",
              "      <td>0.047186</td>\n",
              "      <td>0.768108</td>\n",
              "    </tr>\n",
              "    <tr>\n",
              "      <th>50%</th>\n",
              "      <td>0.005748</td>\n",
              "      <td>0.077008</td>\n",
              "      <td>0.816942</td>\n",
              "    </tr>\n",
              "    <tr>\n",
              "      <th>75%</th>\n",
              "      <td>0.007151</td>\n",
              "      <td>0.100817</td>\n",
              "      <td>0.872548</td>\n",
              "    </tr>\n",
              "    <tr>\n",
              "      <th>max</th>\n",
              "      <td>0.014837</td>\n",
              "      <td>0.157817</td>\n",
              "      <td>1.116150</td>\n",
              "    </tr>\n",
              "  </tbody>\n",
              "</table>\n",
              "</div>"
            ],
            "text/plain": [
              "          support  confidence        lift\n",
              "count  100.000000  100.000000  100.000000\n",
              "mean     0.006586    0.079516    0.830220\n",
              "std      0.002362    0.034700    0.099863\n",
              "min      0.004611    0.029200    0.621522\n",
              "25%      0.004946    0.047186    0.768108\n",
              "50%      0.005748    0.077008    0.816942\n",
              "75%      0.007151    0.100817    0.872548\n",
              "max      0.014837    0.157817    1.116150"
            ]
          },
          "execution_count": 16,
          "metadata": {},
          "output_type": "execute_result"
        }
      ],
      "source": [
        "rules[['antecedents', 'consequents', 'support', 'confidence', 'lift']].describe()"
      ]
    },
    {
      "cell_type": "markdown",
      "metadata": {},
      "source": [
        "**✍️ 연습문제 2: 의미 있는 규칙 필터링하기**\n",
        " \n",
        "위에서 생성된 `rules` DataFrame에서 **향상도(lift)가 0.9보다 크고, 신뢰도(confidence)가 0.1보다 큰** 규칙들만 필터링하여 출력해보세요."
      ]
    },
    {
      "cell_type": "code",
      "execution_count": null,
      "metadata": {
        "id": "QF2lqbcewNKM"
      },
      "outputs": [],
      "source": [
        "# [문제 2] 코드를 작성해보세요\n",
        "# filtered_rules = rules[(? > 0.9) & (? > 0.1)]\n",
        "# print(filtered_rules[['antecedents', 'consequents', 'support', 'confidence', 'lift']])"
      ]
    },
    {
      "cell_type": "markdown",
      "metadata": {
        "id": "GNyHAM-nwNKM"
      },
      "source": [
        "-----\n",
        "\n",
        "#### 2.4 결과 시각화 및 인사이트 도출\n",
        "\n",
        "수많은 규칙들을 테이블로만 보는 것은 비효율적입니다. `Plotly Express`를 사용해 규칙들을 시각화하면 한눈에 관계를 파악하고 인사이트를 얻기 용이합니다.\n",
        "\n",
        "**Scatter Plot**을 이용해 지지도(Support), 신뢰도(Confidence), 향상도(Lift)를 동시에 표현해 보겠습니다.\n",
        "\n",
        "**[코드] Plotly Express로 연관규칙 시각화**"
      ]
    },
    {
      "cell_type": "code",
      "execution_count": null,
      "metadata": {
        "id": "pOhZ0OwUwNKM"
      },
      "outputs": [
        {
          "data": {
            "application/vnd.plotly.v1+json": {
              "config": {
                "plotlyServerURL": "https://plot.ly"
              },
              "data": [
                {
                  "customdata": [
                    [
                      "beef",
                      "whole milk"
                    ],
                    [
                      "whole milk",
                      "beef"
                    ],
                    [
                      "other vegetables",
                      "bottled beer"
                    ],
                    [
                      "bottled beer",
                      "other vegetables"
                    ],
                    [
                      "bottled beer",
                      "whole milk"
                    ],
                    [
                      "whole milk",
                      "bottled beer"
                    ],
                    [
                      "other vegetables",
                      "bottled water"
                    ],
                    [
                      "bottled water",
                      "other vegetables"
                    ],
                    [
                      "bottled water",
                      "rolls/buns"
                    ],
                    [
                      "rolls/buns",
                      "bottled water"
                    ],
                    [
                      "bottled water",
                      "soda"
                    ],
                    [
                      "soda",
                      "bottled water"
                    ],
                    [
                      "bottled water",
                      "whole milk"
                    ],
                    [
                      "whole milk",
                      "bottled water"
                    ],
                    [
                      "whole milk",
                      "butter"
                    ],
                    [
                      "butter",
                      "whole milk"
                    ],
                    [
                      "whole milk",
                      "canned beer"
                    ],
                    [
                      "canned beer",
                      "whole milk"
                    ],
                    [
                      "other vegetables",
                      "citrus fruit"
                    ],
                    [
                      "citrus fruit",
                      "other vegetables"
                    ],
                    [
                      "citrus fruit",
                      "rolls/buns"
                    ],
                    [
                      "rolls/buns",
                      "citrus fruit"
                    ],
                    [
                      "whole milk",
                      "citrus fruit"
                    ],
                    [
                      "citrus fruit",
                      "whole milk"
                    ],
                    [
                      "citrus fruit",
                      "yogurt"
                    ],
                    [
                      "yogurt",
                      "citrus fruit"
                    ],
                    [
                      "whole milk",
                      "domestic eggs"
                    ],
                    [
                      "domestic eggs",
                      "whole milk"
                    ],
                    [
                      "other vegetables",
                      "frankfurter"
                    ],
                    [
                      "frankfurter",
                      "other vegetables"
                    ],
                    [
                      "frankfurter",
                      "whole milk"
                    ],
                    [
                      "whole milk",
                      "frankfurter"
                    ],
                    [
                      "whole milk",
                      "newspapers"
                    ],
                    [
                      "newspapers",
                      "whole milk"
                    ],
                    [
                      "other vegetables",
                      "pip fruit"
                    ],
                    [
                      "pip fruit",
                      "other vegetables"
                    ],
                    [
                      "other vegetables",
                      "rolls/buns"
                    ],
                    [
                      "rolls/buns",
                      "other vegetables"
                    ],
                    [
                      "other vegetables",
                      "root vegetables"
                    ],
                    [
                      "root vegetables",
                      "other vegetables"
                    ],
                    [
                      "other vegetables",
                      "sausage"
                    ],
                    [
                      "sausage",
                      "other vegetables"
                    ],
                    [
                      "other vegetables",
                      "shopping bags"
                    ],
                    [
                      "shopping bags",
                      "other vegetables"
                    ],
                    [
                      "other vegetables",
                      "soda"
                    ],
                    [
                      "soda",
                      "other vegetables"
                    ],
                    [
                      "other vegetables",
                      "tropical fruit"
                    ],
                    [
                      "tropical fruit",
                      "other vegetables"
                    ],
                    [
                      "other vegetables",
                      "whole milk"
                    ],
                    [
                      "whole milk",
                      "other vegetables"
                    ],
                    [
                      "other vegetables",
                      "yogurt"
                    ],
                    [
                      "yogurt",
                      "other vegetables"
                    ],
                    [
                      "whole milk",
                      "pastry"
                    ],
                    [
                      "pastry",
                      "whole milk"
                    ],
                    [
                      "pip fruit",
                      "rolls/buns"
                    ],
                    [
                      "rolls/buns",
                      "pip fruit"
                    ],
                    [
                      "whole milk",
                      "pip fruit"
                    ],
                    [
                      "pip fruit",
                      "whole milk"
                    ],
                    [
                      "whole milk",
                      "pork"
                    ],
                    [
                      "pork",
                      "whole milk"
                    ],
                    [
                      "root vegetables",
                      "rolls/buns"
                    ],
                    [
                      "rolls/buns",
                      "root vegetables"
                    ],
                    [
                      "sausage",
                      "rolls/buns"
                    ],
                    [
                      "rolls/buns",
                      "sausage"
                    ],
                    [
                      "rolls/buns",
                      "shopping bags"
                    ],
                    [
                      "shopping bags",
                      "rolls/buns"
                    ],
                    [
                      "soda",
                      "rolls/buns"
                    ],
                    [
                      "rolls/buns",
                      "soda"
                    ],
                    [
                      "tropical fruit",
                      "rolls/buns"
                    ],
                    [
                      "rolls/buns",
                      "tropical fruit"
                    ],
                    [
                      "whole milk",
                      "rolls/buns"
                    ],
                    [
                      "rolls/buns",
                      "whole milk"
                    ],
                    [
                      "rolls/buns",
                      "yogurt"
                    ],
                    [
                      "yogurt",
                      "rolls/buns"
                    ],
                    [
                      "soda",
                      "root vegetables"
                    ],
                    [
                      "root vegetables",
                      "soda"
                    ],
                    [
                      "whole milk",
                      "root vegetables"
                    ],
                    [
                      "root vegetables",
                      "whole milk"
                    ],
                    [
                      "soda",
                      "sausage"
                    ],
                    [
                      "sausage",
                      "soda"
                    ],
                    [
                      "whole milk",
                      "sausage"
                    ],
                    [
                      "sausage",
                      "whole milk"
                    ],
                    [
                      "sausage",
                      "yogurt"
                    ],
                    [
                      "yogurt",
                      "sausage"
                    ],
                    [
                      "whole milk",
                      "shopping bags"
                    ],
                    [
                      "shopping bags",
                      "whole milk"
                    ],
                    [
                      "soda",
                      "tropical fruit"
                    ],
                    [
                      "tropical fruit",
                      "soda"
                    ],
                    [
                      "soda",
                      "whole milk"
                    ],
                    [
                      "whole milk",
                      "soda"
                    ],
                    [
                      "soda",
                      "yogurt"
                    ],
                    [
                      "yogurt",
                      "soda"
                    ],
                    [
                      "whole milk",
                      "tropical fruit"
                    ],
                    [
                      "tropical fruit",
                      "whole milk"
                    ],
                    [
                      "tropical fruit",
                      "yogurt"
                    ],
                    [
                      "yogurt",
                      "tropical fruit"
                    ],
                    [
                      "whipped/sour cream",
                      "whole milk"
                    ],
                    [
                      "whole milk",
                      "whipped/sour cream"
                    ],
                    [
                      "whole milk",
                      "yogurt"
                    ],
                    [
                      "yogurt",
                      "whole milk"
                    ]
                  ],
                  "hovertemplate": "support=%{x}<br>confidence=%{y}<br>antecedents_str=%{customdata[0]}<br>consequents_str=%{customdata[1]}<br>lift=%{marker.color}<extra></extra>",
                  "legendgroup": "",
                  "marker": {
                    "color": {
                      "bdata": "S16Zl+nr6z9KXpmX6evrP2G1IlzkDus/YbUiXOQO6z+7vwR0g/rvP7u/BHSD+u8/vFgNuvWq5z+8WA269arnP3OGZZ4LbeY/c4Zlngtt5j9o7zw1cCHqP2fvPDVwIeo/CY5tUNbg5z8Jjm1Q1uDnP08IWjU16uo/TwhaNTXq6j9deyhPcPrpP1x7KE9w+uk/7IcITj+85z/thwhOP7znP0KP1HQRnek/Qo/UdBGd6T9twiiytEXrP23CKLK0Res/IVXtWpcr8D8hVe1alyvwP1NWO83I1+w/U1Y7zcjX7D9QEXOtv9vxP1ERc62/2/E//00YEhlV7D8AThgSGVXsP+oZLrniPu0/6xkuueI+7T90bUWBCGzqP3RtRYEIbOo/nyYAgiso6T+eJgCCKyjpP0zw+w6C4+M/TPD7DoLj4z8CcTlp5h7qPwJxOWnmHuo/LeOLxAg96z8t44vECD3rP/B8gFhWJ+o/73yAWFYn6j+fIy5+kEvoP58jLn6QS+g/7ObUpiyf6D/r5tSmLJ/oP/3imU6areg//eKZTpqt6D/ka9TG7mTpP+Rr1MbuZOk/j398j9RT7T+Of3yP1FPtPwzKWiyNVOs/DMpaLI1U6z+88GgA7GHrP7zwaADsYes/TQEX7iQI6D9NARfuJAjoPyfISVOGxek/J8hJU4bF6T81WROgCQLtPzVZE6AJAu0/aDBekYY56D9oMF6RhjnoPxnNTmgqG+o/Gc1OaCob6j9D4pHYmbrpP0PikdiZuuk/Ug/jNX986j9SD+M1f3zqP1YD1fMNAuk/VgPV8w0C6T8vM4ch1f7lPy8zhyHV/uU/oXndW1Y98D+hed1bVj3wP3YblpO3Ee4/dxuWk7cR7j+xUNaZaL7xP7FQ1plovvE/+0OeNVAJ6z/7Q541UAnrP4aum5nqUuo/hq6bmepS6j898VhT9UPoPz3xWFP1Q+g/lLEaIZ5P5j+UsRohnk/mP42/yZFWlOg/jb/JkVaU6D++qbypvKnsP76pvKm8qew/a9t5S+Jg5T9s23lL4mDlP8WvB8SGVeo/xa8HxIZV6j8=",
                      "dtype": "f8"
                    },
                    "coloraxis": "coloraxis",
                    "symbol": "circle"
                  },
                  "mode": "markers",
                  "name": "",
                  "orientation": "v",
                  "showlegend": false,
                  "type": "scatter",
                  "x": {
                    "bdata": "qogEbXQpcz+qiARtdClzP6qIBG10KXM/qogEbXQpcz/gW2KJVkp9P+BbYolWSn0/7OEp0GNydj/s4SnQY3J2P6qIBG10KXM/qogEbXQpcz+LF+BSnLVzP4sX4FKctXM/4FtiiVZKfT/gW2KJVkp9P6qIBG10KXM/qogEbXQpcz9tHZhnA6N4P20dmGcDo3g/ixfgUpy1cz+LF+BSnLVzP6qIBG10KXM/qogEbXQpcz/gW2KJVkp9P+BbYolWSn0/OsEWemDjcj86wRZ6YONyP5yLYPcnoHU/nItg9yegdT+7/IQRABR1P7v8hBEAFHU/nItg9yegdT+ci2D3J6B1P8xwBbaL/nY/zHAFtov+dj9rprs4xEF0P2umuzjEQXQ/nItg9yeghT+ci2D3J6CFP5yLYPcnoHU/nItg9yegdT9tHZhnA6N4P20dmGcDo3g/a6a7OMRBdD9rprs4xEF0P0P7Vkym2IM/Q/tWTKbYgz8uO08zU7t5Py47TzNTu3k/oHkZVaZijj+geRlVpmKOPwGiMem2j4A/AaIx6baPgD9+kRgMj416P36RGAyPjXo/a6a7OMRBdD9rprs4xEF0P18g9PG2GXs/XyD08bYZez/bbakr2Id0P9ttqSvYh3Q/rf/gm7OKdz+t/+Cbs4p3PwxTTuo75nU/DFNO6jvmdT8bUPJfiG9zPxtQ8l+Ib3M/AaIx6baPgD8BojHpto+AP97khVoX6Xg/3uSFWhfpeD9I6Q+qJJuMP0jpD6okm4w/IRNWA48DgD8hE1YDjwOAP5yLYPcnoHU/nItg9yegdT+BCPU6zu5+P4EI9TrO7n4//VWqdO9ceD/9Vap071x4P1oyO5Q4V4I/WjI7lDhXgj+t/+Cbs4p3P63/4Juzinc/ngI9JmcBej+eAj0mZwF6P3waPN1PLHY/fBo83U8sdj8dx86Ox9CHPx3Hzo7H0Ic/HcfOjsfQdz8dx86Ox9B3P3FpH9zK1YA/cWkf3MrVgD8sxHIEFFp1PyzEcgQUWnU/OsEWemDjcj86wRZ6YONyPxSNjryB24Y/FI2OvIHbhj8=",
                    "dtype": "f8"
                  },
                  "xaxis": "x",
                  "y": {
                    "bdata": "aTQajUajwT8XxOoLllWeP1GJ5GvqnaM/DuSm8UBuuj+eNUPdWTPEPwRfiWQgL6c/kg6Ix9D6pj8V7+QHcx63P+x6kbVVvLM/acJptCTGpT/0uPTtr0y0P7EuswP3Xqk/ana9yNoqvj8EX4lkIC+nPxfE6guWVZ4/ABFTW3wAwT99WfKZKYCjP5AGaZAGacA/hx/VJWYtpD+CKjT6VS+3P+EMCCV3irY/acJptCTGpT8EX4lkIC+nP3kYXMZIOsE/Ef5xugc4tj8bfht+G36rP8w3J2ICHqE/hSOZHEY4wj8Ml652G5SlP6QbFzm6ccE/h1seabjlwT/MNydiAh6hP6d1JgdaM6I/EpmG7WZ5wj+8tcXf4bykP0yODPIrz7k/Qy2fMJcjtj+NpAmn0ZK4P0MtnzCXI6Y/BUqj6G5tsz9oZ0qvvzipP2CGKsbTg7k/vLXF3+G8pD+qTW1qU5u6PxVFURRFUbQ/PW1knhGMuT/Ukysjt1eqP44Fz1JUu7c/mpCoz1Ibvz/m9rsbAA24P9O/rbhe9LA/GBsYGxgbuD9L44oacQSlPwNUq3+VCsA/TI4M8ivPuT/OX5R1qgSnPz0vJPZgc6U/utsLgalDwT/on/SqIkCgP8IU+awbTME/4uh9AB4mtT/+NxS5O8CqP6sFtJMRrrY/5ktUF3PiqD/DabQkxhWmP5nDHOYwh7k/H5DGHZNRtT+ZjKQJp9GyP5hv+ZZv+bY/vXyJ6mJOrD8WwAmSdKS2P/mnPCuzQMA/5z0PKWQysj8YTxdPF0+3P1iaZHlr1qs/BUqj6G5tsz/ZQlX373uoPxEpye7lybs/RX09j39crz9ORrhaQDu5P0PgHnnGCK0/wMTmHpX+wj8YhmEYhmG4PxEiESIRIrE/WZfxPoGVpD8RilCEIhTBP4eUKeTViqw/C9GGzx9ztD8Wg3gkFai+P5JnjNDB2bI/FoN4JBWorj8RVRFVEVWxP5G+U0Gfpqo/jAQ1FaINvz8VO7ETO7GzPyAUHxQfFK8/JbBpP1kCuz8meFEwpuadP6siQBCeF7I/kKKQopCiwD8=",
                    "dtype": "f8"
                  },
                  "yaxis": "y"
                }
              ],
              "layout": {
                "coloraxis": {
                  "colorbar": {
                    "title": {
                      "text": "lift"
                    }
                  },
                  "colorscale": [
                    [
                      0,
                      "#0d0887"
                    ],
                    [
                      0.1111111111111111,
                      "#46039f"
                    ],
                    [
                      0.2222222222222222,
                      "#7201a8"
                    ],
                    [
                      0.3333333333333333,
                      "#9c179e"
                    ],
                    [
                      0.4444444444444444,
                      "#bd3786"
                    ],
                    [
                      0.5555555555555556,
                      "#d8576b"
                    ],
                    [
                      0.6666666666666666,
                      "#ed7953"
                    ],
                    [
                      0.7777777777777778,
                      "#fb9f3a"
                    ],
                    [
                      0.8888888888888888,
                      "#fdca26"
                    ],
                    [
                      1,
                      "#f0f921"
                    ]
                  ]
                },
                "legend": {
                  "tracegroupgap": 0
                },
                "template": {
                  "data": {
                    "bar": [
                      {
                        "error_x": {
                          "color": "#2a3f5f"
                        },
                        "error_y": {
                          "color": "#2a3f5f"
                        },
                        "marker": {
                          "line": {
                            "color": "#E5ECF6",
                            "width": 0.5
                          },
                          "pattern": {
                            "fillmode": "overlay",
                            "size": 10,
                            "solidity": 0.2
                          }
                        },
                        "type": "bar"
                      }
                    ],
                    "barpolar": [
                      {
                        "marker": {
                          "line": {
                            "color": "#E5ECF6",
                            "width": 0.5
                          },
                          "pattern": {
                            "fillmode": "overlay",
                            "size": 10,
                            "solidity": 0.2
                          }
                        },
                        "type": "barpolar"
                      }
                    ],
                    "carpet": [
                      {
                        "aaxis": {
                          "endlinecolor": "#2a3f5f",
                          "gridcolor": "white",
                          "linecolor": "white",
                          "minorgridcolor": "white",
                          "startlinecolor": "#2a3f5f"
                        },
                        "baxis": {
                          "endlinecolor": "#2a3f5f",
                          "gridcolor": "white",
                          "linecolor": "white",
                          "minorgridcolor": "white",
                          "startlinecolor": "#2a3f5f"
                        },
                        "type": "carpet"
                      }
                    ],
                    "choropleth": [
                      {
                        "colorbar": {
                          "outlinewidth": 0,
                          "ticks": ""
                        },
                        "type": "choropleth"
                      }
                    ],
                    "contour": [
                      {
                        "colorbar": {
                          "outlinewidth": 0,
                          "ticks": ""
                        },
                        "colorscale": [
                          [
                            0,
                            "#0d0887"
                          ],
                          [
                            0.1111111111111111,
                            "#46039f"
                          ],
                          [
                            0.2222222222222222,
                            "#7201a8"
                          ],
                          [
                            0.3333333333333333,
                            "#9c179e"
                          ],
                          [
                            0.4444444444444444,
                            "#bd3786"
                          ],
                          [
                            0.5555555555555556,
                            "#d8576b"
                          ],
                          [
                            0.6666666666666666,
                            "#ed7953"
                          ],
                          [
                            0.7777777777777778,
                            "#fb9f3a"
                          ],
                          [
                            0.8888888888888888,
                            "#fdca26"
                          ],
                          [
                            1,
                            "#f0f921"
                          ]
                        ],
                        "type": "contour"
                      }
                    ],
                    "contourcarpet": [
                      {
                        "colorbar": {
                          "outlinewidth": 0,
                          "ticks": ""
                        },
                        "type": "contourcarpet"
                      }
                    ],
                    "heatmap": [
                      {
                        "colorbar": {
                          "outlinewidth": 0,
                          "ticks": ""
                        },
                        "colorscale": [
                          [
                            0,
                            "#0d0887"
                          ],
                          [
                            0.1111111111111111,
                            "#46039f"
                          ],
                          [
                            0.2222222222222222,
                            "#7201a8"
                          ],
                          [
                            0.3333333333333333,
                            "#9c179e"
                          ],
                          [
                            0.4444444444444444,
                            "#bd3786"
                          ],
                          [
                            0.5555555555555556,
                            "#d8576b"
                          ],
                          [
                            0.6666666666666666,
                            "#ed7953"
                          ],
                          [
                            0.7777777777777778,
                            "#fb9f3a"
                          ],
                          [
                            0.8888888888888888,
                            "#fdca26"
                          ],
                          [
                            1,
                            "#f0f921"
                          ]
                        ],
                        "type": "heatmap"
                      }
                    ],
                    "histogram": [
                      {
                        "marker": {
                          "pattern": {
                            "fillmode": "overlay",
                            "size": 10,
                            "solidity": 0.2
                          }
                        },
                        "type": "histogram"
                      }
                    ],
                    "histogram2d": [
                      {
                        "colorbar": {
                          "outlinewidth": 0,
                          "ticks": ""
                        },
                        "colorscale": [
                          [
                            0,
                            "#0d0887"
                          ],
                          [
                            0.1111111111111111,
                            "#46039f"
                          ],
                          [
                            0.2222222222222222,
                            "#7201a8"
                          ],
                          [
                            0.3333333333333333,
                            "#9c179e"
                          ],
                          [
                            0.4444444444444444,
                            "#bd3786"
                          ],
                          [
                            0.5555555555555556,
                            "#d8576b"
                          ],
                          [
                            0.6666666666666666,
                            "#ed7953"
                          ],
                          [
                            0.7777777777777778,
                            "#fb9f3a"
                          ],
                          [
                            0.8888888888888888,
                            "#fdca26"
                          ],
                          [
                            1,
                            "#f0f921"
                          ]
                        ],
                        "type": "histogram2d"
                      }
                    ],
                    "histogram2dcontour": [
                      {
                        "colorbar": {
                          "outlinewidth": 0,
                          "ticks": ""
                        },
                        "colorscale": [
                          [
                            0,
                            "#0d0887"
                          ],
                          [
                            0.1111111111111111,
                            "#46039f"
                          ],
                          [
                            0.2222222222222222,
                            "#7201a8"
                          ],
                          [
                            0.3333333333333333,
                            "#9c179e"
                          ],
                          [
                            0.4444444444444444,
                            "#bd3786"
                          ],
                          [
                            0.5555555555555556,
                            "#d8576b"
                          ],
                          [
                            0.6666666666666666,
                            "#ed7953"
                          ],
                          [
                            0.7777777777777778,
                            "#fb9f3a"
                          ],
                          [
                            0.8888888888888888,
                            "#fdca26"
                          ],
                          [
                            1,
                            "#f0f921"
                          ]
                        ],
                        "type": "histogram2dcontour"
                      }
                    ],
                    "mesh3d": [
                      {
                        "colorbar": {
                          "outlinewidth": 0,
                          "ticks": ""
                        },
                        "type": "mesh3d"
                      }
                    ],
                    "parcoords": [
                      {
                        "line": {
                          "colorbar": {
                            "outlinewidth": 0,
                            "ticks": ""
                          }
                        },
                        "type": "parcoords"
                      }
                    ],
                    "pie": [
                      {
                        "automargin": true,
                        "type": "pie"
                      }
                    ],
                    "scatter": [
                      {
                        "fillpattern": {
                          "fillmode": "overlay",
                          "size": 10,
                          "solidity": 0.2
                        },
                        "type": "scatter"
                      }
                    ],
                    "scatter3d": [
                      {
                        "line": {
                          "colorbar": {
                            "outlinewidth": 0,
                            "ticks": ""
                          }
                        },
                        "marker": {
                          "colorbar": {
                            "outlinewidth": 0,
                            "ticks": ""
                          }
                        },
                        "type": "scatter3d"
                      }
                    ],
                    "scattercarpet": [
                      {
                        "marker": {
                          "colorbar": {
                            "outlinewidth": 0,
                            "ticks": ""
                          }
                        },
                        "type": "scattercarpet"
                      }
                    ],
                    "scattergeo": [
                      {
                        "marker": {
                          "colorbar": {
                            "outlinewidth": 0,
                            "ticks": ""
                          }
                        },
                        "type": "scattergeo"
                      }
                    ],
                    "scattergl": [
                      {
                        "marker": {
                          "colorbar": {
                            "outlinewidth": 0,
                            "ticks": ""
                          }
                        },
                        "type": "scattergl"
                      }
                    ],
                    "scattermap": [
                      {
                        "marker": {
                          "colorbar": {
                            "outlinewidth": 0,
                            "ticks": ""
                          }
                        },
                        "type": "scattermap"
                      }
                    ],
                    "scattermapbox": [
                      {
                        "marker": {
                          "colorbar": {
                            "outlinewidth": 0,
                            "ticks": ""
                          }
                        },
                        "type": "scattermapbox"
                      }
                    ],
                    "scatterpolar": [
                      {
                        "marker": {
                          "colorbar": {
                            "outlinewidth": 0,
                            "ticks": ""
                          }
                        },
                        "type": "scatterpolar"
                      }
                    ],
                    "scatterpolargl": [
                      {
                        "marker": {
                          "colorbar": {
                            "outlinewidth": 0,
                            "ticks": ""
                          }
                        },
                        "type": "scatterpolargl"
                      }
                    ],
                    "scatterternary": [
                      {
                        "marker": {
                          "colorbar": {
                            "outlinewidth": 0,
                            "ticks": ""
                          }
                        },
                        "type": "scatterternary"
                      }
                    ],
                    "surface": [
                      {
                        "colorbar": {
                          "outlinewidth": 0,
                          "ticks": ""
                        },
                        "colorscale": [
                          [
                            0,
                            "#0d0887"
                          ],
                          [
                            0.1111111111111111,
                            "#46039f"
                          ],
                          [
                            0.2222222222222222,
                            "#7201a8"
                          ],
                          [
                            0.3333333333333333,
                            "#9c179e"
                          ],
                          [
                            0.4444444444444444,
                            "#bd3786"
                          ],
                          [
                            0.5555555555555556,
                            "#d8576b"
                          ],
                          [
                            0.6666666666666666,
                            "#ed7953"
                          ],
                          [
                            0.7777777777777778,
                            "#fb9f3a"
                          ],
                          [
                            0.8888888888888888,
                            "#fdca26"
                          ],
                          [
                            1,
                            "#f0f921"
                          ]
                        ],
                        "type": "surface"
                      }
                    ],
                    "table": [
                      {
                        "cells": {
                          "fill": {
                            "color": "#EBF0F8"
                          },
                          "line": {
                            "color": "white"
                          }
                        },
                        "header": {
                          "fill": {
                            "color": "#C8D4E3"
                          },
                          "line": {
                            "color": "white"
                          }
                        },
                        "type": "table"
                      }
                    ]
                  },
                  "layout": {
                    "annotationdefaults": {
                      "arrowcolor": "#2a3f5f",
                      "arrowhead": 0,
                      "arrowwidth": 1
                    },
                    "autotypenumbers": "strict",
                    "coloraxis": {
                      "colorbar": {
                        "outlinewidth": 0,
                        "ticks": ""
                      }
                    },
                    "colorscale": {
                      "diverging": [
                        [
                          0,
                          "#8e0152"
                        ],
                        [
                          0.1,
                          "#c51b7d"
                        ],
                        [
                          0.2,
                          "#de77ae"
                        ],
                        [
                          0.3,
                          "#f1b6da"
                        ],
                        [
                          0.4,
                          "#fde0ef"
                        ],
                        [
                          0.5,
                          "#f7f7f7"
                        ],
                        [
                          0.6,
                          "#e6f5d0"
                        ],
                        [
                          0.7,
                          "#b8e186"
                        ],
                        [
                          0.8,
                          "#7fbc41"
                        ],
                        [
                          0.9,
                          "#4d9221"
                        ],
                        [
                          1,
                          "#276419"
                        ]
                      ],
                      "sequential": [
                        [
                          0,
                          "#0d0887"
                        ],
                        [
                          0.1111111111111111,
                          "#46039f"
                        ],
                        [
                          0.2222222222222222,
                          "#7201a8"
                        ],
                        [
                          0.3333333333333333,
                          "#9c179e"
                        ],
                        [
                          0.4444444444444444,
                          "#bd3786"
                        ],
                        [
                          0.5555555555555556,
                          "#d8576b"
                        ],
                        [
                          0.6666666666666666,
                          "#ed7953"
                        ],
                        [
                          0.7777777777777778,
                          "#fb9f3a"
                        ],
                        [
                          0.8888888888888888,
                          "#fdca26"
                        ],
                        [
                          1,
                          "#f0f921"
                        ]
                      ],
                      "sequentialminus": [
                        [
                          0,
                          "#0d0887"
                        ],
                        [
                          0.1111111111111111,
                          "#46039f"
                        ],
                        [
                          0.2222222222222222,
                          "#7201a8"
                        ],
                        [
                          0.3333333333333333,
                          "#9c179e"
                        ],
                        [
                          0.4444444444444444,
                          "#bd3786"
                        ],
                        [
                          0.5555555555555556,
                          "#d8576b"
                        ],
                        [
                          0.6666666666666666,
                          "#ed7953"
                        ],
                        [
                          0.7777777777777778,
                          "#fb9f3a"
                        ],
                        [
                          0.8888888888888888,
                          "#fdca26"
                        ],
                        [
                          1,
                          "#f0f921"
                        ]
                      ]
                    },
                    "colorway": [
                      "#636efa",
                      "#EF553B",
                      "#00cc96",
                      "#ab63fa",
                      "#FFA15A",
                      "#19d3f3",
                      "#FF6692",
                      "#B6E880",
                      "#FF97FF",
                      "#FECB52"
                    ],
                    "font": {
                      "color": "#2a3f5f"
                    },
                    "geo": {
                      "bgcolor": "white",
                      "lakecolor": "white",
                      "landcolor": "#E5ECF6",
                      "showlakes": true,
                      "showland": true,
                      "subunitcolor": "white"
                    },
                    "hoverlabel": {
                      "align": "left"
                    },
                    "hovermode": "closest",
                    "mapbox": {
                      "style": "light"
                    },
                    "paper_bgcolor": "white",
                    "plot_bgcolor": "#E5ECF6",
                    "polar": {
                      "angularaxis": {
                        "gridcolor": "white",
                        "linecolor": "white",
                        "ticks": ""
                      },
                      "bgcolor": "#E5ECF6",
                      "radialaxis": {
                        "gridcolor": "white",
                        "linecolor": "white",
                        "ticks": ""
                      }
                    },
                    "scene": {
                      "xaxis": {
                        "backgroundcolor": "#E5ECF6",
                        "gridcolor": "white",
                        "gridwidth": 2,
                        "linecolor": "white",
                        "showbackground": true,
                        "ticks": "",
                        "zerolinecolor": "white"
                      },
                      "yaxis": {
                        "backgroundcolor": "#E5ECF6",
                        "gridcolor": "white",
                        "gridwidth": 2,
                        "linecolor": "white",
                        "showbackground": true,
                        "ticks": "",
                        "zerolinecolor": "white"
                      },
                      "zaxis": {
                        "backgroundcolor": "#E5ECF6",
                        "gridcolor": "white",
                        "gridwidth": 2,
                        "linecolor": "white",
                        "showbackground": true,
                        "ticks": "",
                        "zerolinecolor": "white"
                      }
                    },
                    "shapedefaults": {
                      "line": {
                        "color": "#2a3f5f"
                      }
                    },
                    "ternary": {
                      "aaxis": {
                        "gridcolor": "white",
                        "linecolor": "white",
                        "ticks": ""
                      },
                      "baxis": {
                        "gridcolor": "white",
                        "linecolor": "white",
                        "ticks": ""
                      },
                      "bgcolor": "#E5ECF6",
                      "caxis": {
                        "gridcolor": "white",
                        "linecolor": "white",
                        "ticks": ""
                      }
                    },
                    "title": {
                      "x": 0.05
                    },
                    "xaxis": {
                      "automargin": true,
                      "gridcolor": "white",
                      "linecolor": "white",
                      "ticks": "",
                      "title": {
                        "standoff": 15
                      },
                      "zerolinecolor": "white",
                      "zerolinewidth": 2
                    },
                    "yaxis": {
                      "automargin": true,
                      "gridcolor": "white",
                      "linecolor": "white",
                      "ticks": "",
                      "title": {
                        "standoff": 15
                      },
                      "zerolinecolor": "white",
                      "zerolinewidth": 2
                    }
                  }
                },
                "title": {
                  "text": "Association Rules: Support vs. Confidence (Color by Lift)"
                },
                "xaxis": {
                  "anchor": "y",
                  "domain": [
                    0,
                    1
                  ],
                  "title": {
                    "text": "support"
                  }
                },
                "yaxis": {
                  "anchor": "x",
                  "domain": [
                    0,
                    1
                  ],
                  "title": {
                    "text": "confidence"
                  }
                }
              }
            }
          },
          "metadata": {},
          "output_type": "display_data"
        }
      ],
      "source": [
        "import plotly.express as px\n",
        "\n",
        "# 시각화를 위해 frozenset을 문자열로 변환\n",
        "rules['antecedents_str'] = rules['antecedents'].apply(lambda x: ', '.join(list(x)))\n",
        "rules['consequents_str'] = rules['consequents'].apply(lambda x: ', '.join(list(x)))\n",
        "\n",
        "# Scatter Plot 생성\n",
        "# x축: 지지도, y축: 신뢰도, 색상: 향상도\n",
        "fig = px.scatter(rules,\n",
        "                 x=\"support\",\n",
        "                 y=\"confidence\",\n",
        "                 color=\"lift\",\n",
        "                 hover_data=['antecedents_str', 'consequents_str'],\n",
        "                 title=\"Association Rules: Support vs. Confidence (Color by Lift)\")\n",
        "fig.show()"
      ]
    },
    {
      "cell_type": "markdown",
      "metadata": {
        "id": "IwFyJpl5wNKM"
      },
      "source": [
        "이 차트에서 우리는 **오른쪽 상단에 위치하면서 색이 밝은 점**들을 주목해야 합니다. 이는 지지도와 신뢰도가 모두 높고, 향상도 역시 높아 우연 이상의 강한 연관성을 갖는 규칙을 의미하기 때문입니다.\n",
        "\n",
        "-----"
      ]
    },
    {
      "cell_type": "markdown",
      "metadata": {},
      "source": [
        "\n",
        "**✍️ 연습문제 3: 특정 아이템이 포함된 규칙 시각화하기**\n",
        "\n",
        "생성된 `rules`에서 `consequents` (결과절)에 'yogurt'가 포함된 규칙들만 필터링한 후, 위와 동일한 형태로 시각화를 진행해보세요. 이를 통해 'yogurt' 구매를 유도하는 상품 조합들을 집중적으로 분석할 수 있습니다."
      ]
    },
    {
      "cell_type": "code",
      "execution_count": null,
      "metadata": {
        "id": "X3I1xUW_wNKM"
      },
      "outputs": [],
      "source": [
        "# [문제 3] 코드를 작성해보세요\n",
        "\n",
        "# 1. 'yogurt'가 결과절에 포함된 규칙 필터링\n",
        "# is_yogurt_consequent = rules['consequents'].apply(lambda x: 'yogurt' in x)\n",
        "# yogurt_rules = rules[is_yogurt_consequent]\n",
        "\n",
        "# 2. Scatter Plot 생성\n",
        "# fig_yogurt = px.scatter(...)\n",
        "# fig_yogurt.show()"
      ]
    },
    {
      "cell_type": "markdown",
      "metadata": {},
      "source": [
        "| 지표           | 장점                                                       | 단점                                                           |\n",
        "|----------------|------------------------------------------------------------|----------------------------------------------------------------|\n",
        "| 지지도(Support) | 가장 기본적인 지표로, 규칙이 데이터 세트 전체에서 얼마나 자주 발생했음을 나타냄 | 지지도만으로는 아이템 간의 실제 의존성을 정확히 파악하기 어려움 |\n",
        "| 신뢰도(Confidence) | 한 아이템 집합이 주어졌을 때 다른 아이템 집합이 얼마나 자주 발생했음을 보여줌 | 결과 아이템의 전체 발생 빈도를 고려하지 않아, 오해할 수 있음  |\n",
        "| 향상도(Lift)     | 두 아이템 집합의 독립성 대비 상호 의존성을 직접적으로 측정함.<br/> 1보다 크면 양의 연관, 1이면 독립, 1보다 작으면 음의 연관이 있음을 나타냄 | 두 아이템의 지지도가 매우 낮은 경우에도 높은 향상도를 나타낼 수 있어, .<br/>실제 중요도를 과대평가할 가능성 있음 |\n",
        "| Leverage        | 두 아이템의 독립적인 예상 지지도와 실제 지지도의 차이를 보여줌   | 값의 범위가 작아 비교적 미세한 차이를 구분하기 어려움           |\n",
        "| Conviction      | 한 아이템이 결과 아이템 없이 발생할 확률에 대한 비율을 나타내며, .<br/> 아이템 간 의존도의 강도를 직관적으로 파악할 수 있음 | 다른 지표들에 비해 계산이 복잡하고 이해하기 어려움               |\n",
        "| Zhang’s Metric  | 규칙의 예상 신뢰도와 실제 신뢰도의 차이를 고려하며, .<br/>방향성을 포함한 연관성의 강도를 측정함 | 다른 지표들에 비해 덜 일반적으로 사용되어 분석가들 사이에서 덜 알려짐 |"
      ]
    },
    {
      "cell_type": "markdown",
      "metadata": {},
      "source": [
        "----\n",
        "#### 3.1 비개인화 추천시스템으로 활용하기\n",
        "\n",
        "연관규칙 분석을 통해 도출된 규칙들은 추천 시스템의 기반이 될 수 있습니다. 예를 들어, 특정 상품을 구매한 고객에게 연관성이 높은 다른 상품을 추천하는 방식으로 활용할 수 있습니다. 이를 통해 고객의 구매 만족도를 높이고 매출 증대를 기대할 수 있습니다.\n",
        "\n",
        "주요 활용 방안:\n",
        "- 개인화된 상품 추천\n",
        "- 교차 판매(Cross-selling) 전략 수립\n",
        "- 상품 진열 및 배치 최적화\n",
        "- 프로모션 기획 및 타겟팅\n",
        "\n",
        "**[코드] 연관규칙 기반 상품 추천 함수**"
      ]
    },
    {
      "cell_type": "markdown",
      "metadata": {},
      "source": [
        "함수 정의"
      ]
    },
    {
      "cell_type": "code",
      "execution_count": 45,
      "metadata": {},
      "outputs": [],
      "source": [
        "def recommend_products(antecedent, rules_df, metric='confidence', top_n=5):\n",
        "    \"\"\"\n",
        "    주어진 상품(antecedent)에 대해 연관 규칙을 기반으로 추천 상품 리스트를 반환하는 함수.\n",
        "    \n",
        "    Parameters:\n",
        "    antecedent (str): 추천의 기준이 되는 상품.\n",
        "    rules_df (DataFrame): 연관 규칙이 담긴 데이터프레임.\n",
        "    metric (str): 정렬 기준 \n",
        "    top_n (int): 반환할 추천 상품의 최대 개수.\n",
        "    \n",
        "    Returns:\n",
        "    list의 개별 요소 n개: 추천 상품 리스트.\n",
        "    \"\"\"\n",
        "    # 주어진 상품에 대한 연관 규칙 필터링\n",
        "    filtered_rules = rules_df[rules_df['antecedents'].apply(lambda x: antecedent in x)]\n",
        "    \n",
        "    # 신뢰도(confidence)가 높은 순으로 정렬\n",
        "    sorted_rules = filtered_rules.sort_values(by=metric, ascending=False)\n",
        "    \n",
        "    # 상위 N개의 결과에서 추천 상품(consequents) 추출\n",
        "    recommendations = [\"\"] * top_n\n",
        "    cal_recommendations = sorted_rules['consequents'].head(top_n).apply(lambda x: list(x)[0]).tolist()\n",
        "    for i, rec in enumerate(cal_recommendations):\n",
        "        recommendations[i] = rec\n",
        "    \n",
        "    return recommendations[0], recommendations[1], recommendations[2], recommendations[3], recommendations[4]"
      ]
    },
    {
      "cell_type": "code",
      "execution_count": 46,
      "metadata": {},
      "outputs": [
        {
          "data": {
            "text/plain": [
              "('whole milk', 'other vegetables', 'rolls/buns', 'soda', 'sausage')"
            ]
          },
          "execution_count": 46,
          "metadata": {},
          "output_type": "execute_result"
        }
      ],
      "source": [
        "recommend_products('yogurt', rules)"
      ]
    },
    {
      "cell_type": "code",
      "execution_count": 47,
      "metadata": {},
      "outputs": [
        {
          "data": {
            "text/plain": [
              "('sausage', 'citrus fruit', 'tropical fruit', 'rolls/buns', 'whole milk')"
            ]
          },
          "execution_count": 47,
          "metadata": {},
          "output_type": "execute_result"
        }
      ],
      "source": [
        "recommend_products('yogurt', rules, metric='lift')"
      ]
    },
    {
      "cell_type": "code",
      "execution_count": 48,
      "metadata": {},
      "outputs": [
        {
          "data": {
            "text/plain": [
              "('sausage', 'citrus fruit', 'tropical fruit', 'rolls/buns', 'whole milk')"
            ]
          },
          "execution_count": 48,
          "metadata": {},
          "output_type": "execute_result"
        }
      ],
      "source": [
        "recommend_products('yogurt', rules, metric='zhangs_metric')"
      ]
    },
    {
      "cell_type": "markdown",
      "metadata": {},
      "source": [
        "상품리스트 데이터 준비"
      ]
    },
    {
      "cell_type": "code",
      "execution_count": 50,
      "metadata": {},
      "outputs": [
        {
          "data": {
            "text/plain": [
              "167"
            ]
          },
          "execution_count": 50,
          "metadata": {},
          "output_type": "execute_result"
        }
      ],
      "source": [
        "# 상품리스트\n",
        "product_list = raw_df.itemDescription.unique().tolist()\n",
        "len(product_list)"
      ]
    },
    {
      "cell_type": "markdown",
      "metadata": {},
      "source": [
        "웹인터페이스"
      ]
    },
    {
      "cell_type": "code",
      "execution_count": null,
      "metadata": {},
      "outputs": [],
      "source": [
        "!pip install gradio"
      ]
    },
    {
      "cell_type": "code",
      "execution_count": null,
      "metadata": {},
      "outputs": [],
      "source": [
        "import gradio as gr\n",
        "\n",
        "# Gradio 인터페이스 설정\n",
        "interface = gr.Interface(\n",
        "    fn=lambda product_name: recommend_products(product_name, rules),\n",
        "    inputs=gr.Dropdown(choices=product_list, label=\"상품 선택\"),\n",
        "    outputs=[gr.Textbox(label=\"추천상품 TOP\" + str(i)) for i in range(1, 6)],\n",
        "    title=\"연관규칙 기반 추천시스템\",\n",
        "    description=\"상품을 선택하면 다른분들이 함께 구매하는 상품 5개를 추천합니다.\"\n",
        ")\n",
        "\n",
        "# 인터페이스 실행, 화면 높이 조정, 0.0.0.0에서 호스팅\n",
        "interface.launch(height=800, server_name=\"0.0.0.0\")"
      ]
    },
    {
      "cell_type": "code",
      "execution_count": 53,
      "metadata": {},
      "outputs": [
        {
          "name": "stdout",
          "output_type": "stream",
          "text": [
            "Closing server running on port: 7860\n"
          ]
        }
      ],
      "source": [
        "interface.close() # 서버 종료"
      ]
    },
    {
      "cell_type": "markdown",
      "metadata": {
        "id": "uNVvOP8BwNKM"
      },
      "source": [
        "-----\n",
        "\n",
        "### 💡 더 넓은 활용: 텍스트 분석\n",
        "\n",
        "연관규칙은 상품 구매 데이터에만 국한되지 않습니다. 예를 들어, **고객 리뷰 데이터**에서 특정 단어들이 함께 나타나는 패턴을 분석하여 제품의 장점(예: '디자인'과 '고급스러움'이 함께 등장), 불만사항(예: '배터리'와 '광탈'이 함께 등장)을 파악하는 데에도 강력하게 활용될 수 있습니다.\n"
      ]
    }
  ],
  "metadata": {
    "colab": {
      "provenance": []
    },
    "kernelspec": {
      "display_name": ".venv",
      "language": "python",
      "name": "python3"
    },
    "language_info": {
      "codemirror_mode": {
        "name": "ipython",
        "version": 3
      },
      "file_extension": ".py",
      "mimetype": "text/x-python",
      "name": "python",
      "nbconvert_exporter": "python",
      "pygments_lexer": "ipython3",
      "version": "3.12.9"
    }
  },
  "nbformat": 4,
  "nbformat_minor": 0
}
