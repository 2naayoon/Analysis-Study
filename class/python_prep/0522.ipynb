{
 "cells": [
  {
   "cell_type": "markdown",
   "metadata": {},
   "source": [
    "## 파이썬 심화"
   ]
  },
  {
   "cell_type": "code",
   "execution_count": 6,
   "metadata": {},
   "outputs": [
    {
     "name": "stdout",
     "output_type": "stream",
     "text": [
      "Append 100,000 items: 0.007244 seconds\n",
      "Insert at beginning 1,000 items: 0.000488 seconds\n"
     ]
    }
   ],
   "source": [
    "# append\n",
    "import time\n",
    "\n",
    "my_list = []\n",
    "start = time.perf_counter()\n",
    "\n",
    "for i in range(100000):\n",
    "    my_list.append(i)\n",
    "end = time.perf_counter()\n",
    "print(f\"Append 100,000 items: {end - start:.6f} seconds\")\n",
    "\n",
    "my_list_insert = []\n",
    "start = time.perf_counter()\n",
    "\n",
    "for i in range(1000):\n",
    "    my_list_insert.insert(0, i)\n",
    "end = time.perf_counter()\n",
    "print(f\"Insert at beginning 1,000 items: {end - start:.6f} seconds\")"
   ]
  },
  {
   "cell_type": "code",
   "execution_count": 10,
   "metadata": {},
   "outputs": [
    {
     "name": "stdout",
     "output_type": "stream",
     "text": [
      "Even squares: [0, 4, 16, 36, 64]\n",
      "Flattened matrix: [[1, 2, 3, 4, 5, 6, 7, 8, 9]]\n",
      "Squares dict: {0: 0, 1: 1, 2: 4, 3: 9, 4: 16}\n",
      "Odd/Even status: {0: 'even', 1: 'odd', 2: 'even', 3: 'odd', 4: 'even'}\n"
     ]
    }
   ],
   "source": [
    "# 조건부 컴프리헨션\n",
    "even_squares = [x**2 for x in range(10) if x % 2 == 0]\n",
    "print(f\"Even squares: {even_squares}\")\n",
    "\n",
    "# 중첩 컴프리헨션\n",
    "matrix = [[1, 2, 3], [4, 5, 6], [7, 8, 9]]\n",
    "flat_list = [[num for row in matrix for num in row]]\n",
    "print(f\"Flattened matrix: {flat_list}\")\n",
    "\n",
    "# 딕셔너리 컴프리헨션\n",
    "squares_dict = {x: x**2 for x in range(5)}\n",
    "print(f\"Squares dict: {squares_dict}\")\n",
    "\n",
    "# 조건부 딕셔너리 컴프리헨션\n",
    "odd_even_status = {x: 'even' if x % 2 == 0 else 'odd' for x in range(5)}\n",
    "print(f\"Odd/Even status: {odd_even_status}\")"
   ]
  },
  {
   "cell_type": "markdown",
   "metadata": {},
   "source": [
    "### collections 모듈"
   ]
  },
  {
   "cell_type": "code",
   "execution_count": 12,
   "metadata": {},
   "outputs": [
    {
     "name": "stdout",
     "output_type": "stream",
     "text": [
      "defaultdict(<class 'list'>, {'yellow': [1, 3], 'blue': [2, 4], 'red': [1]})\n"
     ]
    }
   ],
   "source": [
    "# defaultdict\n",
    "from collections import defaultdict\n",
    "\n",
    "s = [('yellow', 1), ('blue', 2), ('yellow', 3), ('blue', 4), ('red', 1)]\n",
    "d = defaultdict(list) # list를 기본값으로 사용\n",
    "for k, v in s: \n",
    "    d[k].append(v)\n",
    "print(d)"
   ]
  },
  {
   "cell_type": "code",
   "execution_count": 13,
   "metadata": {},
   "outputs": [
    {
     "name": "stdout",
     "output_type": "stream",
     "text": [
      "Counter({'l': 3, 'o': 2, 'h': 1, 'e': 1, ' ': 1, 'w': 1, 'r': 1, 'd': 1})\n",
      "Most common 2: [('l', 3), ('o', 2)]\n"
     ]
    }
   ],
   "source": [
    "# Counter\n",
    "from collections import Counter\n",
    "\n",
    "word = \"hello world\"\n",
    "c = Counter(word)\n",
    "print(c)\n",
    "print(f\"Most common 2: {c.most_common(2)}\")"
   ]
  },
  {
   "cell_type": "code",
   "execution_count": 14,
   "metadata": {},
   "outputs": [
    {
     "name": "stdout",
     "output_type": "stream",
     "text": [
      "OrderedDict([('apple', 1), ('banana', 2), ('cherry', 3)])\n"
     ]
    }
   ],
   "source": [
    "# OrderedDict\n",
    "from collections import OrderedDict\n",
    "\n",
    "d = OrderedDict()\n",
    "d['apple'] = 1\n",
    "d['banana'] = 2\n",
    "d['cherry'] = 3\n",
    "print(d)"
   ]
  },
  {
   "cell_type": "code",
   "execution_count": 15,
   "metadata": {},
   "outputs": [
    {
     "name": "stdout",
     "output_type": "stream",
     "text": [
      "Namedtuple: p.x=11, p.y=22\n",
      "Access by index: 11\n"
     ]
    }
   ],
   "source": [
    "# namedtuple\n",
    "from collections import namedtuple\n",
    "\n",
    "Point = namedtuple('Point', ['x', 'y'])\n",
    "p = Point(11, y=22)\n",
    "print(f\"Namedtuple: p.x={p.x}, p.y={p.y}\")\n",
    "print(f\"Access by index: {p[0]}\")"
   ]
  },
  {
   "cell_type": "code",
   "execution_count": 18,
   "metadata": {},
   "outputs": [
    {
     "name": "stdout",
     "output_type": "stream",
     "text": [
      "Deque after append/appendleft: deque(['e', 'a', 'b', 'c', 'd'])\n",
      "Deque after pop/popleft: deque(['a', 'b', 'c'])\n"
     ]
    }
   ],
   "source": [
    "# deque\n",
    "from collections import deque\n",
    "\n",
    "d = deque(['a', 'b', 'c'])\n",
    "d.append('d')\n",
    "d.appendleft('e')\n",
    "print(f\"Deque after append/appendleft: {d}\")\n",
    "\n",
    "d.pop()\n",
    "d.popleft()\n",
    "print(f\"Deque after pop/popleft: {d}\")"
   ]
  },
  {
   "cell_type": "markdown",
   "metadata": {},
   "source": [
    "### 람다 함수"
   ]
  },
  {
   "cell_type": "code",
   "execution_count": 19,
   "metadata": {},
   "outputs": [
    {
     "name": "stdout",
     "output_type": "stream",
     "text": [
      "5\n",
      "5\n",
      "Sorted data by lambda: [(3, 'a'), (1, 'b'), (2, 'c')]\n"
     ]
    }
   ],
   "source": [
    "# Lambda\n",
    "\n",
    "# 일반 함수\n",
    "def add(x, y):\n",
    "    return x + y\n",
    "print(add(2, 3))\n",
    "\n",
    "# 람다 함수\n",
    "add_lambda = lambda x, y: x + y\n",
    "print(add_lambda(2, 3))\n",
    "\n",
    "# sorted와 함께 사용\n",
    "data = [(1, 'b'), (3, 'a'), (2, 'c')]\n",
    "sorted_data = sorted(data, key=lambda item: item[1])\n",
    "print(f\"Sorted data by lambda: {sorted_data}\")"
   ]
  },
  {
   "cell_type": "markdown",
   "metadata": {},
   "source": [
    "### 고차 함수"
   ]
  },
  {
   "cell_type": "code",
   "execution_count": 23,
   "metadata": {},
   "outputs": [
    {
     "name": "stdout",
     "output_type": "stream",
     "text": [
      "Squared numbers (map): [1, 4, 9, 16]\n",
      "Even numbers (filter): [2, 4]\n",
      "Sum of numbers (reduce): 10\n"
     ]
    }
   ],
   "source": [
    "# 고차 함수\n",
    "# map() : 각 요소에 함수 적용\n",
    "numbers = [1, 2, 3, 4]\n",
    "squared = list(map(lambda x: x**2, numbers))\n",
    "print(f\"Squared numbers (map): {squared}\")\n",
    "\n",
    "# filter() : 조건에 맞는 요소만 필터링\n",
    "even_numbers = list(filter(lambda x: x % 2 == 0, numbers))\n",
    "print(f\"Even numbers (filter): {even_numbers}\")\n",
    "\n",
    "# reduce() : 누적 연산\n",
    "from functools import reduce\n",
    "\n",
    "sum_all = reduce(lambda x, y: x + y, numbers)\n",
    "print(f\"Sum of numbers (reduce): {sum_all}\")"
   ]
  },
  {
   "cell_type": "code",
   "execution_count": 24,
   "metadata": {},
   "outputs": [
    {
     "name": "stdout",
     "output_type": "stream",
     "text": [
      "Double 5: 10\n",
      "Triple 4: 12\n"
     ]
    }
   ],
   "source": [
    "# functools.partial() : 함수의 인자를 부분적으로 고정하여 새로운 함수 생성\n",
    "from functools import partial\n",
    "\n",
    "def multiply(x, y):\n",
    "    return x * y\n",
    "\n",
    "double = partial(multiply, 2)\n",
    "print(f\"Double 5: {double(5)}\")\n",
    "\n",
    "triple = partial(multiply, y=3)\n",
    "print(f\"Triple 4: {triple(4)}\")"
   ]
  },
  {
   "cell_type": "markdown",
   "metadata": {},
   "source": [
    "### Closures"
   ]
  },
  {
   "cell_type": "code",
   "execution_count": 25,
   "metadata": {},
   "outputs": [
    {
     "name": "stdout",
     "output_type": "stream",
     "text": [
      "Hello\n",
      "Bye\n"
     ]
    }
   ],
   "source": [
    "# Closures : 함수가 정의될 때의 환경을 기억\n",
    "def outer_function(msg):\n",
    "    def inner_function():\n",
    "        print(msg) # outer_funciton의 msg를 기억\n",
    "    return inner_function\n",
    "\n",
    "hello_func = outer_function(\"Hello\")\n",
    "bye_func = outer_function(\"Bye\")\n",
    "\n",
    "hello_func()\n",
    "bye_func()"
   ]
  },
  {
   "cell_type": "markdown",
   "metadata": {},
   "source": [
    "### Decorators"
   ]
  },
  {
   "cell_type": "code",
   "execution_count": 28,
   "metadata": {},
   "outputs": [
    {
     "name": "stdout",
     "output_type": "stream",
     "text": [
      "befor the function is called.\n",
      "Hello, Alice!\n",
      "after the function is called.\n",
      "Greeting Done\n"
     ]
    }
   ],
   "source": [
    "# 기본 데코레이터 : 함수를 감싸서 추가 기능 부여\n",
    "def my_decorator(func):\n",
    "    # wraaper : 감싸고 싶은 함수를 품음\n",
    "    def wrapper(*args, **kwargs):\n",
    "        print(\"befor the function is called.\")\n",
    "        result = func(*args, **kwargs) # 함수 실행\n",
    "        print(\"after the function is called.\")\n",
    "        return result\n",
    "    return wrapper\n",
    "\n",
    "@my_decorator\n",
    "def say_hello(name):\n",
    "    print(f\"Hello, {name}!\")\n",
    "    return \"Greeting Done\"\n",
    "\n",
    "print(say_hello(\"Alice\"))"
   ]
  },
  {
   "cell_type": "code",
   "execution_count": 30,
   "metadata": {},
   "outputs": [
    {
     "name": "stdout",
     "output_type": "stream",
     "text": [
      "Greetings, Bob!\n",
      "Greetings, Bob!\n",
      "Greetings, Bob!\n"
     ]
    }
   ],
   "source": [
    "# 인자를 받는 데코레이터\n",
    "def repeat(num_times):\n",
    "    def decorator_repeat(func):\n",
    "        def wrapper(*args, **kwargs):\n",
    "            for _ in range(num_times):\n",
    "                func(*args, **kwargs)\n",
    "        return wrapper\n",
    "    return decorator_repeat\n",
    "\n",
    "@repeat(num_times=3)\n",
    "def greet(name):\n",
    "    print(f\"Greetings, {name}!\")\n",
    "\n",
    "greet(\"Bob\")"
   ]
  },
  {
   "cell_type": "code",
   "execution_count": 4,
   "metadata": {},
   "outputs": [
    {
     "name": "stdout",
     "output_type": "stream",
     "text": [
      "Getting name...\n",
      "Charlie\n",
      "Setting name...\n",
      "Getting name...\n",
      "David\n"
     ]
    }
   ],
   "source": [
    "# property : 내장 데코레이터 - 메서드를 속성처럼 접근\n",
    "class Person:\n",
    "    def __init__(self, name):\n",
    "        self._name = name # _name은 내부적으로 사용되는 속성\n",
    "\n",
    "    @property\n",
    "    def name(self):\n",
    "        print(\"Getting name...\")\n",
    "        return self._name\n",
    "    \n",
    "    @name.setter\n",
    "    def name(self, new_name):\n",
    "        print(\"Setting name...\")\n",
    "        if not isinstance(new_name, str) or len(new_name) < 2:\n",
    "            raise ValueError(\"Name must be a string of at least 2 characters.\")\n",
    "        self._name = new_name\n",
    "\n",
    "p = Person(\"Charlie\")\n",
    "print(p.name) # 메서드 호출 없이 p.~으로 접근\n",
    "p.name = \"David\" # setter 호출\n",
    "print(p.name)\n",
    "# p.name = \"A\" # ValueError"
   ]
  },
  {
   "cell_type": "markdown",
   "metadata": {},
   "source": [
    "### Generators / Iterators"
   ]
  },
  {
   "cell_type": "code",
   "execution_count": 4,
   "metadata": {},
   "outputs": [
    {
     "name": "stdout",
     "output_type": "stream",
     "text": [
      "First 10 Fibonacci numbers: \n",
      "0 1 1 2 3 5 8 13 21 34 \n",
      "Generator expression: [0, 1, 4, 9, 16]\n"
     ]
    }
   ],
   "source": [
    "# Generator : yield를 사용하여 이터레이터 생성\n",
    "def fibonacci_generator(n):\n",
    "    a, b = 0, 1\n",
    "    for _ in range(n):\n",
    "        yield a # 값 생성 후 함수 실행을 잠시 중단\n",
    "        a, b = b, a + b\n",
    "\n",
    "# 메모리 영역 사용에 효율적\n",
    "fib_gen = fibonacci_generator(10)\n",
    "print(f\"First 10 Fibonacci numbers: \")\n",
    "for num in fib_gen:\n",
    "    print(num, end=\" \")\n",
    "print()\n",
    "\n",
    "gen_exp = (x**2 for x in range(5))\n",
    "print(f\"Generator expression: {list(gen_exp)}\")"
   ]
  },
  {
   "cell_type": "code",
   "execution_count": 4,
   "metadata": {},
   "outputs": [
    {
     "name": "stdout",
     "output_type": "stream",
     "text": [
      "My custom iterator: [0, 1, 2]\n"
     ]
    }
   ],
   "source": [
    "# Iterator : 반복할 수 있는 클래스\n",
    "class MyIterator:\n",
    "    def __init__(self, max_value):\n",
    "        self.max_value = max_value\n",
    "        self.current = 0\n",
    "\n",
    "    def __iter__(self):\n",
    "        return self\n",
    "    \n",
    "    def __next__(self):\n",
    "        if self.current < self.max_value:\n",
    "            val = self.current\n",
    "            self.current += 1\n",
    "            return val\n",
    "        else:\n",
    "            raise StopIteration\n",
    "        \n",
    "my_iter = MyIterator(3)\n",
    "print(f\"My custom iterator: {list(my_iter)}\")"
   ]
  },
  {
   "cell_type": "code",
   "execution_count": 14,
   "metadata": {},
   "outputs": [
    {
     "name": "stdout",
     "output_type": "stream",
     "text": [
      "10\n",
      "11\n",
      "12\n",
      "\n",
      "A\n",
      "B\n",
      "C\n",
      "A\n",
      "B\n",
      "C\n",
      "\n",
      "['abc', 'abc', 'abc']\n",
      "\n",
      "[('A', 'B'), ('A', 'C'), ('B', 'A'), ('B', 'C'), ('C', 'A'), ('C', 'B')]\n",
      "\n",
      "[('A', 'B'), ('A', 'C'), ('B', 'C')]\n"
     ]
    }
   ],
   "source": [
    "# itertools\n",
    "from itertools import count, cycle, repeat, permutations, combinations\n",
    "\n",
    "# count : 무한 숫자 시퀀스\n",
    "for i in count(10):\n",
    "    print(i)\n",
    "    if i >= 12: break\n",
    "\n",
    "print()\n",
    "\n",
    "# cycle : 시퀀스를 무한히 반복\n",
    "counter = 0\n",
    "for item in cycle(['A', 'B', 'C']):\n",
    "    print(item)\n",
    "    counter += 1\n",
    "    if counter > 5: break\n",
    "\n",
    "print()\n",
    "\n",
    "#repeat : 단일 항목 반복\n",
    "print(list(repeat('abc', 3)))\n",
    "\n",
    "print()\n",
    "\n",
    "# permutations : 순열\n",
    "print(list(permutations('ABC', 2)))\n",
    "\n",
    "print()\n",
    "\n",
    "# combinations : 조합\n",
    "print(list(combinations('ABC', 2)))"
   ]
  },
  {
   "cell_type": "markdown",
   "metadata": {},
   "source": [
    "### Class methods & Static methods"
   ]
  },
  {
   "cell_type": "code",
   "execution_count": 1,
   "metadata": {},
   "outputs": [
    {
     "name": "stdout",
     "output_type": "stream",
     "text": [
      "3\n",
      "Calling class method on class: MyClass\n",
      "20\n",
      "15\n"
     ]
    }
   ],
   "source": [
    "# 클래스메서드 사용 시 decorator 명시해줘야 함\n",
    "class MyClass:\n",
    "    def __init__(self, value):\n",
    "        self.value = value\n",
    "\n",
    "# 스태틱메서드 : 클래스와 유사하지만 cls가 없음\n",
    "    @staticmethod\n",
    "    def static_method(x, y): \n",
    "        return x + y # 클래스/인스턴스와 무관한 동작\n",
    "\n",
    "    @classmethod\n",
    "    def class_method(cls, value): # class를 첫 번째 인자로 받음\n",
    "        # cls를 이용하여 클래스 속성 접근 또는 새 인스턴스 생성\n",
    "        print(f\"Calling class method on class: {cls.__name__}\")\n",
    "        return cls(value * 2) # 새 인스턴스 생성\n",
    "        \n",
    "\t\t# 인스턴스메서드는 self 이용\n",
    "    def instance_method(self):\n",
    "        return self.value * 3\n",
    "\n",
    "print(MyClass.static_method(1, 2)) # 3\n",
    "obj = MyClass.class_method(10)\n",
    "print(obj.value) # 20\n",
    "my_obj = MyClass(5)\n",
    "print(my_obj.instance_method()) # 15"
   ]
  },
  {
   "cell_type": "markdown",
   "metadata": {},
   "source": [
    "### 특수 메서드"
   ]
  },
  {
   "cell_type": "code",
   "execution_count": 2,
   "metadata": {},
   "outputs": [
    {
     "name": "stdout",
     "output_type": "stream",
     "text": [
      "TestObject\n",
      "TestObject\n",
      "Object deleted.\n"
     ]
    }
   ],
   "source": [
    "class MyObject:\n",
    "    # __new__ : 객체가 생성될 때 호출\n",
    "    def __new__(cls, *args, **kwargs):\n",
    "        instance = super().__new__(cls)\n",
    "        return instance\n",
    "\n",
    "    # __init__ : 객체가 초기화될 때 호출    \n",
    "    def __init__(self, name):\n",
    "        print(name)\n",
    "        self.name = name\n",
    "\n",
    "    # __del__ : 객체가 소멸될 때 호출\n",
    "    def __del__(self):\n",
    "        print(self.name)\n",
    "\n",
    "obj1 = MyObject(\"TestObject\")\n",
    "del obj1\n",
    "print(\"Object deleted.\")"
   ]
  },
  {
   "cell_type": "code",
   "execution_count": 3,
   "metadata": {},
   "outputs": [
    {
     "name": "stdout",
     "output_type": "stream",
     "text": [
      "(10, 20)\n",
      "Coordinate(x=10, y=20)\n"
     ]
    }
   ],
   "source": [
    "# Representation\n",
    "class Coordinate:\n",
    "    def __init__(self, x, y):\n",
    "        self.x = x\n",
    "        self.y = y\n",
    "\n",
    "    # __repr__ : 개발자가 이해하기 쉬운 공식적인 문자열로 반환\n",
    "    def __repr__(self):\n",
    "        return f\"Coordinate(x={self.x}, y={self.y})\"\n",
    "    \n",
    "    # __str__ : 사용자가 이해하기 쉬운 비공식적인 문자열로 반환\n",
    "    def __str__(self):\n",
    "        return f\"({self.x}, {self.y})\"\n",
    "    \n",
    "c = Coordinate(10, 20)\n",
    "print(c)\n",
    "print(repr(c))"
   ]
  },
  {
   "cell_type": "code",
   "execution_count": 4,
   "metadata": {},
   "outputs": [
    {
     "name": "stdout",
     "output_type": "stream",
     "text": [
      "True\n",
      "False\n",
      "True\n"
     ]
    }
   ],
   "source": [
    "# Comparison : 객체 비교 연산자를 오버로딩\n",
    "class Point:\n",
    "    def __init__(self, x, y):\n",
    "        self.x = x\n",
    "        self.y = y\n",
    "\n",
    "    # __eq__\n",
    "    def __eq__(self, other):\n",
    "        if not isinstance(other, Point):\n",
    "            return NotImplemented\n",
    "        return self.x == other.x and self.y == other.y\n",
    "    \n",
    "    # __lt__\n",
    "    def __lt__(self, other):\n",
    "        if not isinstance(other, Point):\n",
    "            return NotImplemented\n",
    "        return (self.x, self.y) < (other.x, other.y)\n",
    "    \n",
    "p1 = Point(1, 2)\n",
    "p2 = Point(1, 2)\n",
    "p3 = Point(3, 4)\n",
    "\n",
    "print(p1 == p2)\n",
    "print(p1 == p3)\n",
    "print(p1 < p3)"
   ]
  },
  {
   "cell_type": "markdown",
   "metadata": {},
   "source": [
    "### 상속 및 다형성"
   ]
  },
  {
   "cell_type": "code",
   "execution_count": 5,
   "metadata": {},
   "outputs": [
    {
     "name": "stdout",
     "output_type": "stream",
     "text": [
      "Method from B\n",
      "MRO of D: (<class '__main__.D'>, <class '__main__.B'>, <class '__main__.C'>, <class '__main__.A'>, <class 'object'>)\n",
      "Method from C\n",
      "MRO of E: (<class '__main__.E'>, <class '__main__.C'>, <class '__main__.B'>, <class '__main__.A'>, <class 'object'>)\n"
     ]
    }
   ],
   "source": [
    "# 다중 상속 및 MRO\n",
    "class A:\n",
    "    def method(self):\n",
    "        print(\"Method from A\")\n",
    "\n",
    "class B(A):\n",
    "    def method(self):\n",
    "        print(\"Method from B\")\n",
    "\n",
    "class C(A):\n",
    "    def method(self):\n",
    "        print(\"Method from C\")\n",
    "\n",
    "class D(B, C): # B 먼저 상속\n",
    "    pass\n",
    "\n",
    "class E(C, B): # C 먼저 상속\n",
    "    pass\n",
    "\n",
    "d_obj = D()\n",
    "d_obj.method()\n",
    "print(f\"MRO of D: {D.__mro__}\") # D -> B -> C -> A\n",
    "\n",
    "e_obj = E()\n",
    "e_obj.method()\n",
    "print(f\"MRO of E: {E.__mro__}\") # E -> C -> B -> A"
   ]
  },
  {
   "cell_type": "code",
   "execution_count": 9,
   "metadata": {},
   "outputs": [
    {
     "name": "stdout",
     "output_type": "stream",
     "text": [
      "Rectangle area: 50\n",
      "Rectangle perimeter: 30\n",
      "Rectangle description: This is a geometric shape.\n"
     ]
    }
   ],
   "source": [
    "# 추상 클래스 : 강제로 특정 메서드를 구현\n",
    "from abc import ABC, abstractmethod\n",
    "\n",
    "class Shape(ABC): # 추상 클래스임을 명시\n",
    "    @abstractmethod # 반드시 구현해야 함\n",
    "    def area(self):\n",
    "        pass\n",
    "\n",
    "    @abstractmethod\n",
    "    def perimeter(self):\n",
    "        pass\n",
    "\n",
    "    def describe(self):\n",
    "        return \"This is a geometric shape.\"\n",
    "    \n",
    "class Rectangle(Shape):\n",
    "    def __init__(self, width, height):\n",
    "        self.width = width\n",
    "        self.height = height\n",
    "\n",
    "    def area(self):\n",
    "        return self.width * self.height\n",
    "    \n",
    "    def perimeter(self):\n",
    "        return 2 * (self.width + self.height)\n",
    "    \n",
    "# shape = Shape() # TypeError\n",
    "rect = Rectangle(10, 5)\n",
    "print(f\"Rectangle area: {rect.area()}\")\n",
    "print(f\"Rectangle perimeter: {rect.perimeter()}\")\n",
    "print(f\"Rectangle description: {rect.describe()}\")"
   ]
  },
  {
   "cell_type": "markdown",
   "metadata": {},
   "source": [
    "### 속성 제어 (Attribute Control)"
   ]
  },
  {
   "cell_type": "code",
   "execution_count": 3,
   "metadata": {},
   "outputs": [
    {
     "name": "stdout",
     "output_type": "stream",
     "text": [
      "Setting custom attribute 'my_prop' to 'Hello'\n",
      "Hello\n",
      "10\n",
      "Deleting custom attribute 'my_prop'\n"
     ]
    }
   ],
   "source": [
    "class MagicAttribute:\n",
    "    def __init__(self, value):\n",
    "        self._value = value\n",
    "        self._attributes = {} # 실제 속성 저장용 딕셔너리\n",
    "\n",
    "    # __getattr__ : 존재하지 않는 속성 접근 시 호출\n",
    "    def __getattr__(self, name):\n",
    "        if name in self._attributes:\n",
    "            return self._attributes[name]\n",
    "        raise AttributeError(f\"'{self.__class__.__name__}' object has no attribute '{name}'\")\n",
    "    \n",
    "    # __setattr__ : 모든 속성 설정 시 호출\n",
    "    def __setattr__(self, name, value):\n",
    "        if name.startswith('_'):\n",
    "            super().__setattr__(name, value)\n",
    "        else:\n",
    "            print(f\"Setting custom attribute '{name}' to '{value}'\")\n",
    "            self._attributes[name] = value\n",
    "\n",
    "    # __delattr__ : 모든 속성 삭제 시 호출\n",
    "    def __delattr__(self, name):\n",
    "        if name in self._attributes:\n",
    "            print(f\"Deleting custom attribute '{name}'\")\n",
    "            del self._attributes[name]\n",
    "        else:\n",
    "            super().__delattr_(name)\n",
    "\n",
    "obj = MagicAttribute(10)\n",
    "obj.my_prop =\"Hello\"\n",
    "print(obj.my_prop)\n",
    "print(obj._value) # _value는 직접 접근 가능 __setattr__에서 처리\n",
    "\n",
    "del obj.my_prop\n",
    "# print(obj.my_prop)"
   ]
  },
  {
   "cell_type": "code",
   "execution_count": 9,
   "metadata": {},
   "outputs": [
    {
     "name": "stdout",
     "output_type": "stream",
     "text": [
      "NoSlots.__dict__ : True\n",
      "WithSlots.__dict__ : False\n",
      "Size of NoSlots instance: 56 bytes\n",
      "Size of NoSlots instance: 48 bytes\n"
     ]
    }
   ],
   "source": [
    "# __slots__ : __dict__를 사용하지 않고 미리 정의된 속성만 저장\n",
    "class NoSlots:\n",
    "    def __init__(self, x, y):\n",
    "        self.x = x\n",
    "        self.y = y\n",
    "\n",
    "class WithSlots:\n",
    "    __slots__ = ('x', 'y') # x, y만 저장 가능. __dict__ 생성 X\n",
    "    def __init__(self, x, y):\n",
    "        self.x = x\n",
    "        self.y = y\n",
    "\n",
    "import sys\n",
    "\n",
    "ns = NoSlots(1, 2)\n",
    "ws = WithSlots(1, 2)\n",
    "\n",
    "# __dict__는 NoSlots 객체에만 있음\n",
    "print(f\"NoSlots.__dict__ : {'__dict__' in dir(ns)}\")\n",
    "print(f\"WithSlots.__dict__ : {'__dict__' in dir(ws)}\") # 메모리 절약\n",
    "\n",
    "# 메모리 사용량 비교\n",
    "print(f\"Size of NoSlots instance: {sys.getsizeof(ns)} bytes\")\n",
    "print(f\"Size of NoSlots instance: {sys.getsizeof(ws)} bytes\")"
   ]
  },
  {
   "cell_type": "markdown",
   "metadata": {},
   "source": [
    "### 메타클래스"
   ]
  },
  {
   "cell_type": "code",
   "execution_count": 6,
   "metadata": {},
   "outputs": [
    {
     "name": "stdout",
     "output_type": "stream",
     "text": [
      "Creating class: MyClass\n",
      "Bases: ()\n",
      "Attributes: {'__module__': '__main__', '__qualname__': 'MyClass', 'x': 10, 'hello': <function MyClass.hello at 0x000002C46CA3A3E0>}\n"
     ]
    }
   ],
   "source": [
    "# 메타클래스 : 클래스를 생성하는 클래스\n",
    "def my_class_builder(name, bases, attrs):\n",
    "    print(f\"Creating class: {name}\")\n",
    "    print(f\"Bases: {bases}\")\n",
    "    print(f\"Attributes: {attrs}\")\n",
    "    return type(name, bases, attrs)\n",
    "\n",
    "# 클래스를 정의할 때 metaclass 인자 사용\n",
    "class MyClass(metaclass=my_class_builder):\n",
    "    x = 10\n",
    "    def hello(self):\n",
    "        print(\"Hello from MyClass\")"
   ]
  },
  {
   "cell_type": "code",
   "execution_count": 4,
   "metadata": {},
   "outputs": [
    {
     "name": "stdout",
     "output_type": "stream",
     "text": [
      "Some data\n",
      "Processing: abc\n"
     ]
    }
   ],
   "source": [
    "# 실용적인 메타클래스 : 모든 메서드를 대문자로 바꾸기\n",
    "class UpperCaseMethodNames(type):\n",
    "    def __new__(cls, name, bases, attrs):\n",
    "        new_attrs = {}\n",
    "        for attr_name, attr_value in attrs.items():\n",
    "            if callable(attr_value) and not attr_name.startswith('__'): # 매직 메서드는 제외\n",
    "                new_attrs[attr_name.upper()] = attr_value\n",
    "            else:\n",
    "                new_attrs[attr_name] = attr_value\n",
    "        return super().__new__(cls, name, bases, new_attrs)\n",
    "    \n",
    "class MyService(metaclass=UpperCaseMethodNames):\n",
    "    def get_data(self):\n",
    "        return \"Some data\"\n",
    "    \n",
    "    def process_info(self, info):\n",
    "        return f\"Processing: {info}\"\n",
    "    \n",
    "# print(MyService.get_data) # Error\n",
    "print(MyService.GET_DATA(MyService())) # 인스턴스를 생성해야 메서드 호출\n",
    "print(MyService().PROCESS_INFO(\"abc\"))"
   ]
  },
  {
   "cell_type": "markdown",
   "metadata": {},
   "source": [
    "## GIL (Global Interpreter Lock)"
   ]
  },
  {
   "cell_type": "markdown",
   "metadata": {},
   "source": [
    "### 멀티스레딩 (Multithreading)"
   ]
  },
  {
   "cell_type": "code",
   "execution_count": 2,
   "metadata": {},
   "outputs": [
    {
     "name": "stderr",
     "output_type": "stream",
     "text": [
      "Exception in thread Exception in thread Thread-6 (download_image):\n",
      "Traceback (most recent call last):\n",
      "  File \"c:\\Users\\Admin\\workspace\\analysis_study\\class\\.venv\\Lib\\site-packages\\urllib3\\connection.py\", line 198, in _new_conn\n",
      "Exception in thread Thread-7 (download_image):\n",
      "Traceback (most recent call last):\n",
      "  File \"c:\\Users\\Admin\\workspace\\analysis_study\\class\\.venv\\Lib\\site-packages\\urllib3\\connection.py\", line 198, in _new_conn\n",
      "Thread-5 (download_image):\n",
      "Traceback (most recent call last):\n",
      "  File \"c:\\Users\\Admin\\workspace\\analysis_study\\class\\.venv\\Lib\\site-packages\\urllib3\\connection.py\", line 198, in _new_conn\n",
      "    sock = connection.create_connection(\n",
      "           ^^^^^^^^^^^^^^^^^^^^^^^^^^^^^\n",
      "  File \"c:\\Users\\Admin\\workspace\\analysis_study\\class\\.venv\\Lib\\site-packages\\urllib3\\util\\connection.py\", line 60, in create_connection\n",
      "    sock = connection.create_connection(\n",
      "           ^^^^^^^^^^^^^^^^^^^^^^^^^^^^^\n",
      "  File \"c:\\Users\\Admin\\workspace\\analysis_study\\class\\.venv\\Lib\\site-packages\\urllib3\\util\\connection.py\", line 60, in create_connection\n",
      "    for res in socket.getaddrinfo(host, port, family, socket.SOCK_STREAM):\n",
      "               ^^^^^^^^^^^^^^^^^^^^^^^^^^^^^^^^^^^^^^^^^^^^^^^^^^^^^^^^^^\n",
      "  File \"C:\\Program Files\\Python311\\Lib\\socket.py\", line 962, in getaddrinfo\n",
      "    for res in socket.getaddrinfo(host, port, family, socket.SOCK_STREAM):\n",
      "               ^^^^^^^^^^^^^^^^^^^^^^^^^^^^^^^^^^^^^^^^^^^^^^^^^^^^^^^^^^\n",
      "  File \"C:\\Program Files\\Python311\\Lib\\socket.py\", line 962, in getaddrinfo\n",
      "    sock = connection.create_connection(\n",
      "           ^^^^^^^^^^^^^^^^^^^^^^^^^^^^^\n",
      "  File \"c:\\Users\\Admin\\workspace\\analysis_study\\class\\.venv\\Lib\\site-packages\\urllib3\\util\\connection.py\", line 60, in create_connection\n",
      "    for res in socket.getaddrinfo(host, port, family, socket.SOCK_STREAM):\n",
      "               ^^^^^^^^^^^^^^^^^^^^^^^^^^^^^^^^^^^^^^^^^^^^^^^^^^^^^^^^^^\n",
      "  File \"C:\\Program Files\\Python311\\Lib\\socket.py\", line 962, in getaddrinfo\n",
      "    for res in _socket.getaddrinfo(host, port, family, type, proto, flags):\n",
      "               ^^^^^^^^^^^^^^^^^^^^^^^^^^^^^^^^^^^^^^^^^^^^^^^^^^^^^^^^^^^\n",
      "socket.gaierror: [Errno 11001] getaddrinfo failed\n",
      "\n",
      "The above exception was the direct cause of the following exception:\n",
      "\n",
      "Traceback (most recent call last):\n",
      "  File \"c:\\Users\\Admin\\workspace\\analysis_study\\class\\.venv\\Lib\\site-packages\\urllib3\\connectionpool.py\", line 787, in urlopen\n",
      "    for res in _socket.getaddrinfo(host, port, family, type, proto, flags):\n",
      "               ^^^^^^^^^^^^^^^^^^^^^^^^^^^^^^^^^^^^^^^^^^^^^^^^^^^^^^^^^^^\n",
      "socket.gaierror: [Errno 11001] getaddrinfo failed\n",
      "\n",
      "The above exception was the direct cause of the following exception:\n",
      "\n",
      "Traceback (most recent call last):\n",
      "  File \"c:\\Users\\Admin\\workspace\\analysis_study\\class\\.venv\\Lib\\site-packages\\urllib3\\connectionpool.py\", line 787, in urlopen\n",
      "    for res in _socket.getaddrinfo(host, port, family, type, proto, flags):\n",
      "               ^^^^^^^^^^^^^^^^^^^^^^^^^^^^^^^^^^^^^^^^^^^^^^^^^^^^^^^^^^^\n",
      "socket.gaierror: [Errno 11001] getaddrinfo failed\n",
      "\n",
      "The above exception was the direct cause of the following exception:\n",
      "\n",
      "Traceback (most recent call last):\n",
      "  File \"c:\\Users\\Admin\\workspace\\analysis_study\\class\\.venv\\Lib\\site-packages\\urllib3\\connectionpool.py\", line 787, in urlopen\n",
      "    response = self._make_request(\n",
      "               ^^^^^^^^^^^^^^^^^^^\n",
      "  File \"c:\\Users\\Admin\\workspace\\analysis_study\\class\\.venv\\Lib\\site-packages\\urllib3\\connectionpool.py\", line 488, in _make_request\n",
      "    response = self._make_request(\n",
      "               ^^^^^^^^^^^^^^^^^^^\n",
      "  File \"c:\\Users\\Admin\\workspace\\analysis_study\\class\\.venv\\Lib\\site-packages\\urllib3\\connectionpool.py\", line 488, in _make_request\n",
      "    response = self._make_request(\n",
      "               ^^^^^^^^^^^^^^^^^^^\n",
      "  File \"c:\\Users\\Admin\\workspace\\analysis_study\\class\\.venv\\Lib\\site-packages\\urllib3\\connectionpool.py\", line 488, in _make_request\n",
      "    raise new_e\n",
      "  File \"c:\\Users\\Admin\\workspace\\analysis_study\\class\\.venv\\Lib\\site-packages\\urllib3\\connectionpool.py\", line 464, in _make_request\n",
      "    raise new_e\n",
      "  File \"c:\\Users\\Admin\\workspace\\analysis_study\\class\\.venv\\Lib\\site-packages\\urllib3\\connectionpool.py\", line 464, in _make_request\n",
      "    raise new_e\n",
      "  File \"c:\\Users\\Admin\\workspace\\analysis_study\\class\\.venv\\Lib\\site-packages\\urllib3\\connectionpool.py\", line 464, in _make_request\n",
      "    self._validate_conn(conn)\n",
      "  File \"c:\\Users\\Admin\\workspace\\analysis_study\\class\\.venv\\Lib\\site-packages\\urllib3\\connectionpool.py\", line 1093, in _validate_conn\n",
      "    self._validate_conn(conn)\n",
      "  File \"c:\\Users\\Admin\\workspace\\analysis_study\\class\\.venv\\Lib\\site-packages\\urllib3\\connectionpool.py\", line 1093, in _validate_conn\n",
      "    self._validate_conn(conn)\n",
      "  File \"c:\\Users\\Admin\\workspace\\analysis_study\\class\\.venv\\Lib\\site-packages\\urllib3\\connectionpool.py\", line 1093, in _validate_conn\n",
      "    conn.connect()\n",
      "  File \"c:\\Users\\Admin\\workspace\\analysis_study\\class\\.venv\\Lib\\site-packages\\urllib3\\connection.py\", line 704, in connect\n",
      "    conn.connect()\n",
      "  File \"c:\\Users\\Admin\\workspace\\analysis_study\\class\\.venv\\Lib\\site-packages\\urllib3\\connection.py\", line 704, in connect\n",
      "    conn.connect()\n",
      "  File \"c:\\Users\\Admin\\workspace\\analysis_study\\class\\.venv\\Lib\\site-packages\\urllib3\\connection.py\", line 704, in connect\n",
      "    self.sock = sock = self._new_conn()\n",
      "                       ^^^^^^^^^^^^^^^^\n",
      "  File \"c:\\Users\\Admin\\workspace\\analysis_study\\class\\.venv\\Lib\\site-packages\\urllib3\\connection.py\", line 205, in _new_conn\n",
      "    self.sock = sock = self._new_conn()\n",
      "                       ^^^^^^^^^^^^^^^^\n",
      "  File \"c:\\Users\\Admin\\workspace\\analysis_study\\class\\.venv\\Lib\\site-packages\\urllib3\\connection.py\", line 205, in _new_conn\n",
      "    raise NameResolutionError(self.host, self, e) from e\n",
      "urllib3.exceptions.NameResolutionError: <urllib3.connection.HTTPSConnection object at 0x00000145A4839310>: Failed to resolve 'via.placeholder.com' ([Errno 11001] getaddrinfo failed)\n",
      "\n",
      "The above exception was the direct cause of the following exception:\n",
      "\n",
      "Traceback (most recent call last):\n",
      "  File \"c:\\Users\\Admin\\workspace\\analysis_study\\class\\.venv\\Lib\\site-packages\\requests\\adapters.py\", line 667, in send\n",
      "    self.sock = sock = self._new_conn()\n",
      "                       ^^^^^^^^^^^^^^^^\n",
      "  File \"c:\\Users\\Admin\\workspace\\analysis_study\\class\\.venv\\Lib\\site-packages\\urllib3\\connection.py\", line 205, in _new_conn\n",
      "    raise NameResolutionError(self.host, self, e) from e\n",
      "urllib3.exceptions.NameResolutionError: <urllib3.connection.HTTPSConnection object at 0x00000145A483A210>: Failed to resolve 'via.placeholder.com' ([Errno 11001] getaddrinfo failed)\n",
      "\n",
      "The above exception was the direct cause of the following exception:\n",
      "\n",
      "Traceback (most recent call last):\n",
      "  File \"c:\\Users\\Admin\\workspace\\analysis_study\\class\\.venv\\Lib\\site-packages\\requests\\adapters.py\", line 667, in send\n",
      "    raise NameResolutionError(self.host, self, e) from e\n",
      "urllib3.exceptions.NameResolutionError: <urllib3.connection.HTTPSConnection object at 0x00000145A48386D0>: Failed to resolve 'via.placeholder.com' ([Errno 11001] getaddrinfo failed)\n",
      "\n",
      "The above exception was the direct cause of the following exception:\n",
      "\n",
      "Traceback (most recent call last):\n",
      "  File \"c:\\Users\\Admin\\workspace\\analysis_study\\class\\.venv\\Lib\\site-packages\\requests\\adapters.py\", line 667, in send\n",
      "    resp = conn.urlopen(\n",
      "           ^^^^^^^^^^^^^\n",
      "  File \"c:\\Users\\Admin\\workspace\\analysis_study\\class\\.venv\\Lib\\site-packages\\urllib3\\connectionpool.py\", line 841, in urlopen\n",
      "    resp = conn.urlopen(\n",
      "           ^^^^^^^^^^^^^\n",
      "  File \"c:\\Users\\Admin\\workspace\\analysis_study\\class\\.venv\\Lib\\site-packages\\urllib3\\connectionpool.py\", line 841, in urlopen\n",
      "    resp = conn.urlopen(\n",
      "           ^^^^^^^^^^^^^\n",
      "  File \"c:\\Users\\Admin\\workspace\\analysis_study\\class\\.venv\\Lib\\site-packages\\urllib3\\connectionpool.py\", line 841, in urlopen\n",
      "    retries = retries.increment(\n",
      "              ^^^^^^^^^^^^^^^^^^\n",
      "  File \"c:\\Users\\Admin\\workspace\\analysis_study\\class\\.venv\\Lib\\site-packages\\urllib3\\util\\retry.py\", line 519, in increment\n",
      "    retries = retries.increment(\n",
      "              ^^^^^^^^^^^^^^^^^^\n",
      "  File \"c:\\Users\\Admin\\workspace\\analysis_study\\class\\.venv\\Lib\\site-packages\\urllib3\\util\\retry.py\", line 519, in increment\n",
      "    raise MaxRetryError(_pool, url, reason) from reason  # type: ignore[arg-type]\n",
      "    ^^^^^^^^^^^^^^^^^^^^^^^^^^^^^^^^^^^^^^^^^^^^^^^^^^^\n",
      "urllib3.exceptions.MaxRetryError: HTTPSConnectionPool(host='via.placeholder.com', port=443): Max retries exceeded with url: /150/00FF00/000000?text=Image2 (Caused by NameResolutionError(\"<urllib3.connection.HTTPSConnection object at 0x00000145A4839310>: Failed to resolve 'via.placeholder.com' ([Errno 11001] getaddrinfo failed)\"))\n",
      "\n",
      "During handling of the above exception, another exception occurred:\n",
      "\n",
      "Traceback (most recent call last):\n",
      "  File \"C:\\Program Files\\Python311\\Lib\\threading.py\", line 1045, in _bootstrap_inner\n",
      "    retries = retries.increment(\n",
      "              ^^^^^^^^^^^^^^^^^^\n",
      "  File \"c:\\Users\\Admin\\workspace\\analysis_study\\class\\.venv\\Lib\\site-packages\\urllib3\\util\\retry.py\", line 519, in increment\n",
      "    raise MaxRetryError(_pool, url, reason) from reason  # type: ignore[arg-type]\n",
      "    ^^^^^^^^^^^^^^^^^^^^^^^^^^^^^^^^^^^^^^^^^^^^^^^^^^^\n",
      "urllib3.exceptions.MaxRetryError: HTTPSConnectionPool(host='via.placeholder.com', port=443): Max retries exceeded with url: /150/0000FF/FFFFFF?text=Image3 (Caused by NameResolutionError(\"<urllib3.connection.HTTPSConnection object at 0x00000145A483A210>: Failed to resolve 'via.placeholder.com' ([Errno 11001] getaddrinfo failed)\"))\n",
      "\n",
      "During handling of the above exception, another exception occurred:\n",
      "\n",
      "Traceback (most recent call last):\n",
      "  File \"C:\\Program Files\\Python311\\Lib\\threading.py\", line 1045, in _bootstrap_inner\n",
      "    self.run()\n",
      "  File \"c:\\Users\\Admin\\workspace\\analysis_study\\class\\.venv\\Lib\\site-packages\\ipykernel\\ipkernel.py\", line 766, in run_closure\n",
      "    self.run()\n",
      "  File \"c:\\Users\\Admin\\workspace\\analysis_study\\class\\.venv\\Lib\\site-packages\\ipykernel\\ipkernel.py\", line 766, in run_closure\n",
      "    raise MaxRetryError(_pool, url, reason) from reason  # type: ignore[arg-type]\n",
      "    ^^^^^^^^^^^^^^^^^^^^^^^^^^^^^^^^^^^^^^^^^^^^^^^^^^^\n",
      "urllib3.exceptions.MaxRetryError: HTTPSConnectionPool(host='via.placeholder.com', port=443): Max retries exceeded with url: /150/FF0000/FFFFFF?text=Image1 (Caused by NameResolutionError(\"<urllib3.connection.HTTPSConnection object at 0x00000145A48386D0>: Failed to resolve 'via.placeholder.com' ([Errno 11001] getaddrinfo failed)\"))\n",
      "\n",
      "During handling of the above exception, another exception occurred:\n",
      "\n",
      "Traceback (most recent call last):\n",
      "  File \"C:\\Program Files\\Python311\\Lib\\threading.py\", line 1045, in _bootstrap_inner\n",
      "    self.run()\n",
      "  File \"c:\\Users\\Admin\\workspace\\analysis_study\\class\\.venv\\Lib\\site-packages\\ipykernel\\ipkernel.py\", line 766, in run_closure\n",
      "    _threading_Thread_run(self)\n",
      "  File \"C:\\Program Files\\Python311\\Lib\\threading.py\", line 982, in run\n",
      "    _threading_Thread_run(self)\n",
      "  File \"C:\\Program Files\\Python311\\Lib\\threading.py\", line 982, in run\n",
      "    self._target(*self._args, **self._kwargs)\n",
      "  File \"C:\\Users\\Admin\\AppData\\Local\\Temp\\ipykernel_14580\\3779008092.py\", line 7, in download_image\n",
      "    _threading_Thread_run(self)\n",
      "  File \"C:\\Program Files\\Python311\\Lib\\threading.py\", line 982, in run\n",
      "    self._target(*self._args, **self._kwargs)\n",
      "  File \"C:\\Users\\Admin\\AppData\\Local\\Temp\\ipykernel_14580\\3779008092.py\", line 7, in download_image\n",
      "  File \"c:\\Users\\Admin\\workspace\\analysis_study\\class\\.venv\\Lib\\site-packages\\requests\\api.py\", line 73, in get\n",
      "    self._target(*self._args, **self._kwargs)\n",
      "  File \"C:\\Users\\Admin\\AppData\\Local\\Temp\\ipykernel_14580\\3779008092.py\", line 7, in download_image\n",
      "    return request(\"get\", url, params=params, **kwargs)\n",
      "           ^^^^^^^^^^^^^^^^^^^^^^^^^^^^^^^^^^^^^^^^^^^^\n",
      "  File \"c:\\Users\\Admin\\workspace\\analysis_study\\class\\.venv\\Lib\\site-packages\\requests\\api.py\", line 59, in request\n",
      "    return session.request(method=method, url=url, **kwargs)\n",
      "           ^^^^^^^^^^^^^^^^^^^^^^^^^^^^^^^^^^^^^^^^^^^^^^^^^\n",
      "  File \"c:\\Users\\Admin\\workspace\\analysis_study\\class\\.venv\\Lib\\site-packages\\requests\\sessions.py\", line 589, in request\n",
      "  File \"c:\\Users\\Admin\\workspace\\analysis_study\\class\\.venv\\Lib\\site-packages\\requests\\api.py\", line 73, in get\n",
      "    return request(\"get\", url, params=params, **kwargs)\n",
      "           ^^^^^^^^^^^^^^^^^^^^^^^^^^^^^^^^^^^^^^^^^^^^\n",
      "  File \"c:\\Users\\Admin\\workspace\\analysis_study\\class\\.venv\\Lib\\site-packages\\requests\\api.py\", line 59, in request\n",
      "    resp = self.send(prep, **send_kwargs)\n",
      "           ^^^^^^^^^^^^^^^^^^^^^^^^^^^^^^\n",
      "  File \"c:\\Users\\Admin\\workspace\\analysis_study\\class\\.venv\\Lib\\site-packages\\requests\\sessions.py\", line 703, in send\n",
      "  File \"c:\\Users\\Admin\\workspace\\analysis_study\\class\\.venv\\Lib\\site-packages\\requests\\api.py\", line 73, in get\n",
      "    return request(\"get\", url, params=params, **kwargs)\n",
      "           ^^^^^^^^^^^^^^^^^^^^^^^^^^^^^^^^^^^^^^^^^^^^\n",
      "  File \"c:\\Users\\Admin\\workspace\\analysis_study\\class\\.venv\\Lib\\site-packages\\requests\\api.py\", line 59, in request\n",
      "    return session.request(method=method, url=url, **kwargs)\n",
      "           ^^^^^^^^^^^^^^^^^^^^^^^^^^^^^^^^^^^^^^^^^^^^^^^^^\n",
      "  File \"c:\\Users\\Admin\\workspace\\analysis_study\\class\\.venv\\Lib\\site-packages\\requests\\sessions.py\", line 589, in request\n",
      "    r = adapter.send(request, **kwargs)\n",
      "        ^^^^^^^^^^^^^^^^^^^^^^^^^^^^^^^\n",
      "  File \"c:\\Users\\Admin\\workspace\\analysis_study\\class\\.venv\\Lib\\site-packages\\requests\\adapters.py\", line 700, in send\n",
      "    return session.request(method=method, url=url, **kwargs)\n",
      "           ^^^^^^^^^^^^^^^^^^^^^^^^^^^^^^^^^^^^^^^^^^^^^^^^^\n",
      "  File \"c:\\Users\\Admin\\workspace\\analysis_study\\class\\.venv\\Lib\\site-packages\\requests\\sessions.py\", line 589, in request\n",
      "    resp = self.send(prep, **send_kwargs)\n",
      "           ^^^^^^^^^^^^^^^^^^^^^^^^^^^^^^\n",
      "  File \"c:\\Users\\Admin\\workspace\\analysis_study\\class\\.venv\\Lib\\site-packages\\requests\\sessions.py\", line 703, in send\n",
      "    raise ConnectionError(e, request=request)\n",
      "requests.exceptions.ConnectionError: HTTPSConnectionPool(host='via.placeholder.com', port=443): Max retries exceeded with url: /150/00FF00/000000?text=Image2 (Caused by NameResolutionError(\"<urllib3.connection.HTTPSConnection object at 0x00000145A4839310>: Failed to resolve 'via.placeholder.com' ([Errno 11001] getaddrinfo failed)\"))\n",
      "    resp = self.send(prep, **send_kwargs)\n",
      "           ^^^^^^^^^^^^^^^^^^^^^^^^^^^^^^\n",
      "  File \"c:\\Users\\Admin\\workspace\\analysis_study\\class\\.venv\\Lib\\site-packages\\requests\\sessions.py\", line 703, in send\n",
      "    r = adapter.send(request, **kwargs)\n",
      "        ^^^^^^^^^^^^^^^^^^^^^^^^^^^^^^^\n",
      "  File \"c:\\Users\\Admin\\workspace\\analysis_study\\class\\.venv\\Lib\\site-packages\\requests\\adapters.py\", line 700, in send\n",
      "    r = adapter.send(request, **kwargs)\n",
      "        ^^^^^^^^^^^^^^^^^^^^^^^^^^^^^^^\n",
      "  File \"c:\\Users\\Admin\\workspace\\analysis_study\\class\\.venv\\Lib\\site-packages\\requests\\adapters.py\", line 700, in send\n",
      "    raise ConnectionError(e, request=request)\n",
      "requests.exceptions.ConnectionError: HTTPSConnectionPool(host='via.placeholder.com', port=443): Max retries exceeded with url: /150/0000FF/FFFFFF?text=Image3 (Caused by NameResolutionError(\"<urllib3.connection.HTTPSConnection object at 0x00000145A483A210>: Failed to resolve 'via.placeholder.com' ([Errno 11001] getaddrinfo failed)\"))\n",
      "    raise ConnectionError(e, request=request)\n",
      "requests.exceptions.ConnectionError: HTTPSConnectionPool(host='via.placeholder.com', port=443): Max retries exceeded with url: /150/FF0000/FFFFFF?text=Image1 (Caused by NameResolutionError(\"<urllib3.connection.HTTPSConnection object at 0x00000145A48386D0>: Failed to resolve 'via.placeholder.com' ([Errno 11001] getaddrinfo failed)\"))\n"
     ]
    },
    {
     "name": "stdout",
     "output_type": "stream",
     "text": [
      "Starting download: FFFFFF?text=Image1\n",
      "Starting download: 000000?text=Image2\n",
      "Starting download: FFFFFF?text=Image3\n",
      "All images downloaded in 0.09 seconds (multithreading)\n"
     ]
    }
   ],
   "source": [
    "# I/O 바운드 작업(네트워크, 파일 읽기/쓰기) 작업 멀티스레딩\n",
    "# 스레드가 대기하는 동안 다른 스레드 실행\n",
    "import threading\n",
    "import time\n",
    "import requests\n",
    "\n",
    "def download_image(url):\n",
    "    print(f\"Starting download: {url.split('/')[-1]}\")\n",
    "    response = requests.get(url)\n",
    "    with open(f\"image_{url.split('.')[-1]}\", \"wb\") as f:\n",
    "        f.write(response.content)\n",
    "    print(f\"Finished download: {url.split('/')[-1]}\")\n",
    "\n",
    "urls = [\n",
    "    \"https://via.placeholder.com/150/FF0000/FFFFFF?text=Image1\",\n",
    "    \"https://via.placeholder.com/150/00FF00/000000?text=Image2\",\n",
    "    \"https://via.placeholder.com/150/0000FF/FFFFFF?text=Image3\",\n",
    "]\n",
    "\n",
    "threads = []\n",
    "start_time = time.time()\n",
    "\n",
    "for url in urls:\n",
    "    thread = threading.Thread(target=download_image, args=(url, ))\n",
    "    threads.append(thread)\n",
    "    thread.start()\n",
    "\n",
    "for thread in threads:\n",
    "    thread.join()\n",
    "\n",
    "end_time = time.time()\n",
    "print(f\"All images downloaded in {end_time - start_time:.2f} seconds (multithreading)\") # 순차적 다운로드보다 빠름"
   ]
  },
  {
   "cell_type": "code",
   "execution_count": 1,
   "metadata": {},
   "outputs": [
    {
     "name": "stdout",
     "output_type": "stream",
     "text": [
      "Final balance: 0\n"
     ]
    }
   ],
   "source": [
    "# 스레드 동기화 (Lock) : 경쟁 조건 방지\n",
    "import threading\n",
    "\n",
    "balance = 0\n",
    "lock = threading.Lock()\n",
    "\n",
    "def deposit(amount):\n",
    "    global balance\n",
    "    for _ in range(100000):\n",
    "        lock.acquire() # 락 획득\n",
    "        try:\n",
    "            balance += amount\n",
    "        finally:\n",
    "            lock.release() # 락 해제\n",
    "\n",
    "def withdraw(amount):\n",
    "    global balance\n",
    "    for _ in range(100000):\n",
    "        with lock: # with문으로 자동 획득 / 해제\n",
    "            balance -= amount\n",
    "\n",
    "t1 = threading.Thread(target=deposit, args=(1,))\n",
    "t2 = threading.Thread(target=withdraw, args=(1,))\n",
    "\n",
    "t1.start()\n",
    "t2.start()\n",
    "\n",
    "t1.join() # t1 스레드가 끝날 때까지 기다리게 만듦\n",
    "t2.join() # print가 두 스레드가 끝난 후 실행되도록 함\n",
    "\n",
    "print(f\"Final balance: {balance}\")"
   ]
  },
  {
   "cell_type": "markdown",
   "metadata": {},
   "source": [
    "### 멀티프로세싱 (Multiprocessing)"
   ]
  },
  {
   "cell_type": "code",
   "execution_count": null,
   "metadata": {},
   "outputs": [],
   "source": [
    "# CPU 바운드 작업에 적합 / 크롤링 시 유용\n",
    "import multiprocessing\n",
    "import time\n",
    "import os\n",
    "\n",
    "def calculate_sum(start, end):\n",
    "    s = sum(range(start, end))\n",
    "    print(f\"Process {os.getpid()} calculated sum from {start} to {end}\")\n",
    "    return s\n",
    "\n",
    "if __name__ == \"__main__\": # Window에서 multiprocessing 사용 시 필수\n",
    "    numbers_per_process = 25_000_000\n",
    "    total_sum = 0\n",
    "    processes = []\n",
    "\n",
    "    start_Time = time.time()\n",
    "\n",
    "    # processes는 cpu 코어 수에 영향\n",
    "    with multiprocessing.Pool(processes=4) as pool:\n",
    "        results = pool.starmap(calculate_sum, [\n",
    "            (0, numbers_per_process),\n",
    "            (numbers_per_process, numbers_per_process * 2),\n",
    "            (numbers_per_process * 2, numbers_per_process * 3),\n",
    "            (numbers_per_process * 3, numbers_per_process * 4),\n",
    "        ])\n",
    "        total_sum = sum(results)\n",
    "\n",
    "    end_time = time.time()\n",
    "    print(f\"Total sum: {total_sum}\")\n",
    "    print(f\"Calculated in {end_time - start_time:.2f} seconds (multiprocessing)\")"
   ]
  },
  {
   "cell_type": "code",
   "execution_count": null,
   "metadata": {},
   "outputs": [],
   "source": [
    "# 프로세스 간 통신 (Queue)\n",
    "import multiprocessing\n",
    "import time\n",
    "\n",
    "def producer(queue):\n",
    "    for i in range(5):\n",
    "        msg = f\"Item {i}\"\n",
    "        print(f\"Producer: Putting {msg}\")\n",
    "        queue.put(msg)\n",
    "        time.sleep(0.1)\n",
    "    queue.put(None) # 종료 신호\n",
    "\n",
    "def consumer(queue):\n",
    "    while True:\n",
    "        msg = queue.get()\n",
    "        if msg is None: # 종료 신호 받으면\n",
    "            break\n",
    "        print(f\"Consumer: Got {msg}\")\n",
    "        time.sleep(0.2)\n",
    "\n",
    "if __name__ == \"__main__\":\n",
    "    q = multiprocessing.Queue()\n",
    "    p1 = multiprocessing.Process(target=producer, args=(q, ))\n",
    "    p2 = multiprocessing.Process(target=consumer, args=(q, ))\n",
    "\n",
    "    p1.start()\n",
    "    p2.start()\n",
    "\n",
    "    p1.join()\n",
    "    p2.join()\n",
    "    print(\"Producer and Consumer finished.\")"
   ]
  },
  {
   "cell_type": "markdown",
   "metadata": {},
   "source": [
    "### 비동기 프로그래밍 (Asynchronous Programming)"
   ]
  },
  {
   "cell_type": "code",
   "execution_count": null,
   "metadata": {},
   "outputs": [],
   "source": [
    "# 단일 스레드 / 단일 프로세스에서 I/O 대기를 효율적으로 처리\n",
    "import asyncio\n",
    "import time\n",
    "import aiohttp\n",
    "\n",
    "async def fetch_url(session, url):\n",
    "    start_time = time.time()\n",
    "    async with session.get(url) as response:\n",
    "        await response.text()\n",
    "        end_time = time.time()\n",
    "        print(f\"Fetched {url.split('/')[-1]} in {end_time - start_time:.2f} seconds\")\n",
    "        return response.status\n",
    "    \n",
    "async def main():\n",
    "    urls = [\n",
    "        \"https://httpbin.org/delay/2\", # 2초 지연\n",
    "        \"https://httpbin.org/delay/1\", # 1초 지연\n",
    "        \"https://httpbin.org/delay/3\"  # 3초 지연\n",
    "    ]\n",
    "    async with aiohttp.ClientSession() as session:\n",
    "        tasks = [fetch_url(session, url) for url in urls]\n",
    "        await asyncio.gather(*tasks)\n",
    "\n",
    "if __name__ == \"__main__\":\n",
    "    start_total = time.time()\n",
    "    asyncio.run(main())\n",
    "    end_total = time.time()\n",
    "    print(f\"All fetches completed in {end_total - start_total:.2f} seconds (asyncio)\")"
   ]
  },
  {
   "cell_type": "markdown",
   "metadata": {},
   "source": [
    "### 예외 처리 및 디버깅"
   ]
  },
  {
   "cell_type": "code",
   "execution_count": 2,
   "metadata": {},
   "outputs": [
    {
     "name": "stdout",
     "output_type": "stream",
     "text": [
      "Caught custom error: Data must be a number: 'abc\n",
      "Caught ValueError: Data cannot be negative\n"
     ]
    }
   ],
   "source": [
    "# 사용자 정의 예외\n",
    "# Exception 클래스 상속받아 정의\n",
    "class InvalidInputError(Exception):\n",
    "    def __init__(self, message=\"Invalid input provided\", value=None):\n",
    "        self.message = message\n",
    "        self.value = value\n",
    "        super().__init__(self.message)\n",
    "\n",
    "    def __str__(self):\n",
    "        if self.value is not None:\n",
    "            return f\"{self.message}: '{self.value}\"\n",
    "        return self.message\n",
    "    \n",
    "def process_data(data):\n",
    "    if not isinstance(data, (int, float)):\n",
    "        raise InvalidInputError(\"Data must be a number\", value=data)\n",
    "    if data < 0:\n",
    "        raise ValueError(\"Data cannot be negative\") # 내장 Exception\n",
    "    \n",
    "    return data * 2\n",
    "\n",
    "try:\n",
    "    result = process_data(\"abc\")\n",
    "except InvalidInputError as e:\n",
    "    print(f\"Caught custom error: {e}\")\n",
    "except ValueError as e:\n",
    "    print(f\"Caught ValueError: {e}\")\n",
    "\n",
    "try:\n",
    "    result = process_data(-5)\n",
    "except InvalidInputError as e:\n",
    "    print(f\"Caught custom error: {e}\")\n",
    "except ValueError as e:\n",
    "    print(f\"Caught ValueError: {e}\")"
   ]
  },
  {
   "cell_type": "markdown",
   "metadata": {},
   "source": [
    "### Logging"
   ]
  },
  {
   "cell_type": "code",
   "execution_count": 3,
   "metadata": {},
   "outputs": [
    {
     "name": "stderr",
     "output_type": "stream",
     "text": [
      "{'name': '__main__', 'msg': 'Division successful: 10 / 2 = 5.0', 'args': (), 'levelname': 'INFO', 'levelno': 20, 'pathname': 'C:\\\\Users\\\\Admin\\\\AppData\\\\Local\\\\Temp\\\\ipykernel_11800\\\\715560296.py', 'filename': '715560296.py', 'module': '715560296', 'exc_info': None, 'exc_text': None, 'stack_info': None, 'lineno': 19, 'funcName': 'divide', 'created': 1750119071.8288903, 'msecs': 828.0, 'relativeCreated': 552895.1251506805, 'thread': 10096, 'threadName': 'MainThread', 'processName': 'MainProcess', 'process': 11800, 'message': 'Division successful: 10 / 2 = 5.0'}sctime)s - __main__ - INFO - Division successful: 10 / 2 = 5.0\n",
      "{'name': '__main__', 'msg': 'Attempted to divide by zero!', 'args': (), 'levelname': 'ERROR', 'levelno': 40, 'pathname': 'C:\\\\Users\\\\Admin\\\\AppData\\\\Local\\\\Temp\\\\ipykernel_11800\\\\715560296.py', 'filename': '715560296.py', 'module': '715560296', 'exc_info': None, 'exc_text': None, 'stack_info': None, 'lineno': 22, 'funcName': 'divide', 'created': 1750119071.830888, 'msecs': 830.0, 'relativeCreated': 552897.1228599548, 'thread': 10096, 'threadName': 'MainThread', 'processName': 'MainProcess', 'process': 11800, 'message': 'Attempted to divide by zero!'}sctime)s - __main__ - ERROR - Attempted to divide by zero!\n",
      "{'name': '__main__', 'msg': \"Type error occurred during division: unsupported operand type(s) for /: 'int' and 'str'\", 'args': (), 'levelname': 'ERROR', 'levelno': 40, 'pathname': 'C:\\\\Users\\\\Admin\\\\AppData\\\\Local\\\\Temp\\\\ipykernel_11800\\\\715560296.py', 'filename': '715560296.py', 'module': '715560296', 'exc_info': (<class 'TypeError'>, TypeError(\"unsupported operand type(s) for /: 'int' and 'str'\"), <traceback object at 0x0000025CFF7C7100>), 'exc_text': 'Traceback (most recent call last):\\n  File \"C:\\\\Users\\\\Admin\\\\AppData\\\\Local\\\\Temp\\\\ipykernel_11800\\\\715560296.py\", line 18, in divide\\n    result = a / b\\n             ~~^~~\\nTypeError: unsupported operand type(s) for /: \\'int\\' and \\'str\\'', 'stack_info': None, 'lineno': 25, 'funcName': 'divide', 'created': 1750119071.8318863, 'msecs': 831.0, 'relativeCreated': 552898.1211185455, 'thread': 10096, 'threadName': 'MainThread', 'processName': 'MainProcess', 'process': 11800, 'message': \"Type error occurred during division: unsupported operand type(s) for /: 'int' and 'str'\"}sctime)s - __main__ - ERROR - Type error occurred during division: unsupported operand type(s) for /: 'int' and 'str'\n",
      "Traceback (most recent call last):\n",
      "  File \"C:\\Users\\Admin\\AppData\\Local\\Temp\\ipykernel_11800\\715560296.py\", line 18, in divide\n",
      "    result = a / b\n",
      "             ~~^~~\n",
      "TypeError: unsupported operand type(s) for /: 'int' and 'str'\n"
     ]
    }
   ],
   "source": [
    "import logging\n",
    "\n",
    "logging.basicConfig(\n",
    "    level = logging.INFO,\n",
    "    format='%9asctime)s - %(name)s - %(levelname)s - %(message)s',\n",
    "    handlers = [\n",
    "        logging.FileHandler(\"app.log\"), # 파일로 출력\n",
    "        logging.StreamHandler() # 콘솔로 출력\n",
    "    ]\n",
    ")\n",
    "\n",
    "logger = logging.getLogger(__name__)\n",
    "\n",
    "def divide(a, b):\n",
    "    logger.debug(f\"Attempting to divide {a} by {b}\")\n",
    "    \n",
    "    try:\n",
    "        result = a / b\n",
    "        logger.info(f\"Division successful: {a} / {b} = {result}\")\n",
    "        return result\n",
    "    except ZeroDivisionError:\n",
    "        logger.error(\"Attempted to divide by zero!\")\n",
    "        return None\n",
    "    except TypeError as e:\n",
    "        logger.exception(f\"Type error occurred during division: {e}\")\n",
    "        return None\n",
    "    \n",
    "divide(10, 2)\n",
    "divide(10, 0)\n",
    "divide(10, \"a\")"
   ]
  },
  {
   "cell_type": "markdown",
   "metadata": {},
   "source": [
    "### PDB (파이썬 내장 디버거)"
   ]
  },
  {
   "cell_type": "code",
   "execution_count": null,
   "metadata": {},
   "outputs": [],
   "source": [
    "import pdb\n",
    "\n",
    "def calculate_average(numbers):\n",
    "    pdb.set_trace()\n",
    "    total = 0\n",
    "    count = 0\n",
    "    for num in numbers:\n",
    "        total += num\n",
    "        count += 1\n",
    "    return total / count\n",
    "\n",
    "my_numbers = [10, 20, 30]\n",
    "\n",
    "result = calculate_average(my_numbers)\n",
    "pdb.set_trace()\n",
    "print(result)"
   ]
  },
  {
   "cell_type": "markdown",
   "metadata": {},
   "source": [
    "## 모듈"
   ]
  },
  {
   "cell_type": "code",
   "execution_count": null,
   "metadata": {},
   "outputs": [],
   "source": [
    "# 상대 경로 import\n",
    "from ..module_a import func_a # 상위 패키지의 module_a import"
   ]
  },
  {
   "cell_type": "code",
   "execution_count": null,
   "metadata": {},
   "outputs": [],
   "source": [
    "# 절대 경로 import\n",
    "from my_package.module_a import func_a # 상위 패키지 절대 경로로 접근\n",
    "from my_package.sub_package.module_b import func_b"
   ]
  },
  {
   "cell_type": "markdown",
   "metadata": {},
   "source": [
    "## 성능 최적화"
   ]
  },
  {
   "cell_type": "markdown",
   "metadata": {},
   "source": [
    "### 프로파일링 (Profiling)"
   ]
  },
  {
   "cell_type": "code",
   "execution_count": 3,
   "metadata": {},
   "outputs": [
    {
     "name": "stdout",
     "output_type": "stream",
     "text": [
      "         11 function calls in 0.363 seconds\n",
      "\n",
      "   Ordered by: standard name\n",
      "\n",
      "   ncalls  tottime  percall  cumtime  percall filename:lineno(function)\n",
      "        1    0.024    0.024    0.024    0.024 3471630349.py:11(<listcomp>)\n",
      "        1    0.000    0.000    0.363    0.363 3471630349.py:13(main_function)\n",
      "        1    0.000    0.000    0.136    0.136 3471630349.py:5(slow_function_part1)\n",
      "        1    0.001    0.001    0.227    0.227 3471630349.py:9(slow_function_part2)\n",
      "        1    0.000    0.000    0.363    0.363 <string>:1(<module>)\n",
      "        1    0.000    0.000    0.363    0.363 {built-in method builtins.exec}\n",
      "        1    0.036    0.036    0.036    0.036 {built-in method builtins.sum}\n",
      "        2    0.301    0.150    0.301    0.150 {built-in method time.sleep}\n",
      "        1    0.000    0.000    0.000    0.000 {method 'disable' of '_lsprof.Profiler' objects}\n",
      "        1    0.001    0.001    0.001    0.001 {method 'join' of 'str' objects}\n",
      "\n",
      "\n"
     ]
    }
   ],
   "source": [
    "# 코드의 병목 구간 식별\n",
    "import cProfile\n",
    "import time\n",
    "\n",
    "def slow_function_part1():\n",
    "    time.sleep(0.1)\n",
    "    sum(range(10**6)) # CPU 바운드 작업\n",
    "\n",
    "def slow_function_part2():\n",
    "    time.sleep(0.2)\n",
    "    \" \".join([str(i) for i in range((10**5))])\n",
    "\n",
    "def main_function():\n",
    "    slow_function_part1()\n",
    "    slow_function_part2()\n",
    "\n",
    "cProfile.run('main_function()')\n",
    "# 터미널 실행\n",
    "# python -m cProfile your_script_name.py"
   ]
  },
  {
   "cell_type": "markdown",
   "metadata": {},
   "source": [
    "### numpy"
   ]
  },
  {
   "cell_type": "code",
   "execution_count": 5,
   "metadata": {},
   "outputs": [
    {
     "name": "stdout",
     "output_type": "stream",
     "text": [
      "0.000083\n",
      "0.000067\n"
     ]
    }
   ],
   "source": [
    "# 과학 계산 라이브러리\n",
    "import numpy as np\n",
    "import time\n",
    "\n",
    "size = 10*7\n",
    "list_a = list(range(size))\n",
    "list_b = list(range(size))\n",
    "\n",
    "np_a = np.arange(size)\n",
    "np_b = np.arange(size)\n",
    "\n",
    "# 파이썬 리스트 덧셈\n",
    "start = time.perf_counter()\n",
    "result_list = [x + y for x, y in zip(list_a, list_b)]\n",
    "end = time.perf_counter()\n",
    "print(f\"{end - start:.6f}\")\n",
    "\n",
    "# NumPy 배열 덧셈\n",
    "start = time.perf_counter()\n",
    "result_np = np_a + np_b\n",
    "end = time.perf_counter()\n",
    "print(f\"{end - start:.6f}\")"
   ]
  },
  {
   "cell_type": "markdown",
   "metadata": {},
   "source": [
    "### Numba"
   ]
  },
  {
   "cell_type": "code",
   "execution_count": null,
   "metadata": {},
   "outputs": [],
   "source": [
    "# @jit 사용하여 파이썬 코드를 JIT 컴파일하여 성능 향상\n",
    "from numba import jit\n",
    "import time\n",
    "\n",
    "@jit(nopython=True)\n",
    "def sum_numba(n):\n",
    "    s = 0\n",
    "    for i in range(n):\n",
    "        s += i\n",
    "    return s\n",
    "\n",
    "def sum_python(n):\n",
    "    s = 0\n",
    "    for i in range(n):\n",
    "        s += i\n",
    "    return s\n",
    "\n",
    "n = 10**7\n",
    "\n",
    "start = time.perf_counter()\n",
    "result_numba = sum_numba(n) # 첫 호출 시 컴파일 시간 포함\n",
    "end = time.perf_counter()\n",
    "print(f\"Numba sum: {result_numba}, Time: {end - start:.6f} seconds\")\n",
    "\n",
    "start = time.perf_counter()\n",
    "result_python = sum_python(n)\n",
    "end = time.perf_counter()\n",
    "print(f\"Python sum: {result_numba}, Time: {end - start:.6f} seconds\")"
   ]
  },
  {
   "cell_type": "markdown",
   "metadata": {},
   "source": [
    "### 컨텍스트 관리자"
   ]
  },
  {
   "cell_type": "code",
   "execution_count": 9,
   "metadata": {},
   "outputs": [],
   "source": [
    "# with 문으로 파일 처리\n",
    "with open('app.log', 'w') as f:\n",
    "    f.write(\"Hello, context manager!\")\n",
    "    # 자동으로 close"
   ]
  },
  {
   "cell_type": "code",
   "execution_count": 11,
   "metadata": {},
   "outputs": [
    {
     "name": "stdout",
     "output_type": "stream",
     "text": [
      "__init__ for database_connection\n",
      "__enter__ for database_connection: Resource acquired.\n",
      "Inside with block.\n",
      "__exit__ for database_connection: Resource released.\n",
      "Outside with block.\n"
     ]
    }
   ],
   "source": [
    "# 사용자 정의 컨텍스트 관리자\n",
    "class MyContextManager:\n",
    "    def __init__(self, name):\n",
    "        self.name = name\n",
    "        print(f\"__init__ for {self.name}\")\n",
    "\n",
    "    def __enter__(self):\n",
    "        print(f\"__enter__ for {self.name}: Resource acquired.\")\n",
    "        return self\n",
    "    \n",
    "    def __exit__(self, exc_type, exc_val, exc_tb):\n",
    "        print(f\"__exit__ for {self.name}: Resource released.\")\n",
    "        if exc_type:\n",
    "            print(f\" Exception occurred: {exc_val}\")\n",
    "        return False\n",
    "    \n",
    "with MyContextManager(\"database_connection\") as db:\n",
    "    print(\"Inside with block.\")\n",
    "\n",
    "print(\"Outside with block.\")\n"
   ]
  },
  {
   "cell_type": "code",
   "execution_count": 12,
   "metadata": {},
   "outputs": [
    {
     "name": "stdout",
     "output_type": "stream",
     "text": [
      "Entering: lock_resource\n",
      "Working with lock_resource\n",
      "Exiting: lock_resource\n"
     ]
    }
   ],
   "source": [
    "# contextlib : @contextmanager로 컨텍스트 관리자 생성\n",
    "from contextlib import contextmanager\n",
    "\n",
    "@contextmanager\n",
    "def managed_resource(name):\n",
    "    print(f\"Entering: {name}\")\n",
    "    yield name\n",
    "    print(f\"Exiting: {name}\")\n",
    "\n",
    "with managed_resource(\"lock_resource\") as resource:\n",
    "    print(f\"Working with {resource}\")\n",
    "    "
   ]
  },
  {
   "cell_type": "markdown",
   "metadata": {},
   "source": [
    "### 파일 및 I/O"
   ]
  },
  {
   "cell_type": "code",
   "execution_count": 13,
   "metadata": {},
   "outputs": [
    {
     "name": "stdout",
     "output_type": "stream",
     "text": [
      "Copied test_image.png to test_image_copy.png\n"
     ]
    }
   ],
   "source": [
    "# 바이너리 파일 처리 : 이미지, 오디오 등\n",
    "def copy_binary_file(src_path, dest_path):\n",
    "    with open(src_path, 'rb') as src_f: # 읽기 바이너리 모드\n",
    "        with open(dest_path, 'wb') as dest_f: # 쓰기 바이너리 모드\n",
    "            while True:\n",
    "                chunk = src_f.read(4096) # 4kb씩 읽기\n",
    "                if not chunk:\n",
    "                    break\n",
    "                dest_f.write(chunk)\n",
    "    print(f\"Copied {src_path} to {dest_path}\")\n",
    "\n",
    "# with open('test_image.png', 'wb') as f:\n",
    "#     f.write(b'\\x89PNG\\r\\n\\x1a\\n\\x00\\x00\\x00\\rIHDR...') # 실제 PNG 데이터 대신 더미 데이터\n",
    "# copy_binary_file('test_image.png', 'test_image_copy.png')"
   ]
  },
  {
   "cell_type": "markdown",
   "metadata": {},
   "source": [
    "### 정규 표현식 (Regula Expressions)"
   ]
  },
  {
   "cell_type": "code",
   "execution_count": 14,
   "metadata": {},
   "outputs": [
    {
     "name": "stdout",
     "output_type": "stream",
     "text": [
      "Found emails: ['test@example.com', 'user123@domain.org', 'another.one@mail.net']\n"
     ]
    }
   ],
   "source": [
    "import re\n",
    "\n",
    "text = \"Emails: test@example.com, user123@domain.org, another.one@mail.net\"\n",
    "\n",
    "# 이메일 주소 찾기\n",
    "emails = re.findall(r'[a-zA-Z0-9._%+-]+@[a-zA-Z0-9.-]+\\.[a-zA-Z]{2,}', text)\n",
    "print(f\"Found emails: {emails}\")"
   ]
  },
  {
   "cell_type": "code",
   "execution_count": 15,
   "metadata": {},
   "outputs": [
    {
     "name": "stdout",
     "output_type": "stream",
     "text": [
      "Match found: Name=Alice, Age=30\n",
      "Match found: Name=Bob, Age=25\n"
     ]
    }
   ],
   "source": [
    "# 그룹화 (Group): 특정 부분 추출\n",
    "text_with_names = \"Name: Alice, Age: 30; Name: Bob, Age: 25\"\n",
    "\n",
    "# (?:...) : 그룹으로 묶되 캡처하지 않음\n",
    "# (?P<name>...) : 이름을 가진 그룹 (name으로 접근 가능)\n",
    "\n",
    "pattern = r\"Name: (?P<name>\\w+), Age: (?P<age>\\d+)\"\n",
    "for match in re.finditer(pattern, text_with_names):\n",
    "    print(f\"Match found: Name={match.group('name')}, Age={match.group('age')}\")"
   ]
  },
  {
   "cell_type": "code",
   "execution_count": 16,
   "metadata": {},
   "outputs": [
    {
     "name": "stdout",
     "output_type": "stream",
     "text": [
      "Substituted text: Name: Alice, Age: [REDACTD]; Name: Bob, Age: [REDACTD]\n"
     ]
    }
   ],
   "source": [
    "# 치환 (sub): 패턴에 맞는 부분을 다른 문자열로 교체\n",
    "new_text = re.sub(r'Age: (\\d+)', 'Age: [REDACTD]', text_with_names)\n",
    "print(f\"Substituted text: {new_text}\")"
   ]
  },
  {
   "cell_type": "code",
   "execution_count": 17,
   "metadata": {},
   "outputs": [
    {
     "name": "stdout",
     "output_type": "stream",
     "text": [
      "Phone number: 010-1234-5678\n",
      "Area code: 010\n"
     ]
    }
   ],
   "source": [
    "# 컴파일 (compile): 동일한 패턴을 여러 번 사용할 때 성능 향상\n",
    "compiled_pattern = re.compile(r'(\\d{3})-(\\d{4})-(\\d{4})')\n",
    "phone_number = 'My phone is 010-1234-5678'\n",
    "match = compiled_pattern.search(phone_number)\n",
    "if match:\n",
    "    print(f\"Phone number: {match.group(0)}\")\n",
    "    print(f\"Area code: {match.group(1)}\")"
   ]
  }
 ],
 "metadata": {
  "kernelspec": {
   "display_name": ".venv",
   "language": "python",
   "name": "python3"
  },
  "language_info": {
   "codemirror_mode": {
    "name": "ipython",
    "version": 3
   },
   "file_extension": ".py",
   "mimetype": "text/x-python",
   "name": "python",
   "nbconvert_exporter": "python",
   "pygments_lexer": "ipython3",
   "version": "3.11.9"
  }
 },
 "nbformat": 4,
 "nbformat_minor": 2
}
