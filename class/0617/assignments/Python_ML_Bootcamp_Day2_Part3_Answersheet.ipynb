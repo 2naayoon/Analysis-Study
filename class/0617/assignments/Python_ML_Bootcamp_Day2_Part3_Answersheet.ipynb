{
  "cells": [
    {
      "cell_type": "markdown",
      "metadata": {
        "id": "zKUAX46U5v-e"
      },
      "source": [
        "#### ✏️ 연습문제 1: 로지스틱 회귀 `solver` 변경하기\n",
        "\n",
        "`LogisticRegression`의 `solver`는 최적의 계수를 찾는 데 사용되는 알고리즘을 지정하는 하이퍼파라미터입니다. \n",
        "\n",
        "`solver='liblinear'`를 `'lbfgs'`로 변경하여 파이프라인을 다시 학습시키고 정확도를 비교해보세요.\n",
        "\n",
        "\n",
        "**로지스틱 회귀 Solver 비교**\n",
        " - **liblinear**: 작은 데이터셋에 적합하며, L1/L2 규제를 모두 지원합니다. 좌표 하강법을 사용합니다.\n",
        " - **lbfgs**: 중간~큰 데이터셋에 효율적이며, L2 규제만 지원합니다. 유사 뉴턴 방법을 사용하여 빠른 수렴이 가능합니다.\n",
        "\n"
      ]
    },
    {
      "cell_type": "code",
      "execution_count": null,
      "metadata": {
        "id": "EpNO87eL5v-f"
      },
      "outputs": [],
      "source": [
        "# 연습문제 1 코드\n",
        "lr_pipeline_lbfgs = Pipeline(steps=[\n",
        "    ('preprocessor', preprocessor),\n",
        "    # solver를 'lbfgs'로 변경 (max_iter를 늘려줄 필요가 있을 수 있습니다)\n",
        "    ('classifier', LogisticRegression(solver='lbfgs', random_state=42, max_iter=1000))\n",
        "])\n",
        "\n",
        "# 여기에 파이프라인을 학습시키고 정확도를 출력하는 코드를 작성하세요.\n",
        "lr_pipeline_lbfgs.fit(X_train, y_train)\n",
        "accuracy_lbfgs = lr_pipeline_lbfgs.score(X_test, y_test)\n",
        "print(f\"Solver 'lbfgs' 모델 정확도: {accuracy_lbfgs:.4f}\")"
      ]
    },
    {
      "cell_type": "markdown",
      "metadata": {
        "id": "imbyTB7z5v-f"
      },
      "source": [
        "#### ✏️ 연습문제 2: 규제(Regularization) 강도 조절하기\n",
        "\n",
        "로지스틱 회귀에서 `C`는 규제 강도를 조절하는 하이퍼파라미터입니다. `C` 값이 작을수록 규제가 강해져 모델이 단순해지고(과적합 방지), 클수록 규제가 약해져 훈련 데이터에 더 적합됩니다. `C` 값을 `0.1`, `1`, `10`으로 변경하며 모델을 각각 학습시키고 정확도를 비교해보세요."
      ]
    },
    {
      "cell_type": "code",
      "execution_count": null,
      "metadata": {
        "id": "85DnhQ0C5v-f"
      },
      "outputs": [],
      "source": [
        "# 연습문제 2 코드\n",
        "c_values = [0.1, 1, 10]\n",
        "for c in c_values:\n",
        "    lr_pipeline_c = Pipeline(steps=[\n",
        "        ('preprocessor', preprocessor),\n",
        "        # C 값을 변경하여 모델 생성\n",
        "        ('classifier', LogisticRegression(solver='liblinear', C=c, random_state=42))\n",
        "    ])\n",
        "\n",
        "    # 파이프라인 학습\n",
        "    lr_pipeline_c.fit(X_train, y_train)\n",
        "\n",
        "    # 정확도 계산 및 출력\n",
        "    accuracy = lr_pipeline_c.score(X_test, y_test)\n",
        "    print(f\"C={c} 일 때 모델 정확도: {accuracy:.4f}\")"
      ]
    },
    {
      "cell_type": "markdown",
      "metadata": {
        "id": "bVA2oJJ-5v-g"
      },
      "source": [
        "#### ✏️ 연습문제 3: 최적의 'k' 값 찾아보기\n",
        "\n",
        "`KNeighborsClassifier`의 `n_neighbors` 값을 `3, 5, 7, 11, 15`로 변경해가면서 K-NN 모델을 학습시키고, 각 k값에 대한 정확도를 출력하여 어떤 k값이 가장 좋은 성능을 보이는지 확인해보세요."
      ]
    },
    {
      "cell_type": "code",
      "execution_count": null,
      "metadata": {
        "id": "2eGtzTUH5v-g"
      },
      "outputs": [],
      "source": [
        "# 연습문제 3 코드\n",
        "k_values = [3, 5, 7, 11, 15]\n",
        "for k in k_values:\n",
        "    knn_pipeline_k = Pipeline(steps=[\n",
        "        ('preprocessor', preprocessor),\n",
        "        ('classifier', KNeighborsClassifier(n_neighbors=k))\n",
        "    ])\n",
        "\n",
        "    # 파이프라인 학습 및 평가 코드를 작성하세요.\n",
        "    knn_pipeline_k.fit(X_train, y_train)\n",
        "    accuracy = knn_pipeline_k.score(X_test, y_test)\n",
        "    print(f\"k={k} 일 때 K-NN 모델 정확도: {accuracy:.4f}\")"
      ]
    },
    {
      "cell_type": "markdown",
      "metadata": {
        "id": "tcmxD7R65v-g"
      },
      "source": [
        "#### ✏️ 연습문제 4: 이웃에 가중치 부여하기\n",
        "\n",
        "`KNeighborsClassifier`의 `weights` 하이퍼파라미터를 `'distance'`로 설정하면, 예측 시 가까운 이웃에게 더 큰 가중치를 부여합니다. (기본값은 `'uniform'`으로 모든 이웃이 동일한 투표권을 가집니다.) `weights='distance'`로 설정한 K-NN 모델(k=11)을 학습시키고, `'uniform'`일 때와 정확도를 비교해보세요."
      ]
    },
    {
      "cell_type": "code",
      "execution_count": null,
      "metadata": {
        "id": "G4LiBrtQ5v-g"
      },
      "outputs": [],
      "source": [
        "# 연습문제 4 코드\n",
        "knn_pipeline_dist = Pipeline(steps=[\n",
        "    ('preprocessor', preprocessor),\n",
        "    # k=11, weights='distance'로 설정\n",
        "    ('classifier', KNeighborsClassifier(n_neighbors=11, weights='distance'))\n",
        "])\n",
        "\n",
        "# 파이프라인 학습 및 평가 코드를 작성하세요.\n",
        "knn_pipeline_dist.fit(X_train, y_train)\n",
        "accuracy_dist = knn_pipeline_dist.score(X_test, y_test)\n",
        "print(f\"k=11, weights='distance' 모델 정확도: {accuracy_dist:.4f}\")"
      ]
    },
    {
      "cell_type": "markdown",
      "metadata": {
        "id": "m2SyxKs_5v-h"
      },
      "source": [
        "\n",
        "#### ✏️ 연습문제 5: k값에 따른 결정 경계 변화 관찰하기\n",
        "\n",
        "k값이 모델의 복잡도와 결정 경계에 어떤 영향을 미치는지 직접 확인해봅시다. `k=1` (가장 복잡한 모델)과 `k=101` (매우 단순한 모델)일 때의 K-NN 결정 경계를 각각 시각화하고, 두 그래프의 차이점을 설명해보세요."
      ]
    },
    {
      "cell_type": "code",
      "execution_count": null,
      "metadata": {
        "id": "1lvGVb8g5v-h"
      },
      "outputs": [],
      "source": [
        "# 연습문제 5 코드\n",
        "# k=1 일 때 결정 경계 시각화\n",
        "knn_pipeline_1 = Pipeline(steps=[\n",
        "    ('preprocessor', preprocessor),\n",
        "    ('classifier', KNeighborsClassifier(n_neighbors=1))\n",
        "])\n",
        "plot_decision_boundary(knn_pipeline_1, X_train, y_train, \"K-NN (k=1) 결정 경계 - 과적합 예시\")\n",
        "\n",
        "# k=101 일 때 결정 경계 시각화\n",
        "knn_pipeline_101 = Pipeline(steps=[\n",
        "    ('preprocessor', preprocessor),\n",
        "    ('classifier', KNeighborsClassifier(n_neighbors=101))\n",
        "])\n",
        "plot_decision_boundary(knn_pipeline_101, X_train, y_train, \"K-NN (k=101) 결정 경계 - 과소적합 예시\")\n",
        "\n",
        "# 두 그래프의 차이점을 마크다운 셀에 설명해보세요.\n",
        "# 예: k=1일 때는 데이터 포인트 하나하나에 민감하게 반응하여 결정 경계가 매우 복잡하고 들쭉날쭉합니다. 이는 과적합의 특징입니다.\n",
        "# 반면 k=101일 때는 경계가 매우 부드럽고 단순해져, 두 클래스를 잘 구분하지 못하는 과소적합 경향을 보입니다."
      ]
    },
    {
      "cell_type": "markdown",
      "metadata": {
        "id": "0uGhQKzg5v-h"
      },
      "source": [
        "* 분석\n",
        "\n",
        "    k=1일 때는 데이터 포인트 하나하나에 민감하게 반응하여 결정 경계가 매우 복잡하고 섬처럼 분리된 영역들이 많습니다. \n",
        "\n",
        "    이는 훈련 데이터의 노이즈까지 학습하려는 **과적합(overfitting)** 의 전형적인 특징입니다. \n",
        "\n",
        "    반면 k=101일 때는 경계가 매우 부드럽고 단순해져, 두 클래스의 세밀한 패턴을 놓치고 전반적인 추세만 따르려는 **과소적합(underfitting)** 경향을 보입니다.\n"
      ]
    }
  ],
  "metadata": {
    "colab": {
      "provenance": []
    },
    "kernelspec": {
      "display_name": ".venv",
      "language": "python",
      "name": "python3"
    },
    "language_info": {
      "codemirror_mode": {
        "name": "ipython",
        "version": 3
      },
      "file_extension": ".py",
      "mimetype": "text/x-python",
      "name": "python",
      "nbconvert_exporter": "python",
      "pygments_lexer": "ipython3",
      "version": "3.12.9"
    }
  },
  "nbformat": 4,
  "nbformat_minor": 0
}
