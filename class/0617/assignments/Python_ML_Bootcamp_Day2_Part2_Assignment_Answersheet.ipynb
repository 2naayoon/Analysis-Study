{
  "cells": [
    {
      "cell_type": "markdown",
      "metadata": {
        "id": "pI-UpDcQ6We3"
      },
      "source": [
        "### Lab #2 과제 정답"
      ]
    },
    {
      "cell_type": "code",
      "execution_count": null,
      "metadata": {
        "id": "sIMBs54z6We3"
      },
      "outputs": [],
      "source": [
        "import pandas as pd\n",
        "import numpy as np\n",
        "from sklearn.model_selection import train_test_split\n",
        "from sklearn.impute import SimpleImputer\n",
        "from sklearn.preprocessing import StandardScaler, OneHotEncoder\n",
        "from sklearn.compose import ColumnTransformer\n",
        "from sklearn.linear_model import LogisticRegression\n",
        "from sklearn.metrics import accuracy_score, roc_auc_score, confusion_matrix\n",
        "# imblearn의 파이프라인을 사용해야 SMOTE를 적용할 수 있음\n",
        "from imblearn.pipeline import Pipeline as ImbPipeline\n",
        "from imblearn.over_sampling import SMOTE\n",
        "import plotly.express as px\n",
        "\n",
        "# 데이터 로드 및 기본 준비\n",
        "path = './WA_Fn-UseC_-Telco-Customer-Churn.csv'\n",
        "df = pd.read_csv(path)\n",
        "df['TotalCharges'] = pd.to_numeric(df['TotalCharges'], errors='coerce')\n",
        "# customerID는 예측에 사용하지 않으므로 미리 제거\n",
        "df = df.drop('customerID', axis=1)\n",
        "\n",
        "X = df.drop('Churn', axis=1)\n",
        "y = df['Churn']\n",
        "\n",
        "X_train, X_test, y_train, y_test = train_test_split(X, y, test_size=0.2, random_state=42, stratify=y)\n",
        "\n",
        "# [문제 1] 수치형, 범주형 컬럼 식별 정답\n",
        "numeric_features = X.select_dtypes(include=np.number).columns.tolist()\n",
        "categorical_features = X.select_dtypes(include='object').columns.tolist()\n",
        "\n",
        "# [문제 2 & 3] 전처리 파이프라인 정의 정답\n",
        "numeric_transformer = Pipeline(steps=[\n",
        "    ('imputer', SimpleImputer(strategy='median')),\n",
        "    ('scaler', StandardScaler())\n",
        "])\n",
        "\n",
        "categorical_transformer = Pipeline(steps=[\n",
        "    ('imputer', SimpleImputer(strategy='constant', fill_value='missing')),\n",
        "    ('onehot', OneHotEncoder(handle_unknown='ignore'))\n",
        "])\n",
        "\n",
        "# [문제 4] ColumnTransformer로 통합 정답\n",
        "preprocessor = ColumnTransformer(\n",
        "    transformers=[\n",
        "        ('num', numeric_transformer, numeric_features),\n",
        "        ('cat', categorical_transformer, categorical_features)\n",
        "    ], remainder='passthrough') # 나머지 컬럼은 그대로 통과\n",
        "\n",
        "# [문제 5] SMOTE를 포함한 최종 파이프라인 구축 정답\n",
        "# imblearn.pipeline.Pipeline 사용\n",
        "final_pipeline = ImbPipeline(steps=[\n",
        "    ('preprocessor', preprocessor),\n",
        "    ('smote', SMOTE(random_state=42)),\n",
        "    ('classifier', LogisticRegression(solver='liblinear', random_state=42))\n",
        "])\n",
        "\n",
        "# [문제 6] 파이프라인 훈련 정답\n",
        "final_pipeline.fit(X_train, y_train)\n",
        "\n",
        "# [문제 7] 예측 및 평가 정답\n",
        "y_pred = final_pipeline.predict(X_test)\n",
        "y_pred_proba = final_pipeline.predict_proba(X_test)[:, 1]\n",
        "\n",
        "accuracy = accuracy_score(y_test, y_pred)\n",
        "roc_auc = roc_auc_score(y_test, y_pred_proba)\n",
        "\n",
        "print(f\"최종 모델 정확도: {accuracy:.4f}\")\n",
        "print(f\"최종 모델 ROC-AUC: {roc_auc:.4f}\")\n",
        "\n",
        "# [문제 8] 혼동 행렬 시각화 정답\n",
        "cm = confusion_matrix(y_test, y_pred)\n",
        "fig = px.imshow(cm,\n",
        "                labels=dict(x=\"Predicted\", y=\"Actual\", color=\"Count\"),\n",
        "                x=['Not Churn', 'Churn'],\n",
        "                y=['Not Churn', 'Churn'],\n",
        "                text_auto=True,\n",
        "                color_continuous_scale='Blues'\n",
        "               )\n",
        "fig.update_layout(title_text='Confusion Matrix')\n",
        "fig.show()\n",
        "\n",
        "# 결과 분석:\n",
        "# ROC-AUC 점수가 0.83 이상으로 좋은 예측 성능을 보임.\n",
        "# 혼동 행렬을 보면, 실제 이탈(Actual Churn) 고객 중 상당수(e.g., 279명)를 예측(Predicted Churn)해냈음(True Positive).\n",
        "# 이는 SMOTE가 소수 클래스 탐지 성능을 높이는 데 기여했음을 시사함.\n",
        "# 반면, 이탈하지 않은 고객을 이탈했다고 잘못 예측한 경우(False Positive)도 존재함."
      ]
    }
  ],
  "metadata": {
    "colab": {
      "provenance": []
    },
    "kernelspec": {
      "display_name": "Python 3",
      "name": "python3"
    }
  },
  "nbformat": 4,
  "nbformat_minor": 0
}
