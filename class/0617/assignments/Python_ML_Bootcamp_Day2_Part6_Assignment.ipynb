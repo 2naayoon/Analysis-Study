{
  "cells": [
    {
      "cell_type": "markdown",
      "metadata": {},
      "source": [
        "---\n",
        "\n",
        "## 📝 Lab #2-6 (응용): 다양한 군집 알고리즘 비교 분석\n",
        "\n",
        "지금까지 배운 K-Means, 계층적 군집, DBSCAN, GMM 기법을 모두 사용하여 고객 데이터를 분석하고, 각 방법론의 장단점과 결과를 비교하여 가장 비즈니스적으로 의미 있는 고객 세그먼트를 도출하는 미니 프로젝트를 수행합니다.\n",
        "\n",
        "### 과제 목표\n",
        "1. K-Means, 계층적 군집, DBSCAN, GMM 네 가지 알고리즘을 모두 적용하고 결과를 비교합니다.\n",
        "2. **Elbow Method**와 **Silhouette Score**를 근거로 K-Means의 최적 K를 결정합니다.\n",
        "3. DBSCAN의 파라미터를 조정하며 **이상치 탐지**의 개념을 이해합니다.\n",
        "4. 각 군집화 결과를 **Radar Chart**로 시각화하여 군집별 특성을 직관적으로 비교하고 해석합니다.\n",
        "5. 각 알고리즘의 장단점을 바탕으로, 주어진 문제에 가장 적합한 모델을 선택하고 그 이유를 설명합니다.\n",
        "\n",
        "---"
      ]
    },
    {
      "cell_type": "code",
      "execution_count": null,
      "metadata": {},
      "outputs": [],
      "source": [
        "import pandas as pd\n",
        "import numpy as np\n",
        "import plotly.express as px\n",
        "import plotly.graph_objects as go\n",
        "\n",
        "from sklearn.preprocessing import StandardScaler\n",
        "from sklearn.impute import SimpleImputer\n",
        "from sklearn.pipeline import Pipeline\n",
        "from sklearn.cluster import KMeans, AgglomerativeClustering, DBSCAN\n",
        "from sklearn.mixture import GaussianMixture\n",
        "from sklearn.metrics import silhouette_score\n",
        "\n",
        "# 데이터 로드 및 기본 준비 (경로를 잘 확인하세요. 이 폴더는 최상위 폴더의 하위의 하위 폴더입니다.)\n",
        "path = '../../datasets/ml/crm/marketing_campaign.csv'\n",
        "df = pd.read_csv(path, sep='\\t')\n",
        "df_original = df.copy() # 원본 데이터 보존"
      ]
    },
    {
      "cell_type": "markdown",
      "metadata": {},
      "source": [
        "### [문제 1] 데이터 전처리\n",
        "\n",
        "수치형 데이터만 선택하여 결측치를 중앙값으로 대체하고 `StandardScaler`로 스케일링하는 전처리 파이프라인을 구축하고, 데이터를 변환하세요 (`X_processed`)."
      ]
    },
    {
      "cell_type": "code",
      "execution_count": null,
      "metadata": {},
      "outputs": [],
      "source": [
        "# [문제 1] 여기에 코드 작성"
      ]
    },
    {
      "cell_type": "markdown",
      "metadata": {},
      "source": [
        "### [문제 2] K-Means 분석\n",
        "\n",
        "1. Elbow Method와 Silhouette Score를 모두 사용하여 최적의 군집 수(K)를 찾고, 그 근거를 설명하세요.\n",
        "2. 위에서 찾은 최적의 K를 사용하여 K-Means 군집화를 수행하고, 결과를 `kmeans_labels` 변수에 저장하세요."
      ]
    },
    {
      "cell_type": "code",
      "execution_count": null,
      "metadata": {},
      "outputs": [],
      "source": [
        "# [문제 2] 여기에 코드 작성"
      ]
    },
    {
      "cell_type": "markdown",
      "metadata": {},
      "source": [
        "### [문제 3] 추가 알고리즘 적용\n",
        "\n",
        "문제 2에서 찾은 최적의 K를 사용하여, 아래 세 가지 추가 알고리즘을 적용하세요.\n",
        "\n",
        "1. **계층적 군집**: `ward` 연결법을 사용하여 군집화를 수행하고 `agg_labels`에 저장하세요.\n",
        "2. **DBSCAN**: `eps`와 `min_samples`를 조정하여 의미 있는 군집을 찾아보세요. (힌트: `eps`는 2.0~3.0, `min_samples`는 10~20 사이에서 시작) 찾은 군집과 노이즈의 개수를 출력하고, 결과를 `dbscan_labels`에 저장하세요.\n",
        "3. **GMM**: 군집 수를 최적 K로 설정하여 군집화를 수행하고 `gmm_labels`에 저장하세요."
      ]
    },
    {
      "cell_type": "code",
      "execution_count": null,
      "metadata": {},
      "outputs": [],
      "source": [
        "# [문제 3] 여기에 코드 작성\n",
        "# OPTIMAL_K = ? (문제 2의 결과로 설정)\n"
      ]
    },
    {
      "cell_type": "markdown",
      "metadata": {},
      "source": [
        "### [문제 4] 군집 프로파일링 및 Radar Chart 시각화\n",
        "\n",
        "4개 알고리즘의 군집 결과를 원본 데이터프레임 `df_original`에 각각 새로운 컬럼으로 추가하세요. 그 후, **K-Means 결과**를 기준으로 군집 프로파일을 만들고 Radar Chart로 시각화하여 각 군집의 특성을 파악하세요.\n",
        "\n",
        "- **프로파일링 대상 특성**: `['Income', 'MntWines', 'MntFruits', 'MntMeatProducts', 'NumDealsPurchases', 'NumWebPurchases']`\n",
        "- **DBSCAN**: 프로파일링 시 노이즈(label = -1)는 제외해야 합니다. `df_original[df_original['DBSCAN_Cluster'] != -1]`"
      ]
    },
    {
      "cell_type": "code",
      "execution_count": null,
      "metadata": {},
      "outputs": [],
      "source": [
        "# [문제 4] 여기에 코드 작성\n",
        "# 1. 원본 데이터프레임에 군집 레이블 컬럼 추가\n",
        "\n",
        "# 2. K-Means 기준 프로파일 생성 (groupby)\n",
        "\n",
        "# 3. Radar Chart 시각화 (아래 템플릿 코드 활용)\n"
      ]
    },
    {
      "cell_type": "markdown",
      "metadata": {},
      "source": [
        "### [문제 5] 최종 분석 및 결론\n",
        "\n",
        "프로파일링과 시각화 결과를 바탕으로 다음 질문에 답하세요.\n",
        "\n",
        "1. 4가지 알고리즘의 결과를 비교하세요. 각 알고리즘이 찾아낸 군집의 특징과 개수는 어떻게 다른가요? (특히 DBSCAN의 노이즈 포인트에 대해 언급하세요.)\n",
        "\n",
        "2. K-Means 결과 기준으로, 각 군집에 비즈니스적으로 의미 있는 이름(e.g., '알뜰 쇼핑객', '와인 애호가')을 붙이고, 그 특성을 설명하세요.\n",
        "\n",
        "3. 이 고객 데이터 분석에는 어떤 알고리즘이 가장 적합하다고 생각하나요? (e.g., 해석의 용이성, 이상치 탐지 능력, 군집의 타당성 등). 그 이유를 구체적으로 설명하세요."
      ]
    },
    {
      "cell_type": "markdown",
      "metadata": {},
      "source": [
        "#### (여기에 주관식 답변 작성)"
      ]
    }
  ],
  "metadata": {
    "kernelspec": {
      "display_name": ".venv",
      "language": "python",
      "name": "python3"
    },
    "language_info": {
      "codemirror_mode": {
        "name": "ipython",
        "version": 3
      },
      "file_extension": ".py",
      "mimetype": "text/x-python",
      "name": "python",
      "nbconvert_exporter": "python",
      "pygments_lexer": "ipython3",
      "version": "3.12.9"
    }
  },
  "nbformat": 4,
  "nbformat_minor": 2
}
