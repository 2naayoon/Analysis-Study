{
  "cells": [
    {
      "cell_type": "markdown",
      "metadata": {},
      "source": [
        "## 🔑 Part 1 연습문제"
      ]
    },
    {
      "cell_type": "markdown",
      "metadata": {},
      "source": [
        "### 연습문제 정답"
      ]
    },
    {
      "cell_type": "code",
      "execution_count": null,
      "metadata": {},
      "outputs": [],
      "source": [
        "# 연습문제 1 정답: 정확도\n",
        "tp, fp, tn, fn = 60, 10, 120, 10\n",
        "accuracy = (tp + tn) / (tp + tn + fp + fn)\n",
        "print(f\"연습문제 1 (정확도): {accuracy:.2f}\") # (60+120)/(60+120+10+10) = 180/200 = 0.9\n",
        "\n",
        "# 연습문제 2 정답: 정밀도\n",
        "precision = tp / (tp + fp)\n",
        "print(f\"연습문제 2 (정밀도): {precision:.2f}\") # 60/(60+10) = 60/70 = 0.86\n",
        "\n",
        "# 연습문제 3 정답: 재현율\n",
        "recall = tp / (tp + fn)\n",
        "print(f\"연습문제 3 (재현율): {recall:.2f}\") # 60/(60+10) = 60/70 = 0.86\n",
        "\n",
        "# 연습문제 4 정답: F1 Score\n",
        "f1 = 2 * (precision * recall) / (precision + recall)\n",
        "print(f\"연습문제 4 (F1 Score): {f1:.2f}\") # 2 * (0.86 * 0.86) / (0.86 + 0.86) = 0.86\n",
        "\n",
        "# 연습문제 5 정답: Macro F1 vs Weighted F1\n",
        "print(\"\\n--- 연습문제 5 ---\")\n",
        "print(\"Macro F1은 소수 클래스 C의 낮은 점수(0.5)를 그대로 반영하여 평균을 낮추는 반면, \")\n",
        "print(\"Weighted F1은 샘플 수가 압도적으로 많은 A클래스의 높은 점수(0.9)에 큰 가중치를 두기 때문에 Weighted F1이 더 높게 나옵니다.\")\n",
        "\n",
        "# 연습문제 6 정답: AUC 비교\n",
        "print(\"\\n--- 연습문제 6 ---\")\n",
        "print(\"모델 A (AUC=0.92)가 모델 B (AUC=0.78)보다 전반적인 성능이 더 우수합니다.\")\n",
        "print(\"AUC는 모델이 Positive와 Negative 클래스를 얼마나 잘 구별하는지를 나타내는 지표이며, 1에 가까울수록 성능이 좋기 때문입니다.\")"
      ]
    }
  ],
  "metadata": {
    "language_info": {
      "name": "python"
    }
  },
  "nbformat": 4,
  "nbformat_minor": 0
}
