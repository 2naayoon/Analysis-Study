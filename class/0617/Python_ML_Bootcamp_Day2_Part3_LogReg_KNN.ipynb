{
  "cells": [
    {
      "cell_type": "markdown",
      "metadata": {
        "id": "ojDopVDe5v-b"
      },
      "source": [
        "### 🚀 Day 2-3: 첫 분류 모델 구축하기 - 로지스틱 회귀 & K-NN\n",
        "\n",
        "지난 시간에는 머신러닝 모델의 성능을 좌우하는 가장 중요한 단계 중 하나인 **데이터 전처리**에 대해 배웠습니다. \n",
        "\n",
        "결측치를 채우고, 범주형 변수를 숫자로 변환하고, 데이터의 스케일을 맞추는 등 '정제된 재료'를 준비하는 과정을 마쳤습니다.\n",
        "\n",
        "이제 우리는 잘 준비된 데이터를 가지고, 고객이 이탈할지 아닐지를 예측하는 첫 **분류(Classification)** 모델을 직접 만들어 볼 차례입니다. \n",
        "\n",
        "이번 시간에는 가장 기본적이면서도 강력한 두 가지 분류 알고리즘, **로지스틱 회귀(Logistic Regression)** 와 **K-최근접 이웃(K-Nearest Neighbors, K-NN)** 에 대해 배우게 됩니다.\n",
        "\n",
        "두 모델은 문제를 해결하는 접근 방식이 완전히 다릅니다.\n",
        "\n",
        "* **로지스틱 회귀** 는 데이터가 특정 클래스에 속할 **확률** 을 계산하여 예측하는, 통계에 기반한 선형 모델입니다.\n",
        "  \n",
        "* **K-NN** 은 \"끼리끼리 모인다\"는 단순한 아이디어에서 출발하여, 새로운 데이터 주변의 **가장 가까운 'k'개 이웃** 을 보고 클래스를 결정하는, 거리 기반 모델입니다.\n",
        "\n",
        "이번 챕터를 통해 우리는 각 모델의 작동 원리를 이해하고, `scikit-learn`으로 직접 구현해 볼 것입니다. \n",
        "\n",
        "또한, 모델의 성능을 결정하는 **하이퍼파라미터** 를 조정하고, 모델이 어떻게 클래스를 구분하는지 보여주는 **결정 경계(Decision Boundary)** 를 시각화하여 모델의 '생각'을 엿보는 흥미로운 경험을 하게 될 것입니다.\n",
        "\n",
        "이번 실습에서도 **통신사 고객 이탈(Telco Customer Churn) 데이터셋** 을 계속 사용하며, Part 2에서 구축한 전처리 파이프라인을 적극적으로 활용할 것입니다. 그럼, 첫 분류 모델을 향한 여정을 시작해볼까요?"
      ]
    },
    {
      "cell_type": "markdown",
      "metadata": {},
      "source": [
        "\n",
        "---\n",
        "\n",
        "### 1. 실습 환경 및 데이터 준비\n",
        "\n",
        "본격적인 모델링에 앞서, 이전 파트에서 완성한 전처리 파이프라인을 포함한 기본 코드를 준비합니다.\n",
        "\n",
        "이 파이프라인은 수치형 데이터와 범주형 데이터를 각각 다르게 처리하여 모델이 학습할 수 있는 형태로 만들어줍니다.\n",
        "\n",
        "#### 💻 코드"
      ]
    },
    {
      "cell_type": "code",
      "execution_count": 1,
      "metadata": {
        "id": "eNTGxMFW5v-d"
      },
      "outputs": [],
      "source": [
        "# --- 기본 라이브러리 임포트 ---\n",
        "import pandas as pd\n",
        "import numpy as np\n",
        "import plotly.express as px\n",
        "import plotly.graph_objects as go\n",
        "from plotly.subplots import make_subplots\n",
        "pd.options.plotting.backend = \"plotly\""
      ]
    },
    {
      "cell_type": "code",
      "execution_count": 2,
      "metadata": {},
      "outputs": [],
      "source": [
        "\n",
        "# --- scikit-learn 도구 임포트 ---\n",
        "from sklearn.model_selection import train_test_split\n",
        "from sklearn.impute import SimpleImputer\n",
        "from sklearn.preprocessing import StandardScaler, OneHotEncoder\n",
        "from sklearn.pipeline import Pipeline\n",
        "from sklearn.compose import ColumnTransformer\n",
        "from sklearn.linear_model import LogisticRegression\n",
        "from sklearn.neighbors import KNeighborsClassifier\n",
        "from sklearn.metrics import accuracy_score, confusion_matrix, roc_auc_score, roc_curve\n",
        "from sklearn.decomposition import PCA"
      ]
    },
    {
      "cell_type": "code",
      "execution_count": 3,
      "metadata": {},
      "outputs": [
        {
          "data": {
            "text/html": [
              "<div>\n",
              "<style scoped>\n",
              "    .dataframe tbody tr th:only-of-type {\n",
              "        vertical-align: middle;\n",
              "    }\n",
              "\n",
              "    .dataframe tbody tr th {\n",
              "        vertical-align: top;\n",
              "    }\n",
              "\n",
              "    .dataframe thead th {\n",
              "        text-align: right;\n",
              "    }\n",
              "</style>\n",
              "<table border=\"1\" class=\"dataframe\">\n",
              "  <thead>\n",
              "    <tr style=\"text-align: right;\">\n",
              "      <th></th>\n",
              "      <th>customerID</th>\n",
              "      <th>gender</th>\n",
              "      <th>SeniorCitizen</th>\n",
              "      <th>Partner</th>\n",
              "      <th>Dependents</th>\n",
              "      <th>tenure</th>\n",
              "      <th>PhoneService</th>\n",
              "      <th>MultipleLines</th>\n",
              "      <th>InternetService</th>\n",
              "      <th>OnlineSecurity</th>\n",
              "      <th>...</th>\n",
              "      <th>DeviceProtection</th>\n",
              "      <th>TechSupport</th>\n",
              "      <th>StreamingTV</th>\n",
              "      <th>StreamingMovies</th>\n",
              "      <th>Contract</th>\n",
              "      <th>PaperlessBilling</th>\n",
              "      <th>PaymentMethod</th>\n",
              "      <th>MonthlyCharges</th>\n",
              "      <th>TotalCharges</th>\n",
              "      <th>Churn</th>\n",
              "    </tr>\n",
              "  </thead>\n",
              "  <tbody>\n",
              "    <tr>\n",
              "      <th>0</th>\n",
              "      <td>7590-VHVEG</td>\n",
              "      <td>Female</td>\n",
              "      <td>0</td>\n",
              "      <td>Yes</td>\n",
              "      <td>No</td>\n",
              "      <td>1</td>\n",
              "      <td>No</td>\n",
              "      <td>No phone service</td>\n",
              "      <td>DSL</td>\n",
              "      <td>No</td>\n",
              "      <td>...</td>\n",
              "      <td>No</td>\n",
              "      <td>No</td>\n",
              "      <td>No</td>\n",
              "      <td>No</td>\n",
              "      <td>Month-to-month</td>\n",
              "      <td>Yes</td>\n",
              "      <td>Electronic check</td>\n",
              "      <td>29.85</td>\n",
              "      <td>29.85</td>\n",
              "      <td>No</td>\n",
              "    </tr>\n",
              "    <tr>\n",
              "      <th>1</th>\n",
              "      <td>5575-GNVDE</td>\n",
              "      <td>Male</td>\n",
              "      <td>0</td>\n",
              "      <td>No</td>\n",
              "      <td>No</td>\n",
              "      <td>34</td>\n",
              "      <td>Yes</td>\n",
              "      <td>No</td>\n",
              "      <td>DSL</td>\n",
              "      <td>Yes</td>\n",
              "      <td>...</td>\n",
              "      <td>Yes</td>\n",
              "      <td>No</td>\n",
              "      <td>No</td>\n",
              "      <td>No</td>\n",
              "      <td>One year</td>\n",
              "      <td>No</td>\n",
              "      <td>Mailed check</td>\n",
              "      <td>56.95</td>\n",
              "      <td>1889.5</td>\n",
              "      <td>No</td>\n",
              "    </tr>\n",
              "    <tr>\n",
              "      <th>2</th>\n",
              "      <td>3668-QPYBK</td>\n",
              "      <td>Male</td>\n",
              "      <td>0</td>\n",
              "      <td>No</td>\n",
              "      <td>No</td>\n",
              "      <td>2</td>\n",
              "      <td>Yes</td>\n",
              "      <td>No</td>\n",
              "      <td>DSL</td>\n",
              "      <td>Yes</td>\n",
              "      <td>...</td>\n",
              "      <td>No</td>\n",
              "      <td>No</td>\n",
              "      <td>No</td>\n",
              "      <td>No</td>\n",
              "      <td>Month-to-month</td>\n",
              "      <td>Yes</td>\n",
              "      <td>Mailed check</td>\n",
              "      <td>53.85</td>\n",
              "      <td>108.15</td>\n",
              "      <td>Yes</td>\n",
              "    </tr>\n",
              "    <tr>\n",
              "      <th>3</th>\n",
              "      <td>7795-CFOCW</td>\n",
              "      <td>Male</td>\n",
              "      <td>0</td>\n",
              "      <td>No</td>\n",
              "      <td>No</td>\n",
              "      <td>45</td>\n",
              "      <td>No</td>\n",
              "      <td>No phone service</td>\n",
              "      <td>DSL</td>\n",
              "      <td>Yes</td>\n",
              "      <td>...</td>\n",
              "      <td>Yes</td>\n",
              "      <td>Yes</td>\n",
              "      <td>No</td>\n",
              "      <td>No</td>\n",
              "      <td>One year</td>\n",
              "      <td>No</td>\n",
              "      <td>Bank transfer (automatic)</td>\n",
              "      <td>42.30</td>\n",
              "      <td>1840.75</td>\n",
              "      <td>No</td>\n",
              "    </tr>\n",
              "    <tr>\n",
              "      <th>4</th>\n",
              "      <td>9237-HQITU</td>\n",
              "      <td>Female</td>\n",
              "      <td>0</td>\n",
              "      <td>No</td>\n",
              "      <td>No</td>\n",
              "      <td>2</td>\n",
              "      <td>Yes</td>\n",
              "      <td>No</td>\n",
              "      <td>Fiber optic</td>\n",
              "      <td>No</td>\n",
              "      <td>...</td>\n",
              "      <td>No</td>\n",
              "      <td>No</td>\n",
              "      <td>No</td>\n",
              "      <td>No</td>\n",
              "      <td>Month-to-month</td>\n",
              "      <td>Yes</td>\n",
              "      <td>Electronic check</td>\n",
              "      <td>70.70</td>\n",
              "      <td>151.65</td>\n",
              "      <td>Yes</td>\n",
              "    </tr>\n",
              "  </tbody>\n",
              "</table>\n",
              "<p>5 rows × 21 columns</p>\n",
              "</div>"
            ],
            "text/plain": [
              "   customerID  gender  SeniorCitizen Partner Dependents  tenure PhoneService  \\\n",
              "0  7590-VHVEG  Female              0     Yes         No       1           No   \n",
              "1  5575-GNVDE    Male              0      No         No      34          Yes   \n",
              "2  3668-QPYBK    Male              0      No         No       2          Yes   \n",
              "3  7795-CFOCW    Male              0      No         No      45           No   \n",
              "4  9237-HQITU  Female              0      No         No       2          Yes   \n",
              "\n",
              "      MultipleLines InternetService OnlineSecurity  ... DeviceProtection  \\\n",
              "0  No phone service             DSL             No  ...               No   \n",
              "1                No             DSL            Yes  ...              Yes   \n",
              "2                No             DSL            Yes  ...               No   \n",
              "3  No phone service             DSL            Yes  ...              Yes   \n",
              "4                No     Fiber optic             No  ...               No   \n",
              "\n",
              "  TechSupport StreamingTV StreamingMovies        Contract PaperlessBilling  \\\n",
              "0          No          No              No  Month-to-month              Yes   \n",
              "1          No          No              No        One year               No   \n",
              "2          No          No              No  Month-to-month              Yes   \n",
              "3         Yes          No              No        One year               No   \n",
              "4          No          No              No  Month-to-month              Yes   \n",
              "\n",
              "               PaymentMethod MonthlyCharges  TotalCharges Churn  \n",
              "0           Electronic check          29.85         29.85    No  \n",
              "1               Mailed check          56.95        1889.5    No  \n",
              "2               Mailed check          53.85        108.15   Yes  \n",
              "3  Bank transfer (automatic)          42.30       1840.75    No  \n",
              "4           Electronic check          70.70        151.65   Yes  \n",
              "\n",
              "[5 rows x 21 columns]"
            ]
          },
          "execution_count": 3,
          "metadata": {},
          "output_type": "execute_result"
        }
      ],
      "source": [
        "# --- 데이터셋 로드 및 기본 전처리 ---\n",
        "path = '../datasets/ml/telco-customer-churn/WA_Fn-UseC_-Telco-Customer-Churn.csv' # 파일 경로는 환경에 맞게 조정하세요.\n",
        "df = pd.read_csv(path)\n",
        "df.head()"
      ]
    },
    {
      "cell_type": "code",
      "execution_count": 4,
      "metadata": {},
      "outputs": [
        {
          "name": "stdout",
          "output_type": "stream",
          "text": [
            "<class 'pandas.core.frame.DataFrame'>\n",
            "RangeIndex: 7043 entries, 0 to 7042\n",
            "Data columns (total 21 columns):\n",
            " #   Column            Non-Null Count  Dtype  \n",
            "---  ------            --------------  -----  \n",
            " 0   customerID        7043 non-null   object \n",
            " 1   gender            7043 non-null   object \n",
            " 2   SeniorCitizen     7043 non-null   int64  \n",
            " 3   Partner           7043 non-null   object \n",
            " 4   Dependents        7043 non-null   object \n",
            " 5   tenure            7043 non-null   int64  \n",
            " 6   PhoneService      7043 non-null   object \n",
            " 7   MultipleLines     7043 non-null   object \n",
            " 8   InternetService   7043 non-null   object \n",
            " 9   OnlineSecurity    7043 non-null   object \n",
            " 10  OnlineBackup      7043 non-null   object \n",
            " 11  DeviceProtection  7043 non-null   object \n",
            " 12  TechSupport       7043 non-null   object \n",
            " 13  StreamingTV       7043 non-null   object \n",
            " 14  StreamingMovies   7043 non-null   object \n",
            " 15  Contract          7043 non-null   object \n",
            " 16  PaperlessBilling  7043 non-null   object \n",
            " 17  PaymentMethod     7043 non-null   object \n",
            " 18  MonthlyCharges    7043 non-null   float64\n",
            " 19  TotalCharges      7043 non-null   object \n",
            " 20  Churn             7043 non-null   object \n",
            "dtypes: float64(1), int64(2), object(18)\n",
            "memory usage: 1.1+ MB\n"
          ]
        }
      ],
      "source": [
        "df.info()"
      ]
    },
    {
      "cell_type": "code",
      "execution_count": 5,
      "metadata": {},
      "outputs": [
        {
          "data": {
            "text/html": [
              "<div>\n",
              "<style scoped>\n",
              "    .dataframe tbody tr th:only-of-type {\n",
              "        vertical-align: middle;\n",
              "    }\n",
              "\n",
              "    .dataframe tbody tr th {\n",
              "        vertical-align: top;\n",
              "    }\n",
              "\n",
              "    .dataframe thead th {\n",
              "        text-align: right;\n",
              "    }\n",
              "</style>\n",
              "<table border=\"1\" class=\"dataframe\">\n",
              "  <thead>\n",
              "    <tr style=\"text-align: right;\">\n",
              "      <th></th>\n",
              "      <th>TotalCharges</th>\n",
              "    </tr>\n",
              "  </thead>\n",
              "  <tbody>\n",
              "    <tr>\n",
              "      <th>0</th>\n",
              "      <td>29.85</td>\n",
              "    </tr>\n",
              "    <tr>\n",
              "      <th>1</th>\n",
              "      <td>1889.50</td>\n",
              "    </tr>\n",
              "    <tr>\n",
              "      <th>2</th>\n",
              "      <td>108.15</td>\n",
              "    </tr>\n",
              "    <tr>\n",
              "      <th>3</th>\n",
              "      <td>1840.75</td>\n",
              "    </tr>\n",
              "    <tr>\n",
              "      <th>4</th>\n",
              "      <td>151.65</td>\n",
              "    </tr>\n",
              "  </tbody>\n",
              "</table>\n",
              "</div>"
            ],
            "text/plain": [
              "   TotalCharges\n",
              "0         29.85\n",
              "1       1889.50\n",
              "2        108.15\n",
              "3       1840.75\n",
              "4        151.65"
            ]
          },
          "execution_count": 5,
          "metadata": {},
          "output_type": "execute_result"
        }
      ],
      "source": [
        "df['TotalCharges'] = pd.to_numeric(df['TotalCharges'], errors='coerce')\n",
        "df.drop('customerID', axis=1, inplace=True)\n",
        "df[['TotalCharges']].head()\n"
      ]
    },
    {
      "cell_type": "code",
      "execution_count": 6,
      "metadata": {},
      "outputs": [],
      "source": [
        "# --- 특성과 타겟 분리 ---\n",
        "X = df.drop('Churn', axis=1)\n",
        "y = df['Churn'].apply(lambda x: 1 if x == 'Yes' else 0) # 타겟을 0과 1로 변환\n",
        "\n",
        "# --- 훈련/테스트 데이터 분리 ---\n",
        "X_train, X_test, y_train, y_test = train_test_split(X, y, test_size=0.2, random_state=42, stratify=y)"
      ]
    },
    {
      "cell_type": "code",
      "execution_count": 7,
      "metadata": {},
      "outputs": [],
      "source": [
        "# --- 전처리 파이프라인 (Day 2-2에서 구축) ---\n",
        "# 수치형 특성 식별\n",
        "numeric_features = X.select_dtypes(include=np.number).columns.tolist()\n",
        "# 범주형 특성 식별\n",
        "categorical_features = X.select_dtypes(include='object').columns.tolist()\n",
        "\n",
        "# 수치형 변수 전처리 파이프라인\n",
        "numeric_transformer = Pipeline(steps=[\n",
        "    ('imputer', SimpleImputer(strategy='median')),\n",
        "    ('scaler', StandardScaler())\n",
        "])\n",
        "\n",
        "# 범주형 변수 전처리 파이프라인\n",
        "categorical_transformer = Pipeline(steps=[\n",
        "    ('imputer', SimpleImputer(strategy='most_frequent')),\n",
        "    ('onehot', OneHotEncoder(handle_unknown='ignore'))\n",
        "])\n",
        "\n",
        "# ColumnTransformer를 사용하여 두 파이프라인 통합\n",
        "preprocessor = ColumnTransformer(\n",
        "    transformers=[\n",
        "        ('num', numeric_transformer, numeric_features),\n",
        "        ('cat', categorical_transformer, categorical_features)\n",
        "    ])"
      ]
    },
    {
      "cell_type": "markdown",
      "metadata": {
        "id": "5xXXgku_5v-d"
      },
      "source": [
        "---\n",
        "\n",
        "### 2. 로지스틱 회귀 (Logistic Regression)\n",
        "\n",
        "이름에 '회귀(Regression)'가 들어가 있지만, 로지스틱 회귀는 분류 문제를 해결하는 데 널리 사용되는 핵심 알고리즘입니다. \n",
        "\n",
        "데이터가 특정 클래스에 속할 확률을 예측하고, 그 확률을 바탕으로 클래스를 결정합니다.\n",
        "\n",
        "#### 🧠 개념 이해하기\n",
        "\n",
        "로지스틱 회귀의 핵심 아이디어는 **시그모이드 함수(Sigmoid Function)** 에 있습니다. \n",
        "\n",
        "선형 회귀가 예측값을 직선 형태로 출력하는 반면, 로지스틱 회귀는 선형 함수의 결과를 시그모이드 함수에 통과시켜 0과 1 사이의 값, 즉 **확률** 로 변환합니다.\n",
        "\n",
        "$$S(z) = \\frac{1}{1 + e^{-z}}$$\n",
        "\n",
        "<img src=\"https://blog.kakaocdn.net/dn/sib2q/btsDJkfaBMy/pkKQYrLYXHVDODrXvQNqK0/img.png\">\n",
        "\n",
        "여기서 $z$는 입력 특성(feature)들의 선형 조합($z = w_0 + w_1x_1 + ... + w_nx_n$)입니다.\n",
        "\n",
        "* $z$가 매우 큰 양수이면 $e^{-z}$는 0에 가까워지고, $S(z)$는 1에 가까워집니다.\n",
        "* $z$가 매우 작은 음수이면 $e^{-z}$는 무한대에 가까워지고, $S(z)$는 0에 가까워집니다.\n",
        "* $z$가 0이면 $S(z)$는 정확히 0.5가 됩니다.\n",
        "\n",
        "이렇게 계산된 확률값을 바탕으로, 우리는 **결정 경계(Decision Boundary)** 라는 기준(보통 0.5)을 사용하여 클래스를 최종적으로 결정합니다. \n",
        "\n",
        "예를 들어, 시그모이드 함수 출력이 0.5 이상이면 '이탈(1)', 0.5 미만이면 '비이탈(0)'로 예측하는 식입니다.\n",
        "\n",
        "로지스틱 회귀는 각 특성에 대한 **계수(coefficient)** 를 학습하는데, 이 계수 값은 해당 특성이 결과에 얼마나 큰 영향을 미치는지(중요도)와 긍정적인 영향인지 부정적인 영향인지를 알려주는 중요한 지표가 됩니다.\n",
        "\n",
        "#### 💻 코드로 알아보기\n",
        "\n",
        "이제 `scikit-learn`의 `Pipeline`을 사용하여 전처리 과정과 로지스틱 회귀 모델을 하나로 묶어 학습시켜 보겠습니다."
      ]
    },
    {
      "cell_type": "code",
      "execution_count": 33,
      "metadata": {
        "id": "lLd7BJJi5v-e"
      },
      "outputs": [
        {
          "name": "stdout",
          "output_type": "stream",
          "text": [
            "로지스틱 회귀 모델 정확도: 0.8055\n"
          ]
        }
      ],
      "source": [
        "# 로지스틱 회귀 모델을 포함하는 최종 파이프라인 구축\n",
        "lr_pipeline = Pipeline(steps=[\n",
        "    ('preprocessor', preprocessor),\n",
        "    ('classifier', LogisticRegression(solver='liblinear', random_state=42))\n",
        "])\n",
        "\n",
        "# 파이프라인 학습\n",
        "lr_pipeline.fit(X_train, y_train)\n",
        "\n",
        "# 예측 및 정확도 평가\n",
        "y_pred_lr = lr_pipeline.predict(X_test)\n",
        "accuracy_lr = accuracy_score(y_test, y_pred_lr)\n",
        "\n",
        "print(f\"로지스틱 회귀 모델 정확도: {accuracy_lr:.4f}\")"
      ]
    },
    {
      "cell_type": "markdown",
      "metadata": {
        "id": "UYYG7rGV5v-e"
      },
      "source": [
        "모델의 계수를 시각화하여 어떤 특성이 고객 이탈에 큰 영향을 미치는지 확인해볼 수 있습니다."
      ]
    },
    {
      "cell_type": "code",
      "execution_count": 19,
      "metadata": {
        "id": "pxoAtXVz5v-e"
      },
      "outputs": [
        {
          "data": {
            "text/plain": [
              "array(['gender_Female', 'gender_Male', 'Partner_No', 'Partner_Yes',\n",
              "       'Dependents_No', 'Dependents_Yes', 'PhoneService_No',\n",
              "       'PhoneService_Yes', 'MultipleLines_No',\n",
              "       'MultipleLines_No phone service', 'MultipleLines_Yes',\n",
              "       'InternetService_DSL', 'InternetService_Fiber optic',\n",
              "       'InternetService_No', 'OnlineSecurity_No',\n",
              "       'OnlineSecurity_No internet service', 'OnlineSecurity_Yes',\n",
              "       'OnlineBackup_No', 'OnlineBackup_No internet service',\n",
              "       'OnlineBackup_Yes', 'DeviceProtection_No',\n",
              "       'DeviceProtection_No internet service', 'DeviceProtection_Yes',\n",
              "       'TechSupport_No', 'TechSupport_No internet service',\n",
              "       'TechSupport_Yes', 'StreamingTV_No',\n",
              "       'StreamingTV_No internet service', 'StreamingTV_Yes',\n",
              "       'StreamingMovies_No', 'StreamingMovies_No internet service',\n",
              "       'StreamingMovies_Yes', 'Contract_Month-to-month',\n",
              "       'Contract_One year', 'Contract_Two year', 'PaperlessBilling_No',\n",
              "       'PaperlessBilling_Yes', 'PaymentMethod_Bank transfer (automatic)',\n",
              "       'PaymentMethod_Credit card (automatic)',\n",
              "       'PaymentMethod_Electronic check', 'PaymentMethod_Mailed check'],\n",
              "      dtype=object)"
            ]
          },
          "execution_count": 19,
          "metadata": {},
          "output_type": "execute_result"
        }
      ],
      "source": [
        "# 파이프라인에서 학습된 특성 이름 가져오기\n",
        "# OneHotEncoder가 적용된 범주형 특성 이름 추출\n",
        "ohe_feature_names = lr_pipeline.named_steps['preprocessor'].named_transformers_['cat'].named_steps['onehot'].get_feature_names_out(categorical_features)\n",
        "ohe_feature_names\n"
      ]
    },
    {
      "cell_type": "code",
      "execution_count": 20,
      "metadata": {},
      "outputs": [],
      "source": [
        "# 수치형 특성 이름과 합치기\n",
        "all_feature_names = np.concatenate([numeric_features, ohe_feature_names])"
      ]
    },
    {
      "cell_type": "code",
      "execution_count": 21,
      "metadata": {},
      "outputs": [
        {
          "data": {
            "text/plain": [
              "array([ 0.0537084 , -1.23622347, -0.55761927,  0.51181599, -0.18594614,\n",
              "       -0.16400886, -0.18556076, -0.16439424, -0.06239472, -0.28756028,\n",
              "       -0.14830908, -0.20164593, -0.29003419, -0.14830908,  0.08838826,\n",
              "       -0.65282034,  0.60913538, -0.30627005,  0.14477885, -0.30627005,\n",
              "       -0.18846381,  0.0204946 , -0.30627005, -0.06417956, -0.04733005,\n",
              "       -0.30627005,  0.00364509,  0.11933782, -0.30627005, -0.16302277,\n",
              "       -0.22531528, -0.30627005,  0.18163032, -0.22556157, -0.30627005,\n",
              "        0.18187662,  0.56788412, -0.13165901, -0.78618012, -0.36102837,\n",
              "        0.01107337, -0.19533435, -0.22487268,  0.18911597, -0.11886395])"
            ]
          },
          "execution_count": 21,
          "metadata": {},
          "output_type": "execute_result"
        }
      ],
      "source": [
        "# 파이프라인에서 학습된 로지스틱 회귀 모델의 계수 가져오기\n",
        "coeffs = lr_pipeline.named_steps['classifier'].coef_[0]\n",
        "coeffs"
      ]
    },
    {
      "cell_type": "code",
      "execution_count": 22,
      "metadata": {},
      "outputs": [
        {
          "data": {
            "text/html": [
              "<div>\n",
              "<style scoped>\n",
              "    .dataframe tbody tr th:only-of-type {\n",
              "        vertical-align: middle;\n",
              "    }\n",
              "\n",
              "    .dataframe tbody tr th {\n",
              "        vertical-align: top;\n",
              "    }\n",
              "\n",
              "    .dataframe thead th {\n",
              "        text-align: right;\n",
              "    }\n",
              "</style>\n",
              "<table border=\"1\" class=\"dataframe\">\n",
              "  <thead>\n",
              "    <tr style=\"text-align: right;\">\n",
              "      <th></th>\n",
              "      <th>Feature</th>\n",
              "      <th>Coefficient</th>\n",
              "      <th>abs_coeff</th>\n",
              "    </tr>\n",
              "  </thead>\n",
              "  <tbody>\n",
              "    <tr>\n",
              "      <th>1</th>\n",
              "      <td>tenure</td>\n",
              "      <td>-1.236223</td>\n",
              "      <td>1.236223</td>\n",
              "    </tr>\n",
              "    <tr>\n",
              "      <th>38</th>\n",
              "      <td>Contract_Two year</td>\n",
              "      <td>-0.786180</td>\n",
              "      <td>0.786180</td>\n",
              "    </tr>\n",
              "    <tr>\n",
              "      <th>15</th>\n",
              "      <td>InternetService_DSL</td>\n",
              "      <td>-0.652820</td>\n",
              "      <td>0.652820</td>\n",
              "    </tr>\n",
              "    <tr>\n",
              "      <th>16</th>\n",
              "      <td>InternetService_Fiber optic</td>\n",
              "      <td>0.609135</td>\n",
              "      <td>0.609135</td>\n",
              "    </tr>\n",
              "    <tr>\n",
              "      <th>36</th>\n",
              "      <td>Contract_Month-to-month</td>\n",
              "      <td>0.567884</td>\n",
              "      <td>0.567884</td>\n",
              "    </tr>\n",
              "    <tr>\n",
              "      <th>2</th>\n",
              "      <td>MonthlyCharges</td>\n",
              "      <td>-0.557619</td>\n",
              "      <td>0.557619</td>\n",
              "    </tr>\n",
              "    <tr>\n",
              "      <th>3</th>\n",
              "      <td>TotalCharges</td>\n",
              "      <td>0.511816</td>\n",
              "      <td>0.511816</td>\n",
              "    </tr>\n",
              "    <tr>\n",
              "      <th>39</th>\n",
              "      <td>PaperlessBilling_No</td>\n",
              "      <td>-0.361028</td>\n",
              "      <td>0.361028</td>\n",
              "    </tr>\n",
              "    <tr>\n",
              "      <th>22</th>\n",
              "      <td>OnlineBackup_No internet service</td>\n",
              "      <td>-0.306270</td>\n",
              "      <td>0.306270</td>\n",
              "    </tr>\n",
              "    <tr>\n",
              "      <th>28</th>\n",
              "      <td>TechSupport_No internet service</td>\n",
              "      <td>-0.306270</td>\n",
              "      <td>0.306270</td>\n",
              "    </tr>\n",
              "    <tr>\n",
              "      <th>19</th>\n",
              "      <td>OnlineSecurity_No internet service</td>\n",
              "      <td>-0.306270</td>\n",
              "      <td>0.306270</td>\n",
              "    </tr>\n",
              "    <tr>\n",
              "      <th>17</th>\n",
              "      <td>InternetService_No</td>\n",
              "      <td>-0.306270</td>\n",
              "      <td>0.306270</td>\n",
              "    </tr>\n",
              "    <tr>\n",
              "      <th>25</th>\n",
              "      <td>DeviceProtection_No internet service</td>\n",
              "      <td>-0.306270</td>\n",
              "      <td>0.306270</td>\n",
              "    </tr>\n",
              "    <tr>\n",
              "      <th>31</th>\n",
              "      <td>StreamingTV_No internet service</td>\n",
              "      <td>-0.306270</td>\n",
              "      <td>0.306270</td>\n",
              "    </tr>\n",
              "    <tr>\n",
              "      <th>34</th>\n",
              "      <td>StreamingMovies_No internet service</td>\n",
              "      <td>-0.306270</td>\n",
              "      <td>0.306270</td>\n",
              "    </tr>\n",
              "  </tbody>\n",
              "</table>\n",
              "</div>"
            ],
            "text/plain": [
              "                                 Feature  Coefficient  abs_coeff\n",
              "1                                 tenure    -1.236223   1.236223\n",
              "38                     Contract_Two year    -0.786180   0.786180\n",
              "15                   InternetService_DSL    -0.652820   0.652820\n",
              "16           InternetService_Fiber optic     0.609135   0.609135\n",
              "36               Contract_Month-to-month     0.567884   0.567884\n",
              "2                         MonthlyCharges    -0.557619   0.557619\n",
              "3                           TotalCharges     0.511816   0.511816\n",
              "39                   PaperlessBilling_No    -0.361028   0.361028\n",
              "22      OnlineBackup_No internet service    -0.306270   0.306270\n",
              "28       TechSupport_No internet service    -0.306270   0.306270\n",
              "19    OnlineSecurity_No internet service    -0.306270   0.306270\n",
              "17                    InternetService_No    -0.306270   0.306270\n",
              "25  DeviceProtection_No internet service    -0.306270   0.306270\n",
              "31       StreamingTV_No internet service    -0.306270   0.306270\n",
              "34   StreamingMovies_No internet service    -0.306270   0.306270"
            ]
          },
          "execution_count": 22,
          "metadata": {},
          "output_type": "execute_result"
        }
      ],
      "source": [
        "# 계수를 데이터프레임으로 만들고 정렬\n",
        "coeff_df = pd.DataFrame(zip(all_feature_names, coeffs), columns=['Feature', 'Coefficient'])\n",
        "coeff_df['abs_coeff'] = np.abs(coeff_df['Coefficient'])\n",
        "coeff_df_sorted = coeff_df.sort_values('abs_coeff', ascending=False).head(15)\n",
        "coeff_df_sorted"
      ]
    },
    {
      "cell_type": "code",
      "execution_count": 23,
      "metadata": {},
      "outputs": [
        {
          "data": {
            "application/vnd.plotly.v1+json": {
              "config": {
                "plotlyServerURL": "https://plot.ly"
              },
              "data": [
                {
                  "hovertemplate": "Coefficient=%{marker.color}<br>Feature=%{y}<extra></extra>",
                  "legendgroup": "",
                  "marker": {
                    "color": {
                      "bdata": "eGWzQpLH878HZdc0Yyjpv/OqVHnn4+S/OfhWfAl+4z8OZgtRGyziP5G6VVwE2OG/NuzO6stg4D85X4jAFhvXv7dzIbbtmdO/t3Mhtu2Z07+3cyG27ZnTv7dzIbbtmdO/t3Mhtu2Z07+3cyG27ZnTv7dzIbbtmdO/",
                      "dtype": "f8"
                    },
                    "coloraxis": "coloraxis",
                    "pattern": {
                      "shape": ""
                    }
                  },
                  "name": "",
                  "orientation": "h",
                  "showlegend": false,
                  "textposition": "auto",
                  "type": "bar",
                  "x": {
                    "bdata": "eGWzQpLH878HZdc0Yyjpv/OqVHnn4+S/OfhWfAl+4z8OZgtRGyziP5G6VVwE2OG/NuzO6stg4D85X4jAFhvXv7dzIbbtmdO/t3Mhtu2Z07+3cyG27ZnTv7dzIbbtmdO/t3Mhtu2Z07+3cyG27ZnTv7dzIbbtmdO/",
                    "dtype": "f8"
                  },
                  "xaxis": "x",
                  "y": [
                    "tenure",
                    "Contract_Two year",
                    "InternetService_DSL",
                    "InternetService_Fiber optic",
                    "Contract_Month-to-month",
                    "MonthlyCharges",
                    "TotalCharges",
                    "PaperlessBilling_No",
                    "OnlineBackup_No internet service",
                    "TechSupport_No internet service",
                    "OnlineSecurity_No internet service",
                    "InternetService_No",
                    "DeviceProtection_No internet service",
                    "StreamingTV_No internet service",
                    "StreamingMovies_No internet service"
                  ],
                  "yaxis": "y"
                }
              ],
              "layout": {
                "barmode": "relative",
                "coloraxis": {
                  "colorbar": {
                    "title": {
                      "text": "Coefficient"
                    }
                  },
                  "colorscale": [
                    [
                      0,
                      "#440154"
                    ],
                    [
                      0.1111111111111111,
                      "#482878"
                    ],
                    [
                      0.2222222222222222,
                      "#3e4989"
                    ],
                    [
                      0.3333333333333333,
                      "#31688e"
                    ],
                    [
                      0.4444444444444444,
                      "#26828e"
                    ],
                    [
                      0.5555555555555556,
                      "#1f9e89"
                    ],
                    [
                      0.6666666666666666,
                      "#35b779"
                    ],
                    [
                      0.7777777777777778,
                      "#6ece58"
                    ],
                    [
                      0.8888888888888888,
                      "#b5de2b"
                    ],
                    [
                      1,
                      "#fde725"
                    ]
                  ]
                },
                "legend": {
                  "tracegroupgap": 0
                },
                "template": {
                  "data": {
                    "bar": [
                      {
                        "error_x": {
                          "color": "#2a3f5f"
                        },
                        "error_y": {
                          "color": "#2a3f5f"
                        },
                        "marker": {
                          "line": {
                            "color": "#E5ECF6",
                            "width": 0.5
                          },
                          "pattern": {
                            "fillmode": "overlay",
                            "size": 10,
                            "solidity": 0.2
                          }
                        },
                        "type": "bar"
                      }
                    ],
                    "barpolar": [
                      {
                        "marker": {
                          "line": {
                            "color": "#E5ECF6",
                            "width": 0.5
                          },
                          "pattern": {
                            "fillmode": "overlay",
                            "size": 10,
                            "solidity": 0.2
                          }
                        },
                        "type": "barpolar"
                      }
                    ],
                    "carpet": [
                      {
                        "aaxis": {
                          "endlinecolor": "#2a3f5f",
                          "gridcolor": "white",
                          "linecolor": "white",
                          "minorgridcolor": "white",
                          "startlinecolor": "#2a3f5f"
                        },
                        "baxis": {
                          "endlinecolor": "#2a3f5f",
                          "gridcolor": "white",
                          "linecolor": "white",
                          "minorgridcolor": "white",
                          "startlinecolor": "#2a3f5f"
                        },
                        "type": "carpet"
                      }
                    ],
                    "choropleth": [
                      {
                        "colorbar": {
                          "outlinewidth": 0,
                          "ticks": ""
                        },
                        "type": "choropleth"
                      }
                    ],
                    "contour": [
                      {
                        "colorbar": {
                          "outlinewidth": 0,
                          "ticks": ""
                        },
                        "colorscale": [
                          [
                            0,
                            "#0d0887"
                          ],
                          [
                            0.1111111111111111,
                            "#46039f"
                          ],
                          [
                            0.2222222222222222,
                            "#7201a8"
                          ],
                          [
                            0.3333333333333333,
                            "#9c179e"
                          ],
                          [
                            0.4444444444444444,
                            "#bd3786"
                          ],
                          [
                            0.5555555555555556,
                            "#d8576b"
                          ],
                          [
                            0.6666666666666666,
                            "#ed7953"
                          ],
                          [
                            0.7777777777777778,
                            "#fb9f3a"
                          ],
                          [
                            0.8888888888888888,
                            "#fdca26"
                          ],
                          [
                            1,
                            "#f0f921"
                          ]
                        ],
                        "type": "contour"
                      }
                    ],
                    "contourcarpet": [
                      {
                        "colorbar": {
                          "outlinewidth": 0,
                          "ticks": ""
                        },
                        "type": "contourcarpet"
                      }
                    ],
                    "heatmap": [
                      {
                        "colorbar": {
                          "outlinewidth": 0,
                          "ticks": ""
                        },
                        "colorscale": [
                          [
                            0,
                            "#0d0887"
                          ],
                          [
                            0.1111111111111111,
                            "#46039f"
                          ],
                          [
                            0.2222222222222222,
                            "#7201a8"
                          ],
                          [
                            0.3333333333333333,
                            "#9c179e"
                          ],
                          [
                            0.4444444444444444,
                            "#bd3786"
                          ],
                          [
                            0.5555555555555556,
                            "#d8576b"
                          ],
                          [
                            0.6666666666666666,
                            "#ed7953"
                          ],
                          [
                            0.7777777777777778,
                            "#fb9f3a"
                          ],
                          [
                            0.8888888888888888,
                            "#fdca26"
                          ],
                          [
                            1,
                            "#f0f921"
                          ]
                        ],
                        "type": "heatmap"
                      }
                    ],
                    "histogram": [
                      {
                        "marker": {
                          "pattern": {
                            "fillmode": "overlay",
                            "size": 10,
                            "solidity": 0.2
                          }
                        },
                        "type": "histogram"
                      }
                    ],
                    "histogram2d": [
                      {
                        "colorbar": {
                          "outlinewidth": 0,
                          "ticks": ""
                        },
                        "colorscale": [
                          [
                            0,
                            "#0d0887"
                          ],
                          [
                            0.1111111111111111,
                            "#46039f"
                          ],
                          [
                            0.2222222222222222,
                            "#7201a8"
                          ],
                          [
                            0.3333333333333333,
                            "#9c179e"
                          ],
                          [
                            0.4444444444444444,
                            "#bd3786"
                          ],
                          [
                            0.5555555555555556,
                            "#d8576b"
                          ],
                          [
                            0.6666666666666666,
                            "#ed7953"
                          ],
                          [
                            0.7777777777777778,
                            "#fb9f3a"
                          ],
                          [
                            0.8888888888888888,
                            "#fdca26"
                          ],
                          [
                            1,
                            "#f0f921"
                          ]
                        ],
                        "type": "histogram2d"
                      }
                    ],
                    "histogram2dcontour": [
                      {
                        "colorbar": {
                          "outlinewidth": 0,
                          "ticks": ""
                        },
                        "colorscale": [
                          [
                            0,
                            "#0d0887"
                          ],
                          [
                            0.1111111111111111,
                            "#46039f"
                          ],
                          [
                            0.2222222222222222,
                            "#7201a8"
                          ],
                          [
                            0.3333333333333333,
                            "#9c179e"
                          ],
                          [
                            0.4444444444444444,
                            "#bd3786"
                          ],
                          [
                            0.5555555555555556,
                            "#d8576b"
                          ],
                          [
                            0.6666666666666666,
                            "#ed7953"
                          ],
                          [
                            0.7777777777777778,
                            "#fb9f3a"
                          ],
                          [
                            0.8888888888888888,
                            "#fdca26"
                          ],
                          [
                            1,
                            "#f0f921"
                          ]
                        ],
                        "type": "histogram2dcontour"
                      }
                    ],
                    "mesh3d": [
                      {
                        "colorbar": {
                          "outlinewidth": 0,
                          "ticks": ""
                        },
                        "type": "mesh3d"
                      }
                    ],
                    "parcoords": [
                      {
                        "line": {
                          "colorbar": {
                            "outlinewidth": 0,
                            "ticks": ""
                          }
                        },
                        "type": "parcoords"
                      }
                    ],
                    "pie": [
                      {
                        "automargin": true,
                        "type": "pie"
                      }
                    ],
                    "scatter": [
                      {
                        "fillpattern": {
                          "fillmode": "overlay",
                          "size": 10,
                          "solidity": 0.2
                        },
                        "type": "scatter"
                      }
                    ],
                    "scatter3d": [
                      {
                        "line": {
                          "colorbar": {
                            "outlinewidth": 0,
                            "ticks": ""
                          }
                        },
                        "marker": {
                          "colorbar": {
                            "outlinewidth": 0,
                            "ticks": ""
                          }
                        },
                        "type": "scatter3d"
                      }
                    ],
                    "scattercarpet": [
                      {
                        "marker": {
                          "colorbar": {
                            "outlinewidth": 0,
                            "ticks": ""
                          }
                        },
                        "type": "scattercarpet"
                      }
                    ],
                    "scattergeo": [
                      {
                        "marker": {
                          "colorbar": {
                            "outlinewidth": 0,
                            "ticks": ""
                          }
                        },
                        "type": "scattergeo"
                      }
                    ],
                    "scattergl": [
                      {
                        "marker": {
                          "colorbar": {
                            "outlinewidth": 0,
                            "ticks": ""
                          }
                        },
                        "type": "scattergl"
                      }
                    ],
                    "scattermap": [
                      {
                        "marker": {
                          "colorbar": {
                            "outlinewidth": 0,
                            "ticks": ""
                          }
                        },
                        "type": "scattermap"
                      }
                    ],
                    "scattermapbox": [
                      {
                        "marker": {
                          "colorbar": {
                            "outlinewidth": 0,
                            "ticks": ""
                          }
                        },
                        "type": "scattermapbox"
                      }
                    ],
                    "scatterpolar": [
                      {
                        "marker": {
                          "colorbar": {
                            "outlinewidth": 0,
                            "ticks": ""
                          }
                        },
                        "type": "scatterpolar"
                      }
                    ],
                    "scatterpolargl": [
                      {
                        "marker": {
                          "colorbar": {
                            "outlinewidth": 0,
                            "ticks": ""
                          }
                        },
                        "type": "scatterpolargl"
                      }
                    ],
                    "scatterternary": [
                      {
                        "marker": {
                          "colorbar": {
                            "outlinewidth": 0,
                            "ticks": ""
                          }
                        },
                        "type": "scatterternary"
                      }
                    ],
                    "surface": [
                      {
                        "colorbar": {
                          "outlinewidth": 0,
                          "ticks": ""
                        },
                        "colorscale": [
                          [
                            0,
                            "#0d0887"
                          ],
                          [
                            0.1111111111111111,
                            "#46039f"
                          ],
                          [
                            0.2222222222222222,
                            "#7201a8"
                          ],
                          [
                            0.3333333333333333,
                            "#9c179e"
                          ],
                          [
                            0.4444444444444444,
                            "#bd3786"
                          ],
                          [
                            0.5555555555555556,
                            "#d8576b"
                          ],
                          [
                            0.6666666666666666,
                            "#ed7953"
                          ],
                          [
                            0.7777777777777778,
                            "#fb9f3a"
                          ],
                          [
                            0.8888888888888888,
                            "#fdca26"
                          ],
                          [
                            1,
                            "#f0f921"
                          ]
                        ],
                        "type": "surface"
                      }
                    ],
                    "table": [
                      {
                        "cells": {
                          "fill": {
                            "color": "#EBF0F8"
                          },
                          "line": {
                            "color": "white"
                          }
                        },
                        "header": {
                          "fill": {
                            "color": "#C8D4E3"
                          },
                          "line": {
                            "color": "white"
                          }
                        },
                        "type": "table"
                      }
                    ]
                  },
                  "layout": {
                    "annotationdefaults": {
                      "arrowcolor": "#2a3f5f",
                      "arrowhead": 0,
                      "arrowwidth": 1
                    },
                    "autotypenumbers": "strict",
                    "coloraxis": {
                      "colorbar": {
                        "outlinewidth": 0,
                        "ticks": ""
                      }
                    },
                    "colorscale": {
                      "diverging": [
                        [
                          0,
                          "#8e0152"
                        ],
                        [
                          0.1,
                          "#c51b7d"
                        ],
                        [
                          0.2,
                          "#de77ae"
                        ],
                        [
                          0.3,
                          "#f1b6da"
                        ],
                        [
                          0.4,
                          "#fde0ef"
                        ],
                        [
                          0.5,
                          "#f7f7f7"
                        ],
                        [
                          0.6,
                          "#e6f5d0"
                        ],
                        [
                          0.7,
                          "#b8e186"
                        ],
                        [
                          0.8,
                          "#7fbc41"
                        ],
                        [
                          0.9,
                          "#4d9221"
                        ],
                        [
                          1,
                          "#276419"
                        ]
                      ],
                      "sequential": [
                        [
                          0,
                          "#0d0887"
                        ],
                        [
                          0.1111111111111111,
                          "#46039f"
                        ],
                        [
                          0.2222222222222222,
                          "#7201a8"
                        ],
                        [
                          0.3333333333333333,
                          "#9c179e"
                        ],
                        [
                          0.4444444444444444,
                          "#bd3786"
                        ],
                        [
                          0.5555555555555556,
                          "#d8576b"
                        ],
                        [
                          0.6666666666666666,
                          "#ed7953"
                        ],
                        [
                          0.7777777777777778,
                          "#fb9f3a"
                        ],
                        [
                          0.8888888888888888,
                          "#fdca26"
                        ],
                        [
                          1,
                          "#f0f921"
                        ]
                      ],
                      "sequentialminus": [
                        [
                          0,
                          "#0d0887"
                        ],
                        [
                          0.1111111111111111,
                          "#46039f"
                        ],
                        [
                          0.2222222222222222,
                          "#7201a8"
                        ],
                        [
                          0.3333333333333333,
                          "#9c179e"
                        ],
                        [
                          0.4444444444444444,
                          "#bd3786"
                        ],
                        [
                          0.5555555555555556,
                          "#d8576b"
                        ],
                        [
                          0.6666666666666666,
                          "#ed7953"
                        ],
                        [
                          0.7777777777777778,
                          "#fb9f3a"
                        ],
                        [
                          0.8888888888888888,
                          "#fdca26"
                        ],
                        [
                          1,
                          "#f0f921"
                        ]
                      ]
                    },
                    "colorway": [
                      "#636efa",
                      "#EF553B",
                      "#00cc96",
                      "#ab63fa",
                      "#FFA15A",
                      "#19d3f3",
                      "#FF6692",
                      "#B6E880",
                      "#FF97FF",
                      "#FECB52"
                    ],
                    "font": {
                      "color": "#2a3f5f"
                    },
                    "geo": {
                      "bgcolor": "white",
                      "lakecolor": "white",
                      "landcolor": "#E5ECF6",
                      "showlakes": true,
                      "showland": true,
                      "subunitcolor": "white"
                    },
                    "hoverlabel": {
                      "align": "left"
                    },
                    "hovermode": "closest",
                    "mapbox": {
                      "style": "light"
                    },
                    "paper_bgcolor": "white",
                    "plot_bgcolor": "#E5ECF6",
                    "polar": {
                      "angularaxis": {
                        "gridcolor": "white",
                        "linecolor": "white",
                        "ticks": ""
                      },
                      "bgcolor": "#E5ECF6",
                      "radialaxis": {
                        "gridcolor": "white",
                        "linecolor": "white",
                        "ticks": ""
                      }
                    },
                    "scene": {
                      "xaxis": {
                        "backgroundcolor": "#E5ECF6",
                        "gridcolor": "white",
                        "gridwidth": 2,
                        "linecolor": "white",
                        "showbackground": true,
                        "ticks": "",
                        "zerolinecolor": "white"
                      },
                      "yaxis": {
                        "backgroundcolor": "#E5ECF6",
                        "gridcolor": "white",
                        "gridwidth": 2,
                        "linecolor": "white",
                        "showbackground": true,
                        "ticks": "",
                        "zerolinecolor": "white"
                      },
                      "zaxis": {
                        "backgroundcolor": "#E5ECF6",
                        "gridcolor": "white",
                        "gridwidth": 2,
                        "linecolor": "white",
                        "showbackground": true,
                        "ticks": "",
                        "zerolinecolor": "white"
                      }
                    },
                    "shapedefaults": {
                      "line": {
                        "color": "#2a3f5f"
                      }
                    },
                    "ternary": {
                      "aaxis": {
                        "gridcolor": "white",
                        "linecolor": "white",
                        "ticks": ""
                      },
                      "baxis": {
                        "gridcolor": "white",
                        "linecolor": "white",
                        "ticks": ""
                      },
                      "bgcolor": "#E5ECF6",
                      "caxis": {
                        "gridcolor": "white",
                        "linecolor": "white",
                        "ticks": ""
                      }
                    },
                    "title": {
                      "x": 0.05
                    },
                    "xaxis": {
                      "automargin": true,
                      "gridcolor": "white",
                      "linecolor": "white",
                      "ticks": "",
                      "title": {
                        "standoff": 15
                      },
                      "zerolinecolor": "white",
                      "zerolinewidth": 2
                    },
                    "yaxis": {
                      "automargin": true,
                      "gridcolor": "white",
                      "linecolor": "white",
                      "ticks": "",
                      "title": {
                        "standoff": 15
                      },
                      "zerolinecolor": "white",
                      "zerolinewidth": 2
                    }
                  }
                },
                "title": {
                  "text": "로지스틱 회귀 모델의 주요 특성 계수"
                },
                "xaxis": {
                  "anchor": "y",
                  "domain": [
                    0,
                    1
                  ],
                  "title": {
                    "text": "Coefficient"
                  }
                },
                "yaxis": {
                  "anchor": "x",
                  "categoryorder": "total ascending",
                  "domain": [
                    0,
                    1
                  ],
                  "title": {
                    "text": "Feature"
                  }
                }
              }
            }
          },
          "metadata": {},
          "output_type": "display_data"
        }
      ],
      "source": [
        "\n",
        "# Plotly로 계수 시각화\n",
        "fig = px.bar(coeff_df_sorted,\n",
        "             x='Coefficient',\n",
        "             y='Feature',\n",
        "             orientation='h',\n",
        "             title='로지스틱 회귀 모델의 주요 특성 계수',\n",
        "             color='Coefficient',\n",
        "             color_continuous_scale='Viridis')\n",
        "fig.update_layout(yaxis={'categoryorder':'total ascending'})\n",
        "fig.show()"
      ]
    },
    {
      "cell_type": "markdown",
      "metadata": {
        "id": "zKUAX46U5v-e"
      },
      "source": [
        "#### ✏️ 연습문제 1: 로지스틱 회귀 `solver` 변경하기\n",
        "\n",
        "`LogisticRegression`의 `solver`는 최적의 계수를 찾는 데 사용되는 알고리즘을 지정하는 하이퍼파라미터입니다. \n",
        "\n",
        "`solver='liblinear'`를 `'lbfgs'`로 변경하여 파이프라인을 다시 학습시키고 정확도를 비교해보세요.\n",
        "\n",
        "\n",
        "**로지스틱 회귀 Solver 비교**\n",
        " - **liblinear**: 작은 데이터셋에 적합하며, L1/L2 규제를 모두 지원합니다. 좌표 하강법을 사용합니다.\n",
        " - **lbfgs**: 중간~큰 데이터셋에 효율적이며, L2 규제만 지원합니다. 유사 뉴턴 방법을 사용하여 빠른 수렴이 가능합니다.\n",
        "\n",
        "예시: `LogisticRegression(solver='lbfgs')`\n"
      ]
    },
    {
      "cell_type": "code",
      "execution_count": null,
      "metadata": {
        "id": "EpNO87eL5v-f"
      },
      "outputs": [],
      "source": [
        "# 연습문제 1 코드"
      ]
    },
    {
      "cell_type": "markdown",
      "metadata": {
        "id": "imbyTB7z5v-f"
      },
      "source": [
        "#### ✏️ 연습문제 2: 규제(Regularization) 강도 조절하기\n",
        "\n",
        "로지스틱 회귀에서 `C`는 규제 강도를 조절하는 하이퍼파라미터입니다.\n",
        "\n",
        " `C` 값이 작을수록 규제가 강해져 모델이 단순해지고(과적합 방지), 클수록 규제가 약해져 훈련 데이터에 더 적합됩니다.\n",
        " \n",
        "  `C` 값을 `0.1`, `1`, `10`으로 변경하며 모델을 각각 학습시키고 정확도를 비교해보세요.\n",
        "\n",
        "  예시: `LogisticRegression(solver='liblinear', C=1)`"
      ]
    },
    {
      "cell_type": "code",
      "execution_count": null,
      "metadata": {
        "id": "85DnhQ0C5v-f"
      },
      "outputs": [],
      "source": [
        "# 연습문제 2 코드"
      ]
    },
    {
      "cell_type": "markdown",
      "metadata": {
        "id": "wcbbsWWB5v-g"
      },
      "source": [
        "---\n",
        "\n",
        "### 3. K-최근접 이웃 (K-Nearest Neighbors, K-NN)\n",
        "\n",
        "K-NN은 가장 직관적인 머신러닝 알고리즘 중 하나입니다. \n",
        "\n",
        "예측하려는 새로운 데이터가 주어지면, 기존 훈련 데이터 중에서 가장 가까운 'k'개의 이웃을 찾습니다. \n",
        "\n",
        "그리고 그 이웃들이 가장 많이 속한 클래스로 새로운 데이터의 클래스를 예측합니다.\n",
        "\n",
        "<img src=\"https://blog.kakaocdn.net/dn/I6kNm/btruNidgs1i/CTokD5WZCccW7yFqa7PXtk/img.png\">\n",
        "\n",
        "#### 🧠 개념 이해하기\n",
        "\n",
        "K-NN의 핵심 개념은 다음과 같습니다.\n",
        "\n",
        "1.  **거리 측정(Distance Metric)**: 두 데이터 포인트가 얼마나 '가까운지'를 측정하는 방법입니다.\n",
        "   \n",
        "    가장 흔하게는 **유클리드 거리(Euclidean Distance)** 가 사용됩니다.\n",
        "\n",
        "    $$d(p, q) = \\sqrt{(q_1 - p_1)^2 + (q_2 - p_2)^2 + ... + (q_n - p_n)^2}$$\n",
        "\n",
        "2.  **이웃의 수 'k'**: 몇 개의 이웃을 보고 클래스를 결정할지를 정하는 하이퍼파라미터입니다.\n",
        "    * **작은 k (e.g., k=1)**: 모델이 매우 유연해지며, 훈련 데이터의 노이즈에 민감해져 **과적합(Overfitting)** 되기 쉽습니다. 결정 경계가 매우 복잡해집니다.\n",
        "  \n",
        "    * **큰 k (e.g., k=100)**: 주변의 많은 데이터를 참고하므로 예측이 부드러워지지만, 다른 클래스의 데이터까지 이웃으로 포함하게 되어 **과소적합(Underfitting)** 될 수 있습니다. 결정 경계가 단순해집니다.\n",
        "  \n",
        "3.  **특성 스케일링의 중요성**: K-NN은 거리를 기반으로 하기 때문에, 특성들의 값 범위(scale)가 다르면 모델이 왜곡될 수 있습니다.\n",
        "   \n",
        "    예를 들어 '가입 기간(tenure)'(0~72)과 '월 요금(MonthlyCharges)'(20~120)이 있을 때, 스케일이 더 큰 월 요금이 거리 계산에 더 큰 영향을 미치게 됩니다. \n",
        "    \n",
        "    따라서 K-NN을 사용할 때는 `StandardScaler`나 `MinMaxScaler`를 사용한 **특성 스케일링이 거의 필수적**입니다. (우리의 `preprocessor` 파이프라인에는 이미 `StandardScaler`가 포함되어 있습니다!)\n",
        "\n",
        "#### 💻 코드로 알아보기\n",
        "\n",
        "이제 K-NN 모델을 파이프라인에 적용해 보겠습니다."
      ]
    },
    {
      "cell_type": "code",
      "execution_count": 8,
      "metadata": {
        "id": "pZJQ-spE5v-g"
      },
      "outputs": [
        {
          "name": "stdout",
          "output_type": "stream",
          "text": [
            "K-NN (k=5) 모델 정확도: 0.7637\n"
          ]
        }
      ],
      "source": [
        "# K-NN 모델을 포함하는 최종 파이프라인 구축 (기본 k=5)\n",
        "knn_pipeline = Pipeline(steps=[\n",
        "    ('preprocessor', preprocessor),\n",
        "    ('classifier', KNeighborsClassifier()) # n_neighbors의 기본값은 5입니다.\n",
        "])\n",
        "\n",
        "# 파이프라인 학습\n",
        "knn_pipeline.fit(X_train, y_train)\n",
        "\n",
        "# 예측 및 정확도 평가\n",
        "y_pred_knn = knn_pipeline.predict(X_test)\n",
        "accuracy_knn = accuracy_score(y_test, y_pred_knn)\n",
        "\n",
        "print(f\"K-NN (k=5) 모델 정확도: {accuracy_knn:.4f}\")"
      ]
    },
    {
      "cell_type": "markdown",
      "metadata": {
        "id": "bVA2oJJ-5v-g"
      },
      "source": [
        "#### ✏️ 연습문제 3: 최적의 'k' 값 찾아보기\n",
        "\n",
        "`KNeighborsClassifier`의 `n_neighbors` 값을 `3, 5, 7, 11, 15`로 변경해가면서 K-NN 모델을 학습시키고, 각 k값에 대한 정확도를 출력하여 어떤 k값이 가장 좋은 성능을 보이는지 확인해보세요."
      ]
    },
    {
      "cell_type": "code",
      "execution_count": 9,
      "metadata": {
        "id": "2eGtzTUH5v-g"
      },
      "outputs": [
        {
          "name": "stdout",
          "output_type": "stream",
          "text": [
            "k=3 일 때 K-NN 모델 정확도: 0.7537\n",
            "k=5 일 때 K-NN 모델 정확도: 0.7637\n",
            "k=7 일 때 K-NN 모델 정확도: 0.7651\n",
            "k=11 일 때 K-NN 모델 정확도: 0.7786\n",
            "k=15 일 때 K-NN 모델 정확도: 0.7779\n"
          ]
        }
      ],
      "source": [
        "# 연습문제 3 코드\n",
        "k_values = [3, 5, 7, 11, 15]\n",
        "for k in k_values:\n",
        "    knn_pipeline_k = Pipeline(steps=[\n",
        "        ('preprocessor', preprocessor),\n",
        "        ('classifier', KNeighborsClassifier(n_neighbors=k))\n",
        "    ])\n",
        "\n",
        "    # 파이프라인 학습 및 평가 코드를 작성하세요.\n",
        "    knn_pipeline_k.fit(X_train, y_train)\n",
        "    accuracy = knn_pipeline_k.score(X_test, y_test)\n",
        "    print(f\"k={k} 일 때 K-NN 모델 정확도: {accuracy:.4f}\")"
      ]
    },
    {
      "cell_type": "markdown",
      "metadata": {
        "id": "tcmxD7R65v-g"
      },
      "source": [
        "#### ✏️ 연습문제 4: 이웃에 가중치 부여하기\n",
        "\n",
        "`KNeighborsClassifier`의 `weights` 하이퍼파라미터를 `'distance'`로 설정하면, 예측 시 가까운 이웃에게 더 큰 가중치를 부여합니다. (기본값은 `'uniform'`으로 모든 이웃이 동일한 투표권을 가집니다.) `weights='distance'`로 설정한 K-NN 모델(k=11)을 학습시키고, `'uniform'`일 때와 정확도를 비교해보세요.\n",
        "\n",
        "예시 : `KNeighborsClassifier(n_neighbors=3, weights='distance')`"
      ]
    },
    {
      "cell_type": "code",
      "execution_count": 10,
      "metadata": {
        "id": "G4LiBrtQ5v-g"
      },
      "outputs": [
        {
          "name": "stdout",
          "output_type": "stream",
          "text": [
            "k=11, weights='distance' 모델 정확도: 0.7722\n"
          ]
        }
      ],
      "source": [
        "# 연습문제 4 코드\n",
        "knn_pipeline_dist = Pipeline(steps=[\n",
        "    ('preprocessor', preprocessor),\n",
        "    # k=11, weights='distance'로 설정\n",
        "    ('classifier', KNeighborsClassifier(n_neighbors=11, weights='distance'))\n",
        "])\n",
        "\n",
        "# 파이프라인 학습 및 평가 코드를 작성하세요.\n",
        "knn_pipeline_dist.fit(X_train, y_train)\n",
        "accuracy_dist = knn_pipeline_dist.score(X_test, y_test)\n",
        "print(f\"k=11, weights='distance' 모델 정확도: {accuracy_dist:.4f}\")"
      ]
    },
    {
      "cell_type": "markdown",
      "metadata": {
        "id": "WFP7Ck145v-g"
      },
      "source": [
        "---\n",
        "\n",
        "### 4. 결정 경계(Decision Boundary) 시각화\n",
        "\n",
        "모델이 데이터를 어떻게 구분하는지 직접 눈으로 확인하면, 모델의 특성을 훨씬 깊게 이해할 수 있습니다. \n",
        "\n",
        "결정 경계는 특성 공간에서 클래스를 나누는 '선' 또는 '면'을 의미합니다.\n",
        "\n",
        "다만, 우리 데이터는 수십 개의 특성(차원)을 가지고 있어 그대로 시각화할 수 없습니다. \n",
        "\n",
        "따라서 **주성분 분석(PCA, Principal Component Analysis)** 이라는 차원 축소 기법을 사용하여 데이터의 주요 패턴을 유지한 채 2개의 특성(2차원)으로 압축한 뒤, 이 2차원 평면상에 결정 경계를 그려보겠습니다.\n",
        "\n",
        "#### 💻 코드로 알아보기\n",
        "\n",
        "결정 경계를 그리기 위한 헬퍼(helper) 함수와 PCA가 포함된 새로운 파이프라인을 정의하겠습니다."
      ]
    },
    {
      "cell_type": "code",
      "execution_count": 11,
      "metadata": {},
      "outputs": [
        {
          "data": {
            "text/plain": [
              "(5634, 19)"
            ]
          },
          "execution_count": 11,
          "metadata": {},
          "output_type": "execute_result"
        }
      ],
      "source": [
        "X_train.shape"
      ]
    },
    {
      "cell_type": "code",
      "execution_count": 12,
      "metadata": {},
      "outputs": [
        {
          "data": {
            "text/plain": [
              "(5634, 45)"
            ]
          },
          "execution_count": 12,
          "metadata": {},
          "output_type": "execute_result"
        }
      ],
      "source": [
        "preprocessor.fit_transform(X_train).shape"
      ]
    },
    {
      "cell_type": "code",
      "execution_count": 15,
      "metadata": {},
      "outputs": [],
      "source": [
        "import numpy as np\n",
        "import pandas as pd\n",
        "from sklearn.decomposition import PCA\n",
        "import plotly.graph_objects as go\n",
        "\n",
        "# 1. PCA를 사용하여 데이터를 2차원으로 축소\n",
        "pca = PCA(n_components=2)\n",
        "X_pca = pca.fit_transform(preprocessor.fit_transform(X_train))\n"
      ]
    },
    {
      "cell_type": "code",
      "execution_count": 16,
      "metadata": {},
      "outputs": [
        {
          "data": {
            "text/plain": [
              "(5634, 2)"
            ]
          },
          "execution_count": 16,
          "metadata": {},
          "output_type": "execute_result"
        }
      ],
      "source": [
        "X_pca.shape"
      ]
    },
    {
      "cell_type": "code",
      "execution_count": 19,
      "metadata": {},
      "outputs": [
        {
          "data": {
            "text/plain": [
              "array([[-0.1431894 , -0.59347442],\n",
              "       [-0.51281954, -0.95793988],\n",
              "       [-1.02566642,  0.13208244],\n",
              "       ...,\n",
              "       [ 1.5743875 , -1.2282861 ],\n",
              "       [-2.72467437,  1.622901  ],\n",
              "       [-3.35798613,  0.60009308]])"
            ]
          },
          "execution_count": 19,
          "metadata": {},
          "output_type": "execute_result"
        }
      ],
      "source": [
        "X_pca"
      ]
    },
    {
      "cell_type": "code",
      "execution_count": 18,
      "metadata": {},
      "outputs": [
        {
          "data": {
            "text/html": [
              "<style>#sk-container-id-1 {\n",
              "  /* Definition of color scheme common for light and dark mode */\n",
              "  --sklearn-color-text: #000;\n",
              "  --sklearn-color-text-muted: #666;\n",
              "  --sklearn-color-line: gray;\n",
              "  /* Definition of color scheme for unfitted estimators */\n",
              "  --sklearn-color-unfitted-level-0: #fff5e6;\n",
              "  --sklearn-color-unfitted-level-1: #f6e4d2;\n",
              "  --sklearn-color-unfitted-level-2: #ffe0b3;\n",
              "  --sklearn-color-unfitted-level-3: chocolate;\n",
              "  /* Definition of color scheme for fitted estimators */\n",
              "  --sklearn-color-fitted-level-0: #f0f8ff;\n",
              "  --sklearn-color-fitted-level-1: #d4ebff;\n",
              "  --sklearn-color-fitted-level-2: #b3dbfd;\n",
              "  --sklearn-color-fitted-level-3: cornflowerblue;\n",
              "\n",
              "  /* Specific color for light theme */\n",
              "  --sklearn-color-text-on-default-background: var(--sg-text-color, var(--theme-code-foreground, var(--jp-content-font-color1, black)));\n",
              "  --sklearn-color-background: var(--sg-background-color, var(--theme-background, var(--jp-layout-color0, white)));\n",
              "  --sklearn-color-border-box: var(--sg-text-color, var(--theme-code-foreground, var(--jp-content-font-color1, black)));\n",
              "  --sklearn-color-icon: #696969;\n",
              "\n",
              "  @media (prefers-color-scheme: dark) {\n",
              "    /* Redefinition of color scheme for dark theme */\n",
              "    --sklearn-color-text-on-default-background: var(--sg-text-color, var(--theme-code-foreground, var(--jp-content-font-color1, white)));\n",
              "    --sklearn-color-background: var(--sg-background-color, var(--theme-background, var(--jp-layout-color0, #111)));\n",
              "    --sklearn-color-border-box: var(--sg-text-color, var(--theme-code-foreground, var(--jp-content-font-color1, white)));\n",
              "    --sklearn-color-icon: #878787;\n",
              "  }\n",
              "}\n",
              "\n",
              "#sk-container-id-1 {\n",
              "  color: var(--sklearn-color-text);\n",
              "}\n",
              "\n",
              "#sk-container-id-1 pre {\n",
              "  padding: 0;\n",
              "}\n",
              "\n",
              "#sk-container-id-1 input.sk-hidden--visually {\n",
              "  border: 0;\n",
              "  clip: rect(1px 1px 1px 1px);\n",
              "  clip: rect(1px, 1px, 1px, 1px);\n",
              "  height: 1px;\n",
              "  margin: -1px;\n",
              "  overflow: hidden;\n",
              "  padding: 0;\n",
              "  position: absolute;\n",
              "  width: 1px;\n",
              "}\n",
              "\n",
              "#sk-container-id-1 div.sk-dashed-wrapped {\n",
              "  border: 1px dashed var(--sklearn-color-line);\n",
              "  margin: 0 0.4em 0.5em 0.4em;\n",
              "  box-sizing: border-box;\n",
              "  padding-bottom: 0.4em;\n",
              "  background-color: var(--sklearn-color-background);\n",
              "}\n",
              "\n",
              "#sk-container-id-1 div.sk-container {\n",
              "  /* jupyter's `normalize.less` sets `[hidden] { display: none; }`\n",
              "     but bootstrap.min.css set `[hidden] { display: none !important; }`\n",
              "     so we also need the `!important` here to be able to override the\n",
              "     default hidden behavior on the sphinx rendered scikit-learn.org.\n",
              "     See: https://github.com/scikit-learn/scikit-learn/issues/21755 */\n",
              "  display: inline-block !important;\n",
              "  position: relative;\n",
              "}\n",
              "\n",
              "#sk-container-id-1 div.sk-text-repr-fallback {\n",
              "  display: none;\n",
              "}\n",
              "\n",
              "div.sk-parallel-item,\n",
              "div.sk-serial,\n",
              "div.sk-item {\n",
              "  /* draw centered vertical line to link estimators */\n",
              "  background-image: linear-gradient(var(--sklearn-color-text-on-default-background), var(--sklearn-color-text-on-default-background));\n",
              "  background-size: 2px 100%;\n",
              "  background-repeat: no-repeat;\n",
              "  background-position: center center;\n",
              "}\n",
              "\n",
              "/* Parallel-specific style estimator block */\n",
              "\n",
              "#sk-container-id-1 div.sk-parallel-item::after {\n",
              "  content: \"\";\n",
              "  width: 100%;\n",
              "  border-bottom: 2px solid var(--sklearn-color-text-on-default-background);\n",
              "  flex-grow: 1;\n",
              "}\n",
              "\n",
              "#sk-container-id-1 div.sk-parallel {\n",
              "  display: flex;\n",
              "  align-items: stretch;\n",
              "  justify-content: center;\n",
              "  background-color: var(--sklearn-color-background);\n",
              "  position: relative;\n",
              "}\n",
              "\n",
              "#sk-container-id-1 div.sk-parallel-item {\n",
              "  display: flex;\n",
              "  flex-direction: column;\n",
              "}\n",
              "\n",
              "#sk-container-id-1 div.sk-parallel-item:first-child::after {\n",
              "  align-self: flex-end;\n",
              "  width: 50%;\n",
              "}\n",
              "\n",
              "#sk-container-id-1 div.sk-parallel-item:last-child::after {\n",
              "  align-self: flex-start;\n",
              "  width: 50%;\n",
              "}\n",
              "\n",
              "#sk-container-id-1 div.sk-parallel-item:only-child::after {\n",
              "  width: 0;\n",
              "}\n",
              "\n",
              "/* Serial-specific style estimator block */\n",
              "\n",
              "#sk-container-id-1 div.sk-serial {\n",
              "  display: flex;\n",
              "  flex-direction: column;\n",
              "  align-items: center;\n",
              "  background-color: var(--sklearn-color-background);\n",
              "  padding-right: 1em;\n",
              "  padding-left: 1em;\n",
              "}\n",
              "\n",
              "\n",
              "/* Toggleable style: style used for estimator/Pipeline/ColumnTransformer box that is\n",
              "clickable and can be expanded/collapsed.\n",
              "- Pipeline and ColumnTransformer use this feature and define the default style\n",
              "- Estimators will overwrite some part of the style using the `sk-estimator` class\n",
              "*/\n",
              "\n",
              "/* Pipeline and ColumnTransformer style (default) */\n",
              "\n",
              "#sk-container-id-1 div.sk-toggleable {\n",
              "  /* Default theme specific background. It is overwritten whether we have a\n",
              "  specific estimator or a Pipeline/ColumnTransformer */\n",
              "  background-color: var(--sklearn-color-background);\n",
              "}\n",
              "\n",
              "/* Toggleable label */\n",
              "#sk-container-id-1 label.sk-toggleable__label {\n",
              "  cursor: pointer;\n",
              "  display: flex;\n",
              "  width: 100%;\n",
              "  margin-bottom: 0;\n",
              "  padding: 0.5em;\n",
              "  box-sizing: border-box;\n",
              "  text-align: center;\n",
              "  align-items: start;\n",
              "  justify-content: space-between;\n",
              "  gap: 0.5em;\n",
              "}\n",
              "\n",
              "#sk-container-id-1 label.sk-toggleable__label .caption {\n",
              "  font-size: 0.6rem;\n",
              "  font-weight: lighter;\n",
              "  color: var(--sklearn-color-text-muted);\n",
              "}\n",
              "\n",
              "#sk-container-id-1 label.sk-toggleable__label-arrow:before {\n",
              "  /* Arrow on the left of the label */\n",
              "  content: \"▸\";\n",
              "  float: left;\n",
              "  margin-right: 0.25em;\n",
              "  color: var(--sklearn-color-icon);\n",
              "}\n",
              "\n",
              "#sk-container-id-1 label.sk-toggleable__label-arrow:hover:before {\n",
              "  color: var(--sklearn-color-text);\n",
              "}\n",
              "\n",
              "/* Toggleable content - dropdown */\n",
              "\n",
              "#sk-container-id-1 div.sk-toggleable__content {\n",
              "  max-height: 0;\n",
              "  max-width: 0;\n",
              "  overflow: hidden;\n",
              "  text-align: left;\n",
              "  /* unfitted */\n",
              "  background-color: var(--sklearn-color-unfitted-level-0);\n",
              "}\n",
              "\n",
              "#sk-container-id-1 div.sk-toggleable__content.fitted {\n",
              "  /* fitted */\n",
              "  background-color: var(--sklearn-color-fitted-level-0);\n",
              "}\n",
              "\n",
              "#sk-container-id-1 div.sk-toggleable__content pre {\n",
              "  margin: 0.2em;\n",
              "  border-radius: 0.25em;\n",
              "  color: var(--sklearn-color-text);\n",
              "  /* unfitted */\n",
              "  background-color: var(--sklearn-color-unfitted-level-0);\n",
              "}\n",
              "\n",
              "#sk-container-id-1 div.sk-toggleable__content.fitted pre {\n",
              "  /* unfitted */\n",
              "  background-color: var(--sklearn-color-fitted-level-0);\n",
              "}\n",
              "\n",
              "#sk-container-id-1 input.sk-toggleable__control:checked~div.sk-toggleable__content {\n",
              "  /* Expand drop-down */\n",
              "  max-height: 200px;\n",
              "  max-width: 100%;\n",
              "  overflow: auto;\n",
              "}\n",
              "\n",
              "#sk-container-id-1 input.sk-toggleable__control:checked~label.sk-toggleable__label-arrow:before {\n",
              "  content: \"▾\";\n",
              "}\n",
              "\n",
              "/* Pipeline/ColumnTransformer-specific style */\n",
              "\n",
              "#sk-container-id-1 div.sk-label input.sk-toggleable__control:checked~label.sk-toggleable__label {\n",
              "  color: var(--sklearn-color-text);\n",
              "  background-color: var(--sklearn-color-unfitted-level-2);\n",
              "}\n",
              "\n",
              "#sk-container-id-1 div.sk-label.fitted input.sk-toggleable__control:checked~label.sk-toggleable__label {\n",
              "  background-color: var(--sklearn-color-fitted-level-2);\n",
              "}\n",
              "\n",
              "/* Estimator-specific style */\n",
              "\n",
              "/* Colorize estimator box */\n",
              "#sk-container-id-1 div.sk-estimator input.sk-toggleable__control:checked~label.sk-toggleable__label {\n",
              "  /* unfitted */\n",
              "  background-color: var(--sklearn-color-unfitted-level-2);\n",
              "}\n",
              "\n",
              "#sk-container-id-1 div.sk-estimator.fitted input.sk-toggleable__control:checked~label.sk-toggleable__label {\n",
              "  /* fitted */\n",
              "  background-color: var(--sklearn-color-fitted-level-2);\n",
              "}\n",
              "\n",
              "#sk-container-id-1 div.sk-label label.sk-toggleable__label,\n",
              "#sk-container-id-1 div.sk-label label {\n",
              "  /* The background is the default theme color */\n",
              "  color: var(--sklearn-color-text-on-default-background);\n",
              "}\n",
              "\n",
              "/* On hover, darken the color of the background */\n",
              "#sk-container-id-1 div.sk-label:hover label.sk-toggleable__label {\n",
              "  color: var(--sklearn-color-text);\n",
              "  background-color: var(--sklearn-color-unfitted-level-2);\n",
              "}\n",
              "\n",
              "/* Label box, darken color on hover, fitted */\n",
              "#sk-container-id-1 div.sk-label.fitted:hover label.sk-toggleable__label.fitted {\n",
              "  color: var(--sklearn-color-text);\n",
              "  background-color: var(--sklearn-color-fitted-level-2);\n",
              "}\n",
              "\n",
              "/* Estimator label */\n",
              "\n",
              "#sk-container-id-1 div.sk-label label {\n",
              "  font-family: monospace;\n",
              "  font-weight: bold;\n",
              "  display: inline-block;\n",
              "  line-height: 1.2em;\n",
              "}\n",
              "\n",
              "#sk-container-id-1 div.sk-label-container {\n",
              "  text-align: center;\n",
              "}\n",
              "\n",
              "/* Estimator-specific */\n",
              "#sk-container-id-1 div.sk-estimator {\n",
              "  font-family: monospace;\n",
              "  border: 1px dotted var(--sklearn-color-border-box);\n",
              "  border-radius: 0.25em;\n",
              "  box-sizing: border-box;\n",
              "  margin-bottom: 0.5em;\n",
              "  /* unfitted */\n",
              "  background-color: var(--sklearn-color-unfitted-level-0);\n",
              "}\n",
              "\n",
              "#sk-container-id-1 div.sk-estimator.fitted {\n",
              "  /* fitted */\n",
              "  background-color: var(--sklearn-color-fitted-level-0);\n",
              "}\n",
              "\n",
              "/* on hover */\n",
              "#sk-container-id-1 div.sk-estimator:hover {\n",
              "  /* unfitted */\n",
              "  background-color: var(--sklearn-color-unfitted-level-2);\n",
              "}\n",
              "\n",
              "#sk-container-id-1 div.sk-estimator.fitted:hover {\n",
              "  /* fitted */\n",
              "  background-color: var(--sklearn-color-fitted-level-2);\n",
              "}\n",
              "\n",
              "/* Specification for estimator info (e.g. \"i\" and \"?\") */\n",
              "\n",
              "/* Common style for \"i\" and \"?\" */\n",
              "\n",
              ".sk-estimator-doc-link,\n",
              "a:link.sk-estimator-doc-link,\n",
              "a:visited.sk-estimator-doc-link {\n",
              "  float: right;\n",
              "  font-size: smaller;\n",
              "  line-height: 1em;\n",
              "  font-family: monospace;\n",
              "  background-color: var(--sklearn-color-background);\n",
              "  border-radius: 1em;\n",
              "  height: 1em;\n",
              "  width: 1em;\n",
              "  text-decoration: none !important;\n",
              "  margin-left: 0.5em;\n",
              "  text-align: center;\n",
              "  /* unfitted */\n",
              "  border: var(--sklearn-color-unfitted-level-1) 1pt solid;\n",
              "  color: var(--sklearn-color-unfitted-level-1);\n",
              "}\n",
              "\n",
              ".sk-estimator-doc-link.fitted,\n",
              "a:link.sk-estimator-doc-link.fitted,\n",
              "a:visited.sk-estimator-doc-link.fitted {\n",
              "  /* fitted */\n",
              "  border: var(--sklearn-color-fitted-level-1) 1pt solid;\n",
              "  color: var(--sklearn-color-fitted-level-1);\n",
              "}\n",
              "\n",
              "/* On hover */\n",
              "div.sk-estimator:hover .sk-estimator-doc-link:hover,\n",
              ".sk-estimator-doc-link:hover,\n",
              "div.sk-label-container:hover .sk-estimator-doc-link:hover,\n",
              ".sk-estimator-doc-link:hover {\n",
              "  /* unfitted */\n",
              "  background-color: var(--sklearn-color-unfitted-level-3);\n",
              "  color: var(--sklearn-color-background);\n",
              "  text-decoration: none;\n",
              "}\n",
              "\n",
              "div.sk-estimator.fitted:hover .sk-estimator-doc-link.fitted:hover,\n",
              ".sk-estimator-doc-link.fitted:hover,\n",
              "div.sk-label-container:hover .sk-estimator-doc-link.fitted:hover,\n",
              ".sk-estimator-doc-link.fitted:hover {\n",
              "  /* fitted */\n",
              "  background-color: var(--sklearn-color-fitted-level-3);\n",
              "  color: var(--sklearn-color-background);\n",
              "  text-decoration: none;\n",
              "}\n",
              "\n",
              "/* Span, style for the box shown on hovering the info icon */\n",
              ".sk-estimator-doc-link span {\n",
              "  display: none;\n",
              "  z-index: 9999;\n",
              "  position: relative;\n",
              "  font-weight: normal;\n",
              "  right: .2ex;\n",
              "  padding: .5ex;\n",
              "  margin: .5ex;\n",
              "  width: min-content;\n",
              "  min-width: 20ex;\n",
              "  max-width: 50ex;\n",
              "  color: var(--sklearn-color-text);\n",
              "  box-shadow: 2pt 2pt 4pt #999;\n",
              "  /* unfitted */\n",
              "  background: var(--sklearn-color-unfitted-level-0);\n",
              "  border: .5pt solid var(--sklearn-color-unfitted-level-3);\n",
              "}\n",
              "\n",
              ".sk-estimator-doc-link.fitted span {\n",
              "  /* fitted */\n",
              "  background: var(--sklearn-color-fitted-level-0);\n",
              "  border: var(--sklearn-color-fitted-level-3);\n",
              "}\n",
              "\n",
              ".sk-estimator-doc-link:hover span {\n",
              "  display: block;\n",
              "}\n",
              "\n",
              "/* \"?\"-specific style due to the `<a>` HTML tag */\n",
              "\n",
              "#sk-container-id-1 a.estimator_doc_link {\n",
              "  float: right;\n",
              "  font-size: 1rem;\n",
              "  line-height: 1em;\n",
              "  font-family: monospace;\n",
              "  background-color: var(--sklearn-color-background);\n",
              "  border-radius: 1rem;\n",
              "  height: 1rem;\n",
              "  width: 1rem;\n",
              "  text-decoration: none;\n",
              "  /* unfitted */\n",
              "  color: var(--sklearn-color-unfitted-level-1);\n",
              "  border: var(--sklearn-color-unfitted-level-1) 1pt solid;\n",
              "}\n",
              "\n",
              "#sk-container-id-1 a.estimator_doc_link.fitted {\n",
              "  /* fitted */\n",
              "  border: var(--sklearn-color-fitted-level-1) 1pt solid;\n",
              "  color: var(--sklearn-color-fitted-level-1);\n",
              "}\n",
              "\n",
              "/* On hover */\n",
              "#sk-container-id-1 a.estimator_doc_link:hover {\n",
              "  /* unfitted */\n",
              "  background-color: var(--sklearn-color-unfitted-level-3);\n",
              "  color: var(--sklearn-color-background);\n",
              "  text-decoration: none;\n",
              "}\n",
              "\n",
              "#sk-container-id-1 a.estimator_doc_link.fitted:hover {\n",
              "  /* fitted */\n",
              "  background-color: var(--sklearn-color-fitted-level-3);\n",
              "}\n",
              "</style><div id=\"sk-container-id-1\" class=\"sk-top-container\"><div class=\"sk-text-repr-fallback\"><pre>LogisticRegression(max_iter=1000)</pre><b>In a Jupyter environment, please rerun this cell to show the HTML representation or trust the notebook. <br />On GitHub, the HTML representation is unable to render, please try loading this page with nbviewer.org.</b></div><div class=\"sk-container\" hidden><div class=\"sk-item\"><div class=\"sk-estimator fitted sk-toggleable\"><input class=\"sk-toggleable__control sk-hidden--visually\" id=\"sk-estimator-id-1\" type=\"checkbox\" checked><label for=\"sk-estimator-id-1\" class=\"sk-toggleable__label fitted sk-toggleable__label-arrow\"><div><div>LogisticRegression</div></div><div><a class=\"sk-estimator-doc-link fitted\" rel=\"noreferrer\" target=\"_blank\" href=\"https://scikit-learn.org/1.6/modules/generated/sklearn.linear_model.LogisticRegression.html\">?<span>Documentation for LogisticRegression</span></a><span class=\"sk-estimator-doc-link fitted\">i<span>Fitted</span></span></div></label><div class=\"sk-toggleable__content fitted\"><pre>LogisticRegression(max_iter=1000)</pre></div> </div></div></div></div>"
            ],
            "text/plain": [
              "LogisticRegression(max_iter=1000)"
            ]
          },
          "execution_count": 18,
          "metadata": {},
          "output_type": "execute_result"
        }
      ],
      "source": [
        "\n",
        "# 2. 2차원 데이터로 모델 재학습 (로지스틱 회귀)\n",
        "logistic_model = LogisticRegression(max_iter=1000)\n",
        "logistic_model.fit(X_pca, y_train)"
      ]
    },
    {
      "cell_type": "code",
      "execution_count": 20,
      "metadata": {},
      "outputs": [],
      "source": [
        "# 3. 2차원 평면에 격자(grid) 생성\n",
        "x_min, x_max = X_pca[:, 0].min() - 1, X_pca[:, 0].max() + 1\n",
        "y_min, y_max = X_pca[:, 1].min() - 1, X_pca[:, 1].max() + 1\n",
        "xx, yy = np.meshgrid(np.arange(x_min, x_max, 0.1),\n",
        "                     np.arange(y_min, y_max, 0.1))"
      ]
    },
    {
      "cell_type": "code",
      "execution_count": 21,
      "metadata": {},
      "outputs": [
        {
          "data": {
            "text/plain": [
              "((81, 96), (81, 96))"
            ]
          },
          "execution_count": 21,
          "metadata": {},
          "output_type": "execute_result"
        }
      ],
      "source": [
        "xx.shape, yy.shape # xx, yy는 2차원 배열, 즉 격자 포인트의 x, y 좌표"
      ]
    },
    {
      "cell_type": "code",
      "execution_count": 23,
      "metadata": {},
      "outputs": [
        {
          "data": {
            "text/plain": [
              "array([-4.48762139, -4.38762139, -4.28762139, ...,  4.81237861,\n",
              "        4.91237861,  5.01237861])"
            ]
          },
          "execution_count": 23,
          "metadata": {},
          "output_type": "execute_result"
        }
      ],
      "source": [
        "xx.ravel()"
      ]
    },
    {
      "cell_type": "code",
      "execution_count": 50,
      "metadata": {},
      "outputs": [
        {
          "data": {
            "text/plain": [
              "(7776, 2)"
            ]
          },
          "execution_count": 50,
          "metadata": {},
          "output_type": "execute_result"
        }
      ],
      "source": [
        "np.c_[xx.ravel(), yy.ravel()].shape # 1차원 배열, 즉 격자 포인트의 x, y 좌표 "
      ]
    },
    {
      "cell_type": "code",
      "execution_count": 24,
      "metadata": {},
      "outputs": [
        {
          "data": {
            "text/plain": [
              "(7776,)"
            ]
          },
          "execution_count": 24,
          "metadata": {},
          "output_type": "execute_result"
        }
      ],
      "source": [
        "xx.ravel().shape"
      ]
    },
    {
      "cell_type": "code",
      "execution_count": 26,
      "metadata": {},
      "outputs": [
        {
          "data": {
            "text/plain": [
              "(7776, 2)"
            ]
          },
          "execution_count": 26,
          "metadata": {},
          "output_type": "execute_result"
        }
      ],
      "source": [
        "# 격자 포인트의 x, y 좌표를 2차원 배열로 변환\n",
        "grid = np.c_[xx.ravel(), yy.ravel()]\n",
        "grid.shape"
      ]
    },
    {
      "cell_type": "markdown",
      "metadata": {},
      "source": [
        "**ravel() 함수란?**\n",
        "\n",
        "`ravel()` 함수는 NumPy에서 다차원 배열을 1차원 배열로 평탄화(flatten)하는 함수입니다.\n",
        "\n",
        "**예시:**\n",
        "- `xx`는 (81, 96) 모양의 2차원 배열\n",
        "- `xx.ravel()`은 (7776,) 모양의 1차원 배열로 변환 (81 × 96 = 7776)\n",
        "- `np.c_[]`는 두 배열을 열 방향으로 결합하여 (7776, 2) 모양의 배열을 만듦\n",
        "\n",
        "이렇게 변환하는 이유는 머신러닝 모델이 격자의 각 점에 대해 예측을 수행하기 위해서는 (n_samples, n_features) 형태의 2차원 배열이 필요하기 때문입니다."
      ]
    },
    {
      "cell_type": "code",
      "execution_count": 27,
      "metadata": {},
      "outputs": [
        {
          "data": {
            "text/plain": [
              "(7776,)"
            ]
          },
          "execution_count": 27,
          "metadata": {},
          "output_type": "execute_result"
        }
      ],
      "source": [
        "# 4. 격자 위의 모든 점에 대해 예측 수행\n",
        "Z = logistic_model.predict(grid)\n",
        "Z.shape"
      ]
    },
    {
      "cell_type": "code",
      "execution_count": 28,
      "metadata": {},
      "outputs": [
        {
          "data": {
            "text/plain": [
              "(81, 96)"
            ]
          },
          "execution_count": 28,
          "metadata": {},
          "output_type": "execute_result"
        }
      ],
      "source": [
        "xx.shape"
      ]
    },
    {
      "cell_type": "code",
      "execution_count": 29,
      "metadata": {},
      "outputs": [
        {
          "data": {
            "text/plain": [
              "(81, 96)"
            ]
          },
          "execution_count": 29,
          "metadata": {},
          "output_type": "execute_result"
        }
      ],
      "source": [
        "Z = Z.reshape(xx.shape) \n",
        "Z.shape"
      ]
    },
    {
      "cell_type": "markdown",
      "metadata": {},
      "source": [
        "**reshape() 함수를 사용하는 이유**\n",
        "\n",
        "`Z = Z.reshape(xx.shape)`를 사용하는 이유를 설명하겠습니다.\n",
        "\n",
        "**현재 상황:**\n",
        "- `Z`는 격자의 모든 점에 대한 예측 결과로 (7776,) 모양의 1차원 배열\n",
        "- `xx`, `yy`는 각각 (81, 96) 모양의 2차원 격자 배열\n",
        "\n",
        "**reshape이 필요한 이유:**\n",
        "1. **시각화를 위한 형태 변환**: Contour plot을 그리기 위해서는 Z 값이 격자와 같은 2차원 형태여야 함\n",
        "2. **격자 구조 복원**: 1차원으로 평탄화된 예측 결과를 원래 격자 구조로 되돌림\n",
        "3. **좌표 매핑**: 각 격자 점의 (x, y) 좌표와 해당 점의 예측값을 올바르게 매핑\n",
        "\n",
        "**변환 과정:**\n",
        "- `Z.shape`: (7776,) → (81, 96)\n",
        "- 이제 `Z[i, j]`는 격자 점 `(xx[i, j], yy[i, j])`에서의 예측값을 의미\n",
        "\n",
        "이렇게 변환해야만 Plotly의 Contour plot에서 x, y 좌표와 z 값이 올바르게 매핑되어 결정 경계를 정확히 시각화할 수 있습니다.\n",
        "\n"
      ]
    },
    {
      "cell_type": "code",
      "execution_count": 30,
      "metadata": {},
      "outputs": [
        {
          "data": {
            "application/vnd.plotly.v1+json": {
              "config": {
                "plotlyServerURL": "https://plot.ly"
              },
              "data": [
                {
                  "colorscale": [
                    [
                      0,
                      "lightcoral"
                    ],
                    [
                      1,
                      "lightskyblue"
                    ]
                  ],
                  "opacity": 0.5,
                  "showscale": false,
                  "type": "contour",
                  "x": {
                    "bdata": "OLBCBVPzEcDSSdye7IwRwGzjdTiGJhHABn0P0h/AEMCgFqlruVkQwHRghQqm5g/AqJO4PdkZD8DcxutwDE0OwBD6HqQ/gA3ARC1S13KzDMB4YIUKpuYLwKyTuD3ZGQvA4MbrcAxNCsAU+h6kP4AJwEgtUtdyswjAfGCFCqbmB8Cwk7g92RkHwOTG63AMTQbAGPoepD+ABcBMLVLXcrMEwIBghQqm5gPAtJO4PdkZA8DoxutwDE0CwBz6HqQ/gAHAUC1S13KzAMAIwQoVTM3/v3AncXuyM/6/2I3X4Ria/L9A9D1IfwD7v6hapK7lZvm/EMEKFUzN9794J3F7sjP2v+CN1+EYmvS/SPQ9SH8A87+wWqSu5WbxvzCCFSqYmu+/AE/i9mRn7L/QG6/DMTTpv6Doe5D+AOa/cLVIXcvN4r+ABCtUMDXfvyCexO3Jzti/wDdeh2No0r/Aou9B+gPIvwCsRepabra/AGyfevVZiT8Ah+1I2MS8P0CQQ/E4L8s/gC4I3wL+0z/glG5FaWTaP6B96tVnZeA/0LAdCZuY4z8A5FA8zsvmPzAXhG8B/+k/YEq3ojQy7T/IPvXqszLwP2DYjoRNzPE/+HEoHudl8z+QC8K3gP/0PyilW1EamfY/wD716rMy+D9Y2I6ETcz5P/BxKB7nZfs/iAvCt4D//D8gpVtRGpn+P1yfevVZGQBAKGxHwibmAED0OBSP87IBQMAF4VvAfwJAjNKtKI1MA0BYn3r1WRkEQCRsR8Im5gRA8DgUj/OyBUC8BeFbwH8GQIjSrSiNTAdAVJ969VkZCEAgbEfCJuYIQOw4FI/zsglAuAXhW8B/CkCE0q0ojUwLQFCfevVZGQxAHGxHwibmDEDoOBSP87INQLQF4VvAfw5AgNKtKI1MD0CmT736rAwQQAy2I2ETcxBAchyKx3nZEEDYgvAt4D8RQD7pVpRGphFApE+9+qwMEkAKtiNhE3MSQHAcisd52RJA1oLwLeA/E0A86VaURqYTQKJPvfqsDBRA",
                    "dtype": "f8"
                  },
                  "y": {
                    "bdata": "uyESOtSMD8DuVEVtB8AOwCGIeKA68w3AVLur020mDcCH7t4GoVkMwLohEjrUjAvA7VRFbQfACsAgiHigOvMJwFO7q9NtJgnAhu7eBqFZCMC5IRI61IwHwOxURW0HwAbAH4h4oDrzBcBSu6vTbSYFwIXu3gahWQTAuCESOtSMA8DrVEVtB8ACwB6IeKA68wHAUbur020mAcCE7t4GoVkAwG5DJHSoGf+/1KmK2g6A/b86EPFAdeb7v6B2V6fbTPq/Bt29DUKz+L9sQyR0qBn3v9KpitoOgPW/OBDxQHXm87+edlen20zyvwTdvQ1Cs/C/1IZI6FAz7r+gUxW1HQDrv2wg4oHqzOe/OO2uTreZ5L8EunsbhGbhv6ANkdChZty/OKcqajsA1r+ggYgHqjPPv9C0uzrdZsK/AKC7t0Fopr9Ak3d78cqsP5CxqiuJ/8M/OL87/Cpm0D+oJaJikczWPwiMCMn3Mt0/NHm3F6/M4T9srOpK4v/kP6TfHX4VM+g/1BJRsUhm6z8ERoTke5nuP56824tX5vA/OlZ1JfF/8j/S7w6/ihn0P2qJqFgks/U/BiNC8r1M9z+ivNuLV+b4PzpWdSXxf/o/0u8Ov4oZ/D9uiahYJLP9PwojQvK9TP8/Ud7txStzAEAdq7qS+D8BQOt3h1/FDAJAuURULJLZAkCFESH5XqYDQFHe7cUrcwRAH6u6kvg/BUDtd4dfxQwGQLlEVCyS2QZAhREh+V6mB0BT3u3FK3MIQCGrupL4PwlA7XeHX8UMCkC5RFQsktkKQIcRIflepgtAVd7txStzDEAhq7qS+D8NQO13h1/FDA5Au0RULJLZDkCJESH5XqYPQCrv9uKVORBA",
                    "dtype": "f8"
                  },
                  "z": {
                    "bdata": "AQEBAQEBAQEBAQEBAQEBAQEBAQEBAQEBAQEBAQEBAQEBAQEBAQEBAQEBAQEBAQEBAQEBAQEBAQEBAQEBAQEBAQEBAQEBAQEBAQEBAQEBAQEBAQEBAQEBAQEBAQEBAQEBAQEBAQEBAQEBAQEBAQEBAQEBAQEBAQEBAQEBAQEBAQEBAQEBAQEBAQEBAQEBAQEBAQEBAQEBAQEBAQEBAQEBAQEBAQEBAQEBAQEBAQEBAQEBAQEBAQEBAQEBAQEBAQEBAQEBAQEBAQEBAQEBAQEBAQEBAQEBAQEBAQEBAQEBAQEBAQEBAQEBAQEBAQEBAQEBAQEBAQEBAQEBAQEBAQEBAQEBAQEBAQEBAQEBAQEBAQEBAQEBAQEBAQEBAQEBAQEBAQEBAQEBAQEBAQEBAQEBAQEBAQEBAQEBAQEBAQEBAQEBAQEBAQEBAQEBAQEBAQEBAQEBAQEBAQEBAQEBAQEBAQEBAQEBAQEBAQEBAQEBAQEBAQEBAQEBAQEBAQEBAQEBAQEBAQEBAQEBAQEBAQEBAQEBAQEBAQEBAQEBAQEBAQEBAQEBAQEBAQEBAQEBAQEBAQEBAQEBAQEBAQEBAQEBAQEBAQEBAQEBAQEBAQEBAQEBAQEBAQEBAQEBAQEBAQEBAQEBAQEBAQEBAQEBAQEBAQEBAQEBAQEBAQEBAQEBAQEBAQEBAQEBAQEBAQEBAQEBAQEBAQEBAQEBAQEBAQEBAQEBAQEBAQEBAQEBAQEBAQEBAQEBAQEBAQEBAQEBAQEBAQEBAQEBAQEBAQEBAQEBAQEBAQEBAQEBAQEBAQEBAQEBAQEBAQEBAQEBAQEBAQEBAQEBAQEBAQEBAQEBAQEBAQEBAQEBAQEBAQEBAQEBAQEBAQEBAQEBAQEBAQEBAQEBAQEBAQEBAQEBAQEBAQEBAQEBAQEBAQEBAQEBAQEBAQEBAQEBAQEBAQEBAQEBAQEBAQEBAQEBAQEBAQEBAQEBAQEBAQEBAQEBAQEBAQEBAQEBAQEBAQEBAQEBAQEBAQEBAQEBAQEBAQEBAQEBAQEBAQEBAQEBAQEBAQEBAQEBAQEBAQEBAQEBAQEBAQEBAQEBAQEBAQEBAQEBAQEBAQEBAQEBAQEBAQEBAQEBAQEBAQEBAQEBAQEBAQEBAQEBAQEBAQEBAQEBAQEBAQEBAQEBAQEBAQEBAQEBAQEBAQEBAQEBAQEBAQEBAQEBAQEBAQEBAQEBAQEBAQEBAQEBAQEBAQEBAQEBAQEBAQEBAQEBAQEBAQEBAQEBAQEBAQEBAQEBAQEBAQEBAQEBAQEBAQEBAQEBAQEBAQEBAQEBAQEBAQEBAQEBAQEBAQEBAQEBAQEBAQEBAQEBAQEBAQEBAQEBAQEBAQEBAQEBAQEBAQEBAQEBAQEBAQEBAQEBAQEBAQEBAQEBAQEBAQEBAQEBAQEBAQEBAQEBAQEBAQEBAQEBAQEBAQEBAQEBAQEBAQEBAQEBAQEBAQEBAQEBAQEBAQEBAQEBAQEBAQEBAQEBAQEBAQEBAQEBAQEBAQEBAQEBAQEBAQEBAQEBAQEBAQEBAQEBAQEBAQEBAQEBAQEBAQEBAQEBAQEBAQEBAQEBAQEBAQEBAQEBAQEBAQEBAQEBAQEBAQEBAQEBAQEBAQEBAQEBAQEBAQEBAQEBAQEBAQEBAQEBAQEBAQEBAQEBAQEBAQEBAQEBAQEBAQEBAQEBAQEBAQEBAQEBAQEBAQEBAQEBAQEBAQEBAQEBAQEBAQEBAQEBAQEBAQEBAQEBAQEBAQEBAQEBAQEBAQEBAQEBAQEBAQEBAQEBAQEBAQEBAQEBAQEBAQEBAQEBAQEBAQEBAQEBAQEBAQEBAQEBAQEBAQEBAQEBAQEBAQEBAQEBAQEBAQEBAQEBAQEBAQEBAQEBAQEBAQEBAQEBAQEBAQEBAQEBAQEBAQEBAQEBAQEBAQEBAQEBAQEBAQEBAQEBAQEBAQEBAQEBAQEBAQEBAQEBAQEBAQEBAQEBAQEBAQEBAQEBAQEBAQEBAQEBAQEBAQEBAQEBAQEBAQEBAQEBAQEBAQEBAQEBAAAAAQEBAQEBAQEBAQEBAQEBAQEBAQEBAQEBAQEBAQEBAQEBAQEBAQEBAQEBAQEBAQEBAQEBAQEBAQEBAQEBAQEBAQEBAQEBAQEBAQEBAQEBAQEBAQEBAQEBAQEBAQEBAAAAAAAAAAABAQEBAQEBAQEBAQEBAQEBAQEBAQEBAQEBAQEBAQEBAQEBAQEBAQEBAQEBAQEBAQEBAQEBAQEBAQEBAQEBAQEBAQEBAQEBAQEBAQEBAQEBAQEBAQEBAQEBAAAAAAAAAAAAAAAAAAEBAQEBAQEBAQEBAQEBAQEBAQEBAQEBAQEBAQEBAQEBAQEBAQEBAQEBAQEBAQEBAQEBAQEBAQEBAQEBAQEBAQEBAQEBAQEBAQEBAQEBAQEBAQEBAAAAAAAAAAAAAAAAAAAAAAAAAAEBAQEBAQEBAQEBAQEBAQEBAQEBAQEBAQEBAQEBAQEBAQEBAQEBAQEBAQEBAQEBAQEBAQEBAQEBAQEBAQEBAQEBAQEBAQEBAQEBAQEBAAAAAAAAAAAAAAAAAAAAAAAAAAAAAAAAAQEBAQEBAQEBAQEBAQEBAQEBAQEBAQEBAQEBAQEBAQEBAQEBAQEBAQEBAQEBAQEBAQEBAQEBAQEBAQEBAQEBAQEBAQEBAQEBAAAAAAAAAAAAAAAAAAAAAAAAAAAAAAAAAAAAAAABAQEBAQEBAQEBAQEBAQEBAQEBAQEBAQEBAQEBAQEBAQEBAQEBAQEBAQEBAQEBAQEBAQEBAQEBAQEBAQEBAQEBAQEBAAAAAAAAAAAAAAAAAAAAAAAAAAAAAAAAAAAAAAAAAAAAAAEBAQEBAQEBAQEBAQEBAQEBAQEBAQEBAQEBAQEBAQEBAQEBAQEBAQEBAQEBAQEBAQEBAQEBAQEBAQEBAQEBAAAAAAAAAAAAAAAAAAAAAAAAAAAAAAAAAAAAAAAAAAAAAAAAAAAAAQEBAQEBAQEBAQEBAQEBAQEBAQEBAQEBAQEBAQEBAQEBAQEBAQEBAQEBAQEBAQEBAQEBAQEBAQEBAAAAAAAAAAAAAAAAAAAAAAAAAAAAAAAAAAAAAAAAAAAAAAAAAAAAAAAAAAABAQEBAQEBAQEBAQEBAQEBAQEBAQEBAQEBAQEBAQEBAQEBAQEBAQEBAQEBAQEBAQEBAQEBAAAAAAAAAAAAAAAAAAAAAAAAAAAAAAAAAAAAAAAAAAAAAAAAAAAAAAAAAAAAAAAAAAEBAQEBAQEBAQEBAQEBAQEBAQEBAQEBAQEBAQEBAQEBAQEBAQEBAQEBAQEBAQEBAAAAAAAAAAAAAAAAAAAAAAAAAAAAAAAAAAAAAAAAAAAAAAAAAAAAAAAAAAAAAAAAAAAAAAAAAQEBAQEBAQEBAQEBAQEBAQEBAQEBAQEBAQEBAQEBAQEBAQEBAQEBAQEBAAAAAAAAAAAAAAAAAAAAAAAAAAAAAAAAAAAAAAAAAAAAAAAAAAAAAAAAAAAAAAAAAAAAAAAAAAAAAAABAQEBAQEBAQEBAQEBAQEBAQEBAQEBAQEBAQEBAQEBAQEBAQEBAAAAAAAAAAAAAAAAAAAAAAAAAAAAAAAAAAAAAAAAAAAAAAAAAAAAAAAAAAAAAAAAAAAAAAAAAAAAAAAAAAAAAAEBAQEBAQEBAQEBAQEBAQEBAQEBAQEBAQEBAQEBAQEBAAAAAAAAAAAAAAAAAAAAAAAAAAAAAAAAAAAAAAAAAAAAAAAAAAAAAAAAAAAAAAAAAAAAAAAAAAAAAAAAAAAAAAAAAAAAAQEBAQEBAQEBAQEBAQEBAQEBAQEBAQEBAQEBAAAAAAAAAAAAAAAAAAAAAAAAAAAAAAAAAAAAAAAAAAAAAAAAAAAAAAAAAAAAAAAAAAAAAAAAAAAAAAAAAAAAAAAAAAAAAAAAAAABAQEBAQEBAQEBAQEBAQEBAQEBAQEBAAAAAAAAAAAAAAAAAAAAAAAAAAAAAAAAAAAAAAAAAAAAAAAAAAAAAAAAAAAAAAAAAAAAAAAAAAAAAAAAAAAAAAAAAAAAAAAAAAAAAAAAAAEBAQEBAQEBAQEBAQEBAQEBAAAAAAAAAAAAAAAAAAAAAAAAAAAAAAAAAAAAAAAAAAAAAAAAAAAAAAAAAAAAAAAAAAAAAAAAAAAAAAAAAAAAAAAAAAAAAAAAAAAAAAAAAAAAAAAAAAEBAQEBAQEBAQEBAAAAAAAAAAAAAAAAAAAAAAAAAAAAAAAAAAAAAAAAAAAAAAAAAAAAAAAAAAAAAAAAAAAAAAAAAAAAAAAAAAAAAAAAAAAAAAAAAAAAAAAAAAAAAAAAAAAAAAAAAQEBAQEBAAAAAAAAAAAAAAAAAAAAAAAAAAAAAAAAAAAAAAAAAAAAAAAAAAAAAAAAAAAAAAAAAAAAAAAAAAAAAAAAAAAAAAAAAAAAAAAAAAAAAAAAAAAAAAAAAAAAAAAAAAAAAAABAAAAAAAAAAAAAAAAAAAAAAAAAAAAAAAAAAAAAAAAAAAAAAAAAAAAAAAAAAAAAAAAAAAAAAAAAAAAAAAAAAAAAAAAAAAAAAAAAAAAAAAAAAAAAAAAAAAAAAAAAAAAAAAAAAAAAAAAAAAAAAAAAAAAAAAAAAAAAAAAAAAAAAAAAAAAAAAAAAAAAAAAAAAAAAAAAAAAAAAAAAAAAAAAAAAAAAAAAAAAAAAAAAAAAAAAAAAAAAAAAAAAAAAAAAAAAAAAAAAAAAAAAAAAAAAAAAAAAAAAAAAAAAAAAAAAAAAAAAAAAAAAAAAAAAAAAAAAAAAAAAAAAAAAAAAAAAAAAAAAAAAAAAAAAAAAAAAAAAAAAAAAAAAAAAAAAAAAAAAAAAAAAAAAAAAAAAAAAAAAAAAAAAAAAAAAAAAAAAAAAAAAAAAAAAAAAAAAAAAAAAAAAAAAAAAAAAAAAAAAAAAAAAAAAAAAAAAAAAAAAAAAAAAAAAAAAAAAAAAAAAAAAAAAAAAAAAAAAAAAAAAAAAAAAAAAAAAAAAAAAAAAAAAAAAAAAAAAAAAAAAAAAAAAAAAAAAAAAAAAAAAAAAAAAAAAAAAAAAAAAAAAAAAAAAAAAAAAAAAAAAAAAAAAAAAAAAAAAAAAAAAAAAAAAAAAAAAAAAAAAAAAAAAAAAAAAAAAAAAAAAAAAAAAAAAAAAAAAAAAAAAAAAAAAAAAAAAAAAAAAAAAAAAAAAAAAAAAAAAAAAAAAAAAAAAAAAAAAAAAAAAAAAAAAAAAAAAAAAAAAAAAAAAAAAAAAAAAAAAAAAAAAAAAAAAAAAAAAAAAAAAAAAAAAAAAAAAAAAAAAAAAAAAAAAAAAAAAAAAAAAAAAAAAAAAAAAAAAAAAAAAAAAAAAAAAAAAAAAAAAAAAAAAAAAAAAAAAAAAAAAAAAAAAAAAAAAAAAAAAAAAAAAAAAAAAAAAAAAAAAAAAAAAAAAAAAAAAAAAAAAAAAAAAAAAAAAAAAAAAAAAAAAAAAAAAAAAAAAAAAAAAAAAAAAAAAAAAAAAAAAAAAAAAAAAAAAAAAAAAAAAAAAAAAAAAAAAAAAAAAAAAAAAAAAAAAAAAAAAAAAAAAAAAAAAAAAAAAAAAAAAAAAAAAAAAAAAAAAAAAAAAAAAAAAAAAAAAAAAAAAAAAAAAAAAAAAAAAAAAAAAAAAAAAAAAAAAAAAAAAAAAAAAAAAAAAAAAAAAAAAAAAAAAAAAAAAAAAAAAAAAAAAAAAAAAAAAAAAAAAAAAAAAAAAAAAAAAAAAAAAAAAAAAAAAAAAAAAAAAAAAAAAAAAAAAAAAAAAAAAAAAAAAAAAAAAAAAAAAAAAAAAAAAAAAAAAAAAAAAAAAAAAAAAAAAAAAAAAAAAAAAAAAAAAAAAAAAAAAAAAAAAAAAAAAAAAAAAAAAAAAAAAAAAAAAAAAAAAAAAAAAAAAAAAAAAAAAAAAAAAAAAAAAAAAAAAAAAAAAAAAAAAAAAAAAAAAAAAAAAAAAAAAAAAAAAAAAAAAAAAAAAAAAAAAAAAAAAAAAAAAAAAAAAAAAAAAAAAAAAAAAAAAAAAAAAAAAAAAAAAAAAAAAAAAAAAAAAAAAAAAAAAAAAAAAAAAAAAAAAAAAAAAAAAAAAAAAAAAAAAAAAAAAAAAAAAAAAAAAAAAAAAAAAAAAAAAAAAAAAAAAAAAAAAAAAAAAAAAAAAAAAAAAAAAAAAAAAAAAAAAAAAAAAAAAAAAAAAAAAAAAAAAAAAAAAAAAAAAAAAAAAAAAAAAAAAAAAAAAAAAAAAAAAAAAAAAAAAAAAAAAAAAAAAAAAAAAAAAAAAAAAAAAAAAAAAAAAAAAAAAAAAAAAAAAAAAAAAAAAAAAAAAAAAAAAAAAAAAAAAAAAAAAAAAAAAAAAAAAAAAAAAAAAAAAAAAAAAAAAAAAAAAAAAAAAAAAAAAAAAAAAAAAAAAAAAAAAAAAAAAAAAAAAAAAAAAAAAAAAAAAAAAAAAAAAAAAAAAAAAAAAAAAAAAAAAAAAAAAAAAAAAAAAAAAAAAAAAAAAAAAAAAAAAAAAAAAAAAAAAAAAAAAAAAAAAAAAAAAAAAAAAAAAAAAAAAAAAAAAAAAAAAAAAAAAAAAAAAAAAAAAAAAAAAAAAAAAAAAAAAAAAAAAAAAAAAAAAAAAAAAAAAAAAAAAAAAAAAAAAAAAAAAAAAAAAAAAAAAAAAAAAAAAAAAAAAAAAAAAAAAAAAAAAAAAAAAAAAAAAAAAAAAAAAAAAAAAAAAAAAAAAAAAAAAAAAAAAAAAAAAAAAAAAAAAAAAAAAAAAAAAAAAAAAAAAAAAAAAAAAAAAAAAAAAAAAAAAAAAAAAAAAAAAAAAAAAAAAAAAAAAAAAAAAAAAAAAAAAAAAAAAAAAAAAAAAAAAAAAAAAAAAAAAAAAAAAAAAAAAAAAAAAAAAAAAAAAAAAAAAAAAAAAAAAAAAAAAAAAAAAAAAAAAAAAAAAAAAAAAAAAAAAAAAAAAAAAAAAAAAAAAAAAAAAAAAAAAAAAAAAAAAAAAAAAAAAAAAAAAAAAAAAAAAAAAAAAAAAAAAAAAAAAAAAAAAAAAAAAAAAAAAAAAAAAAAAAAAAAAAAAAAAAAAAAAAAAAAAAAAAAAAAAAAAAAAAAAAAAAAAAAAAAAAAAAAAAAAAAAAAAAAAAAAAAAAAAAAAAAAAAAAAAAAAAAAAAAAAAAAAAAAAAAAAAAAAAAAAAAAAAAAAAAAAAAAAAAAAAAAAAAAAAAAAAAAAAAAAAAAAAAAAAAAAAAAAAAAAAAAAAAAAAAAAAAAAAAAAAAAAAAAAAAAAAAAAAAAAAAAAAAAAAAAAAAAAAAAAAAAAAAAAAAAAAAAAAAAAAAAAAAAAAAAAAAAAAAAAAAAAAAAAAAAAAAAAAAAAAAAAAAAAAAAAAAAAAAAAAAAAAAAAAAAAAAAAAAAAAAAAAAAAAAAAAAAAAAAAAAAAAAAAAAAAAAAAAAAAAAAAAAAAAAAAAAAAAAAAAAAAAAAAAAAAAAAAAAAAAAAAAAAAAAAAAAAAAAAAAAAAAAAAAAAAAAAAAAAAAAAAAAAAAAAAAAAAAAAAAAAAAAAAAAAAAAAAAAAAAAAAAAAAAAAAAAAAAAAAAAAAAAAAAAAAAAAAAAAAAAAAAAAAAAAAAAAAAAAAAAAAAAAAAAAAAAAAAAAAAAAAAAAAAAAAAAAAAAAAAAAAAAAAAAAAAAAAAAAAAAAAAAAAAAAAAAAAAAAAAAAAAAAAAAAAAAAAAAAAAAAAAAAAAAAAAAAAAAAAAAAAAAAAAAAAAAAAAAAAAAAAAAAAAAAAAAAAAAAAAAAAAAAAAAAAAAAAAAAAAAAAAAAAAAAAAAAAAAAAAAAAAAAAAAAAAAAAAAAAAAAAAAAAAAAAAAAAAAAAAAAAAAAAAAAAAAAAAAAAAAAAAAAAAAAAAAAAAAAAAAAAAAAAAAAAAAAAAAAAAAAAAAAAAAAAAAAAAAAAAAAAAAAAAAAAAAAAAAAAAAAAAAAAAAAAAAAAAAAAAAAAAAAAAAAAAAAAAAAAAAAAAAAAAAAAAAAAAAAAAAAAAAAAAAAAAAAAAAAAAAAAAAAAAAAAAAAAAAAAAAAAAAAAAAAAAAAAAAAAAAAAAAAAAAAAAAAAAAAAAAAAAAAAAAAAAAAAAAAAAAAAAAAAAAAAAAAAAAAAAAAAAAAAAAAAAAAAAAAAAAAAAAAAAAAAAAAAAAAAAAAAAAAAAAAAAAAAAAAAAAAAAAAAAAAAAAAAAAAAAAAAAAAAAAAAAAAAAAAAAAAAAAAAAAAAAAAAAAAAAAAAAAAAAAAAAAAAAAAAAAAAAAAAAAAAAAAAAAAAAAAAAAAAAAAAAAAAAAAAAAAAAAAAAAAAAAAAAAAAAAAAAAAAAAAAAAAAAAAAAAAAAAAAAAAAAAAAAAAAAAAAAAAAAAAAAAAAAAAAAAAAAAAAAAAAAAAAAAAAAAAAAAAAAAAAAAAAAAAAAAAAAAAAAAAAAAAAAAAAAAAAAAAAAAAAAAAAAAAAAAAAAAAAAAAAAAAAAAAAAAAAAAAAAAAAAAAAAAAAAAAAAAAAAAAAAAAAAAAAAAAAAAAAAAAAAAAAAAAAAAAAAAAAAAAAAAAAAAAAAAAAAAAAAAAAAAAAAAAAAAAAAAAAAAAAAAAAAAAAAAAAAAAAAAAAAAAAAAAAAAAAAAAAAAAAAAAAAAAAAAAAAAAAAAAAAAAAAAAAAAAAAAAAAAAAAAAAAAAAAAAAAAAAAAAAAAAAAAAAAAAAAAAAAAAAAAAAAAAAAAAAAAAAAAAAAAAAAAAAAAAAAAAAAAAAAAAAAAAAAAAAAAAAAAAAAAAAAAAAAAAAAAAAAAAAAAAAAAAAAAAAAAAAAAAAAAAAAAAAAAAAAAAAAAAAAAAAAAAAAAAAAAAAAAAAAAAAAAAAAAAAAAAAAAAAAAAAAAAAAAAAAAAAAAAAAAAAAAAAAAAAAAAAAAAAAAAAAAAAAAAAAAAAAAAAAAAAAAAAAAAAAAAAAAAAAAAAAAAAAAAAAAAAAAAAAAAAAAAAAAAAAAAAAAAAAAAAAAAAAAAAAAAAAAAAAAAAAAAAAAAAAAAAAAAAAAAAAAAAAAAAAAAAAAAAAAAAAAAAAAAAAAAAAAAAAAAAAAAAAAAAAAAAAAAAAAAAAAAAAAAAAAAAAAAAAAAAAAAAAAAAAAAAAAAAAAAAAAAAAAAAAAAAAAAAAAAAAAAAAAAAAAAAAAAAAAAAAAAAAAAAAAAAAAAAAAAAAAAAAAAAAAAAAAAAAAAAAAAAAAAAAAAAAAAAAAAAAAAAAAAAAAAAAAAAAAAAAAAAAAAAAAAAAAAAAAAAAAAAAAAAAAAAAAAAAAAAAAAAAAAAAAAAAAAAAAAAAAAAAAAAAAAAAAAAAAAAAAAAAAAAAAAAAAAAAAAAAAAAAAAAAAAAAAAAAAAAAAAAAAAAAAAAAAAAAAAAAAAAAAAAAAAAAAAAAAAAAAAAAAAAAAAAAAAAAAAAAAAAAAAAAAAAAAAAAAAAAAAAAAAAAAAAAAAAAAAAAAAAAAAAAAAAAAAAAAAAAAAAAAAAAAAAAAAAAAAAAAAAAAAAAAAAAAAAAAAAAAAAAAAAAAAAAAAAAAAAAAAAAAAAAAAAAAAAAAAAAAAAAAAAAAAAAAAAAAAAAAAAAAAAAAAAAAAAAAAAAAAAAAAAAAAAAAAAAAAAAAAAAAAAAAAAAAAAAAAAAAAAAAAAAAAAAAAAAAAAAAAAAAAAAAAAAAAAAAAAAAAAAAAAAAAAAAAAAAAAAAAAAAAAAAAAAAAAAAAAAAAAAAAAAAAAAAAAAAAAAAAAAAAAAAAAAAAAAAAAAAAAAAAAAAAAAAAAAAAAAAAAAAAAAAAAAAAAAAAAAAAAAAAAAAAAAAAAAAAAAAAAAAAAAAAAAAAAAAAAAAAAAAAAAAAAAAAAAAAAAAAAAAAAAAAAAAAAAAAAAAAAAAAAAAAAAAAAAAAAAAAAAAAAAAAAAAAAAAAAAAAAAAAAAAAAAAAAAAAAAAAAAAAAAAAAAAAAAAAAAAAAAAAAAAAAAAAAAAAAAAAAAAAAAAAAAAAAAAAAAAAAAAAAAAAAAAAAAAAAAAAAAAAAAAAAAAAAAAAAAAAAAAAAAAAAAAAAAAAAAAAAAAAAAAAAAAAAAAAAAAAAAAAAAAAAAAAAAAAAAAAAAAAAAAAAAAAAAAAAAAAAAAAAAAAAAAAAAAAAAAAAAAAAAAAAAAAAAAAAAAAAAAAAAAAAAAAAAAAAAAAAAAAAAAAAAAAAAAAAAAAAAAAAAAAAAAAAAAAAAAAAAAAAAAAAAAAAAAAAAAAAAAAAAAAAAAAAAAAAAAAAAAAAAAAAAAAAAAAAAAAAAAAAAAAAAAAAAAAAAAAAAAAAAAAA",
                    "dtype": "i1",
                    "shape": "81, 96"
                  }
                },
                {
                  "marker": {
                    "color": "blue",
                    "opacity": 0.7,
                    "size": 6
                  },
                  "mode": "markers",
                  "name": "No Churn",
                  "showlegend": true,
                  "type": "scatter",
                  "x": {
                    "bdata": "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",
                    "dtype": "f8"
                  },
                  "y": {
                    "bdata": "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",
                    "dtype": "f8"
                  }
                },
                {
                  "marker": {
                    "color": "red",
                    "opacity": 0.7,
                    "size": 6
                  },
                  "mode": "markers",
                  "name": "Churn",
                  "showlegend": true,
                  "type": "scatter",
                  "x": {
                    "bdata": "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",
                    "dtype": "f8"
                  },
                  "y": {
                    "bdata": "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",
                    "dtype": "f8"
                  }
                }
              ],
              "layout": {
                "height": 600,
                "template": {
                  "data": {
                    "bar": [
                      {
                        "error_x": {
                          "color": "#2a3f5f"
                        },
                        "error_y": {
                          "color": "#2a3f5f"
                        },
                        "marker": {
                          "line": {
                            "color": "#E5ECF6",
                            "width": 0.5
                          },
                          "pattern": {
                            "fillmode": "overlay",
                            "size": 10,
                            "solidity": 0.2
                          }
                        },
                        "type": "bar"
                      }
                    ],
                    "barpolar": [
                      {
                        "marker": {
                          "line": {
                            "color": "#E5ECF6",
                            "width": 0.5
                          },
                          "pattern": {
                            "fillmode": "overlay",
                            "size": 10,
                            "solidity": 0.2
                          }
                        },
                        "type": "barpolar"
                      }
                    ],
                    "carpet": [
                      {
                        "aaxis": {
                          "endlinecolor": "#2a3f5f",
                          "gridcolor": "white",
                          "linecolor": "white",
                          "minorgridcolor": "white",
                          "startlinecolor": "#2a3f5f"
                        },
                        "baxis": {
                          "endlinecolor": "#2a3f5f",
                          "gridcolor": "white",
                          "linecolor": "white",
                          "minorgridcolor": "white",
                          "startlinecolor": "#2a3f5f"
                        },
                        "type": "carpet"
                      }
                    ],
                    "choropleth": [
                      {
                        "colorbar": {
                          "outlinewidth": 0,
                          "ticks": ""
                        },
                        "type": "choropleth"
                      }
                    ],
                    "contour": [
                      {
                        "colorbar": {
                          "outlinewidth": 0,
                          "ticks": ""
                        },
                        "colorscale": [
                          [
                            0,
                            "#0d0887"
                          ],
                          [
                            0.1111111111111111,
                            "#46039f"
                          ],
                          [
                            0.2222222222222222,
                            "#7201a8"
                          ],
                          [
                            0.3333333333333333,
                            "#9c179e"
                          ],
                          [
                            0.4444444444444444,
                            "#bd3786"
                          ],
                          [
                            0.5555555555555556,
                            "#d8576b"
                          ],
                          [
                            0.6666666666666666,
                            "#ed7953"
                          ],
                          [
                            0.7777777777777778,
                            "#fb9f3a"
                          ],
                          [
                            0.8888888888888888,
                            "#fdca26"
                          ],
                          [
                            1,
                            "#f0f921"
                          ]
                        ],
                        "type": "contour"
                      }
                    ],
                    "contourcarpet": [
                      {
                        "colorbar": {
                          "outlinewidth": 0,
                          "ticks": ""
                        },
                        "type": "contourcarpet"
                      }
                    ],
                    "heatmap": [
                      {
                        "colorbar": {
                          "outlinewidth": 0,
                          "ticks": ""
                        },
                        "colorscale": [
                          [
                            0,
                            "#0d0887"
                          ],
                          [
                            0.1111111111111111,
                            "#46039f"
                          ],
                          [
                            0.2222222222222222,
                            "#7201a8"
                          ],
                          [
                            0.3333333333333333,
                            "#9c179e"
                          ],
                          [
                            0.4444444444444444,
                            "#bd3786"
                          ],
                          [
                            0.5555555555555556,
                            "#d8576b"
                          ],
                          [
                            0.6666666666666666,
                            "#ed7953"
                          ],
                          [
                            0.7777777777777778,
                            "#fb9f3a"
                          ],
                          [
                            0.8888888888888888,
                            "#fdca26"
                          ],
                          [
                            1,
                            "#f0f921"
                          ]
                        ],
                        "type": "heatmap"
                      }
                    ],
                    "histogram": [
                      {
                        "marker": {
                          "pattern": {
                            "fillmode": "overlay",
                            "size": 10,
                            "solidity": 0.2
                          }
                        },
                        "type": "histogram"
                      }
                    ],
                    "histogram2d": [
                      {
                        "colorbar": {
                          "outlinewidth": 0,
                          "ticks": ""
                        },
                        "colorscale": [
                          [
                            0,
                            "#0d0887"
                          ],
                          [
                            0.1111111111111111,
                            "#46039f"
                          ],
                          [
                            0.2222222222222222,
                            "#7201a8"
                          ],
                          [
                            0.3333333333333333,
                            "#9c179e"
                          ],
                          [
                            0.4444444444444444,
                            "#bd3786"
                          ],
                          [
                            0.5555555555555556,
                            "#d8576b"
                          ],
                          [
                            0.6666666666666666,
                            "#ed7953"
                          ],
                          [
                            0.7777777777777778,
                            "#fb9f3a"
                          ],
                          [
                            0.8888888888888888,
                            "#fdca26"
                          ],
                          [
                            1,
                            "#f0f921"
                          ]
                        ],
                        "type": "histogram2d"
                      }
                    ],
                    "histogram2dcontour": [
                      {
                        "colorbar": {
                          "outlinewidth": 0,
                          "ticks": ""
                        },
                        "colorscale": [
                          [
                            0,
                            "#0d0887"
                          ],
                          [
                            0.1111111111111111,
                            "#46039f"
                          ],
                          [
                            0.2222222222222222,
                            "#7201a8"
                          ],
                          [
                            0.3333333333333333,
                            "#9c179e"
                          ],
                          [
                            0.4444444444444444,
                            "#bd3786"
                          ],
                          [
                            0.5555555555555556,
                            "#d8576b"
                          ],
                          [
                            0.6666666666666666,
                            "#ed7953"
                          ],
                          [
                            0.7777777777777778,
                            "#fb9f3a"
                          ],
                          [
                            0.8888888888888888,
                            "#fdca26"
                          ],
                          [
                            1,
                            "#f0f921"
                          ]
                        ],
                        "type": "histogram2dcontour"
                      }
                    ],
                    "mesh3d": [
                      {
                        "colorbar": {
                          "outlinewidth": 0,
                          "ticks": ""
                        },
                        "type": "mesh3d"
                      }
                    ],
                    "parcoords": [
                      {
                        "line": {
                          "colorbar": {
                            "outlinewidth": 0,
                            "ticks": ""
                          }
                        },
                        "type": "parcoords"
                      }
                    ],
                    "pie": [
                      {
                        "automargin": true,
                        "type": "pie"
                      }
                    ],
                    "scatter": [
                      {
                        "fillpattern": {
                          "fillmode": "overlay",
                          "size": 10,
                          "solidity": 0.2
                        },
                        "type": "scatter"
                      }
                    ],
                    "scatter3d": [
                      {
                        "line": {
                          "colorbar": {
                            "outlinewidth": 0,
                            "ticks": ""
                          }
                        },
                        "marker": {
                          "colorbar": {
                            "outlinewidth": 0,
                            "ticks": ""
                          }
                        },
                        "type": "scatter3d"
                      }
                    ],
                    "scattercarpet": [
                      {
                        "marker": {
                          "colorbar": {
                            "outlinewidth": 0,
                            "ticks": ""
                          }
                        },
                        "type": "scattercarpet"
                      }
                    ],
                    "scattergeo": [
                      {
                        "marker": {
                          "colorbar": {
                            "outlinewidth": 0,
                            "ticks": ""
                          }
                        },
                        "type": "scattergeo"
                      }
                    ],
                    "scattergl": [
                      {
                        "marker": {
                          "colorbar": {
                            "outlinewidth": 0,
                            "ticks": ""
                          }
                        },
                        "type": "scattergl"
                      }
                    ],
                    "scattermap": [
                      {
                        "marker": {
                          "colorbar": {
                            "outlinewidth": 0,
                            "ticks": ""
                          }
                        },
                        "type": "scattermap"
                      }
                    ],
                    "scattermapbox": [
                      {
                        "marker": {
                          "colorbar": {
                            "outlinewidth": 0,
                            "ticks": ""
                          }
                        },
                        "type": "scattermapbox"
                      }
                    ],
                    "scatterpolar": [
                      {
                        "marker": {
                          "colorbar": {
                            "outlinewidth": 0,
                            "ticks": ""
                          }
                        },
                        "type": "scatterpolar"
                      }
                    ],
                    "scatterpolargl": [
                      {
                        "marker": {
                          "colorbar": {
                            "outlinewidth": 0,
                            "ticks": ""
                          }
                        },
                        "type": "scatterpolargl"
                      }
                    ],
                    "scatterternary": [
                      {
                        "marker": {
                          "colorbar": {
                            "outlinewidth": 0,
                            "ticks": ""
                          }
                        },
                        "type": "scatterternary"
                      }
                    ],
                    "surface": [
                      {
                        "colorbar": {
                          "outlinewidth": 0,
                          "ticks": ""
                        },
                        "colorscale": [
                          [
                            0,
                            "#0d0887"
                          ],
                          [
                            0.1111111111111111,
                            "#46039f"
                          ],
                          [
                            0.2222222222222222,
                            "#7201a8"
                          ],
                          [
                            0.3333333333333333,
                            "#9c179e"
                          ],
                          [
                            0.4444444444444444,
                            "#bd3786"
                          ],
                          [
                            0.5555555555555556,
                            "#d8576b"
                          ],
                          [
                            0.6666666666666666,
                            "#ed7953"
                          ],
                          [
                            0.7777777777777778,
                            "#fb9f3a"
                          ],
                          [
                            0.8888888888888888,
                            "#fdca26"
                          ],
                          [
                            1,
                            "#f0f921"
                          ]
                        ],
                        "type": "surface"
                      }
                    ],
                    "table": [
                      {
                        "cells": {
                          "fill": {
                            "color": "#EBF0F8"
                          },
                          "line": {
                            "color": "white"
                          }
                        },
                        "header": {
                          "fill": {
                            "color": "#C8D4E3"
                          },
                          "line": {
                            "color": "white"
                          }
                        },
                        "type": "table"
                      }
                    ]
                  },
                  "layout": {
                    "annotationdefaults": {
                      "arrowcolor": "#2a3f5f",
                      "arrowhead": 0,
                      "arrowwidth": 1
                    },
                    "autotypenumbers": "strict",
                    "coloraxis": {
                      "colorbar": {
                        "outlinewidth": 0,
                        "ticks": ""
                      }
                    },
                    "colorscale": {
                      "diverging": [
                        [
                          0,
                          "#8e0152"
                        ],
                        [
                          0.1,
                          "#c51b7d"
                        ],
                        [
                          0.2,
                          "#de77ae"
                        ],
                        [
                          0.3,
                          "#f1b6da"
                        ],
                        [
                          0.4,
                          "#fde0ef"
                        ],
                        [
                          0.5,
                          "#f7f7f7"
                        ],
                        [
                          0.6,
                          "#e6f5d0"
                        ],
                        [
                          0.7,
                          "#b8e186"
                        ],
                        [
                          0.8,
                          "#7fbc41"
                        ],
                        [
                          0.9,
                          "#4d9221"
                        ],
                        [
                          1,
                          "#276419"
                        ]
                      ],
                      "sequential": [
                        [
                          0,
                          "#0d0887"
                        ],
                        [
                          0.1111111111111111,
                          "#46039f"
                        ],
                        [
                          0.2222222222222222,
                          "#7201a8"
                        ],
                        [
                          0.3333333333333333,
                          "#9c179e"
                        ],
                        [
                          0.4444444444444444,
                          "#bd3786"
                        ],
                        [
                          0.5555555555555556,
                          "#d8576b"
                        ],
                        [
                          0.6666666666666666,
                          "#ed7953"
                        ],
                        [
                          0.7777777777777778,
                          "#fb9f3a"
                        ],
                        [
                          0.8888888888888888,
                          "#fdca26"
                        ],
                        [
                          1,
                          "#f0f921"
                        ]
                      ],
                      "sequentialminus": [
                        [
                          0,
                          "#0d0887"
                        ],
                        [
                          0.1111111111111111,
                          "#46039f"
                        ],
                        [
                          0.2222222222222222,
                          "#7201a8"
                        ],
                        [
                          0.3333333333333333,
                          "#9c179e"
                        ],
                        [
                          0.4444444444444444,
                          "#bd3786"
                        ],
                        [
                          0.5555555555555556,
                          "#d8576b"
                        ],
                        [
                          0.6666666666666666,
                          "#ed7953"
                        ],
                        [
                          0.7777777777777778,
                          "#fb9f3a"
                        ],
                        [
                          0.8888888888888888,
                          "#fdca26"
                        ],
                        [
                          1,
                          "#f0f921"
                        ]
                      ]
                    },
                    "colorway": [
                      "#636efa",
                      "#EF553B",
                      "#00cc96",
                      "#ab63fa",
                      "#FFA15A",
                      "#19d3f3",
                      "#FF6692",
                      "#B6E880",
                      "#FF97FF",
                      "#FECB52"
                    ],
                    "font": {
                      "color": "#2a3f5f"
                    },
                    "geo": {
                      "bgcolor": "white",
                      "lakecolor": "white",
                      "landcolor": "#E5ECF6",
                      "showlakes": true,
                      "showland": true,
                      "subunitcolor": "white"
                    },
                    "hoverlabel": {
                      "align": "left"
                    },
                    "hovermode": "closest",
                    "mapbox": {
                      "style": "light"
                    },
                    "paper_bgcolor": "white",
                    "plot_bgcolor": "#E5ECF6",
                    "polar": {
                      "angularaxis": {
                        "gridcolor": "white",
                        "linecolor": "white",
                        "ticks": ""
                      },
                      "bgcolor": "#E5ECF6",
                      "radialaxis": {
                        "gridcolor": "white",
                        "linecolor": "white",
                        "ticks": ""
                      }
                    },
                    "scene": {
                      "xaxis": {
                        "backgroundcolor": "#E5ECF6",
                        "gridcolor": "white",
                        "gridwidth": 2,
                        "linecolor": "white",
                        "showbackground": true,
                        "ticks": "",
                        "zerolinecolor": "white"
                      },
                      "yaxis": {
                        "backgroundcolor": "#E5ECF6",
                        "gridcolor": "white",
                        "gridwidth": 2,
                        "linecolor": "white",
                        "showbackground": true,
                        "ticks": "",
                        "zerolinecolor": "white"
                      },
                      "zaxis": {
                        "backgroundcolor": "#E5ECF6",
                        "gridcolor": "white",
                        "gridwidth": 2,
                        "linecolor": "white",
                        "showbackground": true,
                        "ticks": "",
                        "zerolinecolor": "white"
                      }
                    },
                    "shapedefaults": {
                      "line": {
                        "color": "#2a3f5f"
                      }
                    },
                    "ternary": {
                      "aaxis": {
                        "gridcolor": "white",
                        "linecolor": "white",
                        "ticks": ""
                      },
                      "baxis": {
                        "gridcolor": "white",
                        "linecolor": "white",
                        "ticks": ""
                      },
                      "bgcolor": "#E5ECF6",
                      "caxis": {
                        "gridcolor": "white",
                        "linecolor": "white",
                        "ticks": ""
                      }
                    },
                    "title": {
                      "x": 0.05
                    },
                    "xaxis": {
                      "automargin": true,
                      "gridcolor": "white",
                      "linecolor": "white",
                      "ticks": "",
                      "title": {
                        "standoff": 15
                      },
                      "zerolinecolor": "white",
                      "zerolinewidth": 2
                    },
                    "yaxis": {
                      "automargin": true,
                      "gridcolor": "white",
                      "linecolor": "white",
                      "ticks": "",
                      "title": {
                        "standoff": 15
                      },
                      "zerolinecolor": "white",
                      "zerolinewidth": 2
                    }
                  }
                },
                "title": {
                  "text": "로지스틱 회귀 결정 경계 (PCA 2차원)"
                },
                "width": 800,
                "xaxis": {
                  "title": {
                    "text": "첫 번째 주성분"
                  }
                },
                "yaxis": {
                  "title": {
                    "text": "두 번째 주성분"
                  }
                }
              }
            }
          },
          "metadata": {},
          "output_type": "display_data"
        }
      ],
      "source": [
        "# 5. Plotly를 사용하여 결정 경계와 데이터 포인트 시각화\n",
        "fig = go.Figure()\n",
        "\n",
        "# 결정 경계 (Contour plot)\n",
        "fig.add_trace(go.Contour(x=xx[0], y=yy[:, 0], z=Z,\n",
        "                            colorscale=[[0, 'lightcoral'], [1, 'lightskyblue']],\n",
        "                            showscale=False, opacity=0.5))\n",
        "\n",
        "# 데이터 포인트 (Scatter plot)\n",
        "scatter_df = pd.DataFrame({'PCA1': X_pca[:, 0], 'PCA2': X_pca[:, 1], 'Churn': y_train})\n",
        "\n",
        "# 각 클래스별로 별도로 플롯 추가\n",
        "for class_value in scatter_df['Churn'].unique():\n",
        "    class_data = scatter_df[scatter_df['Churn'] == class_value]\n",
        "    color = 'blue' if class_value == 0 else 'red'\n",
        "    name = 'No Churn' if class_value == 0 else 'Churn'\n",
        "    \n",
        "    fig.add_trace(go.Scatter(\n",
        "        x=class_data['PCA1'], \n",
        "        y=class_data['PCA2'],\n",
        "        mode='markers',\n",
        "        marker=dict(color=color, size=6, opacity=0.7),\n",
        "        name=name,\n",
        "        showlegend=True\n",
        "    ))\n",
        "\n",
        "# 레이아웃 설정\n",
        "fig.update_layout(\n",
        "    title='로지스틱 회귀 결정 경계 (PCA 2차원)',\n",
        "    xaxis_title='첫 번째 주성분',\n",
        "    yaxis_title='두 번째 주성분',\n",
        "    width=800,\n",
        "    height=600\n",
        ")\n",
        "\n",
        "fig.show()\n",
        "\n"
      ]
    },
    {
      "cell_type": "markdown",
      "metadata": {},
      "source": [
        "이제 이 과정을 함수로 만들어보자."
      ]
    },
    {
      "cell_type": "code",
      "execution_count": 31,
      "metadata": {
        "id": "sIVGJsmX5v-g"
      },
      "outputs": [],
      "source": [
        "# 결정 경계 시각화 함수\n",
        "def plot_decision_boundary(model_pipeline, X, y, title):\n",
        "    # 1. PCA를 사용하여 데이터를 2차원으로 축소\n",
        "    pca = PCA(n_components=2)\n",
        "    X_pca = pca.fit_transform(preprocessor.fit_transform(X)) # 전처리 후 PCA 적용\n",
        "\n",
        "    # 2. 2차원 데이터로 모델 재학습\n",
        "    # 파이프라인의 모델 부분만 가져와서 학습\n",
        "    model = model_pipeline.named_steps['classifier']\n",
        "    model.fit(X_pca, y)\n",
        "\n",
        "    # 3. 2차원 평면에 격자(grid) 생성\n",
        "    x_min, x_max = X_pca[:, 0].min() - 1, X_pca[:, 0].max() + 1\n",
        "    y_min, y_max = X_pca[:, 1].min() - 1, X_pca[:, 1].max() + 1\n",
        "    xx, yy = np.meshgrid(np.arange(x_min, x_max, 0.1),\n",
        "                         np.arange(y_min, y_max, 0.1))\n",
        "\n",
        "    # 4. 격자 위의 모든 점에 대해 예측 수행\n",
        "    Z = model.predict(np.c_[xx.ravel(), yy.ravel()])\n",
        "    Z = Z.reshape(xx.shape)\n",
        "\n",
        "    # 5. Plotly를 사용하여 결정 경계와 데이터 포인트 시각화\n",
        "    fig = go.Figure()\n",
        "\n",
        "    # 결정 경계 (Contour plot)\n",
        "    fig.add_trace(go.Contour(x=xx[0], y=yy[:, 0], z=Z,\n",
        "                             colorscale=[[0, 'lightcoral'], [1, 'lightskyblue']],\n",
        "                             showscale=False, opacity=0.5))\n",
        "\n",
        "    # 데이터 포인트 (Scatter plot)\n",
        "    scatter_df = pd.DataFrame({'PCA1': X_pca[:, 0], 'PCA2': X_pca[:, 1], 'Churn': y})\n",
        "    \n",
        "    # 각 클래스별로 별도로 플롯 추가\n",
        "    for class_value in scatter_df['Churn'].unique():\n",
        "        class_data = scatter_df[scatter_df['Churn'] == class_value]\n",
        "        color = 'blue' if class_value == 0 else 'red'\n",
        "        name = 'No Churn' if class_value == 0 else 'Churn'\n",
        "        \n",
        "        fig.add_trace(go.Scatter(\n",
        "            x=class_data['PCA1'], \n",
        "            y=class_data['PCA2'],\n",
        "            mode='markers',\n",
        "            marker=dict(color=color, size=6, opacity=0.7),\n",
        "            name=name,\n",
        "            showlegend=True\n",
        "        ))\n",
        "\n",
        "    fig.update_layout(title_text=title,\n",
        "                      legend_title_text='Churn',\n",
        "                      xaxis_title=\"첫 번째 주성분 (PCA 1)\",\n",
        "                      yaxis_title=\"두 번째 주성분 (PCA 2)\", width=800, height=600)\n",
        "    fig.show()"
      ]
    },
    {
      "cell_type": "code",
      "execution_count": 34,
      "metadata": {},
      "outputs": [
        {
          "data": {
            "application/vnd.plotly.v1+json": {
              "config": {
                "plotlyServerURL": "https://plot.ly"
              },
              "data": [
                {
                  "colorscale": [
                    [
                      0,
                      "lightcoral"
                    ],
                    [
                      1,
                      "lightskyblue"
                    ]
                  ],
                  "opacity": 0.5,
                  "showscale": false,
                  "type": "contour",
                  "x": {
                    "bdata": "OLBCBVPzEcDSSdye7IwRwGzjdTiGJhHABn0P0h/AEMCgFqlruVkQwHRghQqm5g/AqJO4PdkZD8DcxutwDE0OwBD6HqQ/gA3ARC1S13KzDMB4YIUKpuYLwKyTuD3ZGQvA4MbrcAxNCsAU+h6kP4AJwEgtUtdyswjAfGCFCqbmB8Cwk7g92RkHwOTG63AMTQbAGPoepD+ABcBMLVLXcrMEwIBghQqm5gPAtJO4PdkZA8DoxutwDE0CwBz6HqQ/gAHAUC1S13KzAMAIwQoVTM3/v3AncXuyM/6/2I3X4Ria/L9A9D1IfwD7v6hapK7lZvm/EMEKFUzN9794J3F7sjP2v+CN1+EYmvS/SPQ9SH8A87+wWqSu5WbxvzCCFSqYmu+/AE/i9mRn7L/QG6/DMTTpv6Doe5D+AOa/cLVIXcvN4r+ABCtUMDXfvyCexO3Jzti/wDdeh2No0r/Aou9B+gPIvwCsRepabra/AGyfevVZiT8Ah+1I2MS8P0CQQ/E4L8s/gC4I3wL+0z/glG5FaWTaP6B96tVnZeA/0LAdCZuY4z8A5FA8zsvmPzAXhG8B/+k/YEq3ojQy7T/IPvXqszLwP2DYjoRNzPE/+HEoHudl8z+QC8K3gP/0PyilW1EamfY/wD716rMy+D9Y2I6ETcz5P/BxKB7nZfs/iAvCt4D//D8gpVtRGpn+P1yfevVZGQBAKGxHwibmAED0OBSP87IBQMAF4VvAfwJAjNKtKI1MA0BYn3r1WRkEQCRsR8Im5gRA8DgUj/OyBUC8BeFbwH8GQIjSrSiNTAdAVJ969VkZCEAgbEfCJuYIQOw4FI/zsglAuAXhW8B/CkCE0q0ojUwLQFCfevVZGQxAHGxHwibmDEDoOBSP87INQLQF4VvAfw5AgNKtKI1MD0CmT736rAwQQAy2I2ETcxBAchyKx3nZEEDYgvAt4D8RQD7pVpRGphFApE+9+qwMEkAKtiNhE3MSQHAcisd52RJA1oLwLeA/E0A86VaURqYTQKJPvfqsDBRA",
                    "dtype": "f8"
                  },
                  "y": {
                    "bdata": "uyESOtSMD8DuVEVtB8AOwCGIeKA68w3AVLur020mDcCH7t4GoVkMwLohEjrUjAvA7VRFbQfACsAgiHigOvMJwFO7q9NtJgnAhu7eBqFZCMC5IRI61IwHwOxURW0HwAbAH4h4oDrzBcBSu6vTbSYFwIXu3gahWQTAuCESOtSMA8DrVEVtB8ACwB6IeKA68wHAUbur020mAcCE7t4GoVkAwG5DJHSoGf+/1KmK2g6A/b86EPFAdeb7v6B2V6fbTPq/Bt29DUKz+L9sQyR0qBn3v9KpitoOgPW/OBDxQHXm87+edlen20zyvwTdvQ1Cs/C/1IZI6FAz7r+gUxW1HQDrv2wg4oHqzOe/OO2uTreZ5L8EunsbhGbhv6ANkdChZty/OKcqajsA1r+ggYgHqjPPv9C0uzrdZsK/AKC7t0Fopr9Ak3d78cqsP5CxqiuJ/8M/OL87/Cpm0D+oJaJikczWPwiMCMn3Mt0/NHm3F6/M4T9srOpK4v/kP6TfHX4VM+g/1BJRsUhm6z8ERoTke5nuP56824tX5vA/OlZ1JfF/8j/S7w6/ihn0P2qJqFgks/U/BiNC8r1M9z+ivNuLV+b4PzpWdSXxf/o/0u8Ov4oZ/D9uiahYJLP9PwojQvK9TP8/Ud7txStzAEAdq7qS+D8BQOt3h1/FDAJAuURULJLZAkCFESH5XqYDQFHe7cUrcwRAH6u6kvg/BUDtd4dfxQwGQLlEVCyS2QZAhREh+V6mB0BT3u3FK3MIQCGrupL4PwlA7XeHX8UMCkC5RFQsktkKQIcRIflepgtAVd7txStzDEAhq7qS+D8NQO13h1/FDA5Au0RULJLZDkCJESH5XqYPQCrv9uKVORBA",
                    "dtype": "f8"
                  },
                  "z": {
                    "bdata": "AQEBAQEBAQEBAQEBAQEBAQEBAQEBAQEBAQEBAQEBAQEBAQEBAQEBAQEBAQEBAQEBAQEBAQEBAQEBAQEBAQEBAQEBAQEBAQEBAQEBAQEBAQEBAQEBAQEBAQEBAQEBAQEBAQEBAQEBAQEBAQEBAQEBAQEBAQEBAQEBAQEBAQEBAQEBAQEBAQEBAQEBAQEBAQEBAQEBAQEBAQEBAQEBAQEBAQEBAQEBAQEBAQEBAQEBAQEBAQEBAQEBAQEBAQEBAQEBAQEBAQEBAQEBAQEBAQEBAQEBAQEBAQEBAQEBAQEBAQEBAQEBAQEBAQEBAQEBAQEBAQEBAQEBAQEBAQEBAQEBAQEBAQEBAQEBAQEBAQEBAQEBAQEBAQEBAQEBAQEBAQEBAQEBAQEBAQEBAQEBAQEBAQEBAQEBAQEBAQEBAQEBAQEBAQEBAQEBAQEBAQEBAQEBAQEBAQEBAQEBAQEBAQEBAQEBAQEBAQEBAQEBAQEBAQEBAQEBAQEBAQEBAQEBAQEBAQEBAQEBAQEBAQEBAQEBAQEBAQEBAQEBAQEBAQEBAQEBAQEBAQEBAQEBAQEBAQEBAQEBAQEBAQEBAQEBAQEBAQEBAQEBAQEBAQEBAQEBAQEBAQEBAQEBAQEBAQEBAQEBAQEBAQEBAQEBAQEBAQEBAQEBAQEBAQEBAQEBAQEBAQEBAQEBAQEBAQEBAQEBAQEBAQEBAQEBAQEBAQEBAQEBAQEBAQEBAQEBAQEBAQEBAQEBAQEBAQEBAQEBAQEBAQEBAQEBAQEBAQEBAQEBAQEBAQEBAQEBAQEBAQEBAQEBAQEBAQEBAQEBAQEBAQEBAQEBAQEBAQEBAQEBAQEBAQEBAQEBAQEBAQEBAQEBAQEBAQEBAQEBAQEBAQEBAQEBAQEBAQEBAQEBAQEBAQEBAQEBAQEBAQEBAQEBAQEBAQEBAQEBAQEBAQEBAQEBAQEBAQEBAQEBAQEBAQEBAQEBAQEBAQEBAQEBAQEBAQEBAQEBAQEBAQEBAQEBAQEBAQEBAQEBAQEBAQEBAQEBAQEBAQEBAQEBAQEBAQEBAQEBAQEBAQEBAQEBAQEBAQEBAQEBAQEBAQEBAQEBAQEBAQEBAQEBAQEBAQEBAQEBAQEBAQEBAQEBAQEBAQEBAQEBAQEBAQEBAQEBAQEBAQEBAQEBAQEBAQEBAQEBAQEBAQEBAQEBAQEBAQEBAQEBAQEBAQEBAQEBAQEBAQEBAQEBAQEBAQEBAQEBAQEBAQEBAQEBAQEBAQEBAQEBAQEBAQEBAQEBAQEBAQEBAQEBAQEBAQEBAQEBAQEBAQEBAQEBAQEBAQEBAQEBAQEBAQEBAQEBAQEBAQEBAQEBAQEBAQEBAQEBAQEBAQEBAQEBAQEBAQEBAQEBAQEBAQEBAQEBAQEBAQEBAQEBAQEBAQEBAQEBAQEBAQEBAQEBAQEBAQEBAQEBAQEBAQEBAQEBAQEBAQEBAQEBAQEBAQEBAQEBAQEBAQEBAQEBAQEBAQEBAQEBAQEBAQEBAQEBAQEBAQEBAQEBAQEBAQEBAQEBAQEBAQEBAQEBAQEBAQEBAQEBAQEBAQEBAQEBAQEBAQEBAQEBAQEBAQEBAQEBAQEBAQEBAQEBAQEBAQEBAQEBAQEBAQEBAQEBAQEBAQEBAQEBAQEBAQEBAQEBAQEBAQEBAQEBAQEBAQEBAQEBAQEBAQEBAQEBAQEBAQEBAQEBAQEBAQEBAQEBAQEBAQEBAQEBAQEBAQEBAQEBAQEBAQEBAQEBAQEBAQEBAQEBAQEBAQEBAQEBAQEBAQEBAQEBAQEBAQEBAQEBAQEBAQEBAQEBAQEBAQEBAQEBAQEBAQEBAQEBAQEBAQEBAQEBAQEBAQEBAQEBAQEBAQEBAQEBAQEBAQEBAQEBAQEBAQEBAQEBAQEBAQEBAQEBAQEBAQEBAQEBAQEBAQEBAQEBAQEBAQEBAQEBAQEBAQEBAQEBAQEBAQEBAQEBAQEBAQEBAQEBAQEBAQEBAQEBAQEBAQEBAQEBAQEBAQEBAQEBAQEBAQEBAQEBAQEBAQEBAQEBAQEBAAAAAQEBAQEBAQEBAQEBAQEBAQEBAQEBAQEBAQEBAQEBAQEBAQEBAQEBAQEBAQEBAQEBAQEBAQEBAQEBAQEBAQEBAQEBAQEBAQEBAQEBAQEBAQEBAQEBAQEBAQEBAQEBAAAAAAAAAAABAQEBAQEBAQEBAQEBAQEBAQEBAQEBAQEBAQEBAQEBAQEBAQEBAQEBAQEBAQEBAQEBAQEBAQEBAQEBAQEBAQEBAQEBAQEBAQEBAQEBAQEBAQEBAQEBAQEBAAAAAAAAAAAAAAAAAAEBAQEBAQEBAQEBAQEBAQEBAQEBAQEBAQEBAQEBAQEBAQEBAQEBAQEBAQEBAQEBAQEBAQEBAQEBAQEBAQEBAQEBAQEBAQEBAQEBAQEBAQEBAQEBAAAAAAAAAAAAAAAAAAAAAAAAAQEBAQEBAQEBAQEBAQEBAQEBAQEBAQEBAQEBAQEBAQEBAQEBAQEBAQEBAQEBAQEBAQEBAQEBAQEBAQEBAQEBAQEBAQEBAQEBAQEBAQEBAAAAAAAAAAAAAAAAAAAAAAAAAAAAAAABAQEBAQEBAQEBAQEBAQEBAQEBAQEBAQEBAQEBAQEBAQEBAQEBAQEBAQEBAQEBAQEBAQEBAQEBAQEBAQEBAQEBAQEBAQEBAQEBAAAAAAAAAAAAAAAAAAAAAAAAAAAAAAAAAAAAAAABAQEBAQEBAQEBAQEBAQEBAQEBAQEBAQEBAQEBAQEBAQEBAQEBAQEBAQEBAQEBAQEBAQEBAQEBAQEBAQEBAQEBAQEBAAAAAAAAAAAAAAAAAAAAAAAAAAAAAAAAAAAAAAAAAAAAAAEBAQEBAQEBAQEBAQEBAQEBAQEBAQEBAQEBAQEBAQEBAQEBAQEBAQEBAQEBAQEBAQEBAQEBAQEBAQEBAQEBAAAAAAAAAAAAAAAAAAAAAAAAAAAAAAAAAAAAAAAAAAAAAAAAAAAAAQEBAQEBAQEBAQEBAQEBAQEBAQEBAQEBAQEBAQEBAQEBAQEBAQEBAQEBAQEBAQEBAQEBAQEBAQEBAAAAAAAAAAAAAAAAAAAAAAAAAAAAAAAAAAAAAAAAAAAAAAAAAAAAAAAAAAABAQEBAQEBAQEBAQEBAQEBAQEBAQEBAQEBAQEBAQEBAQEBAQEBAQEBAQEBAQEBAQEBAQEBAAAAAAAAAAAAAAAAAAAAAAAAAAAAAAAAAAAAAAAAAAAAAAAAAAAAAAAAAAAAAAAAAAEBAQEBAQEBAQEBAQEBAQEBAQEBAQEBAQEBAQEBAQEBAQEBAQEBAQEBAQEBAQEBAAAAAAAAAAAAAAAAAAAAAAAAAAAAAAAAAAAAAAAAAAAAAAAAAAAAAAAAAAAAAAAAAAAAAAAAAQEBAQEBAQEBAQEBAQEBAQEBAQEBAQEBAQEBAQEBAQEBAQEBAQEBAQEBAAAAAAAAAAAAAAAAAAAAAAAAAAAAAAAAAAAAAAAAAAAAAAAAAAAAAAAAAAAAAAAAAAAAAAAAAAAAAAABAQEBAQEBAQEBAQEBAQEBAQEBAQEBAQEBAQEBAQEBAQEBAQEBAAAAAAAAAAAAAAAAAAAAAAAAAAAAAAAAAAAAAAAAAAAAAAAAAAAAAAAAAAAAAAAAAAAAAAAAAAAAAAAAAAAAAAEBAQEBAQEBAQEBAQEBAQEBAQEBAQEBAQEBAQEBAQEBAAAAAAAAAAAAAAAAAAAAAAAAAAAAAAAAAAAAAAAAAAAAAAAAAAAAAAAAAAAAAAAAAAAAAAAAAAAAAAAAAAAAAAAAAAAAAQEBAQEBAQEBAQEBAQEBAQEBAQEBAQEBAQEBAAAAAAAAAAAAAAAAAAAAAAAAAAAAAAAAAAAAAAAAAAAAAAAAAAAAAAAAAAAAAAAAAAAAAAAAAAAAAAAAAAAAAAAAAAAAAAAAAAABAQEBAQEBAQEBAQEBAQEBAQEBAQEBAAAAAAAAAAAAAAAAAAAAAAAAAAAAAAAAAAAAAAAAAAAAAAAAAAAAAAAAAAAAAAAAAAAAAAAAAAAAAAAAAAAAAAAAAAAAAAAAAAAAAAAAAAEBAQEBAQEBAQEBAQEBAQEBAAAAAAAAAAAAAAAAAAAAAAAAAAAAAAAAAAAAAAAAAAAAAAAAAAAAAAAAAAAAAAAAAAAAAAAAAAAAAAAAAAAAAAAAAAAAAAAAAAAAAAAAAAAAAAAAAAEBAQEBAQEBAQEBAAAAAAAAAAAAAAAAAAAAAAAAAAAAAAAAAAAAAAAAAAAAAAAAAAAAAAAAAAAAAAAAAAAAAAAAAAAAAAAAAAAAAAAAAAAAAAAAAAAAAAAAAAAAAAAAAAAAAAAAAQEBAQEBAAAAAAAAAAAAAAAAAAAAAAAAAAAAAAAAAAAAAAAAAAAAAAAAAAAAAAAAAAAAAAAAAAAAAAAAAAAAAAAAAAAAAAAAAAAAAAAAAAAAAAAAAAAAAAAAAAAAAAAAAAAAAAABAAAAAAAAAAAAAAAAAAAAAAAAAAAAAAAAAAAAAAAAAAAAAAAAAAAAAAAAAAAAAAAAAAAAAAAAAAAAAAAAAAAAAAAAAAAAAAAAAAAAAAAAAAAAAAAAAAAAAAAAAAAAAAAAAAAAAAAAAAAAAAAAAAAAAAAAAAAAAAAAAAAAAAAAAAAAAAAAAAAAAAAAAAAAAAAAAAAAAAAAAAAAAAAAAAAAAAAAAAAAAAAAAAAAAAAAAAAAAAAAAAAAAAAAAAAAAAAAAAAAAAAAAAAAAAAAAAAAAAAAAAAAAAAAAAAAAAAAAAAAAAAAAAAAAAAAAAAAAAAAAAAAAAAAAAAAAAAAAAAAAAAAAAAAAAAAAAAAAAAAAAAAAAAAAAAAAAAAAAAAAAAAAAAAAAAAAAAAAAAAAAAAAAAAAAAAAAAAAAAAAAAAAAAAAAAAAAAAAAAAAAAAAAAAAAAAAAAAAAAAAAAAAAAAAAAAAAAAAAAAAAAAAAAAAAAAAAAAAAAAAAAAAAAAAAAAAAAAAAAAAAAAAAAAAAAAAAAAAAAAAAAAAAAAAAAAAAAAAAAAAAAAAAAAAAAAAAAAAAAAAAAAAAAAAAAAAAAAAAAAAAAAAAAAAAAAAAAAAAAAAAAAAAAAAAAAAAAAAAAAAAAAAAAAAAAAAAAAAAAAAAAAAAAAAAAAAAAAAAAAAAAAAAAAAAAAAAAAAAAAAAAAAAAAAAAAAAAAAAAAAAAAAAAAAAAAAAAAAAAAAAAAAAAAAAAAAAAAAAAAAAAAAAAAAAAAAAAAAAAAAAAAAAAAAAAAAAAAAAAAAAAAAAAAAAAAAAAAAAAAAAAAAAAAAAAAAAAAAAAAAAAAAAAAAAAAAAAAAAAAAAAAAAAAAAAAAAAAAAAAAAAAAAAAAAAAAAAAAAAAAAAAAAAAAAAAAAAAAAAAAAAAAAAAAAAAAAAAAAAAAAAAAAAAAAAAAAAAAAAAAAAAAAAAAAAAAAAAAAAAAAAAAAAAAAAAAAAAAAAAAAAAAAAAAAAAAAAAAAAAAAAAAAAAAAAAAAAAAAAAAAAAAAAAAAAAAAAAAAAAAAAAAAAAAAAAAAAAAAAAAAAAAAAAAAAAAAAAAAAAAAAAAAAAAAAAAAAAAAAAAAAAAAAAAAAAAAAAAAAAAAAAAAAAAAAAAAAAAAAAAAAAAAAAAAAAAAAAAAAAAAAAAAAAAAAAAAAAAAAAAAAAAAAAAAAAAAAAAAAAAAAAAAAAAAAAAAAAAAAAAAAAAAAAAAAAAAAAAAAAAAAAAAAAAAAAAAAAAAAAAAAAAAAAAAAAAAAAAAAAAAAAAAAAAAAAAAAAAAAAAAAAAAAAAAAAAAAAAAAAAAAAAAAAAAAAAAAAAAAAAAAAAAAAAAAAAAAAAAAAAAAAAAAAAAAAAAAAAAAAAAAAAAAAAAAAAAAAAAAAAAAAAAAAAAAAAAAAAAAAAAAAAAAAAAAAAAAAAAAAAAAAAAAAAAAAAAAAAAAAAAAAAAAAAAAAAAAAAAAAAAAAAAAAAAAAAAAAAAAAAAAAAAAAAAAAAAAAAAAAAAAAAAAAAAAAAAAAAAAAAAAAAAAAAAAAAAAAAAAAAAAAAAAAAAAAAAAAAAAAAAAAAAAAAAAAAAAAAAAAAAAAAAAAAAAAAAAAAAAAAAAAAAAAAAAAAAAAAAAAAAAAAAAAAAAAAAAAAAAAAAAAAAAAAAAAAAAAAAAAAAAAAAAAAAAAAAAAAAAAAAAAAAAAAAAAAAAAAAAAAAAAAAAAAAAAAAAAAAAAAAAAAAAAAAAAAAAAAAAAAAAAAAAAAAAAAAAAAAAAAAAAAAAAAAAAAAAAAAAAAAAAAAAAAAAAAAAAAAAAAAAAAAAAAAAAAAAAAAAAAAAAAAAAAAAAAAAAAAAAAAAAAAAAAAAAAAAAAAAAAAAAAAAAAAAAAAAAAAAAAAAAAAAAAAAAAAAAAAAAAAAAAAAAAAAAAAAAAAAAAAAAAAAAAAAAAAAAAAAAAAAAAAAAAAAAAAAAAAAAAAAAAAAAAAAAAAAAAAAAAAAAAAAAAAAAAAAAAAAAAAAAAAAAAAAAAAAAAAAAAAAAAAAAAAAAAAAAAAAAAAAAAAAAAAAAAAAAAAAAAAAAAAAAAAAAAAAAAAAAAAAAAAAAAAAAAAAAAAAAAAAAAAAAAAAAAAAAAAAAAAAAAAAAAAAAAAAAAAAAAAAAAAAAAAAAAAAAAAAAAAAAAAAAAAAAAAAAAAAAAAAAAAAAAAAAAAAAAAAAAAAAAAAAAAAAAAAAAAAAAAAAAAAAAAAAAAAAAAAAAAAAAAAAAAAAAAAAAAAAAAAAAAAAAAAAAAAAAAAAAAAAAAAAAAAAAAAAAAAAAAAAAAAAAAAAAAAAAAAAAAAAAAAAAAAAAAAAAAAAAAAAAAAAAAAAAAAAAAAAAAAAAAAAAAAAAAAAAAAAAAAAAAAAAAAAAAAAAAAAAAAAAAAAAAAAAAAAAAAAAAAAAAAAAAAAAAAAAAAAAAAAAAAAAAAAAAAAAAAAAAAAAAAAAAAAAAAAAAAAAAAAAAAAAAAAAAAAAAAAAAAAAAAAAAAAAAAAAAAAAAAAAAAAAAAAAAAAAAAAAAAAAAAAAAAAAAAAAAAAAAAAAAAAAAAAAAAAAAAAAAAAAAAAAAAAAAAAAAAAAAAAAAAAAAAAAAAAAAAAAAAAAAAAAAAAAAAAAAAAAAAAAAAAAAAAAAAAAAAAAAAAAAAAAAAAAAAAAAAAAAAAAAAAAAAAAAAAAAAAAAAAAAAAAAAAAAAAAAAAAAAAAAAAAAAAAAAAAAAAAAAAAAAAAAAAAAAAAAAAAAAAAAAAAAAAAAAAAAAAAAAAAAAAAAAAAAAAAAAAAAAAAAAAAAAAAAAAAAAAAAAAAAAAAAAAAAAAAAAAAAAAAAAAAAAAAAAAAAAAAAAAAAAAAAAAAAAAAAAAAAAAAAAAAAAAAAAAAAAAAAAAAAAAAAAAAAAAAAAAAAAAAAAAAAAAAAAAAAAAAAAAAAAAAAAAAAAAAAAAAAAAAAAAAAAAAAAAAAAAAAAAAAAAAAAAAAAAAAAAAAAAAAAAAAAAAAAAAAAAAAAAAAAAAAAAAAAAAAAAAAAAAAAAAAAAAAAAAAAAAAAAAAAAAAAAAAAAAAAAAAAAAAAAAAAAAAAAAAAAAAAAAAAAAAAAAAAAAAAAAAAAAAAAAAAAAAAAAAAAAAAAAAAAAAAAAAAAAAAAAAAAAAAAAAAAAAAAAAAAAAAAAAAAAAAAAAAAAAAAAAAAAAAAAAAAAAAAAAAAAAAAAAAAAAAAAAAAAAAAAAAAAAAAAAAAAAAAAAAAAAAAAAAAAAAAAAAAAAAAAAAAAAAAAAAAAAAAAAAAAAAAAAAAAAAAAAAAAAAAAAAAAAAAAAAAAAAAAAAAAAAAAAAAAAAAAAAAAAAAAAAAAAAAAAAAAAAAAAAAAAAAAAAAAAAAAAAAAAAAAAAAAAAAAAAAAAAAAAAAAAAAAAAAAAAAAAAAAAAAAAAAAAAAAAAAAAAAAAAAAAAAAAAAAAAAAAAAAAAAAAAAAAAAAAAAAAAAAAAAAAAAAAAAAAAAAAAAAAAAAAAAAAAAAAAAAAAAAAAAAAAAAAAAAAAAAAAAAAAAAAAAAAAAAAAAAAAAAAAAAAAAAAAAAAAAAAAAAAAAAAAAAAAAAAAAAAAAAAAAAAAAAAAAAAAAAAAAAAAAAAAAAAAAAAAAAAAAAAAAAAAAAAAAAAAAAAAAAAAAAAAAAAAAAAAAAAAAAAAAAAAAAAAAAAAAAAAAAAAAAAAAAAAAAAAAAAAAAAAAAAAAAAAAAAAAAAAAAAAAAAAAAAAAAAAAAAAAAAAAAAAAAAAAAAAAAAAAAAAAAAAAAAAAAAAAAAAAAAAAAAAAAAAAAAAAAAAAAAAAAAAAAAAAAAAAAAAAAAAAAAAAAAAAAAAAAAAAAAAAAAAAAAAAAAAAAAAAAAAAAAAAAAAAAAAAAAAAAAAAAAAAAAAAAAAAAAAAAAAAAAAAAAAAAAAAAAAAAAAAAAAAAAAAAAAAAAAAAAAAAAAAAAAAAAAAAAAAAAAAAAAAAAAAAAAAAAAAAAAAAAAAAAAAAAAAAAAAAAAAAAAAAAAAAAAAAAAAAAAAAAAAAAAAAAAAAAAAAAAAAAAAAAAAAAAAAAAAAAAAAAAAAAAAAAAAAAAAAAAAAAAAAAAAAAAAAAAAAAAAAAAAAAAAAAAAAAAAAAAAAAAAAAAAAAAAAAAAAAAAAAAAAAAAAAAAAAAAAAAAAAAAAAAAAAAAAAAAAAAAAAAAAAAAAAAAAAAAAAAAAAAAAAAAAAAAAAAAAAAAAAAAAAAAAAAAAAAAAAAAAAAAAAAAAAAAAAAAAAAAAAAAAAAAAAAAAAAAAAAAAAAAAAAAAAAAAAAAAAAAAAAAAAAAAAAAAAAAAAAAAAAAAAAAAAAAAAAAAAAAAAAAAAAAAAAAAAAAAAAAAAAAAAAAAAAAAAAAAAAAAAAAAAAAAAAAAAAAAAAAAAAAAAAAAAAAAAAAAAAAAAAAAAAAAAAAAAAAAAAAAAAAAAAAAAAAAAAAAAAAAAAAAAAAAAAAAAAAAAAAAAAAAAAAAAAAAAAAAAAAAAAAAAAAAAAAAAAAAAAAAAAAAAAAAAAAAAAAAAAAAAAAAAAAAAAAAAAAAAAAAAAAAAAAAAAAAAAAAAAAAAAAAAAAAAAAAAAAAAAAAAAAAAAAAAAAAAAAAAAAAAAAAAAAAAAAAAAAAAAAAAAAAAAAAAAAAAAAAAAAAAAAAAAAAAAAAAAAAAAAAAAAAAAAAAAAAAAAAAAAAAAAAAAAAAAAAAAAAAAAAAAAAAAAAAAAAAAAAAAAAAAAAAAAAAAAAAAAAAAAAAAAAAAAAAAAAAAAAAAAAAAAAAAAAAAAAAAAAAAAAAAAAAAAAAAAAAAAAAAAAAAAAAAAAAAAAAAAAAAAAAAAAAAAAAAAAAAAAAAAAAAAAAAAAAAAAAAAAAAAAAAAAAAAAAAAAAAAAAAAAAAAAAAAAAAAAAAAAAAAAAAAAAAAAAAAAAAAAAAAAAAAAAAAAAAAAAAAAAAAAAAAAAAAAAAAAAAAAAAAAAAAAAAAAAAAAAAAAAAAAAAAAAAAAAAAAAAAAAAAAAAAAAAAAAAAAAAAAAAAAAAAAAAAAAAAAAAAAAAAAAAAAAAAAAAAAAAAAAAAAAAAAAAAAAAAAAAAAAAAAAAAAAAAAAAAAAAAAAAAAAAAAAAAAAAAAAAAAAAAAAAAAAAAAAAAAAAAAAAAAAAAAAAAAAAAAAAAAAAAAAAAAAAAAAAAAAAAAAAAAAAAAAAAAAAAAAAAAAAAAAAAAAAAAAAAAAAAAAAAAAAAAAAAAAAAAAAAAAAAAAAAAAAAAAAAAAAAAAAAAAAAAAAAAAAAAAAAAAAAAAAAAAAAAAAAAAAAAAAAAAAAAAAAAAAAAAAAAAAAAAAAAAAAAAAAAAAAAAAAAAAAAAAAAAAAAAAAAAAAAAAAAAAAAAAAAAAAAAAAAAAAAAAAAAAAAAAAAAAAAAAAAAAAAAAAAAAAAAAAAAAAAAAAAAAAAAAAAAAAAAAAAAAAAAAAAAAAAAAAAAAAAAAAAAAAAAAAAAAAAAAAAAAAAAAAAAAAAAAAAAAAAAAAAAAAAAAAAAAAAAAAAAAAAAAAAAAAAAAAAAAAAAAAAAAAAAAAAAAAAAAAAAAAAAAAAAAAAAAAAAAAAAAAAAAAAAAAAAAAAAAAAAAAAAAAAAAAAAAAAAAAAAAAAAAAAAAAAAAAAAAAAAAAAAAAAAAAAAAAAAAAAAAAAAAAAAAAAAAAAAAAAAAAAAAAAAAAAAAAAAAAAAAAAAAAAAAAAAAAAAAAAAAAAAAAAAAAAAAAAAAAAAAAAAAAAAAAAAAAAAAAAAAAAAAAAAAAAAAAAAAAAAAA",
                    "dtype": "i1",
                    "shape": "81, 96"
                  }
                },
                {
                  "marker": {
                    "color": "blue",
                    "opacity": 0.7,
                    "size": 6
                  },
                  "mode": "markers",
                  "name": "No Churn",
                  "showlegend": true,
                  "type": "scatter",
                  "x": {
                    "bdata": "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",
                    "dtype": "f8"
                  },
                  "y": {
                    "bdata": "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",
                    "dtype": "f8"
                  }
                },
                {
                  "marker": {
                    "color": "red",
                    "opacity": 0.7,
                    "size": 6
                  },
                  "mode": "markers",
                  "name": "Churn",
                  "showlegend": true,
                  "type": "scatter",
                  "x": {
                    "bdata": "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",
                    "dtype": "f8"
                  },
                  "y": {
                    "bdata": "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",
                    "dtype": "f8"
                  }
                }
              ],
              "layout": {
                "height": 600,
                "legend": {
                  "title": {
                    "text": "Churn"
                  }
                },
                "template": {
                  "data": {
                    "bar": [
                      {
                        "error_x": {
                          "color": "#2a3f5f"
                        },
                        "error_y": {
                          "color": "#2a3f5f"
                        },
                        "marker": {
                          "line": {
                            "color": "#E5ECF6",
                            "width": 0.5
                          },
                          "pattern": {
                            "fillmode": "overlay",
                            "size": 10,
                            "solidity": 0.2
                          }
                        },
                        "type": "bar"
                      }
                    ],
                    "barpolar": [
                      {
                        "marker": {
                          "line": {
                            "color": "#E5ECF6",
                            "width": 0.5
                          },
                          "pattern": {
                            "fillmode": "overlay",
                            "size": 10,
                            "solidity": 0.2
                          }
                        },
                        "type": "barpolar"
                      }
                    ],
                    "carpet": [
                      {
                        "aaxis": {
                          "endlinecolor": "#2a3f5f",
                          "gridcolor": "white",
                          "linecolor": "white",
                          "minorgridcolor": "white",
                          "startlinecolor": "#2a3f5f"
                        },
                        "baxis": {
                          "endlinecolor": "#2a3f5f",
                          "gridcolor": "white",
                          "linecolor": "white",
                          "minorgridcolor": "white",
                          "startlinecolor": "#2a3f5f"
                        },
                        "type": "carpet"
                      }
                    ],
                    "choropleth": [
                      {
                        "colorbar": {
                          "outlinewidth": 0,
                          "ticks": ""
                        },
                        "type": "choropleth"
                      }
                    ],
                    "contour": [
                      {
                        "colorbar": {
                          "outlinewidth": 0,
                          "ticks": ""
                        },
                        "colorscale": [
                          [
                            0,
                            "#0d0887"
                          ],
                          [
                            0.1111111111111111,
                            "#46039f"
                          ],
                          [
                            0.2222222222222222,
                            "#7201a8"
                          ],
                          [
                            0.3333333333333333,
                            "#9c179e"
                          ],
                          [
                            0.4444444444444444,
                            "#bd3786"
                          ],
                          [
                            0.5555555555555556,
                            "#d8576b"
                          ],
                          [
                            0.6666666666666666,
                            "#ed7953"
                          ],
                          [
                            0.7777777777777778,
                            "#fb9f3a"
                          ],
                          [
                            0.8888888888888888,
                            "#fdca26"
                          ],
                          [
                            1,
                            "#f0f921"
                          ]
                        ],
                        "type": "contour"
                      }
                    ],
                    "contourcarpet": [
                      {
                        "colorbar": {
                          "outlinewidth": 0,
                          "ticks": ""
                        },
                        "type": "contourcarpet"
                      }
                    ],
                    "heatmap": [
                      {
                        "colorbar": {
                          "outlinewidth": 0,
                          "ticks": ""
                        },
                        "colorscale": [
                          [
                            0,
                            "#0d0887"
                          ],
                          [
                            0.1111111111111111,
                            "#46039f"
                          ],
                          [
                            0.2222222222222222,
                            "#7201a8"
                          ],
                          [
                            0.3333333333333333,
                            "#9c179e"
                          ],
                          [
                            0.4444444444444444,
                            "#bd3786"
                          ],
                          [
                            0.5555555555555556,
                            "#d8576b"
                          ],
                          [
                            0.6666666666666666,
                            "#ed7953"
                          ],
                          [
                            0.7777777777777778,
                            "#fb9f3a"
                          ],
                          [
                            0.8888888888888888,
                            "#fdca26"
                          ],
                          [
                            1,
                            "#f0f921"
                          ]
                        ],
                        "type": "heatmap"
                      }
                    ],
                    "histogram": [
                      {
                        "marker": {
                          "pattern": {
                            "fillmode": "overlay",
                            "size": 10,
                            "solidity": 0.2
                          }
                        },
                        "type": "histogram"
                      }
                    ],
                    "histogram2d": [
                      {
                        "colorbar": {
                          "outlinewidth": 0,
                          "ticks": ""
                        },
                        "colorscale": [
                          [
                            0,
                            "#0d0887"
                          ],
                          [
                            0.1111111111111111,
                            "#46039f"
                          ],
                          [
                            0.2222222222222222,
                            "#7201a8"
                          ],
                          [
                            0.3333333333333333,
                            "#9c179e"
                          ],
                          [
                            0.4444444444444444,
                            "#bd3786"
                          ],
                          [
                            0.5555555555555556,
                            "#d8576b"
                          ],
                          [
                            0.6666666666666666,
                            "#ed7953"
                          ],
                          [
                            0.7777777777777778,
                            "#fb9f3a"
                          ],
                          [
                            0.8888888888888888,
                            "#fdca26"
                          ],
                          [
                            1,
                            "#f0f921"
                          ]
                        ],
                        "type": "histogram2d"
                      }
                    ],
                    "histogram2dcontour": [
                      {
                        "colorbar": {
                          "outlinewidth": 0,
                          "ticks": ""
                        },
                        "colorscale": [
                          [
                            0,
                            "#0d0887"
                          ],
                          [
                            0.1111111111111111,
                            "#46039f"
                          ],
                          [
                            0.2222222222222222,
                            "#7201a8"
                          ],
                          [
                            0.3333333333333333,
                            "#9c179e"
                          ],
                          [
                            0.4444444444444444,
                            "#bd3786"
                          ],
                          [
                            0.5555555555555556,
                            "#d8576b"
                          ],
                          [
                            0.6666666666666666,
                            "#ed7953"
                          ],
                          [
                            0.7777777777777778,
                            "#fb9f3a"
                          ],
                          [
                            0.8888888888888888,
                            "#fdca26"
                          ],
                          [
                            1,
                            "#f0f921"
                          ]
                        ],
                        "type": "histogram2dcontour"
                      }
                    ],
                    "mesh3d": [
                      {
                        "colorbar": {
                          "outlinewidth": 0,
                          "ticks": ""
                        },
                        "type": "mesh3d"
                      }
                    ],
                    "parcoords": [
                      {
                        "line": {
                          "colorbar": {
                            "outlinewidth": 0,
                            "ticks": ""
                          }
                        },
                        "type": "parcoords"
                      }
                    ],
                    "pie": [
                      {
                        "automargin": true,
                        "type": "pie"
                      }
                    ],
                    "scatter": [
                      {
                        "fillpattern": {
                          "fillmode": "overlay",
                          "size": 10,
                          "solidity": 0.2
                        },
                        "type": "scatter"
                      }
                    ],
                    "scatter3d": [
                      {
                        "line": {
                          "colorbar": {
                            "outlinewidth": 0,
                            "ticks": ""
                          }
                        },
                        "marker": {
                          "colorbar": {
                            "outlinewidth": 0,
                            "ticks": ""
                          }
                        },
                        "type": "scatter3d"
                      }
                    ],
                    "scattercarpet": [
                      {
                        "marker": {
                          "colorbar": {
                            "outlinewidth": 0,
                            "ticks": ""
                          }
                        },
                        "type": "scattercarpet"
                      }
                    ],
                    "scattergeo": [
                      {
                        "marker": {
                          "colorbar": {
                            "outlinewidth": 0,
                            "ticks": ""
                          }
                        },
                        "type": "scattergeo"
                      }
                    ],
                    "scattergl": [
                      {
                        "marker": {
                          "colorbar": {
                            "outlinewidth": 0,
                            "ticks": ""
                          }
                        },
                        "type": "scattergl"
                      }
                    ],
                    "scattermap": [
                      {
                        "marker": {
                          "colorbar": {
                            "outlinewidth": 0,
                            "ticks": ""
                          }
                        },
                        "type": "scattermap"
                      }
                    ],
                    "scattermapbox": [
                      {
                        "marker": {
                          "colorbar": {
                            "outlinewidth": 0,
                            "ticks": ""
                          }
                        },
                        "type": "scattermapbox"
                      }
                    ],
                    "scatterpolar": [
                      {
                        "marker": {
                          "colorbar": {
                            "outlinewidth": 0,
                            "ticks": ""
                          }
                        },
                        "type": "scatterpolar"
                      }
                    ],
                    "scatterpolargl": [
                      {
                        "marker": {
                          "colorbar": {
                            "outlinewidth": 0,
                            "ticks": ""
                          }
                        },
                        "type": "scatterpolargl"
                      }
                    ],
                    "scatterternary": [
                      {
                        "marker": {
                          "colorbar": {
                            "outlinewidth": 0,
                            "ticks": ""
                          }
                        },
                        "type": "scatterternary"
                      }
                    ],
                    "surface": [
                      {
                        "colorbar": {
                          "outlinewidth": 0,
                          "ticks": ""
                        },
                        "colorscale": [
                          [
                            0,
                            "#0d0887"
                          ],
                          [
                            0.1111111111111111,
                            "#46039f"
                          ],
                          [
                            0.2222222222222222,
                            "#7201a8"
                          ],
                          [
                            0.3333333333333333,
                            "#9c179e"
                          ],
                          [
                            0.4444444444444444,
                            "#bd3786"
                          ],
                          [
                            0.5555555555555556,
                            "#d8576b"
                          ],
                          [
                            0.6666666666666666,
                            "#ed7953"
                          ],
                          [
                            0.7777777777777778,
                            "#fb9f3a"
                          ],
                          [
                            0.8888888888888888,
                            "#fdca26"
                          ],
                          [
                            1,
                            "#f0f921"
                          ]
                        ],
                        "type": "surface"
                      }
                    ],
                    "table": [
                      {
                        "cells": {
                          "fill": {
                            "color": "#EBF0F8"
                          },
                          "line": {
                            "color": "white"
                          }
                        },
                        "header": {
                          "fill": {
                            "color": "#C8D4E3"
                          },
                          "line": {
                            "color": "white"
                          }
                        },
                        "type": "table"
                      }
                    ]
                  },
                  "layout": {
                    "annotationdefaults": {
                      "arrowcolor": "#2a3f5f",
                      "arrowhead": 0,
                      "arrowwidth": 1
                    },
                    "autotypenumbers": "strict",
                    "coloraxis": {
                      "colorbar": {
                        "outlinewidth": 0,
                        "ticks": ""
                      }
                    },
                    "colorscale": {
                      "diverging": [
                        [
                          0,
                          "#8e0152"
                        ],
                        [
                          0.1,
                          "#c51b7d"
                        ],
                        [
                          0.2,
                          "#de77ae"
                        ],
                        [
                          0.3,
                          "#f1b6da"
                        ],
                        [
                          0.4,
                          "#fde0ef"
                        ],
                        [
                          0.5,
                          "#f7f7f7"
                        ],
                        [
                          0.6,
                          "#e6f5d0"
                        ],
                        [
                          0.7,
                          "#b8e186"
                        ],
                        [
                          0.8,
                          "#7fbc41"
                        ],
                        [
                          0.9,
                          "#4d9221"
                        ],
                        [
                          1,
                          "#276419"
                        ]
                      ],
                      "sequential": [
                        [
                          0,
                          "#0d0887"
                        ],
                        [
                          0.1111111111111111,
                          "#46039f"
                        ],
                        [
                          0.2222222222222222,
                          "#7201a8"
                        ],
                        [
                          0.3333333333333333,
                          "#9c179e"
                        ],
                        [
                          0.4444444444444444,
                          "#bd3786"
                        ],
                        [
                          0.5555555555555556,
                          "#d8576b"
                        ],
                        [
                          0.6666666666666666,
                          "#ed7953"
                        ],
                        [
                          0.7777777777777778,
                          "#fb9f3a"
                        ],
                        [
                          0.8888888888888888,
                          "#fdca26"
                        ],
                        [
                          1,
                          "#f0f921"
                        ]
                      ],
                      "sequentialminus": [
                        [
                          0,
                          "#0d0887"
                        ],
                        [
                          0.1111111111111111,
                          "#46039f"
                        ],
                        [
                          0.2222222222222222,
                          "#7201a8"
                        ],
                        [
                          0.3333333333333333,
                          "#9c179e"
                        ],
                        [
                          0.4444444444444444,
                          "#bd3786"
                        ],
                        [
                          0.5555555555555556,
                          "#d8576b"
                        ],
                        [
                          0.6666666666666666,
                          "#ed7953"
                        ],
                        [
                          0.7777777777777778,
                          "#fb9f3a"
                        ],
                        [
                          0.8888888888888888,
                          "#fdca26"
                        ],
                        [
                          1,
                          "#f0f921"
                        ]
                      ]
                    },
                    "colorway": [
                      "#636efa",
                      "#EF553B",
                      "#00cc96",
                      "#ab63fa",
                      "#FFA15A",
                      "#19d3f3",
                      "#FF6692",
                      "#B6E880",
                      "#FF97FF",
                      "#FECB52"
                    ],
                    "font": {
                      "color": "#2a3f5f"
                    },
                    "geo": {
                      "bgcolor": "white",
                      "lakecolor": "white",
                      "landcolor": "#E5ECF6",
                      "showlakes": true,
                      "showland": true,
                      "subunitcolor": "white"
                    },
                    "hoverlabel": {
                      "align": "left"
                    },
                    "hovermode": "closest",
                    "mapbox": {
                      "style": "light"
                    },
                    "paper_bgcolor": "white",
                    "plot_bgcolor": "#E5ECF6",
                    "polar": {
                      "angularaxis": {
                        "gridcolor": "white",
                        "linecolor": "white",
                        "ticks": ""
                      },
                      "bgcolor": "#E5ECF6",
                      "radialaxis": {
                        "gridcolor": "white",
                        "linecolor": "white",
                        "ticks": ""
                      }
                    },
                    "scene": {
                      "xaxis": {
                        "backgroundcolor": "#E5ECF6",
                        "gridcolor": "white",
                        "gridwidth": 2,
                        "linecolor": "white",
                        "showbackground": true,
                        "ticks": "",
                        "zerolinecolor": "white"
                      },
                      "yaxis": {
                        "backgroundcolor": "#E5ECF6",
                        "gridcolor": "white",
                        "gridwidth": 2,
                        "linecolor": "white",
                        "showbackground": true,
                        "ticks": "",
                        "zerolinecolor": "white"
                      },
                      "zaxis": {
                        "backgroundcolor": "#E5ECF6",
                        "gridcolor": "white",
                        "gridwidth": 2,
                        "linecolor": "white",
                        "showbackground": true,
                        "ticks": "",
                        "zerolinecolor": "white"
                      }
                    },
                    "shapedefaults": {
                      "line": {
                        "color": "#2a3f5f"
                      }
                    },
                    "ternary": {
                      "aaxis": {
                        "gridcolor": "white",
                        "linecolor": "white",
                        "ticks": ""
                      },
                      "baxis": {
                        "gridcolor": "white",
                        "linecolor": "white",
                        "ticks": ""
                      },
                      "bgcolor": "#E5ECF6",
                      "caxis": {
                        "gridcolor": "white",
                        "linecolor": "white",
                        "ticks": ""
                      }
                    },
                    "title": {
                      "x": 0.05
                    },
                    "xaxis": {
                      "automargin": true,
                      "gridcolor": "white",
                      "linecolor": "white",
                      "ticks": "",
                      "title": {
                        "standoff": 15
                      },
                      "zerolinecolor": "white",
                      "zerolinewidth": 2
                    },
                    "yaxis": {
                      "automargin": true,
                      "gridcolor": "white",
                      "linecolor": "white",
                      "ticks": "",
                      "title": {
                        "standoff": 15
                      },
                      "zerolinecolor": "white",
                      "zerolinewidth": 2
                    }
                  }
                },
                "title": {
                  "text": "로지스틱 회귀 결정 경계"
                },
                "width": 800,
                "xaxis": {
                  "title": {
                    "text": "첫 번째 주성분 (PCA 1)"
                  }
                },
                "yaxis": {
                  "title": {
                    "text": "두 번째 주성분 (PCA 2)"
                  }
                }
              }
            }
          },
          "metadata": {},
          "output_type": "display_data"
        }
      ],
      "source": [
        "# 로지스틱 회귀 결정 경계 시각화\n",
        "plot_decision_boundary(lr_pipeline, X_train, y_train, \"로지스틱 회귀 결정 경계\")"
      ]
    },
    {
      "cell_type": "code",
      "execution_count": 35,
      "metadata": {},
      "outputs": [
        {
          "data": {
            "application/vnd.plotly.v1+json": {
              "config": {
                "plotlyServerURL": "https://plot.ly"
              },
              "data": [
                {
                  "colorscale": [
                    [
                      0,
                      "lightcoral"
                    ],
                    [
                      1,
                      "lightskyblue"
                    ]
                  ],
                  "opacity": 0.5,
                  "showscale": false,
                  "type": "contour",
                  "x": {
                    "bdata": "OLBCBVPzEcDSSdye7IwRwGzjdTiGJhHABn0P0h/AEMCgFqlruVkQwHRghQqm5g/AqJO4PdkZD8DcxutwDE0OwBD6HqQ/gA3ARC1S13KzDMB4YIUKpuYLwKyTuD3ZGQvA4MbrcAxNCsAU+h6kP4AJwEgtUtdyswjAfGCFCqbmB8Cwk7g92RkHwOTG63AMTQbAGPoepD+ABcBMLVLXcrMEwIBghQqm5gPAtJO4PdkZA8DoxutwDE0CwBz6HqQ/gAHAUC1S13KzAMAIwQoVTM3/v3AncXuyM/6/2I3X4Ria/L9A9D1IfwD7v6hapK7lZvm/EMEKFUzN9794J3F7sjP2v+CN1+EYmvS/SPQ9SH8A87+wWqSu5WbxvzCCFSqYmu+/AE/i9mRn7L/QG6/DMTTpv6Doe5D+AOa/cLVIXcvN4r+ABCtUMDXfvyCexO3Jzti/wDdeh2No0r/Aou9B+gPIvwCsRepabra/AGyfevVZiT8Ah+1I2MS8P0CQQ/E4L8s/gC4I3wL+0z/glG5FaWTaP6B96tVnZeA/0LAdCZuY4z8A5FA8zsvmPzAXhG8B/+k/YEq3ojQy7T/IPvXqszLwP2DYjoRNzPE/+HEoHudl8z+QC8K3gP/0PyilW1EamfY/wD716rMy+D9Y2I6ETcz5P/BxKB7nZfs/iAvCt4D//D8gpVtRGpn+P1yfevVZGQBAKGxHwibmAED0OBSP87IBQMAF4VvAfwJAjNKtKI1MA0BYn3r1WRkEQCRsR8Im5gRA8DgUj/OyBUC8BeFbwH8GQIjSrSiNTAdAVJ969VkZCEAgbEfCJuYIQOw4FI/zsglAuAXhW8B/CkCE0q0ojUwLQFCfevVZGQxAHGxHwibmDEDoOBSP87INQLQF4VvAfw5AgNKtKI1MD0CmT736rAwQQAy2I2ETcxBAchyKx3nZEEDYgvAt4D8RQD7pVpRGphFApE+9+qwMEkAKtiNhE3MSQHAcisd52RJA1oLwLeA/E0A86VaURqYTQKJPvfqsDBRA",
                    "dtype": "f8"
                  },
                  "y": {
                    "bdata": "uyESOtSMD8DuVEVtB8AOwCGIeKA68w3AVLur020mDcCH7t4GoVkMwLohEjrUjAvA7VRFbQfACsAgiHigOvMJwFO7q9NtJgnAhu7eBqFZCMC5IRI61IwHwOxURW0HwAbAH4h4oDrzBcBSu6vTbSYFwIXu3gahWQTAuCESOtSMA8DrVEVtB8ACwB6IeKA68wHAUbur020mAcCE7t4GoVkAwG5DJHSoGf+/1KmK2g6A/b86EPFAdeb7v6B2V6fbTPq/Bt29DUKz+L9sQyR0qBn3v9KpitoOgPW/OBDxQHXm87+edlen20zyvwTdvQ1Cs/C/1IZI6FAz7r+gUxW1HQDrv2wg4oHqzOe/OO2uTreZ5L8EunsbhGbhv6ANkdChZty/OKcqajsA1r+ggYgHqjPPv9C0uzrdZsK/AKC7t0Fopr9Ak3d78cqsP5CxqiuJ/8M/OL87/Cpm0D+oJaJikczWPwiMCMn3Mt0/NHm3F6/M4T9srOpK4v/kP6TfHX4VM+g/1BJRsUhm6z8ERoTke5nuP56824tX5vA/OlZ1JfF/8j/S7w6/ihn0P2qJqFgks/U/BiNC8r1M9z+ivNuLV+b4PzpWdSXxf/o/0u8Ov4oZ/D9uiahYJLP9PwojQvK9TP8/Ud7txStzAEAdq7qS+D8BQOt3h1/FDAJAuURULJLZAkCFESH5XqYDQFHe7cUrcwRAH6u6kvg/BUDtd4dfxQwGQLlEVCyS2QZAhREh+V6mB0BT3u3FK3MIQCGrupL4PwlA7XeHX8UMCkC5RFQsktkKQIcRIflepgtAVd7txStzDEAhq7qS+D8NQO13h1/FDA5Au0RULJLZDkCJESH5XqYPQCrv9uKVORBA",
                    "dtype": "f8"
                  },
                  "z": {
                    "bdata": "AAAAAAAAAAABAQEBAQEBAQEBAQEBAQEBAQEBAQEBAQEBAQEBAQEBAQEBAQEBAQEBAQEBAQEBAQEBAQEBAQEBAQEBAQEBAQEBAQEBAQEBAQEBAQEBAQEBAQEBAQEBAQEBAAAAAAAAAAAAAQEBAQEBAQEBAQEBAQEBAQEBAQEBAQEBAQEBAQEBAQEBAQEBAQEBAQEBAQEBAQEBAQEBAQEBAQEBAQEBAQEBAQEBAQEBAQEBAQEBAQEBAQEBAQEBAQEBAAAAAAAAAAAAAAEBAQEBAQEBAQEBAQEBAQEBAQEBAQEBAQEBAQEBAQEBAQEBAQEBAQEBAQEBAQEBAQEBAQEBAQEBAQEBAQEBAQEBAQEBAQEBAQEBAQEBAQEBAQEBAQEBAAAAAAAAAAAAAAABAQEBAQEBAQEBAQEBAQEBAQEBAQEBAQEBAQEBAQEBAQEBAQEBAQEBAQEBAQEBAQEBAQEBAQEBAQEBAQEBAQEBAQEBAQEBAQEBAQEBAQEBAQEBAQEBAAAAAAAAAAAAAAAAAAEBAQEBAQEBAQEBAQEBAQEBAQEBAQEBAQEBAQEBAQEBAQEBAQEBAQEBAQEBAQEBAQEBAQEBAQEBAQEBAQEBAQEBAQEBAQEBAQEBAQEBAQEBAQEBAAAAAAAAAAAAAAAAAAABAQEBAQEBAQEBAQEBAQEBAQEBAQEBAQEBAQEBAQEBAQEBAQEBAQEBAQEBAQEBAQEBAQEBAQEBAQEBAQEBAQEBAQEBAQEBAQEBAQEBAQEBAQEBAAAAAAAAAAAAAAAAAAAAAQEBAQEBAQEBAQEBAQEBAQEBAAEBAQEBAQEBAQEBAQEBAQEBAQEBAQEBAQEBAQEBAQEBAQEBAQEBAQEBAQEBAQEBAQEBAQEBAQEBAQEBAQEBAAAAAAAAAAAAAAAAAAAAAAEBAQEBAQEBAQEBAQEBAQEBAQEBAQEBAQEBAQEBAQEBAQEBAQEBAQEBAQEBAQEBAQEBAQEBAQEBAQEBAQEBAQEBAQEBAQEBAQEBAQEBAQEBAAAAAAAAAAAAAAAAAAAAAAABAQEBAQEBAQEBAQEBAQEBAQABAQEBAQEBAQEBAQEBAQEBAQEBAQEBAQEBAQEBAQEBAQEBAQEBAQEBAQEBAQEBAQEBAQEBAQEBAQEBAQEBAAAAAAAAAAAAAAAAAAAAAAAAAQEBAQEBAQEBAQEBAQEBAQEAAQEBAQEBAQEBAQEBAQEBAQEBAQEBAQEBAQEBAQEBAQEBAQEBAQEBAQEBAQEBAQEBAQEBAQEBAQEBAQEBAAAAAAAAAAAAAAAAAAAAAAAAAAEBAQEBAQEBAQEBAQEBAQEBAQEBAQEBAQEBAQEBAQEBAQEBAQEBAQEBAQEBAQEBAQEBAQEBAQEBAQEBAQEBAQEBAQEBAQEBAQEBAQEBAAAAAAAAAAAAAAAAAAAAAAAAAAABAQEBAQEBAQEBAQEBAQEBAQEBAQEBAQEBAQEBAQEBAQEBAQEBAQEBAQEBAQEBAQEBAQEBAQEBAQEBAQEBAQEBAQEBAQEBAQEBAQEBAAAAAAAAAAAAAAAAAAAAAAAAAAAAAQEBAQEBAQEBAQEBAQEBAQEBAQEBAQEBAQEBAQEBAQEBAQEBAQEBAQEBAQEBAQEBAQEBAQEBAQEBAQEBAQEBAQEBAQEBAQEBAQEBAAAAAAAAAAAAAAAAAAAAAAAAAAAAAAEBAQEBAQEBAQEBAQEBAQEBAQEBAQEBAQEBAQEBAQEBAQEBAQEBAQEBAQEBAQEBAQEBAQEBAQEBAQEBAQEBAQEBAQEBAQEBAQEBAAAAAAAAAAAAAAAAAAAAAAAAAAAAAAEBAQEBAQEBAQEBAQEBAQEBAQEAAAEBAQEBAQEBAQEBAQEBAQEBAQEBAQEBAQEBAQEBAQEBAQEBAQEBAQEBAQEBAQEBAQEBAQAAAAAAAAAAAAAAAAAAAAAAAAAAAAAAAAAAAQEBAQEBAQEBAQEBAQEAAQEBAQEBAQEAAAEBAQEBAQEBAQEBAQEBAQEBAQEBAQEBAQEBAQEBAQEBAQEBAQEBAQEBAQEBAAAAAAAAAAAAAAAAAAAAAAAAAAAAAAAAAAAAAAEBAQEBAQEBAQEBAQEBAQEBAQEBAQEBAQABAQEBAQEBAQEBAQEBAQEBAQEBAQEBAQEBAQEBAQEBAQEBAQEBAQEBAQEAAAAAAAAAAAAAAAAAAAAAAAAAAAAAAAAAAAAAAAABAQEBAQEBAQEBAQEBAQEBAQEBAQEBAQEBAQEBAQEBAQEBAQEBAQEBAQEBAQEBAQEBAQEBAQEBAQEBAQEBAQEBAQAAAAAAAAAAAAAAAAAAAAAAAAAAAAAAAAAAAAAAAAAAAQEBAQEBAQEBAQEBAQEBAQEBAQEBAQEBAAEBAQEBAQEBAQEBAQEBAQEBAQEBAQEBAQEBAQEBAQEBAQEBAQEBAAAAAAAAAAAAAAAAAAAAAAAAAAAAAAAAAAAAAAAAAAABAAABAQEBAQEBAQABAQEBAQAAAQEBAQEAAAABAQEBAQEBAQEBAQEBAQEBAQEBAQEBAQEBAQEBAQEBAQEBAQEBAAAAAAAAAAAAAAAAAAAAAAAAAAAAAAAAAAAAAAAAAAAAAAABAQEBAQEBAAAAAAEBAAEAAAEBAQEBAAABAQEBAQEBAQEBAQEBAQEBAQEBAQEBAQEBAQEBAQEBAQEBAQEAAAAAAAAAAAAAAAAAAAAAAAAAAAAAAAAAAAAAAAAAAAAAAQEAAAABAQEBAQAAAAEAAQEBAQEBAQEBAQEBAQEBAQEBAQEBAQEBAQEBAQEBAQEBAQEBAQEBAQEBAQEBAQAAAAAAAAAAAAAAAAAAAAAAAAAAAAAAAAAAAAAAAAAAAAAAAQAAAAAAAQEAAQEAAQEBAQEBAAEBAQEBAQEBAAABAQEBAQEBAQEBAQEBAQEBAQEBAQEBAQEBAQEBAQEBAQAAAAAAAAAAAQAAAAAAAAAAAAAAAAAAAAAAAAAAAAAAAAAAAAAAAAAAAQAAAAEAAAAAAQABAQEAAQEBAQEBAQAAAQEBAQEBAQEBAQEBAQEBAQEBAQEBAQEBAQEBAQEBAAAAAAAAAAAAAQEAAAAAAAAAAAAAAAAAAAAAAAAAAAAAAAAAAAAAAAAAAQAAAAAAAAEAAAABAQEBAQEBAQEBAAAAAAABAQEBAQEBAQEBAQEBAQEBAQEBAQEBAQEBAQEAAAAAAAAAAAAAAQEAAAAAAAAAAAAAAAAAAAAAAAAAAAAAAAAAAAABAAAAAAAAAAAAAAEAAAABAQEBAAEAAQEBAQAAAQEBAQEBAQEBAQEBAQEBAQEBAQEBAQEBAQEBAQAAAAAAAAAAAAAAAQEBAAAAAAAAAAAAAAAAAAAAAAAAAAAAAAAAAAAAAAAAAAAAAAAAAAEBAAEAAQAAAAAAAQEBAQEBAQEBAQEBAQEBAQEBAQEBAQEBAQEBAQEBAQEBAAAAAAAAAAAAAAAAAAEBAAAAAAAAAAAAAAAAAAAAAAAAAAAAAAAAAAAAAAAAAAAAAAAAAAEBAAABAAABAAEBAAABAQEBAAEBAAEBAQEBAQEBAQEBAQEBAQEBAQEBAQEAAAAAAAAAAAAAAAAAAAABAQAAAAAAAAAAAAAAAAAAAAAAAAAAAAAAAAAAAAAAAAAAAAAAAAEBAAAAAAABAAEBAQEBAQABAAAAAQEAAQEAAQABAQEBAQEBAQEBAQEBAQAAAAAAAAAAAAAAAAAAAAAAAQAAAAAAAAAAAAAAAAAAAAAAAAAAAAAAAAAAAAAAAAAAAAAAAAAAAAAAAAAAAQEAAAAAAQEAAAAAAAAAAAAAAAABAQEBAQEBAQEBAQEAAAAAAAAAAAAAAAAAAAAAAQEAAAEAAAAAAAAAAAAAAAAAAAAAAAAAAAAAAAAAAAAAAAAAAAAAAAAAAAAAAAAAAQAAAAEBAAEAAAAAAQEAAAAAAAEBAQEBAQEBAQEBAQAAAAAAAAAAAAAAAAAAAAAAAAEBAAABAAAAAAAAAAAAAAAAAAAAAAAAAAAAAAAAAAAAAAAAAAAAAAAAAAAAAAAAAAAAAAABAAEAAAAAAQEBAAAAAAEBAQEBAQEBAQEBAAAAAAAAAAAAAAAAAAAAAAAAAAABAQAAAAAAAAAAAAAAAAAAAAAAAAAAAAAAAAAAAAAAAAAAAAAAAAAAAAAAAAAAAAAAAAAAAAABAAAAAQEAAAEAAAEBAQEBAQEBAQAAAAAAAAAAAAAAAAAAAAAAAAAAAAAAAQEAAAAAAAAAAAAAAAAAAAAAAAABAAAAAAAAAAAAAAAAAAAAAAAAAAAAAAAAAAAAAAAAAAAAAAAAAAAAAAEAAAAAAQEBAQEBAAAAAAAAAAAAAAAAAAAAAAAAAAAAAAAAAAABAAAAAAAAAAAAAAAAAAAAAAAAAAAAAAAAAAAAAAAAAAAAAAAAAAAAAAAAAAAAAAAAAAAAAAAAAAABAQEAAAAAAAABAQAAAAAAAAAAAAAAAAAAAAAAAAAAAAAAAAAAAAAAAQAAAAAAAAAAAAAAAAAAAAAAAQAAAAAAAAAAAAAAAAAAAAAAAAAAAAAAAAAAAAAAAAAAAQAAAAEBAQEBAQAAAAAAAAAAAAAAAAAAAAAAAAAAAAAAAAAAAAAAAAAAAAAAAAEBAAAAAAAAAAAAAAAAAAAAAAAAAAAAAAAAAAAAAAAAAAAAAAAAAAAAAAAAAAAAAAAAAAAAAAABAQEBAAAAAAAAAQEAAAAAAAAAAAAAAAAAAAAAAAAAAAAAAAAAAAAAAAABAAAAAAAAAAAAAAAAAAAAAAAAAAAAAAAAAAAAAAAAAAAAAAAAAAAAAAAAAAAAAAAAAAAAAAAAAAEBAAAAAAABAQEAAAAAAAAAAAAAAAAAAAAAAAAAAAAAAAAAAAAAAAAAAQAAAAAAAAAAAAAAAAAAAAAAAAAAAAAAAAAAAAAAAAAAAAAAAAAAAAAAAAAAAAAAAAAAAAAAAAAAAAAAAAAAAQAAAAAAAAAAAAAAAAAAAAAAAAAAAAAAAAAAAAAAAAAAAAABAAAAAAAAAAAAAAAAAAAAAAAAAAAAAAAAAAAAAAAAAAAAAAAAAAAAAAAAAAAAAAAAAAAAAAAAAAAAAAAAAAAAAAAAAAAAAAAAAAAAAAAAAAAAAAAAAAAAAAAAAAAAAAABAAAAAAAAAAAAAAAAAAAAAAAAAAAAAAAAAAAAAAAAAAAAAAAAAAAAAAAAAAAAAAAAAAAAAAAAAAAAAAAAAAAAAAAAAAAAAAAAAAAAAAAAAAAAAAAAAAAAAAAAAAAAAAAAAAAAAAAAAAAAAAAAAAAAAAAAAAAAAAAAAAAAAAAAAAAAAAAAAAAAAAAAAAAAAAAAAAAAAAAAAAAAAAABAQAAAAAAAAAAAAAAAAAAAAAAAAAAAAAAAAAAAAAAAAAAAAAAAAAAAAAAAAAAAAAAAAAAAAAAAAAAAAAAAAAAAAAAAAAAAAAAAAAAAAAAAAAAAAAAAAAAAAAAAAAAAAAAAAAAAAAAAAAAAAAAAAAAAAAAAAAAAAAAAAAAAAAAAAAAAAAAAAAAAAAAAAAAAAAAAAAAAAAAAAAAAAAAAAAAAAAAAAAAAAAAAAAAAAAAAAAAAAAAAAAAAAAAAAABAAAAAAAAAAAAAAAAAAAAAAAAAAAAAAAAAAAAAAAAAAAAAAAAAAAAAAAAAAAAAAAAAAAAAAAAAAAAAAAAAAAAAAAAAAAAAAAAAAAAAAAAAAAAAAAAAAAAAAAAAAAAAAAAAAAAAAAAAAAAAAAAAAAAAAAAAAAAAAAAAAAAAAAAAAAAAAAAAAAAAAAAAAAAAAAAAAAAAAAAAAAAAAAAAAAAAAAAAAAAAAAAAAAAAAAAAAAAAAAAAAAAAAAAAAAAAAAAAAAAAAABAAAAAAAAAAAAAAAAAAAAAAAAAAAAAAAAAAAAAAAAAAAAAAAAAAAAAAAAAAAAAAAAAAAAAAAAAAAAAAAAAAAAAAAAAAAAAAAAAAAAAAAAAAAAAAAAAAAAAAAAAAEBAAAAAQAAAAAAAAAAAAAAAAAAAAAAAAAAAAAAAAAAAAAAAAAAAAAAAAAAAAAAAAAAAAAAAAAAAAAAAAAAAAAAAAAAAAAAAAAAAAAAAAAAAAAAAAAAAAAAAAAAAAAAAAEAAAAAAAAAAAAAAAAAAAAAAAAAAAAAAAAAAAAAAAAAAAAAAAAAAAAAAAAAAAAAAAAAAAAAAAAAAAAAAAAAAAAAAAAAAAAAAAAAAAAAAAAAAAAAAAAAAAAAAAAAAAAAAAAAAAAAAAAAAAAAAAAAAAAAAAAAAAAAAAAAAAAAAAAAAAAAAAAAAAAAAAAAAAAAAAAAAAAAAAAAAAAAAAAAAAAAAAAAAAAAAAAAAAAAAAAAAAAAAAAAAAAAAAAAAAAAAAAAAAAAAAAAAAAAAAAAAAAAAAAAAAAAAAAAAAAAAAAAAAAAAAAAAAAAAAAAAAAAAAAAAAAAAAAAAAAAAAAAAAAAAAAAAAAAAAAAAAAAAAAAAAAAAAAAAAAAAAAAAAAAAAAAAAAAAQAAAAAAAAAAAAAAAAAAAAAAAAAAAAAAAAAAAAAAAAAAAAAAAAAAAAAAAAAAAAAAAAAAAAAAAAAAAAAAAAAAAAAAAAAAAAAAAAAAAAAAAAAAAAAAAAAAAAAAAAAAAAAAAAAAAAAAAAAAAAAAAAAAAAAAAAAAAAAAAAAAAAAAAAAAAAAAAAAAAAAAAAAAAAAAAAAAAAAAAAAAAAAAAAAAAAAAAAAAAAAAAAAAAAAAAAAAAAAAAAAAAAAAAAAAAAAAAAAAAAAAAAAAAAAAAAAAAAAAAAAAAAAAAAAAAAAAAAAAAAAAAAAAAAAAAAAAAAAAAAAAAAAAAAAAAAAAAAAAAAAAAAAAAAAAAAAAAAAAAAAAAAAAAAAAAAAAAAAAAAAAAAAAAAAAAAAAAAAAAAAAAAAAAAAAAAAAAAAAAAAAAAAAAAAAAAAAAAAAAAAAAAAAAAAAAAAAAAAAAAAAAAAAAAAAAAAAAAAAAAAAAAAAAAAAAAAAAAAAAAAAAAAAAAAAAAAAAAAAAAAAAAAAAAAAAAAAAAAAAAAAAAAAAAAAAAAAAAAAAAAAAAAAAAAAAAAAAAAAAAAAAAAAAAAAAAAAAAAAAAAAAAAAAAAAAAAAAAAAAAAAAAAAAAAAAAAAAAAAAAAAAAAAAAAAAAAAAAAAAAAAAAAAAAAAAAAAAAAAAAAAAAAAAAAAAAAAAAAAAAAAAAAAAAAAAAAAAAAAAAAAAAAAAAAAAAAAAAAAAAAAAAAAAAAAAAAAAAAAAAAAAAAAAAAAAAAAAAAAAAAAAAAAAAAAAAAAAAAAAAAAAAAAAAAAAAAAAAAAAAAAAAAAAAAAAAAAAAAAAAAAAAAAAAAAAAAAAAAAAAAAAAAAAAAAAAAAAAAAAAAAAAAAAAAAAAAAAAAAAAAAAAAAAAAAAAAAAAAAAAAAAAAAAAAAAAAAAAAAAAAAAAAAAAAAAAAAAAAAAAAAAAAAAAAAAAAAAAAAAAAAAAAAAAAAAAAAAAAAAAAAAAAAAAAAAAAAAAAAAAAAAAAAAAAAAAAAAAAAAAAAAAAAAAAAAAAAAAAAAAAAAAAAAAAAAAAAAAAAAAAAAAAAAAAAAAAAAAAAAAAAAAAAAAAAAAAAAAAAAAAAAAAAAAAAAAAAAAAAAAAAAAAAAAAAAAAAAAAAAAAAAAAAAAAAAAAAAAAAAAAAAAAAAAAAAAAAAAAAAAAAAAAAAAAAAAAAAAAAAAAAAAAAAAAAAAAAAAAAAAAAAAAAAAAAAAAAAAAAAAAAAAAAAAAAAAAAAAAAAAAAAAAAAAAAAAAAAAAAAAAAAAAAAAAAAAAAAAAAAAAAAAAAAAAAAAAAAAAAAAAAAAAAAAAAAAAAAAAAAAAAAAAAAAAAAAAAAAAAAAAAAAAAAAAAAAAAAAAAAAAAAAAAAAAAAAAAAAAAAAAAAAAAAAAAAAAAAAAAAAAAAAAAAAAAAAAAAAAAAAAAAAAAAAAAAAAAAAAAAAAAAAAAAAAAAAAAAAAAAAAAAAAAAAAAAAAAAAAAAAAAAAAAAAAAAAAAAAAAAAAAAAAAAAAAAAAAAAAAAAAAAAAAAAAAAAAAAAAAAAAAAAAAAAAAAAAAAAAAAAAAAAAAAAAAAAAAAAAAAAAAAAAAAAAAAAAAAAAAAAAAAAAAAAAAAAAAAAAAAAAAAAAAAAAAAAAAAAAAAAAAAAAAAAAAAAAAAAAAAAAAAAAAAAAAAAAAAAAAAAAAAAAAAAAAAAAAAAAAAAAAAAAAAAAAAAAAAAAAAAAAAAAAAAAAAAAAAAAAAAAAAAAAAAAAAAAAAAAAAAAAAAAAAAAAAAAAAAAAAAAAAAAAAAAAAAAAAAAAAAAAAAAAAAAAAAAAAAAAAAAAAAAAAAAAAAAAAAAAAAAAAAAAAAAAAAAAAAAAAAAAAAAAAAAAAAAAAAAAAAAAAAAAAAAAAAAAAAAAAAAAAAAAAAAAAAAAAAAAAAAAAAAAAAAAAAAAAAAAAAAAAAAAAAAAAAAAAAAAAAAAAAAAAAAAAAAAAAAAAAAAAAAAAAAAAAAAAAAAAAAAAAAAAAAAAAAAAAAAAAAAAAAAAAAAAAAAAAAAAAAAAAAAAAAAAAAAAAAAAAAAAAAAAAAAAAAAAAAAAAAAAAAAAAAAAAAAAAAAAAAAAAAAAAAAAAAAAAAAAAAAAAAAAAAAAAAAAAAAAAAAAAAAAAAAAAAAAAAAAAAAAAAAAAAAAAAAAAAAAAAAAAAAAAAAAAAAAAAAAAAAAAAAAAAAAAAAAAAAAAAAAAAAAAAAAAAAAAAAAAAAAAAAAAAAAAAAAAAAAAAAAAAAAAAAAAAAAAAAAAAAAAAAAAAAAAAAAAAAAAAAAAAAAAAAAAAAAAAAAAAAAAAAAAAAAAAAAAAAAAAAAAAAAAAAAAAAAAAAAAAAAAAAAAAAAAAAAAAAAAAAAAAAAAAAAAAAAAAAAAAAAAAAAAAAAAAAAAAAAAAAAAAAAAAAAAAAAAAAAAAAAAAAAAAAAAAAAAAAAAAAAAAAAAAAAAAAAAAAAAAAAAAAAAAAAAAAAAAAAAAAAAAAAAAAAAAAAAAAAAAAAAAAAAAAAAAAAAAAAAAAAAAAAAAAAAAAAAAAAAAAAAAAAAAAAAAAAAAAAAAAAAAAAAAAAAAAAAAAAAAAAAAAAAAAAAAAAAAAAAAAAAAAAAAAAAAAAAAAAAAAAAAAAAAAAAAAAAAAAAAAAAAAAAAAAAAAAAAAAAAAAAAAAAAAAAAAAAAAAAAAAAAAAAAAAAAAAAAAAAAAAAAAAAAAAAAAAAAAAAAAAAAAAAAAAAAAAAAAAAAAAAAAAAAAAAAAAAAAAAAAAAAAAAAAAAAAAAAAAAAAAAAAAAAAAAAAAAAAAAAAAAAAAAAAAAAAAAAAAAAAAAAAAAAAAAAAAAAAAAAAAAAAAAAAAAAAAAAAAAAAAAAAAAAAAAAAAAAAAAAAAAAAAAAAAAAAAAAAAAAAAAAAAAAAAAAAAAAAAAAAAAAAAAAAAAAAAAAAAAAAAAAAAAAAAAAAAAAAAAAAAAAAAAAAAAAAAAAAAAAAAAAAAAAAAAAAAAAAAAAAAAAAAAAAAAAAAAAAAAAAAAAAAAAAAAAAAAAAAAAAAAAAAAAAAAAAAAAAAAAAAAAAAAAAAAAAAAAAAAAAAAAAAAAAAAAAAAAAAAAAAAAAAAAAAAAAAAAAAAAAAAAAAAAAAAAAAAAAAAAAAAAAAAAAAAAAAAAAAAAAAAAAAAAAAAAAAAAAAAAAAAAAAAAAAAAAAAAAAAAAAAAAAAAAAAAAAAAAAAAAAAAAAAAAAAAAAAAAAAAAAAAAAAAAAAAAAAAAAAAAAAAAAAAAAAAAAAAAAAAAAAAAAAAAAAAAAAAAAAAAAAAAAAAAAAAAAAAAAAAAAAAAAAAAAAAAAAAAAAAAAAAAAAAAAAAAAAAAAAAAAAAAAAAAAAAAAAAAAAAAAAAAAAAAAAAAAAAAAAAAAAAAAAAAAAAAAAAAAAAAAAAAAAAAAAAAAAAAAAAAAAAAAAAAAAAAAAAAAAAAAAAAAAAAAAAAAAAAAAAAAAAAAAAAAAAAAAAAAAAAAAAAAAAAAAAAAAAAAAAAAAAAAAAAAAAAAAAAAAAAAAAAAAAAAAAAAAAAAAAAAAAAAAAAAAAAAAAAAAAAAAAAAAAAAAAAAAAAAAAAAAAAAAAAAAAAAAAAAAAAAAAAAAAAAAAAAAAAAAAAAAAAAAAAAAAAAAAAAAAAAAAAAAAAAAAAAAAAAAAAAAAAAAAAAAAAAAAAAAAAAAAAAAAAAAAAAAAAAAAAAAAAAAAAAAAAAAAAAAAAAAAAAAAAAAAAAAAAAAAAAAAAAAAAAAAAAAAAAAAAAAAAAAAAAAAAAAAAAAAAAAAA",
                    "dtype": "i1",
                    "shape": "81, 96"
                  }
                },
                {
                  "marker": {
                    "color": "blue",
                    "opacity": 0.7,
                    "size": 6
                  },
                  "mode": "markers",
                  "name": "No Churn",
                  "showlegend": true,
                  "type": "scatter",
                  "x": {
                    "bdata": "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",
                    "dtype": "f8"
                  },
                  "y": {
                    "bdata": "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",
                    "dtype": "f8"
                  }
                },
                {
                  "marker": {
                    "color": "red",
                    "opacity": 0.7,
                    "size": 6
                  },
                  "mode": "markers",
                  "name": "Churn",
                  "showlegend": true,
                  "type": "scatter",
                  "x": {
                    "bdata": "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",
                    "dtype": "f8"
                  },
                  "y": {
                    "bdata": "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",
                    "dtype": "f8"
                  }
                }
              ],
              "layout": {
                "height": 600,
                "legend": {
                  "title": {
                    "text": "Churn"
                  }
                },
                "template": {
                  "data": {
                    "bar": [
                      {
                        "error_x": {
                          "color": "#2a3f5f"
                        },
                        "error_y": {
                          "color": "#2a3f5f"
                        },
                        "marker": {
                          "line": {
                            "color": "#E5ECF6",
                            "width": 0.5
                          },
                          "pattern": {
                            "fillmode": "overlay",
                            "size": 10,
                            "solidity": 0.2
                          }
                        },
                        "type": "bar"
                      }
                    ],
                    "barpolar": [
                      {
                        "marker": {
                          "line": {
                            "color": "#E5ECF6",
                            "width": 0.5
                          },
                          "pattern": {
                            "fillmode": "overlay",
                            "size": 10,
                            "solidity": 0.2
                          }
                        },
                        "type": "barpolar"
                      }
                    ],
                    "carpet": [
                      {
                        "aaxis": {
                          "endlinecolor": "#2a3f5f",
                          "gridcolor": "white",
                          "linecolor": "white",
                          "minorgridcolor": "white",
                          "startlinecolor": "#2a3f5f"
                        },
                        "baxis": {
                          "endlinecolor": "#2a3f5f",
                          "gridcolor": "white",
                          "linecolor": "white",
                          "minorgridcolor": "white",
                          "startlinecolor": "#2a3f5f"
                        },
                        "type": "carpet"
                      }
                    ],
                    "choropleth": [
                      {
                        "colorbar": {
                          "outlinewidth": 0,
                          "ticks": ""
                        },
                        "type": "choropleth"
                      }
                    ],
                    "contour": [
                      {
                        "colorbar": {
                          "outlinewidth": 0,
                          "ticks": ""
                        },
                        "colorscale": [
                          [
                            0,
                            "#0d0887"
                          ],
                          [
                            0.1111111111111111,
                            "#46039f"
                          ],
                          [
                            0.2222222222222222,
                            "#7201a8"
                          ],
                          [
                            0.3333333333333333,
                            "#9c179e"
                          ],
                          [
                            0.4444444444444444,
                            "#bd3786"
                          ],
                          [
                            0.5555555555555556,
                            "#d8576b"
                          ],
                          [
                            0.6666666666666666,
                            "#ed7953"
                          ],
                          [
                            0.7777777777777778,
                            "#fb9f3a"
                          ],
                          [
                            0.8888888888888888,
                            "#fdca26"
                          ],
                          [
                            1,
                            "#f0f921"
                          ]
                        ],
                        "type": "contour"
                      }
                    ],
                    "contourcarpet": [
                      {
                        "colorbar": {
                          "outlinewidth": 0,
                          "ticks": ""
                        },
                        "type": "contourcarpet"
                      }
                    ],
                    "heatmap": [
                      {
                        "colorbar": {
                          "outlinewidth": 0,
                          "ticks": ""
                        },
                        "colorscale": [
                          [
                            0,
                            "#0d0887"
                          ],
                          [
                            0.1111111111111111,
                            "#46039f"
                          ],
                          [
                            0.2222222222222222,
                            "#7201a8"
                          ],
                          [
                            0.3333333333333333,
                            "#9c179e"
                          ],
                          [
                            0.4444444444444444,
                            "#bd3786"
                          ],
                          [
                            0.5555555555555556,
                            "#d8576b"
                          ],
                          [
                            0.6666666666666666,
                            "#ed7953"
                          ],
                          [
                            0.7777777777777778,
                            "#fb9f3a"
                          ],
                          [
                            0.8888888888888888,
                            "#fdca26"
                          ],
                          [
                            1,
                            "#f0f921"
                          ]
                        ],
                        "type": "heatmap"
                      }
                    ],
                    "histogram": [
                      {
                        "marker": {
                          "pattern": {
                            "fillmode": "overlay",
                            "size": 10,
                            "solidity": 0.2
                          }
                        },
                        "type": "histogram"
                      }
                    ],
                    "histogram2d": [
                      {
                        "colorbar": {
                          "outlinewidth": 0,
                          "ticks": ""
                        },
                        "colorscale": [
                          [
                            0,
                            "#0d0887"
                          ],
                          [
                            0.1111111111111111,
                            "#46039f"
                          ],
                          [
                            0.2222222222222222,
                            "#7201a8"
                          ],
                          [
                            0.3333333333333333,
                            "#9c179e"
                          ],
                          [
                            0.4444444444444444,
                            "#bd3786"
                          ],
                          [
                            0.5555555555555556,
                            "#d8576b"
                          ],
                          [
                            0.6666666666666666,
                            "#ed7953"
                          ],
                          [
                            0.7777777777777778,
                            "#fb9f3a"
                          ],
                          [
                            0.8888888888888888,
                            "#fdca26"
                          ],
                          [
                            1,
                            "#f0f921"
                          ]
                        ],
                        "type": "histogram2d"
                      }
                    ],
                    "histogram2dcontour": [
                      {
                        "colorbar": {
                          "outlinewidth": 0,
                          "ticks": ""
                        },
                        "colorscale": [
                          [
                            0,
                            "#0d0887"
                          ],
                          [
                            0.1111111111111111,
                            "#46039f"
                          ],
                          [
                            0.2222222222222222,
                            "#7201a8"
                          ],
                          [
                            0.3333333333333333,
                            "#9c179e"
                          ],
                          [
                            0.4444444444444444,
                            "#bd3786"
                          ],
                          [
                            0.5555555555555556,
                            "#d8576b"
                          ],
                          [
                            0.6666666666666666,
                            "#ed7953"
                          ],
                          [
                            0.7777777777777778,
                            "#fb9f3a"
                          ],
                          [
                            0.8888888888888888,
                            "#fdca26"
                          ],
                          [
                            1,
                            "#f0f921"
                          ]
                        ],
                        "type": "histogram2dcontour"
                      }
                    ],
                    "mesh3d": [
                      {
                        "colorbar": {
                          "outlinewidth": 0,
                          "ticks": ""
                        },
                        "type": "mesh3d"
                      }
                    ],
                    "parcoords": [
                      {
                        "line": {
                          "colorbar": {
                            "outlinewidth": 0,
                            "ticks": ""
                          }
                        },
                        "type": "parcoords"
                      }
                    ],
                    "pie": [
                      {
                        "automargin": true,
                        "type": "pie"
                      }
                    ],
                    "scatter": [
                      {
                        "fillpattern": {
                          "fillmode": "overlay",
                          "size": 10,
                          "solidity": 0.2
                        },
                        "type": "scatter"
                      }
                    ],
                    "scatter3d": [
                      {
                        "line": {
                          "colorbar": {
                            "outlinewidth": 0,
                            "ticks": ""
                          }
                        },
                        "marker": {
                          "colorbar": {
                            "outlinewidth": 0,
                            "ticks": ""
                          }
                        },
                        "type": "scatter3d"
                      }
                    ],
                    "scattercarpet": [
                      {
                        "marker": {
                          "colorbar": {
                            "outlinewidth": 0,
                            "ticks": ""
                          }
                        },
                        "type": "scattercarpet"
                      }
                    ],
                    "scattergeo": [
                      {
                        "marker": {
                          "colorbar": {
                            "outlinewidth": 0,
                            "ticks": ""
                          }
                        },
                        "type": "scattergeo"
                      }
                    ],
                    "scattergl": [
                      {
                        "marker": {
                          "colorbar": {
                            "outlinewidth": 0,
                            "ticks": ""
                          }
                        },
                        "type": "scattergl"
                      }
                    ],
                    "scattermap": [
                      {
                        "marker": {
                          "colorbar": {
                            "outlinewidth": 0,
                            "ticks": ""
                          }
                        },
                        "type": "scattermap"
                      }
                    ],
                    "scattermapbox": [
                      {
                        "marker": {
                          "colorbar": {
                            "outlinewidth": 0,
                            "ticks": ""
                          }
                        },
                        "type": "scattermapbox"
                      }
                    ],
                    "scatterpolar": [
                      {
                        "marker": {
                          "colorbar": {
                            "outlinewidth": 0,
                            "ticks": ""
                          }
                        },
                        "type": "scatterpolar"
                      }
                    ],
                    "scatterpolargl": [
                      {
                        "marker": {
                          "colorbar": {
                            "outlinewidth": 0,
                            "ticks": ""
                          }
                        },
                        "type": "scatterpolargl"
                      }
                    ],
                    "scatterternary": [
                      {
                        "marker": {
                          "colorbar": {
                            "outlinewidth": 0,
                            "ticks": ""
                          }
                        },
                        "type": "scatterternary"
                      }
                    ],
                    "surface": [
                      {
                        "colorbar": {
                          "outlinewidth": 0,
                          "ticks": ""
                        },
                        "colorscale": [
                          [
                            0,
                            "#0d0887"
                          ],
                          [
                            0.1111111111111111,
                            "#46039f"
                          ],
                          [
                            0.2222222222222222,
                            "#7201a8"
                          ],
                          [
                            0.3333333333333333,
                            "#9c179e"
                          ],
                          [
                            0.4444444444444444,
                            "#bd3786"
                          ],
                          [
                            0.5555555555555556,
                            "#d8576b"
                          ],
                          [
                            0.6666666666666666,
                            "#ed7953"
                          ],
                          [
                            0.7777777777777778,
                            "#fb9f3a"
                          ],
                          [
                            0.8888888888888888,
                            "#fdca26"
                          ],
                          [
                            1,
                            "#f0f921"
                          ]
                        ],
                        "type": "surface"
                      }
                    ],
                    "table": [
                      {
                        "cells": {
                          "fill": {
                            "color": "#EBF0F8"
                          },
                          "line": {
                            "color": "white"
                          }
                        },
                        "header": {
                          "fill": {
                            "color": "#C8D4E3"
                          },
                          "line": {
                            "color": "white"
                          }
                        },
                        "type": "table"
                      }
                    ]
                  },
                  "layout": {
                    "annotationdefaults": {
                      "arrowcolor": "#2a3f5f",
                      "arrowhead": 0,
                      "arrowwidth": 1
                    },
                    "autotypenumbers": "strict",
                    "coloraxis": {
                      "colorbar": {
                        "outlinewidth": 0,
                        "ticks": ""
                      }
                    },
                    "colorscale": {
                      "diverging": [
                        [
                          0,
                          "#8e0152"
                        ],
                        [
                          0.1,
                          "#c51b7d"
                        ],
                        [
                          0.2,
                          "#de77ae"
                        ],
                        [
                          0.3,
                          "#f1b6da"
                        ],
                        [
                          0.4,
                          "#fde0ef"
                        ],
                        [
                          0.5,
                          "#f7f7f7"
                        ],
                        [
                          0.6,
                          "#e6f5d0"
                        ],
                        [
                          0.7,
                          "#b8e186"
                        ],
                        [
                          0.8,
                          "#7fbc41"
                        ],
                        [
                          0.9,
                          "#4d9221"
                        ],
                        [
                          1,
                          "#276419"
                        ]
                      ],
                      "sequential": [
                        [
                          0,
                          "#0d0887"
                        ],
                        [
                          0.1111111111111111,
                          "#46039f"
                        ],
                        [
                          0.2222222222222222,
                          "#7201a8"
                        ],
                        [
                          0.3333333333333333,
                          "#9c179e"
                        ],
                        [
                          0.4444444444444444,
                          "#bd3786"
                        ],
                        [
                          0.5555555555555556,
                          "#d8576b"
                        ],
                        [
                          0.6666666666666666,
                          "#ed7953"
                        ],
                        [
                          0.7777777777777778,
                          "#fb9f3a"
                        ],
                        [
                          0.8888888888888888,
                          "#fdca26"
                        ],
                        [
                          1,
                          "#f0f921"
                        ]
                      ],
                      "sequentialminus": [
                        [
                          0,
                          "#0d0887"
                        ],
                        [
                          0.1111111111111111,
                          "#46039f"
                        ],
                        [
                          0.2222222222222222,
                          "#7201a8"
                        ],
                        [
                          0.3333333333333333,
                          "#9c179e"
                        ],
                        [
                          0.4444444444444444,
                          "#bd3786"
                        ],
                        [
                          0.5555555555555556,
                          "#d8576b"
                        ],
                        [
                          0.6666666666666666,
                          "#ed7953"
                        ],
                        [
                          0.7777777777777778,
                          "#fb9f3a"
                        ],
                        [
                          0.8888888888888888,
                          "#fdca26"
                        ],
                        [
                          1,
                          "#f0f921"
                        ]
                      ]
                    },
                    "colorway": [
                      "#636efa",
                      "#EF553B",
                      "#00cc96",
                      "#ab63fa",
                      "#FFA15A",
                      "#19d3f3",
                      "#FF6692",
                      "#B6E880",
                      "#FF97FF",
                      "#FECB52"
                    ],
                    "font": {
                      "color": "#2a3f5f"
                    },
                    "geo": {
                      "bgcolor": "white",
                      "lakecolor": "white",
                      "landcolor": "#E5ECF6",
                      "showlakes": true,
                      "showland": true,
                      "subunitcolor": "white"
                    },
                    "hoverlabel": {
                      "align": "left"
                    },
                    "hovermode": "closest",
                    "mapbox": {
                      "style": "light"
                    },
                    "paper_bgcolor": "white",
                    "plot_bgcolor": "#E5ECF6",
                    "polar": {
                      "angularaxis": {
                        "gridcolor": "white",
                        "linecolor": "white",
                        "ticks": ""
                      },
                      "bgcolor": "#E5ECF6",
                      "radialaxis": {
                        "gridcolor": "white",
                        "linecolor": "white",
                        "ticks": ""
                      }
                    },
                    "scene": {
                      "xaxis": {
                        "backgroundcolor": "#E5ECF6",
                        "gridcolor": "white",
                        "gridwidth": 2,
                        "linecolor": "white",
                        "showbackground": true,
                        "ticks": "",
                        "zerolinecolor": "white"
                      },
                      "yaxis": {
                        "backgroundcolor": "#E5ECF6",
                        "gridcolor": "white",
                        "gridwidth": 2,
                        "linecolor": "white",
                        "showbackground": true,
                        "ticks": "",
                        "zerolinecolor": "white"
                      },
                      "zaxis": {
                        "backgroundcolor": "#E5ECF6",
                        "gridcolor": "white",
                        "gridwidth": 2,
                        "linecolor": "white",
                        "showbackground": true,
                        "ticks": "",
                        "zerolinecolor": "white"
                      }
                    },
                    "shapedefaults": {
                      "line": {
                        "color": "#2a3f5f"
                      }
                    },
                    "ternary": {
                      "aaxis": {
                        "gridcolor": "white",
                        "linecolor": "white",
                        "ticks": ""
                      },
                      "baxis": {
                        "gridcolor": "white",
                        "linecolor": "white",
                        "ticks": ""
                      },
                      "bgcolor": "#E5ECF6",
                      "caxis": {
                        "gridcolor": "white",
                        "linecolor": "white",
                        "ticks": ""
                      }
                    },
                    "title": {
                      "x": 0.05
                    },
                    "xaxis": {
                      "automargin": true,
                      "gridcolor": "white",
                      "linecolor": "white",
                      "ticks": "",
                      "title": {
                        "standoff": 15
                      },
                      "zerolinecolor": "white",
                      "zerolinewidth": 2
                    },
                    "yaxis": {
                      "automargin": true,
                      "gridcolor": "white",
                      "linecolor": "white",
                      "ticks": "",
                      "title": {
                        "standoff": 15
                      },
                      "zerolinecolor": "white",
                      "zerolinewidth": 2
                    }
                  }
                },
                "title": {
                  "text": "K-NN (k=11) 결정 경계"
                },
                "width": 800,
                "xaxis": {
                  "title": {
                    "text": "첫 번째 주성분 (PCA 1)"
                  }
                },
                "yaxis": {
                  "title": {
                    "text": "두 번째 주성분 (PCA 2)"
                  }
                }
              }
            }
          },
          "metadata": {},
          "output_type": "display_data"
        }
      ],
      "source": [
        "# K-NN (k=11) 결정 경계 시각화\n",
        "knn_pipeline_11 = Pipeline(steps=[\n",
        "    ('preprocessor', preprocessor),\n",
        "    ('classifier', KNeighborsClassifier(n_neighbors=11))\n",
        "])\n",
        "plot_decision_boundary(knn_pipeline_11, X_train, y_train, \"K-NN (k=11) 결정 경계\")"
      ]
    },
    {
      "cell_type": "markdown",
      "metadata": {
        "id": "m2SyxKs_5v-h"
      },
      "source": [
        "* **로지스틱 회귀**는 직선(선형)으로 클래스를 구분하려는 경향을 보입니다.\n",
        "* **K-NN**은 데이터의 분포에 따라 더 복잡하고 구불구불한(비선형) 경계를 만듭니다.\n",
        "\n",
        "#### ✏️ 연습문제 5: k값에 따른 결정 경계 변화 관찰하기\n",
        "\n",
        "k값이 모델의 복잡도와 결정 경계에 어떤 영향을 미치는지 직접 확인해봅시다.\n",
        "\n",
        " `k=1` (가장 복잡한 모델)과 `k=101` (매우 단순한 모델)일 때의 K-NN 결정 경계를 각각 시각화하고, 두 그래프의 차이점을 설명해보세요.\n",
        "\n",
        " HINT: `pipeline`과 `plot_decision_boundary` 함수를 사용하세요."
      ]
    },
    {
      "cell_type": "code",
      "execution_count": 36,
      "metadata": {
        "id": "1lvGVb8g5v-h"
      },
      "outputs": [
        {
          "data": {
            "application/vnd.plotly.v1+json": {
              "config": {
                "plotlyServerURL": "https://plot.ly"
              },
              "data": [
                {
                  "colorscale": [
                    [
                      0,
                      "lightcoral"
                    ],
                    [
                      1,
                      "lightskyblue"
                    ]
                  ],
                  "opacity": 0.5,
                  "showscale": false,
                  "type": "contour",
                  "x": {
                    "bdata": "OLBCBVPzEcDSSdye7IwRwGzjdTiGJhHABn0P0h/AEMCgFqlruVkQwHRghQqm5g/AqJO4PdkZD8DcxutwDE0OwBD6HqQ/gA3ARC1S13KzDMB4YIUKpuYLwKyTuD3ZGQvA4MbrcAxNCsAU+h6kP4AJwEgtUtdyswjAfGCFCqbmB8Cwk7g92RkHwOTG63AMTQbAGPoepD+ABcBMLVLXcrMEwIBghQqm5gPAtJO4PdkZA8DoxutwDE0CwBz6HqQ/gAHAUC1S13KzAMAIwQoVTM3/v3AncXuyM/6/2I3X4Ria/L9A9D1IfwD7v6hapK7lZvm/EMEKFUzN9794J3F7sjP2v+CN1+EYmvS/SPQ9SH8A87+wWqSu5WbxvzCCFSqYmu+/AE/i9mRn7L/QG6/DMTTpv6Doe5D+AOa/cLVIXcvN4r+ABCtUMDXfvyCexO3Jzti/wDdeh2No0r/Aou9B+gPIvwCsRepabra/AGyfevVZiT8Ah+1I2MS8P0CQQ/E4L8s/gC4I3wL+0z/glG5FaWTaP6B96tVnZeA/0LAdCZuY4z8A5FA8zsvmPzAXhG8B/+k/YEq3ojQy7T/IPvXqszLwP2DYjoRNzPE/+HEoHudl8z+QC8K3gP/0PyilW1EamfY/wD716rMy+D9Y2I6ETcz5P/BxKB7nZfs/iAvCt4D//D8gpVtRGpn+P1yfevVZGQBAKGxHwibmAED0OBSP87IBQMAF4VvAfwJAjNKtKI1MA0BYn3r1WRkEQCRsR8Im5gRA8DgUj/OyBUC8BeFbwH8GQIjSrSiNTAdAVJ969VkZCEAgbEfCJuYIQOw4FI/zsglAuAXhW8B/CkCE0q0ojUwLQFCfevVZGQxAHGxHwibmDEDoOBSP87INQLQF4VvAfw5AgNKtKI1MD0CmT736rAwQQAy2I2ETcxBAchyKx3nZEEDYgvAt4D8RQD7pVpRGphFApE+9+qwMEkAKtiNhE3MSQHAcisd52RJA1oLwLeA/E0A86VaURqYTQKJPvfqsDBRA",
                    "dtype": "f8"
                  },
                  "y": {
                    "bdata": "uyESOtSMD8DuVEVtB8AOwCGIeKA68w3AVLur020mDcCH7t4GoVkMwLohEjrUjAvA7VRFbQfACsAgiHigOvMJwFO7q9NtJgnAhu7eBqFZCMC5IRI61IwHwOxURW0HwAbAH4h4oDrzBcBSu6vTbSYFwIXu3gahWQTAuCESOtSMA8DrVEVtB8ACwB6IeKA68wHAUbur020mAcCE7t4GoVkAwG5DJHSoGf+/1KmK2g6A/b86EPFAdeb7v6B2V6fbTPq/Bt29DUKz+L9sQyR0qBn3v9KpitoOgPW/OBDxQHXm87+edlen20zyvwTdvQ1Cs/C/1IZI6FAz7r+gUxW1HQDrv2wg4oHqzOe/OO2uTreZ5L8EunsbhGbhv6ANkdChZty/OKcqajsA1r+ggYgHqjPPv9C0uzrdZsK/AKC7t0Fopr9Ak3d78cqsP5CxqiuJ/8M/OL87/Cpm0D+oJaJikczWPwiMCMn3Mt0/NHm3F6/M4T9srOpK4v/kP6TfHX4VM+g/1BJRsUhm6z8ERoTke5nuP56824tX5vA/OlZ1JfF/8j/S7w6/ihn0P2qJqFgks/U/BiNC8r1M9z+ivNuLV+b4PzpWdSXxf/o/0u8Ov4oZ/D9uiahYJLP9PwojQvK9TP8/Ud7txStzAEAdq7qS+D8BQOt3h1/FDAJAuURULJLZAkCFESH5XqYDQFHe7cUrcwRAH6u6kvg/BUDtd4dfxQwGQLlEVCyS2QZAhREh+V6mB0BT3u3FK3MIQCGrupL4PwlA7XeHX8UMCkC5RFQsktkKQIcRIflepgtAVd7txStzDEAhq7qS+D8NQO13h1/FDA5Au0RULJLZDkCJESH5XqYPQCrv9uKVORBA",
                    "dtype": "f8"
                  },
                  "z": {
                    "bdata": "AAAAAAAAAAEBAQEBAQEBAQEBAQEBAQEBAQEBAQEBAQEBAQEBAQEBAQEBAQEBAQEBAQEBAQEBAQEBAQEBAQEBAQEBAQEBAQEBAQEBAQEBAQEBAQEBAQEBAQEBAQEBAQEBAAAAAAAAAAABAQEBAQEBAQEBAQEBAQEBAQEBAQEBAQEBAQEBAQEBAQEBAQEBAQEBAQEBAQEBAQEBAQEBAQEBAQEBAQEBAQEBAQEBAQEBAQEBAQEBAQEBAQEBAQEBAQEBAAAAAAAAAAAAAQEBAQEBAQEBAQEBAQEBAQEBAQEBAQEBAQEBAQEBAQEBAQEBAQEBAQEBAQEBAQEBAQEBAQEBAQEBAQEBAQEBAQEBAQEBAQEBAQEBAQEBAQEBAQEBAQEBAAAAAAAAAAAAAAEBAQEBAQEBAQEBAQEBAQEBAQEBAQEBAQEBAQEBAQEBAQEBAQEBAQEBAQEBAQEBAQEBAQEBAQEBAQEBAQEBAQEBAQEBAQEBAQEBAQEBAQEBAQEBAQEBAAAAAAAAAAAAAAAAAQEBAQEBAQEBAQEBAQEBAQEBAQEBAQEBAQEBAQEBAQEBAQEBAQEBAQEBAQEBAQEBAQEBAQEBAQEBAQEBAQEBAQEBAQEBAQEBAQEBAQEBAQEBAQEBAAAAAAAAAAAAAAAAAAEBAQEBAQEBAQEBAQEBAQEBAQEBAQEBAQEBAQEBAQABAQEBAQEBAQEBAQEBAQEBAQEBAQEBAQEBAQEBAQEBAQEBAQEBAQEBAQEBAQEBAQEBAQEBAAAAAAAAAAAAAAAAAAABAQEBAQEBAQEBAQEBAQEBAQEBAQEBAQEBAQEBAQABAQEBAQEBAQEBAQEBAQEBAQEBAQEBAQEBAQEBAQEBAQEBAQEBAQEBAQEBAQEBAQEBAQEAAAAAAAAAAAAAAAAAAAAAAQEBAQEBAQEBAQEBAQEBAQEBAQEBAQEBAQEBAQABAQEBAQEBAQEBAQEBAQEBAQEBAQEBAQEBAQEBAQEBAQEBAQEBAQEBAQEBAQEBAQEBAQAAAAAAAAAAAAAAAAAAAAAAAAEBAQEBAQEBAQEBAQEBAQEBAQEBAQEBAQEBAAEBAQEBAQEBAQEBAQEBAQEBAQEBAQEBAQEBAQEBAQEBAQEBAQEBAQEBAQEBAQEBAQEBAAAAAAAAAAAAAAAAAAAAAAAAAAABAQEBAQEBAQEBAQEBAQEBAQEBAQEBAQEBAAABAQEBAQEBAQEBAQEBAQEBAQEBAQEBAQEBAQEBAQEBAQEBAQEBAQEBAQEBAQEBAQEAAAAAAAAAAAAAAAAAAAAAAAAAAAAAAQEBAQEBAQEBAQEBAQEBAQEBAQEBAQEBAQABAQEBAQEBAQEBAQEBAQEBAQEBAQEBAQEBAQEBAQEBAQEBAQEBAQEBAQEBAQEBAQAAAAAAAAAAAAAAAAAAAAAAAAAAAAAAAAABAQEBAQEBAQEBAQEBAQEBAAEBAAABAAEBAQEBAQEBAQEBAQEBAQEBAQEBAQEBAQEBAQEBAQEBAQEBAQEBAQEBAQEBAQEBAAAAAAAAAAAAAAAAAAAAAAAAAAAAAAAAAAAAAQEBAQEBAQEBAQEBAQEBAAABAQABAQEBAQEBAQEBAQEBAQEBAQEBAQEBAQEBAQEBAQEBAQEBAQEBAQEBAQEBAQEBAQEAAAAAAAAAAAAAAAAAAAAAAAAAAAAAAAAAAAAAAAEBAQEBAQEBAQEBAQABAAEBAAEAAQABAQEBAQEBAQABAQEBAQEBAQEBAQEBAQEBAQEBAQEBAQEBAQEBAQEBAQEBAQAAAAAAAAAAAAAAAAAAAAAAAAAAAAAAAAAAAAAAAAABAQEBAQEBAQEBAAAAAQEBAAAAAAABAQABAQABAQEBAQEBAQEBAQEBAQEBAQEBAQEBAQEBAQEBAQEBAQEBAQEBAAAAAAAAAAAAAAAAAAAAAAAAAAAAAAAAAAAAAAAAAAAAAQEBAQEBAQEBAAEBAQEBAQEAAAEAAQEBAAEBAQEBAQEBAQEBAQEBAQEBAQEBAQEBAQEBAQEBAQEBAQEBAQEAAAAAAAAAAAAAAAAAAAAAAAAAAAAAAAAAAAAAAAAAAAAAAAEBAQEBAQEBAAEBAQABAQEBAQEBAAEBAQEBAQEBAQEBAQEBAQEBAQEBAQEBAQEBAQEBAQEBAQEBAQEBAQAAAAAAAAAAAAAAAQAAAAAAAAAAAAAAAAAAAAAAAAAAAAAAAAABAQEBAQAAAAABAQEBAQEBAQABAQEBAQAAAQEBAQEBAQEBAQEBAQEBAQEBAQEBAQEBAQEBAQEBAQEBAAAAAAAAAAAAAAAAAQEBAAAAAAAAAAAAAAAAAAAAAAAAAAAAAAABAQEBAQEAAQEBAQEBAQABAQEBAQEBAQEAAAEBAAEAAQEBAQEBAQEBAQEBAQEBAQEBAQEBAQEBAQAAAAAAAAAAAAAAAAAAAQEBAQEAAAAAAAAAAAAAAAAAAAAAAAAAAAAAAQAAAQEBAQEBAAABAAEBAQEBAQEBAQEBAAEBAQEBAQEBAQEBAQEBAQEBAQEBAQEBAQEBAQEBAAAAAAAAAAAAAAAAAAAAAQEBAQEBAAAAAAAAAAAAAAAAAAAAAAAAAAAAAAEBAAEBAQABAAABAAEAAAABAQEBAAABAAABAQEBAAEAAQEBAQEBAQEBAQEBAQEBAQEBAQEAAAAAAAAAAAAAAAAAAAAAAQEBAQEBAQEAAAAAAAAAAAAAAAAAAAAAAAABAQEAAQAAAQEBAAABAAEAAAEAAQEBAAEBAQABAQAAAQEBAQEBAQEBAQEBAQEBAQEBAQEBAQAAAAAAAAAAAAAAAAAAAAAAAQEBAQEBAQEBAQAAAAAAAAAAAAAAAAAAAAAAAQAAAAAAAQEAAAAAAQEBAQABAQEAAQABAQABAQAAAQEBAQEBAQEBAQEBAQEBAQEBAQEAAAAAAAAAAAAAAAAAAAAAAAAAAAEBAQEBAQEBAQEAAAAAAAAAAAAAAAAAAAAAAAAAAAAAAAEAAQEBAAAAAAEBAAEAAAEBAQEBAAEBAAAAAQEBAQEBAQEBAQEBAQEBAQAAAAAAAAAAAAAAAAAAAAAAAAAAAQABAQEBAQEBAQEBAQAAAAAAAAAAAAAAAAAAAAAAAAAAAQABAAAAAQAAAAEBAAEAAQEBAAEBAQAAAAEBAQEAAQEBAQEBAQEBAQEBAAAAAAAAAAAAAAAAAAAAAAAAAAAAAQEAAAEBAQEBAQEBAQEBAAAAAAAAAAAAAAABAQABAAAAAAABAAAAAQABAAEAAQEBAAEAAAAAAQABAAEAAAEBAQEBAQEBAQEBAQEAAAAAAAAAAAAAAAAAAAAAAAAAAAAAAQEBAAABAQEBAQEBAQEBAQAAAAAAAAAAAAEBAQABAAAAAAAAAAABAAABAAEBAQABAAABAQEBAQEBAQEBAAEBAAEBAQEBAQEBAAAAAAAAAAAAAAAAAAAAAAAAAAAAAAABAQEBAQAAAQEBAQEBAQEBAQEBAAAAAAAAAQEAAAABAQAAAAAAAAAAAQEBAAEAAAEAAAEBAAEBAQEAAAABAQEBAQEAAQABAQEAAAAAAAAAAAAAAAAAAAAAAAAAAAAAAAEBAQEBAQEAAAEBAQEBAQEBAQEBAQAAAAEAAAAAAAAAAAAAAAAAAQAAAAEAAAAAAAEBAAEAAAEBAQAAAAABAAABAAEAAAEBAQAAAAAAAAAAAAAAAAAAAAAAAAAAAAAAAQEBAQEBAQEBAAABAQEBAQEBAQEBAQEBAAAAAAAAAAABAQAAAAAAAAAAAAAAAAABAQAAAAAAAAEBAQAAAAAAAQAAAQABAAEBAAAAAAAAAAAAAAAAAAAAAAAAAAAAAAABAQEBAQEBAQEBAQAAAQEBAQEBAQEBAQEBAQAAAAAAAAAAAQEAAAAAAAABAAAAAAEAAAABAQEBAQABAQAAAQEAAAAAAAAAAAAAAAABAAAAAAAAAAAAAAAAAAAAAAAAAAEBAQEBAAEBAQEBAQEAAAEBAQEBAQEBAQEBAQEAAAAAAAABAQAAAAAAAAAAAAEAAQAAAAABAQAAAAEBAAAAAAAAAQEBAAABAQABAQEBAAAAAAAAAAAAAAAAAAAAAAAAAQEBAQEBAAABAQEBAQEBAAABAQEBAQEBAQEBAQEAAAAAAAAAAAAAAAABAAAAAAAAAAAAAAAAAAABAAABAAEAAQABAQEAAQEBAAAAAQEAAAAAAAAAAAAAAAAAAAAAAAEBAQEBAQEBAAAAAQEBAQEBAQAAAAEBAQEBAQEBAQEBAAAAAAAAAAAAAAAAAAAAAAABAAAAAQAAAAAAAQEAAQAAAAAAAQAAAQAAAAAAAAEAAAAAAAAAAAAAAAAAAAAAAQEBAQEBAQEBAAAAAAABAQEBAQEAAAABAQEBAQEBAQEBAAAAAAAAAAAAAAAAAAAAAQABAAAAAAEAAAAAAQEBAAABAQAAAQEAAQEBAAEAAAEAAAAAAAAAAAAAAAAAAAABAQEBAQEBAQEBAAAAAAAAAQEBAQEBAAAAAQEBAQEBAQEBAQAAAAAAAAAAAAAAAAAAAAAAAAAAAQABAAAAAAAAAAAAAQAAAQABAAABAAAAAAAAAAAAAAAAAAAAAAAAAAEBAQEBAQEBAQEBAAAAAAAAAAEBAQEBAQAAAAEBAQEBAQEBAQAAAAAAAAAAAAAAAQAAAAAAAAAAAAABAAAAAAAAAQAAAAABAAEBAQEBAAEAAAEAAQABAAAAAAAAAAAAAQEBAQEBAQEBAQEBAAAAAAAAAAABAQEBAQEAAAABAQEBAQEBAQAAAAAAAAAAAAAAAAABAAAAAAAAAAAAAAAAAAEAAAEAAAABAAAAAQEBAQABAAABAAABAAAAAAAAAAABAQEBAQEBAQEBAQEBAAAAAAAAAAAAAQEBAQEBAAAAAQEBAQEAAAAAAAAAAAAAAAAAAAAAAAEAAAAAAAAAAAAAAQABAAABAAABAQAAAAEAAAAAAQABAQAAAAAAAAAAAAEBAQEBAQEBAQEBAQAAAAAAAAAAAAAAAAEBAQEBAQABAQEBAQAAAAAAAAAAAAAAAAAAAQAAAAAAAAAAAAAAAAAAAAAAAAAAAAAAAAABAAAAAAAAAAAAAAAAAAAAAAAAAQEBAQEBAQEBAQEAAAAAAAAAAAAAAAAAAAABAQEBAQABAQEAAAAAAAAAAAAAAAAAAAAAAAAAAAAAAAAAAQAAAAAAAAAAAAABAAAAAAAAAQAAAQEAAAAAAAABAAAAAAABAQEBAQEBAQEBAAAAAAAAAAAAAAAAAAAAAAAAAAEAAAAAAAAAAAAAAAAAAAAAAAAAAAAAAAAAAAAAAAAAAAAAAAEAAAABAAAAAQAAAAAAAAAAAQAAAAAAAQEBAQEAAAABAQEBAQEBAQAAAAAAAAAAAAAAAAAAAAAAAAAAAQAAAAAAAAAAAAAAAAAAAAAAAAAAAAAAAAABAQABAAABAQAAAAAAAAAAAAAAAAABAAABAAABAAABAAEBAQAAAQEAAAEBAQEBAAAAAAAAAAAAAAAAAAAAAAAAAAAAAAAAAAAAAAAAAAAAAAAAAAAAAAAAAAAAAAAAAAAAAAEAAAAAAAABAAAAAAAAAAAAAAAAAAAAAAAAAAABAAEAAAABAAAAAAEBAAAAAAAAAAAAAAAAAAAAAAAAAAAAAAAAAAABAAAAAAABAAAAAAAAAAAAAAAAAAAAAAAAAAAAAAAAAAAAAAAAAAAAAAAAAAAAAAAAAAAAAAEBAAABAAAAAAAAAAAAAAAAAAAAAAAAAAAAAAAAAAAAAQEBAQEAAAAAAAAAAAAAAAAAAAAAAAAAAAAAAAAAAAAAAAAAAAAAAAAAAAAAAAAAAAAAAAEAAAAAAAAAAAEAAQAAAAABAAAAAAEBAQEAAQAAAAAAAAAAAAAAAAAAAAAAAQEBAQEBAQEBAQAAAAAAAQAAAAABAAAAAAAAAAAAAAAAAAAAAAAAAAAAAAAAAAAAAAAAAAAAAAAAAAAAAAAAAAAAAAAAAAEBAAABAQEAAAAAAAAAAAAAAAAAAAAAAAAAAQEBAQEBAQEBAQAAAAAAAAAAAAAAAAAAAAAAAAAAAAAAAAAAAAAAAAAAAAAAAAAAAAAAAQAAAAAAAAAAAAAAAAAAAAAAAAEAAQAAAAAAAAAAAAABAQEBAAAAAAAAAAAAAQEBAQEBAQEBAAAAAAABAAAAAAAAAAAAAAAAAAAAAAAAAAAAAAAAAAAAAAAAAAAAAAAAAAAAAAAAAAAAAAAAAAAAAAAAAAAAAQAAAAAAAQEAAQEBAQAAAAAAAAAAAAAAAQEBAQEBAQEAAAAAAAABAAABAAEAAAAAAAAAAAAAAAAAAAAAAAAAAAAAAAAAAAAAAAAAAAAAAAAAAAAAAQABAQAAAAAAAAABAAEAAQAAAQAAAAAAAAAAAAAAAAAAAAAAAQEBAQEBAAAAAAAAAAAAAAAAAAAAAAAAAAAAAAAAAAAAAAAAAAAAAAAAAAAAAAAAAAAAAQAAAAAAAAAAAQAAAAABAQAAAAAAAAABAQEAAQAAAQAAAAAAAAAAAAAAAAAAAQEBAQEAAAAAAAAAAAAAAAAAAAAAAAAAAAAAAAAAAAAAAAAAAAAAAAAAAAAAAAAAAAAAAAAAAAAAAAABAAAAAAAAAAAAAAAAAAAAAAAAAAAAAAAAAAAAAAAAAAAAAAAAAQEBAAAAAAAAAAAAAAAAAQAAAAAAAAAAAAAAAAAAAAAAAAAAAAAAAAAAAAAAAAAAAAAAAQAAAAAAAAAAAAAAAAAAAAAAAAAAAQEAAAAAAAAAAAAAAAAAAAAAAAAAAAAAAAAAAAAAAAAAAAAAAAAAAAAAAQAAAAAAAAAAAAAAAAAAAAAAAAAAAAAAAAAAAAAAAAAAAAAAAAAAAAAAAAAAAAAAAAAAAQAAAAAAAQEAAAAAAQAAAAAAAAAAAAAAAAAAAAAAAAAAAAAAAAAAAAAAAQAAAQAAAQAAAAAAAAAAAAAAAAAAAAAAAAAAAAAAAAAAAAAAAAAAAAAAAAAAAAAAAAEAAAAAAAAAAAAAAAAAAQAAAAAAAAAAAAAAAAAAAAAAAAAAAAAAAAAAAAAAAAAAAAAAAAAAAAAAAAAAAAAAAAAAAAAAAAAAAAAAAAAAAAAAAAAAAAAAAAAAAAAAAAAAAAAAAAAAAAAAAAAAAAAAAAEBAAAAAAAAAAAAAAAAAAAAAAAAAAAAAAAAAAAAAAAAAAAAAAAAAAAAAAAAAAAAAAAAAAAAAAAAAAAAAAAAAAAAAAAAAAAAAAAAAAAAAQAAAAAAAAAAAQAAAAAAAAAAAAAAAAAAAAAAAAAAAAAAAAAAAAAAAAAAAAAAAAAAAAAAAAAAAAAAAAAAAAAAAAAAAAAAAAAAAAAAAAAAAAAAAAAAAAAAAAAAAAAAAAAAAAAAAAAAAAAAAAAAAAAAAAAAAQAAAAAAAAAAAAAAAAAAAAAAAAAAAAAAAAAAAAAAAAAAAAAAAAAAAAAAAAAAAAAAAAAAAAAAAAAAAAAAAAAAAAAAAAAAAAAAAAAAAAAAAAAAAAAAAAAAAAAAAAAAAAAAAAAAAAAAAAAAAAAAAAAAAAAAAAAAAAAAAAAAAAAAAAAAAAAAAAAAAAABAAAAAAAAAAAAAAAAAAAAAAAAAAAAAAAAAAAAAAAAAAAAAAAAAAAAAAAAAAAAAAAAAAAAAAAAAAAAAAAAAAAAAAAAAAAAAAAAAAAAAAAAAAAAAAAAAAAAAAAAAAAAAAAAAAAAAAAAAAAAAAAAAAAAAAAAAAAAAAAAAAAAAAAAAAAAAAAAAAAAAAAAAAAAAAAAAAEAAAAAAAAAAAEBAQAAAAAAAAAAAAAAAAAAAAAAAAAAAAAAAAAAAAAAAAAAAAAAAAAAAAAAAAAAAAAAAAAAAAAAAAAAAAAAAAAAAAAAAAAAAAAAAAAAAAAAAAAAAAAAAAAAAAAAAAAAAAAAAQAAAAAAAAAAAAAAAAAAAAAAAAAAAAAAAAAAAAAAAAAAAAAAAAAAAAAAAAAAAAAAAAAAAAAAAAAAAAAAAAAAAAAAAAAAAAAAAAAAAAAAAAAAAAAAAAAAAAAAAAAAAAAAAAAAAAAAAAAAAAAAAAAAAAAAAAAAAAAAAAAAAAAAAAAAAQAAAAAAAAAAAAAAAAAAAAAAAAAAAAAAAAAAAAAAAAAAAAAAAAAAAAAAAAAAAAAAAAAAAAAAAAAAAAAAAAAAAAAAAAAAAAAAAAAAAAAAAAAAAAAAAAAAAAAAAAAAAAAAAAAAAAAAAAAAAAAAAAAAAAAAAAAAAAAAAAAAAAAAAAAAAAAAAAAAAAAAAAAAAAAAAAAAAAAAAAAAAAAAAAAAAAAAAAAAAAAAAAAAAAAAAAAAAAAAAAAAAAAAAAAAAAAAAAAAAAAAAAAAAAAAAAAAAAAAAAAAAAAAAAAAAAAAAAAAAAAAAAAAAAAAAAAAAAAAAAAAAAAAAAAAAAAAAAAAAAAAAAAAAAAAAAAAAAAAAAAAAAAAAAAAAAAAAAAAAAAAAAAAAAAAAAAAAAAAAAAAAAAAAAAAAAAAAAAAAAAAAAAAAAAAAAAAAAAAAAAAAAAAAAAAAAAAAAAAAAAAAAAAAAAAAAAAAAAAAAAAAAAAAAAAAAAAAAAAAAAAAAAAAAAAAAAAAAAAAAAAAAAAAAAAAAAAAAAAAAAAAAAAAAAAAAAAAAAAAAAAAAAAAAAAAAAAAAAAAAAAAAAAAAAAAAAAAAAAAAAAAAAAAAAAAAAAAAAAAAAAAAAAAAAAAAAAAAAAAAAAAAAAAAAAAAAAAAAAAAAAAAAAAAAAAAAAAAAAAAAAAAAAAAAAAAAAAAAAAAAAAAAAAAAAAAAAAAAAAAAAAAAAAAAAAAAAAAAAAAAAAAAAAAAAAAAAAAAAAAAAAAAAAAAAAAAAAAAAAAAAAAAAAAAAAAAAAAAAAAAAAAAAAAAAAAAAAAAAAAAAAAAAAAAAAAAAAAAAAAAAAAAAAAAAAAAAAAAAAAAAAAAAAAAAAAAAAAAAAAAAAAAAAAAAAAAAAAAAAAAAAAAAAAAAAAAAAAAAAAAAAAAAAAAAAAAAAAAAAAAAAAAAAAAAAAAAAAAAAAAAAAAAAAAAAAAAAAAAAAAAAAAAAAAAAAAAAAAAAAAAAAAAAAAAAAAAAAAAAAAAAAAAAAAAAAAAAAAAAAAAAAAAAAAAAAAAAAAAAAAAAAAAAAAAAAAAAAAAAAAAAAAAAAAAAAAAAAAAAAAAAAAAAAAAAAAAAAAAAAAAAAAAAAAAAAAAAAAAAAAAAAAAAAAAAAAAAAAAAAAAAAAAAAAAAAAAAAAAAAAAAAAAAAAAAAAAAAAAAAAAAAAAAAAAAAAAAAAAAAAAAAAAAAAAAAAAAAAAAAAAAAAAAAAAAAAAAAAAAAAAAAAAAAAAAAAAAAAAAAAAAAAAAAAAAAAAAAAAAAAAAAAAAAAAAAAAAAAAAAAAAAAAAAAAAAAAAAAAAAAAAAAAAAAAAAAAAAAAAAAAAAAAAAAAAAAAAAAAAAAAAAAAAAAAAAAAAAAAAAAAAAAAAAAAAAAAAAAAAAAAAAAAAAAAAAAAAAAAAAAAAAAAAAAAAAAAAAAAAAAAAAAAAAAAAAAAAAAAAAAAAAAAAAAAAAAAAAAAAAAAAAAAAAAAAAAAAAAAAAAAAAAAAAAAAAAAAAAAAAAAAAAAAAAAAAAAAAAAAAAAAAAAAAAAAAAAAAAAAAAAAAAAAAAAAAAAAAAAAAAAAAAAAAAAAAAAAAAAAAAAAAAAAAAAAAAAAAAAAAAAAAAAAAAAAAAAAAAAAAAAAAAAAAAAAAAAAAAAAAAAAAAAAAAAAAAAAAAAAAAAAAAAAAAAAAAAAAAAAAAAAAAAAAAAAAAAAAAAAAAAAAAAAAAAAAAAAAAAAAAAAAAAAAAAAAAAAAAAAAAAAAAAAAAAAAAAAAAAAAAAAAAAAAAAAAAAAAAAAAAAAAAAAAAAAAAAAAAAAAAAAAAAAAAAAAAAAAAAAAAAAAAAAAAAAAAAAAAAAAAAAAAAAAAAAAAAAAAAAAAAAAAAAAAAAAAAAAAAAAAAAAAAAAAAAAAAAAAAAAAAAAAAAAAAAAAAAAAAAAAAAAAAAAAAAAAAAAAAAAAAAAAAAAAAAAAAAAAAAAAAAAAAAAAAAAAAAAAAAAAAAAAAAAAAAAAAAAAAAAAAAAAAAAAAAAAAAAAAAAAAAAAAAAAAAAAAAAAAAAAAAAAAAAAAAAAAAAAAAAAAAAAAAAAAAAAAAAAAAAAAAAAAAAAAAAAAAAAAAAAAAAAAAAAAAAAAAAAAAAAAAAAAAAAAAAAAAAAAAAAAAAAAAAAAAAAAAAAAAAAAAAAAAAAAAAAAAAAAAAAAAAAAAAAAAAAAAAAAAAAAAAAAAAAAAAAAAAAAAAAAAAAAAAAAAAAA",
                    "dtype": "i1",
                    "shape": "81, 96"
                  }
                },
                {
                  "marker": {
                    "color": "blue",
                    "opacity": 0.7,
                    "size": 6
                  },
                  "mode": "markers",
                  "name": "No Churn",
                  "showlegend": true,
                  "type": "scatter",
                  "x": {
                    "bdata": "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",
                    "dtype": "f8"
                  },
                  "y": {
                    "bdata": "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",
                    "dtype": "f8"
                  }
                },
                {
                  "marker": {
                    "color": "red",
                    "opacity": 0.7,
                    "size": 6
                  },
                  "mode": "markers",
                  "name": "Churn",
                  "showlegend": true,
                  "type": "scatter",
                  "x": {
                    "bdata": "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",
                    "dtype": "f8"
                  },
                  "y": {
                    "bdata": "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",
                    "dtype": "f8"
                  }
                }
              ],
              "layout": {
                "height": 600,
                "legend": {
                  "title": {
                    "text": "Churn"
                  }
                },
                "template": {
                  "data": {
                    "bar": [
                      {
                        "error_x": {
                          "color": "#2a3f5f"
                        },
                        "error_y": {
                          "color": "#2a3f5f"
                        },
                        "marker": {
                          "line": {
                            "color": "#E5ECF6",
                            "width": 0.5
                          },
                          "pattern": {
                            "fillmode": "overlay",
                            "size": 10,
                            "solidity": 0.2
                          }
                        },
                        "type": "bar"
                      }
                    ],
                    "barpolar": [
                      {
                        "marker": {
                          "line": {
                            "color": "#E5ECF6",
                            "width": 0.5
                          },
                          "pattern": {
                            "fillmode": "overlay",
                            "size": 10,
                            "solidity": 0.2
                          }
                        },
                        "type": "barpolar"
                      }
                    ],
                    "carpet": [
                      {
                        "aaxis": {
                          "endlinecolor": "#2a3f5f",
                          "gridcolor": "white",
                          "linecolor": "white",
                          "minorgridcolor": "white",
                          "startlinecolor": "#2a3f5f"
                        },
                        "baxis": {
                          "endlinecolor": "#2a3f5f",
                          "gridcolor": "white",
                          "linecolor": "white",
                          "minorgridcolor": "white",
                          "startlinecolor": "#2a3f5f"
                        },
                        "type": "carpet"
                      }
                    ],
                    "choropleth": [
                      {
                        "colorbar": {
                          "outlinewidth": 0,
                          "ticks": ""
                        },
                        "type": "choropleth"
                      }
                    ],
                    "contour": [
                      {
                        "colorbar": {
                          "outlinewidth": 0,
                          "ticks": ""
                        },
                        "colorscale": [
                          [
                            0,
                            "#0d0887"
                          ],
                          [
                            0.1111111111111111,
                            "#46039f"
                          ],
                          [
                            0.2222222222222222,
                            "#7201a8"
                          ],
                          [
                            0.3333333333333333,
                            "#9c179e"
                          ],
                          [
                            0.4444444444444444,
                            "#bd3786"
                          ],
                          [
                            0.5555555555555556,
                            "#d8576b"
                          ],
                          [
                            0.6666666666666666,
                            "#ed7953"
                          ],
                          [
                            0.7777777777777778,
                            "#fb9f3a"
                          ],
                          [
                            0.8888888888888888,
                            "#fdca26"
                          ],
                          [
                            1,
                            "#f0f921"
                          ]
                        ],
                        "type": "contour"
                      }
                    ],
                    "contourcarpet": [
                      {
                        "colorbar": {
                          "outlinewidth": 0,
                          "ticks": ""
                        },
                        "type": "contourcarpet"
                      }
                    ],
                    "heatmap": [
                      {
                        "colorbar": {
                          "outlinewidth": 0,
                          "ticks": ""
                        },
                        "colorscale": [
                          [
                            0,
                            "#0d0887"
                          ],
                          [
                            0.1111111111111111,
                            "#46039f"
                          ],
                          [
                            0.2222222222222222,
                            "#7201a8"
                          ],
                          [
                            0.3333333333333333,
                            "#9c179e"
                          ],
                          [
                            0.4444444444444444,
                            "#bd3786"
                          ],
                          [
                            0.5555555555555556,
                            "#d8576b"
                          ],
                          [
                            0.6666666666666666,
                            "#ed7953"
                          ],
                          [
                            0.7777777777777778,
                            "#fb9f3a"
                          ],
                          [
                            0.8888888888888888,
                            "#fdca26"
                          ],
                          [
                            1,
                            "#f0f921"
                          ]
                        ],
                        "type": "heatmap"
                      }
                    ],
                    "histogram": [
                      {
                        "marker": {
                          "pattern": {
                            "fillmode": "overlay",
                            "size": 10,
                            "solidity": 0.2
                          }
                        },
                        "type": "histogram"
                      }
                    ],
                    "histogram2d": [
                      {
                        "colorbar": {
                          "outlinewidth": 0,
                          "ticks": ""
                        },
                        "colorscale": [
                          [
                            0,
                            "#0d0887"
                          ],
                          [
                            0.1111111111111111,
                            "#46039f"
                          ],
                          [
                            0.2222222222222222,
                            "#7201a8"
                          ],
                          [
                            0.3333333333333333,
                            "#9c179e"
                          ],
                          [
                            0.4444444444444444,
                            "#bd3786"
                          ],
                          [
                            0.5555555555555556,
                            "#d8576b"
                          ],
                          [
                            0.6666666666666666,
                            "#ed7953"
                          ],
                          [
                            0.7777777777777778,
                            "#fb9f3a"
                          ],
                          [
                            0.8888888888888888,
                            "#fdca26"
                          ],
                          [
                            1,
                            "#f0f921"
                          ]
                        ],
                        "type": "histogram2d"
                      }
                    ],
                    "histogram2dcontour": [
                      {
                        "colorbar": {
                          "outlinewidth": 0,
                          "ticks": ""
                        },
                        "colorscale": [
                          [
                            0,
                            "#0d0887"
                          ],
                          [
                            0.1111111111111111,
                            "#46039f"
                          ],
                          [
                            0.2222222222222222,
                            "#7201a8"
                          ],
                          [
                            0.3333333333333333,
                            "#9c179e"
                          ],
                          [
                            0.4444444444444444,
                            "#bd3786"
                          ],
                          [
                            0.5555555555555556,
                            "#d8576b"
                          ],
                          [
                            0.6666666666666666,
                            "#ed7953"
                          ],
                          [
                            0.7777777777777778,
                            "#fb9f3a"
                          ],
                          [
                            0.8888888888888888,
                            "#fdca26"
                          ],
                          [
                            1,
                            "#f0f921"
                          ]
                        ],
                        "type": "histogram2dcontour"
                      }
                    ],
                    "mesh3d": [
                      {
                        "colorbar": {
                          "outlinewidth": 0,
                          "ticks": ""
                        },
                        "type": "mesh3d"
                      }
                    ],
                    "parcoords": [
                      {
                        "line": {
                          "colorbar": {
                            "outlinewidth": 0,
                            "ticks": ""
                          }
                        },
                        "type": "parcoords"
                      }
                    ],
                    "pie": [
                      {
                        "automargin": true,
                        "type": "pie"
                      }
                    ],
                    "scatter": [
                      {
                        "fillpattern": {
                          "fillmode": "overlay",
                          "size": 10,
                          "solidity": 0.2
                        },
                        "type": "scatter"
                      }
                    ],
                    "scatter3d": [
                      {
                        "line": {
                          "colorbar": {
                            "outlinewidth": 0,
                            "ticks": ""
                          }
                        },
                        "marker": {
                          "colorbar": {
                            "outlinewidth": 0,
                            "ticks": ""
                          }
                        },
                        "type": "scatter3d"
                      }
                    ],
                    "scattercarpet": [
                      {
                        "marker": {
                          "colorbar": {
                            "outlinewidth": 0,
                            "ticks": ""
                          }
                        },
                        "type": "scattercarpet"
                      }
                    ],
                    "scattergeo": [
                      {
                        "marker": {
                          "colorbar": {
                            "outlinewidth": 0,
                            "ticks": ""
                          }
                        },
                        "type": "scattergeo"
                      }
                    ],
                    "scattergl": [
                      {
                        "marker": {
                          "colorbar": {
                            "outlinewidth": 0,
                            "ticks": ""
                          }
                        },
                        "type": "scattergl"
                      }
                    ],
                    "scattermap": [
                      {
                        "marker": {
                          "colorbar": {
                            "outlinewidth": 0,
                            "ticks": ""
                          }
                        },
                        "type": "scattermap"
                      }
                    ],
                    "scattermapbox": [
                      {
                        "marker": {
                          "colorbar": {
                            "outlinewidth": 0,
                            "ticks": ""
                          }
                        },
                        "type": "scattermapbox"
                      }
                    ],
                    "scatterpolar": [
                      {
                        "marker": {
                          "colorbar": {
                            "outlinewidth": 0,
                            "ticks": ""
                          }
                        },
                        "type": "scatterpolar"
                      }
                    ],
                    "scatterpolargl": [
                      {
                        "marker": {
                          "colorbar": {
                            "outlinewidth": 0,
                            "ticks": ""
                          }
                        },
                        "type": "scatterpolargl"
                      }
                    ],
                    "scatterternary": [
                      {
                        "marker": {
                          "colorbar": {
                            "outlinewidth": 0,
                            "ticks": ""
                          }
                        },
                        "type": "scatterternary"
                      }
                    ],
                    "surface": [
                      {
                        "colorbar": {
                          "outlinewidth": 0,
                          "ticks": ""
                        },
                        "colorscale": [
                          [
                            0,
                            "#0d0887"
                          ],
                          [
                            0.1111111111111111,
                            "#46039f"
                          ],
                          [
                            0.2222222222222222,
                            "#7201a8"
                          ],
                          [
                            0.3333333333333333,
                            "#9c179e"
                          ],
                          [
                            0.4444444444444444,
                            "#bd3786"
                          ],
                          [
                            0.5555555555555556,
                            "#d8576b"
                          ],
                          [
                            0.6666666666666666,
                            "#ed7953"
                          ],
                          [
                            0.7777777777777778,
                            "#fb9f3a"
                          ],
                          [
                            0.8888888888888888,
                            "#fdca26"
                          ],
                          [
                            1,
                            "#f0f921"
                          ]
                        ],
                        "type": "surface"
                      }
                    ],
                    "table": [
                      {
                        "cells": {
                          "fill": {
                            "color": "#EBF0F8"
                          },
                          "line": {
                            "color": "white"
                          }
                        },
                        "header": {
                          "fill": {
                            "color": "#C8D4E3"
                          },
                          "line": {
                            "color": "white"
                          }
                        },
                        "type": "table"
                      }
                    ]
                  },
                  "layout": {
                    "annotationdefaults": {
                      "arrowcolor": "#2a3f5f",
                      "arrowhead": 0,
                      "arrowwidth": 1
                    },
                    "autotypenumbers": "strict",
                    "coloraxis": {
                      "colorbar": {
                        "outlinewidth": 0,
                        "ticks": ""
                      }
                    },
                    "colorscale": {
                      "diverging": [
                        [
                          0,
                          "#8e0152"
                        ],
                        [
                          0.1,
                          "#c51b7d"
                        ],
                        [
                          0.2,
                          "#de77ae"
                        ],
                        [
                          0.3,
                          "#f1b6da"
                        ],
                        [
                          0.4,
                          "#fde0ef"
                        ],
                        [
                          0.5,
                          "#f7f7f7"
                        ],
                        [
                          0.6,
                          "#e6f5d0"
                        ],
                        [
                          0.7,
                          "#b8e186"
                        ],
                        [
                          0.8,
                          "#7fbc41"
                        ],
                        [
                          0.9,
                          "#4d9221"
                        ],
                        [
                          1,
                          "#276419"
                        ]
                      ],
                      "sequential": [
                        [
                          0,
                          "#0d0887"
                        ],
                        [
                          0.1111111111111111,
                          "#46039f"
                        ],
                        [
                          0.2222222222222222,
                          "#7201a8"
                        ],
                        [
                          0.3333333333333333,
                          "#9c179e"
                        ],
                        [
                          0.4444444444444444,
                          "#bd3786"
                        ],
                        [
                          0.5555555555555556,
                          "#d8576b"
                        ],
                        [
                          0.6666666666666666,
                          "#ed7953"
                        ],
                        [
                          0.7777777777777778,
                          "#fb9f3a"
                        ],
                        [
                          0.8888888888888888,
                          "#fdca26"
                        ],
                        [
                          1,
                          "#f0f921"
                        ]
                      ],
                      "sequentialminus": [
                        [
                          0,
                          "#0d0887"
                        ],
                        [
                          0.1111111111111111,
                          "#46039f"
                        ],
                        [
                          0.2222222222222222,
                          "#7201a8"
                        ],
                        [
                          0.3333333333333333,
                          "#9c179e"
                        ],
                        [
                          0.4444444444444444,
                          "#bd3786"
                        ],
                        [
                          0.5555555555555556,
                          "#d8576b"
                        ],
                        [
                          0.6666666666666666,
                          "#ed7953"
                        ],
                        [
                          0.7777777777777778,
                          "#fb9f3a"
                        ],
                        [
                          0.8888888888888888,
                          "#fdca26"
                        ],
                        [
                          1,
                          "#f0f921"
                        ]
                      ]
                    },
                    "colorway": [
                      "#636efa",
                      "#EF553B",
                      "#00cc96",
                      "#ab63fa",
                      "#FFA15A",
                      "#19d3f3",
                      "#FF6692",
                      "#B6E880",
                      "#FF97FF",
                      "#FECB52"
                    ],
                    "font": {
                      "color": "#2a3f5f"
                    },
                    "geo": {
                      "bgcolor": "white",
                      "lakecolor": "white",
                      "landcolor": "#E5ECF6",
                      "showlakes": true,
                      "showland": true,
                      "subunitcolor": "white"
                    },
                    "hoverlabel": {
                      "align": "left"
                    },
                    "hovermode": "closest",
                    "mapbox": {
                      "style": "light"
                    },
                    "paper_bgcolor": "white",
                    "plot_bgcolor": "#E5ECF6",
                    "polar": {
                      "angularaxis": {
                        "gridcolor": "white",
                        "linecolor": "white",
                        "ticks": ""
                      },
                      "bgcolor": "#E5ECF6",
                      "radialaxis": {
                        "gridcolor": "white",
                        "linecolor": "white",
                        "ticks": ""
                      }
                    },
                    "scene": {
                      "xaxis": {
                        "backgroundcolor": "#E5ECF6",
                        "gridcolor": "white",
                        "gridwidth": 2,
                        "linecolor": "white",
                        "showbackground": true,
                        "ticks": "",
                        "zerolinecolor": "white"
                      },
                      "yaxis": {
                        "backgroundcolor": "#E5ECF6",
                        "gridcolor": "white",
                        "gridwidth": 2,
                        "linecolor": "white",
                        "showbackground": true,
                        "ticks": "",
                        "zerolinecolor": "white"
                      },
                      "zaxis": {
                        "backgroundcolor": "#E5ECF6",
                        "gridcolor": "white",
                        "gridwidth": 2,
                        "linecolor": "white",
                        "showbackground": true,
                        "ticks": "",
                        "zerolinecolor": "white"
                      }
                    },
                    "shapedefaults": {
                      "line": {
                        "color": "#2a3f5f"
                      }
                    },
                    "ternary": {
                      "aaxis": {
                        "gridcolor": "white",
                        "linecolor": "white",
                        "ticks": ""
                      },
                      "baxis": {
                        "gridcolor": "white",
                        "linecolor": "white",
                        "ticks": ""
                      },
                      "bgcolor": "#E5ECF6",
                      "caxis": {
                        "gridcolor": "white",
                        "linecolor": "white",
                        "ticks": ""
                      }
                    },
                    "title": {
                      "x": 0.05
                    },
                    "xaxis": {
                      "automargin": true,
                      "gridcolor": "white",
                      "linecolor": "white",
                      "ticks": "",
                      "title": {
                        "standoff": 15
                      },
                      "zerolinecolor": "white",
                      "zerolinewidth": 2
                    },
                    "yaxis": {
                      "automargin": true,
                      "gridcolor": "white",
                      "linecolor": "white",
                      "ticks": "",
                      "title": {
                        "standoff": 15
                      },
                      "zerolinecolor": "white",
                      "zerolinewidth": 2
                    }
                  }
                },
                "title": {
                  "text": "K-NN (k=1) 결정 경계 - 과적합 예시"
                },
                "width": 800,
                "xaxis": {
                  "title": {
                    "text": "첫 번째 주성분 (PCA 1)"
                  }
                },
                "yaxis": {
                  "title": {
                    "text": "두 번째 주성분 (PCA 2)"
                  }
                }
              }
            }
          },
          "metadata": {},
          "output_type": "display_data"
        },
        {
          "data": {
            "application/vnd.plotly.v1+json": {
              "config": {
                "plotlyServerURL": "https://plot.ly"
              },
              "data": [
                {
                  "colorscale": [
                    [
                      0,
                      "lightcoral"
                    ],
                    [
                      1,
                      "lightskyblue"
                    ]
                  ],
                  "opacity": 0.5,
                  "showscale": false,
                  "type": "contour",
                  "x": {
                    "bdata": "OLBCBVPzEcDSSdye7IwRwGzjdTiGJhHABn0P0h/AEMCgFqlruVkQwHRghQqm5g/AqJO4PdkZD8DcxutwDE0OwBD6HqQ/gA3ARC1S13KzDMB4YIUKpuYLwKyTuD3ZGQvA4MbrcAxNCsAU+h6kP4AJwEgtUtdyswjAfGCFCqbmB8Cwk7g92RkHwOTG63AMTQbAGPoepD+ABcBMLVLXcrMEwIBghQqm5gPAtJO4PdkZA8DoxutwDE0CwBz6HqQ/gAHAUC1S13KzAMAIwQoVTM3/v3AncXuyM/6/2I3X4Ria/L9A9D1IfwD7v6hapK7lZvm/EMEKFUzN9794J3F7sjP2v+CN1+EYmvS/SPQ9SH8A87+wWqSu5WbxvzCCFSqYmu+/AE/i9mRn7L/QG6/DMTTpv6Doe5D+AOa/cLVIXcvN4r+ABCtUMDXfvyCexO3Jzti/wDdeh2No0r/Aou9B+gPIvwCsRepabra/AGyfevVZiT8Ah+1I2MS8P0CQQ/E4L8s/gC4I3wL+0z/glG5FaWTaP6B96tVnZeA/0LAdCZuY4z8A5FA8zsvmPzAXhG8B/+k/YEq3ojQy7T/IPvXqszLwP2DYjoRNzPE/+HEoHudl8z+QC8K3gP/0PyilW1EamfY/wD716rMy+D9Y2I6ETcz5P/BxKB7nZfs/iAvCt4D//D8gpVtRGpn+P1yfevVZGQBAKGxHwibmAED0OBSP87IBQMAF4VvAfwJAjNKtKI1MA0BYn3r1WRkEQCRsR8Im5gRA8DgUj/OyBUC8BeFbwH8GQIjSrSiNTAdAVJ969VkZCEAgbEfCJuYIQOw4FI/zsglAuAXhW8B/CkCE0q0ojUwLQFCfevVZGQxAHGxHwibmDEDoOBSP87INQLQF4VvAfw5AgNKtKI1MD0CmT736rAwQQAy2I2ETcxBAchyKx3nZEEDYgvAt4D8RQD7pVpRGphFApE+9+qwMEkAKtiNhE3MSQHAcisd52RJA1oLwLeA/E0A86VaURqYTQKJPvfqsDBRA",
                    "dtype": "f8"
                  },
                  "y": {
                    "bdata": "uyESOtSMD8DuVEVtB8AOwCGIeKA68w3AVLur020mDcCH7t4GoVkMwLohEjrUjAvA7VRFbQfACsAgiHigOvMJwFO7q9NtJgnAhu7eBqFZCMC5IRI61IwHwOxURW0HwAbAH4h4oDrzBcBSu6vTbSYFwIXu3gahWQTAuCESOtSMA8DrVEVtB8ACwB6IeKA68wHAUbur020mAcCE7t4GoVkAwG5DJHSoGf+/1KmK2g6A/b86EPFAdeb7v6B2V6fbTPq/Bt29DUKz+L9sQyR0qBn3v9KpitoOgPW/OBDxQHXm87+edlen20zyvwTdvQ1Cs/C/1IZI6FAz7r+gUxW1HQDrv2wg4oHqzOe/OO2uTreZ5L8EunsbhGbhv6ANkdChZty/OKcqajsA1r+ggYgHqjPPv9C0uzrdZsK/AKC7t0Fopr9Ak3d78cqsP5CxqiuJ/8M/OL87/Cpm0D+oJaJikczWPwiMCMn3Mt0/NHm3F6/M4T9srOpK4v/kP6TfHX4VM+g/1BJRsUhm6z8ERoTke5nuP56824tX5vA/OlZ1JfF/8j/S7w6/ihn0P2qJqFgks/U/BiNC8r1M9z+ivNuLV+b4PzpWdSXxf/o/0u8Ov4oZ/D9uiahYJLP9PwojQvK9TP8/Ud7txStzAEAdq7qS+D8BQOt3h1/FDAJAuURULJLZAkCFESH5XqYDQFHe7cUrcwRAH6u6kvg/BUDtd4dfxQwGQLlEVCyS2QZAhREh+V6mB0BT3u3FK3MIQCGrupL4PwlA7XeHX8UMCkC5RFQsktkKQIcRIflepgtAVd7txStzDEAhq7qS+D8NQO13h1/FDA5Au0RULJLZDkCJESH5XqYPQCrv9uKVORBA",
                    "dtype": "f8"
                  },
                  "z": {
                    "bdata": "AQEBAQEBAQEBAQEBAQEBAQEBAQEBAQEBAQEBAQEBAQEBAQEBAQEBAQEBAQEBAQEBAQEBAQEBAQEBAQEBAQEBAQEBAQEBAQEBAQEBAQEBAQEBAQEBAQEBAQEBAQEBAQEBAQEBAQEBAQEBAQEBAQEBAQEBAQEBAQEBAQEBAQEBAQEBAQEBAQEBAQEBAQEBAQEBAQEBAQEBAQEBAQEBAQEBAQEBAQEBAQEBAQEBAQEBAQEBAQEBAQEBAQEBAQEBAQEBAQEBAQEBAQEBAQEBAQEBAQEBAQEBAQEBAQEBAQEBAQEBAQEBAQEBAQEBAQEBAQEBAQEBAQEBAQEBAQEBAQEBAQEBAQEBAQEBAQEBAQEBAQEBAQEBAQEBAQEBAQEBAQEBAQEBAQEBAQEBAQEBAQEBAQEBAQEBAQEBAQEBAQEBAQEBAQEBAQEBAQEBAQEBAQEBAQEBAQEBAQEBAQEBAQEBAQEBAQEBAQEBAQEBAQEBAQEBAQEBAQEBAQEBAQEBAQEBAQEBAQEBAQEBAQEBAQEBAQEBAQEBAQEBAQEBAQEBAQEBAQEBAQEBAQEBAQEBAQEBAQEBAQEBAQEBAQEBAQEBAQEBAQEBAQEBAQEBAQEBAQEBAQEBAQEBAQEBAQEBAQEBAQEBAQEBAQEBAQEBAQEBAQEBAQEBAQEBAQEBAQEBAQEBAQEBAQEBAQEBAQEBAQEBAQEBAQEBAQEBAQEBAQEBAQEBAQEBAQEBAQEBAQEBAQEBAQEBAQEBAQEBAQEBAQEBAQEBAQEBAQEBAQEBAQEBAQEBAQEBAQEBAQEBAQEBAQEBAQEBAQEBAQEBAQEBAQEBAQEBAQEBAQEBAQEBAQEBAQEBAQEBAQEBAQEBAQEBAQEBAQEBAQEBAQEBAQEBAQEBAQEBAQEBAQEBAQEBAQEBAQEBAQEBAQEBAQEBAQEBAQEBAQEBAQEBAQEBAQEBAQEBAQEBAQEBAQEBAQEBAQEBAQEBAQEBAQEBAQEBAQEBAQEBAQEBAQEBAQEBAQEBAQEBAQEBAQEBAQEBAQEBAQEBAQEBAQEBAQEBAQEBAQEBAQEBAQEBAQEBAQEBAQEBAQEBAQEBAQEBAQEBAQEBAQEBAQEBAQEBAQEBAQEBAQEBAQEBAQEBAQEBAQEBAQEBAQEBAQEBAQEBAQEBAQEBAQEBAQEBAQEBAQEBAQEBAQEBAQEBAQEBAQEBAQEBAQEBAQEBAQEBAQEBAQEBAQEBAQEBAQEBAQEBAQEBAQEBAQEBAQEBAQEBAQEBAQEBAQEBAQEBAAAAAQEBAQEBAQEBAQEBAQEBAQEBAQEBAQEBAQEBAQEBAQEBAQEBAQEBAQEBAQEBAQEBAQEBAQEBAQEBAQEBAQEBAQEBAQEBAQEBAQEBAQEBAQEBAQEBAQEBAQEBAQEAAAAAAAABAQEBAQEBAQEBAQEBAQEBAQEBAQEBAQEBAQEBAQEBAQEBAQEBAQEBAQEBAQEBAQEBAQEBAQEBAQEBAQEBAQEBAQEBAQEBAQEBAQEBAQEBAQEBAQEBAQEBAQAAAAAAAAAAAAEBAQEBAQEBAQEBAQEBAQEBAQEBAQEBAQEBAQEBAQEBAQEBAQEBAQEBAQEBAQEBAQEBAQEBAQEBAQEBAQEBAQEBAQEBAQEBAQEBAQEBAQEBAQEAAQEBAAAAAAAAAAAAAAAAAAEBAQEBAQEBAQEBAQEBAQEBAQEBAQEBAQEBAQEBAQEBAQEBAQEBAQEBAQEBAQEBAQEBAQEBAQEBAQEBAQEBAQEBAQEBAQEBAQEBAQEBAQABAAAAAAAAAAAAAAAAAAAAAAAAAAABAQEBAQEBAQEBAQEBAQEBAQEBAQEBAQEBAQEBAQEBAQEBAQEBAQEBAQEBAQEBAQEBAQEBAQEBAQEBAQEBAQEBAQEBAQEBAQEBAAEAAAAAAAAAAAAAAAAAAAAAAAAAAAAAAAABAQEBAQEBAQEBAQEBAQEBAQEBAQEBAQEBAQEBAQEBAQEBAQEBAQEBAQEBAQEBAQEBAQEBAQEBAQEBAQEBAQEBAQEBAQEAAAAAAAAAAAAAAAAAAAAAAAAAAAAAAAAAAAAAAAAAAQEBAQEBAQEBAQEBAQEBAQEBAQEBAQEBAQEBAQEBAQEBAQEBAQEBAQEBAQEBAQEBAQEBAQEBAQEBAQEBAQEBAQEAAAAAAAAAAAAAAAAAAAAAAAAAAAAAAAAAAAAAAAAAAAAAAQEBAQEBAQEBAQEBAQEBAQEBAQEBAQEBAQEBAQEBAQEBAQEBAQEBAQEBAQEBAQEBAQEBAQEBAQEBAQEBAAAAAAAAAAAAAAAAAAAAAAAAAAAAAAAAAAAAAAAAAAAAAAAAAAABAQEBAQEBAQEBAQEBAQEBAQEBAQEBAQEBAQEBAQEBAQEBAQEBAQEBAQEBAQEBAQEBAQEBAQEBAQABAAAAAAAAAAAAAAAAAAAAAAAAAAAAAAAAAAAAAAAAAAAAAAAAAAAAAAABAQEBAQEBAQEBAQEBAQEBAQEBAQEBAQEBAQEBAQEBAQEBAQEBAQEBAQEBAQEBAQEBAQEBAQEAAAAAAAAAAAAAAAAAAAAAAAAAAAAAAAAAAAAAAAAAAAAAAAAAAAAAAAAAAAEBAQEBAQEBAQEBAQEBAQEBAQEBAQEBAQEBAQEBAQEBAQEBAQEBAQEBAQEBAQEBAQEBAAAAAAAAAAAAAAAAAAAAAAAAAAAAAAAAAAAAAAAAAAAAAAAAAAAAAAAAAAAAAAABAQEAAQAAAAEBAQEBAQEBAQEBAQEBAQEBAQEBAQEBAQEBAQEBAQEBAQEBAQEBAQEAAAAAAAAAAAAAAAAAAAAAAAAAAAAAAAAAAAAAAAAAAAAAAAAAAAAAAAAAAAAAAAAAAAAAAAAAAAABAQEBAQEBAQEBAQEBAQEBAQEBAQEBAQEBAQEBAQEBAQEBAQABAQAAAAAAAAAAAAAAAAAAAAAAAAAAAAAAAAAAAAAAAAAAAAAAAAAAAAAAAAAAAAAAAAAAAAAAAAAAAAAAAQEBAQEBAQEBAQEBAQEBAQEBAQEBAQEBAQEBAQEBAQABAAEAAAAAAAAAAAAAAAAAAAAAAAAAAAAAAAAAAAAAAAAAAAAAAAAAAAAAAAAAAAAAAAAAAAAAAAAAAAAAAAAAAAABAQEBAQEBAQEBAQEBAQEBAQEBAQEBAQEBAQEBAQABAAAAAAAAAAAAAAAAAAAAAAAAAAAAAAAAAAAAAAAAAAAAAAAAAAAAAAAAAAAAAAAAAAAAAAAAAAAAAAAAAAAAAAEBAQEBAQEBAQEBAQEBAQEBAQEBAQEBAQEBAQEBAAAAAAAAAAAAAAAAAAAAAAAAAAAAAAAAAAAAAAAAAAAAAAAAAAAAAAAAAAAAAAAAAAAAAAAAAAAAAAAAAAAAAAAAAAAAAQEBAQEBAQEBAQEBAQEBAQEBAQEBAQEBAQEBAAAAAAAAAAAAAAAAAAAAAAAAAAAAAAAAAAAAAAAAAAAAAAAAAAAAAAAAAAAAAAAAAAAAAAAAAAAAAAAAAAAAAAAAAAAAAAABAAAAAAEBAQEBAQAAAQEBAQEBAQEBAQAAAAAAAAAAAAAAAAAAAAAAAAAAAAAAAAAAAAAAAAAAAAAAAAAAAAAAAAAAAAAAAAAAAAAAAAAAAAAAAAAAAAAAAAAAAAAAAAAAAAAAAQEBAQEBAAAAAAEBAQEBAQEAAAAAAAAAAAAAAAAAAAAAAAAAAAAAAAAAAAAAAAAAAAAAAAAAAAAAAAAAAAAAAAAAAAAAAAAAAAAAAAAAAAAAAAAAAAAAAAAAAAAAAAAAAAABAQAAAAAAAAABAQEBAQAAAAAAAAAAAAAAAAAAAAAAAAAAAAAAAAAAAAAAAAAAAAAAAAAAAAAAAAAAAAAAAAAAAAAAAAAAAAAAAAAAAAAAAAAAAAAAAAAAAAAAAAAAAAAAAAAAAAAAAAAAAAEBAAAAAAAAAAAAAAAAAAAAAAAAAAAAAAAAAAAAAAAAAAAAAAAAAAAAAAAAAAAAAAAAAAAAAAAAAAAAAAAAAAAAAAAAAAAAAAAAAAAAAAAAAAAAAAAAAAAAAAAAAAAAAAAAAAAAAAAAAAAAAAAAAAAAAAAAAAAAAAAAAAAAAAAAAAAAAAAAAAAAAAAAAAAAAAAAAAAAAAAAAAAAAAAAAAAAAAAAAAAAAAAAAAAAAAAAAAAAAAAAAAAAAAAAAAAAAAEAAAAAAAAAAAAAAAAAAAAAAAAAAAAAAAAAAAAAAAAAAAAAAAAAAAAAAAAAAAAAAAAAAAAAAAAAAAAAAAAAAAAAAAAAAAAAAAAAAAAAAAAAAAAAAAAAAAAAAAAAAAAAAQEAAAAAAAAAAAAAAAAAAAAAAAAAAAAAAAAAAAAAAAAAAAAAAAAAAAAAAAAAAAAAAAAAAAAAAAAAAAAAAAAAAAAAAAAAAAAAAAAAAAAAAAAAAAAAAAAAAAAAAAAAAAAAAAAAAAAAAAAAAAAAAAAAAAAAAAAAAAAAAAAAAAAAAAAAAAAAAAAAAAAAAAAAAAAAAAAAAAAAAAAAAAAAAAAAAAAAAAAAAAAAAAAAAAAAAAAAAAAAAAAAAAAAAAAAAAAAAAAAAAAAAAAAAAAAAAAAAAAAAAAAAAAAAAAAAAAAAAAAAAAAAAAAAAAAAAAAAAAAAAAAAAAAAAAAAAAAAAAAAAAAAAAAAAAAAAAAAAAAAAAAAAAAAAAAAAAAAAAAAAAAAAAAAAAAAAAAAAAAAAAAAAAAAAAAAAAAAAAAAAAAAAAAAAAAAAAAAAAAAAAAAAAAAAAAAAAAAAAAAAAAAAAAAAAAAAAAAAAAAAAAAAAAAAAAAAAAAAAAAAAAAAAAAAAAAAAAAAAAAAAAAAAAAAAAAAAAAAAAAAAAAAAAAAAAAAAAAAAAAAAAAAAAAAAAAAAAAAAAAAAAAAAAAAAAAAAAAAAAAAAAAAAAAAAAAAAAAAAAAAAAAAAAAAAAAAAAAAAAAAAAAAAAAAAAAAAAAAAAAAAAAAAAAAAAAAAAAAAAAAAAAAAAAAAAAAAAAAAAAAAAAAAAAAAAAAAAAAAAAAAAAAAAAAAAAAAAAAAAAAAAAAAAAAAAAAAAAAAAAAAAAAAAAAAAAAAAAAAAAAAAAAAAAAAAAAAAAAAAAAAAAAAAAAAAAAAAAAAAAAAAAAAAAAAAAAAAAAAAAAAAAAAAAAAAAAAAAAAAAAAAAAAAAAAAAAAAAAAAAAAAAAAAAAAAAAAAAAAAAAAAAAAAAAAAAAAAAAAAAAAAAAAAAAAAAAAAAAAAAAAAAAAAAAAAAAAAAAAAAAAAAAAAAAAAAAAAAAAAAAAAAAAAAAAAAAAAAAAAAAAAAAAAAAAAAAAAAAAAAAAAAAAAAAAAAAAAAAAAAAAAAAAAAAAAAAAAAAAAAAAAAAAAAAAAAAAAAAAAAAAAAAAAAAAAAAAAAAAAAAAAAAAAAAAAAAAAAAAAAAAAAAAAAAAAAAAAAAAAAAAAAAAAAAAAAAAAAAAAAAAAAAAAAAAAAAAAAAAAAAAAAAAAAAAAAAAAAAAAAAAAAAAAAAAAAAAAAAAAAAAAAAAAAAAAAAAAAAAAAAAAAAAAAAAAAAAAAAAAAAAAAAAAAAAAAAAAAAAAAAAAAAAAAAAAAAAAAAAAAAAAAAAAAAAAAAAAAAAAAAAAAAAAAAAAAAAAAAAAAAAAAAAAAAAAAAAAAAAAAAAAAAAAAAAAAAAAAAAAAAAAAAAAAAAAAAAAAAAAAAAAAAAAAAAAAAAAAAAAAAAAAAAAAAAAAAAAAAAAAAAAAAAAAAAAAAAAAAAAAAAAAAAAAAAAAAAAAAAAAAAAAAAAAAAAAAAAAAAAAAAAAAAAAAAAAAAAAAAAAAAAAAAAAAAAAAAAAAAAAAAAAAAAAAAAAAAAAAAAAAAAAAAAAAAAAAAAAAAAAAAAAAAAAAAAAAAAAAAAAAAAAAAAAAAAAAAAAAAAAAAAAAAAAAAAAAAAAAAAAAAAAAAAAAAAAAAAAAAAAAAAAAAAAAAAAAAAAAAAAAAAAAAAAAAAAAAAAAAAAAAAAAAAAAAAAAAAAAAAAAAAAAAAAAAAAAAAAAAAAAAAAAAAAAAAAAAAAAAAAAAAAAAAAAAAAAAAAAAAAAAAAAAAAAAAAAAAAAAAAAAAAAAAAAAAAAAAAAAAAAAAAAAAAAAAAAAAAAAAAAAAAAAAAAAAAAAAAAAAAAAAAAAAAAAAAAAAAAAAAAAAAAAAAAAAAAAAAAAAAAAAAAAAAAAAAAAAAAAAAAAAAAAAAAAAAAAAAAAAAAAAAAAAAAAAAAAAAAAAAAAAAAAAAAAAAAAAAAAAAAAAAAAAAAAAAAAAAAAAAAAAAAAAAAAAAAAAAAAAAAAAAAAAAAAAAAAAAAAAAAAAAAAAAAAAAAAAAAAAAAAAAAAAAAAAAAAAAAAAAAAAAAAAAAAAAAAAAAAAAAAAAAAAAAAAAAAAAAAAAAAAAAAAAAAAAAAAAAAAAAAAAAAAAAAAAAAAAAAAAAAAAAAAAAAAAAAAAAAAAAAAAAAAAAAAAAAAAAAAAAAAAAAAAAAAAAAAAAAAAAAAAAAAAAAAAAAAAAAAAAAAAAAAAAAAAAAAAAAAAAAAAAAAAAAAAAAAAAAAAAAAAAAAAAAAAAAAAAAAAAAAAAAAAAAAAAAAAAAAAAAAAAAAAAAAAAAAAAAAAAAAAAAAAAAAAAAAAAAAAAAAAAAAAAAAAAAAAAAAAAAAAAAAAAAAAAAAAAAAAAAAAAAAAAAAAAAAAAAAAAAAAAAAAAAAAAAAAAAAAAAAAAAAAAAAAAAAAAAAAAAAAAAAAAAAAAAAAAAAAAAAAAAAAAAAAAAAAAAAAAAAAAAAAAAAAAAAAAAAAAAAAAAAAAAAAAAAAAAAAAAAAAAAAAAAAAAAAAAAAAAAAAAAAAAAAAAAAAAAAAAAAAAAAAAAAAAAAAAAAAAAAAAAAAAAAAAAAAAAAAAAAAAAAAAAAAAAAAAAAAAAAAAAAAAAAAAAAAAAAAAAAAAAAAAAAAAAAAAAAAAAAAAAAAAAAAAAAAAAAAAAAAAAAAAAAAAAAAAAAAAAAAAAAAAAAAAAAAAAAAAAAAAAAAAAAAAAAAAAAAAAAAAAAAAAAAAAAAAAAAAAAAAAAAAAAAAAAAAAAAAAAAAAAAAAAAAAAAAAAAAAAAAAAAAAAAAAAAAAAAAAAAAAAAAAAAAAAAAAAAAAAAAAAAAAAAAAAAAAAAAAAAAAAAAAAAAAAAAAAAAAAAAAAAAAAAAAAAAAAAAAAAAAAAAAAAAAAAAAAAAAAAAAAAAAAAAAAAAAAAAAAAAAAAAAAAAAAAAAAAAAAAAAAAAAAAAAAAAAAAAAAAAAAAAAAAAAAAAAAAAAAAAAAAAAAAAAAAAAAAAAAAAAAAAAAAAAAAAAAAAAAAAAAAAAAAAAAAAAAAAAAAAAAAAAAAAAAAAAAAAAAAAAAAAAAAAAAAAAAAAAAAAAAAAAAAAAAAAAAAAAAAAAAAAAAAAAAAAAAAAAAAAAAAAAAAAAAAAAAAAAAAAAAAAAAAAAAAAAAAAAAAAAAAAAAAAAAAAAAAAAAAAAAAAAAAAAAAAAAAAAAAAAAAAAAAAAAAAAAAAAAAAAAAAAAAAAAAAAAAAAAAAAAAAAAAAAAAAAAAAAAAAAAAAAAAAAAAAAAAAAAAAAAAAAAAAAAAAAAAAAAAAAAAAAAAAAAAAAAAAAAAAAAAAAAAAAAAAAAAAAAAAAAAAAAAAAAAAAAAAAAAAAAAAAAAAAAAAAAAAAAAAAAAAAAAAAAAAAAAAAAAAAAAAAAAAAAAAAAAAAAAAAAAAAAAAAAAAAAAAAAAAAAAAAAAAAAAAAAAAAAAAAAAAAAAAAAAAAAAAAAAAAAAAAAAAAAAAAAAAAAAAAAAAAAAAAAAAAAAAAAAAAAAAAAAAAAAAAAAAAAAAAAAAAAAAAAAAAAAAAAAAAAAAAAAAAAAAAAAAAAAAAAAAAAAAAAAAAAAAAAAAAAAAAAAAAAAAAAAAAAAAAAAAAAAAAAAAAAAAAAAAAAAAAAAAAAAAAAAAAAAAAAAAAAAAAAAAAAAAAAAAAAAAAAAAAAAAAAAAAAAAAAAAAAAAAAAAAAAAAAAAAAAAAAAAAAAAAAAAAAAAAAAAAAAAAAAAAAAAAAAAAAAAAAAAAAAAAAAAAAAAAAAAAAAAAAAAAAAAAAAAAAAAAAAAAAAAAAAAAAAAAAAAAAAAAAAAAAAAAAAAAAAAAAAAAAAAAAAAAAAAAAAAAAAAAAAAAAAAAAAAAAAAAAAAAAAAAAAAAAAAAAAAAAAAAAAAAAAAAAAAAAAAAAAAAAAAAAAAAAAAAAAAAAAAAAAAAAAAAAAAAAAAAAAAAAAAAAAAAAAAAAAAAAAAAAAAAAAAAAAAAAAAAAAAAAAAAAAAAAAAAAAAAAAAAAAAAAAAAAAAAAAAAAAAAAAAAAAAAAAAAAAAAAAAAAAAAAAAAAAAAAAAAAAAAAAAAAAAAAAAAAAAAAAAAAAAAAAAAAAAAAAAAAAAAAAAAAAAAAAAAAAAAAAAAAAAAAAAAAAAAAAAAAAAAAAAAAAAAAAAAAAAAAAAAAAAAAAAAAAAAAAAAAAAAAAAAAAAAAAAAAAAAAAAAAAAAAAAAAAAAAAAAAAAAAAAAAAAAAAAAAAAAAAAAAAAAAAAAAAAAAAAAAAAAAAAAAAAAAAAAAAAAAAAAAAAAAAAAAAAAAAAAAAAAAAAAAAAAAAAAAAAAAAAAAAAAAAAAAAAAAAAAAAAAAAAAAAAAAAAAAAAAAAAAAAAAAAAAAAAAAAAAAAAAAAAAAAAAAAAAAAAAAAAAAAAAAAAAAAAAAAAAAAAAAAAAAAAAAAAAAAAAAAAAAAAAAAAAAAAAAAAAAAAAAAAAAAAAAAAAAAAAAAAAAAAAAAAAAAAAAAAAAAAAAAAAAAAAAAAAAAAAAAAAAAAAAAAAAAAAAAAAAAAAAAAAAAAAAAAAAAAAAAAAAAAAAAAAAAAAAAAAAAAAAAAAAAAAAAAAAAAAAAAAAAAAAAAAAAAAAAAAAAAAAAAAAAAAAAAAAAAAAAAAAAAAAAAAAAAAAAAAAAAAAAAAAAAAAAAAAAAAAAAAAAAAAAAAAAAAAAAAAAAAAAAAAAAAAAAAAAAAAAAAAAAAAAAAAAAAAAAAAAAAAAAAAAAAAAAAAAAAAAAAAAAAAAAAAAAAAAAAAAAAAAAAAAAAAAAAAAAAAAAAAAAAAAAAAAAAAAAAAAAAAAAAAAAAAAAAAAAAAAAAAAAAAAAAAAAAAAAAAAAAAAAAAAAAAAAAAAAAAAAAAAAAAAAAAAAAAAAAAAAAAAAAAAAAAAAAAAAAAAAAAAAAAAAAAAAAAAAAAAAAAAAAAAAAAAAAAAAAAAAAAAAAAAAAAAAAAAAAAAAAAAAAAAAAAAAAAAAAAAAAAAAAAAAAAAAAAAAAAAAAAAAAAAAAAAAAAAAAAAAAAAAAAAAAAAAAAAAAAAAAAAAAAAAAAAAAAAAAAAAAAAAAAAAAAAAAAAAAAAAAAAAAAAAAAAAAAAAAAAAAAAAAAAAAAAAAAAAAAAAAAAAAAAAAAAAAAAAAAAAAAAAAAAAAAAAAAAAAAAAAAAAAAAAAAAAAAAAAAAAAAAAAAAAAAAAAAAAAAAAAAAAAAAAAAAAAAAAAAAAAAAAAAAAAAAAAAAAAAAAAAAAAAAAAAAAAAAAAAAAAAAAAAAAAAAAAAAAAAAAAAAAAAAAAAAAAAAAAAAAAAAAAAAAAAAAAAAAAAAAAAAAAAAAAAAAAAAAAAAAAAAAAAAAAAAAAAAAAAAAAAAAAAAAAAAAAAAAAAAAAAAAAAAAAAAAAAAAAAAAAAAAAAAAAAAAAAAAAAAAAAAAAAAAAAAAAAAAAAAAAAAAAAAAAAAAAAAAAAAAAAAAAAAAAAAAAAAAAAAAAAAAAAAAAAAAAAAAAAAAAAAAAAAAAAAAAAAAAAAAAAAAAAAAAAAAAAAAAAAAAAAAAAAAAAAAAAAAAAAAAAAAAAAAAAAAAAAAAAAAAAAAAAAAAAAAAAAAAAAAAAAAAAAAAAAAAAAAAAAAAAAAAAAAAAAAAAAAAAAAAAAAAAAAAAAAAAAAAAAAAAAAAAAAAAAAAAAAAAAAAAAAAAAAAAAAAAAAAAAAAAAAAAAAAAAAAAAAAAAAAAAAAAAAAAAAAAAAAAAAAAAAAAAAAAAAAAAAAAAAAAAAAAAAAAAAAAAAAAAAAAAAAAAAAAAAAAAAAAAAAAAAAAAAAAAAAAAAAAAAAAAAAAAAAAAAAAAAAAAAAAAAAAAAAAAAAAAAAAAAAAAAAAAAAAAAAAAAAAAAAAAAAAAAAAAAAAAAAAAAAAAAAAAAAAAAAAAAAAAAAAAAAAAAAAAAAAAAAAAAAAAAAAAAAAAAAAAAAAAAAAAAA",
                    "dtype": "i1",
                    "shape": "81, 96"
                  }
                },
                {
                  "marker": {
                    "color": "blue",
                    "opacity": 0.7,
                    "size": 6
                  },
                  "mode": "markers",
                  "name": "No Churn",
                  "showlegend": true,
                  "type": "scatter",
                  "x": {
                    "bdata": "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",
                    "dtype": "f8"
                  },
                  "y": {
                    "bdata": "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",
                    "dtype": "f8"
                  }
                },
                {
                  "marker": {
                    "color": "red",
                    "opacity": 0.7,
                    "size": 6
                  },
                  "mode": "markers",
                  "name": "Churn",
                  "showlegend": true,
                  "type": "scatter",
                  "x": {
                    "bdata": "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",
                    "dtype": "f8"
                  },
                  "y": {
                    "bdata": "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",
                    "dtype": "f8"
                  }
                }
              ],
              "layout": {
                "height": 600,
                "legend": {
                  "title": {
                    "text": "Churn"
                  }
                },
                "template": {
                  "data": {
                    "bar": [
                      {
                        "error_x": {
                          "color": "#2a3f5f"
                        },
                        "error_y": {
                          "color": "#2a3f5f"
                        },
                        "marker": {
                          "line": {
                            "color": "#E5ECF6",
                            "width": 0.5
                          },
                          "pattern": {
                            "fillmode": "overlay",
                            "size": 10,
                            "solidity": 0.2
                          }
                        },
                        "type": "bar"
                      }
                    ],
                    "barpolar": [
                      {
                        "marker": {
                          "line": {
                            "color": "#E5ECF6",
                            "width": 0.5
                          },
                          "pattern": {
                            "fillmode": "overlay",
                            "size": 10,
                            "solidity": 0.2
                          }
                        },
                        "type": "barpolar"
                      }
                    ],
                    "carpet": [
                      {
                        "aaxis": {
                          "endlinecolor": "#2a3f5f",
                          "gridcolor": "white",
                          "linecolor": "white",
                          "minorgridcolor": "white",
                          "startlinecolor": "#2a3f5f"
                        },
                        "baxis": {
                          "endlinecolor": "#2a3f5f",
                          "gridcolor": "white",
                          "linecolor": "white",
                          "minorgridcolor": "white",
                          "startlinecolor": "#2a3f5f"
                        },
                        "type": "carpet"
                      }
                    ],
                    "choropleth": [
                      {
                        "colorbar": {
                          "outlinewidth": 0,
                          "ticks": ""
                        },
                        "type": "choropleth"
                      }
                    ],
                    "contour": [
                      {
                        "colorbar": {
                          "outlinewidth": 0,
                          "ticks": ""
                        },
                        "colorscale": [
                          [
                            0,
                            "#0d0887"
                          ],
                          [
                            0.1111111111111111,
                            "#46039f"
                          ],
                          [
                            0.2222222222222222,
                            "#7201a8"
                          ],
                          [
                            0.3333333333333333,
                            "#9c179e"
                          ],
                          [
                            0.4444444444444444,
                            "#bd3786"
                          ],
                          [
                            0.5555555555555556,
                            "#d8576b"
                          ],
                          [
                            0.6666666666666666,
                            "#ed7953"
                          ],
                          [
                            0.7777777777777778,
                            "#fb9f3a"
                          ],
                          [
                            0.8888888888888888,
                            "#fdca26"
                          ],
                          [
                            1,
                            "#f0f921"
                          ]
                        ],
                        "type": "contour"
                      }
                    ],
                    "contourcarpet": [
                      {
                        "colorbar": {
                          "outlinewidth": 0,
                          "ticks": ""
                        },
                        "type": "contourcarpet"
                      }
                    ],
                    "heatmap": [
                      {
                        "colorbar": {
                          "outlinewidth": 0,
                          "ticks": ""
                        },
                        "colorscale": [
                          [
                            0,
                            "#0d0887"
                          ],
                          [
                            0.1111111111111111,
                            "#46039f"
                          ],
                          [
                            0.2222222222222222,
                            "#7201a8"
                          ],
                          [
                            0.3333333333333333,
                            "#9c179e"
                          ],
                          [
                            0.4444444444444444,
                            "#bd3786"
                          ],
                          [
                            0.5555555555555556,
                            "#d8576b"
                          ],
                          [
                            0.6666666666666666,
                            "#ed7953"
                          ],
                          [
                            0.7777777777777778,
                            "#fb9f3a"
                          ],
                          [
                            0.8888888888888888,
                            "#fdca26"
                          ],
                          [
                            1,
                            "#f0f921"
                          ]
                        ],
                        "type": "heatmap"
                      }
                    ],
                    "histogram": [
                      {
                        "marker": {
                          "pattern": {
                            "fillmode": "overlay",
                            "size": 10,
                            "solidity": 0.2
                          }
                        },
                        "type": "histogram"
                      }
                    ],
                    "histogram2d": [
                      {
                        "colorbar": {
                          "outlinewidth": 0,
                          "ticks": ""
                        },
                        "colorscale": [
                          [
                            0,
                            "#0d0887"
                          ],
                          [
                            0.1111111111111111,
                            "#46039f"
                          ],
                          [
                            0.2222222222222222,
                            "#7201a8"
                          ],
                          [
                            0.3333333333333333,
                            "#9c179e"
                          ],
                          [
                            0.4444444444444444,
                            "#bd3786"
                          ],
                          [
                            0.5555555555555556,
                            "#d8576b"
                          ],
                          [
                            0.6666666666666666,
                            "#ed7953"
                          ],
                          [
                            0.7777777777777778,
                            "#fb9f3a"
                          ],
                          [
                            0.8888888888888888,
                            "#fdca26"
                          ],
                          [
                            1,
                            "#f0f921"
                          ]
                        ],
                        "type": "histogram2d"
                      }
                    ],
                    "histogram2dcontour": [
                      {
                        "colorbar": {
                          "outlinewidth": 0,
                          "ticks": ""
                        },
                        "colorscale": [
                          [
                            0,
                            "#0d0887"
                          ],
                          [
                            0.1111111111111111,
                            "#46039f"
                          ],
                          [
                            0.2222222222222222,
                            "#7201a8"
                          ],
                          [
                            0.3333333333333333,
                            "#9c179e"
                          ],
                          [
                            0.4444444444444444,
                            "#bd3786"
                          ],
                          [
                            0.5555555555555556,
                            "#d8576b"
                          ],
                          [
                            0.6666666666666666,
                            "#ed7953"
                          ],
                          [
                            0.7777777777777778,
                            "#fb9f3a"
                          ],
                          [
                            0.8888888888888888,
                            "#fdca26"
                          ],
                          [
                            1,
                            "#f0f921"
                          ]
                        ],
                        "type": "histogram2dcontour"
                      }
                    ],
                    "mesh3d": [
                      {
                        "colorbar": {
                          "outlinewidth": 0,
                          "ticks": ""
                        },
                        "type": "mesh3d"
                      }
                    ],
                    "parcoords": [
                      {
                        "line": {
                          "colorbar": {
                            "outlinewidth": 0,
                            "ticks": ""
                          }
                        },
                        "type": "parcoords"
                      }
                    ],
                    "pie": [
                      {
                        "automargin": true,
                        "type": "pie"
                      }
                    ],
                    "scatter": [
                      {
                        "fillpattern": {
                          "fillmode": "overlay",
                          "size": 10,
                          "solidity": 0.2
                        },
                        "type": "scatter"
                      }
                    ],
                    "scatter3d": [
                      {
                        "line": {
                          "colorbar": {
                            "outlinewidth": 0,
                            "ticks": ""
                          }
                        },
                        "marker": {
                          "colorbar": {
                            "outlinewidth": 0,
                            "ticks": ""
                          }
                        },
                        "type": "scatter3d"
                      }
                    ],
                    "scattercarpet": [
                      {
                        "marker": {
                          "colorbar": {
                            "outlinewidth": 0,
                            "ticks": ""
                          }
                        },
                        "type": "scattercarpet"
                      }
                    ],
                    "scattergeo": [
                      {
                        "marker": {
                          "colorbar": {
                            "outlinewidth": 0,
                            "ticks": ""
                          }
                        },
                        "type": "scattergeo"
                      }
                    ],
                    "scattergl": [
                      {
                        "marker": {
                          "colorbar": {
                            "outlinewidth": 0,
                            "ticks": ""
                          }
                        },
                        "type": "scattergl"
                      }
                    ],
                    "scattermap": [
                      {
                        "marker": {
                          "colorbar": {
                            "outlinewidth": 0,
                            "ticks": ""
                          }
                        },
                        "type": "scattermap"
                      }
                    ],
                    "scattermapbox": [
                      {
                        "marker": {
                          "colorbar": {
                            "outlinewidth": 0,
                            "ticks": ""
                          }
                        },
                        "type": "scattermapbox"
                      }
                    ],
                    "scatterpolar": [
                      {
                        "marker": {
                          "colorbar": {
                            "outlinewidth": 0,
                            "ticks": ""
                          }
                        },
                        "type": "scatterpolar"
                      }
                    ],
                    "scatterpolargl": [
                      {
                        "marker": {
                          "colorbar": {
                            "outlinewidth": 0,
                            "ticks": ""
                          }
                        },
                        "type": "scatterpolargl"
                      }
                    ],
                    "scatterternary": [
                      {
                        "marker": {
                          "colorbar": {
                            "outlinewidth": 0,
                            "ticks": ""
                          }
                        },
                        "type": "scatterternary"
                      }
                    ],
                    "surface": [
                      {
                        "colorbar": {
                          "outlinewidth": 0,
                          "ticks": ""
                        },
                        "colorscale": [
                          [
                            0,
                            "#0d0887"
                          ],
                          [
                            0.1111111111111111,
                            "#46039f"
                          ],
                          [
                            0.2222222222222222,
                            "#7201a8"
                          ],
                          [
                            0.3333333333333333,
                            "#9c179e"
                          ],
                          [
                            0.4444444444444444,
                            "#bd3786"
                          ],
                          [
                            0.5555555555555556,
                            "#d8576b"
                          ],
                          [
                            0.6666666666666666,
                            "#ed7953"
                          ],
                          [
                            0.7777777777777778,
                            "#fb9f3a"
                          ],
                          [
                            0.8888888888888888,
                            "#fdca26"
                          ],
                          [
                            1,
                            "#f0f921"
                          ]
                        ],
                        "type": "surface"
                      }
                    ],
                    "table": [
                      {
                        "cells": {
                          "fill": {
                            "color": "#EBF0F8"
                          },
                          "line": {
                            "color": "white"
                          }
                        },
                        "header": {
                          "fill": {
                            "color": "#C8D4E3"
                          },
                          "line": {
                            "color": "white"
                          }
                        },
                        "type": "table"
                      }
                    ]
                  },
                  "layout": {
                    "annotationdefaults": {
                      "arrowcolor": "#2a3f5f",
                      "arrowhead": 0,
                      "arrowwidth": 1
                    },
                    "autotypenumbers": "strict",
                    "coloraxis": {
                      "colorbar": {
                        "outlinewidth": 0,
                        "ticks": ""
                      }
                    },
                    "colorscale": {
                      "diverging": [
                        [
                          0,
                          "#8e0152"
                        ],
                        [
                          0.1,
                          "#c51b7d"
                        ],
                        [
                          0.2,
                          "#de77ae"
                        ],
                        [
                          0.3,
                          "#f1b6da"
                        ],
                        [
                          0.4,
                          "#fde0ef"
                        ],
                        [
                          0.5,
                          "#f7f7f7"
                        ],
                        [
                          0.6,
                          "#e6f5d0"
                        ],
                        [
                          0.7,
                          "#b8e186"
                        ],
                        [
                          0.8,
                          "#7fbc41"
                        ],
                        [
                          0.9,
                          "#4d9221"
                        ],
                        [
                          1,
                          "#276419"
                        ]
                      ],
                      "sequential": [
                        [
                          0,
                          "#0d0887"
                        ],
                        [
                          0.1111111111111111,
                          "#46039f"
                        ],
                        [
                          0.2222222222222222,
                          "#7201a8"
                        ],
                        [
                          0.3333333333333333,
                          "#9c179e"
                        ],
                        [
                          0.4444444444444444,
                          "#bd3786"
                        ],
                        [
                          0.5555555555555556,
                          "#d8576b"
                        ],
                        [
                          0.6666666666666666,
                          "#ed7953"
                        ],
                        [
                          0.7777777777777778,
                          "#fb9f3a"
                        ],
                        [
                          0.8888888888888888,
                          "#fdca26"
                        ],
                        [
                          1,
                          "#f0f921"
                        ]
                      ],
                      "sequentialminus": [
                        [
                          0,
                          "#0d0887"
                        ],
                        [
                          0.1111111111111111,
                          "#46039f"
                        ],
                        [
                          0.2222222222222222,
                          "#7201a8"
                        ],
                        [
                          0.3333333333333333,
                          "#9c179e"
                        ],
                        [
                          0.4444444444444444,
                          "#bd3786"
                        ],
                        [
                          0.5555555555555556,
                          "#d8576b"
                        ],
                        [
                          0.6666666666666666,
                          "#ed7953"
                        ],
                        [
                          0.7777777777777778,
                          "#fb9f3a"
                        ],
                        [
                          0.8888888888888888,
                          "#fdca26"
                        ],
                        [
                          1,
                          "#f0f921"
                        ]
                      ]
                    },
                    "colorway": [
                      "#636efa",
                      "#EF553B",
                      "#00cc96",
                      "#ab63fa",
                      "#FFA15A",
                      "#19d3f3",
                      "#FF6692",
                      "#B6E880",
                      "#FF97FF",
                      "#FECB52"
                    ],
                    "font": {
                      "color": "#2a3f5f"
                    },
                    "geo": {
                      "bgcolor": "white",
                      "lakecolor": "white",
                      "landcolor": "#E5ECF6",
                      "showlakes": true,
                      "showland": true,
                      "subunitcolor": "white"
                    },
                    "hoverlabel": {
                      "align": "left"
                    },
                    "hovermode": "closest",
                    "mapbox": {
                      "style": "light"
                    },
                    "paper_bgcolor": "white",
                    "plot_bgcolor": "#E5ECF6",
                    "polar": {
                      "angularaxis": {
                        "gridcolor": "white",
                        "linecolor": "white",
                        "ticks": ""
                      },
                      "bgcolor": "#E5ECF6",
                      "radialaxis": {
                        "gridcolor": "white",
                        "linecolor": "white",
                        "ticks": ""
                      }
                    },
                    "scene": {
                      "xaxis": {
                        "backgroundcolor": "#E5ECF6",
                        "gridcolor": "white",
                        "gridwidth": 2,
                        "linecolor": "white",
                        "showbackground": true,
                        "ticks": "",
                        "zerolinecolor": "white"
                      },
                      "yaxis": {
                        "backgroundcolor": "#E5ECF6",
                        "gridcolor": "white",
                        "gridwidth": 2,
                        "linecolor": "white",
                        "showbackground": true,
                        "ticks": "",
                        "zerolinecolor": "white"
                      },
                      "zaxis": {
                        "backgroundcolor": "#E5ECF6",
                        "gridcolor": "white",
                        "gridwidth": 2,
                        "linecolor": "white",
                        "showbackground": true,
                        "ticks": "",
                        "zerolinecolor": "white"
                      }
                    },
                    "shapedefaults": {
                      "line": {
                        "color": "#2a3f5f"
                      }
                    },
                    "ternary": {
                      "aaxis": {
                        "gridcolor": "white",
                        "linecolor": "white",
                        "ticks": ""
                      },
                      "baxis": {
                        "gridcolor": "white",
                        "linecolor": "white",
                        "ticks": ""
                      },
                      "bgcolor": "#E5ECF6",
                      "caxis": {
                        "gridcolor": "white",
                        "linecolor": "white",
                        "ticks": ""
                      }
                    },
                    "title": {
                      "x": 0.05
                    },
                    "xaxis": {
                      "automargin": true,
                      "gridcolor": "white",
                      "linecolor": "white",
                      "ticks": "",
                      "title": {
                        "standoff": 15
                      },
                      "zerolinecolor": "white",
                      "zerolinewidth": 2
                    },
                    "yaxis": {
                      "automargin": true,
                      "gridcolor": "white",
                      "linecolor": "white",
                      "ticks": "",
                      "title": {
                        "standoff": 15
                      },
                      "zerolinecolor": "white",
                      "zerolinewidth": 2
                    }
                  }
                },
                "title": {
                  "text": "K-NN (k=101) 결정 경계 - 과소적합 예시"
                },
                "width": 800,
                "xaxis": {
                  "title": {
                    "text": "첫 번째 주성분 (PCA 1)"
                  }
                },
                "yaxis": {
                  "title": {
                    "text": "두 번째 주성분 (PCA 2)"
                  }
                }
              }
            }
          },
          "metadata": {},
          "output_type": "display_data"
        }
      ],
      "source": [
        "# 연습문제 5 코드\n",
        "# k=1 일 때 결정 경계 시각화\n",
        "knn_pipeline_1 = Pipeline(steps=[\n",
        "    ('preprocessor', preprocessor),\n",
        "    ('classifier', KNeighborsClassifier(n_neighbors=1))\n",
        "])\n",
        "plot_decision_boundary(knn_pipeline_1, X_train, y_train, \"K-NN (k=1) 결정 경계 - 과적합 예시\")\n",
        "\n",
        "# k=101 일 때 결정 경계 시각화\n",
        "knn_pipeline_101 = Pipeline(steps=[\n",
        "    ('preprocessor', preprocessor),\n",
        "    ('classifier', KNeighborsClassifier(n_neighbors=101))\n",
        "])\n",
        "plot_decision_boundary(knn_pipeline_101, X_train, y_train, \"K-NN (k=101) 결정 경계 - 과소적합 예시\")\n",
        "\n",
        "# 두 그래프의 차이점을 마크다운 셀에 설명해보세요.\n",
        "# 예: k=1일 때는 데이터 포인트 하나하나에 민감하게 반응하여 결정 경계가 매우 복잡하고 들쭉날쭉합니다. 이는 과적합의 특징입니다.\n",
        "# 반면 k=101일 때는 경계가 매우 부드럽고 단순해져, 두 클래스를 잘 구분하지 못하는 과소적합 경향을 보입니다."
      ]
    },
    {
      "cell_type": "code",
      "execution_count": null,
      "metadata": {},
      "outputs": [],
      "source": []
    }
  ],
  "metadata": {
    "colab": {
      "provenance": []
    },
    "kernelspec": {
      "display_name": ".venv",
      "language": "python",
      "name": "python3"
    },
    "language_info": {
      "codemirror_mode": {
        "name": "ipython",
        "version": 3
      },
      "file_extension": ".py",
      "mimetype": "text/x-python",
      "name": "python",
      "nbconvert_exporter": "python",
      "pygments_lexer": "ipython3",
      "version": "3.12.9"
    }
  },
  "nbformat": 4,
  "nbformat_minor": 0
}
