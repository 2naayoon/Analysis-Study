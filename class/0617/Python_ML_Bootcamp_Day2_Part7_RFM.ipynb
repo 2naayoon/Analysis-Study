{
 "cells": [
  {
   "cell_type": "markdown",
   "metadata": {},
   "source": [
    "# 🚀 고객 세분화를 위한 RFM 분석 (고객 성향 데이터 활용)\n",
    "\n",
    "데이터 기반 마케팅에서 가장 중요한 질문 중 하나는 '누가 우리의 진짜 고객인가?' 입니다. 모든 고객을 동일하게 대하는 것은 비효율적이며, 고객의 특성에 맞는 맞춤형 전략이 필요합니다. **RFM 분석**은 이러한 고객 세분화(Customer Segmentation)를 위한 가장 고전적이면서도 강력한 데이터 분석 기법입니다.\n",
    "\n",
    "이번 시간에는 고객의 인구통계 및 소비 패턴이 정리된 **'고객 성향 분석(Customer Personality Analysis)'** 데이터셋을 활용하여 RFM 지표를 생성하고, 이를 바탕으로 고객을 의미 있는 그룹으로 분류하는 전체 과정을 함께 진행해 보겠습니다."
   ]
  },
  {
   "cell_type": "markdown",
   "metadata": {},
   "source": [
    "### 1. RFM 분석이란?\n",
    "\n",
    "#### 🧠 개념 이해하기\n",
    "\n",
    "RFM은 고객의 가치를 평가하기 위한 세 가지 지표의 약자입니다.\n",
    "\n",
    "* **Recency (R) - 최신성**: 고객이 얼마나 **최근에** 구매했는가?\n",
    "    * 최근에 구매한 고객일수록 다시 구매할 확률이 높습니다. 고객의 현재 관심도와 활성 상태를 나타냅니다.\n",
    "* **Frequency (F) - 구매 빈도**: 고객이 얼마나 **자주** 구매했는가?\n",
    "    * 자주 구매하는 고객일수록 브랜드에 대한 충성도가 높습니다. 고객의 충성도를 나타내는 핵심 지표입니다.\n",
    "* **Monetary (M) - 구매 금액**: 고객이 얼마나 **많은 돈을** 지출했는가?\n",
    "    * 많은 금액을 지출한 고객은 비즈니스의 수익에 크게 기여하는 VIP 고객일 가능성이 높습니다."
   ]
  },
  {
   "cell_type": "markdown",
   "metadata": {},
   "source": [
    "### 2. 데이터 준비 및 전처리\n",
    "\n",
    "#### 💻 코드로 알아보기\n",
    "\n",
    "이번에 사용할 데이터셋은 각 고객의 정보와 소비 활동이 요약된 형태로, 바로 RFM 지표를 생성하기에 용이한 구조입니다. 먼저 데이터를 불러오고 기본적인 전처리를 수행합니다."
   ]
  },
  {
   "cell_type": "code",
   "execution_count": 4,
   "metadata": {},
   "outputs": [],
   "source": [
    "import pandas as pd\n",
    "import numpy as np\n",
    "import plotly.express as px\n",
    "import warnings\n",
    "warnings.filterwarnings('ignore')"
   ]
  },
  {
   "cell_type": "code",
   "execution_count": 5,
   "metadata": {},
   "outputs": [
    {
     "data": {
      "text/html": [
       "<div>\n",
       "<style scoped>\n",
       "    .dataframe tbody tr th:only-of-type {\n",
       "        vertical-align: middle;\n",
       "    }\n",
       "\n",
       "    .dataframe tbody tr th {\n",
       "        vertical-align: top;\n",
       "    }\n",
       "\n",
       "    .dataframe thead th {\n",
       "        text-align: right;\n",
       "    }\n",
       "</style>\n",
       "<table border=\"1\" class=\"dataframe\">\n",
       "  <thead>\n",
       "    <tr style=\"text-align: right;\">\n",
       "      <th></th>\n",
       "      <th>ID</th>\n",
       "      <th>Year_Birth</th>\n",
       "      <th>Education</th>\n",
       "      <th>Marital_Status</th>\n",
       "      <th>Income</th>\n",
       "      <th>Kidhome</th>\n",
       "      <th>Teenhome</th>\n",
       "      <th>Dt_Customer</th>\n",
       "      <th>Recency</th>\n",
       "      <th>MntWines</th>\n",
       "      <th>...</th>\n",
       "      <th>NumWebVisitsMonth</th>\n",
       "      <th>AcceptedCmp3</th>\n",
       "      <th>AcceptedCmp4</th>\n",
       "      <th>AcceptedCmp5</th>\n",
       "      <th>AcceptedCmp1</th>\n",
       "      <th>AcceptedCmp2</th>\n",
       "      <th>Complain</th>\n",
       "      <th>Z_CostContact</th>\n",
       "      <th>Z_Revenue</th>\n",
       "      <th>Response</th>\n",
       "    </tr>\n",
       "  </thead>\n",
       "  <tbody>\n",
       "    <tr>\n",
       "      <th>0</th>\n",
       "      <td>5524</td>\n",
       "      <td>1957</td>\n",
       "      <td>Graduation</td>\n",
       "      <td>Single</td>\n",
       "      <td>58138.0</td>\n",
       "      <td>0</td>\n",
       "      <td>0</td>\n",
       "      <td>04-09-2012</td>\n",
       "      <td>58</td>\n",
       "      <td>635</td>\n",
       "      <td>...</td>\n",
       "      <td>7</td>\n",
       "      <td>0</td>\n",
       "      <td>0</td>\n",
       "      <td>0</td>\n",
       "      <td>0</td>\n",
       "      <td>0</td>\n",
       "      <td>0</td>\n",
       "      <td>3</td>\n",
       "      <td>11</td>\n",
       "      <td>1</td>\n",
       "    </tr>\n",
       "    <tr>\n",
       "      <th>1</th>\n",
       "      <td>2174</td>\n",
       "      <td>1954</td>\n",
       "      <td>Graduation</td>\n",
       "      <td>Single</td>\n",
       "      <td>46344.0</td>\n",
       "      <td>1</td>\n",
       "      <td>1</td>\n",
       "      <td>08-03-2014</td>\n",
       "      <td>38</td>\n",
       "      <td>11</td>\n",
       "      <td>...</td>\n",
       "      <td>5</td>\n",
       "      <td>0</td>\n",
       "      <td>0</td>\n",
       "      <td>0</td>\n",
       "      <td>0</td>\n",
       "      <td>0</td>\n",
       "      <td>0</td>\n",
       "      <td>3</td>\n",
       "      <td>11</td>\n",
       "      <td>0</td>\n",
       "    </tr>\n",
       "    <tr>\n",
       "      <th>2</th>\n",
       "      <td>4141</td>\n",
       "      <td>1965</td>\n",
       "      <td>Graduation</td>\n",
       "      <td>Together</td>\n",
       "      <td>71613.0</td>\n",
       "      <td>0</td>\n",
       "      <td>0</td>\n",
       "      <td>21-08-2013</td>\n",
       "      <td>26</td>\n",
       "      <td>426</td>\n",
       "      <td>...</td>\n",
       "      <td>4</td>\n",
       "      <td>0</td>\n",
       "      <td>0</td>\n",
       "      <td>0</td>\n",
       "      <td>0</td>\n",
       "      <td>0</td>\n",
       "      <td>0</td>\n",
       "      <td>3</td>\n",
       "      <td>11</td>\n",
       "      <td>0</td>\n",
       "    </tr>\n",
       "    <tr>\n",
       "      <th>3</th>\n",
       "      <td>6182</td>\n",
       "      <td>1984</td>\n",
       "      <td>Graduation</td>\n",
       "      <td>Together</td>\n",
       "      <td>26646.0</td>\n",
       "      <td>1</td>\n",
       "      <td>0</td>\n",
       "      <td>10-02-2014</td>\n",
       "      <td>26</td>\n",
       "      <td>11</td>\n",
       "      <td>...</td>\n",
       "      <td>6</td>\n",
       "      <td>0</td>\n",
       "      <td>0</td>\n",
       "      <td>0</td>\n",
       "      <td>0</td>\n",
       "      <td>0</td>\n",
       "      <td>0</td>\n",
       "      <td>3</td>\n",
       "      <td>11</td>\n",
       "      <td>0</td>\n",
       "    </tr>\n",
       "    <tr>\n",
       "      <th>4</th>\n",
       "      <td>5324</td>\n",
       "      <td>1981</td>\n",
       "      <td>PhD</td>\n",
       "      <td>Married</td>\n",
       "      <td>58293.0</td>\n",
       "      <td>1</td>\n",
       "      <td>0</td>\n",
       "      <td>19-01-2014</td>\n",
       "      <td>94</td>\n",
       "      <td>173</td>\n",
       "      <td>...</td>\n",
       "      <td>5</td>\n",
       "      <td>0</td>\n",
       "      <td>0</td>\n",
       "      <td>0</td>\n",
       "      <td>0</td>\n",
       "      <td>0</td>\n",
       "      <td>0</td>\n",
       "      <td>3</td>\n",
       "      <td>11</td>\n",
       "      <td>0</td>\n",
       "    </tr>\n",
       "  </tbody>\n",
       "</table>\n",
       "<p>5 rows × 29 columns</p>\n",
       "</div>"
      ],
      "text/plain": [
       "     ID  Year_Birth   Education Marital_Status   Income  Kidhome  Teenhome  \\\n",
       "0  5524        1957  Graduation         Single  58138.0        0         0   \n",
       "1  2174        1954  Graduation         Single  46344.0        1         1   \n",
       "2  4141        1965  Graduation       Together  71613.0        0         0   \n",
       "3  6182        1984  Graduation       Together  26646.0        1         0   \n",
       "4  5324        1981         PhD        Married  58293.0        1         0   \n",
       "\n",
       "  Dt_Customer  Recency  MntWines  ...  NumWebVisitsMonth  AcceptedCmp3  \\\n",
       "0  04-09-2012       58       635  ...                  7             0   \n",
       "1  08-03-2014       38        11  ...                  5             0   \n",
       "2  21-08-2013       26       426  ...                  4             0   \n",
       "3  10-02-2014       26        11  ...                  6             0   \n",
       "4  19-01-2014       94       173  ...                  5             0   \n",
       "\n",
       "   AcceptedCmp4  AcceptedCmp5  AcceptedCmp1  AcceptedCmp2  Complain  \\\n",
       "0             0             0             0             0         0   \n",
       "1             0             0             0             0         0   \n",
       "2             0             0             0             0         0   \n",
       "3             0             0             0             0         0   \n",
       "4             0             0             0             0         0   \n",
       "\n",
       "   Z_CostContact  Z_Revenue  Response  \n",
       "0              3         11         1  \n",
       "1              3         11         0  \n",
       "2              3         11         0  \n",
       "3              3         11         0  \n",
       "4              3         11         0  \n",
       "\n",
       "[5 rows x 29 columns]"
      ]
     },
     "execution_count": 5,
     "metadata": {},
     "output_type": "execute_result"
    }
   ],
   "source": [
    "# 제공된 경로와 구분자로 데이터 로드\n",
    "path = '../datasets/ml/crm/marketing_campaign.csv'\n",
    "df = pd.read_csv(path, sep='\\t')\n",
    "df.head()"
   ]
  },
  {
   "cell_type": "code",
   "execution_count": 6,
   "metadata": {},
   "outputs": [
    {
     "name": "stdout",
     "output_type": "stream",
     "text": [
      "<class 'pandas.core.frame.DataFrame'>\n",
      "RangeIndex: 2240 entries, 0 to 2239\n",
      "Data columns (total 29 columns):\n",
      " #   Column               Non-Null Count  Dtype  \n",
      "---  ------               --------------  -----  \n",
      " 0   ID                   2240 non-null   int64  \n",
      " 1   Year_Birth           2240 non-null   int64  \n",
      " 2   Education            2240 non-null   object \n",
      " 3   Marital_Status       2240 non-null   object \n",
      " 4   Income               2216 non-null   float64\n",
      " 5   Kidhome              2240 non-null   int64  \n",
      " 6   Teenhome             2240 non-null   int64  \n",
      " 7   Dt_Customer          2240 non-null   object \n",
      " 8   Recency              2240 non-null   int64  \n",
      " 9   MntWines             2240 non-null   int64  \n",
      " 10  MntFruits            2240 non-null   int64  \n",
      " 11  MntMeatProducts      2240 non-null   int64  \n",
      " 12  MntFishProducts      2240 non-null   int64  \n",
      " 13  MntSweetProducts     2240 non-null   int64  \n",
      " 14  MntGoldProds         2240 non-null   int64  \n",
      " 15  NumDealsPurchases    2240 non-null   int64  \n",
      " 16  NumWebPurchases      2240 non-null   int64  \n",
      " 17  NumCatalogPurchases  2240 non-null   int64  \n",
      " 18  NumStorePurchases    2240 non-null   int64  \n",
      " 19  NumWebVisitsMonth    2240 non-null   int64  \n",
      " 20  AcceptedCmp3         2240 non-null   int64  \n",
      " 21  AcceptedCmp4         2240 non-null   int64  \n",
      " 22  AcceptedCmp5         2240 non-null   int64  \n",
      " 23  AcceptedCmp1         2240 non-null   int64  \n",
      " 24  AcceptedCmp2         2240 non-null   int64  \n",
      " 25  Complain             2240 non-null   int64  \n",
      " 26  Z_CostContact        2240 non-null   int64  \n",
      " 27  Z_Revenue            2240 non-null   int64  \n",
      " 28  Response             2240 non-null   int64  \n",
      "dtypes: float64(1), int64(25), object(3)\n",
      "memory usage: 507.6+ KB\n"
     ]
    }
   ],
   "source": [
    "df.info()"
   ]
  },
  {
   "cell_type": "markdown",
   "metadata": {},
   "source": [
    "| | 컬럼 | 설명 |\n",
    "| --- | --- | --- |\n",
    "| 0 | Invoice | 송장 번호 |\n",
    "| 1 | StockCode | 재고 코드 |\n",
    "| 2 | Description | 상품 설명 |\n",
    "| 3 | Quantity | 수량 |\n",
    "| 4 | InvoiceDate | 송장 날짜 |\n",
    "| 5 | Price | 가격 |\n",
    "| 6 | Customer ID | 고객 ID |\n",
    "| 7 | Country | 국가 |\n"
   ]
  },
  {
   "cell_type": "code",
   "execution_count": 7,
   "metadata": {},
   "outputs": [
    {
     "name": "stdout",
     "output_type": "stream",
     "text": [
      "전처리 완료. 결측치 없음.\n"
     ]
    }
   ],
   "source": [
    "# Income 컬럼의 결측치를 중앙값으로 대체\n",
    "df['Income'].fillna(df['Income'].median(), inplace=True)\n",
    "print(\"전처리 완료. 결측치 없음.\")"
   ]
  },
  {
   "cell_type": "markdown",
   "metadata": {},
   "source": [
    "### 3. R, F, M 지표 생성 및 분포 확인\n",
    "\n",
    "#### 🧠 개념 이해하기\n",
    "\n",
    "이 데이터셋은 일반적인 거래 로그 데이터와 다르게 일부 지표가 이미 계산되어 있습니다. 이 특성을 활용하여 R, F, M 지표를 생성합니다.\n",
    "\n",
    "- **Recency (R)**: 데이터셋에 `Recency` 컬럼(마지막 구매 후 경과일)이 이미 존재하므로, 이 값을 그대로 사용합니다.\n",
    "- **Frequency (F)**: `NumWebPurchases`, `NumCatalogPurchases`, `NumStorePurchases` 등 여러 채널을 통한 총 구매 횟수를 합산하여 고객의 총 구매 빈도를 생성합니다.\n",
    "- **Monetary (M)**: `MntWines`, `MntFruits` 등 여러 카테고리의 총 구매액을 합산하여 고객의 총 구매 금액을 생성합니다."
   ]
  },
  {
   "cell_type": "code",
   "execution_count": 8,
   "metadata": {},
   "outputs": [
    {
     "name": "stdout",
     "output_type": "stream",
     "text": [
      "생성된 RFM 데이터프레임:\n"
     ]
    },
    {
     "data": {
      "text/html": [
       "<div>\n",
       "<style scoped>\n",
       "    .dataframe tbody tr th:only-of-type {\n",
       "        vertical-align: middle;\n",
       "    }\n",
       "\n",
       "    .dataframe tbody tr th {\n",
       "        vertical-align: top;\n",
       "    }\n",
       "\n",
       "    .dataframe thead th {\n",
       "        text-align: right;\n",
       "    }\n",
       "</style>\n",
       "<table border=\"1\" class=\"dataframe\">\n",
       "  <thead>\n",
       "    <tr style=\"text-align: right;\">\n",
       "      <th></th>\n",
       "      <th>ID</th>\n",
       "      <th>Recency</th>\n",
       "      <th>Frequency</th>\n",
       "      <th>Monetary</th>\n",
       "    </tr>\n",
       "  </thead>\n",
       "  <tbody>\n",
       "    <tr>\n",
       "      <th>0</th>\n",
       "      <td>5524</td>\n",
       "      <td>58</td>\n",
       "      <td>22</td>\n",
       "      <td>1617</td>\n",
       "    </tr>\n",
       "    <tr>\n",
       "      <th>1</th>\n",
       "      <td>2174</td>\n",
       "      <td>38</td>\n",
       "      <td>4</td>\n",
       "      <td>27</td>\n",
       "    </tr>\n",
       "    <tr>\n",
       "      <th>2</th>\n",
       "      <td>4141</td>\n",
       "      <td>26</td>\n",
       "      <td>20</td>\n",
       "      <td>776</td>\n",
       "    </tr>\n",
       "    <tr>\n",
       "      <th>3</th>\n",
       "      <td>6182</td>\n",
       "      <td>26</td>\n",
       "      <td>6</td>\n",
       "      <td>53</td>\n",
       "    </tr>\n",
       "    <tr>\n",
       "      <th>4</th>\n",
       "      <td>5324</td>\n",
       "      <td>94</td>\n",
       "      <td>14</td>\n",
       "      <td>422</td>\n",
       "    </tr>\n",
       "  </tbody>\n",
       "</table>\n",
       "</div>"
      ],
      "text/plain": [
       "     ID  Recency  Frequency  Monetary\n",
       "0  5524       58         22      1617\n",
       "1  2174       38          4        27\n",
       "2  4141       26         20       776\n",
       "3  6182       26          6        53\n",
       "4  5324       94         14       422"
      ]
     },
     "execution_count": 8,
     "metadata": {},
     "output_type": "execute_result"
    }
   ],
   "source": [
    "# RFM 지표를 담을 새로운 데이터프레임 생성\n",
    "rfm_df = pd.DataFrame()\n",
    "rfm_df['ID'] = df['ID']\n",
    "\n",
    "# Recency 값은 기존 컬럼을 그대로 사용\n",
    "rfm_df['Recency'] = df['Recency']\n",
    "\n",
    "# Frequency 계산 (모든 구매 채널의 횟수 합산)\n",
    "freq_cols = ['NumWebPurchases', 'NumCatalogPurchases', 'NumStorePurchases']\n",
    "rfm_df['Frequency'] = df[freq_cols].sum(axis=1)\n",
    "\n",
    "# Monetary 계산 (모든 제품 카테고리 구매액 합산)\n",
    "monetary_cols = ['MntWines', 'MntFruits', 'MntMeatProducts', 'MntFishProducts', 'MntSweetProducts', 'MntGoldProds']\n",
    "rfm_df['Monetary'] = df[monetary_cols].sum(axis=1)\n",
    "\n",
    "print(\"생성된 RFM 데이터프레임:\")\n",
    "rfm_df.head()"
   ]
  },
  {
   "cell_type": "markdown",
   "metadata": {},
   "source": [
    "#### 💻 코드로 알아보기: R, F, M 분포 확인\n",
    "\n",
    "스코어링을 진행하기 전에, 우리가 만든 R, F, M 지표가 어떤 분포를 가지고 있는지 확인하는 것은 매우 중요합니다. 이는 우리가 어떤 스코어링 방식을 사용할지 결정하는 데 중요한 단서가 됩니다."
   ]
  },
  {
   "cell_type": "code",
   "execution_count": 9,
   "metadata": {},
   "outputs": [
    {
     "data": {
      "text/html": [
       "<div>\n",
       "<style scoped>\n",
       "    .dataframe tbody tr th:only-of-type {\n",
       "        vertical-align: middle;\n",
       "    }\n",
       "\n",
       "    .dataframe tbody tr th {\n",
       "        vertical-align: top;\n",
       "    }\n",
       "\n",
       "    .dataframe thead th {\n",
       "        text-align: right;\n",
       "    }\n",
       "</style>\n",
       "<table border=\"1\" class=\"dataframe\">\n",
       "  <thead>\n",
       "    <tr style=\"text-align: right;\">\n",
       "      <th></th>\n",
       "      <th>Recency</th>\n",
       "      <th>Frequency</th>\n",
       "      <th>Monetary</th>\n",
       "    </tr>\n",
       "  </thead>\n",
       "  <tbody>\n",
       "    <tr>\n",
       "      <th>count</th>\n",
       "      <td>2240.000000</td>\n",
       "      <td>2240.000000</td>\n",
       "      <td>2240.000000</td>\n",
       "    </tr>\n",
       "    <tr>\n",
       "      <th>mean</th>\n",
       "      <td>49.109375</td>\n",
       "      <td>12.537054</td>\n",
       "      <td>605.798214</td>\n",
       "    </tr>\n",
       "    <tr>\n",
       "      <th>std</th>\n",
       "      <td>28.962453</td>\n",
       "      <td>7.205741</td>\n",
       "      <td>602.249288</td>\n",
       "    </tr>\n",
       "    <tr>\n",
       "      <th>min</th>\n",
       "      <td>0.000000</td>\n",
       "      <td>0.000000</td>\n",
       "      <td>5.000000</td>\n",
       "    </tr>\n",
       "    <tr>\n",
       "      <th>25%</th>\n",
       "      <td>24.000000</td>\n",
       "      <td>6.000000</td>\n",
       "      <td>68.750000</td>\n",
       "    </tr>\n",
       "    <tr>\n",
       "      <th>50%</th>\n",
       "      <td>49.000000</td>\n",
       "      <td>12.000000</td>\n",
       "      <td>396.000000</td>\n",
       "    </tr>\n",
       "    <tr>\n",
       "      <th>75%</th>\n",
       "      <td>74.000000</td>\n",
       "      <td>18.000000</td>\n",
       "      <td>1045.500000</td>\n",
       "    </tr>\n",
       "    <tr>\n",
       "      <th>max</th>\n",
       "      <td>99.000000</td>\n",
       "      <td>32.000000</td>\n",
       "      <td>2525.000000</td>\n",
       "    </tr>\n",
       "  </tbody>\n",
       "</table>\n",
       "</div>"
      ],
      "text/plain": [
       "           Recency    Frequency     Monetary\n",
       "count  2240.000000  2240.000000  2240.000000\n",
       "mean     49.109375    12.537054   605.798214\n",
       "std      28.962453     7.205741   602.249288\n",
       "min       0.000000     0.000000     5.000000\n",
       "25%      24.000000     6.000000    68.750000\n",
       "50%      49.000000    12.000000   396.000000\n",
       "75%      74.000000    18.000000  1045.500000\n",
       "max      99.000000    32.000000  2525.000000"
      ]
     },
     "execution_count": 9,
     "metadata": {},
     "output_type": "execute_result"
    }
   ],
   "source": [
    "rfm_df[['Recency', 'Frequency', 'Monetary']].describe()"
   ]
  },
  {
   "cell_type": "markdown",
   "metadata": {},
   "source": [
    "**분포 분석:**\n",
    "\n",
    "- **Recency**: 25%, 50%, 75% 값이 각각 24, 49, 74로 비교적 고르게 분포되어 있습니다.\n",
    "- **Frequency & Monetary**: 75% 값과 max 값의 차이가 매우 큽니다. (예: Monetary의 75%는 약 1045인데, max는 2525). 이는 소수의 '헤비 유저' 또는 'VIP 고객'이 전체 평균을 높이는, 오른쪽으로 꼬리가 긴(right-skewed) 분포임을 시사합니다."
   ]
  },
  {
   "cell_type": "markdown",
   "metadata": {},
   "source": [
    "### 4. RFM 스코어 부여 및 세그먼트 정의\n",
    "\n",
    "#### 🧠 개념 이해하기: 분위수(Quantile) 기반 스코어링\n",
    "\n",
    "R, F, M 지표들의 분포와 단위가 다르기 때문에, 이를 공정한 기준으로 비교하기 위해 '점수'로 변환합니다. 가장 일반적인 방법은 **분위수(Quantile)**를 사용하는 것입니다. 예를 들어 사분위수(Quartile)는 전체 고객을 4개의 동일한 수의 그룹으로 나눕니다.\n",
    "\n",
    "이 방식은 데이터의 분포가 한쪽으로 치우쳐져 있더라도, 각 그룹에 속하는 **고객의 수를 동일하게** 맞춰주기 때문에 마케팅 자원을 각 세그먼트에 균등하게 배분하고 관리하는 데 매우 유용합니다.\n",
    "\n",
    "**점수 부여 규칙:**\n",
    "-   **Recency (R)**: 값이 **작을수록** (더 최근일수록) 좋은 것이므로, 가장 높은 점수(4점)를 부여합니다.\n",
    "-   **Frequency (F), Monetary (M)**: 값이 **클수록** 좋은 것이므로, 가장 높은 점수(4점)를 부여합니다."
   ]
  },
  {
   "cell_type": "code",
   "execution_count": 10,
   "metadata": {},
   "outputs": [
    {
     "data": {
      "text/html": [
       "<div>\n",
       "<style scoped>\n",
       "    .dataframe tbody tr th:only-of-type {\n",
       "        vertical-align: middle;\n",
       "    }\n",
       "\n",
       "    .dataframe tbody tr th {\n",
       "        vertical-align: top;\n",
       "    }\n",
       "\n",
       "    .dataframe thead th {\n",
       "        text-align: right;\n",
       "    }\n",
       "</style>\n",
       "<table border=\"1\" class=\"dataframe\">\n",
       "  <thead>\n",
       "    <tr style=\"text-align: right;\">\n",
       "      <th></th>\n",
       "      <th>ID</th>\n",
       "      <th>Recency</th>\n",
       "      <th>Frequency</th>\n",
       "      <th>Monetary</th>\n",
       "      <th>R_Score</th>\n",
       "      <th>F_Score</th>\n",
       "      <th>M_Score</th>\n",
       "      <th>RFM_Score</th>\n",
       "    </tr>\n",
       "  </thead>\n",
       "  <tbody>\n",
       "    <tr>\n",
       "      <th>0</th>\n",
       "      <td>5524</td>\n",
       "      <td>58</td>\n",
       "      <td>22</td>\n",
       "      <td>1617</td>\n",
       "      <td>2</td>\n",
       "      <td>4</td>\n",
       "      <td>4</td>\n",
       "      <td>10</td>\n",
       "    </tr>\n",
       "    <tr>\n",
       "      <th>1</th>\n",
       "      <td>2174</td>\n",
       "      <td>38</td>\n",
       "      <td>4</td>\n",
       "      <td>27</td>\n",
       "      <td>3</td>\n",
       "      <td>1</td>\n",
       "      <td>1</td>\n",
       "      <td>5</td>\n",
       "    </tr>\n",
       "    <tr>\n",
       "      <th>2</th>\n",
       "      <td>4141</td>\n",
       "      <td>26</td>\n",
       "      <td>20</td>\n",
       "      <td>776</td>\n",
       "      <td>3</td>\n",
       "      <td>4</td>\n",
       "      <td>3</td>\n",
       "      <td>10</td>\n",
       "    </tr>\n",
       "    <tr>\n",
       "      <th>3</th>\n",
       "      <td>6182</td>\n",
       "      <td>26</td>\n",
       "      <td>6</td>\n",
       "      <td>53</td>\n",
       "      <td>3</td>\n",
       "      <td>1</td>\n",
       "      <td>1</td>\n",
       "      <td>5</td>\n",
       "    </tr>\n",
       "    <tr>\n",
       "      <th>4</th>\n",
       "      <td>5324</td>\n",
       "      <td>94</td>\n",
       "      <td>14</td>\n",
       "      <td>422</td>\n",
       "      <td>1</td>\n",
       "      <td>3</td>\n",
       "      <td>3</td>\n",
       "      <td>7</td>\n",
       "    </tr>\n",
       "  </tbody>\n",
       "</table>\n",
       "</div>"
      ],
      "text/plain": [
       "     ID  Recency  Frequency  Monetary R_Score F_Score M_Score  RFM_Score\n",
       "0  5524       58         22      1617       2       4       4         10\n",
       "1  2174       38          4        27       3       1       1          5\n",
       "2  4141       26         20       776       3       4       3         10\n",
       "3  6182       26          6        53       3       1       1          5\n",
       "4  5324       94         14       422       1       3       3          7"
      ]
     },
     "execution_count": 10,
     "metadata": {},
     "output_type": "execute_result"
    }
   ],
   "source": [
    "# R, F, M 값을 기준으로 4분위수(Quartile)로 나누어 점수 부여\n",
    "r_labels = range(4, 0, -1)\n",
    "f_labels = range(1, 5)\n",
    "m_labels = range(1, 5)\n",
    "\n",
    "# qcut : 데이터를 분위수로 잘라줌\n",
    "rfm_df['R_Score'] = pd.qcut(rfm_df['Recency'], q=4, labels=r_labels, duplicates='drop') # duplicates='drop' : 자른 것 중에 하나를 드랍\n",
    "rfm_df['F_Score'] = pd.qcut(rfm_df['Frequency'], q=4, labels=f_labels, duplicates='drop')\n",
    "rfm_df['M_Score'] = pd.qcut(rfm_df['Monetary'], q=4, labels=m_labels, duplicates='drop')\n",
    "\n",
    "rfm_df['RFM_Score'] = rfm_df['R_Score'].astype(int) + rfm_df['F_Score'].astype(int) + rfm_df['M_Score'].astype(int)\n",
    "rfm_df.head()"
   ]
  },
  {
   "cell_type": "markdown",
   "metadata": {},
   "source": [
    "#### 🧠 심화 학습: 스코어링 방식과 데이터 분포\n",
    "\n",
    "`pd.qcut`은 그룹 내 데이터의 '개수'를 동일하게 나눕니다. Monetary처럼 분포가 치우친 경우, 각 점수 그룹이 가지는 '값의 범위'는 어떻게 될까요?"
   ]
  },
  {
   "cell_type": "code",
   "execution_count": 11,
   "metadata": {},
   "outputs": [
    {
     "name": "stdout",
     "output_type": "stream",
     "text": [
      "Monetary Score별 실제 값의 범위:\n",
      "          min   max         mean  count\n",
      "M_Score                                \n",
      "1           5    68    39.262500    560\n",
      "2          69   396   184.573975    561\n",
      "3         397  1045   709.819320    559\n",
      "4        1047  2525  1490.475000    560\n"
     ]
    }
   ],
   "source": [
    "print(\"Monetary Score별 실제 값의 범위:\")\n",
    "print(rfm_df.groupby('M_Score')['Monetary'].agg(['min', 'max', 'mean', 'count']))"
   ]
  },
  {
   "cell_type": "markdown",
   "metadata": {},
   "source": [
    "위 결과를 보면, `count`는 약 560명으로 모두 동일하지만, `max - min`으로 계산되는 값의 범위는 점수가 높을수록 극단적으로 넓어지는 것을 볼 수 있습니다. 특히 4점을 받은 최상위 그룹은 소수의 엄청난 VIP 고객을 포함하고 있음을 알 수 있습니다.\n",
    "\n",
    "이처럼 `pd.qcut`은 고객 관리의 편의성을 위해 그룹의 '크기'를 맞추는 데 초점을 둡니다. 만약 '금액' 자체를 기준으로 구간을 나누고 싶다면(e.g., 100만원 이상은 무조건 VIP), `pd.cut`을 사용하여 직접 경계값을 설정하는 방법도 있습니다."
   ]
  },
  {
   "cell_type": "markdown",
   "metadata": {},
   "source": [
    "이제 총점을 기준으로 고객 세그먼트를 정의합니다."
   ]
  },
  {
   "cell_type": "code",
   "execution_count": 12,
   "metadata": {},
   "outputs": [
    {
     "data": {
      "text/html": [
       "<div>\n",
       "<style scoped>\n",
       "    .dataframe tbody tr th:only-of-type {\n",
       "        vertical-align: middle;\n",
       "    }\n",
       "\n",
       "    .dataframe tbody tr th {\n",
       "        vertical-align: top;\n",
       "    }\n",
       "\n",
       "    .dataframe thead th {\n",
       "        text-align: right;\n",
       "    }\n",
       "</style>\n",
       "<table border=\"1\" class=\"dataframe\">\n",
       "  <thead>\n",
       "    <tr style=\"text-align: right;\">\n",
       "      <th></th>\n",
       "      <th>ID</th>\n",
       "      <th>Recency</th>\n",
       "      <th>Frequency</th>\n",
       "      <th>Monetary</th>\n",
       "      <th>R_Score</th>\n",
       "      <th>F_Score</th>\n",
       "      <th>M_Score</th>\n",
       "      <th>RFM_Score</th>\n",
       "      <th>Segment</th>\n",
       "    </tr>\n",
       "  </thead>\n",
       "  <tbody>\n",
       "    <tr>\n",
       "      <th>0</th>\n",
       "      <td>5524</td>\n",
       "      <td>58</td>\n",
       "      <td>22</td>\n",
       "      <td>1617</td>\n",
       "      <td>2</td>\n",
       "      <td>4</td>\n",
       "      <td>4</td>\n",
       "      <td>10</td>\n",
       "      <td>Loyalists</td>\n",
       "    </tr>\n",
       "    <tr>\n",
       "      <th>1</th>\n",
       "      <td>2174</td>\n",
       "      <td>38</td>\n",
       "      <td>4</td>\n",
       "      <td>27</td>\n",
       "      <td>3</td>\n",
       "      <td>1</td>\n",
       "      <td>1</td>\n",
       "      <td>5</td>\n",
       "      <td>Needs Attention</td>\n",
       "    </tr>\n",
       "    <tr>\n",
       "      <th>2</th>\n",
       "      <td>4141</td>\n",
       "      <td>26</td>\n",
       "      <td>20</td>\n",
       "      <td>776</td>\n",
       "      <td>3</td>\n",
       "      <td>4</td>\n",
       "      <td>3</td>\n",
       "      <td>10</td>\n",
       "      <td>Loyalists</td>\n",
       "    </tr>\n",
       "    <tr>\n",
       "      <th>3</th>\n",
       "      <td>6182</td>\n",
       "      <td>26</td>\n",
       "      <td>6</td>\n",
       "      <td>53</td>\n",
       "      <td>3</td>\n",
       "      <td>1</td>\n",
       "      <td>1</td>\n",
       "      <td>5</td>\n",
       "      <td>Needs Attention</td>\n",
       "    </tr>\n",
       "    <tr>\n",
       "      <th>4</th>\n",
       "      <td>5324</td>\n",
       "      <td>94</td>\n",
       "      <td>14</td>\n",
       "      <td>422</td>\n",
       "      <td>1</td>\n",
       "      <td>3</td>\n",
       "      <td>3</td>\n",
       "      <td>7</td>\n",
       "      <td>Potential</td>\n",
       "    </tr>\n",
       "  </tbody>\n",
       "</table>\n",
       "</div>"
      ],
      "text/plain": [
       "     ID  Recency  Frequency  Monetary R_Score F_Score M_Score  RFM_Score  \\\n",
       "0  5524       58         22      1617       2       4       4         10   \n",
       "1  2174       38          4        27       3       1       1          5   \n",
       "2  4141       26         20       776       3       4       3         10   \n",
       "3  6182       26          6        53       3       1       1          5   \n",
       "4  5324       94         14       422       1       3       3          7   \n",
       "\n",
       "           Segment  \n",
       "0        Loyalists  \n",
       "1  Needs Attention  \n",
       "2        Loyalists  \n",
       "3  Needs Attention  \n",
       "4        Potential  "
      ]
     },
     "execution_count": 12,
     "metadata": {},
     "output_type": "execute_result"
    }
   ],
   "source": [
    "# RFM 점수 기반으로 세그먼트 정의\n",
    "def assign_segment(score):\n",
    "    if score >= 11:\n",
    "        return 'Champions' # 최우수 고객\n",
    "    elif score >= 9:\n",
    "        return 'Loyalists' # 충성 고객\n",
    "    elif score >= 6:\n",
    "        return 'Potential' # 잠재 고객\n",
    "    elif score >= 4:\n",
    "        return 'Needs Attention' # 관심 필요 고객\n",
    "    else:\n",
    "        return 'At Risk' # 이탈 위험 고객\n",
    "\n",
    "rfm_df['Segment'] = rfm_df['RFM_Score'].apply(assign_segment)\n",
    "rfm_df.head()"
   ]
  },
  {
   "cell_type": "markdown",
   "metadata": {},
   "source": [
    "### 5. RFM 세그먼트 시각화 및 분석\n",
    "\n",
    "#### 💻 코드로 알아보기\n",
    "\n",
    "분석 결과를 시각화하여 각 세그먼트의 분포와 특징을 한눈에 파악합니다. 막대 차트와 트리맵은 RFM 분석 결과를 시각화하는 데 매우 효과적입니다."
   ]
  },
  {
   "cell_type": "code",
   "execution_count": 13,
   "metadata": {},
   "outputs": [
    {
     "data": {
      "application/vnd.plotly.v1+json": {
       "config": {
        "plotlyServerURL": "https://plot.ly"
       },
       "data": [
        {
         "hovertemplate": "Segment=%{x}<br>Count=%{y}<extra></extra>",
         "legendgroup": "Potential",
         "marker": {
          "color": "#636efa",
          "pattern": {
           "shape": ""
          }
         },
         "name": "Potential",
         "orientation": "v",
         "showlegend": true,
         "textposition": "auto",
         "texttemplate": "%{y}",
         "type": "bar",
         "x": [
          "Potential"
         ],
         "xaxis": "x",
         "y": {
          "bdata": "IgM=",
          "dtype": "i2"
         },
         "yaxis": "y"
        },
        {
         "hovertemplate": "Segment=%{x}<br>Count=%{y}<extra></extra>",
         "legendgroup": "Loyalists",
         "marker": {
          "color": "#EF553B",
          "pattern": {
           "shape": ""
          }
         },
         "name": "Loyalists",
         "orientation": "v",
         "showlegend": true,
         "textposition": "auto",
         "texttemplate": "%{y}",
         "type": "bar",
         "x": [
          "Loyalists"
         ],
         "xaxis": "x",
         "y": {
          "bdata": "LwI=",
          "dtype": "i2"
         },
         "yaxis": "y"
        },
        {
         "hovertemplate": "Segment=%{x}<br>Count=%{y}<extra></extra>",
         "legendgroup": "Needs Attention",
         "marker": {
          "color": "#00cc96",
          "pattern": {
           "shape": ""
          }
         },
         "name": "Needs Attention",
         "orientation": "v",
         "showlegend": true,
         "textposition": "auto",
         "texttemplate": "%{y}",
         "type": "bar",
         "x": [
          "Needs Attention"
         ],
         "xaxis": "x",
         "y": {
          "bdata": "xwE=",
          "dtype": "i2"
         },
         "yaxis": "y"
        },
        {
         "hovertemplate": "Segment=%{x}<br>Count=%{y}<extra></extra>",
         "legendgroup": "Champions",
         "marker": {
          "color": "#ab63fa",
          "pattern": {
           "shape": ""
          }
         },
         "name": "Champions",
         "orientation": "v",
         "showlegend": true,
         "textposition": "auto",
         "texttemplate": "%{y}",
         "type": "bar",
         "x": [
          "Champions"
         ],
         "xaxis": "x",
         "y": {
          "bdata": "GQE=",
          "dtype": "i2"
         },
         "yaxis": "y"
        },
        {
         "hovertemplate": "Segment=%{x}<br>Count=%{y}<extra></extra>",
         "legendgroup": "At Risk",
         "marker": {
          "color": "#FFA15A",
          "pattern": {
           "shape": ""
          }
         },
         "name": "At Risk",
         "orientation": "v",
         "showlegend": true,
         "textposition": "auto",
         "texttemplate": "%{y}",
         "type": "bar",
         "x": [
          "At Risk"
         ],
         "xaxis": "x",
         "y": {
          "bdata": "jwA=",
          "dtype": "i2"
         },
         "yaxis": "y"
        }
       ],
       "layout": {
        "barmode": "relative",
        "legend": {
         "title": {
          "text": "Segment"
         },
         "tracegroupgap": 0
        },
        "template": {
         "data": {
          "bar": [
           {
            "error_x": {
             "color": "#2a3f5f"
            },
            "error_y": {
             "color": "#2a3f5f"
            },
            "marker": {
             "line": {
              "color": "#E5ECF6",
              "width": 0.5
             },
             "pattern": {
              "fillmode": "overlay",
              "size": 10,
              "solidity": 0.2
             }
            },
            "type": "bar"
           }
          ],
          "barpolar": [
           {
            "marker": {
             "line": {
              "color": "#E5ECF6",
              "width": 0.5
             },
             "pattern": {
              "fillmode": "overlay",
              "size": 10,
              "solidity": 0.2
             }
            },
            "type": "barpolar"
           }
          ],
          "carpet": [
           {
            "aaxis": {
             "endlinecolor": "#2a3f5f",
             "gridcolor": "white",
             "linecolor": "white",
             "minorgridcolor": "white",
             "startlinecolor": "#2a3f5f"
            },
            "baxis": {
             "endlinecolor": "#2a3f5f",
             "gridcolor": "white",
             "linecolor": "white",
             "minorgridcolor": "white",
             "startlinecolor": "#2a3f5f"
            },
            "type": "carpet"
           }
          ],
          "choropleth": [
           {
            "colorbar": {
             "outlinewidth": 0,
             "ticks": ""
            },
            "type": "choropleth"
           }
          ],
          "contour": [
           {
            "colorbar": {
             "outlinewidth": 0,
             "ticks": ""
            },
            "colorscale": [
             [
              0,
              "#0d0887"
             ],
             [
              0.1111111111111111,
              "#46039f"
             ],
             [
              0.2222222222222222,
              "#7201a8"
             ],
             [
              0.3333333333333333,
              "#9c179e"
             ],
             [
              0.4444444444444444,
              "#bd3786"
             ],
             [
              0.5555555555555556,
              "#d8576b"
             ],
             [
              0.6666666666666666,
              "#ed7953"
             ],
             [
              0.7777777777777778,
              "#fb9f3a"
             ],
             [
              0.8888888888888888,
              "#fdca26"
             ],
             [
              1,
              "#f0f921"
             ]
            ],
            "type": "contour"
           }
          ],
          "contourcarpet": [
           {
            "colorbar": {
             "outlinewidth": 0,
             "ticks": ""
            },
            "type": "contourcarpet"
           }
          ],
          "heatmap": [
           {
            "colorbar": {
             "outlinewidth": 0,
             "ticks": ""
            },
            "colorscale": [
             [
              0,
              "#0d0887"
             ],
             [
              0.1111111111111111,
              "#46039f"
             ],
             [
              0.2222222222222222,
              "#7201a8"
             ],
             [
              0.3333333333333333,
              "#9c179e"
             ],
             [
              0.4444444444444444,
              "#bd3786"
             ],
             [
              0.5555555555555556,
              "#d8576b"
             ],
             [
              0.6666666666666666,
              "#ed7953"
             ],
             [
              0.7777777777777778,
              "#fb9f3a"
             ],
             [
              0.8888888888888888,
              "#fdca26"
             ],
             [
              1,
              "#f0f921"
             ]
            ],
            "type": "heatmap"
           }
          ],
          "histogram": [
           {
            "marker": {
             "pattern": {
              "fillmode": "overlay",
              "size": 10,
              "solidity": 0.2
             }
            },
            "type": "histogram"
           }
          ],
          "histogram2d": [
           {
            "colorbar": {
             "outlinewidth": 0,
             "ticks": ""
            },
            "colorscale": [
             [
              0,
              "#0d0887"
             ],
             [
              0.1111111111111111,
              "#46039f"
             ],
             [
              0.2222222222222222,
              "#7201a8"
             ],
             [
              0.3333333333333333,
              "#9c179e"
             ],
             [
              0.4444444444444444,
              "#bd3786"
             ],
             [
              0.5555555555555556,
              "#d8576b"
             ],
             [
              0.6666666666666666,
              "#ed7953"
             ],
             [
              0.7777777777777778,
              "#fb9f3a"
             ],
             [
              0.8888888888888888,
              "#fdca26"
             ],
             [
              1,
              "#f0f921"
             ]
            ],
            "type": "histogram2d"
           }
          ],
          "histogram2dcontour": [
           {
            "colorbar": {
             "outlinewidth": 0,
             "ticks": ""
            },
            "colorscale": [
             [
              0,
              "#0d0887"
             ],
             [
              0.1111111111111111,
              "#46039f"
             ],
             [
              0.2222222222222222,
              "#7201a8"
             ],
             [
              0.3333333333333333,
              "#9c179e"
             ],
             [
              0.4444444444444444,
              "#bd3786"
             ],
             [
              0.5555555555555556,
              "#d8576b"
             ],
             [
              0.6666666666666666,
              "#ed7953"
             ],
             [
              0.7777777777777778,
              "#fb9f3a"
             ],
             [
              0.8888888888888888,
              "#fdca26"
             ],
             [
              1,
              "#f0f921"
             ]
            ],
            "type": "histogram2dcontour"
           }
          ],
          "mesh3d": [
           {
            "colorbar": {
             "outlinewidth": 0,
             "ticks": ""
            },
            "type": "mesh3d"
           }
          ],
          "parcoords": [
           {
            "line": {
             "colorbar": {
              "outlinewidth": 0,
              "ticks": ""
             }
            },
            "type": "parcoords"
           }
          ],
          "pie": [
           {
            "automargin": true,
            "type": "pie"
           }
          ],
          "scatter": [
           {
            "fillpattern": {
             "fillmode": "overlay",
             "size": 10,
             "solidity": 0.2
            },
            "type": "scatter"
           }
          ],
          "scatter3d": [
           {
            "line": {
             "colorbar": {
              "outlinewidth": 0,
              "ticks": ""
             }
            },
            "marker": {
             "colorbar": {
              "outlinewidth": 0,
              "ticks": ""
             }
            },
            "type": "scatter3d"
           }
          ],
          "scattercarpet": [
           {
            "marker": {
             "colorbar": {
              "outlinewidth": 0,
              "ticks": ""
             }
            },
            "type": "scattercarpet"
           }
          ],
          "scattergeo": [
           {
            "marker": {
             "colorbar": {
              "outlinewidth": 0,
              "ticks": ""
             }
            },
            "type": "scattergeo"
           }
          ],
          "scattergl": [
           {
            "marker": {
             "colorbar": {
              "outlinewidth": 0,
              "ticks": ""
             }
            },
            "type": "scattergl"
           }
          ],
          "scattermap": [
           {
            "marker": {
             "colorbar": {
              "outlinewidth": 0,
              "ticks": ""
             }
            },
            "type": "scattermap"
           }
          ],
          "scattermapbox": [
           {
            "marker": {
             "colorbar": {
              "outlinewidth": 0,
              "ticks": ""
             }
            },
            "type": "scattermapbox"
           }
          ],
          "scatterpolar": [
           {
            "marker": {
             "colorbar": {
              "outlinewidth": 0,
              "ticks": ""
             }
            },
            "type": "scatterpolar"
           }
          ],
          "scatterpolargl": [
           {
            "marker": {
             "colorbar": {
              "outlinewidth": 0,
              "ticks": ""
             }
            },
            "type": "scatterpolargl"
           }
          ],
          "scatterternary": [
           {
            "marker": {
             "colorbar": {
              "outlinewidth": 0,
              "ticks": ""
             }
            },
            "type": "scatterternary"
           }
          ],
          "surface": [
           {
            "colorbar": {
             "outlinewidth": 0,
             "ticks": ""
            },
            "colorscale": [
             [
              0,
              "#0d0887"
             ],
             [
              0.1111111111111111,
              "#46039f"
             ],
             [
              0.2222222222222222,
              "#7201a8"
             ],
             [
              0.3333333333333333,
              "#9c179e"
             ],
             [
              0.4444444444444444,
              "#bd3786"
             ],
             [
              0.5555555555555556,
              "#d8576b"
             ],
             [
              0.6666666666666666,
              "#ed7953"
             ],
             [
              0.7777777777777778,
              "#fb9f3a"
             ],
             [
              0.8888888888888888,
              "#fdca26"
             ],
             [
              1,
              "#f0f921"
             ]
            ],
            "type": "surface"
           }
          ],
          "table": [
           {
            "cells": {
             "fill": {
              "color": "#EBF0F8"
             },
             "line": {
              "color": "white"
             }
            },
            "header": {
             "fill": {
              "color": "#C8D4E3"
             },
             "line": {
              "color": "white"
             }
            },
            "type": "table"
           }
          ]
         },
         "layout": {
          "annotationdefaults": {
           "arrowcolor": "#2a3f5f",
           "arrowhead": 0,
           "arrowwidth": 1
          },
          "autotypenumbers": "strict",
          "coloraxis": {
           "colorbar": {
            "outlinewidth": 0,
            "ticks": ""
           }
          },
          "colorscale": {
           "diverging": [
            [
             0,
             "#8e0152"
            ],
            [
             0.1,
             "#c51b7d"
            ],
            [
             0.2,
             "#de77ae"
            ],
            [
             0.3,
             "#f1b6da"
            ],
            [
             0.4,
             "#fde0ef"
            ],
            [
             0.5,
             "#f7f7f7"
            ],
            [
             0.6,
             "#e6f5d0"
            ],
            [
             0.7,
             "#b8e186"
            ],
            [
             0.8,
             "#7fbc41"
            ],
            [
             0.9,
             "#4d9221"
            ],
            [
             1,
             "#276419"
            ]
           ],
           "sequential": [
            [
             0,
             "#0d0887"
            ],
            [
             0.1111111111111111,
             "#46039f"
            ],
            [
             0.2222222222222222,
             "#7201a8"
            ],
            [
             0.3333333333333333,
             "#9c179e"
            ],
            [
             0.4444444444444444,
             "#bd3786"
            ],
            [
             0.5555555555555556,
             "#d8576b"
            ],
            [
             0.6666666666666666,
             "#ed7953"
            ],
            [
             0.7777777777777778,
             "#fb9f3a"
            ],
            [
             0.8888888888888888,
             "#fdca26"
            ],
            [
             1,
             "#f0f921"
            ]
           ],
           "sequentialminus": [
            [
             0,
             "#0d0887"
            ],
            [
             0.1111111111111111,
             "#46039f"
            ],
            [
             0.2222222222222222,
             "#7201a8"
            ],
            [
             0.3333333333333333,
             "#9c179e"
            ],
            [
             0.4444444444444444,
             "#bd3786"
            ],
            [
             0.5555555555555556,
             "#d8576b"
            ],
            [
             0.6666666666666666,
             "#ed7953"
            ],
            [
             0.7777777777777778,
             "#fb9f3a"
            ],
            [
             0.8888888888888888,
             "#fdca26"
            ],
            [
             1,
             "#f0f921"
            ]
           ]
          },
          "colorway": [
           "#636efa",
           "#EF553B",
           "#00cc96",
           "#ab63fa",
           "#FFA15A",
           "#19d3f3",
           "#FF6692",
           "#B6E880",
           "#FF97FF",
           "#FECB52"
          ],
          "font": {
           "color": "#2a3f5f"
          },
          "geo": {
           "bgcolor": "white",
           "lakecolor": "white",
           "landcolor": "#E5ECF6",
           "showlakes": true,
           "showland": true,
           "subunitcolor": "white"
          },
          "hoverlabel": {
           "align": "left"
          },
          "hovermode": "closest",
          "mapbox": {
           "style": "light"
          },
          "paper_bgcolor": "white",
          "plot_bgcolor": "#E5ECF6",
          "polar": {
           "angularaxis": {
            "gridcolor": "white",
            "linecolor": "white",
            "ticks": ""
           },
           "bgcolor": "#E5ECF6",
           "radialaxis": {
            "gridcolor": "white",
            "linecolor": "white",
            "ticks": ""
           }
          },
          "scene": {
           "xaxis": {
            "backgroundcolor": "#E5ECF6",
            "gridcolor": "white",
            "gridwidth": 2,
            "linecolor": "white",
            "showbackground": true,
            "ticks": "",
            "zerolinecolor": "white"
           },
           "yaxis": {
            "backgroundcolor": "#E5ECF6",
            "gridcolor": "white",
            "gridwidth": 2,
            "linecolor": "white",
            "showbackground": true,
            "ticks": "",
            "zerolinecolor": "white"
           },
           "zaxis": {
            "backgroundcolor": "#E5ECF6",
            "gridcolor": "white",
            "gridwidth": 2,
            "linecolor": "white",
            "showbackground": true,
            "ticks": "",
            "zerolinecolor": "white"
           }
          },
          "shapedefaults": {
           "line": {
            "color": "#2a3f5f"
           }
          },
          "ternary": {
           "aaxis": {
            "gridcolor": "white",
            "linecolor": "white",
            "ticks": ""
           },
           "baxis": {
            "gridcolor": "white",
            "linecolor": "white",
            "ticks": ""
           },
           "bgcolor": "#E5ECF6",
           "caxis": {
            "gridcolor": "white",
            "linecolor": "white",
            "ticks": ""
           }
          },
          "title": {
           "x": 0.05
          },
          "xaxis": {
           "automargin": true,
           "gridcolor": "white",
           "linecolor": "white",
           "ticks": "",
           "title": {
            "standoff": 15
           },
           "zerolinecolor": "white",
           "zerolinewidth": 2
          },
          "yaxis": {
           "automargin": true,
           "gridcolor": "white",
           "linecolor": "white",
           "ticks": "",
           "title": {
            "standoff": 15
           },
           "zerolinecolor": "white",
           "zerolinewidth": 2
          }
         }
        },
        "title": {
         "text": "고객 세그먼트별 분포"
        },
        "xaxis": {
         "anchor": "y",
         "categoryarray": [
          "Potential",
          "Loyalists",
          "Needs Attention",
          "Champions",
          "At Risk"
         ],
         "categoryorder": "total descending",
         "domain": [
          0,
          1
         ],
         "title": {
          "text": "Segment"
         }
        },
        "yaxis": {
         "anchor": "x",
         "domain": [
          0,
          1
         ],
         "title": {
          "text": "Count"
         }
        }
       }
      }
     },
     "metadata": {},
     "output_type": "display_data"
    }
   ],
   "source": [
    "# 세그먼트별 고객 수 계산 및 시각화\n",
    "segment_counts = rfm_df['Segment'].value_counts().reset_index()\n",
    "segment_counts.columns = ['Segment', 'Count']\n",
    "\n",
    "fig_bar = px.bar(segment_counts, x='Segment', y='Count', \n",
    "                 title='고객 세그먼트별 분포',\n",
    "                 color='Segment',\n",
    "                 text_auto=True)\n",
    "fig_bar.update_xaxes(categoryorder='total descending')\n",
    "fig_bar.show()"
   ]
  },
  {
   "cell_type": "code",
   "execution_count": 14,
   "metadata": {},
   "outputs": [
    {
     "data": {
      "application/vnd.plotly.v1+json": {
       "config": {
        "plotlyServerURL": "https://plot.ly"
       },
       "data": [
        {
         "branchvalues": "total",
         "customdata": [
          [
           "(?)",
           621485,
           56.74884993201767
          ],
          [
           "(?)",
           37517,
           73.22203267851907
          ],
          [
           "(?)",
           316628,
           67.49996525891582
          ],
          [
           "(?)",
           375520,
           20.103413932680017
          ],
          [
           "(?)",
           5838,
           85.9138403562864
          ]
         ],
         "domain": {
          "x": [
           0,
           1
          ],
          "y": [
           0,
           1
          ]
         },
         "hovertemplate": "labels=%{label}<br>Monetary=%{customdata[1]}<br>parent=%{parent}<br>id=%{id}<br>Frequency=%{customdata[0]}<br>Recency=%{color}<extra></extra>",
         "ids": [
          "Loyalists",
          "Needs Attention",
          "Potential",
          "Champions",
          "At Risk"
         ],
         "labels": [
          "Loyalists",
          "Needs Attention",
          "Potential",
          "Champions",
          "At Risk"
         ],
         "marker": {
          "coloraxis": "coloraxis",
          "colors": {
           "bdata": "WdCHUNpfTEB+OI3INU5SQH8LSW7/31BAuc/iVXkaNED3AENcfHpVQA==",
           "dtype": "f8"
          }
         },
         "name": "",
         "parents": [
          "",
          "",
          "",
          "",
          ""
         ],
         "type": "treemap",
         "values": {
          "bdata": "AAAAAFr3IkEAAAAAoFHiQAAAAABQUxNBAAAAAIDrFkEAAAAAAM62QA==",
          "dtype": "f8"
         }
        }
       ],
       "layout": {
        "coloraxis": {
         "colorbar": {
          "title": {
           "text": "Recency"
          }
         },
         "colorscale": [
          [
           0,
           "rgb(0,104,55)"
          ],
          [
           0.1,
           "rgb(26,152,80)"
          ],
          [
           0.2,
           "rgb(102,189,99)"
          ],
          [
           0.3,
           "rgb(166,217,106)"
          ],
          [
           0.4,
           "rgb(217,239,139)"
          ],
          [
           0.5,
           "rgb(255,255,191)"
          ],
          [
           0.6,
           "rgb(254,224,139)"
          ],
          [
           0.7,
           "rgb(253,174,97)"
          ],
          [
           0.8,
           "rgb(244,109,67)"
          ],
          [
           0.9,
           "rgb(215,48,39)"
          ],
          [
           1,
           "rgb(165,0,38)"
          ]
         ]
        },
        "legend": {
         "tracegroupgap": 0
        },
        "template": {
         "data": {
          "bar": [
           {
            "error_x": {
             "color": "#2a3f5f"
            },
            "error_y": {
             "color": "#2a3f5f"
            },
            "marker": {
             "line": {
              "color": "#E5ECF6",
              "width": 0.5
             },
             "pattern": {
              "fillmode": "overlay",
              "size": 10,
              "solidity": 0.2
             }
            },
            "type": "bar"
           }
          ],
          "barpolar": [
           {
            "marker": {
             "line": {
              "color": "#E5ECF6",
              "width": 0.5
             },
             "pattern": {
              "fillmode": "overlay",
              "size": 10,
              "solidity": 0.2
             }
            },
            "type": "barpolar"
           }
          ],
          "carpet": [
           {
            "aaxis": {
             "endlinecolor": "#2a3f5f",
             "gridcolor": "white",
             "linecolor": "white",
             "minorgridcolor": "white",
             "startlinecolor": "#2a3f5f"
            },
            "baxis": {
             "endlinecolor": "#2a3f5f",
             "gridcolor": "white",
             "linecolor": "white",
             "minorgridcolor": "white",
             "startlinecolor": "#2a3f5f"
            },
            "type": "carpet"
           }
          ],
          "choropleth": [
           {
            "colorbar": {
             "outlinewidth": 0,
             "ticks": ""
            },
            "type": "choropleth"
           }
          ],
          "contour": [
           {
            "colorbar": {
             "outlinewidth": 0,
             "ticks": ""
            },
            "colorscale": [
             [
              0,
              "#0d0887"
             ],
             [
              0.1111111111111111,
              "#46039f"
             ],
             [
              0.2222222222222222,
              "#7201a8"
             ],
             [
              0.3333333333333333,
              "#9c179e"
             ],
             [
              0.4444444444444444,
              "#bd3786"
             ],
             [
              0.5555555555555556,
              "#d8576b"
             ],
             [
              0.6666666666666666,
              "#ed7953"
             ],
             [
              0.7777777777777778,
              "#fb9f3a"
             ],
             [
              0.8888888888888888,
              "#fdca26"
             ],
             [
              1,
              "#f0f921"
             ]
            ],
            "type": "contour"
           }
          ],
          "contourcarpet": [
           {
            "colorbar": {
             "outlinewidth": 0,
             "ticks": ""
            },
            "type": "contourcarpet"
           }
          ],
          "heatmap": [
           {
            "colorbar": {
             "outlinewidth": 0,
             "ticks": ""
            },
            "colorscale": [
             [
              0,
              "#0d0887"
             ],
             [
              0.1111111111111111,
              "#46039f"
             ],
             [
              0.2222222222222222,
              "#7201a8"
             ],
             [
              0.3333333333333333,
              "#9c179e"
             ],
             [
              0.4444444444444444,
              "#bd3786"
             ],
             [
              0.5555555555555556,
              "#d8576b"
             ],
             [
              0.6666666666666666,
              "#ed7953"
             ],
             [
              0.7777777777777778,
              "#fb9f3a"
             ],
             [
              0.8888888888888888,
              "#fdca26"
             ],
             [
              1,
              "#f0f921"
             ]
            ],
            "type": "heatmap"
           }
          ],
          "histogram": [
           {
            "marker": {
             "pattern": {
              "fillmode": "overlay",
              "size": 10,
              "solidity": 0.2
             }
            },
            "type": "histogram"
           }
          ],
          "histogram2d": [
           {
            "colorbar": {
             "outlinewidth": 0,
             "ticks": ""
            },
            "colorscale": [
             [
              0,
              "#0d0887"
             ],
             [
              0.1111111111111111,
              "#46039f"
             ],
             [
              0.2222222222222222,
              "#7201a8"
             ],
             [
              0.3333333333333333,
              "#9c179e"
             ],
             [
              0.4444444444444444,
              "#bd3786"
             ],
             [
              0.5555555555555556,
              "#d8576b"
             ],
             [
              0.6666666666666666,
              "#ed7953"
             ],
             [
              0.7777777777777778,
              "#fb9f3a"
             ],
             [
              0.8888888888888888,
              "#fdca26"
             ],
             [
              1,
              "#f0f921"
             ]
            ],
            "type": "histogram2d"
           }
          ],
          "histogram2dcontour": [
           {
            "colorbar": {
             "outlinewidth": 0,
             "ticks": ""
            },
            "colorscale": [
             [
              0,
              "#0d0887"
             ],
             [
              0.1111111111111111,
              "#46039f"
             ],
             [
              0.2222222222222222,
              "#7201a8"
             ],
             [
              0.3333333333333333,
              "#9c179e"
             ],
             [
              0.4444444444444444,
              "#bd3786"
             ],
             [
              0.5555555555555556,
              "#d8576b"
             ],
             [
              0.6666666666666666,
              "#ed7953"
             ],
             [
              0.7777777777777778,
              "#fb9f3a"
             ],
             [
              0.8888888888888888,
              "#fdca26"
             ],
             [
              1,
              "#f0f921"
             ]
            ],
            "type": "histogram2dcontour"
           }
          ],
          "mesh3d": [
           {
            "colorbar": {
             "outlinewidth": 0,
             "ticks": ""
            },
            "type": "mesh3d"
           }
          ],
          "parcoords": [
           {
            "line": {
             "colorbar": {
              "outlinewidth": 0,
              "ticks": ""
             }
            },
            "type": "parcoords"
           }
          ],
          "pie": [
           {
            "automargin": true,
            "type": "pie"
           }
          ],
          "scatter": [
           {
            "fillpattern": {
             "fillmode": "overlay",
             "size": 10,
             "solidity": 0.2
            },
            "type": "scatter"
           }
          ],
          "scatter3d": [
           {
            "line": {
             "colorbar": {
              "outlinewidth": 0,
              "ticks": ""
             }
            },
            "marker": {
             "colorbar": {
              "outlinewidth": 0,
              "ticks": ""
             }
            },
            "type": "scatter3d"
           }
          ],
          "scattercarpet": [
           {
            "marker": {
             "colorbar": {
              "outlinewidth": 0,
              "ticks": ""
             }
            },
            "type": "scattercarpet"
           }
          ],
          "scattergeo": [
           {
            "marker": {
             "colorbar": {
              "outlinewidth": 0,
              "ticks": ""
             }
            },
            "type": "scattergeo"
           }
          ],
          "scattergl": [
           {
            "marker": {
             "colorbar": {
              "outlinewidth": 0,
              "ticks": ""
             }
            },
            "type": "scattergl"
           }
          ],
          "scattermap": [
           {
            "marker": {
             "colorbar": {
              "outlinewidth": 0,
              "ticks": ""
             }
            },
            "type": "scattermap"
           }
          ],
          "scattermapbox": [
           {
            "marker": {
             "colorbar": {
              "outlinewidth": 0,
              "ticks": ""
             }
            },
            "type": "scattermapbox"
           }
          ],
          "scatterpolar": [
           {
            "marker": {
             "colorbar": {
              "outlinewidth": 0,
              "ticks": ""
             }
            },
            "type": "scatterpolar"
           }
          ],
          "scatterpolargl": [
           {
            "marker": {
             "colorbar": {
              "outlinewidth": 0,
              "ticks": ""
             }
            },
            "type": "scatterpolargl"
           }
          ],
          "scatterternary": [
           {
            "marker": {
             "colorbar": {
              "outlinewidth": 0,
              "ticks": ""
             }
            },
            "type": "scatterternary"
           }
          ],
          "surface": [
           {
            "colorbar": {
             "outlinewidth": 0,
             "ticks": ""
            },
            "colorscale": [
             [
              0,
              "#0d0887"
             ],
             [
              0.1111111111111111,
              "#46039f"
             ],
             [
              0.2222222222222222,
              "#7201a8"
             ],
             [
              0.3333333333333333,
              "#9c179e"
             ],
             [
              0.4444444444444444,
              "#bd3786"
             ],
             [
              0.5555555555555556,
              "#d8576b"
             ],
             [
              0.6666666666666666,
              "#ed7953"
             ],
             [
              0.7777777777777778,
              "#fb9f3a"
             ],
             [
              0.8888888888888888,
              "#fdca26"
             ],
             [
              1,
              "#f0f921"
             ]
            ],
            "type": "surface"
           }
          ],
          "table": [
           {
            "cells": {
             "fill": {
              "color": "#EBF0F8"
             },
             "line": {
              "color": "white"
             }
            },
            "header": {
             "fill": {
              "color": "#C8D4E3"
             },
             "line": {
              "color": "white"
             }
            },
            "type": "table"
           }
          ]
         },
         "layout": {
          "annotationdefaults": {
           "arrowcolor": "#2a3f5f",
           "arrowhead": 0,
           "arrowwidth": 1
          },
          "autotypenumbers": "strict",
          "coloraxis": {
           "colorbar": {
            "outlinewidth": 0,
            "ticks": ""
           }
          },
          "colorscale": {
           "diverging": [
            [
             0,
             "#8e0152"
            ],
            [
             0.1,
             "#c51b7d"
            ],
            [
             0.2,
             "#de77ae"
            ],
            [
             0.3,
             "#f1b6da"
            ],
            [
             0.4,
             "#fde0ef"
            ],
            [
             0.5,
             "#f7f7f7"
            ],
            [
             0.6,
             "#e6f5d0"
            ],
            [
             0.7,
             "#b8e186"
            ],
            [
             0.8,
             "#7fbc41"
            ],
            [
             0.9,
             "#4d9221"
            ],
            [
             1,
             "#276419"
            ]
           ],
           "sequential": [
            [
             0,
             "#0d0887"
            ],
            [
             0.1111111111111111,
             "#46039f"
            ],
            [
             0.2222222222222222,
             "#7201a8"
            ],
            [
             0.3333333333333333,
             "#9c179e"
            ],
            [
             0.4444444444444444,
             "#bd3786"
            ],
            [
             0.5555555555555556,
             "#d8576b"
            ],
            [
             0.6666666666666666,
             "#ed7953"
            ],
            [
             0.7777777777777778,
             "#fb9f3a"
            ],
            [
             0.8888888888888888,
             "#fdca26"
            ],
            [
             1,
             "#f0f921"
            ]
           ],
           "sequentialminus": [
            [
             0,
             "#0d0887"
            ],
            [
             0.1111111111111111,
             "#46039f"
            ],
            [
             0.2222222222222222,
             "#7201a8"
            ],
            [
             0.3333333333333333,
             "#9c179e"
            ],
            [
             0.4444444444444444,
             "#bd3786"
            ],
            [
             0.5555555555555556,
             "#d8576b"
            ],
            [
             0.6666666666666666,
             "#ed7953"
            ],
            [
             0.7777777777777778,
             "#fb9f3a"
            ],
            [
             0.8888888888888888,
             "#fdca26"
            ],
            [
             1,
             "#f0f921"
            ]
           ]
          },
          "colorway": [
           "#636efa",
           "#EF553B",
           "#00cc96",
           "#ab63fa",
           "#FFA15A",
           "#19d3f3",
           "#FF6692",
           "#B6E880",
           "#FF97FF",
           "#FECB52"
          ],
          "font": {
           "color": "#2a3f5f"
          },
          "geo": {
           "bgcolor": "white",
           "lakecolor": "white",
           "landcolor": "#E5ECF6",
           "showlakes": true,
           "showland": true,
           "subunitcolor": "white"
          },
          "hoverlabel": {
           "align": "left"
          },
          "hovermode": "closest",
          "mapbox": {
           "style": "light"
          },
          "paper_bgcolor": "white",
          "plot_bgcolor": "#E5ECF6",
          "polar": {
           "angularaxis": {
            "gridcolor": "white",
            "linecolor": "white",
            "ticks": ""
           },
           "bgcolor": "#E5ECF6",
           "radialaxis": {
            "gridcolor": "white",
            "linecolor": "white",
            "ticks": ""
           }
          },
          "scene": {
           "xaxis": {
            "backgroundcolor": "#E5ECF6",
            "gridcolor": "white",
            "gridwidth": 2,
            "linecolor": "white",
            "showbackground": true,
            "ticks": "",
            "zerolinecolor": "white"
           },
           "yaxis": {
            "backgroundcolor": "#E5ECF6",
            "gridcolor": "white",
            "gridwidth": 2,
            "linecolor": "white",
            "showbackground": true,
            "ticks": "",
            "zerolinecolor": "white"
           },
           "zaxis": {
            "backgroundcolor": "#E5ECF6",
            "gridcolor": "white",
            "gridwidth": 2,
            "linecolor": "white",
            "showbackground": true,
            "ticks": "",
            "zerolinecolor": "white"
           }
          },
          "shapedefaults": {
           "line": {
            "color": "#2a3f5f"
           }
          },
          "ternary": {
           "aaxis": {
            "gridcolor": "white",
            "linecolor": "white",
            "ticks": ""
           },
           "baxis": {
            "gridcolor": "white",
            "linecolor": "white",
            "ticks": ""
           },
           "bgcolor": "#E5ECF6",
           "caxis": {
            "gridcolor": "white",
            "linecolor": "white",
            "ticks": ""
           }
          },
          "title": {
           "x": 0.05
          },
          "xaxis": {
           "automargin": true,
           "gridcolor": "white",
           "linecolor": "white",
           "ticks": "",
           "title": {
            "standoff": 15
           },
           "zerolinecolor": "white",
           "zerolinewidth": 2
          },
          "yaxis": {
           "automargin": true,
           "gridcolor": "white",
           "linecolor": "white",
           "ticks": "",
           "title": {
            "standoff": 15
           },
           "zerolinecolor": "white",
           "zerolinewidth": 2
          }
         }
        },
        "title": {
         "text": "세그먼트별 총 구매액 및 최근성"
        }
       }
      }
     },
     "metadata": {},
     "output_type": "display_data"
    }
   ],
   "source": [
    "# 각 사각형의 크기는 고객의 총 구매액(Monetary), 색상은 최근성(Recency)을 나타냅니다.\n",
    "fig_treemap = px.treemap(rfm_df, path=['Segment'], \n",
    "                         values='Monetary',\n",
    "                         color='Recency',\n",
    "                         hover_data=['Frequency', 'Monetary', 'Recency'],\n",
    "                         color_continuous_scale='RdYlGn_r',\n",
    "                         title='세그먼트별 총 구매액 및 최근성')\n",
    "fig_treemap.show()"
   ]
  },
  {
   "cell_type": "code",
   "execution_count": 15,
   "metadata": {},
   "outputs": [],
   "source": [
    "from plotly.subplots import make_subplots\n",
    "import plotly.graph_objects as go\n",
    "import plotly.express as px\n",
    "import warnings\n",
    "warnings.filterwarnings('ignore')"
   ]
  },
  {
   "cell_type": "code",
   "execution_count": 16,
   "metadata": {},
   "outputs": [
    {
     "name": "stdout",
     "output_type": "stream",
     "text": [
      "세그먼트별 RFM 지표 요약:\n"
     ]
    },
    {
     "data": {
      "text/html": [
       "<div>\n",
       "<style scoped>\n",
       "    .dataframe tbody tr th:only-of-type {\n",
       "        vertical-align: middle;\n",
       "    }\n",
       "\n",
       "    .dataframe tbody tr th {\n",
       "        vertical-align: top;\n",
       "    }\n",
       "\n",
       "    .dataframe thead th {\n",
       "        text-align: right;\n",
       "    }\n",
       "</style>\n",
       "<table border=\"1\" class=\"dataframe\">\n",
       "  <thead>\n",
       "    <tr style=\"text-align: right;\">\n",
       "      <th></th>\n",
       "      <th>최근성_평균</th>\n",
       "      <th>최근성_표준편차</th>\n",
       "      <th>구매빈도_평균</th>\n",
       "      <th>구매빈도_표준편차</th>\n",
       "      <th>구매금액_평균</th>\n",
       "      <th>구매금액_표준편차</th>\n",
       "      <th>RFM점수_평균</th>\n",
       "      <th>고객수</th>\n",
       "    </tr>\n",
       "    <tr>\n",
       "      <th>Segment</th>\n",
       "      <th></th>\n",
       "      <th></th>\n",
       "      <th></th>\n",
       "      <th></th>\n",
       "      <th></th>\n",
       "      <th></th>\n",
       "      <th></th>\n",
       "      <th></th>\n",
       "    </tr>\n",
       "  </thead>\n",
       "  <tbody>\n",
       "    <tr>\n",
       "      <th>At Risk</th>\n",
       "      <td>85.74</td>\n",
       "      <td>7.46</td>\n",
       "      <td>4.34</td>\n",
       "      <td>1.11</td>\n",
       "      <td>40.83</td>\n",
       "      <td>16.82</td>\n",
       "      <td>3.00</td>\n",
       "      <td>143</td>\n",
       "    </tr>\n",
       "    <tr>\n",
       "      <th>Champions</th>\n",
       "      <td>18.94</td>\n",
       "      <td>13.78</td>\n",
       "      <td>21.19</td>\n",
       "      <td>3.66</td>\n",
       "      <td>1336.37</td>\n",
       "      <td>404.05</td>\n",
       "      <td>11.26</td>\n",
       "      <td>281</td>\n",
       "    </tr>\n",
       "    <tr>\n",
       "      <th>Loyalists</th>\n",
       "      <td>50.02</td>\n",
       "      <td>25.25</td>\n",
       "      <td>19.00</td>\n",
       "      <td>4.04</td>\n",
       "      <td>1111.78</td>\n",
       "      <td>490.74</td>\n",
       "      <td>9.46</td>\n",
       "      <td>559</td>\n",
       "    </tr>\n",
       "    <tr>\n",
       "      <th>Needs Attention</th>\n",
       "      <td>61.09</td>\n",
       "      <td>21.10</td>\n",
       "      <td>5.50</td>\n",
       "      <td>2.18</td>\n",
       "      <td>82.45</td>\n",
       "      <td>72.86</td>\n",
       "      <td>4.64</td>\n",
       "      <td>455</td>\n",
       "    </tr>\n",
       "    <tr>\n",
       "      <th>Potential</th>\n",
       "      <td>45.72</td>\n",
       "      <td>30.32</td>\n",
       "      <td>10.46</td>\n",
       "      <td>5.13</td>\n",
       "      <td>394.80</td>\n",
       "      <td>403.62</td>\n",
       "      <td>7.04</td>\n",
       "      <td>802</td>\n",
       "    </tr>\n",
       "  </tbody>\n",
       "</table>\n",
       "</div>"
      ],
      "text/plain": [
       "                 최근성_평균  최근성_표준편차  구매빈도_평균  구매빈도_표준편차  구매금액_평균  구매금액_표준편차  \\\n",
       "Segment                                                                     \n",
       "At Risk           85.74      7.46     4.34       1.11    40.83      16.82   \n",
       "Champions         18.94     13.78    21.19       3.66  1336.37     404.05   \n",
       "Loyalists         50.02     25.25    19.00       4.04  1111.78     490.74   \n",
       "Needs Attention   61.09     21.10     5.50       2.18    82.45      72.86   \n",
       "Potential         45.72     30.32    10.46       5.13   394.80     403.62   \n",
       "\n",
       "                 RFM점수_평균  고객수  \n",
       "Segment                         \n",
       "At Risk              3.00  143  \n",
       "Champions           11.26  281  \n",
       "Loyalists            9.46  559  \n",
       "Needs Attention      4.64  455  \n",
       "Potential            7.04  802  "
      ]
     },
     "execution_count": 16,
     "metadata": {},
     "output_type": "execute_result"
    }
   ],
   "source": [
    "# 세그먼트별 RFM 지표 평균값 분석\n",
    "segment_summary = rfm_df.groupby('Segment').agg({\n",
    "    'Recency': ['mean', 'std'],\n",
    "    'Frequency': ['mean', 'std'], \n",
    "    'Monetary': ['mean', 'std'],\n",
    "    'RFM_Score': ['mean', 'count']\n",
    "}).round(2)\n",
    "\n",
    "segment_summary.columns = ['최근성_평균', '최근성_표준편차', '구매빈도_평균', '구매빈도_표준편차', \n",
    "                          '구매금액_평균', '구매금액_표준편차', 'RFM점수_평균', '고객수']\n",
    "print(\"세그먼트별 RFM 지표 요약:\")\n",
    "segment_summary"
   ]
  },
  {
   "cell_type": "code",
   "execution_count": 17,
   "metadata": {},
   "outputs": [
    {
     "data": {
      "application/vnd.plotly.v1+json": {
       "config": {
        "plotlyServerURL": "https://plot.ly"
       },
       "data": [
        {
         "hovertemplate": "Segment=Loyalists<br>최근성 (일)=%{x}<br>구매빈도 (회)=%{y}<br>구매금액 (원)=%{z}<br>RFM_Score=%{marker.size}<extra></extra>",
         "legendgroup": "Loyalists",
         "marker": {
          "color": "#636efa",
          "size": {
           "bdata": "CgAAAAoAAAAJAAAACQAAAAoAAAAJAAAACgAAAAkAAAAJAAAACgAAAAoAAAAKAAAACgAAAAoAAAAKAAAACgAAAAoAAAAKAAAACQAAAAkAAAAKAAAACgAAAAkAAAAKAAAACQAAAAkAAAAKAAAACgAAAAoAAAAJAAAACgAAAAoAAAAKAAAACgAAAAoAAAAJAAAACgAAAAkAAAAKAAAACgAAAAoAAAAJAAAACQAAAAkAAAAJAAAACQAAAAoAAAAKAAAACQAAAAoAAAAJAAAACQAAAAkAAAAKAAAACgAAAAoAAAAJAAAACQAAAAkAAAAKAAAACQAAAAkAAAAJAAAACQAAAAkAAAAKAAAACgAAAAkAAAAKAAAACQAAAAoAAAAKAAAACgAAAAkAAAAJAAAACQAAAAkAAAAJAAAACgAAAAoAAAAKAAAACgAAAAoAAAAJAAAACQAAAAoAAAAKAAAACgAAAAoAAAAKAAAACQAAAAkAAAAJAAAACQAAAAoAAAAJAAAACQAAAAoAAAAKAAAACgAAAAkAAAAJAAAACgAAAAoAAAAJAAAACQAAAAoAAAAJAAAACgAAAAkAAAAJAAAACgAAAAkAAAAJAAAACQAAAAoAAAAJAAAACgAAAAoAAAAJAAAACgAAAAoAAAAJAAAACgAAAAkAAAAKAAAACgAAAAkAAAAJAAAACQAAAAkAAAAKAAAACgAAAAkAAAAKAAAACgAAAAoAAAAJAAAACQAAAAoAAAAJAAAACgAAAAkAAAAKAAAACQAAAAoAAAAJAAAACgAAAAoAAAAJAAAACgAAAAkAAAAJAAAACQAAAAkAAAAJAAAACQAAAAkAAAAJAAAACQAAAAoAAAAJAAAACgAAAAkAAAAKAAAACgAAAAkAAAAKAAAACQAAAAkAAAAKAAAACgAAAAoAAAAKAAAACQAAAAoAAAAKAAAACgAAAAkAAAAJAAAACgAAAAoAAAAJAAAACgAAAAkAAAAKAAAACgAAAAkAAAAKAAAACgAAAAoAAAAJAAAACQAAAAoAAAAJAAAACgAAAAoAAAAJAAAACgAAAAoAAAAKAAAACQAAAAkAAAAJAAAACQAAAAkAAAAKAAAACgAAAAkAAAAKAAAACgAAAAkAAAAJAAAACQAAAAoAAAAKAAAACQAAAAkAAAAJAAAACQAAAAkAAAAJAAAACQAAAAkAAAAKAAAACgAAAAoAAAAJAAAACQAAAAkAAAAJAAAACgAAAAkAAAAJAAAACQAAAAkAAAAJAAAACgAAAAkAAAAKAAAACQAAAAkAAAAJAAAACgAAAAoAAAAJAAAACgAAAAkAAAAJAAAACgAAAAoAAAAJAAAACQAAAAoAAAAKAAAACgAAAAoAAAAJAAAACQAAAAkAAAAJAAAACgAAAAoAAAAKAAAACgAAAAkAAAAJAAAACgAAAAoAAAAKAAAACQAAAAkAAAAKAAAACQAAAAkAAAAKAAAACQAAAAkAAAAKAAAACQAAAAoAAAAKAAAACQAAAAkAAAAJAAAACgAAAAoAAAAJAAAACQAAAAoAAAAKAAAACQAAAAkAAAAJAAAACQAAAAkAAAAJAAAACgAAAAoAAAAJAAAACgAAAAkAAAAJAAAACQAAAAkAAAAJAAAACQAAAAkAAAAJAAAACQAAAAkAAAAKAAAACQAAAAoAAAAKAAAACQAAAAkAAAAJAAAACgAAAAkAAAAJAAAACgAAAAkAAAAJAAAACQAAAAkAAAAKAAAACgAAAAoAAAAJAAAACQAAAAkAAAAKAAAACQAAAAoAAAAJAAAACQAAAAkAAAAKAAAACQAAAAkAAAAJAAAACgAAAAoAAAAJAAAACgAAAAkAAAAKAAAACQAAAAkAAAAKAAAACQAAAAoAAAAKAAAACQAAAAkAAAAKAAAACQAAAAkAAAAJAAAACgAAAAkAAAAJAAAACgAAAAkAAAAJAAAACQAAAAoAAAAJAAAACQAAAAkAAAAKAAAACQAAAAoAAAAJAAAACQAAAAkAAAAKAAAACgAAAAkAAAAJAAAACgAAAAkAAAAKAAAACgAAAAoAAAAKAAAACgAAAAkAAAAJAAAACgAAAAoAAAAKAAAACQAAAAoAAAAJAAAACQAAAAoAAAAJAAAACQAAAAkAAAAJAAAACQAAAAoAAAAKAAAACgAAAAkAAAAJAAAACQAAAAkAAAAJAAAACQAAAAoAAAAKAAAACgAAAAoAAAAJAAAACQAAAAoAAAAJAAAACgAAAAkAAAAKAAAACQAAAAkAAAAJAAAACgAAAAkAAAAJAAAACgAAAAkAAAAKAAAACQAAAAoAAAAJAAAACgAAAAoAAAAJAAAACQAAAAkAAAAJAAAACQAAAAoAAAAJAAAACQAAAAkAAAAJAAAACQAAAAoAAAAKAAAACgAAAAoAAAAKAAAACgAAAAkAAAAKAAAACgAAAAkAAAAKAAAACgAAAAkAAAAJAAAACQAAAAkAAAAKAAAACQAAAAkAAAAKAAAACQAAAAkAAAAJAAAACQAAAAoAAAAJAAAACgAAAAoAAAAKAAAACQAAAAoAAAAJAAAACgAAAAoAAAAKAAAACQAAAAoAAAAKAAAACgAAAAoAAAAKAAAACQAAAAoAAAAJAAAACgAAAAoAAAAJAAAACQAAAAkAAAAJAAAACQAAAAoAAAAJAAAACgAAAAkAAAAKAAAACQAAAAoAAAAJAAAACQAAAAkAAAAJAAAACQAAAAoAAAAJAAAACgAAAAkAAAAKAAAACQAAAAkAAAAKAAAACgAAAAoAAAAJAAAACQAAAAoAAAAJAAAACQAAAAoAAAAJAAAACQAAAAkAAAAJAAAACQAAAAoAAAAKAAAACQAAAAkAAAAJAAAACQAAAAoAAAAKAAAACgAAAAkAAAAKAAAACgAAAAkAAAAKAAAACQAAAAoAAAAKAAAACgAAAAoAAAAKAAAACQAAAAoAAAAKAAAACQAAAAkAAAAKAAAACgAAAA==",
           "dtype": "i4"
          },
          "sizemode": "area",
          "sizeref": 0.03,
          "symbol": "circle"
         },
         "mode": "markers",
         "name": "Loyalists",
         "scene": "scene",
         "showlegend": true,
         "type": "scatter3d",
         "x": {
          "bdata": "OhoiWwBgJTUdNjcSGggdBB0iA0YELCA7RDgSLigbExlFJRdICioKSS8cOUBiGy44TywiYjw/NhVCUTgbSB5ZIGIoSlo5TTAuLw0fOB5AID4iLEUeQxcpMSYkX0FdJjlXJkAbCzlCOAscSRpNHCpMDkcCPC9TKBMpI0g/Qk0xGElBRDkePUsbQQReSRc2OC5IBjU6ORQcPwlXUSEmM1EgYAMuHRoeG10xLE0BPikWRRo5HllXOBw3GSE5CRwWLTZMHAFISAw2AD0zUyoyYh4rGzwAAUIdABsiYEMuNVFhE0soHUlDUjVCHTszPjwfQS4bHVVCRj8rQSJGJgEZLjkLNjpGUkRXFxY0BAkQLj4YPk4RGFlKWFQ7YAsTPTdFCB0hNxkjUUBCQGBOCDhKL2JENzNhMycxW1UpSRYeOF9aElBEMT49Mk45HQIgWFsjHiQOSAE4QAs2JygoKFRHNikcJgkYHS05TjJVPjBJIkowWBtcSTYpOzBjITI/CF0aHTUDRTscFl9cIwsVRxtHORg3PGFCNj0AI00tR1ZQXEcgMD0mIUYgSjgwJy9IHUQ2AWIGSC5ZDRtjVx5KR0Y5VFxIJzcOOD5GSSoQDWEPNFlCSkMmWlcJVSw5VDVBLSodMgM+OEMTPA0lPCY6OzwbEgAgMSYuJj1POV4XYjwsIzFQNj9GF18LIEsCOi88PwFZMB8yXWIiPEAwFTo7Wgo/Dk0pGTMDIDwwPQoDHyoqNidHLg==",
          "dtype": "i1"
         },
         "y": {
          "bdata": "FhQRGBEZFxYQFBoSFBIPERoSDRIRGA4ZDxYNFxAREA8bDw4TDhISFhYNGBEWEQ4bGBgQGxEaGhAQGA8PEA4aEhUOExMVFRAWEgwMFRAVEhQXFBcNDxISERUOFBEUDxMVEhkPDhAPFw8QEg8WERAYDxYMFRITFhAOHBUYExUTEA8QDRMSExMSFQ8TFg4UEw0fDRUQFA0PGw0XGQ0SFR0OFQ4SGxISDhQWERkOFxYLERITFxUXFBcSDxETERIQDRcWDQ8VFhAUERMXFREXGhISERQRDxMODhAWFRIQFhcXDBUSERgSGRIPFxcOEhIOGBIRDxcSFxoOGhEUEwsRDxMSGxMSGBQVEhAZDQ0NFhMQFxQRCxYUExgZFRAKFxQPDxEQEhkPFRUTEBkUEBcSFRcWGBggFQ4RFhoTEg4VEhYaDxYTFBIVExYaEA0OExYVDhoLFw0UFQwUFBQPDhYWEA0QDxESEhETFhAbHBIYDxMRGBEXEhEXEBcTDxAbDhMOERAOExUTEBQYDxARDRQUFREQFSARFB4OFRUSEhcXGRgSFxoRERYOFg0QDw4XEBQQEhcPEBcZDRQYHA4QDxUUFxcXDhYPGxQcFhANEhgSExcRFg8VExMbFxAUFhkRDRITFQ8VFRYQEg8QGxcZFBQODhkQDg4PDhQXGhkSExsMDw0YEBsPEhQRDRUOFRISGBEUERcZFRcQERMODhUUFw4WERoVFBAODRcOFA0OEBESEQ4ZEA==",
          "dtype": "i1"
         },
         "z": {
          "bdata": "UQYIA04C9gYgAogGkQOGA/sBUQalB2QCdANeAjQEjQJfA2IHdAFWBVsC0gOaAZEEYASOA1IDyQMcB2ACJwK8Bm8EgweUAZUCzwF4AtUCaQVnA60B/QPPBEgGpQFdBCsHJgXSA2ACAgUPBX4E2AQdAq4ETwYXBE8E2QaxAV0EXQIoCJoGbgVOCPsFfARNBE0D1wXVA2MGvQOdA4wDfwdeBZQD2AJLBpEBHASoAhsFAwWyAz0HAgaeBKMFBQT9BGkIfAJEBYwH7AGVBGcEPga+AeoB2gSbBUcIpASsAjoE0wFkA30DngPXBQgFzQMGAvoBfwO6BtADpQWFBNoCCQO/BpAEQAYbA+wGpQckBs4ESwfZAcYFcgOUAdUD1QTDA18FiQHFBZsERAXmAVcClgRtASgEGAQFBJ4CoAMaCNMBQggUBHwC7ANmAq0FVQajBYcDVAKhBMUDZAUDBMAFNwU6BSYGwAPZBSgEoAXuA8oEkwQ0AuMFjgItA3UCTAYsBvYFlQHWAlwD2QXvAQEDQQKlBygGygUeAhMEYQb5AtkHQQX8AiACvgHXApEBiQG/Bt0DQgjiBzQChgNzBGYGmQGtBeUExgdyBswE4QYECGcExgMLA2AE/gjiBOMDNwSWAq4E6wEcBnYHPQR+BJUBIwU9AiUDEAJtB9QC6AEmBr4CuwSwB1YFiAnIA+IEjQL6ASIH0wGMAWUB1QOmBwkDqQMrBTICqgGkB90HIQVPBCQEswUDAloFAgTsA0kE1gHdCfgB0AT8AxQHtQWMA/YCPASIBv8HEgI+Br8EJQNfBoMDzQPgA/kFoANLAoEC5wgMBxkDZwXnAzkDBgWoBM0E5QEqCRoDIgP+CEADkAIEBpAFfQS5AZoBIQXLBV0DvwGrAx0DywNzAaAFjAOhAQED1wIaA8YBmgZrBOsI3ASyAm4EEQIsAn0CGwNKAiYGBAaHBHYH3AlkAhUEKATrAoICGASuBHoGgwfSBIgDPgTEA2cFgQJSBJYElwH1BPsD3QlRBKgBNgV1BMYC+gECBoAERARZAn4C1gY3Ay0DOQO2AgAHBAP5BUMG1QP9BZQBLwOFBLACJwWfBjgEPQbyB8cHxAMvBTMCNAJlBMwBZgW3CE0E0wHNAdADfQTIA40EzQE6BfYB4gTJA2YFjgE3A5sEgQexAQUHdwQzBXIDfQRhBqEDSwJ+BuYBVQV5BcEEAAZFAqADkAIZBEMD6wU8BiQHsgOmBjQDTggVCBUBHAagAY0DjAbHBp4EAAU4Be0ChQPHAQcD6AVBBDECOAXPAWoECAb0A8YGNwOVBdYDsgFnAUACnwG7AeQBnQG4BZUHGQVVBH8CcAW7BCcGDwKkA08G3ASWBJAGjQKvBVoCsQEcBpABwARXBQUI0APxAdYHZwL9Aw4EJQZfBmACHgeLB5EEiwEeA9sCpQaeAR0GOAKvBGkD2wJlB6gBPwIeBpEE+AX0AagBCQJXBpsF0gTUARkEPQU=",
          "dtype": "i2"
         }
        },
        {
         "hovertemplate": "Segment=Needs Attention<br>최근성 (일)=%{x}<br>구매빈도 (회)=%{y}<br>구매금액 (원)=%{z}<br>RFM_Score=%{marker.size}<extra></extra>",
         "legendgroup": "Needs Attention",
         "marker": {
          "color": "#EF553B",
          "size": {
           "bdata": "BQAAAAUAAAAEAAAABAAAAAUAAAAFAAAABAAAAAQAAAAFAAAABAAAAAQAAAAFAAAABQAAAAUAAAAFAAAABAAAAAUAAAAEAAAABQAAAAQAAAAFAAAABQAAAAQAAAAEAAAABQAAAAUAAAAFAAAABAAAAAUAAAAEAAAABQAAAAUAAAAFAAAABQAAAAQAAAAFAAAABQAAAAUAAAAFAAAABQAAAAQAAAAEAAAABAAAAAQAAAAFAAAABQAAAAQAAAAFAAAABAAAAAUAAAAEAAAABAAAAAQAAAAEAAAABQAAAAUAAAAFAAAABQAAAAQAAAAEAAAABQAAAAUAAAAFAAAABAAAAAUAAAAFAAAABAAAAAQAAAAFAAAABAAAAAUAAAAFAAAABAAAAAUAAAAFAAAABQAAAAUAAAAFAAAABAAAAAQAAAAFAAAABQAAAAUAAAAFAAAABQAAAAQAAAAEAAAABQAAAAUAAAAEAAAABQAAAAUAAAAFAAAABQAAAAUAAAAEAAAABAAAAAUAAAAEAAAABAAAAAUAAAAEAAAABQAAAAUAAAAFAAAABAAAAAQAAAAFAAAABQAAAAQAAAAEAAAABQAAAAQAAAAFAAAABQAAAAUAAAAFAAAABAAAAAQAAAAFAAAABQAAAAUAAAAFAAAABAAAAAUAAAAEAAAABAAAAAUAAAAFAAAABAAAAAUAAAAEAAAABQAAAAUAAAAFAAAABAAAAAUAAAAFAAAABQAAAAUAAAAEAAAABAAAAAQAAAAFAAAABQAAAAQAAAAFAAAABQAAAAUAAAAEAAAABQAAAAUAAAAFAAAABQAAAAUAAAAFAAAABQAAAAUAAAAFAAAABAAAAAUAAAAFAAAABQAAAAUAAAAFAAAABQAAAAUAAAAFAAAABQAAAAUAAAAFAAAABQAAAAQAAAAFAAAABQAAAAUAAAAFAAAABAAAAAUAAAAEAAAABQAAAAUAAAAEAAAABQAAAAUAAAAFAAAABAAAAAUAAAAFAAAABAAAAAUAAAAFAAAABQAAAAUAAAAFAAAABQAAAAUAAAAEAAAABQAAAAUAAAAFAAAABAAAAAQAAAAFAAAABQAAAAUAAAAFAAAABQAAAAUAAAAEAAAABQAAAAQAAAAEAAAABQAAAAQAAAAFAAAABQAAAAUAAAAEAAAABQAAAAQAAAAEAAAABQAAAAUAAAAEAAAABQAAAAUAAAAFAAAABQAAAAQAAAAEAAAABQAAAAUAAAAFAAAABQAAAAUAAAAFAAAABAAAAAUAAAAFAAAABAAAAAUAAAAFAAAABQAAAAUAAAAFAAAABQAAAAUAAAAEAAAABAAAAAUAAAAEAAAABQAAAAUAAAAFAAAABAAAAAUAAAAFAAAABAAAAAUAAAAFAAAABAAAAAQAAAAFAAAABQAAAAQAAAAEAAAABAAAAAUAAAAFAAAABAAAAAUAAAAFAAAABQAAAAQAAAAFAAAABAAAAAQAAAAFAAAABAAAAAUAAAAFAAAABQAAAAQAAAAFAAAABQAAAAQAAAAFAAAABQAAAAUAAAAEAAAABAAAAAQAAAAEAAAABQAAAAQAAAAFAAAABQAAAAUAAAAFAAAABQAAAAQAAAAFAAAABQAAAAQAAAAFAAAABAAAAAUAAAAFAAAABAAAAAQAAAAEAAAABAAAAAUAAAAEAAAABQAAAAUAAAAFAAAABQAAAAUAAAAFAAAABQAAAAUAAAAFAAAABAAAAAUAAAAEAAAABAAAAAUAAAAFAAAABQAAAAUAAAAFAAAABAAAAAQAAAAFAAAABQAAAAQAAAAEAAAABQAAAAUAAAAFAAAABAAAAAUAAAAFAAAABAAAAAUAAAAFAAAABAAAAAUAAAAFAAAABAAAAAUAAAAFAAAABQAAAAUAAAAFAAAABAAAAAQAAAAFAAAABQAAAAUAAAAFAAAABAAAAAUAAAAEAAAABAAAAAQAAAAFAAAABQAAAAUAAAAEAAAABQAAAAQAAAAEAAAABAAAAAQAAAAEAAAABAAAAAUAAAAFAAAABQAAAAUAAAAFAAAABAAAAAQAAAAFAAAABQAAAAUAAAAFAAAABQAAAAQAAAAEAAAABQAAAAUAAAAFAAAABAAAAAUAAAAFAAAABAAAAAUAAAAFAAAABAAAAAUAAAAFAAAABQAAAAUAAAAFAAAABQAAAAUAAAAEAAAABAAAAAQAAAAFAAAABQAAAAUAAAAFAAAABAAAAAUAAAAEAAAABAAAAAUAAAAFAAAABQAAAAUAAAAEAAAABAAAAAQAAAAEAAAABQAAAAUAAAAFAAAABQAAAAUAAAAFAAAABAAAAAUAAAAEAAAABAAAAAUAAAAFAAAABAAAAAUAAAAEAAAABAAAAAQAAAAFAAAABQAAAAQAAAAFAAAABAAAAAUAAAAFAAAABAAAAAQAAAA=",
           "dtype": "i4"
          },
          "sizemode": "area",
          "sizeref": 0.03,
          "symbol": "circle"
         },
         "mode": "markers",
         "name": "Needs Attention",
         "scene": "scene",
         "showlegend": true,
         "type": "scatter3d",
         "x": {
          "bdata": "JhpEOyYzVlkiN0xQYDYfOTpEV1dPLUVUHiUrVSU/Mx89JUovMV4xW1NUOk1RLT80XVFIXUJBJS42Hzs0XCNhPFUfN0s1WURAVhw7ISclM0EhLT01H0I0ViZKXiEgOFYzR1M3TB40HDFZOEhcWjpDPDZgYzFhQzlDLiEbPCs6ODBVNjlAJxtNPVopHB9cMl5MJkdXXFZKGSIrTBpUWh1eQSEiGkstKyUlIlZaW0xAKicoYDFHIitBKkxPYCsxR1BHN2BXIkk0JRlDOk5TNTJUMDY3IEFUGTRNMzZdPltAYiVBWyYcG14zHWE/IlEzTDgoPUFdSEw3Xls8NjcyUSQ+Qy9ROEpaQT8lKF5hTTErVCVNJz47RFRYOhtFYFkxI0FcIjA9PEA2XGA8WFcZK0EgMVYkNlYyUjhNQVZcYS5EUSkfJSs2YCg5RyZcIzUoODlZLVBHGlQmNVgoRj5iYikuQyRhMSEqUDQtVixXQDZSN1BVMRkzHUhUWTNHRzA+NEckSFMoLygZMERAXjZgOxxMOGFZQiQdLh81MR1iRmFPHDNgMypNUlMnMShEM0RBRSdMGiIZUE5iQlQxYCQ/NEFHUDQcQyghUjI=",
          "dtype": "i1"
         },
         "y": {
          "bdata": "BAYBBQQGBgYGBQYIBwUFBQcDCAYJAwQHBQUFBQUEBgQGBAUFAwkDBwYGBAYJBAUEBgkEBgMDBAQHBAUECQQMBAsDBgYHBgcGBwUGBAYEBQQFBQYHAwQEBwMDCQMFBgkEBAgEBgUFBQQHBAMJDAQEBQUJDAQJBQUGBgQGAwMEBQYKBAYFBgQHBAsEBQQFBAYJBAYICQgDAwUECQMKCQQHAwUFAwoFBAMGAwcJBwEGBAQEBwUEBQUFBAcJBwQEBQsFBwcLBQUDAwQGBgYLBgcIAwYDAwMGBQMHBQYFAQYECwQDBwMFBgUDBAwGBgwGBgcDAwUKBgcFCAcEBAYDBwUGBQQHBAUMAAMEBQYGBgQEBQILBgQGBAYMAwQGCgYDBAYLBQMDBQQECwYGDAgEBgQEBAYFBAcGBgAGBQcGCwMGCgQDBAQGBwUEBAULAwYDBAQJBgUGBAcGAwsDBQYLBQYFBAUIAwUGBgUFCQQIBQYGBAYIBAUEAAQGBgQFBAUFBAYEAwYGBgQDBQQEBwYIBAQJAwgIBAMDAwQFBgQGBgUJBAYHBAQGBgkDAwQEAwUDBQQJBAUFBwsGBAoGBgUEBgYGCQQEBQMGBgM=",
          "dtype": "i1"
         },
         "z": {
          "bdata": "GwA1ADEAPQAuAGAAhQBLAB4AQQBRALoAfABIAB0ALgBBAA0ApQBPAMIAEgAgACsALQA/ADcAUQAhAB4AWgAdAGoAMQAmAEQAFgDTABIAeQBYAFkAJAB3AL8AMgAnAFAAWwAHASYAcgARABYAEwAXADkAEQBAABoA0gAhAEIBHwATARkAMABGAD4AWgBCAGsANQAlAGYAHABBACYAIQAqACwAMQBjADkAGQAeAB0AeAARABYA0wATACkAcgDRAC8AGwCjACkATwAtACsAOQAuAHoAIgAUAMAAXAEZAB8ARgA2AM0ANQEuANgANAAuAEwANgAVAEAACwAVACYAPgAxAOMALwCPADcAPwAqAIEAHAAKASUAJQAqAF8AIQBnAL8AMABDAKUA0gDfABYAFAA7ACIAxgALAAEBDgEdAH4AFwA5ADkAEgDpADAAEAASACYAHABjAPIAtwCJAF0AHQAZACYALwAyACkANwA3AD8ALgBGAMMANQAjACgAKABVAUUALQCAAAcBNwBTAA4AHAAuAF8APgB9ADEBgwA1AJUAFwBeABcAEwAXAFkAOgARAE8ARwBeAFAAsgB6ACUADgExABQAhQAMAD0AQABOABgAOQBGAU0AHgA7AUoAVgA9ABsAEgBLAOEAWwBYAGAAoAC3AB8AMQByABkAWgA9AEgANAAnAIIAIgBHAF8BCAAKADEAMABUAEwAYwAmACwATgA7ABIBOQAsAGYAPQBlAEABGAAeAGcA7QBbABUAKQA7ACEBPQAXABMAPQAlACYAIQF9AEYANgG0AC4ALAAoACAALgBLADcAJgB4AGoAVAAFAHAANwB4AGcADQEXAFwA8AA0AA8AMQA6AF8ALwAjACAAJwA5AA4BEABOAA8AIgAgAOcARABMAC8AJAB6ACkACgAwARUAQwBIAAgBRQBAAB8ANgBEALgAHAAsACYAUQAtADAA0QAYAKUALwB3AFQAKwBMALkAKABEACUACQAiAGcAVAAUACoAJwAcAEgAUABGAC4AFQBbACwAPwAmAA8AJgArACoAogBKAJ0AFAAsAMYAGwDBAK4AGQANABAAFwAVAE8ALgAuAGQALQBPAN8AKwCBAGIAJQAaAGYAYQDPABYAGgAtABYAHABCAAgAZwAZALkAFgAsADYARAASAV4ANgABATgAfQAuADsAIwA9AGoAxwArADUANAAPADMAVAAWAA==",
          "dtype": "i2"
         }
        },
        {
         "hovertemplate": "Segment=Potential<br>최근성 (일)=%{x}<br>구매빈도 (회)=%{y}<br>구매금액 (원)=%{z}<br>RFM_Score=%{marker.size}<extra></extra>",
         "legendgroup": "Potential",
         "marker": {
          "color": "#00cc96",
          "size": {
           "bdata": "BwAAAAcAAAAGAAAABgAAAAgAAAAGAAAACAAAAAcAAAAIAAAACAAAAAgAAAAHAAAABgAAAAcAAAAIAAAABgAAAAYAAAAIAAAACAAAAAgAAAAIAAAABgAAAAcAAAAGAAAACAAAAAYAAAAGAAAABgAAAAcAAAAHAAAACAAAAAcAAAAIAAAACAAAAAgAAAAGAAAACAAAAAgAAAAHAAAABwAAAAcAAAAGAAAACAAAAAgAAAAGAAAACAAAAAcAAAAIAAAACAAAAAgAAAAGAAAABgAAAAgAAAAHAAAABgAAAAYAAAAHAAAABgAAAAgAAAAIAAAACAAAAAYAAAAGAAAACAAAAAYAAAAHAAAABgAAAAgAAAAHAAAABwAAAAcAAAAGAAAABgAAAAcAAAAGAAAACAAAAAcAAAAGAAAABgAAAAcAAAAIAAAABgAAAAgAAAAIAAAABwAAAAcAAAAIAAAACAAAAAYAAAAIAAAABwAAAAYAAAAGAAAABgAAAAYAAAAGAAAACAAAAAcAAAAIAAAABwAAAAgAAAAIAAAABgAAAAcAAAAGAAAACAAAAAYAAAAIAAAABgAAAAYAAAAIAAAACAAAAAYAAAAIAAAACAAAAAgAAAAIAAAACAAAAAgAAAAIAAAABgAAAAcAAAAHAAAABgAAAAgAAAAIAAAACAAAAAgAAAAIAAAABgAAAAcAAAAHAAAACAAAAAYAAAAIAAAABgAAAAgAAAAHAAAABgAAAAYAAAAGAAAABgAAAAYAAAAIAAAABgAAAAcAAAAGAAAABwAAAAYAAAAGAAAACAAAAAcAAAAHAAAABgAAAAcAAAAIAAAABgAAAAgAAAAHAAAABwAAAAcAAAAHAAAACAAAAAYAAAAGAAAACAAAAAgAAAAGAAAACAAAAAYAAAAIAAAACAAAAAYAAAAGAAAACAAAAAgAAAAIAAAABwAAAAcAAAAHAAAACAAAAAgAAAAHAAAACAAAAAYAAAAGAAAABwAAAAYAAAAHAAAACAAAAAgAAAAGAAAABgAAAAcAAAAIAAAABgAAAAYAAAAHAAAACAAAAAcAAAAIAAAABgAAAAcAAAAHAAAABwAAAAgAAAAGAAAABgAAAAgAAAAHAAAACAAAAAYAAAAGAAAACAAAAAcAAAAGAAAABgAAAAgAAAAIAAAACAAAAAgAAAAGAAAACAAAAAYAAAAGAAAABgAAAAgAAAAIAAAABgAAAAYAAAAIAAAACAAAAAYAAAAIAAAABwAAAAYAAAAHAAAACAAAAAcAAAAIAAAACAAAAAcAAAAHAAAABwAAAAcAAAAHAAAACAAAAAcAAAAGAAAABgAAAAcAAAAIAAAABgAAAAgAAAAIAAAACAAAAAgAAAAGAAAACAAAAAgAAAAGAAAABwAAAAYAAAAGAAAACAAAAAcAAAAHAAAABgAAAAcAAAAHAAAACAAAAAcAAAAIAAAACAAAAAYAAAAGAAAACAAAAAgAAAAHAAAABgAAAAcAAAAIAAAABgAAAAcAAAAGAAAACAAAAAcAAAAHAAAABgAAAAgAAAAGAAAACAAAAAYAAAAHAAAABgAAAAcAAAAHAAAABgAAAAgAAAAIAAAABgAAAAcAAAAGAAAACAAAAAgAAAAHAAAACAAAAAgAAAAHAAAABwAAAAYAAAAGAAAACAAAAAgAAAAHAAAACAAAAAcAAAAIAAAACAAAAAgAAAAIAAAACAAAAAgAAAAHAAAABwAAAAcAAAAIAAAABwAAAAgAAAAIAAAABwAAAAgAAAAGAAAACAAAAAcAAAAHAAAABgAAAAcAAAAIAAAABgAAAAcAAAAHAAAABwAAAAcAAAAIAAAACAAAAAYAAAAGAAAABgAAAAcAAAAGAAAACAAAAAYAAAAGAAAABgAAAAcAAAAGAAAACAAAAAYAAAAGAAAABwAAAAgAAAAGAAAABgAAAAYAAAAHAAAABwAAAAcAAAAIAAAABwAAAAYAAAAIAAAABwAAAAgAAAAGAAAABgAAAAcAAAAHAAAABgAAAAgAAAAIAAAABgAAAAcAAAAGAAAACAAAAAcAAAAIAAAACAAAAAcAAAAIAAAACAAAAAgAAAAHAAAABgAAAAYAAAAGAAAACAAAAAgAAAAGAAAABgAAAAcAAAAIAAAABgAAAAcAAAAHAAAABwAAAAgAAAAIAAAACAAAAAcAAAAHAAAACAAAAAgAAAAGAAAACAAAAAcAAAAIAAAABwAAAAYAAAAIAAAACAAAAAYAAAAGAAAABgAAAAgAAAAGAAAABgAAAAgAAAAIAAAABwAAAAgAAAAGAAAABgAAAAYAAAAIAAAABgAAAAcAAAAHAAAABwAAAAgAAAAGAAAACAAAAAgAAAAGAAAABwAAAAcAAAAGAAAACAAAAAYAAAAIAAAABwAAAAgAAAAGAAAACAAAAAcAAAAIAAAACAAAAAgAAAAIAAAABgAAAAgAAAAGAAAABwAAAAYAAAAHAAAABgAAAAcAAAAGAAAABwAAAAgAAAAIAAAABgAAAAcAAAAIAAAACAAAAAYAAAAGAAAABwAAAAgAAAAGAAAACAAAAAYAAAAHAAAABwAAAAcAAAAGAAAACAAAAAgAAAAIAAAABwAAAAgAAAAGAAAACAAAAAgAAAAIAAAACAAAAAcAAAAIAAAABgAAAAgAAAAHAAAABgAAAAYAAAAGAAAABgAAAAYAAAAIAAAABgAAAAYAAAAGAAAABgAAAAgAAAAGAAAABwAAAAYAAAAHAAAABgAAAAcAAAAGAAAABwAAAAYAAAAGAAAABwAAAAcAAAAIAAAABgAAAAcAAAAGAAAACAAAAAgAAAAHAAAABgAAAAgAAAAGAAAABgAAAAYAAAAIAAAACAAAAAYAAAAGAAAACAAAAAgAAAAIAAAACAAAAAgAAAAHAAAACAAAAAcAAAAIAAAACAAAAAcAAAAGAAAACAAAAAcAAAAHAAAABgAAAAYAAAAIAAAACAAAAAYAAAAHAAAABgAAAAcAAAAHAAAABgAAAAcAAAAIAAAABgAAAAYAAAAIAAAACAAAAAgAAAAIAAAACAAAAAYAAAAHAAAABwAAAAYAAAAHAAAACAAAAAgAAAAGAAAABgAAAAYAAAAIAAAACAAAAAYAAAAIAAAACAAAAAYAAAAHAAAACAAAAAgAAAAHAAAACAAAAAcAAAAGAAAABwAAAAgAAAAGAAAABgAAAAgAAAAGAAAABwAAAAcAAAAHAAAACAAAAAgAAAAIAAAABgAAAAcAAAAHAAAABwAAAAYAAAAIAAAABwAAAAYAAAAGAAAACAAAAAgAAAAIAAAABgAAAAgAAAAHAAAACAAAAAYAAAAIAAAABwAAAAgAAAAHAAAABgAAAAgAAAAIAAAACAAAAAcAAAAGAAAACAAAAAcAAAAIAAAABgAAAAcAAAAHAAAACAAAAAYAAAAHAAAABgAAAAgAAAAIAAAACAAAAAcAAAAGAAAABgAAAAcAAAAIAAAACAAAAAgAAAAHAAAABgAAAAcAAAAHAAAABgAAAAcAAAAHAAAACAAAAAcAAAAIAAAABwAAAAYAAAAGAAAACAAAAAcAAAAIAAAABwAAAAYAAAAIAAAACAAAAAgAAAAGAAAABgAAAAYAAAAIAAAABgAAAAYAAAAGAAAABwAAAAgAAAAIAAAABgAAAAYAAAAHAAAACAAAAAgAAAAIAAAACAAAAAcAAAAHAAAABwAAAAYAAAAHAAAACAAAAAgAAAAHAAAABwAAAAYAAAAHAAAABwAAAAgAAAAIAAAABgAAAAcAAAAIAAAABgAAAAcAAAAHAAAABwAAAAgAAAAIAAAABgAAAAcAAAAHAAAACAAAAAYAAAAIAAAACAAAAAgAAAAIAAAABgAAAAYAAAAGAAAABgAAAAgAAAAGAAAACAAAAAcAAAAGAAAABwAAAAYAAAAGAAAACAAAAAYAAAAHAAAABgAAAAgAAAAIAAAABwAAAAYAAAAIAAAABgAAAAcAAAAHAAAACAAAAAYAAAAIAAAABgAAAAYAAAAIAAAACAAAAAYAAAAHAAAACAAAAAYAAAAIAAAABwAAAAgAAAAHAAAACAAAAAYAAAAHAAAABgAAAAYAAAAHAAAABwAAAAcAAAAGAAAABgAAAAYAAAAGAAAABgAAAAYAAAAIAAAACAAAAAgAAAAHAAAABgAAAAYAAAAHAAAACAAAAAgAAAAHAAAABgAAAAYAAAAIAAAABwAAAAcAAAAIAAAABwAAAAcAAAAGAAAABwAAAAgAAAAIAAAABwAAAA==",
           "dtype": "i4"
          },
          "sizemode": "area",
          "sizeref": 0.03,
          "symbol": "circle"
         },
         "mode": "markers",
         "name": "Potential",
         "scene": "scene",
         "showlegend": true,
         "type": "scatter3d",
         "x": {
          "bdata": "XiATC1I1FCk/RQQaOB8IBBNIGDk/AFoZWAwFODBXSAAPEV8bSkENV2AzDSRBO2AMBAMAPwQREA0mGFBSMgUyC0ZPAhgsLlQxF2EYCR5GCw8CJlYdLlQUShJYPgtKBhQrLStVXQwNBk4DFi5SCg4LRw06X0E0Q0E/RQIXDQ5OAFASRx0TARMyWlMYDghIDg1XB1sRV0c0ThkuDVZcElFdGh5dXBhNVVgWUwIGTUddTj4JXzAjSEVQNEFGADIlJjhILwBJSjIECTBQExoqGwonQEUKSikJLwwUOVNPRQ8XVEpYHwY0GwNOSTgJUx1XP0sNV2NiSQNjGFhgCgtACVpPEzwYPDlKHRpHU1wACAxcNBZaVggFHjolRiFiJ1E+QlcAAUNKYRdeCi4LPQwRAiM9Nj0jX0AeEBA2XTImPS5JCl4XCzNWHmJdXDYzTDgnFGBeGTBFDC9XLyUIPBQBMSIyYC8/Mw4UOEgBG1EAQSwGCV9GVQIARGIQASBUE11TCkQDUAIWODZHThJfQg1HT0YKL2IPQyAoNk5DQR9bEDRJSjA1DSI2PRhEERYPMkgAKlcBNWA6QBoxGVQeTEA1DzASJD9AXEgVYgJOChUzBCRZUgwKFRwFMF5GSlklHAI2AggzDRckDwsVF0RVIjcKTzQYAGIaBRYnOEoYEQoHMxEeFQQ1MUYrPlMvLQMBF0sQEB4LXV0uMUEKFERjFBpET1NUYDg/Cz04QQ5KVAQCDkEFXysFMkxVMh5CEB41OBMEWUdRTjQnCxZTSkRAPRgJFzcOTkAxCAhAKzQRBjMBODACAD5NLjESLRxXSAUxVQcGN1FETkcUCgczEglQXxoDCU5EFx4PBzsQSFsIFAsVRWFcSERbCmMiYR4eCycADzg8SVYlExA4QRsDFjhDGFZjHVpHDRBeFDNRXQ8bBwJdUhQ3MBMgGwgCEA8DBC0lJ0tJSR0GRElaUQFcDio1BlBSG1wTUDIuNEpcKD9VKF89EB8ZQwFZKAUDGC5cUBAYGlYeC0gNFyEeDx4GEDkJSg1eW0UXEgIZP1gPGAxJUQc3VzUJFzhbKA==",
          "dtype": "i1"
         },
         "y": {
          "bdata": "DggFAw8MCwsODQoHCgcLAwUPBxAQAwwGEwMDCggOEQUJBxgGDxIGDhILCQwHDw8HDAgDCwcGBQUMBBYQEAMLCgsOAwoJCA4GAw4DCwcHBgcKBhULBw4LDgUUDQQHAwQGCwoREQoKAxIECAURBAQHEAMPFg0ODxEOCgYEBAsWChQIBwoGCwUNDREGBQMIAwQQBQ4GDgoLEgcHAxEWAxcPCgsSEwQLExMFEQQIFwcNEg0HDAwHDg0PEAoMBgoJDBIHBgYQBwoGDAoPAwsICwgGCg0HEgUEDgYEBxQQEQgEEQoNAQwNBgMWDAoKEgUQDhAIEBIQDAYRCRILBAYKAxQPBw4DDxALDAYHFA8GBgUSDgYREgMFDRALBwwUBxEHDw0EBRAHDgQRBQwGCwcLBAsLDQ4IERAHBgUMGA4HEQkPCxEJCA0ODA0SEhASCxEGCA0SBgwRBQoSBwcHDgAFBgwLFQYHCwYGDgoEBxIECwcGBREQDQQHDBMDBQsQBRcUBAwEFgYHDgwOEQwOCwUMDwsEBRIHCwcMDQ4NEgcOCg4LEAoSBQYQDgMKAwgEBw0ICRMFBw0QCgcIBxUFFQ0JBwgECQcMDw4DEAURCQoRAw0LEAMGBQgGCxINDA0MDAYIAgwLBwQLBQYDChISBxAFDw4JChAOBQwMCQgFBAQLBwQEBQgLBwwHCA8FCQYDBg0MAwcDERYJBhAEAwgRBwYJGRQWDg8NCwwODQYKFQYFBQsHFQYFBxINBwcPAwYSDgsHEQcQDggLCggMDAwQDgQMCgcGEg8JCgcKBw4FBBEDDgcGDA8WBQsGCgUTCwQHEwcICxMMDwkMBgsNBAcVFAsECBIRBAgGCwsGBxcMCgYFCQ0ZDQsQAw0HDQcHCQkIBgsIEQ4OBQMODQ0EBAgPBA0KCg4QBQQODA0YDwUHBQQNEQcNBwYHBwwHBQYHAwoLBw8PCwcGDQsUEAgVBQYLAxcLDREFDQgGEgcNBhATBwwRBgwKCQQSBgUHCgYOGAUHBxMKBwcGBAcMBgoEBggEDAQOEREGBAMHDxUFBQENDwcQEgEFBw8SCA==",
          "dtype": "i1"
         },
         "z": {
          "bdata": "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",
          "dtype": "i2"
         }
        },
        {
         "hovertemplate": "Segment=Champions<br>최근성 (일)=%{x}<br>구매빈도 (회)=%{y}<br>구매금액 (원)=%{z}<br>RFM_Score=%{marker.size}<extra></extra>",
         "legendgroup": "Champions",
         "marker": {
          "color": "#ab63fa",
          "size": {
           "bdata": "CwAAAAwAAAALAAAACwAAAAsAAAAMAAAACwAAAAwAAAALAAAADAAAAAwAAAALAAAACwAAAAsAAAALAAAACwAAAAwAAAALAAAACwAAAAwAAAAMAAAADAAAAAsAAAAMAAAACwAAAAwAAAAMAAAACwAAAAsAAAALAAAACwAAAAwAAAALAAAADAAAAAsAAAAMAAAACwAAAAsAAAAMAAAADAAAAAsAAAALAAAACwAAAAsAAAALAAAADAAAAAsAAAAMAAAADAAAAAsAAAALAAAACwAAAAsAAAALAAAACwAAAAsAAAALAAAACwAAAAsAAAALAAAACwAAAAsAAAAMAAAACwAAAAsAAAALAAAACwAAAAwAAAAMAAAACwAAAAsAAAAMAAAACwAAAAsAAAALAAAACwAAAAsAAAALAAAACwAAAAwAAAALAAAACwAAAAsAAAAMAAAACwAAAAsAAAALAAAADAAAAAsAAAALAAAACwAAAAsAAAAMAAAADAAAAAwAAAAMAAAACwAAAAwAAAALAAAACwAAAAwAAAAMAAAACwAAAAsAAAALAAAACwAAAAsAAAAMAAAADAAAAAsAAAALAAAACwAAAAwAAAAMAAAADAAAAAsAAAALAAAACwAAAAsAAAALAAAADAAAAAsAAAALAAAACwAAAAsAAAALAAAACwAAAAsAAAAMAAAACwAAAAwAAAALAAAACwAAAAsAAAAMAAAADAAAAAsAAAALAAAACwAAAAwAAAALAAAACwAAAAwAAAALAAAACwAAAAsAAAAMAAAACwAAAAsAAAALAAAADAAAAAwAAAALAAAACwAAAAsAAAAMAAAACwAAAAsAAAAMAAAACwAAAAwAAAALAAAACwAAAAsAAAALAAAACwAAAAsAAAAMAAAADAAAAAsAAAALAAAACwAAAAsAAAALAAAACwAAAAsAAAALAAAADAAAAAsAAAAMAAAACwAAAAsAAAAMAAAACwAAAAsAAAALAAAACwAAAAwAAAAMAAAACwAAAAsAAAALAAAACwAAAAwAAAALAAAACwAAAAsAAAAMAAAACwAAAAsAAAAMAAAACwAAAAsAAAALAAAACwAAAAsAAAALAAAADAAAAAsAAAAMAAAACwAAAAwAAAALAAAACwAAAAsAAAALAAAACwAAAAsAAAALAAAACwAAAAsAAAALAAAADAAAAAsAAAALAAAACwAAAAsAAAALAAAACwAAAAsAAAAMAAAACwAAAAsAAAALAAAADAAAAAsAAAALAAAACwAAAAsAAAALAAAACwAAAAwAAAALAAAACwAAAAsAAAAMAAAACwAAAAsAAAALAAAACwAAAAsAAAALAAAACwAAAAsAAAALAAAACwAAAAsAAAALAAAACwAAAAwAAAALAAAACwAAAAsAAAALAAAADAAAAAsAAAAMAAAACwAAAAsAAAALAAAACwAAAAsAAAALAAAACwAAAAsAAAALAAAACwAAAAsAAAAMAAAACwAAAAsAAAA=",
           "dtype": "i4"
          },
          "sizemode": "area",
          "sizeref": 0.03,
          "symbol": "circle"
         },
         "mode": "markers",
         "name": "Champions",
         "scene": "scene",
         "showlegend": true,
         "type": "scatter3d",
         "x": {
          "bdata": "EBcqEwQDJwIeDBMBKAkSIxUuBAoUCRUOFBESMAMmAgglBRETLCoKEgASBi0OBwIBCyEEKgEBGwwYFSwRLwQLCR0GLxMUFBMJBAwNGRwrDQwlJCoXJBETFSgTES4IABQNCAYDHBEIKw8CJhkFDAcIChgJBiotCCMCEQ0uBhkHHikVAwMpAyIHFyAbDBAAARcEKgAOAAMLBgwNDisXJQ4NJBEDBBgDDAwKCQIRGRItJCgDEB0JGREQMCMTFQEVFAUhAAQKDA4XEiECGhMVJAsXEjANKxQxDAUZHx4GHCMuBhUiFQIEDw0MBwEcCh4DCBcgIBgwAxgCCB0pIwgvBB8XBQQgGQAKHTAYBgUDDAQEFQIIFSQmABEMGAg=",
          "dtype": "i1"
         },
         "y": {
          "bdata": "FBkcGxETExwUFB8SFhMaExYVDxQZExcXEBgTGhQbDRUYHBYVFhYVFQ4RDhMSExYgFBkUGhYPGBQYGBcQHQ8TFBoWFRMTEA8TGBgVFRsXFRQTHhkTGRITHRQQGRkaGxgUEBwTFBcbFBEQGBgZGxITEhkTFBMbFRYXFhIZEBYWFBMVDxoTERgWExQYDxMQDxMUGBMZEw8RGB0SDhYbGRUaGBYQEhMRFRATFBUVFBYTFBYPGRUTGBQVHRQXFhUVFA4WDxkXFBUZGhgUFxIVGRQVExUcFxUWDxccFRYVGBQWGBcZFhARFA8YFg0TExUTGBQVFBkbEhUWDhoUFRIbFRgRFhQZFxUXFx0YFhYTEg4RDhIYFhgYFhAUExU=",
          "dtype": "i1"
         },
         "z": {
          "bdata": "zAIjBcIGfQKsBHMFJwWdBkUEngX6BOUEoQi0AgoDSQTKBR0IHQRlBaoGDQUJBC0G9gQMB00EbwTKAt0ENAZbBk4EWASiA8YFvQTkBaIFigamBKQEhgZbBWEFygYQBM0FYgXCBe8CAwfwA5gGLATdAukDywMLCM8GbAUdBCwI6gK6BK8DKQhuBwsFZwcmBH8H8AMbA3kDJgghBzIGeQMzBhsFvAZEBNgHRwTZBJgCtQZCBYAERAONBksEvwTdBpMFTQdUBfYC9QUvBI8ExgUQByoEPQecBCYEygQBBR0DqQWuBH8HiAVZBCUHKwPyBp4DhwV0B7YJ/QbVBagDkghTBbUFQwRjBFMFmgSDBHIGxQVECBIFeQUnCKgEUATYB/UCkASsAikHrAKvBokEMAQpBFIIyAbdBaUEqgQ0A2sGYQSOBqwEeAVMA5oEIAPqBBMGawcVAx0DlAUxA1sFigfjBUMELQm/BVsEnATgAqMFVgV0Ba8DiwNmBn4G3QJ6BukFhARoBAoEGANJAyMFCgOSBoIFMAm6BnIDRwTeAn4DmwTnBcIGMgYrCCQG2gbpA8QEbQj2BW0DlgawBeAFYAUJBDEEiwM0BjoF+wKUBRwELQImBisFEwbRCK0CDwTcAu8E0gWuBKcElQQwAywI5gZyBFsFowimB6kIKQN3BpcEagNkA+wEgQa4BAoEQARWBekD7gVqAwIFNgX2BjoFvQT7B/gDiwNsBj0HwAJ7BJ4FpwJLAw==",
          "dtype": "i2"
         }
        },
        {
         "hovertemplate": "Segment=At Risk<br>최근성 (일)=%{x}<br>구매빈도 (회)=%{y}<br>구매금액 (원)=%{z}<br>RFM_Score=%{marker.size}<extra></extra>",
         "legendgroup": "At Risk",
         "marker": {
          "color": "#FFA15A",
          "size": {
           "bdata": "AwAAAAMAAAADAAAAAwAAAAMAAAADAAAAAwAAAAMAAAADAAAAAwAAAAMAAAADAAAAAwAAAAMAAAADAAAAAwAAAAMAAAADAAAAAwAAAAMAAAADAAAAAwAAAAMAAAADAAAAAwAAAAMAAAADAAAAAwAAAAMAAAADAAAAAwAAAAMAAAADAAAAAwAAAAMAAAADAAAAAwAAAAMAAAADAAAAAwAAAAMAAAADAAAAAwAAAAMAAAADAAAAAwAAAAMAAAADAAAAAwAAAAMAAAADAAAAAwAAAAMAAAADAAAAAwAAAAMAAAADAAAAAwAAAAMAAAADAAAAAwAAAAMAAAADAAAAAwAAAAMAAAADAAAAAwAAAAMAAAADAAAAAwAAAAMAAAADAAAAAwAAAAMAAAADAAAAAwAAAAMAAAADAAAAAwAAAAMAAAADAAAAAwAAAAMAAAADAAAAAwAAAAMAAAADAAAAAwAAAAMAAAADAAAAAwAAAAMAAAADAAAAAwAAAAMAAAADAAAAAwAAAAMAAAADAAAAAwAAAAMAAAADAAAAAwAAAAMAAAADAAAAAwAAAAMAAAADAAAAAwAAAAMAAAADAAAAAwAAAAMAAAADAAAAAwAAAAMAAAADAAAAAwAAAAMAAAADAAAAAwAAAAMAAAADAAAAAwAAAAMAAAADAAAAAwAAAAMAAAADAAAAAwAAAAMAAAADAAAAAwAAAAMAAAADAAAAAwAAAAMAAAADAAAAAwAAAAMAAAADAAAAAwAAAAMAAAA=",
           "dtype": "i4"
          },
          "sizemode": "area",
          "sizeref": 0.03,
          "symbol": "circle"
         },
         "mode": "markers",
         "name": "At Risk",
         "scene": "scene",
         "showlegend": true,
         "type": "scatter3d",
         "x": {
          "bdata": "Y1hcS19eU05aYE1QY1hjS19MVlFPWlJcUEtgY1tcTUxiV15QY15dUVhNY09WT1NZS15eUE5TXlJOVlxQVE5XT2NcW05cX01OS1dMYlFjXlZWUktbYVNWYV5XVVRRTUtPS1JSW1FZTVxQTl5WTWNSX1JNWlFQUl9QWlVOU01fUlZhWUtQYVJdUVpPU1VMWFE=",
          "dtype": "i1"
         },
         "y": {
          "bdata": "BQUEBAUEBAUFAwYFBQQFBAYGBQMDAwUEBgMFBAQEBAQGBQUFBQQFAAQEBQYDBAUDBAQDAwMFBQQGBgUFBAUFBQQFAwYFAwMDBgMFBgMEBAUEAwQDBAUGBAQEAwMEBAUEBgUFBAMEAwUGBQQGBQQDAwMEBAYFBAYEBQMGBQYEBgQFBQMFBAYFBAQDBAAGAwM=",
          "dtype": "i1"
         },
         "z": {
          "bdata": "QzU3IjgdKzktCjkrQTVBGixEIB4XEDMzQAokIixAKiopNjdDQyMkBho8QT8QKz8UJCcPChA3QyAuQjIpNjY/Ojc2Ei4vDxcQLA8uMBAiGDwoFRoPMSU6HiMtDxQqPCIwQTlBFhIZFDZCKR03QyUfGQs8NzcrIiwbIw03MCczLxk0JRYyNi8pMCgNKwg2EB4=",
          "dtype": "i1"
         }
        }
       ],
       "layout": {
        "legend": {
         "itemsizing": "constant",
         "title": {
          "text": "Segment"
         },
         "tracegroupgap": 0
        },
        "scene": {
         "domain": {
          "x": [
           0,
           1
          ],
          "y": [
           0,
           1
          ]
         },
         "xaxis": {
          "title": {
           "text": "최근성 (일)"
          }
         },
         "yaxis": {
          "title": {
           "text": "구매빈도 (회)"
          }
         },
         "zaxis": {
          "title": {
           "text": "구매금액 (원)"
          }
         }
        },
        "template": {
         "data": {
          "bar": [
           {
            "error_x": {
             "color": "#2a3f5f"
            },
            "error_y": {
             "color": "#2a3f5f"
            },
            "marker": {
             "line": {
              "color": "#E5ECF6",
              "width": 0.5
             },
             "pattern": {
              "fillmode": "overlay",
              "size": 10,
              "solidity": 0.2
             }
            },
            "type": "bar"
           }
          ],
          "barpolar": [
           {
            "marker": {
             "line": {
              "color": "#E5ECF6",
              "width": 0.5
             },
             "pattern": {
              "fillmode": "overlay",
              "size": 10,
              "solidity": 0.2
             }
            },
            "type": "barpolar"
           }
          ],
          "carpet": [
           {
            "aaxis": {
             "endlinecolor": "#2a3f5f",
             "gridcolor": "white",
             "linecolor": "white",
             "minorgridcolor": "white",
             "startlinecolor": "#2a3f5f"
            },
            "baxis": {
             "endlinecolor": "#2a3f5f",
             "gridcolor": "white",
             "linecolor": "white",
             "minorgridcolor": "white",
             "startlinecolor": "#2a3f5f"
            },
            "type": "carpet"
           }
          ],
          "choropleth": [
           {
            "colorbar": {
             "outlinewidth": 0,
             "ticks": ""
            },
            "type": "choropleth"
           }
          ],
          "contour": [
           {
            "colorbar": {
             "outlinewidth": 0,
             "ticks": ""
            },
            "colorscale": [
             [
              0,
              "#0d0887"
             ],
             [
              0.1111111111111111,
              "#46039f"
             ],
             [
              0.2222222222222222,
              "#7201a8"
             ],
             [
              0.3333333333333333,
              "#9c179e"
             ],
             [
              0.4444444444444444,
              "#bd3786"
             ],
             [
              0.5555555555555556,
              "#d8576b"
             ],
             [
              0.6666666666666666,
              "#ed7953"
             ],
             [
              0.7777777777777778,
              "#fb9f3a"
             ],
             [
              0.8888888888888888,
              "#fdca26"
             ],
             [
              1,
              "#f0f921"
             ]
            ],
            "type": "contour"
           }
          ],
          "contourcarpet": [
           {
            "colorbar": {
             "outlinewidth": 0,
             "ticks": ""
            },
            "type": "contourcarpet"
           }
          ],
          "heatmap": [
           {
            "colorbar": {
             "outlinewidth": 0,
             "ticks": ""
            },
            "colorscale": [
             [
              0,
              "#0d0887"
             ],
             [
              0.1111111111111111,
              "#46039f"
             ],
             [
              0.2222222222222222,
              "#7201a8"
             ],
             [
              0.3333333333333333,
              "#9c179e"
             ],
             [
              0.4444444444444444,
              "#bd3786"
             ],
             [
              0.5555555555555556,
              "#d8576b"
             ],
             [
              0.6666666666666666,
              "#ed7953"
             ],
             [
              0.7777777777777778,
              "#fb9f3a"
             ],
             [
              0.8888888888888888,
              "#fdca26"
             ],
             [
              1,
              "#f0f921"
             ]
            ],
            "type": "heatmap"
           }
          ],
          "histogram": [
           {
            "marker": {
             "pattern": {
              "fillmode": "overlay",
              "size": 10,
              "solidity": 0.2
             }
            },
            "type": "histogram"
           }
          ],
          "histogram2d": [
           {
            "colorbar": {
             "outlinewidth": 0,
             "ticks": ""
            },
            "colorscale": [
             [
              0,
              "#0d0887"
             ],
             [
              0.1111111111111111,
              "#46039f"
             ],
             [
              0.2222222222222222,
              "#7201a8"
             ],
             [
              0.3333333333333333,
              "#9c179e"
             ],
             [
              0.4444444444444444,
              "#bd3786"
             ],
             [
              0.5555555555555556,
              "#d8576b"
             ],
             [
              0.6666666666666666,
              "#ed7953"
             ],
             [
              0.7777777777777778,
              "#fb9f3a"
             ],
             [
              0.8888888888888888,
              "#fdca26"
             ],
             [
              1,
              "#f0f921"
             ]
            ],
            "type": "histogram2d"
           }
          ],
          "histogram2dcontour": [
           {
            "colorbar": {
             "outlinewidth": 0,
             "ticks": ""
            },
            "colorscale": [
             [
              0,
              "#0d0887"
             ],
             [
              0.1111111111111111,
              "#46039f"
             ],
             [
              0.2222222222222222,
              "#7201a8"
             ],
             [
              0.3333333333333333,
              "#9c179e"
             ],
             [
              0.4444444444444444,
              "#bd3786"
             ],
             [
              0.5555555555555556,
              "#d8576b"
             ],
             [
              0.6666666666666666,
              "#ed7953"
             ],
             [
              0.7777777777777778,
              "#fb9f3a"
             ],
             [
              0.8888888888888888,
              "#fdca26"
             ],
             [
              1,
              "#f0f921"
             ]
            ],
            "type": "histogram2dcontour"
           }
          ],
          "mesh3d": [
           {
            "colorbar": {
             "outlinewidth": 0,
             "ticks": ""
            },
            "type": "mesh3d"
           }
          ],
          "parcoords": [
           {
            "line": {
             "colorbar": {
              "outlinewidth": 0,
              "ticks": ""
             }
            },
            "type": "parcoords"
           }
          ],
          "pie": [
           {
            "automargin": true,
            "type": "pie"
           }
          ],
          "scatter": [
           {
            "fillpattern": {
             "fillmode": "overlay",
             "size": 10,
             "solidity": 0.2
            },
            "type": "scatter"
           }
          ],
          "scatter3d": [
           {
            "line": {
             "colorbar": {
              "outlinewidth": 0,
              "ticks": ""
             }
            },
            "marker": {
             "colorbar": {
              "outlinewidth": 0,
              "ticks": ""
             }
            },
            "type": "scatter3d"
           }
          ],
          "scattercarpet": [
           {
            "marker": {
             "colorbar": {
              "outlinewidth": 0,
              "ticks": ""
             }
            },
            "type": "scattercarpet"
           }
          ],
          "scattergeo": [
           {
            "marker": {
             "colorbar": {
              "outlinewidth": 0,
              "ticks": ""
             }
            },
            "type": "scattergeo"
           }
          ],
          "scattergl": [
           {
            "marker": {
             "colorbar": {
              "outlinewidth": 0,
              "ticks": ""
             }
            },
            "type": "scattergl"
           }
          ],
          "scattermap": [
           {
            "marker": {
             "colorbar": {
              "outlinewidth": 0,
              "ticks": ""
             }
            },
            "type": "scattermap"
           }
          ],
          "scattermapbox": [
           {
            "marker": {
             "colorbar": {
              "outlinewidth": 0,
              "ticks": ""
             }
            },
            "type": "scattermapbox"
           }
          ],
          "scatterpolar": [
           {
            "marker": {
             "colorbar": {
              "outlinewidth": 0,
              "ticks": ""
             }
            },
            "type": "scatterpolar"
           }
          ],
          "scatterpolargl": [
           {
            "marker": {
             "colorbar": {
              "outlinewidth": 0,
              "ticks": ""
             }
            },
            "type": "scatterpolargl"
           }
          ],
          "scatterternary": [
           {
            "marker": {
             "colorbar": {
              "outlinewidth": 0,
              "ticks": ""
             }
            },
            "type": "scatterternary"
           }
          ],
          "surface": [
           {
            "colorbar": {
             "outlinewidth": 0,
             "ticks": ""
            },
            "colorscale": [
             [
              0,
              "#0d0887"
             ],
             [
              0.1111111111111111,
              "#46039f"
             ],
             [
              0.2222222222222222,
              "#7201a8"
             ],
             [
              0.3333333333333333,
              "#9c179e"
             ],
             [
              0.4444444444444444,
              "#bd3786"
             ],
             [
              0.5555555555555556,
              "#d8576b"
             ],
             [
              0.6666666666666666,
              "#ed7953"
             ],
             [
              0.7777777777777778,
              "#fb9f3a"
             ],
             [
              0.8888888888888888,
              "#fdca26"
             ],
             [
              1,
              "#f0f921"
             ]
            ],
            "type": "surface"
           }
          ],
          "table": [
           {
            "cells": {
             "fill": {
              "color": "#EBF0F8"
             },
             "line": {
              "color": "white"
             }
            },
            "header": {
             "fill": {
              "color": "#C8D4E3"
             },
             "line": {
              "color": "white"
             }
            },
            "type": "table"
           }
          ]
         },
         "layout": {
          "annotationdefaults": {
           "arrowcolor": "#2a3f5f",
           "arrowhead": 0,
           "arrowwidth": 1
          },
          "autotypenumbers": "strict",
          "coloraxis": {
           "colorbar": {
            "outlinewidth": 0,
            "ticks": ""
           }
          },
          "colorscale": {
           "diverging": [
            [
             0,
             "#8e0152"
            ],
            [
             0.1,
             "#c51b7d"
            ],
            [
             0.2,
             "#de77ae"
            ],
            [
             0.3,
             "#f1b6da"
            ],
            [
             0.4,
             "#fde0ef"
            ],
            [
             0.5,
             "#f7f7f7"
            ],
            [
             0.6,
             "#e6f5d0"
            ],
            [
             0.7,
             "#b8e186"
            ],
            [
             0.8,
             "#7fbc41"
            ],
            [
             0.9,
             "#4d9221"
            ],
            [
             1,
             "#276419"
            ]
           ],
           "sequential": [
            [
             0,
             "#0d0887"
            ],
            [
             0.1111111111111111,
             "#46039f"
            ],
            [
             0.2222222222222222,
             "#7201a8"
            ],
            [
             0.3333333333333333,
             "#9c179e"
            ],
            [
             0.4444444444444444,
             "#bd3786"
            ],
            [
             0.5555555555555556,
             "#d8576b"
            ],
            [
             0.6666666666666666,
             "#ed7953"
            ],
            [
             0.7777777777777778,
             "#fb9f3a"
            ],
            [
             0.8888888888888888,
             "#fdca26"
            ],
            [
             1,
             "#f0f921"
            ]
           ],
           "sequentialminus": [
            [
             0,
             "#0d0887"
            ],
            [
             0.1111111111111111,
             "#46039f"
            ],
            [
             0.2222222222222222,
             "#7201a8"
            ],
            [
             0.3333333333333333,
             "#9c179e"
            ],
            [
             0.4444444444444444,
             "#bd3786"
            ],
            [
             0.5555555555555556,
             "#d8576b"
            ],
            [
             0.6666666666666666,
             "#ed7953"
            ],
            [
             0.7777777777777778,
             "#fb9f3a"
            ],
            [
             0.8888888888888888,
             "#fdca26"
            ],
            [
             1,
             "#f0f921"
            ]
           ]
          },
          "colorway": [
           "#636efa",
           "#EF553B",
           "#00cc96",
           "#ab63fa",
           "#FFA15A",
           "#19d3f3",
           "#FF6692",
           "#B6E880",
           "#FF97FF",
           "#FECB52"
          ],
          "font": {
           "color": "#2a3f5f"
          },
          "geo": {
           "bgcolor": "white",
           "lakecolor": "white",
           "landcolor": "#E5ECF6",
           "showlakes": true,
           "showland": true,
           "subunitcolor": "white"
          },
          "hoverlabel": {
           "align": "left"
          },
          "hovermode": "closest",
          "mapbox": {
           "style": "light"
          },
          "paper_bgcolor": "white",
          "plot_bgcolor": "#E5ECF6",
          "polar": {
           "angularaxis": {
            "gridcolor": "white",
            "linecolor": "white",
            "ticks": ""
           },
           "bgcolor": "#E5ECF6",
           "radialaxis": {
            "gridcolor": "white",
            "linecolor": "white",
            "ticks": ""
           }
          },
          "scene": {
           "xaxis": {
            "backgroundcolor": "#E5ECF6",
            "gridcolor": "white",
            "gridwidth": 2,
            "linecolor": "white",
            "showbackground": true,
            "ticks": "",
            "zerolinecolor": "white"
           },
           "yaxis": {
            "backgroundcolor": "#E5ECF6",
            "gridcolor": "white",
            "gridwidth": 2,
            "linecolor": "white",
            "showbackground": true,
            "ticks": "",
            "zerolinecolor": "white"
           },
           "zaxis": {
            "backgroundcolor": "#E5ECF6",
            "gridcolor": "white",
            "gridwidth": 2,
            "linecolor": "white",
            "showbackground": true,
            "ticks": "",
            "zerolinecolor": "white"
           }
          },
          "shapedefaults": {
           "line": {
            "color": "#2a3f5f"
           }
          },
          "ternary": {
           "aaxis": {
            "gridcolor": "white",
            "linecolor": "white",
            "ticks": ""
           },
           "baxis": {
            "gridcolor": "white",
            "linecolor": "white",
            "ticks": ""
           },
           "bgcolor": "#E5ECF6",
           "caxis": {
            "gridcolor": "white",
            "linecolor": "white",
            "ticks": ""
           }
          },
          "title": {
           "x": 0.05
          },
          "xaxis": {
           "automargin": true,
           "gridcolor": "white",
           "linecolor": "white",
           "ticks": "",
           "title": {
            "standoff": 15
           },
           "zerolinecolor": "white",
           "zerolinewidth": 2
          },
          "yaxis": {
           "automargin": true,
           "gridcolor": "white",
           "linecolor": "white",
           "ticks": "",
           "title": {
            "standoff": 15
           },
           "zerolinecolor": "white",
           "zerolinewidth": 2
          }
         }
        },
        "title": {
         "text": "RFM 세그먼트별 3차원 분포"
        }
       }
      }
     },
     "metadata": {},
     "output_type": "display_data"
    }
   ],
   "source": [
    "# 세그먼트별 3D 산점도 시각화 (R, F, M 관계)\n",
    "fig_3d = px.scatter_3d(rfm_df, x='Recency', y='Frequency', z='Monetary',\n",
    "                       color='Segment', size='RFM_Score',\n",
    "                       title='RFM 세그먼트별 3차원 분포',\n",
    "                       labels={'Recency': '최근성 (일)', \n",
    "                              'Frequency': '구매빈도 (회)', \n",
    "                              'Monetary': '구매금액 (원)'})\n",
    "fig_3d.show()"
   ]
  },
  {
   "cell_type": "code",
   "execution_count": 18,
   "metadata": {},
   "outputs": [
    {
     "data": {
      "application/vnd.plotly.v1+json": {
       "config": {
        "plotlyServerURL": "https://plot.ly"
       },
       "data": [
        {
         "coloraxis": "coloraxis",
         "hovertemplate": "구매빈도 점수: %{x}<br>최근성 점수: %{y}<br>고객수: %{z}<extra></extra>",
         "name": "0",
         "type": "heatmap",
         "x": {
          "bdata": "AQIDBA==",
          "dtype": "i1"
         },
         "xaxis": "x",
         "y": {
          "bdata": "BAMCAQ==",
          "dtype": "i1"
         },
         "yaxis": "y",
         "z": {
          "bdata": "AAAAAAAAR0AAAAAAAIA6QAAAAAAAwEBAAAAAAADgQUAAAAAAAABHQAAAAAAAwDlAAAAAAAAAQUAAAAAAAIBAQAAAAAAAgENAAAAAAADAOkAAAAAAAMBEQAAAAAAAQEFAAAAAAADgR0AAAAAAAMA5QAAAAAAAgDxAAAAAAADgQUA=",
          "dtype": "f8",
          "shape": "4, 4"
         }
        }
       ],
       "layout": {
        "coloraxis": {
         "colorbar": {
          "title": {
           "text": "고객수"
          }
         },
         "colorscale": [
          [
           0,
           "#0d0887"
          ],
          [
           0.1111111111111111,
           "#46039f"
          ],
          [
           0.2222222222222222,
           "#7201a8"
          ],
          [
           0.3333333333333333,
           "#9c179e"
          ],
          [
           0.4444444444444444,
           "#bd3786"
          ],
          [
           0.5555555555555556,
           "#d8576b"
          ],
          [
           0.6666666666666666,
           "#ed7953"
          ],
          [
           0.7777777777777778,
           "#fb9f3a"
          ],
          [
           0.8888888888888888,
           "#fdca26"
          ],
          [
           1,
           "#f0f921"
          ]
         ]
        },
        "template": {
         "data": {
          "bar": [
           {
            "error_x": {
             "color": "#2a3f5f"
            },
            "error_y": {
             "color": "#2a3f5f"
            },
            "marker": {
             "line": {
              "color": "#E5ECF6",
              "width": 0.5
             },
             "pattern": {
              "fillmode": "overlay",
              "size": 10,
              "solidity": 0.2
             }
            },
            "type": "bar"
           }
          ],
          "barpolar": [
           {
            "marker": {
             "line": {
              "color": "#E5ECF6",
              "width": 0.5
             },
             "pattern": {
              "fillmode": "overlay",
              "size": 10,
              "solidity": 0.2
             }
            },
            "type": "barpolar"
           }
          ],
          "carpet": [
           {
            "aaxis": {
             "endlinecolor": "#2a3f5f",
             "gridcolor": "white",
             "linecolor": "white",
             "minorgridcolor": "white",
             "startlinecolor": "#2a3f5f"
            },
            "baxis": {
             "endlinecolor": "#2a3f5f",
             "gridcolor": "white",
             "linecolor": "white",
             "minorgridcolor": "white",
             "startlinecolor": "#2a3f5f"
            },
            "type": "carpet"
           }
          ],
          "choropleth": [
           {
            "colorbar": {
             "outlinewidth": 0,
             "ticks": ""
            },
            "type": "choropleth"
           }
          ],
          "contour": [
           {
            "colorbar": {
             "outlinewidth": 0,
             "ticks": ""
            },
            "colorscale": [
             [
              0,
              "#0d0887"
             ],
             [
              0.1111111111111111,
              "#46039f"
             ],
             [
              0.2222222222222222,
              "#7201a8"
             ],
             [
              0.3333333333333333,
              "#9c179e"
             ],
             [
              0.4444444444444444,
              "#bd3786"
             ],
             [
              0.5555555555555556,
              "#d8576b"
             ],
             [
              0.6666666666666666,
              "#ed7953"
             ],
             [
              0.7777777777777778,
              "#fb9f3a"
             ],
             [
              0.8888888888888888,
              "#fdca26"
             ],
             [
              1,
              "#f0f921"
             ]
            ],
            "type": "contour"
           }
          ],
          "contourcarpet": [
           {
            "colorbar": {
             "outlinewidth": 0,
             "ticks": ""
            },
            "type": "contourcarpet"
           }
          ],
          "heatmap": [
           {
            "colorbar": {
             "outlinewidth": 0,
             "ticks": ""
            },
            "colorscale": [
             [
              0,
              "#0d0887"
             ],
             [
              0.1111111111111111,
              "#46039f"
             ],
             [
              0.2222222222222222,
              "#7201a8"
             ],
             [
              0.3333333333333333,
              "#9c179e"
             ],
             [
              0.4444444444444444,
              "#bd3786"
             ],
             [
              0.5555555555555556,
              "#d8576b"
             ],
             [
              0.6666666666666666,
              "#ed7953"
             ],
             [
              0.7777777777777778,
              "#fb9f3a"
             ],
             [
              0.8888888888888888,
              "#fdca26"
             ],
             [
              1,
              "#f0f921"
             ]
            ],
            "type": "heatmap"
           }
          ],
          "histogram": [
           {
            "marker": {
             "pattern": {
              "fillmode": "overlay",
              "size": 10,
              "solidity": 0.2
             }
            },
            "type": "histogram"
           }
          ],
          "histogram2d": [
           {
            "colorbar": {
             "outlinewidth": 0,
             "ticks": ""
            },
            "colorscale": [
             [
              0,
              "#0d0887"
             ],
             [
              0.1111111111111111,
              "#46039f"
             ],
             [
              0.2222222222222222,
              "#7201a8"
             ],
             [
              0.3333333333333333,
              "#9c179e"
             ],
             [
              0.4444444444444444,
              "#bd3786"
             ],
             [
              0.5555555555555556,
              "#d8576b"
             ],
             [
              0.6666666666666666,
              "#ed7953"
             ],
             [
              0.7777777777777778,
              "#fb9f3a"
             ],
             [
              0.8888888888888888,
              "#fdca26"
             ],
             [
              1,
              "#f0f921"
             ]
            ],
            "type": "histogram2d"
           }
          ],
          "histogram2dcontour": [
           {
            "colorbar": {
             "outlinewidth": 0,
             "ticks": ""
            },
            "colorscale": [
             [
              0,
              "#0d0887"
             ],
             [
              0.1111111111111111,
              "#46039f"
             ],
             [
              0.2222222222222222,
              "#7201a8"
             ],
             [
              0.3333333333333333,
              "#9c179e"
             ],
             [
              0.4444444444444444,
              "#bd3786"
             ],
             [
              0.5555555555555556,
              "#d8576b"
             ],
             [
              0.6666666666666666,
              "#ed7953"
             ],
             [
              0.7777777777777778,
              "#fb9f3a"
             ],
             [
              0.8888888888888888,
              "#fdca26"
             ],
             [
              1,
              "#f0f921"
             ]
            ],
            "type": "histogram2dcontour"
           }
          ],
          "mesh3d": [
           {
            "colorbar": {
             "outlinewidth": 0,
             "ticks": ""
            },
            "type": "mesh3d"
           }
          ],
          "parcoords": [
           {
            "line": {
             "colorbar": {
              "outlinewidth": 0,
              "ticks": ""
             }
            },
            "type": "parcoords"
           }
          ],
          "pie": [
           {
            "automargin": true,
            "type": "pie"
           }
          ],
          "scatter": [
           {
            "fillpattern": {
             "fillmode": "overlay",
             "size": 10,
             "solidity": 0.2
            },
            "type": "scatter"
           }
          ],
          "scatter3d": [
           {
            "line": {
             "colorbar": {
              "outlinewidth": 0,
              "ticks": ""
             }
            },
            "marker": {
             "colorbar": {
              "outlinewidth": 0,
              "ticks": ""
             }
            },
            "type": "scatter3d"
           }
          ],
          "scattercarpet": [
           {
            "marker": {
             "colorbar": {
              "outlinewidth": 0,
              "ticks": ""
             }
            },
            "type": "scattercarpet"
           }
          ],
          "scattergeo": [
           {
            "marker": {
             "colorbar": {
              "outlinewidth": 0,
              "ticks": ""
             }
            },
            "type": "scattergeo"
           }
          ],
          "scattergl": [
           {
            "marker": {
             "colorbar": {
              "outlinewidth": 0,
              "ticks": ""
             }
            },
            "type": "scattergl"
           }
          ],
          "scattermap": [
           {
            "marker": {
             "colorbar": {
              "outlinewidth": 0,
              "ticks": ""
             }
            },
            "type": "scattermap"
           }
          ],
          "scattermapbox": [
           {
            "marker": {
             "colorbar": {
              "outlinewidth": 0,
              "ticks": ""
             }
            },
            "type": "scattermapbox"
           }
          ],
          "scatterpolar": [
           {
            "marker": {
             "colorbar": {
              "outlinewidth": 0,
              "ticks": ""
             }
            },
            "type": "scatterpolar"
           }
          ],
          "scatterpolargl": [
           {
            "marker": {
             "colorbar": {
              "outlinewidth": 0,
              "ticks": ""
             }
            },
            "type": "scatterpolargl"
           }
          ],
          "scatterternary": [
           {
            "marker": {
             "colorbar": {
              "outlinewidth": 0,
              "ticks": ""
             }
            },
            "type": "scatterternary"
           }
          ],
          "surface": [
           {
            "colorbar": {
             "outlinewidth": 0,
             "ticks": ""
            },
            "colorscale": [
             [
              0,
              "#0d0887"
             ],
             [
              0.1111111111111111,
              "#46039f"
             ],
             [
              0.2222222222222222,
              "#7201a8"
             ],
             [
              0.3333333333333333,
              "#9c179e"
             ],
             [
              0.4444444444444444,
              "#bd3786"
             ],
             [
              0.5555555555555556,
              "#d8576b"
             ],
             [
              0.6666666666666666,
              "#ed7953"
             ],
             [
              0.7777777777777778,
              "#fb9f3a"
             ],
             [
              0.8888888888888888,
              "#fdca26"
             ],
             [
              1,
              "#f0f921"
             ]
            ],
            "type": "surface"
           }
          ],
          "table": [
           {
            "cells": {
             "fill": {
              "color": "#EBF0F8"
             },
             "line": {
              "color": "white"
             }
            },
            "header": {
             "fill": {
              "color": "#C8D4E3"
             },
             "line": {
              "color": "white"
             }
            },
            "type": "table"
           }
          ]
         },
         "layout": {
          "annotationdefaults": {
           "arrowcolor": "#2a3f5f",
           "arrowhead": 0,
           "arrowwidth": 1
          },
          "autotypenumbers": "strict",
          "coloraxis": {
           "colorbar": {
            "outlinewidth": 0,
            "ticks": ""
           }
          },
          "colorscale": {
           "diverging": [
            [
             0,
             "#8e0152"
            ],
            [
             0.1,
             "#c51b7d"
            ],
            [
             0.2,
             "#de77ae"
            ],
            [
             0.3,
             "#f1b6da"
            ],
            [
             0.4,
             "#fde0ef"
            ],
            [
             0.5,
             "#f7f7f7"
            ],
            [
             0.6,
             "#e6f5d0"
            ],
            [
             0.7,
             "#b8e186"
            ],
            [
             0.8,
             "#7fbc41"
            ],
            [
             0.9,
             "#4d9221"
            ],
            [
             1,
             "#276419"
            ]
           ],
           "sequential": [
            [
             0,
             "#0d0887"
            ],
            [
             0.1111111111111111,
             "#46039f"
            ],
            [
             0.2222222222222222,
             "#7201a8"
            ],
            [
             0.3333333333333333,
             "#9c179e"
            ],
            [
             0.4444444444444444,
             "#bd3786"
            ],
            [
             0.5555555555555556,
             "#d8576b"
            ],
            [
             0.6666666666666666,
             "#ed7953"
            ],
            [
             0.7777777777777778,
             "#fb9f3a"
            ],
            [
             0.8888888888888888,
             "#fdca26"
            ],
            [
             1,
             "#f0f921"
            ]
           ],
           "sequentialminus": [
            [
             0,
             "#0d0887"
            ],
            [
             0.1111111111111111,
             "#46039f"
            ],
            [
             0.2222222222222222,
             "#7201a8"
            ],
            [
             0.3333333333333333,
             "#9c179e"
            ],
            [
             0.4444444444444444,
             "#bd3786"
            ],
            [
             0.5555555555555556,
             "#d8576b"
            ],
            [
             0.6666666666666666,
             "#ed7953"
            ],
            [
             0.7777777777777778,
             "#fb9f3a"
            ],
            [
             0.8888888888888888,
             "#fdca26"
            ],
            [
             1,
             "#f0f921"
            ]
           ]
          },
          "colorway": [
           "#636efa",
           "#EF553B",
           "#00cc96",
           "#ab63fa",
           "#FFA15A",
           "#19d3f3",
           "#FF6692",
           "#B6E880",
           "#FF97FF",
           "#FECB52"
          ],
          "font": {
           "color": "#2a3f5f"
          },
          "geo": {
           "bgcolor": "white",
           "lakecolor": "white",
           "landcolor": "#E5ECF6",
           "showlakes": true,
           "showland": true,
           "subunitcolor": "white"
          },
          "hoverlabel": {
           "align": "left"
          },
          "hovermode": "closest",
          "mapbox": {
           "style": "light"
          },
          "paper_bgcolor": "white",
          "plot_bgcolor": "#E5ECF6",
          "polar": {
           "angularaxis": {
            "gridcolor": "white",
            "linecolor": "white",
            "ticks": ""
           },
           "bgcolor": "#E5ECF6",
           "radialaxis": {
            "gridcolor": "white",
            "linecolor": "white",
            "ticks": ""
           }
          },
          "scene": {
           "xaxis": {
            "backgroundcolor": "#E5ECF6",
            "gridcolor": "white",
            "gridwidth": 2,
            "linecolor": "white",
            "showbackground": true,
            "ticks": "",
            "zerolinecolor": "white"
           },
           "yaxis": {
            "backgroundcolor": "#E5ECF6",
            "gridcolor": "white",
            "gridwidth": 2,
            "linecolor": "white",
            "showbackground": true,
            "ticks": "",
            "zerolinecolor": "white"
           },
           "zaxis": {
            "backgroundcolor": "#E5ECF6",
            "gridcolor": "white",
            "gridwidth": 2,
            "linecolor": "white",
            "showbackground": true,
            "ticks": "",
            "zerolinecolor": "white"
           }
          },
          "shapedefaults": {
           "line": {
            "color": "#2a3f5f"
           }
          },
          "ternary": {
           "aaxis": {
            "gridcolor": "white",
            "linecolor": "white",
            "ticks": ""
           },
           "baxis": {
            "gridcolor": "white",
            "linecolor": "white",
            "ticks": ""
           },
           "bgcolor": "#E5ECF6",
           "caxis": {
            "gridcolor": "white",
            "linecolor": "white",
            "ticks": ""
           }
          },
          "title": {
           "x": 0.05
          },
          "xaxis": {
           "automargin": true,
           "gridcolor": "white",
           "linecolor": "white",
           "ticks": "",
           "title": {
            "standoff": 15
           },
           "zerolinecolor": "white",
           "zerolinewidth": 2
          },
          "yaxis": {
           "automargin": true,
           "gridcolor": "white",
           "linecolor": "white",
           "ticks": "",
           "title": {
            "standoff": 15
           },
           "zerolinecolor": "white",
           "zerolinewidth": 2
          }
         }
        },
        "title": {
         "text": "RFM 점수 조합별 고객 분포 히트맵"
        },
        "xaxis": {
         "anchor": "y",
         "domain": [
          0,
          1
         ],
         "title": {
          "text": "구매빈도 점수"
         }
        },
        "yaxis": {
         "anchor": "x",
         "autorange": "reversed",
         "domain": [
          0,
          1
         ],
         "title": {
          "text": "최근성 점수"
         }
        }
       }
      }
     },
     "metadata": {},
     "output_type": "display_data"
    }
   ],
   "source": [
    "# 세그먼트별 RFM 점수 분포 히트맵\n",
    "rfm_heatmap_data = rfm_df.groupby(['R_Score', 'F_Score', 'M_Score']).size().reset_index(name='고객수')\n",
    "rfm_pivot = rfm_heatmap_data.pivot_table(values='고객수', index='R_Score', columns='F_Score', fill_value=0)\n",
    "\n",
    "fig_heatmap = px.imshow(rfm_pivot, \n",
    "                        title='RFM 점수 조합별 고객 분포 히트맵',\n",
    "                        labels=dict(x=\"구매빈도 점수\", y=\"최근성 점수\", color=\"고객수\"),\n",
    "                        aspect='auto')\n",
    "fig_heatmap.show()"
   ]
  },
  {
   "cell_type": "code",
   "execution_count": 19,
   "metadata": {},
   "outputs": [
    {
     "data": {
      "application/vnd.plotly.v1+json": {
       "config": {
        "plotlyServerURL": "https://plot.ly"
       },
       "data": [
        {
         "name": "Loyalists",
         "showlegend": false,
         "type": "box",
         "xaxis": "x",
         "y": {
          "bdata": "OhoiWwBgJTUdNjcSGggdBB0iA0YELCA7RDgSLigbExlFJRdICioKSS8cOUBiGy44TywiYjw/NhVCUTgbSB5ZIGIoSlo5TTAuLw0fOB5AID4iLEUeQxcpMSYkX0FdJjlXJkAbCzlCOAscSRpNHCpMDkcCPC9TKBMpI0g/Qk0xGElBRDkePUsbQQReSRc2OC5IBjU6ORQcPwlXUSEmM1EgYAMuHRoeG10xLE0BPikWRRo5HllXOBw3GSE5CRwWLTZMHAFISAw2AD0zUyoyYh4rGzwAAUIdABsiYEMuNVFhE0soHUlDUjVCHTszPjwfQS4bHVVCRj8rQSJGJgEZLjkLNjpGUkRXFxY0BAkQLj4YPk4RGFlKWFQ7YAsTPTdFCB0hNxkjUUBCQGBOCDhKL2JENzNhMycxW1UpSRYeOF9aElBEMT49Mk45HQIgWFsjHiQOSAE4QAs2JygoKFRHNikcJgkYHS05TjJVPjBJIkowWBtcSTYpOzBjITI/CF0aHTUDRTscFl9cIwsVRxtHORg3PGFCNj0AI00tR1ZQXEcgMD0mIUYgSjgwJy9IHUQ2AWIGSC5ZDRtjVx5KR0Y5VFxIJzcOOD5GSSoQDWEPNFlCSkMmWlcJVSw5VDVBLSodMgM+OEMTPA0lPCY6OzwbEgAgMSYuJj1POV4XYjwsIzFQNj9GF18LIEsCOi88PwFZMB8yXWIiPEAwFTo7Wgo/Dk0pGTMDIDwwPQoDHyoqNidHLg==",
          "dtype": "i1"
         },
         "yaxis": "y"
        },
        {
         "name": "Needs Attention",
         "showlegend": false,
         "type": "box",
         "xaxis": "x",
         "y": {
          "bdata": "JhpEOyYzVlkiN0xQYDYfOTpEV1dPLUVUHiUrVSU/Mx89JUovMV4xW1NUOk1RLT80XVFIXUJBJS42Hzs0XCNhPFUfN0s1WURAVhw7ISclM0EhLT01H0I0ViZKXiEgOFYzR1M3TB40HDFZOEhcWjpDPDZgYzFhQzlDLiEbPCs6ODBVNjlAJxtNPVopHB9cMl5MJkdXXFZKGSIrTBpUWh1eQSEiGkstKyUlIlZaW0xAKicoYDFHIitBKkxPYCsxR1BHN2BXIkk0JRlDOk5TNTJUMDY3IEFUGTRNMzZdPltAYiVBWyYcG14zHWE/IlEzTDgoPUFdSEw3Xls8NjcyUSQ+Qy9ROEpaQT8lKF5hTTErVCVNJz47RFRYOhtFYFkxI0FcIjA9PEA2XGA8WFcZK0EgMVYkNlYyUjhNQVZcYS5EUSkfJSs2YCg5RyZcIzUoODlZLVBHGlQmNVgoRj5iYikuQyRhMSEqUDQtVixXQDZSN1BVMRkzHUhUWTNHRzA+NEckSFMoLygZMERAXjZgOxxMOGFZQiQdLh81MR1iRmFPHDNgMypNUlMnMShEM0RBRSdMGiIZUE5iQlQxYCQ/NEFHUDQcQyghUjI=",
          "dtype": "i1"
         },
         "yaxis": "y"
        },
        {
         "name": "Potential",
         "showlegend": false,
         "type": "box",
         "xaxis": "x",
         "y": {
          "bdata": "XiATC1I1FCk/RQQaOB8IBBNIGDk/AFoZWAwFODBXSAAPEV8bSkENV2AzDSRBO2AMBAMAPwQREA0mGFBSMgUyC0ZPAhgsLlQxF2EYCR5GCw8CJlYdLlQUShJYPgtKBhQrLStVXQwNBk4DFi5SCg4LRw06X0E0Q0E/RQIXDQ5OAFASRx0TARMyWlMYDghIDg1XB1sRV0c0ThkuDVZcElFdGh5dXBhNVVgWUwIGTUddTj4JXzAjSEVQNEFGADIlJjhILwBJSjIECTBQExoqGwonQEUKSikJLwwUOVNPRQ8XVEpYHwY0GwNOSTgJUx1XP0sNV2NiSQNjGFhgCgtACVpPEzwYPDlKHRpHU1wACAxcNBZaVggFHjolRiFiJ1E+QlcAAUNKYRdeCi4LPQwRAiM9Nj0jX0AeEBA2XTImPS5JCl4XCzNWHmJdXDYzTDgnFGBeGTBFDC9XLyUIPBQBMSIyYC8/Mw4UOEgBG1EAQSwGCV9GVQIARGIQASBUE11TCkQDUAIWODZHThJfQg1HT0YKL2IPQyAoNk5DQR9bEDRJSjA1DSI2PRhEERYPMkgAKlcBNWA6QBoxGVQeTEA1DzASJD9AXEgVYgJOChUzBCRZUgwKFRwFMF5GSlklHAI2AggzDRckDwsVF0RVIjcKTzQYAGIaBRYnOEoYEQoHMxEeFQQ1MUYrPlMvLQMBF0sQEB4LXV0uMUEKFERjFBpET1NUYDg/Cz04QQ5KVAQCDkEFXysFMkxVMh5CEB41OBMEWUdRTjQnCxZTSkRAPRgJFzcOTkAxCAhAKzQRBjMBODACAD5NLjESLRxXSAUxVQcGN1FETkcUCgczEglQXxoDCU5EFx4PBzsQSFsIFAsVRWFcSERbCmMiYR4eCycADzg8SVYlExA4QRsDFjhDGFZjHVpHDRBeFDNRXQ8bBwJdUhQ3MBMgGwgCEA8DBC0lJ0tJSR0GRElaUQFcDio1BlBSG1wTUDIuNEpcKD9VKF89EB8ZQwFZKAUDGC5cUBAYGlYeC0gNFyEeDx4GEDkJSg1eW0UXEgIZP1gPGAxJUQc3VzUJFzhbKA==",
          "dtype": "i1"
         },
         "yaxis": "y"
        },
        {
         "name": "Champions",
         "showlegend": false,
         "type": "box",
         "xaxis": "x",
         "y": {
          "bdata": "EBcqEwQDJwIeDBMBKAkSIxUuBAoUCRUOFBESMAMmAgglBRETLCoKEgASBi0OBwIBCyEEKgEBGwwYFSwRLwQLCR0GLxMUFBMJBAwNGRwrDQwlJCoXJBETFSgTES4IABQNCAYDHBEIKw8CJhkFDAcIChgJBiotCCMCEQ0uBhkHHikVAwMpAyIHFyAbDBAAARcEKgAOAAMLBgwNDisXJQ4NJBEDBBgDDAwKCQIRGRItJCgDEB0JGREQMCMTFQEVFAUhAAQKDA4XEiECGhMVJAsXEjANKxQxDAUZHx4GHCMuBhUiFQIEDw0MBwEcCh4DCBcgIBgwAxgCCB0pIwgvBB8XBQQgGQAKHTAYBgUDDAQEFQIIFSQmABEMGAg=",
          "dtype": "i1"
         },
         "yaxis": "y"
        },
        {
         "name": "At Risk",
         "showlegend": false,
         "type": "box",
         "xaxis": "x",
         "y": {
          "bdata": "Y1hcS19eU05aYE1QY1hjS19MVlFPWlJcUEtgY1tcTUxiV15QY15dUVhNY09WT1NZS15eUE5TXlJOVlxQVE5XT2NcW05cX01OS1dMYlFjXlZWUktbYVNWYV5XVVRRTUtPS1JSW1FZTVxQTl5WTWNSX1JNWlFQUl9QWlVOU01fUlZhWUtQYVJdUVpPU1VMWFE=",
          "dtype": "i1"
         },
         "yaxis": "y"
        },
        {
         "name": "Loyalists",
         "showlegend": false,
         "type": "box",
         "xaxis": "x2",
         "y": {
          "bdata": "FhQRGBEZFxYQFBoSFBIPERoSDRIRGA4ZDxYNFxAREA8bDw4TDhISFhYNGBEWEQ4bGBgQGxEaGhAQGA8PEA4aEhUOExMVFRAWEgwMFRAVEhQXFBcNDxISERUOFBEUDxMVEhkPDhAPFw8QEg8WERAYDxYMFRITFhAOHBUYExUTEA8QDRMSExMSFQ8TFg4UEw0fDRUQFA0PGw0XGQ0SFR0OFQ4SGxISDhQWERkOFxYLERITFxUXFBcSDxETERIQDRcWDQ8VFhAUERMXFREXGhISERQRDxMODhAWFRIQFhcXDBUSERgSGRIPFxcOEhIOGBIRDxcSFxoOGhEUEwsRDxMSGxMSGBQVEhAZDQ0NFhMQFxQRCxYUExgZFRAKFxQPDxEQEhkPFRUTEBkUEBcSFRcWGBggFQ4RFhoTEg4VEhYaDxYTFBIVExYaEA0OExYVDhoLFw0UFQwUFBQPDhYWEA0QDxESEhETFhAbHBIYDxMRGBEXEhEXEBcTDxAbDhMOERAOExUTEBQYDxARDRQUFREQFSARFB4OFRUSEhcXGRgSFxoRERYOFg0QDw4XEBQQEhcPEBcZDRQYHA4QDxUUFxcXDhYPGxQcFhANEhgSExcRFg8VExMbFxAUFhkRDRITFQ8VFRYQEg8QGxcZFBQODhkQDg4PDhQXGhkSExsMDw0YEBsPEhQRDRUOFRISGBEUERcZFRcQERMODhUUFw4WERoVFBAODRcOFA0OEBESEQ4ZEA==",
          "dtype": "i1"
         },
         "yaxis": "y2"
        },
        {
         "name": "Needs Attention",
         "showlegend": false,
         "type": "box",
         "xaxis": "x2",
         "y": {
          "bdata": "BAYBBQQGBgYGBQYIBwUFBQcDCAYJAwQHBQUFBQUEBgQGBAUFAwkDBwYGBAYJBAUEBgkEBgMDBAQHBAUECQQMBAsDBgYHBgcGBwUGBAYEBQQFBQYHAwQEBwMDCQMFBgkEBAgEBgUFBQQHBAMJDAQEBQUJDAQJBQUGBgQGAwMEBQYKBAYFBgQHBAsEBQQFBAYJBAYICQgDAwUECQMKCQQHAwUFAwoFBAMGAwcJBwEGBAQEBwUEBQUFBAcJBwQEBQsFBwcLBQUDAwQGBgYLBgcIAwYDAwMGBQMHBQYFAQYECwQDBwMFBgUDBAwGBgwGBgcDAwUKBgcFCAcEBAYDBwUGBQQHBAUMAAMEBQYGBgQEBQILBgQGBAYMAwQGCgYDBAYLBQMDBQQECwYGDAgEBgQEBAYFBAcGBgAGBQcGCwMGCgQDBAQGBwUEBAULAwYDBAQJBgUGBAcGAwsDBQYLBQYFBAUIAwUGBgUFCQQIBQYGBAYIBAUEAAQGBgQFBAUFBAYEAwYGBgQDBQQEBwYIBAQJAwgIBAMDAwQFBgQGBgUJBAYHBAQGBgkDAwQEAwUDBQQJBAUFBwsGBAoGBgUEBgYGCQQEBQMGBgM=",
          "dtype": "i1"
         },
         "yaxis": "y2"
        },
        {
         "name": "Potential",
         "showlegend": false,
         "type": "box",
         "xaxis": "x2",
         "y": {
          "bdata": "DggFAw8MCwsODQoHCgcLAwUPBxAQAwwGEwMDCggOEQUJBxgGDxIGDhILCQwHDw8HDAgDCwcGBQUMBBYQEAMLCgsOAwoJCA4GAw4DCwcHBgcKBhULBw4LDgUUDQQHAwQGCwoREQoKAxIECAURBAQHEAMPFg0ODxEOCgYEBAsWChQIBwoGCwUNDREGBQMIAwQQBQ4GDgoLEgcHAxEWAxcPCgsSEwQLExMFEQQIFwcNEg0HDAwHDg0PEAoMBgoJDBIHBgYQBwoGDAoPAwsICwgGCg0HEgUEDgYEBxQQEQgEEQoNAQwNBgMWDAoKEgUQDhAIEBIQDAYRCRILBAYKAxQPBw4DDxALDAYHFA8GBgUSDgYREgMFDRALBwwUBxEHDw0EBRAHDgQRBQwGCwcLBAsLDQ4IERAHBgUMGA4HEQkPCxEJCA0ODA0SEhASCxEGCA0SBgwRBQoSBwcHDgAFBgwLFQYHCwYGDgoEBxIECwcGBREQDQQHDBMDBQsQBRcUBAwEFgYHDgwOEQwOCwUMDwsEBRIHCwcMDQ4NEgcOCg4LEAoSBQYQDgMKAwgEBw0ICRMFBw0QCgcIBxUFFQ0JBwgECQcMDw4DEAURCQoRAw0LEAMGBQgGCxINDA0MDAYIAgwLBwQLBQYDChISBxAFDw4JChAOBQwMCQgFBAQLBwQEBQgLBwwHCA8FCQYDBg0MAwcDERYJBhAEAwgRBwYJGRQWDg8NCwwODQYKFQYFBQsHFQYFBxINBwcPAwYSDgsHEQcQDggLCggMDAwQDgQMCgcGEg8JCgcKBw4FBBEDDgcGDA8WBQsGCgUTCwQHEwcICxMMDwkMBgsNBAcVFAsECBIRBAgGCwsGBxcMCgYFCQ0ZDQsQAw0HDQcHCQkIBgsIEQ4OBQMODQ0EBAgPBA0KCg4QBQQODA0YDwUHBQQNEQcNBwYHBwwHBQYHAwoLBw8PCwcGDQsUEAgVBQYLAxcLDREFDQgGEgcNBhATBwwRBgwKCQQSBgUHCgYOGAUHBxMKBwcGBAcMBgoEBggEDAQOEREGBAMHDxUFBQENDwcQEgEFBw8SCA==",
          "dtype": "i1"
         },
         "yaxis": "y2"
        },
        {
         "name": "Champions",
         "showlegend": false,
         "type": "box",
         "xaxis": "x2",
         "y": {
          "bdata": "FBkcGxETExwUFB8SFhMaExYVDxQZExcXEBgTGhQbDRUYHBYVFhYVFQ4RDhMSExYgFBkUGhYPGBQYGBcQHQ8TFBoWFRMTEA8TGBgVFRsXFRQTHhkTGRITHRQQGRkaGxgUEBwTFBcbFBEQGBgZGxITEhkTFBMbFRYXFhIZEBYWFBMVDxoTERgWExQYDxMQDxMUGBMZEw8RGB0SDhYbGRUaGBYQEhMRFRATFBUVFBYTFBYPGRUTGBQVHRQXFhUVFA4WDxkXFBUZGhgUFxIVGRQVExUcFxUWDxccFRYVGBQWGBcZFhARFA8YFg0TExUTGBQVFBkbEhUWDhoUFRIbFRgRFhQZFxUXFx0YFhYTEg4RDhIYFhgYFhAUExU=",
          "dtype": "i1"
         },
         "yaxis": "y2"
        },
        {
         "name": "At Risk",
         "showlegend": false,
         "type": "box",
         "xaxis": "x2",
         "y": {
          "bdata": "BQUEBAUEBAUFAwYFBQQFBAYGBQMDAwUEBgMFBAQEBAQGBQUFBQQFAAQEBQYDBAUDBAQDAwMFBQQGBgUFBAUFBQQFAwYFAwMDBgMFBgMEBAUEAwQDBAUGBAQEAwMEBAUEBgUFBAMEAwUGBQQGBQQDAwMEBAYFBAYEBQMGBQYEBgQFBQMFBAYFBAQDBAAGAwM=",
          "dtype": "i1"
         },
         "yaxis": "y2"
        },
        {
         "name": "Loyalists",
         "showlegend": false,
         "type": "box",
         "xaxis": "x3",
         "y": {
          "bdata": "UQYIA04C9gYgAogGkQOGA/sBUQalB2QCdANeAjQEjQJfA2IHdAFWBVsC0gOaAZEEYASOA1IDyQMcB2ACJwK8Bm8EgweUAZUCzwF4AtUCaQVnA60B/QPPBEgGpQFdBCsHJgXSA2ACAgUPBX4E2AQdAq4ETwYXBE8E2QaxAV0EXQIoCJoGbgVOCPsFfARNBE0D1wXVA2MGvQOdA4wDfwdeBZQD2AJLBpEBHASoAhsFAwWyAz0HAgaeBKMFBQT9BGkIfAJEBYwH7AGVBGcEPga+AeoB2gSbBUcIpASsAjoE0wFkA30DngPXBQgFzQMGAvoBfwO6BtADpQWFBNoCCQO/BpAEQAYbA+wGpQckBs4ESwfZAcYFcgOUAdUD1QTDA18FiQHFBZsERAXmAVcClgRtASgEGAQFBJ4CoAMaCNMBQggUBHwC7ANmAq0FVQajBYcDVAKhBMUDZAUDBMAFNwU6BSYGwAPZBSgEoAXuA8oEkwQ0AuMFjgItA3UCTAYsBvYFlQHWAlwD2QXvAQEDQQKlBygGygUeAhMEYQb5AtkHQQX8AiACvgHXApEBiQG/Bt0DQgjiBzQChgNzBGYGmQGtBeUExgdyBswE4QYECGcExgMLA2AE/gjiBOMDNwSWAq4E6wEcBnYHPQR+BJUBIwU9AiUDEAJtB9QC6AEmBr4CuwSwB1YFiAnIA+IEjQL6ASIH0wGMAWUB1QOmBwkDqQMrBTICqgGkB90HIQVPBCQEswUDAloFAgTsA0kE1gHdCfgB0AT8AxQHtQWMA/YCPASIBv8HEgI+Br8EJQNfBoMDzQPgA/kFoANLAoEC5wgMBxkDZwXnAzkDBgWoBM0E5QEqCRoDIgP+CEADkAIEBpAFfQS5AZoBIQXLBV0DvwGrAx0DywNzAaAFjAOhAQED1wIaA8YBmgZrBOsI3ASyAm4EEQIsAn0CGwNKAiYGBAaHBHYH3AlkAhUEKATrAoICGASuBHoGgwfSBIgDPgTEA2cFgQJSBJYElwH1BPsD3QlRBKgBNgV1BMYC+gECBoAERARZAn4C1gY3Ay0DOQO2AgAHBAP5BUMG1QP9BZQBLwOFBLACJwWfBjgEPQbyB8cHxAMvBTMCNAJlBMwBZgW3CE0E0wHNAdADfQTIA40EzQE6BfYB4gTJA2YFjgE3A5sEgQexAQUHdwQzBXIDfQRhBqEDSwJ+BuYBVQV5BcEEAAZFAqADkAIZBEMD6wU8BiQHsgOmBjQDTggVCBUBHAagAY0DjAbHBp4EAAU4Be0ChQPHAQcD6AVBBDECOAXPAWoECAb0A8YGNwOVBdYDsgFnAUACnwG7AeQBnQG4BZUHGQVVBH8CcAW7BCcGDwKkA08G3ASWBJAGjQKvBVoCsQEcBpABwARXBQUI0APxAdYHZwL9Aw4EJQZfBmACHgeLB5EEiwEeA9sCpQaeAR0GOAKvBGkD2wJlB6gBPwIeBpEE+AX0AagBCQJXBpsF0gTUARkEPQU=",
          "dtype": "i2"
         },
         "yaxis": "y3"
        },
        {
         "name": "Needs Attention",
         "showlegend": false,
         "type": "box",
         "xaxis": "x3",
         "y": {
          "bdata": "GwA1ADEAPQAuAGAAhQBLAB4AQQBRALoAfABIAB0ALgBBAA0ApQBPAMIAEgAgACsALQA/ADcAUQAhAB4AWgAdAGoAMQAmAEQAFgDTABIAeQBYAFkAJAB3AL8AMgAnAFAAWwAHASYAcgARABYAEwAXADkAEQBAABoA0gAhAEIBHwATARkAMABGAD4AWgBCAGsANQAlAGYAHABBACYAIQAqACwAMQBjADkAGQAeAB0AeAARABYA0wATACkAcgDRAC8AGwCjACkATwAtACsAOQAuAHoAIgAUAMAAXAEZAB8ARgA2AM0ANQEuANgANAAuAEwANgAVAEAACwAVACYAPgAxAOMALwCPADcAPwAqAIEAHAAKASUAJQAqAF8AIQBnAL8AMABDAKUA0gDfABYAFAA7ACIAxgALAAEBDgEdAH4AFwA5ADkAEgDpADAAEAASACYAHABjAPIAtwCJAF0AHQAZACYALwAyACkANwA3AD8ALgBGAMMANQAjACgAKABVAUUALQCAAAcBNwBTAA4AHAAuAF8APgB9ADEBgwA1AJUAFwBeABcAEwAXAFkAOgARAE8ARwBeAFAAsgB6ACUADgExABQAhQAMAD0AQABOABgAOQBGAU0AHgA7AUoAVgA9ABsAEgBLAOEAWwBYAGAAoAC3AB8AMQByABkAWgA9AEgANAAnAIIAIgBHAF8BCAAKADEAMABUAEwAYwAmACwATgA7ABIBOQAsAGYAPQBlAEABGAAeAGcA7QBbABUAKQA7ACEBPQAXABMAPQAlACYAIQF9AEYANgG0AC4ALAAoACAALgBLADcAJgB4AGoAVAAFAHAANwB4AGcADQEXAFwA8AA0AA8AMQA6AF8ALwAjACAAJwA5AA4BEABOAA8AIgAgAOcARABMAC8AJAB6ACkACgAwARUAQwBIAAgBRQBAAB8ANgBEALgAHAAsACYAUQAtADAA0QAYAKUALwB3AFQAKwBMALkAKABEACUACQAiAGcAVAAUACoAJwAcAEgAUABGAC4AFQBbACwAPwAmAA8AJgArACoAogBKAJ0AFAAsAMYAGwDBAK4AGQANABAAFwAVAE8ALgAuAGQALQBPAN8AKwCBAGIAJQAaAGYAYQDPABYAGgAtABYAHABCAAgAZwAZALkAFgAsADYARAASAV4ANgABATgAfQAuADsAIwA9AGoAxwArADUANAAPADMAVAAWAA==",
          "dtype": "i2"
         },
         "yaxis": "y3"
        },
        {
         "name": "Potential",
         "showlegend": false,
         "type": "box",
         "xaxis": "x3",
         "y": {
          "bdata": "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",
          "dtype": "i2"
         },
         "yaxis": "y3"
        },
        {
         "name": "Champions",
         "showlegend": false,
         "type": "box",
         "xaxis": "x3",
         "y": {
          "bdata": "zAIjBcIGfQKsBHMFJwWdBkUEngX6BOUEoQi0AgoDSQTKBR0IHQRlBaoGDQUJBC0G9gQMB00EbwTKAt0ENAZbBk4EWASiA8YFvQTkBaIFigamBKQEhgZbBWEFygYQBM0FYgXCBe8CAwfwA5gGLATdAukDywMLCM8GbAUdBCwI6gK6BK8DKQhuBwsFZwcmBH8H8AMbA3kDJgghBzIGeQMzBhsFvAZEBNgHRwTZBJgCtQZCBYAERAONBksEvwTdBpMFTQdUBfYC9QUvBI8ExgUQByoEPQecBCYEygQBBR0DqQWuBH8HiAVZBCUHKwPyBp4DhwV0B7YJ/QbVBagDkghTBbUFQwRjBFMFmgSDBHIGxQVECBIFeQUnCKgEUATYB/UCkASsAikHrAKvBokEMAQpBFIIyAbdBaUEqgQ0A2sGYQSOBqwEeAVMA5oEIAPqBBMGawcVAx0DlAUxA1sFigfjBUMELQm/BVsEnATgAqMFVgV0Ba8DiwNmBn4G3QJ6BukFhARoBAoEGANJAyMFCgOSBoIFMAm6BnIDRwTeAn4DmwTnBcIGMgYrCCQG2gbpA8QEbQj2BW0DlgawBeAFYAUJBDEEiwM0BjoF+wKUBRwELQImBisFEwbRCK0CDwTcAu8E0gWuBKcElQQwAywI5gZyBFsFowimB6kIKQN3BpcEagNkA+wEgQa4BAoEQARWBekD7gVqAwIFNgX2BjoFvQT7B/gDiwNsBj0HwAJ7BJ4FpwJLAw==",
          "dtype": "i2"
         },
         "yaxis": "y3"
        },
        {
         "name": "At Risk",
         "showlegend": false,
         "type": "box",
         "xaxis": "x3",
         "y": {
          "bdata": "QzU3IjgdKzktCjkrQTVBGixEIB4XEDMzQAokIixAKiopNjdDQyMkBho8QT8QKz8UJCcPChA3QyAuQjIpNjY/Ojc2Ei4vDxcQLA8uMBAiGDwoFRoPMSU6HiMtDxQqPCIwQTlBFhIZFDZCKR03QyUfGQs8NzcrIiwbIw03MCczLxk0JRYyNi8pMCgNKwg2EB4=",
          "dtype": "i1"
         },
         "yaxis": "y3"
        }
       ],
       "layout": {
        "annotations": [
         {
          "font": {
           "size": 16
          },
          "showarrow": false,
          "text": "최근성 분포",
          "x": 0.14444444444444446,
          "xanchor": "center",
          "xref": "paper",
          "y": 1,
          "yanchor": "bottom",
          "yref": "paper"
         },
         {
          "font": {
           "size": 16
          },
          "showarrow": false,
          "text": "구매빈도 분포",
          "x": 0.5,
          "xanchor": "center",
          "xref": "paper",
          "y": 1,
          "yanchor": "bottom",
          "yref": "paper"
         },
         {
          "font": {
           "size": 16
          },
          "showarrow": false,
          "text": "구매금액 분포",
          "x": 0.8555555555555556,
          "xanchor": "center",
          "xref": "paper",
          "y": 1,
          "yanchor": "bottom",
          "yref": "paper"
         }
        ],
        "height": 400,
        "template": {
         "data": {
          "bar": [
           {
            "error_x": {
             "color": "#2a3f5f"
            },
            "error_y": {
             "color": "#2a3f5f"
            },
            "marker": {
             "line": {
              "color": "#E5ECF6",
              "width": 0.5
             },
             "pattern": {
              "fillmode": "overlay",
              "size": 10,
              "solidity": 0.2
             }
            },
            "type": "bar"
           }
          ],
          "barpolar": [
           {
            "marker": {
             "line": {
              "color": "#E5ECF6",
              "width": 0.5
             },
             "pattern": {
              "fillmode": "overlay",
              "size": 10,
              "solidity": 0.2
             }
            },
            "type": "barpolar"
           }
          ],
          "carpet": [
           {
            "aaxis": {
             "endlinecolor": "#2a3f5f",
             "gridcolor": "white",
             "linecolor": "white",
             "minorgridcolor": "white",
             "startlinecolor": "#2a3f5f"
            },
            "baxis": {
             "endlinecolor": "#2a3f5f",
             "gridcolor": "white",
             "linecolor": "white",
             "minorgridcolor": "white",
             "startlinecolor": "#2a3f5f"
            },
            "type": "carpet"
           }
          ],
          "choropleth": [
           {
            "colorbar": {
             "outlinewidth": 0,
             "ticks": ""
            },
            "type": "choropleth"
           }
          ],
          "contour": [
           {
            "colorbar": {
             "outlinewidth": 0,
             "ticks": ""
            },
            "colorscale": [
             [
              0,
              "#0d0887"
             ],
             [
              0.1111111111111111,
              "#46039f"
             ],
             [
              0.2222222222222222,
              "#7201a8"
             ],
             [
              0.3333333333333333,
              "#9c179e"
             ],
             [
              0.4444444444444444,
              "#bd3786"
             ],
             [
              0.5555555555555556,
              "#d8576b"
             ],
             [
              0.6666666666666666,
              "#ed7953"
             ],
             [
              0.7777777777777778,
              "#fb9f3a"
             ],
             [
              0.8888888888888888,
              "#fdca26"
             ],
             [
              1,
              "#f0f921"
             ]
            ],
            "type": "contour"
           }
          ],
          "contourcarpet": [
           {
            "colorbar": {
             "outlinewidth": 0,
             "ticks": ""
            },
            "type": "contourcarpet"
           }
          ],
          "heatmap": [
           {
            "colorbar": {
             "outlinewidth": 0,
             "ticks": ""
            },
            "colorscale": [
             [
              0,
              "#0d0887"
             ],
             [
              0.1111111111111111,
              "#46039f"
             ],
             [
              0.2222222222222222,
              "#7201a8"
             ],
             [
              0.3333333333333333,
              "#9c179e"
             ],
             [
              0.4444444444444444,
              "#bd3786"
             ],
             [
              0.5555555555555556,
              "#d8576b"
             ],
             [
              0.6666666666666666,
              "#ed7953"
             ],
             [
              0.7777777777777778,
              "#fb9f3a"
             ],
             [
              0.8888888888888888,
              "#fdca26"
             ],
             [
              1,
              "#f0f921"
             ]
            ],
            "type": "heatmap"
           }
          ],
          "histogram": [
           {
            "marker": {
             "pattern": {
              "fillmode": "overlay",
              "size": 10,
              "solidity": 0.2
             }
            },
            "type": "histogram"
           }
          ],
          "histogram2d": [
           {
            "colorbar": {
             "outlinewidth": 0,
             "ticks": ""
            },
            "colorscale": [
             [
              0,
              "#0d0887"
             ],
             [
              0.1111111111111111,
              "#46039f"
             ],
             [
              0.2222222222222222,
              "#7201a8"
             ],
             [
              0.3333333333333333,
              "#9c179e"
             ],
             [
              0.4444444444444444,
              "#bd3786"
             ],
             [
              0.5555555555555556,
              "#d8576b"
             ],
             [
              0.6666666666666666,
              "#ed7953"
             ],
             [
              0.7777777777777778,
              "#fb9f3a"
             ],
             [
              0.8888888888888888,
              "#fdca26"
             ],
             [
              1,
              "#f0f921"
             ]
            ],
            "type": "histogram2d"
           }
          ],
          "histogram2dcontour": [
           {
            "colorbar": {
             "outlinewidth": 0,
             "ticks": ""
            },
            "colorscale": [
             [
              0,
              "#0d0887"
             ],
             [
              0.1111111111111111,
              "#46039f"
             ],
             [
              0.2222222222222222,
              "#7201a8"
             ],
             [
              0.3333333333333333,
              "#9c179e"
             ],
             [
              0.4444444444444444,
              "#bd3786"
             ],
             [
              0.5555555555555556,
              "#d8576b"
             ],
             [
              0.6666666666666666,
              "#ed7953"
             ],
             [
              0.7777777777777778,
              "#fb9f3a"
             ],
             [
              0.8888888888888888,
              "#fdca26"
             ],
             [
              1,
              "#f0f921"
             ]
            ],
            "type": "histogram2dcontour"
           }
          ],
          "mesh3d": [
           {
            "colorbar": {
             "outlinewidth": 0,
             "ticks": ""
            },
            "type": "mesh3d"
           }
          ],
          "parcoords": [
           {
            "line": {
             "colorbar": {
              "outlinewidth": 0,
              "ticks": ""
             }
            },
            "type": "parcoords"
           }
          ],
          "pie": [
           {
            "automargin": true,
            "type": "pie"
           }
          ],
          "scatter": [
           {
            "fillpattern": {
             "fillmode": "overlay",
             "size": 10,
             "solidity": 0.2
            },
            "type": "scatter"
           }
          ],
          "scatter3d": [
           {
            "line": {
             "colorbar": {
              "outlinewidth": 0,
              "ticks": ""
             }
            },
            "marker": {
             "colorbar": {
              "outlinewidth": 0,
              "ticks": ""
             }
            },
            "type": "scatter3d"
           }
          ],
          "scattercarpet": [
           {
            "marker": {
             "colorbar": {
              "outlinewidth": 0,
              "ticks": ""
             }
            },
            "type": "scattercarpet"
           }
          ],
          "scattergeo": [
           {
            "marker": {
             "colorbar": {
              "outlinewidth": 0,
              "ticks": ""
             }
            },
            "type": "scattergeo"
           }
          ],
          "scattergl": [
           {
            "marker": {
             "colorbar": {
              "outlinewidth": 0,
              "ticks": ""
             }
            },
            "type": "scattergl"
           }
          ],
          "scattermap": [
           {
            "marker": {
             "colorbar": {
              "outlinewidth": 0,
              "ticks": ""
             }
            },
            "type": "scattermap"
           }
          ],
          "scattermapbox": [
           {
            "marker": {
             "colorbar": {
              "outlinewidth": 0,
              "ticks": ""
             }
            },
            "type": "scattermapbox"
           }
          ],
          "scatterpolar": [
           {
            "marker": {
             "colorbar": {
              "outlinewidth": 0,
              "ticks": ""
             }
            },
            "type": "scatterpolar"
           }
          ],
          "scatterpolargl": [
           {
            "marker": {
             "colorbar": {
              "outlinewidth": 0,
              "ticks": ""
             }
            },
            "type": "scatterpolargl"
           }
          ],
          "scatterternary": [
           {
            "marker": {
             "colorbar": {
              "outlinewidth": 0,
              "ticks": ""
             }
            },
            "type": "scatterternary"
           }
          ],
          "surface": [
           {
            "colorbar": {
             "outlinewidth": 0,
             "ticks": ""
            },
            "colorscale": [
             [
              0,
              "#0d0887"
             ],
             [
              0.1111111111111111,
              "#46039f"
             ],
             [
              0.2222222222222222,
              "#7201a8"
             ],
             [
              0.3333333333333333,
              "#9c179e"
             ],
             [
              0.4444444444444444,
              "#bd3786"
             ],
             [
              0.5555555555555556,
              "#d8576b"
             ],
             [
              0.6666666666666666,
              "#ed7953"
             ],
             [
              0.7777777777777778,
              "#fb9f3a"
             ],
             [
              0.8888888888888888,
              "#fdca26"
             ],
             [
              1,
              "#f0f921"
             ]
            ],
            "type": "surface"
           }
          ],
          "table": [
           {
            "cells": {
             "fill": {
              "color": "#EBF0F8"
             },
             "line": {
              "color": "white"
             }
            },
            "header": {
             "fill": {
              "color": "#C8D4E3"
             },
             "line": {
              "color": "white"
             }
            },
            "type": "table"
           }
          ]
         },
         "layout": {
          "annotationdefaults": {
           "arrowcolor": "#2a3f5f",
           "arrowhead": 0,
           "arrowwidth": 1
          },
          "autotypenumbers": "strict",
          "coloraxis": {
           "colorbar": {
            "outlinewidth": 0,
            "ticks": ""
           }
          },
          "colorscale": {
           "diverging": [
            [
             0,
             "#8e0152"
            ],
            [
             0.1,
             "#c51b7d"
            ],
            [
             0.2,
             "#de77ae"
            ],
            [
             0.3,
             "#f1b6da"
            ],
            [
             0.4,
             "#fde0ef"
            ],
            [
             0.5,
             "#f7f7f7"
            ],
            [
             0.6,
             "#e6f5d0"
            ],
            [
             0.7,
             "#b8e186"
            ],
            [
             0.8,
             "#7fbc41"
            ],
            [
             0.9,
             "#4d9221"
            ],
            [
             1,
             "#276419"
            ]
           ],
           "sequential": [
            [
             0,
             "#0d0887"
            ],
            [
             0.1111111111111111,
             "#46039f"
            ],
            [
             0.2222222222222222,
             "#7201a8"
            ],
            [
             0.3333333333333333,
             "#9c179e"
            ],
            [
             0.4444444444444444,
             "#bd3786"
            ],
            [
             0.5555555555555556,
             "#d8576b"
            ],
            [
             0.6666666666666666,
             "#ed7953"
            ],
            [
             0.7777777777777778,
             "#fb9f3a"
            ],
            [
             0.8888888888888888,
             "#fdca26"
            ],
            [
             1,
             "#f0f921"
            ]
           ],
           "sequentialminus": [
            [
             0,
             "#0d0887"
            ],
            [
             0.1111111111111111,
             "#46039f"
            ],
            [
             0.2222222222222222,
             "#7201a8"
            ],
            [
             0.3333333333333333,
             "#9c179e"
            ],
            [
             0.4444444444444444,
             "#bd3786"
            ],
            [
             0.5555555555555556,
             "#d8576b"
            ],
            [
             0.6666666666666666,
             "#ed7953"
            ],
            [
             0.7777777777777778,
             "#fb9f3a"
            ],
            [
             0.8888888888888888,
             "#fdca26"
            ],
            [
             1,
             "#f0f921"
            ]
           ]
          },
          "colorway": [
           "#636efa",
           "#EF553B",
           "#00cc96",
           "#ab63fa",
           "#FFA15A",
           "#19d3f3",
           "#FF6692",
           "#B6E880",
           "#FF97FF",
           "#FECB52"
          ],
          "font": {
           "color": "#2a3f5f"
          },
          "geo": {
           "bgcolor": "white",
           "lakecolor": "white",
           "landcolor": "#E5ECF6",
           "showlakes": true,
           "showland": true,
           "subunitcolor": "white"
          },
          "hoverlabel": {
           "align": "left"
          },
          "hovermode": "closest",
          "mapbox": {
           "style": "light"
          },
          "paper_bgcolor": "white",
          "plot_bgcolor": "#E5ECF6",
          "polar": {
           "angularaxis": {
            "gridcolor": "white",
            "linecolor": "white",
            "ticks": ""
           },
           "bgcolor": "#E5ECF6",
           "radialaxis": {
            "gridcolor": "white",
            "linecolor": "white",
            "ticks": ""
           }
          },
          "scene": {
           "xaxis": {
            "backgroundcolor": "#E5ECF6",
            "gridcolor": "white",
            "gridwidth": 2,
            "linecolor": "white",
            "showbackground": true,
            "ticks": "",
            "zerolinecolor": "white"
           },
           "yaxis": {
            "backgroundcolor": "#E5ECF6",
            "gridcolor": "white",
            "gridwidth": 2,
            "linecolor": "white",
            "showbackground": true,
            "ticks": "",
            "zerolinecolor": "white"
           },
           "zaxis": {
            "backgroundcolor": "#E5ECF6",
            "gridcolor": "white",
            "gridwidth": 2,
            "linecolor": "white",
            "showbackground": true,
            "ticks": "",
            "zerolinecolor": "white"
           }
          },
          "shapedefaults": {
           "line": {
            "color": "#2a3f5f"
           }
          },
          "ternary": {
           "aaxis": {
            "gridcolor": "white",
            "linecolor": "white",
            "ticks": ""
           },
           "baxis": {
            "gridcolor": "white",
            "linecolor": "white",
            "ticks": ""
           },
           "bgcolor": "#E5ECF6",
           "caxis": {
            "gridcolor": "white",
            "linecolor": "white",
            "ticks": ""
           }
          },
          "title": {
           "x": 0.05
          },
          "xaxis": {
           "automargin": true,
           "gridcolor": "white",
           "linecolor": "white",
           "ticks": "",
           "title": {
            "standoff": 15
           },
           "zerolinecolor": "white",
           "zerolinewidth": 2
          },
          "yaxis": {
           "automargin": true,
           "gridcolor": "white",
           "linecolor": "white",
           "ticks": "",
           "title": {
            "standoff": 15
           },
           "zerolinecolor": "white",
           "zerolinewidth": 2
          }
         }
        },
        "title": {
         "text": "세그먼트별 RFM 지표 분포 비교"
        },
        "xaxis": {
         "anchor": "y",
         "domain": [
          0,
          0.2888888888888889
         ]
        },
        "xaxis2": {
         "anchor": "y2",
         "domain": [
          0.35555555555555557,
          0.6444444444444445
         ]
        },
        "xaxis3": {
         "anchor": "y3",
         "domain": [
          0.7111111111111111,
          1
         ]
        },
        "yaxis": {
         "anchor": "x",
         "domain": [
          0,
          1
         ]
        },
        "yaxis2": {
         "anchor": "x2",
         "domain": [
          0,
          1
         ]
        },
        "yaxis3": {
         "anchor": "x3",
         "domain": [
          0,
          1
         ]
        }
       }
      }
     },
     "metadata": {},
     "output_type": "display_data"
    }
   ],
   "source": [
    "# 세그먼트별 박스플롯으로 RFM 지표 분포 비교\n",
    "fig_box = make_subplots(rows=1, cols=3, \n",
    "                        subplot_titles=('최근성 분포', '구매빈도 분포', '구매금액 분포'))\n",
    "\n",
    "# 최근성 박스플롯\n",
    "for segment in rfm_df['Segment'].unique():\n",
    "    segment_data = rfm_df[rfm_df['Segment'] == segment]\n",
    "    fig_box.add_trace(go.Box(y=segment_data['Recency'], name=segment, showlegend=False), row=1, col=1)\n",
    "\n",
    "# 구매빈도 박스플롯  \n",
    "for segment in rfm_df['Segment'].unique():\n",
    "    segment_data = rfm_df[rfm_df['Segment'] == segment]\n",
    "    fig_box.add_trace(go.Box(y=segment_data['Frequency'], name=segment, showlegend=False), row=1, col=2)\n",
    "\n",
    "# 구매금액 박스플롯\n",
    "for segment in rfm_df['Segment'].unique():\n",
    "    segment_data = rfm_df[rfm_df['Segment'] == segment]\n",
    "    fig_box.add_trace(go.Box(y=segment_data['Monetary'], name=segment, showlegend=False), row=1, col=3)\n",
    "\n",
    "fig_box.update_layout(title_text=\"세그먼트별 RFM 지표 분포 비교\", height=400)\n",
    "fig_box.show()"
   ]
  },
  {
   "cell_type": "code",
   "execution_count": 20,
   "metadata": {},
   "outputs": [
    {
     "name": "stdout",
     "output_type": "stream",
     "text": [
      "세그먼트별 비즈니스 기여도 분석:\n"
     ]
    },
    {
     "data": {
      "text/html": [
       "<div>\n",
       "<style scoped>\n",
       "    .dataframe tbody tr th:only-of-type {\n",
       "        vertical-align: middle;\n",
       "    }\n",
       "\n",
       "    .dataframe tbody tr th {\n",
       "        vertical-align: top;\n",
       "    }\n",
       "\n",
       "    .dataframe thead th {\n",
       "        text-align: right;\n",
       "    }\n",
       "</style>\n",
       "<table border=\"1\" class=\"dataframe\">\n",
       "  <thead>\n",
       "    <tr style=\"text-align: right;\">\n",
       "      <th></th>\n",
       "      <th>총_구매금액</th>\n",
       "      <th>평균_구매금액</th>\n",
       "      <th>고객수</th>\n",
       "      <th>매출_기여율</th>\n",
       "      <th>고객_비율</th>\n",
       "    </tr>\n",
       "    <tr>\n",
       "      <th>Segment</th>\n",
       "      <th></th>\n",
       "      <th></th>\n",
       "      <th></th>\n",
       "      <th></th>\n",
       "      <th></th>\n",
       "    </tr>\n",
       "  </thead>\n",
       "  <tbody>\n",
       "    <tr>\n",
       "      <th>At Risk</th>\n",
       "      <td>5838</td>\n",
       "      <td>40.83</td>\n",
       "      <td>143</td>\n",
       "      <td>0.4</td>\n",
       "      <td>6.4</td>\n",
       "    </tr>\n",
       "    <tr>\n",
       "      <th>Champions</th>\n",
       "      <td>375520</td>\n",
       "      <td>1336.37</td>\n",
       "      <td>281</td>\n",
       "      <td>27.7</td>\n",
       "      <td>12.5</td>\n",
       "    </tr>\n",
       "    <tr>\n",
       "      <th>Loyalists</th>\n",
       "      <td>621485</td>\n",
       "      <td>1111.78</td>\n",
       "      <td>559</td>\n",
       "      <td>45.8</td>\n",
       "      <td>25.0</td>\n",
       "    </tr>\n",
       "    <tr>\n",
       "      <th>Needs Attention</th>\n",
       "      <td>37517</td>\n",
       "      <td>82.45</td>\n",
       "      <td>455</td>\n",
       "      <td>2.8</td>\n",
       "      <td>20.3</td>\n",
       "    </tr>\n",
       "    <tr>\n",
       "      <th>Potential</th>\n",
       "      <td>316628</td>\n",
       "      <td>394.80</td>\n",
       "      <td>802</td>\n",
       "      <td>23.3</td>\n",
       "      <td>35.8</td>\n",
       "    </tr>\n",
       "  </tbody>\n",
       "</table>\n",
       "</div>"
      ],
      "text/plain": [
       "                 총_구매금액  평균_구매금액  고객수  매출_기여율  고객_비율\n",
       "Segment                                             \n",
       "At Risk            5838    40.83  143     0.4    6.4\n",
       "Champions        375520  1336.37  281    27.7   12.5\n",
       "Loyalists        621485  1111.78  559    45.8   25.0\n",
       "Needs Attention   37517    82.45  455     2.8   20.3\n",
       "Potential        316628   394.80  802    23.3   35.8"
      ]
     },
     "execution_count": 20,
     "metadata": {},
     "output_type": "execute_result"
    }
   ],
   "source": [
    "# 세그먼트별 고객 가치 기여도 분석\n",
    "segment_value = rfm_df.groupby('Segment').agg({\n",
    "    'Monetary': ['sum', 'mean', 'count']\n",
    "}).round(2)\n",
    "\n",
    "segment_value.columns = ['총_구매금액', '평균_구매금액', '고객수']\n",
    "segment_value['매출_기여율'] = (segment_value['총_구매금액'] / segment_value['총_구매금액'].sum() * 100).round(1)\n",
    "segment_value['고객_비율'] = (segment_value['고객수'] / segment_value['고객수'].sum() * 100).round(1)\n",
    "\n",
    "print(\"세그먼트별 비즈니스 기여도 분석:\")\n",
    "segment_value"
   ]
  },
  {
   "cell_type": "code",
   "execution_count": 21,
   "metadata": {},
   "outputs": [
    {
     "data": {
      "application/vnd.plotly.v1+json": {
       "config": {
        "plotlyServerURL": "https://plot.ly"
       },
       "data": [
        {
         "hovertemplate": "Segment=At Risk<br>고객 비율 (%)=%{x}<br>매출 기여율 (%)=%{y}<br>평균_구매금액=%{marker.size}<extra></extra>",
         "legendgroup": "At Risk",
         "marker": {
          "color": "#636efa",
          "size": {
           "bdata": "CtejcD1qREA=",
           "dtype": "f8"
          },
          "sizemode": "area",
          "sizeref": 3.340925,
          "symbol": "circle"
         },
         "mode": "markers",
         "name": "At Risk",
         "orientation": "v",
         "showlegend": true,
         "type": "scatter",
         "x": {
          "bdata": "mpmZmZmZGUA=",
          "dtype": "f8"
         },
         "xaxis": "x",
         "y": {
          "bdata": "mpmZmZmZ2T8=",
          "dtype": "f8"
         },
         "yaxis": "y"
        },
        {
         "hovertemplate": "Segment=Champions<br>고객 비율 (%)=%{x}<br>매출 기여율 (%)=%{y}<br>평균_구매금액=%{marker.size}<extra></extra>",
         "legendgroup": "Champions",
         "marker": {
          "color": "#EF553B",
          "size": {
           "bdata": "FK5H4XrhlEA=",
           "dtype": "f8"
          },
          "sizemode": "area",
          "sizeref": 3.340925,
          "symbol": "circle"
         },
         "mode": "markers",
         "name": "Champions",
         "orientation": "v",
         "showlegend": true,
         "type": "scatter",
         "x": {
          "bdata": "AAAAAAAAKUA=",
          "dtype": "f8"
         },
         "xaxis": "x",
         "y": {
          "bdata": "MzMzMzOzO0A=",
          "dtype": "f8"
         },
         "yaxis": "y"
        },
        {
         "hovertemplate": "Segment=Loyalists<br>고객 비율 (%)=%{x}<br>매출 기여율 (%)=%{y}<br>평균_구매금액=%{marker.size}<extra></extra>",
         "legendgroup": "Loyalists",
         "marker": {
          "color": "#00cc96",
          "size": {
           "bdata": "hetRuB5fkUA=",
           "dtype": "f8"
          },
          "sizemode": "area",
          "sizeref": 3.340925,
          "symbol": "circle"
         },
         "mode": "markers",
         "name": "Loyalists",
         "orientation": "v",
         "showlegend": true,
         "type": "scatter",
         "x": {
          "bdata": "AAAAAAAAOUA=",
          "dtype": "f8"
         },
         "xaxis": "x",
         "y": {
          "bdata": "ZmZmZmbmRkA=",
          "dtype": "f8"
         },
         "yaxis": "y"
        },
        {
         "hovertemplate": "Segment=Needs Attention<br>고객 비율 (%)=%{x}<br>매출 기여율 (%)=%{y}<br>평균_구매금액=%{marker.size}<extra></extra>",
         "legendgroup": "Needs Attention",
         "marker": {
          "color": "#ab63fa",
          "size": {
           "bdata": "zczMzMycVEA=",
           "dtype": "f8"
          },
          "sizemode": "area",
          "sizeref": 3.340925,
          "symbol": "circle"
         },
         "mode": "markers",
         "name": "Needs Attention",
         "orientation": "v",
         "showlegend": true,
         "type": "scatter",
         "x": {
          "bdata": "zczMzMxMNEA=",
          "dtype": "f8"
         },
         "xaxis": "x",
         "y": {
          "bdata": "ZmZmZmZmBkA=",
          "dtype": "f8"
         },
         "yaxis": "y"
        },
        {
         "hovertemplate": "Segment=Potential<br>고객 비율 (%)=%{x}<br>매출 기여율 (%)=%{y}<br>평균_구매금액=%{marker.size}<extra></extra>",
         "legendgroup": "Potential",
         "marker": {
          "color": "#FFA15A",
          "size": {
           "bdata": "zczMzMyseEA=",
           "dtype": "f8"
          },
          "sizemode": "area",
          "sizeref": 3.340925,
          "symbol": "circle"
         },
         "mode": "markers",
         "name": "Potential",
         "orientation": "v",
         "showlegend": true,
         "type": "scatter",
         "x": {
          "bdata": "ZmZmZmbmQUA=",
          "dtype": "f8"
         },
         "xaxis": "x",
         "y": {
          "bdata": "zczMzMxMN0A=",
          "dtype": "f8"
         },
         "yaxis": "y"
        }
       ],
       "layout": {
        "annotations": [
         {
          "showarrow": false,
          "text": "균형선",
          "x": 25,
          "y": 30
         }
        ],
        "legend": {
         "itemsizing": "constant",
         "title": {
          "text": "Segment"
         },
         "tracegroupgap": 0
        },
        "shapes": [
         {
          "line": {
           "color": "gray",
           "dash": "dash"
          },
          "type": "line",
          "x0": 0,
          "x1": 50,
          "y0": 0,
          "y1": 50
         }
        ],
        "template": {
         "data": {
          "bar": [
           {
            "error_x": {
             "color": "#2a3f5f"
            },
            "error_y": {
             "color": "#2a3f5f"
            },
            "marker": {
             "line": {
              "color": "#E5ECF6",
              "width": 0.5
             },
             "pattern": {
              "fillmode": "overlay",
              "size": 10,
              "solidity": 0.2
             }
            },
            "type": "bar"
           }
          ],
          "barpolar": [
           {
            "marker": {
             "line": {
              "color": "#E5ECF6",
              "width": 0.5
             },
             "pattern": {
              "fillmode": "overlay",
              "size": 10,
              "solidity": 0.2
             }
            },
            "type": "barpolar"
           }
          ],
          "carpet": [
           {
            "aaxis": {
             "endlinecolor": "#2a3f5f",
             "gridcolor": "white",
             "linecolor": "white",
             "minorgridcolor": "white",
             "startlinecolor": "#2a3f5f"
            },
            "baxis": {
             "endlinecolor": "#2a3f5f",
             "gridcolor": "white",
             "linecolor": "white",
             "minorgridcolor": "white",
             "startlinecolor": "#2a3f5f"
            },
            "type": "carpet"
           }
          ],
          "choropleth": [
           {
            "colorbar": {
             "outlinewidth": 0,
             "ticks": ""
            },
            "type": "choropleth"
           }
          ],
          "contour": [
           {
            "colorbar": {
             "outlinewidth": 0,
             "ticks": ""
            },
            "colorscale": [
             [
              0,
              "#0d0887"
             ],
             [
              0.1111111111111111,
              "#46039f"
             ],
             [
              0.2222222222222222,
              "#7201a8"
             ],
             [
              0.3333333333333333,
              "#9c179e"
             ],
             [
              0.4444444444444444,
              "#bd3786"
             ],
             [
              0.5555555555555556,
              "#d8576b"
             ],
             [
              0.6666666666666666,
              "#ed7953"
             ],
             [
              0.7777777777777778,
              "#fb9f3a"
             ],
             [
              0.8888888888888888,
              "#fdca26"
             ],
             [
              1,
              "#f0f921"
             ]
            ],
            "type": "contour"
           }
          ],
          "contourcarpet": [
           {
            "colorbar": {
             "outlinewidth": 0,
             "ticks": ""
            },
            "type": "contourcarpet"
           }
          ],
          "heatmap": [
           {
            "colorbar": {
             "outlinewidth": 0,
             "ticks": ""
            },
            "colorscale": [
             [
              0,
              "#0d0887"
             ],
             [
              0.1111111111111111,
              "#46039f"
             ],
             [
              0.2222222222222222,
              "#7201a8"
             ],
             [
              0.3333333333333333,
              "#9c179e"
             ],
             [
              0.4444444444444444,
              "#bd3786"
             ],
             [
              0.5555555555555556,
              "#d8576b"
             ],
             [
              0.6666666666666666,
              "#ed7953"
             ],
             [
              0.7777777777777778,
              "#fb9f3a"
             ],
             [
              0.8888888888888888,
              "#fdca26"
             ],
             [
              1,
              "#f0f921"
             ]
            ],
            "type": "heatmap"
           }
          ],
          "histogram": [
           {
            "marker": {
             "pattern": {
              "fillmode": "overlay",
              "size": 10,
              "solidity": 0.2
             }
            },
            "type": "histogram"
           }
          ],
          "histogram2d": [
           {
            "colorbar": {
             "outlinewidth": 0,
             "ticks": ""
            },
            "colorscale": [
             [
              0,
              "#0d0887"
             ],
             [
              0.1111111111111111,
              "#46039f"
             ],
             [
              0.2222222222222222,
              "#7201a8"
             ],
             [
              0.3333333333333333,
              "#9c179e"
             ],
             [
              0.4444444444444444,
              "#bd3786"
             ],
             [
              0.5555555555555556,
              "#d8576b"
             ],
             [
              0.6666666666666666,
              "#ed7953"
             ],
             [
              0.7777777777777778,
              "#fb9f3a"
             ],
             [
              0.8888888888888888,
              "#fdca26"
             ],
             [
              1,
              "#f0f921"
             ]
            ],
            "type": "histogram2d"
           }
          ],
          "histogram2dcontour": [
           {
            "colorbar": {
             "outlinewidth": 0,
             "ticks": ""
            },
            "colorscale": [
             [
              0,
              "#0d0887"
             ],
             [
              0.1111111111111111,
              "#46039f"
             ],
             [
              0.2222222222222222,
              "#7201a8"
             ],
             [
              0.3333333333333333,
              "#9c179e"
             ],
             [
              0.4444444444444444,
              "#bd3786"
             ],
             [
              0.5555555555555556,
              "#d8576b"
             ],
             [
              0.6666666666666666,
              "#ed7953"
             ],
             [
              0.7777777777777778,
              "#fb9f3a"
             ],
             [
              0.8888888888888888,
              "#fdca26"
             ],
             [
              1,
              "#f0f921"
             ]
            ],
            "type": "histogram2dcontour"
           }
          ],
          "mesh3d": [
           {
            "colorbar": {
             "outlinewidth": 0,
             "ticks": ""
            },
            "type": "mesh3d"
           }
          ],
          "parcoords": [
           {
            "line": {
             "colorbar": {
              "outlinewidth": 0,
              "ticks": ""
             }
            },
            "type": "parcoords"
           }
          ],
          "pie": [
           {
            "automargin": true,
            "type": "pie"
           }
          ],
          "scatter": [
           {
            "fillpattern": {
             "fillmode": "overlay",
             "size": 10,
             "solidity": 0.2
            },
            "type": "scatter"
           }
          ],
          "scatter3d": [
           {
            "line": {
             "colorbar": {
              "outlinewidth": 0,
              "ticks": ""
             }
            },
            "marker": {
             "colorbar": {
              "outlinewidth": 0,
              "ticks": ""
             }
            },
            "type": "scatter3d"
           }
          ],
          "scattercarpet": [
           {
            "marker": {
             "colorbar": {
              "outlinewidth": 0,
              "ticks": ""
             }
            },
            "type": "scattercarpet"
           }
          ],
          "scattergeo": [
           {
            "marker": {
             "colorbar": {
              "outlinewidth": 0,
              "ticks": ""
             }
            },
            "type": "scattergeo"
           }
          ],
          "scattergl": [
           {
            "marker": {
             "colorbar": {
              "outlinewidth": 0,
              "ticks": ""
             }
            },
            "type": "scattergl"
           }
          ],
          "scattermap": [
           {
            "marker": {
             "colorbar": {
              "outlinewidth": 0,
              "ticks": ""
             }
            },
            "type": "scattermap"
           }
          ],
          "scattermapbox": [
           {
            "marker": {
             "colorbar": {
              "outlinewidth": 0,
              "ticks": ""
             }
            },
            "type": "scattermapbox"
           }
          ],
          "scatterpolar": [
           {
            "marker": {
             "colorbar": {
              "outlinewidth": 0,
              "ticks": ""
             }
            },
            "type": "scatterpolar"
           }
          ],
          "scatterpolargl": [
           {
            "marker": {
             "colorbar": {
              "outlinewidth": 0,
              "ticks": ""
             }
            },
            "type": "scatterpolargl"
           }
          ],
          "scatterternary": [
           {
            "marker": {
             "colorbar": {
              "outlinewidth": 0,
              "ticks": ""
             }
            },
            "type": "scatterternary"
           }
          ],
          "surface": [
           {
            "colorbar": {
             "outlinewidth": 0,
             "ticks": ""
            },
            "colorscale": [
             [
              0,
              "#0d0887"
             ],
             [
              0.1111111111111111,
              "#46039f"
             ],
             [
              0.2222222222222222,
              "#7201a8"
             ],
             [
              0.3333333333333333,
              "#9c179e"
             ],
             [
              0.4444444444444444,
              "#bd3786"
             ],
             [
              0.5555555555555556,
              "#d8576b"
             ],
             [
              0.6666666666666666,
              "#ed7953"
             ],
             [
              0.7777777777777778,
              "#fb9f3a"
             ],
             [
              0.8888888888888888,
              "#fdca26"
             ],
             [
              1,
              "#f0f921"
             ]
            ],
            "type": "surface"
           }
          ],
          "table": [
           {
            "cells": {
             "fill": {
              "color": "#EBF0F8"
             },
             "line": {
              "color": "white"
             }
            },
            "header": {
             "fill": {
              "color": "#C8D4E3"
             },
             "line": {
              "color": "white"
             }
            },
            "type": "table"
           }
          ]
         },
         "layout": {
          "annotationdefaults": {
           "arrowcolor": "#2a3f5f",
           "arrowhead": 0,
           "arrowwidth": 1
          },
          "autotypenumbers": "strict",
          "coloraxis": {
           "colorbar": {
            "outlinewidth": 0,
            "ticks": ""
           }
          },
          "colorscale": {
           "diverging": [
            [
             0,
             "#8e0152"
            ],
            [
             0.1,
             "#c51b7d"
            ],
            [
             0.2,
             "#de77ae"
            ],
            [
             0.3,
             "#f1b6da"
            ],
            [
             0.4,
             "#fde0ef"
            ],
            [
             0.5,
             "#f7f7f7"
            ],
            [
             0.6,
             "#e6f5d0"
            ],
            [
             0.7,
             "#b8e186"
            ],
            [
             0.8,
             "#7fbc41"
            ],
            [
             0.9,
             "#4d9221"
            ],
            [
             1,
             "#276419"
            ]
           ],
           "sequential": [
            [
             0,
             "#0d0887"
            ],
            [
             0.1111111111111111,
             "#46039f"
            ],
            [
             0.2222222222222222,
             "#7201a8"
            ],
            [
             0.3333333333333333,
             "#9c179e"
            ],
            [
             0.4444444444444444,
             "#bd3786"
            ],
            [
             0.5555555555555556,
             "#d8576b"
            ],
            [
             0.6666666666666666,
             "#ed7953"
            ],
            [
             0.7777777777777778,
             "#fb9f3a"
            ],
            [
             0.8888888888888888,
             "#fdca26"
            ],
            [
             1,
             "#f0f921"
            ]
           ],
           "sequentialminus": [
            [
             0,
             "#0d0887"
            ],
            [
             0.1111111111111111,
             "#46039f"
            ],
            [
             0.2222222222222222,
             "#7201a8"
            ],
            [
             0.3333333333333333,
             "#9c179e"
            ],
            [
             0.4444444444444444,
             "#bd3786"
            ],
            [
             0.5555555555555556,
             "#d8576b"
            ],
            [
             0.6666666666666666,
             "#ed7953"
            ],
            [
             0.7777777777777778,
             "#fb9f3a"
            ],
            [
             0.8888888888888888,
             "#fdca26"
            ],
            [
             1,
             "#f0f921"
            ]
           ]
          },
          "colorway": [
           "#636efa",
           "#EF553B",
           "#00cc96",
           "#ab63fa",
           "#FFA15A",
           "#19d3f3",
           "#FF6692",
           "#B6E880",
           "#FF97FF",
           "#FECB52"
          ],
          "font": {
           "color": "#2a3f5f"
          },
          "geo": {
           "bgcolor": "white",
           "lakecolor": "white",
           "landcolor": "#E5ECF6",
           "showlakes": true,
           "showland": true,
           "subunitcolor": "white"
          },
          "hoverlabel": {
           "align": "left"
          },
          "hovermode": "closest",
          "mapbox": {
           "style": "light"
          },
          "paper_bgcolor": "white",
          "plot_bgcolor": "#E5ECF6",
          "polar": {
           "angularaxis": {
            "gridcolor": "white",
            "linecolor": "white",
            "ticks": ""
           },
           "bgcolor": "#E5ECF6",
           "radialaxis": {
            "gridcolor": "white",
            "linecolor": "white",
            "ticks": ""
           }
          },
          "scene": {
           "xaxis": {
            "backgroundcolor": "#E5ECF6",
            "gridcolor": "white",
            "gridwidth": 2,
            "linecolor": "white",
            "showbackground": true,
            "ticks": "",
            "zerolinecolor": "white"
           },
           "yaxis": {
            "backgroundcolor": "#E5ECF6",
            "gridcolor": "white",
            "gridwidth": 2,
            "linecolor": "white",
            "showbackground": true,
            "ticks": "",
            "zerolinecolor": "white"
           },
           "zaxis": {
            "backgroundcolor": "#E5ECF6",
            "gridcolor": "white",
            "gridwidth": 2,
            "linecolor": "white",
            "showbackground": true,
            "ticks": "",
            "zerolinecolor": "white"
           }
          },
          "shapedefaults": {
           "line": {
            "color": "#2a3f5f"
           }
          },
          "ternary": {
           "aaxis": {
            "gridcolor": "white",
            "linecolor": "white",
            "ticks": ""
           },
           "baxis": {
            "gridcolor": "white",
            "linecolor": "white",
            "ticks": ""
           },
           "bgcolor": "#E5ECF6",
           "caxis": {
            "gridcolor": "white",
            "linecolor": "white",
            "ticks": ""
           }
          },
          "title": {
           "x": 0.05
          },
          "xaxis": {
           "automargin": true,
           "gridcolor": "white",
           "linecolor": "white",
           "ticks": "",
           "title": {
            "standoff": 15
           },
           "zerolinecolor": "white",
           "zerolinewidth": 2
          },
          "yaxis": {
           "automargin": true,
           "gridcolor": "white",
           "linecolor": "white",
           "ticks": "",
           "title": {
            "standoff": 15
           },
           "zerolinecolor": "white",
           "zerolinewidth": 2
          }
         }
        },
        "title": {
         "text": "세그먼트별 고객 비율 vs 매출 기여율"
        },
        "xaxis": {
         "anchor": "y",
         "domain": [
          0,
          1
         ],
         "title": {
          "text": "고객 비율 (%)"
         }
        },
        "yaxis": {
         "anchor": "x",
         "domain": [
          0,
          1
         ],
         "title": {
          "text": "매출 기여율 (%)"
         }
        }
       }
      }
     },
     "metadata": {},
     "output_type": "display_data"
    }
   ],
   "source": [
    "# 매출 기여도 vs 고객 비율 비교 차트\n",
    "fig_contribution = px.scatter(segment_value.reset_index(), \n",
    "                             x='고객_비율', y='매출_기여율',\n",
    "                             size='평균_구매금액', color='Segment',\n",
    "                             title='세그먼트별 고객 비율 vs 매출 기여율',\n",
    "                             labels={'고객_비율': '고객 비율 (%)', '매출_기여율': '매출 기여율 (%)'})\n",
    "fig_contribution.add_shape(type=\"line\", x0=0, y0=0, x1=50, y1=50, \n",
    "                          line=dict(dash=\"dash\", color=\"gray\"))\n",
    "fig_contribution.add_annotation(x=25, y=30, text=\"균형선\", showarrow=False)\n",
    "fig_contribution.show()"
   ]
  },
  {
   "cell_type": "markdown",
   "metadata": {},
   "source": [
    "**분석 결과:**\n",
    "\n",
    "**1. 고객 세그먼트 분포 현황**\n",
    "- **Potential (35.8%)**: 전체 고객의 가장 큰 비중을 차지하는 잠재 고객층으로, 향후 성장 가능성이 높은 핵심 타겟 그룹\n",
    "- **Loyalists (25.0%)**: 충성도 높은 고객층으로 안정적인 매출 기반을 형성\n",
    "- **Needs Attention (20.3%)**: 관심과 관리가 필요한 고객층으로 이탈 위험 그룹\n",
    "- **Champions (12.5%)**: 비중은 작지만 최고 가치 고객층\n",
    "- **At Risk (6.4%)**: 이탈 위험이 높은 소수 그룹\n",
    "\n",
    "**2. 매출 기여도 분석**\n",
    "- **Loyalists (45.8%)**: 전체 매출의 거의 절반을 담당하는 핵심 수익원\n",
    "- **Champions (27.7%)**: 고객 비율 대비 매출 기여도가 매우 높은 고가치 고객\n",
    "- **Potential (23.3%)**: 고객 수 대비 적절한 매출 기여도를 보이는 성장 가능 그룹\n",
    "- **Needs Attention (2.8%)**: 매출 기여도가 매우 낮아 개선이 시급한 그룹\n",
    "- **At Risk (0.4%)**: 매출 기여도가 거의 없는 이탈 위험 그룹\n",
    "\n",
    "**3. RFM 지표별 특성**\n",
    "- **최근성(Recency)**: Champions가 가장 최근 구매 활동을 보이며, At Risk 그룹은 가장 오래된 구매 이력\n",
    "- **구매빈도(Frequency)**: Champions와 Loyalists가 높은 구매 빈도를 보이며, Needs Attention과 At Risk는 낮은 빈도\n",
    "- **구매금액(Monetary)**: Champions가 압도적으로 높은 구매금액을 보이며, Loyalists가 그 다음으로 높음\n",
    "\n",
    "**4. 세그먼트별 마케팅 전략**\n",
    "- **Champions**: VIP 프로그램, 신제품 우선 체험, 개인 맞춤 서비스로 최고 수준의 고객 경험 제공\n",
    "- **Loyalists**: 지속적인 관계 유지를 위한 리워드 프로그램과 교차 판매 기회 확대\n",
    "- **Potential**: 구매 빈도와 금액 증대를 위한 타겟 프로모션과 개인화된 추천 서비스\n",
    "- **Needs Attention**: 재참여 유도를 위한 특별 할인, 설문조사를 통한 니즈 파악 및 맞춤 솔루션 제공\n",
    "- **At Risk**: 즉각적인 리텐션 캠페인과 윈백 프로모션으로 이탈 방지 노력 집중"
   ]
  },
  {
   "cell_type": "markdown",
   "metadata": {},
   "source": []
  }
 ],
 "metadata": {
  "kernelspec": {
   "display_name": ".venv",
   "language": "python",
   "name": "python3"
  },
  "language_info": {
   "codemirror_mode": {
    "name": "ipython",
    "version": 3
   },
   "file_extension": ".py",
   "mimetype": "text/x-python",
   "name": "python",
   "nbconvert_exporter": "python",
   "pygments_lexer": "ipython3",
   "version": "3.11.9"
  }
 },
 "nbformat": 4,
 "nbformat_minor": 2
}
