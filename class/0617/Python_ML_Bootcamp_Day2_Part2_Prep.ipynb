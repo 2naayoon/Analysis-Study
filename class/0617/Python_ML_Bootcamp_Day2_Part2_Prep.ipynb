{
  "cells": [
    {
      "cell_type": "markdown",
      "metadata": {
        "id": "CUnF67Ro6Wey"
      },
      "source": [
        "# 🚀 Day 2-2: ML을 위한 데이터 전처리 🧹\n",
        "\n",
        "\"Garbage In, Garbage Out.\" (쓰레기를 넣으면, 쓰레기가 나온다.)\n",
        "\n",
        "데이터 과학 분야에서 가장 유명한 격언 중 하나입니다. 최고의 모델, 최첨단 알고리즘이 있더라도, 제대로 정제되지 않은 데이터를 사용한다면 결코 좋은 성능을 기대할 수 없습니다. 모델의 성능은 데이터의 품질에 의해 결정되며, **데이터 전처리(Data Preprocessing)** 는 바로 이 '데이터의 품질'을 높이는 핵심적인 과정입니다.\n",
        "\n",
        "특히 고객 이탈 예측, 스팸 메일 분류 등 **분류(Classification)** 문제에서는 숫자형 데이터와 문자형 데이터가 섞여있고, 값이 빠져있는 경우(결측치)도 흔합니다. 기계는 'Male', 'Female' 같은 문자열을 직접 이해하지 못하며, 값이 비어있으면 계산 과정에서 오류를 일으킵니다.\n",
        "\n",
        "이번 시간에는 분류 모델을 훈련시키기 전, 데이터를 모델이 이해할 수 있는 깨끗하고 정제된 형태로 만드는 필수적인 기술들을 배웁니다. **결측치 처리**, **범주형 변수 인코딩**, **특성 스케일링**, 그리고 이 모든 과정을 효율적으로 관리하는 **전처리 파이프라인 구축**까지, 모델의 성능을 극대화하는 첫 단추를 함께 꿰어 보겠습니다.\n",
        "\n",
        "이번 실습에서는 IBM에서 제공한 **통신사 고객 이탈(Telco Customer Churn) 데이터셋**을 사용합니다. 이 데이터는 고객의 요금제 정보, 서비스 사용 패턴 등 다양한 형태의 변수를 포함하고 있어 전처리 기술을 연습하기에 매우 적합합니다.\n",
        "\n",
        "---\n",
        "\n",
        "### 1. 데이터 불러오기 및 탐색\n",
        "\n",
        "가장 먼저, 분석할 데이터를 불러오고 기본적인 구조를 파악해야 합니다. 어떤 변수들이 있고, 데이터 타입은 무엇이며, 비어있는 값은 없는지 확인하는 과정입니다.\n",
        "\n",
        "#### 💻 코드로 알아보기\n",
        "\n",
        "[Kaggle: Telco Customer Churn Dataset](https://www.kaggle.com/datasets/blastchar/telco-customer-churn)에서 `WA_Fn-UseC_-Telco-Customer-Churn.csv` 파일을 다운로드하여 실습에 사용합니다."
      ]
    },
    {
      "cell_type": "code",
      "execution_count": 1,
      "metadata": {
        "id": "M3zX-1yJ6We0"
      },
      "outputs": [
        {
          "name": "stdout",
          "output_type": "stream",
          "text": [
            "데이터셋 크기: (7043, 21)\n",
            "\n",
            "데이터셋 정보:\n",
            "<class 'pandas.core.frame.DataFrame'>\n",
            "RangeIndex: 7043 entries, 0 to 7042\n",
            "Data columns (total 21 columns):\n",
            " #   Column            Non-Null Count  Dtype  \n",
            "---  ------            --------------  -----  \n",
            " 0   customerID        7043 non-null   object \n",
            " 1   gender            7043 non-null   object \n",
            " 2   SeniorCitizen     7043 non-null   int64  \n",
            " 3   Partner           7043 non-null   object \n",
            " 4   Dependents        7043 non-null   object \n",
            " 5   tenure            7043 non-null   int64  \n",
            " 6   PhoneService      7043 non-null   object \n",
            " 7   MultipleLines     7043 non-null   object \n",
            " 8   InternetService   7043 non-null   object \n",
            " 9   OnlineSecurity    7043 non-null   object \n",
            " 10  OnlineBackup      7043 non-null   object \n",
            " 11  DeviceProtection  7043 non-null   object \n",
            " 12  TechSupport       7043 non-null   object \n",
            " 13  StreamingTV       7043 non-null   object \n",
            " 14  StreamingMovies   7043 non-null   object \n",
            " 15  Contract          7043 non-null   object \n",
            " 16  PaperlessBilling  7043 non-null   object \n",
            " 17  PaymentMethod     7043 non-null   object \n",
            " 18  MonthlyCharges    7043 non-null   float64\n",
            " 19  TotalCharges      7043 non-null   object \n",
            " 20  Churn             7043 non-null   object \n",
            "dtypes: float64(1), int64(2), object(18)\n",
            "memory usage: 1.1+ MB\n"
          ]
        }
      ],
      "source": [
        "import pandas as pd\n",
        "import numpy as np\n",
        "\n",
        "# 데이터셋 로드\n",
        "# 자신의 파일 경로에 맞게 수정해주세요.\n",
        "path = '../datasets/ml/telco-customer-churn/WA_Fn-UseC_-Telco-Customer-Churn.csv'\n",
        "df = pd.read_csv(path)\n",
        "\n",
        "# 데이터의 기본적인 정보 확인\n",
        "print(\"데이터셋 크기:\", df.shape)\n",
        "print(\"\\n데이터셋 정보:\")\n",
        "df.info()"
      ]
    },
    {
      "cell_type": "markdown",
      "metadata": {
        "id": "AiK6yP096We0"
      },
      "source": [
        "`df.info()` 결과를 보면, 총 7043개의 데이터와 21개의 컬럼이 있음을 알 수 있습니다. `TotalCharges` 컬럼이 `object` 타입으로 되어있는 점이 특이합니다. 숫자로 보여야 할 것 같은데 왜일까요? 이는 숫자 사이에 공백(space)이 포함된 값이 섞여있기 때문입니다. 이런 값들은 나중에 숫자로 변환하고 결측치로 처리해야 합니다.\n",
        "\n",
        "---\n",
        "\n",
        "### 2. 결측치 처리 (Missing Value Imputation)\n",
        "\n",
        "결측치(Missing Value)는 말 그대로 '값이 빠져있는' 데이터를 의미하며, 보통 `NaN` (Not a Number)으로 표시됩니다. 대부분의 머신러닝 알고리즘은 결측치가 있는 데이터를 처리하지 못하므로, 반드시 훈련 전에 적절한 값으로 채워주어야 합니다.\n",
        "\n",
        "#### 🧠 개념 이해하기\n",
        "\n",
        "결측치를 처리하는 방법은 다양하지만, 가장 기본적인 접근법은 특정 값으로 '대체(impute)'하는 것입니다. `scikit-learn`의 `SimpleImputer`는 다음과 같은 간단한 전략을 제공합니다.\n",
        "\n",
        "* `strategy='mean'`: 해당 열의 **평균값**으로 채웁니다. (수치형 데이터에만 사용 가능)\n",
        "* `strategy='median'`: 해당 열의 **중앙값**으로 채웁니다. 이상치(outlier)가 많은 경우 평균보다 안정적입니다. (수치형 데이터에만 사용 가능)\n",
        "* `strategy='most_frequent'`: 해당 열에서 **가장 자주 등장하는 값(최빈값)**으로 채웁니다. (수치형, 범주형 데이터 모두 사용 가능)\n",
        "* `strategy='constant'`: 우리가 지정하는 **상수 값**으로 채웁니다. (e.g., `fill_value=0` 또는 `fill_value='Unknown'`)\n",
        "\n",
        "어떤 전략을 선택할지는 데이터의 특성과 분포에 따라 달라집니다.\n",
        "\n",
        "#### 💻 코드로 알아보기\n",
        "\n",
        "먼저, 문제가 되었던 `TotalCharges` 컬럼의 공백을 숫자로 변환하고 결측치로 만들겠습니다."
      ]
    },
    {
      "cell_type": "code",
      "execution_count": 2,
      "metadata": {
        "id": "cbaUEjRO6We0"
      },
      "outputs": [
        {
          "name": "stdout",
          "output_type": "stream",
          "text": [
            "TotalCharges 결측치 개수: 11\n"
          ]
        },
        {
          "data": {
            "text/html": [
              "<div>\n",
              "<style scoped>\n",
              "    .dataframe tbody tr th:only-of-type {\n",
              "        vertical-align: middle;\n",
              "    }\n",
              "\n",
              "    .dataframe tbody tr th {\n",
              "        vertical-align: top;\n",
              "    }\n",
              "\n",
              "    .dataframe thead th {\n",
              "        text-align: right;\n",
              "    }\n",
              "</style>\n",
              "<table border=\"1\" class=\"dataframe\">\n",
              "  <thead>\n",
              "    <tr style=\"text-align: right;\">\n",
              "      <th></th>\n",
              "      <th>SeniorCitizen</th>\n",
              "      <th>tenure</th>\n",
              "      <th>MonthlyCharges</th>\n",
              "      <th>TotalCharges</th>\n",
              "    </tr>\n",
              "  </thead>\n",
              "  <tbody>\n",
              "    <tr>\n",
              "      <th>0</th>\n",
              "      <td>0</td>\n",
              "      <td>1</td>\n",
              "      <td>29.85</td>\n",
              "      <td>29.85</td>\n",
              "    </tr>\n",
              "    <tr>\n",
              "      <th>1</th>\n",
              "      <td>0</td>\n",
              "      <td>34</td>\n",
              "      <td>56.95</td>\n",
              "      <td>1889.50</td>\n",
              "    </tr>\n",
              "    <tr>\n",
              "      <th>2</th>\n",
              "      <td>0</td>\n",
              "      <td>2</td>\n",
              "      <td>53.85</td>\n",
              "      <td>108.15</td>\n",
              "    </tr>\n",
              "    <tr>\n",
              "      <th>3</th>\n",
              "      <td>0</td>\n",
              "      <td>45</td>\n",
              "      <td>42.30</td>\n",
              "      <td>1840.75</td>\n",
              "    </tr>\n",
              "    <tr>\n",
              "      <th>4</th>\n",
              "      <td>0</td>\n",
              "      <td>2</td>\n",
              "      <td>70.70</td>\n",
              "      <td>151.65</td>\n",
              "    </tr>\n",
              "    <tr>\n",
              "      <th>...</th>\n",
              "      <td>...</td>\n",
              "      <td>...</td>\n",
              "      <td>...</td>\n",
              "      <td>...</td>\n",
              "    </tr>\n",
              "    <tr>\n",
              "      <th>7038</th>\n",
              "      <td>0</td>\n",
              "      <td>24</td>\n",
              "      <td>84.80</td>\n",
              "      <td>1990.50</td>\n",
              "    </tr>\n",
              "    <tr>\n",
              "      <th>7039</th>\n",
              "      <td>0</td>\n",
              "      <td>72</td>\n",
              "      <td>103.20</td>\n",
              "      <td>7362.90</td>\n",
              "    </tr>\n",
              "    <tr>\n",
              "      <th>7040</th>\n",
              "      <td>0</td>\n",
              "      <td>11</td>\n",
              "      <td>29.60</td>\n",
              "      <td>346.45</td>\n",
              "    </tr>\n",
              "    <tr>\n",
              "      <th>7041</th>\n",
              "      <td>1</td>\n",
              "      <td>4</td>\n",
              "      <td>74.40</td>\n",
              "      <td>306.60</td>\n",
              "    </tr>\n",
              "    <tr>\n",
              "      <th>7042</th>\n",
              "      <td>0</td>\n",
              "      <td>66</td>\n",
              "      <td>105.65</td>\n",
              "      <td>6844.50</td>\n",
              "    </tr>\n",
              "  </tbody>\n",
              "</table>\n",
              "<p>7043 rows × 4 columns</p>\n",
              "</div>"
            ],
            "text/plain": [
              "      SeniorCitizen  tenure  MonthlyCharges  TotalCharges\n",
              "0                 0       1           29.85         29.85\n",
              "1                 0      34           56.95       1889.50\n",
              "2                 0       2           53.85        108.15\n",
              "3                 0      45           42.30       1840.75\n",
              "4                 0       2           70.70        151.65\n",
              "...             ...     ...             ...           ...\n",
              "7038              0      24           84.80       1990.50\n",
              "7039              0      72          103.20       7362.90\n",
              "7040              0      11           29.60        346.45\n",
              "7041              1       4           74.40        306.60\n",
              "7042              0      66          105.65       6844.50\n",
              "\n",
              "[7043 rows x 4 columns]"
            ]
          },
          "execution_count": 2,
          "metadata": {},
          "output_type": "execute_result"
        }
      ],
      "source": [
        "# TotalCharges 컬럼의 공백을 NaN으로 변환 후 float 타입으로 변경\n",
        "df['TotalCharges'] = pd.to_numeric(df['TotalCharges'], errors='coerce')\n",
        "\n",
        "# 결측치가 생성되었는지 확인\n",
        "print(\"TotalCharges 결측치 개수:\", df['TotalCharges'].isnull().sum())\n",
        "\n",
        "# SimpleImputer를 사용해 평균값으로 결측치 채우기\n",
        "from sklearn.impute import SimpleImputer\n",
        "\n",
        "# 수치형 데이터만 선택하여 새로운 DataFrame 생성\n",
        "df_numeric = df.select_dtypes(include=np.number)\n",
        "df_numeric\n"
      ]
    },
    {
      "cell_type": "code",
      "execution_count": 4,
      "metadata": {},
      "outputs": [
        {
          "data": {
            "text/plain": [
              "array([[0.0000e+00, 1.0000e+00, 2.9850e+01, 2.9850e+01],\n",
              "       [0.0000e+00, 3.4000e+01, 5.6950e+01, 1.8895e+03],\n",
              "       [0.0000e+00, 2.0000e+00, 5.3850e+01, 1.0815e+02],\n",
              "       ...,\n",
              "       [0.0000e+00, 1.1000e+01, 2.9600e+01, 3.4645e+02],\n",
              "       [1.0000e+00, 4.0000e+00, 7.4400e+01, 3.0660e+02],\n",
              "       [0.0000e+00, 6.6000e+01, 1.0565e+02, 6.8445e+03]])"
            ]
          },
          "execution_count": 4,
          "metadata": {},
          "output_type": "execute_result"
        }
      ],
      "source": [
        "# 'mean' 전략을 사용하는 imputer 객체 생성\n",
        "imputer = SimpleImputer(strategy='mean')\n",
        "\n",
        "# imputer를 데이터에 학습(fit)시키고 변환(transform) 적용\n",
        "# fit: 각 열의 평균값을 계산하여 imputer 객체 내부에 저장\n",
        "# transform: 저장된 평균값을 사용해 결측치를 채움\n",
        "df_imputed_array = imputer.fit_transform(df_numeric)\n",
        "df_imputed_array"
      ]
    },
    {
      "cell_type": "code",
      "execution_count": 5,
      "metadata": {},
      "outputs": [
        {
          "name": "stdout",
          "output_type": "stream",
          "text": [
            "결측치 처리 후 TotalCharges 정보:\n",
            "count    7043.000000\n",
            "mean     2283.300441\n",
            "std      2265.000258\n",
            "min        18.800000\n",
            "25%       402.225000\n",
            "50%      1400.550000\n",
            "75%      3786.600000\n",
            "max      8684.800000\n",
            "Name: TotalCharges, dtype: float64\n",
            "결측치 처리 후 결측치 개수: 0\n"
          ]
        }
      ],
      "source": [
        "\n",
        "# transform 결과는 numpy 배열이므로 다시 DataFrame으로 변환\n",
        "df_imputed = pd.DataFrame(df_imputed_array, columns=df_numeric.columns)\n",
        "\n",
        "print(\"결측치 처리 후 TotalCharges 정보:\")\n",
        "print(df_imputed['TotalCharges'].describe())\n",
        "print(\"결측치 처리 후 결측치 개수:\", df_imputed['TotalCharges'].isnull().sum())"
      ]
    },
    {
      "cell_type": "markdown",
      "metadata": {
        "id": "ui-F6KKF6We1"
      },
      "source": [
        "#### ✏️ 연습문제 1\n",
        "\n",
        "`SimpleImputer`의 `strategy`를 `'median'`으로 변경하여 `TotalCharges`의 결측치를 **중앙값**으로 채우고, 처리 후 결측치가 없는지 확인해보세요."
      ]
    },
    {
      "cell_type": "code",
      "execution_count": 7,
      "metadata": {
        "id": "eElHRhqE6We1"
      },
      "outputs": [
        {
          "name": "stdout",
          "output_type": "stream",
          "text": [
            "결측치 처리 후 TotalCharges 정보:\n",
            "count    7043.000000\n",
            "mean     2281.916928\n",
            "std      2265.270398\n",
            "min        18.800000\n",
            "25%       402.225000\n",
            "50%      1397.475000\n",
            "75%      3786.600000\n",
            "max      8684.800000\n",
            "Name: TotalCharges, dtype: float64\n",
            "결측치 처리 후 결측치 개수: 0\n"
          ]
        }
      ],
      "source": [
        "# 연습문제 1 코드\n",
        "imputer_median = SimpleImputer(strategy='median')\n",
        "df_imputed_median = imputer_median.fit_transform(df_numeric)\n",
        "df_imputed_median = pd.DataFrame(df_imputed_median, columns=df_numeric.columns)\n",
        "\n",
        "# 중앙값으로 채워진 후 결측치가 없는지 확인하는 코드를 작성하세요.\n",
        "\n",
        "print(\"결측치 처리 후 TotalCharges 정보:\")\n",
        "print(df_imputed_median['TotalCharges'].describe())\n",
        "print(\"결측치 처리 후 결측치 개수:\", df_imputed_median['TotalCharges'].isnull().sum())"
      ]
    },
    {
      "cell_type": "markdown",
      "metadata": {
        "id": "Q6XiIcfh6We1"
      },
      "source": [
        "---\n",
        "\n",
        "### 3. 범주형 변수 인코딩 (Categorical Encoding)\n",
        "\n",
        "머신러닝 모델은 'Male', 'Female'이나 'Yes', 'No' 같은 문자열 데이터를 직접 이해하지 못합니다. 이러한 범주형(Categorical) 데이터를 모델이 처리할 수 있는 숫자 형태로 변환하는 과정을 **인코딩(Encoding)** 이라고 합니다.\n",
        "\n",
        "#### 3.1 레이블 인코딩 (Label Encoding)\n",
        "\n",
        "**레이블 인코딩**은 n개의 범주를 0부터 n-1까지의 정수로 변환하는 가장 간단한 방법입니다.\n",
        "\n",
        "* `'No'` -> `0`, `'Yes'` -> `1`\n",
        "* `'low'` -> `0`, `'medium'` -> `1`, `'high'` -> `2`\n",
        "\n",
        "이 방법은 간단하지만, **순서가 없는 명목형 변수(Nominal Variable)**에 적용할 경우 모델이 숫자의 크기(e.g., 2 > 1 > 0)에서 불필요한 관계를 학습할 위험이 있습니다. 따라서 'Yes/No'와 같은 **이진 변수(Binary Variable)** 나, 'low/medium/high'처럼 **순서가 있는 서열 변수(Ordinal Variable)**에 주로 사용됩니다.\n",
        "\n",
        "##### 💻 코드로 알아보기\n",
        "\n",
        "`scikit-learn`의 `LabelEncoder`를 사용하여 이진 변수인 `Partner` 컬럼을 인코딩해 보겠습니다."
      ]
    },
    {
      "cell_type": "code",
      "execution_count": 8,
      "metadata": {
        "id": "TFpFxwpk6We1"
      },
      "outputs": [
        {
          "name": "stdout",
          "output_type": "stream",
          "text": [
            "원본 데이터: ['Yes' 'No']\n",
            "인코딩된 데이터: [0 1]\n",
            "\n",
            "인코딩 클래스 확인: ['No' 'Yes']\n"
          ]
        }
      ],
      "source": [
        "from sklearn.preprocessing import LabelEncoder\n",
        "\n",
        "# 'Partner' 컬럼 선택\n",
        "partner_series = df['Partner']\n",
        "\n",
        "# LabelEncoder 객체 생성 및 학습/변환\n",
        "le = LabelEncoder()\n",
        "partner_encoded = le.fit_transform(partner_series)\n",
        "\n",
        "print(\"원본 데이터:\", partner_series.unique())\n",
        "print(\"인코딩된 데이터:\", np.unique(partner_encoded))\n",
        "print(\"\\n인코딩 클래스 확인:\", le.classes_) # 'No'가 0, 'Yes'가 1로 매핑됨"
      ]
    },
    {
      "cell_type": "markdown",
      "metadata": {
        "id": "zoR0EtMz6We1"
      },
      "source": [
        "##### ✏️ 연습문제 2\n",
        "\n",
        "`Dependents` 컬럼에 `LabelEncoder`를 적용하여 0과 1로 변환하고, 어떤 값이 어떤 숫자로 매핑되었는지 확인해보세요."
      ]
    },
    {
      "cell_type": "code",
      "execution_count": 9,
      "metadata": {
        "id": "uN530RYi6We1"
      },
      "outputs": [
        {
          "name": "stdout",
          "output_type": "stream",
          "text": [
            "원본 데이터: ['No' 'Yes']\n",
            "인코딩된 데이터: [0 1]\n",
            "\n",
            "인코딩 클래스 확인: ['No' 'Yes']\n"
          ]
        }
      ],
      "source": [
        "# 연습문제 2 코드\n",
        "dependents_series = df['Dependents']\n",
        "\n",
        "# 여기에 LabelEncoder를 적용하는 코드를 작성하세요.\n",
        "\n",
        "# LabelEncoder 객체 생성 및 학습/변환\n",
        "le_for_dept = LabelEncoder()\n",
        "dependents_encoded = le_for_dept.fit_transform(dependents_series)\n",
        "\n",
        "print(\"원본 데이터:\", dependents_series.unique())\n",
        "print(\"인코딩된 데이터:\", np.unique(dependents_encoded))\n",
        "print(\"\\n인코딩 클래스 확인:\", le_for_dept.classes_) # 'No'가 0, 'Yes'가 1로 매핑됨\n"
      ]
    },
    {
      "cell_type": "markdown",
      "metadata": {
        "id": "BUjtrAXF6We1"
      },
      "source": [
        "#### 3.2 원-핫 인코딩 (One-Hot Encoding)\n",
        "\n",
        "순서가 없는 명목형 변수(e.g., `Contract`: 'Month-to-month', 'One year', 'Two year')에 레이블 인코딩을 적용하면, 모델은 'Two year'(2)가 'Month-to-month'(0)보다 두 배 더 중요하다고 잘못 학습할 수 있습니다.\n",
        "\n",
        "**원-핫 인코딩**은 이러한 문제를 해결하기 위해 각 범주를 새로운 **'더미 변수(dummy variable)'** 컬럼으로 만들고, 해당 범주에 속하면 1, 아니면 0으로 표시하는 방법입니다.\n",
        "\n",
        "| Contract (Original) | Contract_Month-to-month | Contract_One year | Contract_Two year |\n",
        "| :--- | :--- | :--- | :--- |\n",
        "| Month-to-month | 1 | 0 | 0 |\n",
        "| One year | 0 | 1 | 0 |\n",
        "| Two year | 0 | 0 | 1 |\n",
        "| Month-to-month | 1 | 0 | 0 |\n",
        "\n",
        "이 방법은 변수 간의 순서 관계가 없다는 것을 명확히 해주지만, 범주의 개수만큼 컬럼이 늘어나는 단점이 있습니다.\n",
        "\n",
        "##### 💻 코드로 알아보기\n",
        "\n",
        "`scikit-learn`의 `OneHotEncoder`를 사용하여 `Contract` 컬럼을 인코딩해 보겠습니다. `OneHotEncoder`는 2차원 배열을 입력으로 받으므로 `df[['Contract']]`와 같이 사용해야 합니다."
      ]
    },
    {
      "cell_type": "code",
      "execution_count": 10,
      "metadata": {
        "id": "jcujV_Zd6We2"
      },
      "outputs": [
        {
          "name": "stdout",
          "output_type": "stream",
          "text": [
            "원본 데이터: ['Month-to-month' 'One year' 'Two year']\n",
            "인코딩된 데이터 shape: (7043, 3)\n",
            "생성된 컬럼명: ['Contract_Month-to-month' 'Contract_One year' 'Contract_Two year']\n",
            "\n",
            "인코딩 샘플:\n",
            " [[1. 0. 0.]\n",
            " [0. 1. 0.]\n",
            " [1. 0. 0.]\n",
            " [0. 1. 0.]\n",
            " [1. 0. 0.]]\n"
          ]
        }
      ],
      "source": [
        "from sklearn.preprocessing import OneHotEncoder\n",
        "\n",
        "# 'Contract' 컬럼 선택\n",
        "contract_df = df[['Contract']]\n",
        "\n",
        "# OneHotEncoder 객체 생성 및 학습/변환\n",
        "ohe = OneHotEncoder(sparse_output=False) # sparse_output=False로 해야 numpy 배열로 반환됨\n",
        "contract_onehot = ohe.fit_transform(contract_df.fillna('Unknown')) # 결측치가 있을 경우를 대비\n",
        "\n",
        "print(\"원본 데이터:\", contract_df['Contract'].unique())\n",
        "print(\"인코딩된 데이터 shape:\", contract_onehot.shape)\n",
        "print(\"생성된 컬럼명:\", ohe.get_feature_names_out())\n",
        "print(\"\\n인코딩 샘플:\\n\", contract_onehot[:5])"
      ]
    },
    {
      "cell_type": "markdown",
      "metadata": {
        "id": "cGhkVRjM6We2"
      },
      "source": [
        "##### ✏️ 연습문제 3\n",
        "\n",
        "`PaymentMethod` 컬럼에 `OneHotEncoder`를 적용하고, 생성된 더미 변수의 개수(shape)와 컬럼명을 출력해보세요."
      ]
    },
    {
      "cell_type": "code",
      "execution_count": 11,
      "metadata": {
        "id": "y4-HjkVq6We2"
      },
      "outputs": [
        {
          "name": "stdout",
          "output_type": "stream",
          "text": [
            "원본 데이터: ['Electronic check' 'Mailed check' 'Bank transfer (automatic)'\n",
            " 'Credit card (automatic)']\n",
            "인코딩된 데이터 shape: (7043, 4)\n",
            "생성된 컬럼명: ['PaymentMethod_Bank transfer (automatic)'\n",
            " 'PaymentMethod_Credit card (automatic)' 'PaymentMethod_Electronic check'\n",
            " 'PaymentMethod_Mailed check']\n"
          ]
        }
      ],
      "source": [
        "# 연습문제 3 코드\n",
        "payment_df = df[['PaymentMethod']]\n",
        "\n",
        "# OneHotEncoder 객체 생성 및 학습/변환\n",
        "ohe = OneHotEncoder(sparse_output=False) # sparse_output=False로 해야 numpy 배열로 반환됨\n",
        "payment_onehot = ohe.fit_transform(payment_df.fillna('Unknown')) # 결측치가 있을 경우를 대비\n",
        "\n",
        "print(\"원본 데이터:\", payment_df['PaymentMethod'].unique())\n",
        "print(\"인코딩된 데이터 shape:\", payment_onehot.shape)\n",
        "print(\"생성된 컬럼명:\", ohe.get_feature_names_out())"
      ]
    },
    {
      "cell_type": "markdown",
      "metadata": {
        "id": "rQA9vRpI6We2"
      },
      "source": [
        "---\n",
        "\n",
        "### 4. 특성 스케일링 (Feature Scaling)\n",
        "\n",
        "`tenure`(가입 기간), `MonthlyCharges`(월 요금)와 같이 값의 범위(scale)가 다른 숫자형 변수들이 있을 때, 스케일이 큰 변수가 모델에 더 큰 영향을 미치는 것을 방지하기 위해 모든 변수의 범위를 비슷하게 맞춰주는 작업이 **특성 스케일링**입니다.\n",
        "\n",
        "이는 특히 거리를 기반으로 하는 알고리즘(KNN), 경사 하강법을 사용하는 알고리즘(로지스틱 회귀, SVM, 신경망)에서 성능에 큰 영향을 줍니다.\n",
        "\n",
        "#### 4.1 표준화 (Standardization)\n",
        "\n",
        "**표준화**는 각 특성의 **평균을 0, 표준편차를 1**로 변환하는 방법입니다. 이상치에 비교적 덜 민감하며, 데이터가 정규 분포를 따를 때 효과적입니다. `StandardScaler`를 사용합니다.\n",
        "\n",
        "$$z = \\frac{(x - \\mu)}{\\sigma}$$\n",
        "\n",
        "* $x$: 원본 데이터\n",
        "* $\\mu$: 평균\n",
        "* $\\sigma$: 표준편차\n",
        "\n",
        "##### 💻 코드로 알아보기\n",
        "\n",
        "앞서 결측치를 채운 `df_imputed` 데이터의 수치형 변수들에 `StandardScaler`를 적용해 보겠습니다."
      ]
    },
    {
      "cell_type": "code",
      "execution_count": 12,
      "metadata": {
        "id": "NfcrpjCH6We2"
      },
      "outputs": [
        {
          "name": "stdout",
          "output_type": "stream",
          "text": [
            "--- 스케일링 전 ---\n",
            "       SeniorCitizen       tenure  MonthlyCharges  TotalCharges\n",
            "count    7043.000000  7043.000000     7043.000000   7043.000000\n",
            "mean        0.162147    32.371149       64.761692   2283.300441\n",
            "std         0.368612    24.559481       30.090047   2265.000258\n",
            "min         0.000000     0.000000       18.250000     18.800000\n",
            "25%         0.000000     9.000000       35.500000    402.225000\n",
            "50%         0.000000    29.000000       70.350000   1400.550000\n",
            "75%         0.000000    55.000000       89.850000   3786.600000\n",
            "max         1.000000    72.000000      118.750000   8684.800000\n",
            "\n",
            "--- StandardScaler 적용 후 ---\n",
            "       SeniorCitizen        tenure  MonthlyCharges  TotalCharges\n",
            "count   7.043000e+03  7.043000e+03    7.043000e+03  7.043000e+03\n",
            "mean   -4.842546e-17 -2.421273e-17   -6.406285e-17  8.070910e-17\n",
            "std     1.000071e+00  1.000071e+00    1.000071e+00  1.000071e+00\n",
            "min    -4.399165e-01 -1.318165e+00   -1.545860e+00 -9.998503e-01\n",
            "25%    -4.399165e-01 -9.516817e-01   -9.725399e-01 -8.305558e-01\n",
            "50%    -4.399165e-01 -1.372744e-01    1.857327e-01 -3.897629e-01\n",
            "75%    -4.399165e-01  9.214551e-01    8.338335e-01  6.637555e-01\n",
            "max     2.273159e+00  1.613701e+00    1.794352e+00  2.826469e+00\n"
          ]
        }
      ],
      "source": [
        "from sklearn.preprocessing import StandardScaler\n",
        "\n",
        "# StandardScaler 객체 생성\n",
        "scaler = StandardScaler()\n",
        "\n",
        "# 스케일러 학습 및 변환\n",
        "df_scaled_standard = scaler.fit_transform(df_imputed)\n",
        "df_scaled_standard = pd.DataFrame(df_scaled_standard, columns=df_imputed.columns)\n",
        "\n",
        "print(\"--- 스케일링 전 ---\")\n",
        "print(df_imputed.describe())\n",
        "print(\"\\n--- StandardScaler 적용 후 ---\")\n",
        "print(df_scaled_standard.describe())"
      ]
    },
    {
      "cell_type": "markdown",
      "metadata": {
        "id": "Lg1bJAbd6We2"
      },
      "source": [
        "결과를 보면 모든 컬럼의 평균(mean)이 거의 0에 가깝고, 표준편차(std)가 1로 변환된 것을 확인할 수 있습니다.\n",
        "\n",
        "#### 4.2 정규화 (Normalization)\n",
        "\n",
        "**정규화**는 각 특성의 값을 **0과 1 사이의 범위**로 변환하는 방법입니다. 데이터의 분포를 유지하면서 스케일을 조정하고 싶을 때 유용합니다. `MinMaxScaler`를 사용합니다.\n",
        "\n",
        "$$X_{norm} = \\frac{(X - X_{min})}{(X_{max} - X_{min})}$$\n",
        "\n",
        "##### 💻 코드로 알아보기\n",
        "\n",
        "`df_imputed` 데이터에 `MinMaxScaler`를 적용해 보겠습니다."
      ]
    },
    {
      "cell_type": "code",
      "execution_count": 13,
      "metadata": {
        "id": "0tg7LXNP6We2"
      },
      "outputs": [
        {
          "name": "stdout",
          "output_type": "stream",
          "text": [
            "\n",
            "--- MinMaxScaler 적용 후 ---\n",
            "       SeniorCitizen       tenure  MonthlyCharges  TotalCharges\n",
            "count    7043.000000  7043.000000     7043.000000   7043.000000\n",
            "mean        0.162147     0.449599        0.462803      0.261309\n",
            "std         0.368612     0.341104        0.299403      0.261366\n",
            "min         0.000000     0.000000        0.000000      0.000000\n",
            "25%         0.000000     0.125000        0.171642      0.044245\n",
            "50%         0.000000     0.402778        0.518408      0.159445\n",
            "75%         0.000000     0.763889        0.712438      0.434780\n",
            "max         1.000000     1.000000        1.000000      1.000000\n"
          ]
        }
      ],
      "source": [
        "from sklearn.preprocessing import MinMaxScaler\n",
        "\n",
        "# MinMaxScaler 객체 생성\n",
        "minmax_scaler = MinMaxScaler()\n",
        "\n",
        "# 스케일러 학습 및 변환\n",
        "df_scaled_minmax = minmax_scaler.fit_transform(df_imputed)\n",
        "df_scaled_minmax = pd.DataFrame(df_scaled_minmax, columns=df_imputed.columns)\n",
        "\n",
        "print(\"\\n--- MinMaxScaler 적용 후 ---\")\n",
        "print(df_scaled_minmax.describe())"
      ]
    },
    {
      "cell_type": "markdown",
      "metadata": {
        "id": "Ut8cxXZs6We2"
      },
      "source": [
        "결과를 보면 모든 컬럼의 최소값(min)이 0, 최대값(max)이 1로 변환된 것을 확인할 수 있습니다.\n",
        "\n",
        "#### ✏️ 연습문제 4\n",
        "\n",
        "`df_imputed` 데이터프레임에서 `tenure`와 `TotalCharges` 두 컬럼만 선택하여 `StandardScaler`로 표준화를 진행하고, 변환된 데이터의 첫 5행을 출력해보세요."
      ]
    },
    {
      "cell_type": "code",
      "execution_count": 14,
      "metadata": {
        "id": "HR99USae6We2"
      },
      "outputs": [
        {
          "data": {
            "text/plain": [
              "array([[-1.27744458, -0.99497138],\n",
              "       [ 0.06632742, -0.17387565],\n",
              "       [-1.23672422, -0.96039939],\n",
              "       [ 0.51425142, -0.19540036],\n",
              "       [-1.23672422, -0.94119274]])"
            ]
          },
          "execution_count": 14,
          "metadata": {},
          "output_type": "execute_result"
        }
      ],
      "source": [
        "# 연습문제 4 코드\n",
        "StandardScaler().fit_transform(df_imputed[['tenure', 'TotalCharges']])[:5]"
      ]
    },
    {
      "cell_type": "markdown",
      "metadata": {
        "id": "9ogSkbLL6We2"
      },
      "source": [
        "---\n",
        "\n",
        "### 5. 데이터 불균형 처리 (Handling Imbalanced Data)\n",
        "\n",
        "분류 문제에서 타겟 변수의 클래스 비율이 심하게 차이 나는 경우를 **데이터 불균형(Imbalanced Data)** 이라고 합니다. 예를 들어, 고객 이탈 예측에서 이탈 고객(Yes)이 10%, 비이탈 고객(No)이 90%라면, 모델은 무조건 'No'라고만 예측해도 90%의 정확도를 얻게 됩니다. 이는 우리가 원하는 소수 클래스(이탈 고객)를 제대로 예측하지 못하는 결과를 낳습니다.\n",
        "\n",
        "이를 해결하는 방법 중 하나가 **오버샘플링(Oversampling)** 이며, 가장 대표적인 기법이 **SMOTE(Synthetic Minority Over-sampling Technique)** 입니다.\n",
        "\n",
        "#### 🧠 개념 이해하기\n",
        "\n",
        "**SMOTE**는 단순히 소수 클래스의 데이터를 복제하는 것이 아니라, 소수 클래스 데이터 포인트들 사이의 공간에 **'가상의(Synthetic)' 데이터를 생성**하여 데이터 수를 늘리는 방식입니다.\n",
        "\n",
        "1.  소수 클래스에서 임의의 데이터 포인트($A$)를 선택합니다.\n",
        "2.  그 데이터와 가장 가까운 k개의 이웃($B, C, ...$)을 찾습니다.\n",
        "3.  $A$와 이웃들 사이의 직선상에 임의의 점을 찍어 새로운 데이터 포인트($A'$)를 생성합니다.\n",
        "4.  이 과정을 소수 클래스와 다수 클래스의 데이터 수가 비슷해질 때까지 반복합니다.\n",
        "\n",
        "**중요**: SMOTE와 같은 오버샘플링 기법은 반드시 **훈련(Train) 데이터에만 적용**해야 합니다. 테스트(Test) 데이터에 적용하면 모델의 성능을 부풀리게 되어 올바른 평가를 할 수 없습니다.\n",
        "\n",
        "#### 💻 코드로 알아보기\n",
        "\n",
        "`imblearn` 라이브러리를 설치(`pip install imbalanced-learn`)하고 SMOTE를 적용해 보겠습니다."
      ]
    },
    {
      "cell_type": "code",
      "execution_count": null,
      "metadata": {},
      "outputs": [],
      "source": [
        "!pip install imbalanced-learn"
      ]
    },
    {
      "cell_type": "markdown",
      "metadata": {},
      "source": [
        "데이터 로드"
      ]
    },
    {
      "cell_type": "code",
      "execution_count": 16,
      "metadata": {
        "id": "28fYGC7m6We2"
      },
      "outputs": [
        {
          "data": {
            "text/html": [
              "<div>\n",
              "<style scoped>\n",
              "    .dataframe tbody tr th:only-of-type {\n",
              "        vertical-align: middle;\n",
              "    }\n",
              "\n",
              "    .dataframe tbody tr th {\n",
              "        vertical-align: top;\n",
              "    }\n",
              "\n",
              "    .dataframe thead th {\n",
              "        text-align: right;\n",
              "    }\n",
              "</style>\n",
              "<table border=\"1\" class=\"dataframe\">\n",
              "  <thead>\n",
              "    <tr style=\"text-align: right;\">\n",
              "      <th></th>\n",
              "      <th>Time</th>\n",
              "      <th>V1</th>\n",
              "      <th>V2</th>\n",
              "      <th>V3</th>\n",
              "      <th>V4</th>\n",
              "      <th>V5</th>\n",
              "      <th>V6</th>\n",
              "      <th>V7</th>\n",
              "      <th>V8</th>\n",
              "      <th>V9</th>\n",
              "      <th>...</th>\n",
              "      <th>V21</th>\n",
              "      <th>V22</th>\n",
              "      <th>V23</th>\n",
              "      <th>V24</th>\n",
              "      <th>V25</th>\n",
              "      <th>V26</th>\n",
              "      <th>V27</th>\n",
              "      <th>V28</th>\n",
              "      <th>Amount</th>\n",
              "      <th>Class</th>\n",
              "    </tr>\n",
              "  </thead>\n",
              "  <tbody>\n",
              "    <tr>\n",
              "      <th>0</th>\n",
              "      <td>0.0</td>\n",
              "      <td>-1.359807</td>\n",
              "      <td>-0.072781</td>\n",
              "      <td>2.536347</td>\n",
              "      <td>1.378155</td>\n",
              "      <td>-0.338321</td>\n",
              "      <td>0.462388</td>\n",
              "      <td>0.239599</td>\n",
              "      <td>0.098698</td>\n",
              "      <td>0.363787</td>\n",
              "      <td>...</td>\n",
              "      <td>-0.018307</td>\n",
              "      <td>0.277838</td>\n",
              "      <td>-0.110474</td>\n",
              "      <td>0.066928</td>\n",
              "      <td>0.128539</td>\n",
              "      <td>-0.189115</td>\n",
              "      <td>0.133558</td>\n",
              "      <td>-0.021053</td>\n",
              "      <td>149.62</td>\n",
              "      <td>0</td>\n",
              "    </tr>\n",
              "    <tr>\n",
              "      <th>1</th>\n",
              "      <td>0.0</td>\n",
              "      <td>1.191857</td>\n",
              "      <td>0.266151</td>\n",
              "      <td>0.166480</td>\n",
              "      <td>0.448154</td>\n",
              "      <td>0.060018</td>\n",
              "      <td>-0.082361</td>\n",
              "      <td>-0.078803</td>\n",
              "      <td>0.085102</td>\n",
              "      <td>-0.255425</td>\n",
              "      <td>...</td>\n",
              "      <td>-0.225775</td>\n",
              "      <td>-0.638672</td>\n",
              "      <td>0.101288</td>\n",
              "      <td>-0.339846</td>\n",
              "      <td>0.167170</td>\n",
              "      <td>0.125895</td>\n",
              "      <td>-0.008983</td>\n",
              "      <td>0.014724</td>\n",
              "      <td>2.69</td>\n",
              "      <td>0</td>\n",
              "    </tr>\n",
              "    <tr>\n",
              "      <th>2</th>\n",
              "      <td>1.0</td>\n",
              "      <td>-1.358354</td>\n",
              "      <td>-1.340163</td>\n",
              "      <td>1.773209</td>\n",
              "      <td>0.379780</td>\n",
              "      <td>-0.503198</td>\n",
              "      <td>1.800499</td>\n",
              "      <td>0.791461</td>\n",
              "      <td>0.247676</td>\n",
              "      <td>-1.514654</td>\n",
              "      <td>...</td>\n",
              "      <td>0.247998</td>\n",
              "      <td>0.771679</td>\n",
              "      <td>0.909412</td>\n",
              "      <td>-0.689281</td>\n",
              "      <td>-0.327642</td>\n",
              "      <td>-0.139097</td>\n",
              "      <td>-0.055353</td>\n",
              "      <td>-0.059752</td>\n",
              "      <td>378.66</td>\n",
              "      <td>0</td>\n",
              "    </tr>\n",
              "    <tr>\n",
              "      <th>3</th>\n",
              "      <td>1.0</td>\n",
              "      <td>-0.966272</td>\n",
              "      <td>-0.185226</td>\n",
              "      <td>1.792993</td>\n",
              "      <td>-0.863291</td>\n",
              "      <td>-0.010309</td>\n",
              "      <td>1.247203</td>\n",
              "      <td>0.237609</td>\n",
              "      <td>0.377436</td>\n",
              "      <td>-1.387024</td>\n",
              "      <td>...</td>\n",
              "      <td>-0.108300</td>\n",
              "      <td>0.005274</td>\n",
              "      <td>-0.190321</td>\n",
              "      <td>-1.175575</td>\n",
              "      <td>0.647376</td>\n",
              "      <td>-0.221929</td>\n",
              "      <td>0.062723</td>\n",
              "      <td>0.061458</td>\n",
              "      <td>123.50</td>\n",
              "      <td>0</td>\n",
              "    </tr>\n",
              "    <tr>\n",
              "      <th>4</th>\n",
              "      <td>2.0</td>\n",
              "      <td>-1.158233</td>\n",
              "      <td>0.877737</td>\n",
              "      <td>1.548718</td>\n",
              "      <td>0.403034</td>\n",
              "      <td>-0.407193</td>\n",
              "      <td>0.095921</td>\n",
              "      <td>0.592941</td>\n",
              "      <td>-0.270533</td>\n",
              "      <td>0.817739</td>\n",
              "      <td>...</td>\n",
              "      <td>-0.009431</td>\n",
              "      <td>0.798278</td>\n",
              "      <td>-0.137458</td>\n",
              "      <td>0.141267</td>\n",
              "      <td>-0.206010</td>\n",
              "      <td>0.502292</td>\n",
              "      <td>0.219422</td>\n",
              "      <td>0.215153</td>\n",
              "      <td>69.99</td>\n",
              "      <td>0</td>\n",
              "    </tr>\n",
              "  </tbody>\n",
              "</table>\n",
              "<p>5 rows × 31 columns</p>\n",
              "</div>"
            ],
            "text/plain": [
              "   Time        V1        V2        V3        V4        V5        V6        V7  \\\n",
              "0   0.0 -1.359807 -0.072781  2.536347  1.378155 -0.338321  0.462388  0.239599   \n",
              "1   0.0  1.191857  0.266151  0.166480  0.448154  0.060018 -0.082361 -0.078803   \n",
              "2   1.0 -1.358354 -1.340163  1.773209  0.379780 -0.503198  1.800499  0.791461   \n",
              "3   1.0 -0.966272 -0.185226  1.792993 -0.863291 -0.010309  1.247203  0.237609   \n",
              "4   2.0 -1.158233  0.877737  1.548718  0.403034 -0.407193  0.095921  0.592941   \n",
              "\n",
              "         V8        V9  ...       V21       V22       V23       V24       V25  \\\n",
              "0  0.098698  0.363787  ... -0.018307  0.277838 -0.110474  0.066928  0.128539   \n",
              "1  0.085102 -0.255425  ... -0.225775 -0.638672  0.101288 -0.339846  0.167170   \n",
              "2  0.247676 -1.514654  ...  0.247998  0.771679  0.909412 -0.689281 -0.327642   \n",
              "3  0.377436 -1.387024  ... -0.108300  0.005274 -0.190321 -1.175575  0.647376   \n",
              "4 -0.270533  0.817739  ... -0.009431  0.798278 -0.137458  0.141267 -0.206010   \n",
              "\n",
              "        V26       V27       V28  Amount  Class  \n",
              "0 -0.189115  0.133558 -0.021053  149.62      0  \n",
              "1  0.125895 -0.008983  0.014724    2.69      0  \n",
              "2 -0.139097 -0.055353 -0.059752  378.66      0  \n",
              "3 -0.221929  0.062723  0.061458  123.50      0  \n",
              "4  0.502292  0.219422  0.215153   69.99      0  \n",
              "\n",
              "[5 rows x 31 columns]"
            ]
          },
          "execution_count": 16,
          "metadata": {},
          "output_type": "execute_result"
        }
      ],
      "source": [
        "import pandas as pd\n",
        "from sklearn.model_selection import train_test_split\n",
        "from imblearn.over_sampling import SMOTE\n",
        "df = pd.read_csv(\"../datasets/ml/creditcardfraud/creditcard.csv\")\n",
        "df.head()"
      ]
    },
    {
      "cell_type": "code",
      "execution_count": 18,
      "metadata": {},
      "outputs": [
        {
          "data": {
            "text/html": [
              "<div>\n",
              "<style scoped>\n",
              "    .dataframe tbody tr th:only-of-type {\n",
              "        vertical-align: middle;\n",
              "    }\n",
              "\n",
              "    .dataframe tbody tr th {\n",
              "        vertical-align: top;\n",
              "    }\n",
              "\n",
              "    .dataframe thead th {\n",
              "        text-align: right;\n",
              "    }\n",
              "</style>\n",
              "<table border=\"1\" class=\"dataframe\">\n",
              "  <thead>\n",
              "    <tr style=\"text-align: right;\">\n",
              "      <th></th>\n",
              "      <th>Class</th>\n",
              "    </tr>\n",
              "  </thead>\n",
              "  <tbody>\n",
              "    <tr>\n",
              "      <th>count</th>\n",
              "      <td>284807.000000</td>\n",
              "    </tr>\n",
              "    <tr>\n",
              "      <th>mean</th>\n",
              "      <td>0.001727</td>\n",
              "    </tr>\n",
              "    <tr>\n",
              "      <th>std</th>\n",
              "      <td>0.041527</td>\n",
              "    </tr>\n",
              "    <tr>\n",
              "      <th>min</th>\n",
              "      <td>0.000000</td>\n",
              "    </tr>\n",
              "    <tr>\n",
              "      <th>25%</th>\n",
              "      <td>0.000000</td>\n",
              "    </tr>\n",
              "    <tr>\n",
              "      <th>50%</th>\n",
              "      <td>0.000000</td>\n",
              "    </tr>\n",
              "    <tr>\n",
              "      <th>75%</th>\n",
              "      <td>0.000000</td>\n",
              "    </tr>\n",
              "    <tr>\n",
              "      <th>max</th>\n",
              "      <td>1.000000</td>\n",
              "    </tr>\n",
              "  </tbody>\n",
              "</table>\n",
              "</div>"
            ],
            "text/plain": [
              "               Class\n",
              "count  284807.000000\n",
              "mean        0.001727\n",
              "std         0.041527\n",
              "min         0.000000\n",
              "25%         0.000000\n",
              "50%         0.000000\n",
              "75%         0.000000\n",
              "max         1.000000"
            ]
          },
          "execution_count": 18,
          "metadata": {},
          "output_type": "execute_result"
        }
      ],
      "source": [
        "# 기초통계량 확인\n",
        "df[['Class']].describe()"
      ]
    },
    {
      "cell_type": "markdown",
      "metadata": {},
      "source": [
        "시각화"
      ]
    },
    {
      "cell_type": "code",
      "execution_count": 19,
      "metadata": {},
      "outputs": [
        {
          "data": {
            "application/vnd.plotly.v1+json": {
              "config": {
                "plotlyServerURL": "https://plot.ly"
              },
              "data": [
                {
                  "hovertemplate": "분류=%{x}<br>개수=%{text}<extra></extra>",
                  "legendgroup": "",
                  "marker": {
                    "color": "#636efa",
                    "pattern": {
                      "shape": ""
                    }
                  },
                  "name": "",
                  "orientation": "v",
                  "showlegend": false,
                  "text": {
                    "bdata": "AAAAAGxaEUEAAAAAAMB+QA==",
                    "dtype": "f8"
                  },
                  "textposition": "auto",
                  "type": "bar",
                  "x": {
                    "bdata": "AAE=",
                    "dtype": "i1"
                  },
                  "xaxis": "x",
                  "y": {
                    "bdata": "m1YEAOwBAAA=",
                    "dtype": "i4"
                  },
                  "yaxis": "y"
                }
              ],
              "layout": {
                "barmode": "relative",
                "height": 400,
                "legend": {
                  "tracegroupgap": 0
                },
                "template": {
                  "data": {
                    "bar": [
                      {
                        "error_x": {
                          "color": "#2a3f5f"
                        },
                        "error_y": {
                          "color": "#2a3f5f"
                        },
                        "marker": {
                          "line": {
                            "color": "#E5ECF6",
                            "width": 0.5
                          },
                          "pattern": {
                            "fillmode": "overlay",
                            "size": 10,
                            "solidity": 0.2
                          }
                        },
                        "type": "bar"
                      }
                    ],
                    "barpolar": [
                      {
                        "marker": {
                          "line": {
                            "color": "#E5ECF6",
                            "width": 0.5
                          },
                          "pattern": {
                            "fillmode": "overlay",
                            "size": 10,
                            "solidity": 0.2
                          }
                        },
                        "type": "barpolar"
                      }
                    ],
                    "carpet": [
                      {
                        "aaxis": {
                          "endlinecolor": "#2a3f5f",
                          "gridcolor": "white",
                          "linecolor": "white",
                          "minorgridcolor": "white",
                          "startlinecolor": "#2a3f5f"
                        },
                        "baxis": {
                          "endlinecolor": "#2a3f5f",
                          "gridcolor": "white",
                          "linecolor": "white",
                          "minorgridcolor": "white",
                          "startlinecolor": "#2a3f5f"
                        },
                        "type": "carpet"
                      }
                    ],
                    "choropleth": [
                      {
                        "colorbar": {
                          "outlinewidth": 0,
                          "ticks": ""
                        },
                        "type": "choropleth"
                      }
                    ],
                    "contour": [
                      {
                        "colorbar": {
                          "outlinewidth": 0,
                          "ticks": ""
                        },
                        "colorscale": [
                          [
                            0,
                            "#0d0887"
                          ],
                          [
                            0.1111111111111111,
                            "#46039f"
                          ],
                          [
                            0.2222222222222222,
                            "#7201a8"
                          ],
                          [
                            0.3333333333333333,
                            "#9c179e"
                          ],
                          [
                            0.4444444444444444,
                            "#bd3786"
                          ],
                          [
                            0.5555555555555556,
                            "#d8576b"
                          ],
                          [
                            0.6666666666666666,
                            "#ed7953"
                          ],
                          [
                            0.7777777777777778,
                            "#fb9f3a"
                          ],
                          [
                            0.8888888888888888,
                            "#fdca26"
                          ],
                          [
                            1,
                            "#f0f921"
                          ]
                        ],
                        "type": "contour"
                      }
                    ],
                    "contourcarpet": [
                      {
                        "colorbar": {
                          "outlinewidth": 0,
                          "ticks": ""
                        },
                        "type": "contourcarpet"
                      }
                    ],
                    "heatmap": [
                      {
                        "colorbar": {
                          "outlinewidth": 0,
                          "ticks": ""
                        },
                        "colorscale": [
                          [
                            0,
                            "#0d0887"
                          ],
                          [
                            0.1111111111111111,
                            "#46039f"
                          ],
                          [
                            0.2222222222222222,
                            "#7201a8"
                          ],
                          [
                            0.3333333333333333,
                            "#9c179e"
                          ],
                          [
                            0.4444444444444444,
                            "#bd3786"
                          ],
                          [
                            0.5555555555555556,
                            "#d8576b"
                          ],
                          [
                            0.6666666666666666,
                            "#ed7953"
                          ],
                          [
                            0.7777777777777778,
                            "#fb9f3a"
                          ],
                          [
                            0.8888888888888888,
                            "#fdca26"
                          ],
                          [
                            1,
                            "#f0f921"
                          ]
                        ],
                        "type": "heatmap"
                      }
                    ],
                    "histogram": [
                      {
                        "marker": {
                          "pattern": {
                            "fillmode": "overlay",
                            "size": 10,
                            "solidity": 0.2
                          }
                        },
                        "type": "histogram"
                      }
                    ],
                    "histogram2d": [
                      {
                        "colorbar": {
                          "outlinewidth": 0,
                          "ticks": ""
                        },
                        "colorscale": [
                          [
                            0,
                            "#0d0887"
                          ],
                          [
                            0.1111111111111111,
                            "#46039f"
                          ],
                          [
                            0.2222222222222222,
                            "#7201a8"
                          ],
                          [
                            0.3333333333333333,
                            "#9c179e"
                          ],
                          [
                            0.4444444444444444,
                            "#bd3786"
                          ],
                          [
                            0.5555555555555556,
                            "#d8576b"
                          ],
                          [
                            0.6666666666666666,
                            "#ed7953"
                          ],
                          [
                            0.7777777777777778,
                            "#fb9f3a"
                          ],
                          [
                            0.8888888888888888,
                            "#fdca26"
                          ],
                          [
                            1,
                            "#f0f921"
                          ]
                        ],
                        "type": "histogram2d"
                      }
                    ],
                    "histogram2dcontour": [
                      {
                        "colorbar": {
                          "outlinewidth": 0,
                          "ticks": ""
                        },
                        "colorscale": [
                          [
                            0,
                            "#0d0887"
                          ],
                          [
                            0.1111111111111111,
                            "#46039f"
                          ],
                          [
                            0.2222222222222222,
                            "#7201a8"
                          ],
                          [
                            0.3333333333333333,
                            "#9c179e"
                          ],
                          [
                            0.4444444444444444,
                            "#bd3786"
                          ],
                          [
                            0.5555555555555556,
                            "#d8576b"
                          ],
                          [
                            0.6666666666666666,
                            "#ed7953"
                          ],
                          [
                            0.7777777777777778,
                            "#fb9f3a"
                          ],
                          [
                            0.8888888888888888,
                            "#fdca26"
                          ],
                          [
                            1,
                            "#f0f921"
                          ]
                        ],
                        "type": "histogram2dcontour"
                      }
                    ],
                    "mesh3d": [
                      {
                        "colorbar": {
                          "outlinewidth": 0,
                          "ticks": ""
                        },
                        "type": "mesh3d"
                      }
                    ],
                    "parcoords": [
                      {
                        "line": {
                          "colorbar": {
                            "outlinewidth": 0,
                            "ticks": ""
                          }
                        },
                        "type": "parcoords"
                      }
                    ],
                    "pie": [
                      {
                        "automargin": true,
                        "type": "pie"
                      }
                    ],
                    "scatter": [
                      {
                        "fillpattern": {
                          "fillmode": "overlay",
                          "size": 10,
                          "solidity": 0.2
                        },
                        "type": "scatter"
                      }
                    ],
                    "scatter3d": [
                      {
                        "line": {
                          "colorbar": {
                            "outlinewidth": 0,
                            "ticks": ""
                          }
                        },
                        "marker": {
                          "colorbar": {
                            "outlinewidth": 0,
                            "ticks": ""
                          }
                        },
                        "type": "scatter3d"
                      }
                    ],
                    "scattercarpet": [
                      {
                        "marker": {
                          "colorbar": {
                            "outlinewidth": 0,
                            "ticks": ""
                          }
                        },
                        "type": "scattercarpet"
                      }
                    ],
                    "scattergeo": [
                      {
                        "marker": {
                          "colorbar": {
                            "outlinewidth": 0,
                            "ticks": ""
                          }
                        },
                        "type": "scattergeo"
                      }
                    ],
                    "scattergl": [
                      {
                        "marker": {
                          "colorbar": {
                            "outlinewidth": 0,
                            "ticks": ""
                          }
                        },
                        "type": "scattergl"
                      }
                    ],
                    "scattermap": [
                      {
                        "marker": {
                          "colorbar": {
                            "outlinewidth": 0,
                            "ticks": ""
                          }
                        },
                        "type": "scattermap"
                      }
                    ],
                    "scattermapbox": [
                      {
                        "marker": {
                          "colorbar": {
                            "outlinewidth": 0,
                            "ticks": ""
                          }
                        },
                        "type": "scattermapbox"
                      }
                    ],
                    "scatterpolar": [
                      {
                        "marker": {
                          "colorbar": {
                            "outlinewidth": 0,
                            "ticks": ""
                          }
                        },
                        "type": "scatterpolar"
                      }
                    ],
                    "scatterpolargl": [
                      {
                        "marker": {
                          "colorbar": {
                            "outlinewidth": 0,
                            "ticks": ""
                          }
                        },
                        "type": "scatterpolargl"
                      }
                    ],
                    "scatterternary": [
                      {
                        "marker": {
                          "colorbar": {
                            "outlinewidth": 0,
                            "ticks": ""
                          }
                        },
                        "type": "scatterternary"
                      }
                    ],
                    "surface": [
                      {
                        "colorbar": {
                          "outlinewidth": 0,
                          "ticks": ""
                        },
                        "colorscale": [
                          [
                            0,
                            "#0d0887"
                          ],
                          [
                            0.1111111111111111,
                            "#46039f"
                          ],
                          [
                            0.2222222222222222,
                            "#7201a8"
                          ],
                          [
                            0.3333333333333333,
                            "#9c179e"
                          ],
                          [
                            0.4444444444444444,
                            "#bd3786"
                          ],
                          [
                            0.5555555555555556,
                            "#d8576b"
                          ],
                          [
                            0.6666666666666666,
                            "#ed7953"
                          ],
                          [
                            0.7777777777777778,
                            "#fb9f3a"
                          ],
                          [
                            0.8888888888888888,
                            "#fdca26"
                          ],
                          [
                            1,
                            "#f0f921"
                          ]
                        ],
                        "type": "surface"
                      }
                    ],
                    "table": [
                      {
                        "cells": {
                          "fill": {
                            "color": "#EBF0F8"
                          },
                          "line": {
                            "color": "white"
                          }
                        },
                        "header": {
                          "fill": {
                            "color": "#C8D4E3"
                          },
                          "line": {
                            "color": "white"
                          }
                        },
                        "type": "table"
                      }
                    ]
                  },
                  "layout": {
                    "annotationdefaults": {
                      "arrowcolor": "#2a3f5f",
                      "arrowhead": 0,
                      "arrowwidth": 1
                    },
                    "autotypenumbers": "strict",
                    "coloraxis": {
                      "colorbar": {
                        "outlinewidth": 0,
                        "ticks": ""
                      }
                    },
                    "colorscale": {
                      "diverging": [
                        [
                          0,
                          "#8e0152"
                        ],
                        [
                          0.1,
                          "#c51b7d"
                        ],
                        [
                          0.2,
                          "#de77ae"
                        ],
                        [
                          0.3,
                          "#f1b6da"
                        ],
                        [
                          0.4,
                          "#fde0ef"
                        ],
                        [
                          0.5,
                          "#f7f7f7"
                        ],
                        [
                          0.6,
                          "#e6f5d0"
                        ],
                        [
                          0.7,
                          "#b8e186"
                        ],
                        [
                          0.8,
                          "#7fbc41"
                        ],
                        [
                          0.9,
                          "#4d9221"
                        ],
                        [
                          1,
                          "#276419"
                        ]
                      ],
                      "sequential": [
                        [
                          0,
                          "#0d0887"
                        ],
                        [
                          0.1111111111111111,
                          "#46039f"
                        ],
                        [
                          0.2222222222222222,
                          "#7201a8"
                        ],
                        [
                          0.3333333333333333,
                          "#9c179e"
                        ],
                        [
                          0.4444444444444444,
                          "#bd3786"
                        ],
                        [
                          0.5555555555555556,
                          "#d8576b"
                        ],
                        [
                          0.6666666666666666,
                          "#ed7953"
                        ],
                        [
                          0.7777777777777778,
                          "#fb9f3a"
                        ],
                        [
                          0.8888888888888888,
                          "#fdca26"
                        ],
                        [
                          1,
                          "#f0f921"
                        ]
                      ],
                      "sequentialminus": [
                        [
                          0,
                          "#0d0887"
                        ],
                        [
                          0.1111111111111111,
                          "#46039f"
                        ],
                        [
                          0.2222222222222222,
                          "#7201a8"
                        ],
                        [
                          0.3333333333333333,
                          "#9c179e"
                        ],
                        [
                          0.4444444444444444,
                          "#bd3786"
                        ],
                        [
                          0.5555555555555556,
                          "#d8576b"
                        ],
                        [
                          0.6666666666666666,
                          "#ed7953"
                        ],
                        [
                          0.7777777777777778,
                          "#fb9f3a"
                        ],
                        [
                          0.8888888888888888,
                          "#fdca26"
                        ],
                        [
                          1,
                          "#f0f921"
                        ]
                      ]
                    },
                    "colorway": [
                      "#636efa",
                      "#EF553B",
                      "#00cc96",
                      "#ab63fa",
                      "#FFA15A",
                      "#19d3f3",
                      "#FF6692",
                      "#B6E880",
                      "#FF97FF",
                      "#FECB52"
                    ],
                    "font": {
                      "color": "#2a3f5f"
                    },
                    "geo": {
                      "bgcolor": "white",
                      "lakecolor": "white",
                      "landcolor": "#E5ECF6",
                      "showlakes": true,
                      "showland": true,
                      "subunitcolor": "white"
                    },
                    "hoverlabel": {
                      "align": "left"
                    },
                    "hovermode": "closest",
                    "mapbox": {
                      "style": "light"
                    },
                    "paper_bgcolor": "white",
                    "plot_bgcolor": "#E5ECF6",
                    "polar": {
                      "angularaxis": {
                        "gridcolor": "white",
                        "linecolor": "white",
                        "ticks": ""
                      },
                      "bgcolor": "#E5ECF6",
                      "radialaxis": {
                        "gridcolor": "white",
                        "linecolor": "white",
                        "ticks": ""
                      }
                    },
                    "scene": {
                      "xaxis": {
                        "backgroundcolor": "#E5ECF6",
                        "gridcolor": "white",
                        "gridwidth": 2,
                        "linecolor": "white",
                        "showbackground": true,
                        "ticks": "",
                        "zerolinecolor": "white"
                      },
                      "yaxis": {
                        "backgroundcolor": "#E5ECF6",
                        "gridcolor": "white",
                        "gridwidth": 2,
                        "linecolor": "white",
                        "showbackground": true,
                        "ticks": "",
                        "zerolinecolor": "white"
                      },
                      "zaxis": {
                        "backgroundcolor": "#E5ECF6",
                        "gridcolor": "white",
                        "gridwidth": 2,
                        "linecolor": "white",
                        "showbackground": true,
                        "ticks": "",
                        "zerolinecolor": "white"
                      }
                    },
                    "shapedefaults": {
                      "line": {
                        "color": "#2a3f5f"
                      }
                    },
                    "ternary": {
                      "aaxis": {
                        "gridcolor": "white",
                        "linecolor": "white",
                        "ticks": ""
                      },
                      "baxis": {
                        "gridcolor": "white",
                        "linecolor": "white",
                        "ticks": ""
                      },
                      "bgcolor": "#E5ECF6",
                      "caxis": {
                        "gridcolor": "white",
                        "linecolor": "white",
                        "ticks": ""
                      }
                    },
                    "title": {
                      "x": 0.05
                    },
                    "xaxis": {
                      "automargin": true,
                      "gridcolor": "white",
                      "linecolor": "white",
                      "ticks": "",
                      "title": {
                        "standoff": 15
                      },
                      "zerolinecolor": "white",
                      "zerolinewidth": 2
                    },
                    "yaxis": {
                      "automargin": true,
                      "gridcolor": "white",
                      "linecolor": "white",
                      "ticks": "",
                      "title": {
                        "standoff": 15
                      },
                      "zerolinecolor": "white",
                      "zerolinewidth": 2
                    }
                  }
                },
                "title": {
                  "text": "Class Counts"
                },
                "width": 600,
                "xaxis": {
                  "anchor": "y",
                  "domain": [
                    0,
                    1
                  ],
                  "title": {
                    "text": "분류"
                  }
                },
                "yaxis": {
                  "anchor": "x",
                  "domain": [
                    0,
                    1
                  ],
                  "title": {
                    "text": "클래스별 개수"
                  }
                }
              }
            }
          },
          "metadata": {},
          "output_type": "display_data"
        }
      ],
      "source": [
        "import plotly.express as px # 시각화\n",
        "class_counts = df.Class.value_counts().reset_index()\n",
        "class_counts.columns = ['Class', 'Count']\n",
        "fig = px.bar(class_counts, x='Class', y='Count', title='Class Counts', labels={'Class': '분류', 'Count': '개수'}, text='Count')\n",
        "fig.update_layout(yaxis=dict(title='클래스별 개수'), width=600, height=400)\n",
        "fig.show()"
      ]
    },
    {
      "cell_type": "code",
      "execution_count": 20,
      "metadata": {},
      "outputs": [],
      "source": [
        "import sys\n",
        "import os\n",
        "# 프로젝트 루트 디렉토리를 sys.path에 추가\n",
        "project_root_path = os.path.abspath(os.path.join(os.getcwd(), '..'))\n",
        "if project_root_path not in sys.path:\n",
        "    sys.path.append(project_root_path)\n",
        "# 커스텀 라이브러리 로드\n",
        "from lib.visualize import TSNEVisualizer"
      ]
    },
    {
      "cell_type": "markdown",
      "metadata": {},
      "source": [
        "데이터 2차원 평면 분포 시각화 (n=3000)"
      ]
    },
    {
      "cell_type": "code",
      "execution_count": 21,
      "metadata": {},
      "outputs": [
        {
          "data": {
            "application/vnd.plotly.v1+json": {
              "config": {
                "plotlyServerURL": "https://plot.ly"
              },
              "data": [
                {
                  "hovertemplate": "t-SNE 특성 1=%{x}<br>t-SNE 특성 2=%{y}<br>분류=%{marker.color}<extra></extra>",
                  "legendgroup": "",
                  "marker": {
                    "color": {
                      "bdata": "AAAAAAAAAAAAAAAAAAAAAAAAAAAAAAAAAAAAAAAAAAAAAAAAAAAAAAAAAAAAAAAAAAAAAAAAAAAAAAAAAAAAAAAAAAAAAAAAAAAAAAAAAAAAAAAAAAAAAAAAAAAAAAAAAAAAAAAAAAAAAAAAAAAAAAAAAAAAAAAAAAAAAAAAAAAAAAAAAAAAAAAAAAAAAAAAAAAAAAAAAAAAAAAAAAAAAAAAAAAAAAAAAAAAAAAAAAAAAAAAAAAAAAAAAAAAAAAAAAAAAAAAAAAAAAAAAAAAAAAAAAAAAAAAAAAAAAAAAAAAAAAAAAAAAAAAAAAAAAAAAAAAAAAAAAAAAAAAAAAAAAAAAAAAAAAAAAAAAAAAAAAAAAAAAAAAAAAAAAAAAAAAAAAAAAAAAAAAAAAAAAAAAAAAAAAAAAAAAAAAAAAAAAAAAAAAAAAAAAAAAAAAAAAAAAAAAAAAAAAAAAAAAAAAAAAAAAAAAAAAAAAAAAAAAAAAAAAAAAAAAAAAAAAAAAAAAAAAAAAAAAAAAAAAAAAAAAAAAAAAAAAAAAAAAAAAAAAAAAAAAAAAAAAAAAAAAAAAAAAAAAAAAAAAAAAAAAAAAAAAAAAAAAAAAAAAAAAAAAAAAAAAAAAAAAAAAAAAAAAAAAAAAAAAAAAAAAAAAAAAAAAAAAAAAAAAAAAAAAAAAAAAAAAAAAAAAAAAAAAAAAAAAAAAAAAAAAAAAAAAAAAAAAAAAAAAAAAAAAAAAAAAAAAAAAAAAAAAAAAAAAAAAAAAAAAAAAAAAAAAAAAAAAAAAAAAAAAAAAAAAAAAAAAAAAAAAAAAAAAAAAAAAAAAAAAAAAAAAAAAAAAAAAAAAAAAAAAAAAAAAAAAAAAAAAAAAAAAAAAAAAAAAAAAAAAAAAAAAAAAAAAAAAAAAAAAAAAAAAAAAAAAAAAAAAAAAAAAAAAAAAAAAAAAAAAAAAAAAAAAAAAAAAAAAAAAAAAAAAAAAAAAAAAAAAAAAAAAAAAAAAAAAAAAAAAAAAAAAAAAAAAAAAAAAAAAAAAAAAAAAAAAAAAAAAAAAAAAAAAAAAAAAAAAAAAAAAAAAAAAAAAAAAAAAAAAAAAAAAAAAAAAAAAAAAAAAAAAAAAAAAAAAAAAAAAAAAAAAAAAAAAAAAAAAAAAAAAAAAAAAAAAAAAAAAAAAAAAAAAAAAAAAAAAAAAAAAAAAAAAAAAAAAAAAAAAAAAAAAAAAAAAAAAAAAAAAAAAAAAAAAAAAAAAAAAAAAAAAAAAAAAAAAAAAAAAAAAAAAAAAAAAAAAAAAAAAAAAAAAAAAAAAAAAAAAAAAAAAAAAAAAAAAAAAAAAAAAAAAAAAAAAAAAAAAAAAAAAAAAAAAAAAAAAAAAAAAAAAAAAAAAAAAAAAAAAAAAAAAAAAAAAAAAAAAAAAAAAAAAAAAAAAAAAAAAAAAAAAAAAAAAAAAAAAAAAAAAAAAAAAAAAAAAAAAAAAAAAAAAAAAAAAAAAAAAAAAAAAAAAAAAAAAAAAAAAAAAAAAAAAAAAAAAAAAAAAAAAAAAAAAAAAAAAAAAAAAAAAAAAAAAAAAAAAAAAAAAAAAAAAAAAAAAAAAAAAAAAAAAAAAAAAAAAAAAAAAAAAAAAAAAAAAAAAAAAAAAAAAAAAAAAAAAAAAAAAAAAAAAAAAAAAAAAAAAAAAAAAAAAAAAAAAAAAAAAAAAAAAAAAAAAAAAAAAAAAAAAAAAAAAAAAAAAAAAAAAAAAAAAAAAAAAAAAAAAAAAAAAAAAAAAAAAAAAAAAAAAAAAAAAAAAAAAAAAAAAAAAAAAAAAAAAAAAAAAAAAAAAAAAAAAAAAAAAAAAAAAAAAAAAAAAAAAAAAAAAAAAAAAAAAAAAAAAAAAAAAAAAAAAAAAAAAAAAAAAAAAAAAAAAAAAAAAAAAAAAAAAAAAAAAAAAAAAAAAAAAAAAAAAAAAAAAAAAAAAAAAAAAAAAAAAAAAAAAAAAAAAAAAAAAAAAAAAAAAAAAAAAAAAAAAAAAAAAAAAAAAAAAAAAAAAAAAAAAAAAAAAAAAAAAAAAAAAAAAAAAAAAAAAAAAAAAAAAAAAAAAAAAAAAAAAAAAAAAAAAAAAAAAAAAAAAAAAAAAAAAAAAAAAAAAAAAAAAAAAAAAAAAAAAAAAAAAAAAAAAAAAAAAAAAAAAAAAAAAAAAAAAAAAAAAAAAAAAAAAAAAAAAAAAAAAAAAAAAAAAAAAAAAAAAAAAAAAAAAAAAAAAAAAAAAAAAAAAAAAAAAAAAAAAAAAAAAAAAAAAAAAAAAAAAAAAAAAAAAAAAAAAAAAAAAAAAAAAAAAAAAAAAAAAAAAAAAAAAAAAAAAAAAAAAAAAAAAAAAAAAAAAAAAAAAAAAAAAAAAAAAAAAAAAAAAAAAAAAAAAAAAAAAAAAAAAAAAAAAAAAAAAAAAAAAAAAAAAAAAAAAAAAAAAAAAAAAAAAAAAAAAAAAAAAAAAAAAAAAAAAAAAAAAAAAAAAAAAAAAAAAAAAAAAAAAAAAAAAAAAAAAAAAAAAAAAAAAAAAAAAAAAAAAAAAAAAAAAAAAAAAAAAAAAAAAAAAAAAAAAABAAAAAAAAAAAAAAAAAAAAAAAAAAAAAAAAAAAAAAAAAAAAAAAAAAAAAAAAAAAAAAAAAAAAAAAAAAAAAAAAAAAAAAAAAAAAAAAAAAAAAAAAAAAAAAAAAAAAAAAAAAAAAAAAAAAAAAAAAAAAAAAAAAAAAAAAAAAAAAAAAAAAAAAAAAAAAAAAAAAAAAAAAAAAAAAAAAAAAAAAAAAAAAAAAAAAAAAAAAAAAAAAAAAAAAAAAAAAAAAAAAAAAAAAAAAAAAAAAAAAAAAAAAAAAAAAAAAAAAAAAAAAAAAAAAAAAAAAAAAAAAAAAAAAAAAAAAAAAAAAAAAAAAAAAAAAAAAAAAAAAAAAAAAAAAAAAAAAAAAAAAAAAAAAAAAAAAAAAAAAAAAAAAAAAAAAAAAAAAAAAAAAAAAAAAAAAAAAAAAAAAAAAAAAAAAAAAAAAAAAAAAAAAAAAAAAAAAAAAAAAAAAAAAAAAAAAAAAAAAAAAAAAAAAAAAAAAAAAAAAAAAAAAAAAAAAAAAAAAAAAAAAAAAAAAAAAAAAAAAAAAAAAAAAAAAAAAAAAAAAAAAAAAAAAAAAAAAAAAAAAAAAAAAAAAAAAAAAAAAAAAAAAAAAAAAAAAAAAAAAAAAAAAAAAAAAAAAAAAAAAAAAAAAAAAAAAAAAAAAAAAAAAAAAAAAAAAAAAAAAAAABAAAAAAAAAAAAAAAAAAAAAAAAAAAAAAAAAAAAAAAAAAAAAAAAAAAAAAAAAAAAAAAAAAAAAAAAAAAAAAAAAAAAAAAAAAAAAAAAAAAAAAAAAAAAAAAAAAAAAAAAAAAAAAAAAAAAAAAAAAAAAAAAAAAAAAAAAAAAAAAAAAAAAAAAAAAAAAAAAAAAAAAAAAAAAAAAAAAAAAAAAAAAAAAAAAAAAAAAAAAAAAAAAAAAAAAAAAAAAAAAAAAAAAAAAAAAAAAAAAAAAAAAAAAAAAAAAAAAAAAAAAAAAAAAAAAAAAAAAAAAAAAAAAAAAAAAAAAAAAAAAAAAAAAAAAAAAAAAAAAAAAAAAAAAAAAAAAAAAAAAAAAAAAAAAAAAAAAAAAAAAAAAAAAAAAAAAAAAAAAAAAAAAAAAAAEAAAAAAAAAAAAAAAAAAAAAAAAAAAAAAAAAAAAAAAAAAAAAAAAAAAAAAAAAAAAAAAAAAAAAAAAAAAAAAAAAAAAAAAAAAAAAAAAAAAAAAAAAAAAAAAAAAAAAAAAAAAAAAAAAAAAAAAAAAAAAAAAAAAAAAAAAAAAAAAAAAAAAAAAAAAAAAAAAAAAAAAAAAAAAAAAAAAAAAAAAAAAAAAAAAAAAAAAAAAAAAAAAAAAAAAAAAAAAAAAAAAAAAAAAAAAAAAAAAAAAAAAAAAAAAAAAAAAAAAAAAAAAAAAAAAAAAAAAAAAAAAAAAAAAAAAAAAAAAAAAAAAAAAAA",
                      "dtype": "i1"
                    },
                    "coloraxis": "coloraxis",
                    "size": 12,
                    "symbol": "circle"
                  },
                  "mode": "markers",
                  "name": "",
                  "showlegend": false,
                  "type": "scattergl",
                  "x": {
                    "bdata": "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",
                    "dtype": "f4"
                  },
                  "xaxis": "x",
                  "y": {
                    "bdata": "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",
                    "dtype": "f4"
                  },
                  "yaxis": "y"
                }
              ],
              "layout": {
                "coloraxis": {
                  "colorbar": {
                    "title": {
                      "text": "분류"
                    }
                  },
                  "colorscale": [
                    [
                      0,
                      "rgb(229, 134, 6)"
                    ],
                    [
                      0.1,
                      "rgb(93, 105, 177)"
                    ],
                    [
                      0.2,
                      "rgb(82, 188, 163)"
                    ],
                    [
                      0.3,
                      "rgb(153, 201, 69)"
                    ],
                    [
                      0.4,
                      "rgb(204, 97, 176)"
                    ],
                    [
                      0.5,
                      "rgb(36, 121, 108)"
                    ],
                    [
                      0.6,
                      "rgb(218, 165, 27)"
                    ],
                    [
                      0.7,
                      "rgb(47, 138, 196)"
                    ],
                    [
                      0.8,
                      "rgb(118, 78, 159)"
                    ],
                    [
                      0.9,
                      "rgb(237, 100, 90)"
                    ],
                    [
                      1,
                      "rgb(165, 170, 153)"
                    ]
                  ]
                },
                "height": 400,
                "legend": {
                  "title": {
                    "text": "Class"
                  },
                  "tracegroupgap": 0,
                  "x": 0.01,
                  "xanchor": "left",
                  "y": 0.99,
                  "yanchor": "top"
                },
                "template": {
                  "data": {
                    "bar": [
                      {
                        "error_x": {
                          "color": "#2a3f5f"
                        },
                        "error_y": {
                          "color": "#2a3f5f"
                        },
                        "marker": {
                          "line": {
                            "color": "#E5ECF6",
                            "width": 0.5
                          },
                          "pattern": {
                            "fillmode": "overlay",
                            "size": 10,
                            "solidity": 0.2
                          }
                        },
                        "type": "bar"
                      }
                    ],
                    "barpolar": [
                      {
                        "marker": {
                          "line": {
                            "color": "#E5ECF6",
                            "width": 0.5
                          },
                          "pattern": {
                            "fillmode": "overlay",
                            "size": 10,
                            "solidity": 0.2
                          }
                        },
                        "type": "barpolar"
                      }
                    ],
                    "carpet": [
                      {
                        "aaxis": {
                          "endlinecolor": "#2a3f5f",
                          "gridcolor": "white",
                          "linecolor": "white",
                          "minorgridcolor": "white",
                          "startlinecolor": "#2a3f5f"
                        },
                        "baxis": {
                          "endlinecolor": "#2a3f5f",
                          "gridcolor": "white",
                          "linecolor": "white",
                          "minorgridcolor": "white",
                          "startlinecolor": "#2a3f5f"
                        },
                        "type": "carpet"
                      }
                    ],
                    "choropleth": [
                      {
                        "colorbar": {
                          "outlinewidth": 0,
                          "ticks": ""
                        },
                        "type": "choropleth"
                      }
                    ],
                    "contour": [
                      {
                        "colorbar": {
                          "outlinewidth": 0,
                          "ticks": ""
                        },
                        "colorscale": [
                          [
                            0,
                            "#0d0887"
                          ],
                          [
                            0.1111111111111111,
                            "#46039f"
                          ],
                          [
                            0.2222222222222222,
                            "#7201a8"
                          ],
                          [
                            0.3333333333333333,
                            "#9c179e"
                          ],
                          [
                            0.4444444444444444,
                            "#bd3786"
                          ],
                          [
                            0.5555555555555556,
                            "#d8576b"
                          ],
                          [
                            0.6666666666666666,
                            "#ed7953"
                          ],
                          [
                            0.7777777777777778,
                            "#fb9f3a"
                          ],
                          [
                            0.8888888888888888,
                            "#fdca26"
                          ],
                          [
                            1,
                            "#f0f921"
                          ]
                        ],
                        "type": "contour"
                      }
                    ],
                    "contourcarpet": [
                      {
                        "colorbar": {
                          "outlinewidth": 0,
                          "ticks": ""
                        },
                        "type": "contourcarpet"
                      }
                    ],
                    "heatmap": [
                      {
                        "colorbar": {
                          "outlinewidth": 0,
                          "ticks": ""
                        },
                        "colorscale": [
                          [
                            0,
                            "#0d0887"
                          ],
                          [
                            0.1111111111111111,
                            "#46039f"
                          ],
                          [
                            0.2222222222222222,
                            "#7201a8"
                          ],
                          [
                            0.3333333333333333,
                            "#9c179e"
                          ],
                          [
                            0.4444444444444444,
                            "#bd3786"
                          ],
                          [
                            0.5555555555555556,
                            "#d8576b"
                          ],
                          [
                            0.6666666666666666,
                            "#ed7953"
                          ],
                          [
                            0.7777777777777778,
                            "#fb9f3a"
                          ],
                          [
                            0.8888888888888888,
                            "#fdca26"
                          ],
                          [
                            1,
                            "#f0f921"
                          ]
                        ],
                        "type": "heatmap"
                      }
                    ],
                    "histogram": [
                      {
                        "marker": {
                          "pattern": {
                            "fillmode": "overlay",
                            "size": 10,
                            "solidity": 0.2
                          }
                        },
                        "type": "histogram"
                      }
                    ],
                    "histogram2d": [
                      {
                        "colorbar": {
                          "outlinewidth": 0,
                          "ticks": ""
                        },
                        "colorscale": [
                          [
                            0,
                            "#0d0887"
                          ],
                          [
                            0.1111111111111111,
                            "#46039f"
                          ],
                          [
                            0.2222222222222222,
                            "#7201a8"
                          ],
                          [
                            0.3333333333333333,
                            "#9c179e"
                          ],
                          [
                            0.4444444444444444,
                            "#bd3786"
                          ],
                          [
                            0.5555555555555556,
                            "#d8576b"
                          ],
                          [
                            0.6666666666666666,
                            "#ed7953"
                          ],
                          [
                            0.7777777777777778,
                            "#fb9f3a"
                          ],
                          [
                            0.8888888888888888,
                            "#fdca26"
                          ],
                          [
                            1,
                            "#f0f921"
                          ]
                        ],
                        "type": "histogram2d"
                      }
                    ],
                    "histogram2dcontour": [
                      {
                        "colorbar": {
                          "outlinewidth": 0,
                          "ticks": ""
                        },
                        "colorscale": [
                          [
                            0,
                            "#0d0887"
                          ],
                          [
                            0.1111111111111111,
                            "#46039f"
                          ],
                          [
                            0.2222222222222222,
                            "#7201a8"
                          ],
                          [
                            0.3333333333333333,
                            "#9c179e"
                          ],
                          [
                            0.4444444444444444,
                            "#bd3786"
                          ],
                          [
                            0.5555555555555556,
                            "#d8576b"
                          ],
                          [
                            0.6666666666666666,
                            "#ed7953"
                          ],
                          [
                            0.7777777777777778,
                            "#fb9f3a"
                          ],
                          [
                            0.8888888888888888,
                            "#fdca26"
                          ],
                          [
                            1,
                            "#f0f921"
                          ]
                        ],
                        "type": "histogram2dcontour"
                      }
                    ],
                    "mesh3d": [
                      {
                        "colorbar": {
                          "outlinewidth": 0,
                          "ticks": ""
                        },
                        "type": "mesh3d"
                      }
                    ],
                    "parcoords": [
                      {
                        "line": {
                          "colorbar": {
                            "outlinewidth": 0,
                            "ticks": ""
                          }
                        },
                        "type": "parcoords"
                      }
                    ],
                    "pie": [
                      {
                        "automargin": true,
                        "type": "pie"
                      }
                    ],
                    "scatter": [
                      {
                        "fillpattern": {
                          "fillmode": "overlay",
                          "size": 10,
                          "solidity": 0.2
                        },
                        "type": "scatter"
                      }
                    ],
                    "scatter3d": [
                      {
                        "line": {
                          "colorbar": {
                            "outlinewidth": 0,
                            "ticks": ""
                          }
                        },
                        "marker": {
                          "colorbar": {
                            "outlinewidth": 0,
                            "ticks": ""
                          }
                        },
                        "type": "scatter3d"
                      }
                    ],
                    "scattercarpet": [
                      {
                        "marker": {
                          "colorbar": {
                            "outlinewidth": 0,
                            "ticks": ""
                          }
                        },
                        "type": "scattercarpet"
                      }
                    ],
                    "scattergeo": [
                      {
                        "marker": {
                          "colorbar": {
                            "outlinewidth": 0,
                            "ticks": ""
                          }
                        },
                        "type": "scattergeo"
                      }
                    ],
                    "scattergl": [
                      {
                        "marker": {
                          "colorbar": {
                            "outlinewidth": 0,
                            "ticks": ""
                          }
                        },
                        "type": "scattergl"
                      }
                    ],
                    "scattermap": [
                      {
                        "marker": {
                          "colorbar": {
                            "outlinewidth": 0,
                            "ticks": ""
                          }
                        },
                        "type": "scattermap"
                      }
                    ],
                    "scattermapbox": [
                      {
                        "marker": {
                          "colorbar": {
                            "outlinewidth": 0,
                            "ticks": ""
                          }
                        },
                        "type": "scattermapbox"
                      }
                    ],
                    "scatterpolar": [
                      {
                        "marker": {
                          "colorbar": {
                            "outlinewidth": 0,
                            "ticks": ""
                          }
                        },
                        "type": "scatterpolar"
                      }
                    ],
                    "scatterpolargl": [
                      {
                        "marker": {
                          "colorbar": {
                            "outlinewidth": 0,
                            "ticks": ""
                          }
                        },
                        "type": "scatterpolargl"
                      }
                    ],
                    "scatterternary": [
                      {
                        "marker": {
                          "colorbar": {
                            "outlinewidth": 0,
                            "ticks": ""
                          }
                        },
                        "type": "scatterternary"
                      }
                    ],
                    "surface": [
                      {
                        "colorbar": {
                          "outlinewidth": 0,
                          "ticks": ""
                        },
                        "colorscale": [
                          [
                            0,
                            "#0d0887"
                          ],
                          [
                            0.1111111111111111,
                            "#46039f"
                          ],
                          [
                            0.2222222222222222,
                            "#7201a8"
                          ],
                          [
                            0.3333333333333333,
                            "#9c179e"
                          ],
                          [
                            0.4444444444444444,
                            "#bd3786"
                          ],
                          [
                            0.5555555555555556,
                            "#d8576b"
                          ],
                          [
                            0.6666666666666666,
                            "#ed7953"
                          ],
                          [
                            0.7777777777777778,
                            "#fb9f3a"
                          ],
                          [
                            0.8888888888888888,
                            "#fdca26"
                          ],
                          [
                            1,
                            "#f0f921"
                          ]
                        ],
                        "type": "surface"
                      }
                    ],
                    "table": [
                      {
                        "cells": {
                          "fill": {
                            "color": "#EBF0F8"
                          },
                          "line": {
                            "color": "white"
                          }
                        },
                        "header": {
                          "fill": {
                            "color": "#C8D4E3"
                          },
                          "line": {
                            "color": "white"
                          }
                        },
                        "type": "table"
                      }
                    ]
                  },
                  "layout": {
                    "annotationdefaults": {
                      "arrowcolor": "#2a3f5f",
                      "arrowhead": 0,
                      "arrowwidth": 1
                    },
                    "autotypenumbers": "strict",
                    "coloraxis": {
                      "colorbar": {
                        "outlinewidth": 0,
                        "ticks": ""
                      }
                    },
                    "colorscale": {
                      "diverging": [
                        [
                          0,
                          "#8e0152"
                        ],
                        [
                          0.1,
                          "#c51b7d"
                        ],
                        [
                          0.2,
                          "#de77ae"
                        ],
                        [
                          0.3,
                          "#f1b6da"
                        ],
                        [
                          0.4,
                          "#fde0ef"
                        ],
                        [
                          0.5,
                          "#f7f7f7"
                        ],
                        [
                          0.6,
                          "#e6f5d0"
                        ],
                        [
                          0.7,
                          "#b8e186"
                        ],
                        [
                          0.8,
                          "#7fbc41"
                        ],
                        [
                          0.9,
                          "#4d9221"
                        ],
                        [
                          1,
                          "#276419"
                        ]
                      ],
                      "sequential": [
                        [
                          0,
                          "#0d0887"
                        ],
                        [
                          0.1111111111111111,
                          "#46039f"
                        ],
                        [
                          0.2222222222222222,
                          "#7201a8"
                        ],
                        [
                          0.3333333333333333,
                          "#9c179e"
                        ],
                        [
                          0.4444444444444444,
                          "#bd3786"
                        ],
                        [
                          0.5555555555555556,
                          "#d8576b"
                        ],
                        [
                          0.6666666666666666,
                          "#ed7953"
                        ],
                        [
                          0.7777777777777778,
                          "#fb9f3a"
                        ],
                        [
                          0.8888888888888888,
                          "#fdca26"
                        ],
                        [
                          1,
                          "#f0f921"
                        ]
                      ],
                      "sequentialminus": [
                        [
                          0,
                          "#0d0887"
                        ],
                        [
                          0.1111111111111111,
                          "#46039f"
                        ],
                        [
                          0.2222222222222222,
                          "#7201a8"
                        ],
                        [
                          0.3333333333333333,
                          "#9c179e"
                        ],
                        [
                          0.4444444444444444,
                          "#bd3786"
                        ],
                        [
                          0.5555555555555556,
                          "#d8576b"
                        ],
                        [
                          0.6666666666666666,
                          "#ed7953"
                        ],
                        [
                          0.7777777777777778,
                          "#fb9f3a"
                        ],
                        [
                          0.8888888888888888,
                          "#fdca26"
                        ],
                        [
                          1,
                          "#f0f921"
                        ]
                      ]
                    },
                    "colorway": [
                      "#636efa",
                      "#EF553B",
                      "#00cc96",
                      "#ab63fa",
                      "#FFA15A",
                      "#19d3f3",
                      "#FF6692",
                      "#B6E880",
                      "#FF97FF",
                      "#FECB52"
                    ],
                    "font": {
                      "color": "#2a3f5f"
                    },
                    "geo": {
                      "bgcolor": "white",
                      "lakecolor": "white",
                      "landcolor": "#E5ECF6",
                      "showlakes": true,
                      "showland": true,
                      "subunitcolor": "white"
                    },
                    "hoverlabel": {
                      "align": "left"
                    },
                    "hovermode": "closest",
                    "mapbox": {
                      "style": "light"
                    },
                    "paper_bgcolor": "white",
                    "plot_bgcolor": "#E5ECF6",
                    "polar": {
                      "angularaxis": {
                        "gridcolor": "white",
                        "linecolor": "white",
                        "ticks": ""
                      },
                      "bgcolor": "#E5ECF6",
                      "radialaxis": {
                        "gridcolor": "white",
                        "linecolor": "white",
                        "ticks": ""
                      }
                    },
                    "scene": {
                      "xaxis": {
                        "backgroundcolor": "#E5ECF6",
                        "gridcolor": "white",
                        "gridwidth": 2,
                        "linecolor": "white",
                        "showbackground": true,
                        "ticks": "",
                        "zerolinecolor": "white"
                      },
                      "yaxis": {
                        "backgroundcolor": "#E5ECF6",
                        "gridcolor": "white",
                        "gridwidth": 2,
                        "linecolor": "white",
                        "showbackground": true,
                        "ticks": "",
                        "zerolinecolor": "white"
                      },
                      "zaxis": {
                        "backgroundcolor": "#E5ECF6",
                        "gridcolor": "white",
                        "gridwidth": 2,
                        "linecolor": "white",
                        "showbackground": true,
                        "ticks": "",
                        "zerolinecolor": "white"
                      }
                    },
                    "shapedefaults": {
                      "line": {
                        "color": "#2a3f5f"
                      }
                    },
                    "ternary": {
                      "aaxis": {
                        "gridcolor": "white",
                        "linecolor": "white",
                        "ticks": ""
                      },
                      "baxis": {
                        "gridcolor": "white",
                        "linecolor": "white",
                        "ticks": ""
                      },
                      "bgcolor": "#E5ECF6",
                      "caxis": {
                        "gridcolor": "white",
                        "linecolor": "white",
                        "ticks": ""
                      }
                    },
                    "title": {
                      "x": 0.05
                    },
                    "xaxis": {
                      "automargin": true,
                      "gridcolor": "white",
                      "linecolor": "white",
                      "ticks": "",
                      "title": {
                        "standoff": 15
                      },
                      "zerolinecolor": "white",
                      "zerolinewidth": 2
                    },
                    "yaxis": {
                      "automargin": true,
                      "gridcolor": "white",
                      "linecolor": "white",
                      "ticks": "",
                      "title": {
                        "standoff": 15
                      },
                      "zerolinecolor": "white",
                      "zerolinewidth": 2
                    }
                  }
                },
                "title": {
                  "text": "t-SNE 결과"
                },
                "width": 600,
                "xaxis": {
                  "anchor": "y",
                  "domain": [
                    0,
                    1
                  ],
                  "title": {
                    "text": "t-SNE 특성 1"
                  }
                },
                "yaxis": {
                  "anchor": "x",
                  "domain": [
                    0,
                    1
                  ],
                  "title": {
                    "text": "t-SNE 특성 2"
                  }
                }
              }
            }
          },
          "metadata": {},
          "output_type": "display_data"
        }
      ],
      "source": [
        "# 데이터를 x와 y로 분할\n",
        "X = df.drop('Class', axis=1)\n",
        "y = df['Class']\n",
        "# 불균형 데이터 랜덤 샘플링\n",
        "X_random_sampled = X.sample(3000)\n",
        "y_random_sampled = y.iloc[X_random_sampled.index]\n",
        "# 시각화\n",
        "TSNEVisualizer.visualize(X_random_sampled, y_random_sampled)"
      ]
    },
    {
      "cell_type": "markdown",
      "metadata": {},
      "source": [
        "언더샘플링 예시"
      ]
    },
    {
      "cell_type": "code",
      "execution_count": 23,
      "metadata": {},
      "outputs": [
        {
          "name": "stdout",
          "output_type": "stream",
          "text": [
            "--- 랜덤 언더샘플링 적용 전 ---\n",
            "Resampled X_train shape: (284807, 30)\n",
            "Resampled y_train value counts:\n",
            " Class\n",
            "0    284315\n",
            "1       492\n",
            "Name: count, dtype: int64\n",
            "--- 랜덤 언더샘플링 적용 후 ---\n",
            "Resampled X_train shape: (984, 30)\n",
            "Resampled y_train value counts:\n",
            " Class\n",
            "0    492\n",
            "1    492\n",
            "Name: count, dtype: int64\n"
          ]
        }
      ],
      "source": [
        "from imblearn.under_sampling import RandomUnderSampler\n",
        "rus = RandomUnderSampler(random_state=42)\n",
        "X_resampled, y_resampled = rus.fit_resample(X, y)\n",
        "print(\"--- 랜덤 언더샘플링 적용 전 ---\")\n",
        "print(\"Resampled X_train shape:\", X.shape)\n",
        "print(\"Resampled y_train value counts:\\n\", pd.Series(y).value_counts())\n",
        "\n",
        "print(\"--- 랜덤 언더샘플링 적용 후 ---\")\n",
        "print(\"Resampled X_train shape:\", X_resampled.shape)\n",
        "print(\"Resampled y_train value counts:\\n\", pd.Series(y_resampled).value_counts())"
      ]
    },
    {
      "cell_type": "markdown",
      "metadata": {},
      "source": [
        "전용 커스텀 클래스로 진행"
      ]
    },
    {
      "cell_type": "code",
      "execution_count": 24,
      "metadata": {},
      "outputs": [
        {
          "name": "stdout",
          "output_type": "stream",
          "text": [
            "Resampled y_train value counts:\n",
            " Class\n",
            "0    492\n",
            "1    492\n",
            "Name: count, dtype: int64\n"
          ]
        }
      ],
      "source": [
        "from lib.preperate import ImbalancedDataAnalyzer\n",
        "# Down sampling : 적은 쪽 클래스는 그대로, 많은 쪽 클래스는 랜덤 샘플링(적은쪽 클래수 수 만큼)\n",
        "analyzer = ImbalancedDataAnalyzer(X, y)\n",
        "X_rus, y_rus = analyzer.random_undersample()\n",
        "\n",
        "print(\"Resampled y_train value counts:\\n\", pd.Series(y_rus).value_counts())"
      ]
    },
    {
      "cell_type": "code",
      "execution_count": 25,
      "metadata": {},
      "outputs": [
        {
          "name": "stdout",
          "output_type": "stream",
          "text": [
            "--- SMOTE 적용 후 ---\n",
            "Resampled X_train shape: (568630, 30)\n",
            "Resampled y_train value counts:\n",
            " Class\n",
            "0    284315\n",
            "1    284315\n",
            "Name: count, dtype: int64\n"
          ]
        }
      ],
      "source": [
        "X_smote, y_smote = analyzer.smote()\n",
        "print(\"--- SMOTE 적용 후 ---\")\n",
        "print(\"Resampled X_train shape:\", X_smote.shape)\n",
        "print(\"Resampled y_train value counts:\\n\", pd.Series(y_smote).value_counts())"
      ]
    },
    {
      "cell_type": "markdown",
      "metadata": {
        "id": "mQPvcs7W6We2"
      },
      "source": [
        "SMOTE 적용 후, 소수 클래스(1)의 데이터 수가 다수 클래스(0)와 동일하게 증가한 것을 볼 수 있습니다.\n",
        "\n",
        "#### ✏️ 연습문제 5\n",
        "\n",
        "SMOTE가 적용된 데이터의 클래스 비율을 `value_counts(normalize=True)`를 사용하여 백분율로 확인해보세요."
      ]
    },
    {
      "cell_type": "code",
      "execution_count": 26,
      "metadata": {
        "id": "6JaVyFCL6We2"
      },
      "outputs": [
        {
          "name": "stdout",
          "output_type": "stream",
          "text": [
            "Class\n",
            "0    0.5\n",
            "1    0.5\n",
            "Name: proportion, dtype: float64\n"
          ]
        }
      ],
      "source": [
        "# 연습문제 5 코드\n",
        "X_train_resampled, y_train_resampled = analyzer.smote()\n",
        "print(pd.Series(y_train_resampled).value_counts(normalize=True))"
      ]
    },
    {
      "cell_type": "markdown",
      "metadata": {},
      "source": [
        "#### ✏️ 연습문제 6\n",
        "\n",
        "`ImbalancedDataAnalyzer` 클래스의 다른 오버샘플링 기법들(ADASYN, SMOTE+Tomek, SMOTE+ENN)을 사용하여 데이터를 샘플링한 후, 각각의 결과에서 3000개씩 랜덤하게 선택하여 t-SNE를 사용한 2차원 시각화를 수행해보세요.\n",
        "\n",
        "1. ADASYN, SMOTE+Tomek, SMOTE+ENN 각각으로 오버샘플링 수행\n",
        "2. 각 샘플링 결과에서 3000개씩 랜덤 선택 (random_state=42)\n",
        "3. t-SNE로 2차원 시각화\n",
        "4. 각 기법별로 클래스 분포와 데이터 분포를 시각적으로 비교\n",
        "\n",
        "힌트: \n",
        "- `lib.visualize.TSNEVisualizer` 사용\n",
        "- 3000개 샘플링을 위해 `sklearn.utils.resample` 활용\n"
      ]
    },
    {
      "cell_type": "code",
      "execution_count": null,
      "metadata": {},
      "outputs": [
        {
          "name": "stdout",
          "output_type": "stream",
          "text": [
            "ADASYN 샘플링 후 데이터 크기: (568613, 30)\n",
            "ADASYN 클래스 분포:\n",
            "Class\n",
            "0    284315\n",
            "1    284298\n",
            "Name: count, dtype: int64\n"
          ]
        }
      ],
      "source": [
        "# 연습문제 6 정답\n",
        "from lib.preperate import ImbalancedDataAnalyzer\n",
        "from lib.visualize import TSNEVisualizer\n",
        "from sklearn.utils import resample\n",
        "\n",
        "analyzer = ImbalancedDataAnalyzer(X, y)\n",
        "\n",
        "X_adasyn, y_adasyn = analyzer.adasyn()\n",
        "print(f\"ADASYN 샘플링 후 데이터 크기: {X_adasyn.shape}\")\n",
        "print(f\"ADASYN 클래스 분포:\\n{pd.Series(y_adasyn).value_counts()}\")\n",
        "\n",
        "X_smote_tomek, y_smote_tomek = analyzer.smote_tomek()\n",
        "print(f\"\\nSMOTE+Tomek 샘플링 후 데이터 크기: {X_smote_tomek.shape}\")\n",
        "print(f\"SMOTE+Tomek 클래스 분포:\\n{pd.Series(y_smote_tomek).value_counts()}\")\n",
        "\n",
        "X_smote_enn, y_smote_enn = analyzer.smote_enn()\n",
        "print(f\"\\nSMOTE+ENN 샘플링 후 데이터 크기: {X_smote_enn.shape}\")\n",
        "print(f\"SMOTE+ENN 클래스 분포:\\n{pd.Series(y_smote_enn).value_counts()}\")\n",
        "\n",
        "df_adasyn = pd.DataFrame(X_adasyn, columns=X.columns)\n",
        "df_adasyn['target'] = y_adasyn\n",
        "X_adasyn_sample, y_adasyn_sample = resample(df_adasyn.drop('target', axis=1), \n",
        "                                           df_adasyn['target'], \n",
        "                                           n_samples=3000, \n",
        "                                           random_state=42)\n",
        "\n",
        "df_smote_tomek = pd.DataFrame(X_smote_tomek, columns=X.columns)\n",
        "df_smote_tomek['target'] = y_smote_tomek\n",
        "X_smote_tomek_sample, y_smote_tomek_sample = resample(df_smote_tomek.drop('target', axis=1), \n",
        "                                                     df_smote_tomek['target'], \n",
        "                                                     n_samples=3000, \n",
        "                                                     random_state=42)\n",
        "\n",
        "df_smote_enn = pd.DataFrame(X_smote_enn, columns=X.columns)\n",
        "df_smote_enn['target'] = y_smote_enn\n",
        "X_smote_enn_sample, y_smote_enn_sample = resample(df_smote_enn.drop('target', axis=1), \n",
        "                                                 df_smote_enn['target'], \n",
        "                                                 n_samples=3000, \n",
        "                                                 random_state=42)\n",
        "\n",
        "print(f\"\\n3000개 샘플링 후:\")\n",
        "print(f\"ADASYN 클래스 분포: {pd.Series(y_adasyn_sample).value_counts()}\")\n",
        "print(f\"SMOTE+Tomek 클래스 분포: {pd.Series(y_smote_tomek_sample).value_counts()}\")\n",
        "print(f\"SMOTE+ENN 클래스 분포: {pd.Series(y_smote_enn_sample).value_counts()}\")\n",
        "\n",
        "TSNEVisualizer.visualize(X_adasyn_sample, y_adasyn_sample, 'ADASYN t-SNE 시각화')\n",
        "TSNEVisualizer.visualize(X_smote_tomek_sample, y_smote_tomek_sample, 'SMOTE+Tomek t-SNE 시각화')\n",
        "TSNEVisualizer.visualize(X_smote_enn_sample, y_smote_enn_sample, 'SMOTE+ENN t-SNE 시각화')"
      ]
    },
    {
      "cell_type": "markdown",
      "metadata": {
        "id": "Hk1zW_Fk6We2"
      },
      "source": [
        "---\n",
        "\n",
        "### 6. 전처리 파이프라인 구축 (Building a Preprocessing Pipeline)\n",
        "\n",
        "지금까지 배운 결측치 처리, 인코딩, 스케일링을 각 단계별로 따로 적용하는 것은 번거롭고, 테스트 데이터에 동일한 절차를 반복하다 실수를 유발하기 쉽습니다. \n",
        "\n",
        "특히, 훈련 데이터에서 학습한 스케일러나 인코더를 테스트 데이터에 그대로 적용해야 하는데(Data Leakage 방지), 이 과정을 잊어버릴 수도 있습니다.\n",
        "\n",
        "`scikit-learn`의 `Pipeline`과 `ColumnTransformer`는 이러한 전처리 과정들을 하나의 '작업 흐름'으로 묶어주는 강력한 도구입니다.\n",
        "\n",
        "* `ColumnTransformer`: **서로 다른 컬럼 그룹에 서로 다른 변환을 적용**할 수 있게 해줍니다. (e.g., 수치형 컬럼에는 결측치 처리+스케일링, 범주형 컬럼에는 결측치 처리+원핫인코딩)\n",
        "* `Pipeline`: 여러 단계의 변환 과정과 마지막의 모델까지를 **하나의 단일 객체**로 묶어줍니다.\n",
        "\n",
        "#### 💻 코드로 알아보기\n",
        "\n",
        "수치형 변수와 범주형 변수에 각각 다른 전처리 방식을 적용하고, 최종적으로 로지스틱 회귀 모델을 학습시키는 전체 파이프라인을 구축해 보겠습니다."
      ]
    },
    {
      "cell_type": "code",
      "execution_count": 5,
      "metadata": {
        "id": "xrQG8DFz6We2"
      },
      "outputs": [
        {
          "name": "stdout",
          "output_type": "stream",
          "text": [
            "파이프라인 모델의 정확도: 0.8041\n"
          ]
        }
      ],
      "source": [
        "from sklearn.pipeline import Pipeline\n",
        "from sklearn.compose import ColumnTransformer\n",
        "from sklearn.linear_model import LogisticRegression\n",
        "import pandas as pd\n",
        "from sklearn.model_selection import train_test_split\n",
        "import numpy as np\n",
        "from sklearn.impute import SimpleImputer\n",
        "from sklearn.preprocessing import StandardScaler, OneHotEncoder\n",
        "\n",
        "# 원본 데이터 다시 로드 및 분리\n",
        "path = '../datasets/ml/telco-customer-churn/WA_Fn-UseC_-Telco-Customer-Churn.csv'\n",
        "df = pd.read_csv(path)\n",
        "df['TotalCharges'] = pd.to_numeric(df['TotalCharges'], errors='coerce')\n",
        "X = df.drop('Churn', axis=1)\n",
        "y = df['Churn']\n",
        "\n",
        "X_train, X_test, y_train, y_test = train_test_split(X, y, test_size=0.2, random_state=42, stratify=y)\n",
        "\n",
        "# 1. 컬럼 그룹 정의\n",
        "numeric_features = X.select_dtypes(include=np.number).columns.tolist()\n",
        "categorical_features = X.select_dtypes(include='object').columns.tolist()\n",
        "# customerID는 모델링에 불필요하므로 제거\n",
        "if 'customerID' in numeric_features:\n",
        "    numeric_features.remove('customerID')\n",
        "\n",
        "# 2. 각 그룹에 대한 전처리 파이프라인 정의\n",
        "# 수치형 변수 파이프라인: 결측치 중앙값 대체 -> 표준화\n",
        "numeric_transformer = Pipeline(steps=[\n",
        "    ('imputer', SimpleImputer(strategy='median')),\n",
        "    ('scaler', StandardScaler())\n",
        "])\n",
        "\n",
        "# 범주형 변수 파이프라인: 결측치 최빈값 대체 -> 원핫인코딩\n",
        "categorical_transformer = Pipeline(steps=[\n",
        "    ('imputer', SimpleImputer(strategy='most_frequent')),\n",
        "    ('onehot', OneHotEncoder(handle_unknown='ignore')) # 테스트 데이터에 없는 범주가 나와도 에러 방지\n",
        "])\n",
        "\n",
        "# 3. ColumnTransformer로 두 파이프라인 통합\n",
        "preprocessor = ColumnTransformer(\n",
        "    transformers=[\n",
        "        ('num', numeric_transformer, numeric_features),\n",
        "        ('cat', categorical_transformer, categorical_features)\n",
        "    ])\n",
        "\n",
        "# 4. 최종 파이프라인 구축: 전처리기 + 모델\n",
        "model_pipeline = Pipeline(steps=[\n",
        "    ('preprocessor', preprocessor),\n",
        "    ('classifier', LogisticRegression(solver='liblinear'))\n",
        "])\n",
        "\n",
        "# 5. 파이프라인 학습\n",
        "model_pipeline.fit(X_train, y_train)\n",
        "\n",
        "# 6. 파이프라인으로 예측 및 평가\n",
        "accuracy = model_pipeline.score(X_test, y_test)\n",
        "print(f\"파이프라인 모델의 정확도: {accuracy:.4f}\")"
      ]
    },
    {
      "cell_type": "markdown",
      "metadata": {
        "id": "fvKSCgSl6We2"
      },
      "source": [
        "이렇게 파이프라인을 구축하면 `fit` 한 번으로 모든 전처리 과정과 모델 학습이 한 번에 이루어지며, `predict`나 `score`를 호출하면 내부적으로 테스트 데이터에 동일한 전처리 과정을 자동으로 적용해주어 매우 편리하고 안전합니다.\n",
        "\n",
        "#### ✏️ 연습문제 7\n",
        "\n",
        "위 `model_pipeline`에서 `StandardScaler` 대신 `MinMaxScaler`를 사용하도록 `numeric_transformer`를 수정하여 새로운 파이프라인을 만들고, 정확도를 비교해보세요."
      ]
    },
    {
      "cell_type": "code",
      "execution_count": null,
      "metadata": {
        "id": "SkvfE0n66We3"
      },
      "outputs": [],
      "source": [
        "# 연습문제 7 코드\n",
        "# numeric_transformer를 수정한 후, 전체 파이프라인을 다시 정의하고 학습/평가하는 코드를 작성하세요."
      ]
    },
    {
      "cell_type": "markdown",
      "metadata": {},
      "source": [
        "#### ✏️ 연습문제 8 : 심부전 예측을 위한 전처리 파이프라인\n",
        "\n",
        "이번에는 Heart Failure Records 데이터셋을 사용하여 환자의 심부전으로 인한 사망 여부(DEATH_EVENT)를 예측하는 모델을 만들어 보겠습니다. \n",
        "\n",
        "이 데이터셋은 수치형 변수와 이진(0 또는 1) 범주형 변수로 구성되어 있습니다.\n",
        "\n",
        "* 처리 가이드:\n",
        "\n",
        "    Heart Failure 데이터셋을 로드하고 특성(X)과 타겟(y)을 분리합니다.\n",
        "\n",
        "    수치형 변수와 범주형(이진) 변수를 식별합니다.\n",
        "    \n",
        "    ColumnTransformer를 사용하여 수치형 변수에는 StandardScaler를, 범주형 변수에는 OneHotEncoder를 적용하는 전처리기를 만듭니다.\n",
        "\n",
        "    전처리기와 RandomForestClassifier 모델을 Pipeline으로 결합합니다.\n",
        "\n",
        "    생성된 파이프라인을 훈련시키고, 테스트 데이터에 대한 정확도를 평가합니다."
      ]
    },
    {
      "cell_type": "markdown",
      "metadata": {},
      "source": [
        "데이터 준비"
      ]
    },
    {
      "cell_type": "code",
      "execution_count": null,
      "metadata": {},
      "outputs": [],
      "source": [
        "# 필요한 라이브러리 임포트\n",
        "import pandas as pd\n",
        "from sklearn.model_selection import train_test_split\n",
        "from sklearn.pipeline import Pipeline\n",
        "from sklearn.compose import ColumnTransformer\n",
        "from sklearn.preprocessing import StandardScaler, OneHotEncoder\n",
        "from sklearn.ensemble import RandomForestClassifier\n",
        "from sklearn.metrics import accuracy_score\n",
        "\n",
        "# 데이터셋 로드 (웹에서 직접 로드)\n",
        "url = '../datasets/ml/heart-failure/heart_failure_clinical_records_dataset.csv'\n",
        "df_heart = pd.read_csv(url)\n",
        "df_heart.head()"
      ]
    },
    {
      "cell_type": "markdown",
      "metadata": {},
      "source": [
        "코드 작성"
      ]
    },
    {
      "cell_type": "code",
      "execution_count": null,
      "metadata": {},
      "outputs": [],
      "source": [
        "# 특성(X)과 타겟(y) 분리\n",
        "\n",
        "# 훈련/테스트 데이터 분리\n",
        "\n",
        "# [문제 1] 수치형 특성과 범주형(이진) 특성의 컬럼명을 리스트로 정의하세요.\n",
        "# 팁: 이 데이터셋의 범주형 특성은 모두 0과 1로 되어 있습니다. (e.g., 'anaemia', 'diabetes', 'high_blood_pressure', 'sex', 'smoking')\n",
        "# 나머지 컬럼은 수치형으로 간주할 수 있습니다.\n",
        "numeric_features = ['age', 'creatinine_phosphokinase', 'ejection_fraction', 'platelets', 'serum_creatinine', 'serum_sodium', 'time']\n",
        "categorical_features = ['anaemia', 'diabetes', 'high_blood_pressure', 'sex', 'smoking']\n",
        "\n",
        "# [문제 2] ColumnTransformer를 사용하여 전처리기를 만드세요.\n",
        "# 수치형 특성에는 StandardScaler를 적용하세요.\n",
        "# 범주형 특성에는 OneHotEncoder를 적용하세요. (이진 변수지만 연습을 위해 적용)\n",
        "preprocessor = ColumnTransformer(\n",
        "    transformers=[\n",
        "        ('num', ?, ?),\n",
        "        ('cat', ?, ?)\n",
        "    ])\n",
        "\n",
        "# [문제 3] Pipeline을 사용하여 전처리기와 RandomForestClassifier 모델을 연결하세요.\n",
        "# RandomForestClassifier의 random_state는 42로 설정하세요.\n",
        "model_pipeline = Pipeline(steps=[\n",
        "    ('preprocessor', ?),\n",
        "    ('classifier', ?(random_state=42))\n",
        "])\n",
        "\n",
        "# [문제 4] 생성한 파이프라인을 훈련 데이터로 학습시키세요.\n",
        "# ?\n",
        "\n",
        "# [문제 5] 학습된 파이프라인으로 테스트 데이터의 예측을 수행하고 정확도를 계산하여 출력하세요.\n",
        "# y_pred = ?\n",
        "# accuracy = ?\n",
        "# print(f\"심부전 예측 모델 파이프라인의 정확도: {accuracy:.4f}\")"
      ]
    }
  ],
  "metadata": {
    "colab": {
      "provenance": []
    },
    "kernelspec": {
      "display_name": ".venv",
      "language": "python",
      "name": "python3"
    },
    "language_info": {
      "codemirror_mode": {
        "name": "ipython",
        "version": 3
      },
      "file_extension": ".py",
      "mimetype": "text/x-python",
      "name": "python",
      "nbconvert_exporter": "python",
      "pygments_lexer": "ipython3",
      "version": "3.12.9"
    }
  },
  "nbformat": 4,
  "nbformat_minor": 0
}
