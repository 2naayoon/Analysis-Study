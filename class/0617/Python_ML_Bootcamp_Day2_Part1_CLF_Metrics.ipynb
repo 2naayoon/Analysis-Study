{
  "cells": [
    {
      "cell_type": "markdown",
      "metadata": {
        "id": "WphwiFlK1ukM"
      },
      "source": [
        "# 🚀 Day 2-1: 분류 모델의 성적표, 핵심 평가지표 완전 정복 💯\n",
        "\n",
        "회귀 모델이 연속적인 값을 예측했다면, **분류(Classification)** 모델은 데이터가 어떤 범주(Category)에 속하는지 예측합니다. 예를 들어 \"이 이메일은 스팸인가, 아닌가?\", \"사진 속 동물은 고양이인가, 강아지인가, 토끼인가?\", \"고객이 서비스를 이탈할 것인가, 유지할 것인가?\" 와 같은 질문에 답하는 것이죠.\n",
        "\n",
        "모델을 만들고 나면 우리는 회귀 파트에서처럼 \"그래서 이 모델, 얼마나 잘하는데?\"라는 질문을 던져야 합니다. 하지만 분류 문제의 평가는 회귀와는 다른 척도를 사용해야 합니다. 단순히 '정확히 맞춘 개수'만으로는 모델의 성능을 제대로 파악하기 어려운 경우가 많기 때문입니다.\n",
        "\n",
        "특히 **클래스 불균형(Class Imbalance)** 상황, 즉 한쪽 범주의 데이터가 다른 쪽보다 월등히 많은 경우(예: 전체 카드 거래 중 99.9%가 정상, 0.1%가 사기 거래)에 정확도만 믿고 모델을 평가하면 큰 함정에 빠질 수 있습니다.\n",
        "\n",
        "이번 시간에는 분류 모델의 성능을 다각도로 측정하고 올바르게 해석하기 위한 핵심 평가지표들, **혼동 행렬(Confusion Matrix)부터 Accuracy, Precision, Recall, F1-score, 그리고 ROC-AUC**까지 깊이 있게 알아보겠습니다. 각 지표가 어떤 이야기를 들려주는지, 문제 상황에 따라 어떤 지표를 선택해야 하는지 명확히 이해하는 것을 목표로 합니다.\n",
        "\n",
        "-----\n",
        "\n",
        "### 1. 혼동 행렬(Confusion Matrix): 모든 평가의 시작\n",
        "\n",
        "**혼동 행렬**은 이름 그대로 모델이 얼마나 '혼동'하고 있는지를 보여주는 행렬표입니다. 실제 정답(True Label)과 모델의 예측(Predicted Label)을 비교하여, 모델의 예측이 4가지 경우 중 어디에 속하는지 보여줍니다. 모든 분류 평가지표는 이 혼동 행렬로부터 계산됩니다.\n",
        "\n",
        "#### 🧠 개념 이해하기\n",
        "\n",
        "이진 분류(Binary Classification) 상황(예: Yes/No, 1/0, Positive/Negative)을 기준으로 살펴보겠습니다. 여기서 'Positive'는 우리가 찾으려는 주된 대상(예: 질병, 사기, 이탈)을 의미합니다.\n",
        "\n",
        "  * **TP (True Positive, 진양성)**: 실제 'Positive'를 'Positive'로 **올바르게** 예측. (정답\\!)\n",
        "  * **TN (True Negative, 진음성)**: 실제 'Negative'를 'Negative'로 **올바르게** 예측. (정답\\!)\n",
        "  * **FP (False Positive, 위양성)**: 실제 'Negative'를 'Positive'로 **틀리게** 예측. (1종 오류)\n",
        "  * **FN (False Negative, 위음성)**: 실제 'Positive'를 'Negative'로 **틀리게** 예측. (2종 오류)\n",
        "\n",
        "예를 들어, 암 진단 모델의 경우:\n",
        "\n",
        "  * **TP**: 암 환자를 암이라고 진단함 (가장 좋은 시나리오)\n",
        "  * **TN**: 건강한 사람을 건강하다고 진단함 (좋은 시나리오)\n",
        "  * **FP**: 건강한 사람을 암 환자라고 진단함 (환자는 놀라겠지만, 추가 검사로 바로잡을 수 있음)\n",
        "  * **FN**: 암 환자를 건강하다고 진단함 (치료 시기를 놓칠 수 있는 **가장 치명적인** 시나리오)\n",
        "\n",
        "이처럼 각 오류(FP, FN)가 가지는 비용과 중요도는 문제 상황에 따라 크게 달라집니다.\n",
        "\n",
        "#### 💻 코드 예시\n",
        "\n",
        "`scikit-learn`의 `confusion_matrix`를 사용하면 혼동 행렬을 쉽게 만들 수 있습니다. 시각화에는 `plotly.express`의 `imshow`를 활용해봅시다."
      ]
    },
    {
      "cell_type": "code",
      "execution_count": 1,
      "metadata": {
        "id": "l7-FGOzi1ukQ"
      },
      "outputs": [
        {
          "name": "stdout",
          "output_type": "stream",
          "text": [
            "혼동 행렬:\n",
            " [[4 1]\n",
            " [1 4]]\n"
          ]
        }
      ],
      "source": [
        "import numpy as np\n",
        "from sklearn.metrics import confusion_matrix\n",
        "import plotly.express as px\n",
        "\n",
        "# 실제 정답: 5명은 '이탈 안함'(0), 5명은 '이탈함'(1)\n",
        "y_true = np.array([0, 0, 0, 0, 0, 1, 1, 1, 1, 1])\n",
        "# 모델의 예측\n",
        "y_pred = np.array([0, 0, 1, 0, 0, 1, 0, 1, 1, 1])\n",
        "\n",
        "# 혼동 행렬 계산\n",
        "# 결과: [[TN, FP], [FN, TP]]\n",
        "cm = confusion_matrix(y_true, y_pred)\n",
        "\n",
        "print(\"혼동 행렬:\\n\", cm)\n"
      ]
    },
    {
      "cell_type": "code",
      "execution_count": 2,
      "metadata": {},
      "outputs": [
        {
          "data": {
            "application/vnd.plotly.v1+json": {
              "config": {
                "plotlyServerURL": "https://plot.ly"
              },
              "data": [
                {
                  "coloraxis": "coloraxis",
                  "hovertemplate": "Predicted Label: %{x}<br>True Label: %{y}<br>Count: %{z}<extra></extra>",
                  "name": "0",
                  "texttemplate": "%{z}",
                  "type": "heatmap",
                  "x": [
                    "Negative(0)",
                    "Positive(1)"
                  ],
                  "xaxis": "x",
                  "y": [
                    "Negative(0)",
                    "Positive(1)"
                  ],
                  "yaxis": "y",
                  "z": {
                    "bdata": "BAEBBA==",
                    "dtype": "i1",
                    "shape": "2, 2"
                  }
                }
              ],
              "layout": {
                "coloraxis": {
                  "colorbar": {
                    "title": {
                      "text": "Count"
                    }
                  },
                  "colorscale": [
                    [
                      0,
                      "#0d0887"
                    ],
                    [
                      0.1111111111111111,
                      "#46039f"
                    ],
                    [
                      0.2222222222222222,
                      "#7201a8"
                    ],
                    [
                      0.3333333333333333,
                      "#9c179e"
                    ],
                    [
                      0.4444444444444444,
                      "#bd3786"
                    ],
                    [
                      0.5555555555555556,
                      "#d8576b"
                    ],
                    [
                      0.6666666666666666,
                      "#ed7953"
                    ],
                    [
                      0.7777777777777778,
                      "#fb9f3a"
                    ],
                    [
                      0.8888888888888888,
                      "#fdca26"
                    ],
                    [
                      1,
                      "#f0f921"
                    ]
                  ]
                },
                "template": {
                  "data": {
                    "bar": [
                      {
                        "error_x": {
                          "color": "#2a3f5f"
                        },
                        "error_y": {
                          "color": "#2a3f5f"
                        },
                        "marker": {
                          "line": {
                            "color": "#E5ECF6",
                            "width": 0.5
                          },
                          "pattern": {
                            "fillmode": "overlay",
                            "size": 10,
                            "solidity": 0.2
                          }
                        },
                        "type": "bar"
                      }
                    ],
                    "barpolar": [
                      {
                        "marker": {
                          "line": {
                            "color": "#E5ECF6",
                            "width": 0.5
                          },
                          "pattern": {
                            "fillmode": "overlay",
                            "size": 10,
                            "solidity": 0.2
                          }
                        },
                        "type": "barpolar"
                      }
                    ],
                    "carpet": [
                      {
                        "aaxis": {
                          "endlinecolor": "#2a3f5f",
                          "gridcolor": "white",
                          "linecolor": "white",
                          "minorgridcolor": "white",
                          "startlinecolor": "#2a3f5f"
                        },
                        "baxis": {
                          "endlinecolor": "#2a3f5f",
                          "gridcolor": "white",
                          "linecolor": "white",
                          "minorgridcolor": "white",
                          "startlinecolor": "#2a3f5f"
                        },
                        "type": "carpet"
                      }
                    ],
                    "choropleth": [
                      {
                        "colorbar": {
                          "outlinewidth": 0,
                          "ticks": ""
                        },
                        "type": "choropleth"
                      }
                    ],
                    "contour": [
                      {
                        "colorbar": {
                          "outlinewidth": 0,
                          "ticks": ""
                        },
                        "colorscale": [
                          [
                            0,
                            "#0d0887"
                          ],
                          [
                            0.1111111111111111,
                            "#46039f"
                          ],
                          [
                            0.2222222222222222,
                            "#7201a8"
                          ],
                          [
                            0.3333333333333333,
                            "#9c179e"
                          ],
                          [
                            0.4444444444444444,
                            "#bd3786"
                          ],
                          [
                            0.5555555555555556,
                            "#d8576b"
                          ],
                          [
                            0.6666666666666666,
                            "#ed7953"
                          ],
                          [
                            0.7777777777777778,
                            "#fb9f3a"
                          ],
                          [
                            0.8888888888888888,
                            "#fdca26"
                          ],
                          [
                            1,
                            "#f0f921"
                          ]
                        ],
                        "type": "contour"
                      }
                    ],
                    "contourcarpet": [
                      {
                        "colorbar": {
                          "outlinewidth": 0,
                          "ticks": ""
                        },
                        "type": "contourcarpet"
                      }
                    ],
                    "heatmap": [
                      {
                        "colorbar": {
                          "outlinewidth": 0,
                          "ticks": ""
                        },
                        "colorscale": [
                          [
                            0,
                            "#0d0887"
                          ],
                          [
                            0.1111111111111111,
                            "#46039f"
                          ],
                          [
                            0.2222222222222222,
                            "#7201a8"
                          ],
                          [
                            0.3333333333333333,
                            "#9c179e"
                          ],
                          [
                            0.4444444444444444,
                            "#bd3786"
                          ],
                          [
                            0.5555555555555556,
                            "#d8576b"
                          ],
                          [
                            0.6666666666666666,
                            "#ed7953"
                          ],
                          [
                            0.7777777777777778,
                            "#fb9f3a"
                          ],
                          [
                            0.8888888888888888,
                            "#fdca26"
                          ],
                          [
                            1,
                            "#f0f921"
                          ]
                        ],
                        "type": "heatmap"
                      }
                    ],
                    "histogram": [
                      {
                        "marker": {
                          "pattern": {
                            "fillmode": "overlay",
                            "size": 10,
                            "solidity": 0.2
                          }
                        },
                        "type": "histogram"
                      }
                    ],
                    "histogram2d": [
                      {
                        "colorbar": {
                          "outlinewidth": 0,
                          "ticks": ""
                        },
                        "colorscale": [
                          [
                            0,
                            "#0d0887"
                          ],
                          [
                            0.1111111111111111,
                            "#46039f"
                          ],
                          [
                            0.2222222222222222,
                            "#7201a8"
                          ],
                          [
                            0.3333333333333333,
                            "#9c179e"
                          ],
                          [
                            0.4444444444444444,
                            "#bd3786"
                          ],
                          [
                            0.5555555555555556,
                            "#d8576b"
                          ],
                          [
                            0.6666666666666666,
                            "#ed7953"
                          ],
                          [
                            0.7777777777777778,
                            "#fb9f3a"
                          ],
                          [
                            0.8888888888888888,
                            "#fdca26"
                          ],
                          [
                            1,
                            "#f0f921"
                          ]
                        ],
                        "type": "histogram2d"
                      }
                    ],
                    "histogram2dcontour": [
                      {
                        "colorbar": {
                          "outlinewidth": 0,
                          "ticks": ""
                        },
                        "colorscale": [
                          [
                            0,
                            "#0d0887"
                          ],
                          [
                            0.1111111111111111,
                            "#46039f"
                          ],
                          [
                            0.2222222222222222,
                            "#7201a8"
                          ],
                          [
                            0.3333333333333333,
                            "#9c179e"
                          ],
                          [
                            0.4444444444444444,
                            "#bd3786"
                          ],
                          [
                            0.5555555555555556,
                            "#d8576b"
                          ],
                          [
                            0.6666666666666666,
                            "#ed7953"
                          ],
                          [
                            0.7777777777777778,
                            "#fb9f3a"
                          ],
                          [
                            0.8888888888888888,
                            "#fdca26"
                          ],
                          [
                            1,
                            "#f0f921"
                          ]
                        ],
                        "type": "histogram2dcontour"
                      }
                    ],
                    "mesh3d": [
                      {
                        "colorbar": {
                          "outlinewidth": 0,
                          "ticks": ""
                        },
                        "type": "mesh3d"
                      }
                    ],
                    "parcoords": [
                      {
                        "line": {
                          "colorbar": {
                            "outlinewidth": 0,
                            "ticks": ""
                          }
                        },
                        "type": "parcoords"
                      }
                    ],
                    "pie": [
                      {
                        "automargin": true,
                        "type": "pie"
                      }
                    ],
                    "scatter": [
                      {
                        "fillpattern": {
                          "fillmode": "overlay",
                          "size": 10,
                          "solidity": 0.2
                        },
                        "type": "scatter"
                      }
                    ],
                    "scatter3d": [
                      {
                        "line": {
                          "colorbar": {
                            "outlinewidth": 0,
                            "ticks": ""
                          }
                        },
                        "marker": {
                          "colorbar": {
                            "outlinewidth": 0,
                            "ticks": ""
                          }
                        },
                        "type": "scatter3d"
                      }
                    ],
                    "scattercarpet": [
                      {
                        "marker": {
                          "colorbar": {
                            "outlinewidth": 0,
                            "ticks": ""
                          }
                        },
                        "type": "scattercarpet"
                      }
                    ],
                    "scattergeo": [
                      {
                        "marker": {
                          "colorbar": {
                            "outlinewidth": 0,
                            "ticks": ""
                          }
                        },
                        "type": "scattergeo"
                      }
                    ],
                    "scattergl": [
                      {
                        "marker": {
                          "colorbar": {
                            "outlinewidth": 0,
                            "ticks": ""
                          }
                        },
                        "type": "scattergl"
                      }
                    ],
                    "scattermap": [
                      {
                        "marker": {
                          "colorbar": {
                            "outlinewidth": 0,
                            "ticks": ""
                          }
                        },
                        "type": "scattermap"
                      }
                    ],
                    "scattermapbox": [
                      {
                        "marker": {
                          "colorbar": {
                            "outlinewidth": 0,
                            "ticks": ""
                          }
                        },
                        "type": "scattermapbox"
                      }
                    ],
                    "scatterpolar": [
                      {
                        "marker": {
                          "colorbar": {
                            "outlinewidth": 0,
                            "ticks": ""
                          }
                        },
                        "type": "scatterpolar"
                      }
                    ],
                    "scatterpolargl": [
                      {
                        "marker": {
                          "colorbar": {
                            "outlinewidth": 0,
                            "ticks": ""
                          }
                        },
                        "type": "scatterpolargl"
                      }
                    ],
                    "scatterternary": [
                      {
                        "marker": {
                          "colorbar": {
                            "outlinewidth": 0,
                            "ticks": ""
                          }
                        },
                        "type": "scatterternary"
                      }
                    ],
                    "surface": [
                      {
                        "colorbar": {
                          "outlinewidth": 0,
                          "ticks": ""
                        },
                        "colorscale": [
                          [
                            0,
                            "#0d0887"
                          ],
                          [
                            0.1111111111111111,
                            "#46039f"
                          ],
                          [
                            0.2222222222222222,
                            "#7201a8"
                          ],
                          [
                            0.3333333333333333,
                            "#9c179e"
                          ],
                          [
                            0.4444444444444444,
                            "#bd3786"
                          ],
                          [
                            0.5555555555555556,
                            "#d8576b"
                          ],
                          [
                            0.6666666666666666,
                            "#ed7953"
                          ],
                          [
                            0.7777777777777778,
                            "#fb9f3a"
                          ],
                          [
                            0.8888888888888888,
                            "#fdca26"
                          ],
                          [
                            1,
                            "#f0f921"
                          ]
                        ],
                        "type": "surface"
                      }
                    ],
                    "table": [
                      {
                        "cells": {
                          "fill": {
                            "color": "#EBF0F8"
                          },
                          "line": {
                            "color": "white"
                          }
                        },
                        "header": {
                          "fill": {
                            "color": "#C8D4E3"
                          },
                          "line": {
                            "color": "white"
                          }
                        },
                        "type": "table"
                      }
                    ]
                  },
                  "layout": {
                    "annotationdefaults": {
                      "arrowcolor": "#2a3f5f",
                      "arrowhead": 0,
                      "arrowwidth": 1
                    },
                    "autotypenumbers": "strict",
                    "coloraxis": {
                      "colorbar": {
                        "outlinewidth": 0,
                        "ticks": ""
                      }
                    },
                    "colorscale": {
                      "diverging": [
                        [
                          0,
                          "#8e0152"
                        ],
                        [
                          0.1,
                          "#c51b7d"
                        ],
                        [
                          0.2,
                          "#de77ae"
                        ],
                        [
                          0.3,
                          "#f1b6da"
                        ],
                        [
                          0.4,
                          "#fde0ef"
                        ],
                        [
                          0.5,
                          "#f7f7f7"
                        ],
                        [
                          0.6,
                          "#e6f5d0"
                        ],
                        [
                          0.7,
                          "#b8e186"
                        ],
                        [
                          0.8,
                          "#7fbc41"
                        ],
                        [
                          0.9,
                          "#4d9221"
                        ],
                        [
                          1,
                          "#276419"
                        ]
                      ],
                      "sequential": [
                        [
                          0,
                          "#0d0887"
                        ],
                        [
                          0.1111111111111111,
                          "#46039f"
                        ],
                        [
                          0.2222222222222222,
                          "#7201a8"
                        ],
                        [
                          0.3333333333333333,
                          "#9c179e"
                        ],
                        [
                          0.4444444444444444,
                          "#bd3786"
                        ],
                        [
                          0.5555555555555556,
                          "#d8576b"
                        ],
                        [
                          0.6666666666666666,
                          "#ed7953"
                        ],
                        [
                          0.7777777777777778,
                          "#fb9f3a"
                        ],
                        [
                          0.8888888888888888,
                          "#fdca26"
                        ],
                        [
                          1,
                          "#f0f921"
                        ]
                      ],
                      "sequentialminus": [
                        [
                          0,
                          "#0d0887"
                        ],
                        [
                          0.1111111111111111,
                          "#46039f"
                        ],
                        [
                          0.2222222222222222,
                          "#7201a8"
                        ],
                        [
                          0.3333333333333333,
                          "#9c179e"
                        ],
                        [
                          0.4444444444444444,
                          "#bd3786"
                        ],
                        [
                          0.5555555555555556,
                          "#d8576b"
                        ],
                        [
                          0.6666666666666666,
                          "#ed7953"
                        ],
                        [
                          0.7777777777777778,
                          "#fb9f3a"
                        ],
                        [
                          0.8888888888888888,
                          "#fdca26"
                        ],
                        [
                          1,
                          "#f0f921"
                        ]
                      ]
                    },
                    "colorway": [
                      "#636efa",
                      "#EF553B",
                      "#00cc96",
                      "#ab63fa",
                      "#FFA15A",
                      "#19d3f3",
                      "#FF6692",
                      "#B6E880",
                      "#FF97FF",
                      "#FECB52"
                    ],
                    "font": {
                      "color": "#2a3f5f"
                    },
                    "geo": {
                      "bgcolor": "white",
                      "lakecolor": "white",
                      "landcolor": "#E5ECF6",
                      "showlakes": true,
                      "showland": true,
                      "subunitcolor": "white"
                    },
                    "hoverlabel": {
                      "align": "left"
                    },
                    "hovermode": "closest",
                    "mapbox": {
                      "style": "light"
                    },
                    "paper_bgcolor": "white",
                    "plot_bgcolor": "#E5ECF6",
                    "polar": {
                      "angularaxis": {
                        "gridcolor": "white",
                        "linecolor": "white",
                        "ticks": ""
                      },
                      "bgcolor": "#E5ECF6",
                      "radialaxis": {
                        "gridcolor": "white",
                        "linecolor": "white",
                        "ticks": ""
                      }
                    },
                    "scene": {
                      "xaxis": {
                        "backgroundcolor": "#E5ECF6",
                        "gridcolor": "white",
                        "gridwidth": 2,
                        "linecolor": "white",
                        "showbackground": true,
                        "ticks": "",
                        "zerolinecolor": "white"
                      },
                      "yaxis": {
                        "backgroundcolor": "#E5ECF6",
                        "gridcolor": "white",
                        "gridwidth": 2,
                        "linecolor": "white",
                        "showbackground": true,
                        "ticks": "",
                        "zerolinecolor": "white"
                      },
                      "zaxis": {
                        "backgroundcolor": "#E5ECF6",
                        "gridcolor": "white",
                        "gridwidth": 2,
                        "linecolor": "white",
                        "showbackground": true,
                        "ticks": "",
                        "zerolinecolor": "white"
                      }
                    },
                    "shapedefaults": {
                      "line": {
                        "color": "#2a3f5f"
                      }
                    },
                    "ternary": {
                      "aaxis": {
                        "gridcolor": "white",
                        "linecolor": "white",
                        "ticks": ""
                      },
                      "baxis": {
                        "gridcolor": "white",
                        "linecolor": "white",
                        "ticks": ""
                      },
                      "bgcolor": "#E5ECF6",
                      "caxis": {
                        "gridcolor": "white",
                        "linecolor": "white",
                        "ticks": ""
                      }
                    },
                    "title": {
                      "x": 0.05
                    },
                    "xaxis": {
                      "automargin": true,
                      "gridcolor": "white",
                      "linecolor": "white",
                      "ticks": "",
                      "title": {
                        "standoff": 15
                      },
                      "zerolinecolor": "white",
                      "zerolinewidth": 2
                    },
                    "yaxis": {
                      "automargin": true,
                      "gridcolor": "white",
                      "linecolor": "white",
                      "ticks": "",
                      "title": {
                        "standoff": 15
                      },
                      "zerolinecolor": "white",
                      "zerolinewidth": 2
                    }
                  }
                },
                "title": {
                  "text": "Confusion Matrix"
                },
                "xaxis": {
                  "anchor": "y",
                  "constrain": "domain",
                  "domain": [
                    0,
                    1
                  ],
                  "scaleanchor": "y",
                  "title": {
                    "text": "Predicted Label"
                  }
                },
                "yaxis": {
                  "anchor": "x",
                  "autorange": "reversed",
                  "constrain": "domain",
                  "domain": [
                    0,
                    1
                  ],
                  "title": {
                    "text": "True Label"
                  }
                }
              }
            }
          },
          "metadata": {},
          "output_type": "display_data"
        }
      ],
      "source": [
        "\n",
        "# 혼동 행렬 시각화\n",
        "fig = px.imshow(cm, text_auto=True,\n",
        "                labels=dict(x=\"Predicted Label\", y=\"True Label\", color=\"Count\"),\n",
        "                x=['Negative(0)', 'Positive(1)'],\n",
        "                y=['Negative(0)', 'Positive(1)'],\n",
        "                title=\"Confusion Matrix\")\n",
        "fig.show()"
      ]
    },
    {
      "cell_type": "markdown",
      "metadata": {
        "id": "dLEPDdUT1ukQ"
      },
      "source": [
        "위 예시에서 TN=4, FP=1, FN=1, TP=4 임을 시각적으로 확인할 수 있습니다.\n",
        "\n",
        "-----\n",
        "\n",
        "### 2\\. Accuracy (정확도): 가장 직관적이지만 위험한 지표\n",
        "\n",
        "#### 🧠 개념 이해하기\n",
        "\n",
        "\\*\\*정확도(Accuracy)\\*\\*는 가장 직관적인 평가지표로, 전체 샘플 중 모델이 올바르게 예측한 샘플의 비율을 나타냅니다.\n",
        "\n",
        "$$\\text{Accuracy} = \\frac{\\text{TP} + \\text{TN}}{\\text{TP} + \\text{TN} + \\text{FP} + \\text{FN}}$$\n",
        "\n",
        "\"이 모델은 85%의 정확도를 보여\"와 같이 이해하기 쉽지만, 치명적인 맹점을 가지고 있습니다. 바로 \\*\\*클래스 불균형(imbalanced data)\\*\\*에 매우 취약하다는 점입니다.\n",
        "\n",
        "**정확도의 함정 (Accuracy Paradox)**\n",
        "고객 1000명 중 990명은 이탈하지 않고(Negative), 10명만 이탈(Positive)하는 데이터가 있다고 가정해봅시다. 만약 어떤 모델이 모든 고객에 대해 \"이탈하지 않는다\"라고만 예측한다면 어떻게 될까요?\n",
        "\n",
        "  * TP = 0, FP = 0, TN = 990, FN = 10\n",
        "  * Accuracy = (0 + 990) / (0 + 0 + 990 + 10) = 990 / 1000 = **99%**\n",
        "\n",
        "정확도는 99%로 매우 높지만, 정작 우리가 찾고 싶었던 '이탈 고객'은 단 한 명도 찾아내지 못하는, 사실상 아무 쓸모없는 모델입니다. 이처럼 불균형 데이터에서는 정확도가 모델의 성능을 심각하게 왜곡할 수 있습니다.\n",
        "\n",
        "#### 💻 코드 예시\n",
        "\n",
        "위의 불균형 시나리오를 코드로 확인해 보겠습니다."
      ]
    },
    {
      "cell_type": "code",
      "execution_count": 3,
      "metadata": {
        "id": "96_enuxh1ukR"
      },
      "outputs": [
        {
          "name": "stdout",
          "output_type": "stream",
          "text": [
            "불균형 데이터에 대한 무능한 모델의 정확도: 0.99\n",
            "혼동 행렬:\n",
            " [[990   0]\n",
            " [ 10   0]]\n"
          ]
        }
      ],
      "source": [
        "from sklearn.metrics import accuracy_score\n",
        "\n",
        "# 1000명 중 10명만 Positive(1)인 불균형 데이터\n",
        "y_true_imbalanced = np.array([0] * 990 + [1] * 10)\n",
        "# 모든 것을 Negative(0)로 예측하는 무능한 모델\n",
        "y_pred_dummy = np.zeros(1000)\n",
        "\n",
        "accuracy = accuracy_score(y_true_imbalanced, y_pred_dummy)\n",
        "print(f\"불균형 데이터에 대한 무능한 모델의 정확도: {accuracy:.2f}\")\n",
        "\n",
        "cm_imbalanced = confusion_matrix(y_true_imbalanced, y_pred_dummy)\n",
        "print(\"혼동 행렬:\\n\", cm_imbalanced)"
      ]
    },
    {
      "cell_type": "markdown",
      "metadata": {
        "id": "vDdB5fxl1ukR"
      },
      "source": [
        "#### ✏️ 연습문제 1\n",
        "\n",
        "어떤 모델의 혼동 행렬이 아래와 같을 때, 이 모델의 정확도를 직접 계산해보세요.\n",
        "\n",
        "  * TP = 60\n",
        "  * FP = 10\n",
        "  * TN = 120\n",
        "  * FN = 10\n",
        "\n",
        "-----\n",
        "\n",
        "### 3. Precision (정밀도) & Recall (재현율): 관점의 차이\n",
        "\n",
        "정확도의 한계를 극복하기 위해 등장한 지표가 바로 정밀도와 재현율입니다. 두 지표는 Positive 클래스에 초점을 맞추지만, 서로 다른 관점에서 모델을 평가합니다.\n",
        "\n",
        "#### 🧠 개념 이해하기\n",
        "\n",
        "**1. Precision (정밀도)**\n",
        "\n",
        "> \"모델이 'Positive'라고 예측한 것들 중에서, 얼마나 진짜 'Positive'였는가?\"\n",
        "\n",
        "$$\\text{Precision} = \\frac{\\text{TP}}{\\text{TP} + \\text{FP}}$$\n",
        "\n",
        "정밀도는 **FP (False Positive)** 를 줄이는 것이 중요할 때 높은 값을 가집니다. 즉, 모델의 예측을 믿고 Positive라고 판단했을 때의 확신도입니다.\n",
        "\n",
        "  * **사용 예시**: **스팸 메일 필터**. 일반 메일(Negative)을 스팸(Positive)으로 잘못 분류(FP)하면 중요한 메일을 놓치게 됩니다. 따라서 스팸으로 예측하는 것은 매우 신중해야 하므로, 정밀도가 중요합니다. `Precision`이 0.95라면, 스팸으로 분류된 메일 100개 중 95개는 진짜 스팸이라는 의미입니다.\n",
        "\n",
        "**2. Recall (재현율, 민감도)**\n",
        "\n",
        "> \"실제 'Positive'인 것들 중에서, 모델이 얼마나 'Positive'라고 맞췄는가?\"\n",
        "\n",
        "$$\\text{Recall} = \\frac{\\text{TP}}{\\text{TP} + \\text{FN}}$$\n",
        "\n",
        "재현율은 **FN (False Negative)** 를 줄이는 것이 중요할 때 높은 값을 가집니다. 즉, 실제 Positive 샘플을 놓치지 않고 얼마나 잘 찾아내는지를 나타냅니다.\n",
        "\n",
        "  * **사용 예시**: **암 진단 모델**. 실제 암 환자(Positive)를 건강하다(Negative)고 잘못 진단(FN)하면 생명이 위험할 수 있습니다. 따라서 한 명의 환자라도 놓치지 않는 것이 중요하므로, 재현율이 매우 중요합니다. `Recall`이 0.95라면, 실제 암 환자 100명 중 95명을 모델이 성공적으로 찾아냈다는 의미입니다.\n",
        "\n",
        "**정밀도-재현율 트레이드오프 (Precision-Recall Trade-off)**\n",
        "정밀도와 재현율은 일반적으로 반비례 관계를 가집니다. 한쪽을 높이려고 하면 다른 한쪽이 낮아지는 경향이 있습니다. 이는 모델이 Positive/Negative를 판단하는 **임계값(Threshold)** 을 조정함으로써 발생합니다.\n",
        "\n",
        "  * **임계값을 높이면 (더 확실할 때만 Positive로 예측)**: FP가 줄어들어 **정밀도↑**, 하지만 TP도 줄어들 수 있어 **재현율↓**\n",
        "  * **임계값을 낮추면 (조금만 가능성 있어도 Positive로 예측)**: FN이 줄어들어 **재현율↑**, 하지만 FP가 늘어나 **정밀도↓**\n",
        "\n",
        "따라서 문제의 상황에 맞춰 두 지표 사이의 적절한 균형점을 찾는 것이 중요합니다.\n",
        "\n",
        "#### 💻 코드 예시\n",
        "\n",
        "`scikit-learn`을 사용하여 정밀도와 재현율을 계산해봅시다."
      ]
    },
    {
      "cell_type": "code",
      "execution_count": 4,
      "metadata": {
        "id": "_FG3dQRc1ukR"
      },
      "outputs": [
        {
          "name": "stdout",
          "output_type": "stream",
          "text": [
            "암 진단 모델 정밀도: 0.80\n",
            "암 진단 모델 재현율: 0.80\n"
          ]
        }
      ],
      "source": [
        "from sklearn.metrics import precision_score, recall_score\n",
        "\n",
        "# 암 진단 예시 (FN이 치명적)\n",
        "y_true_cancer = np.array([0, 1, 1, 0, 1, 0, 0, 1, 0, 1]) # 실제 환자 5명\n",
        "y_pred_cancer = np.array([0, 1, 0, 0, 1, 1, 0, 1, 0, 1]) # 1명을 놓침(FN=1), 1명을 오진(FP=1)\n",
        "\n",
        "precision = precision_score(y_true_cancer, y_pred_cancer)\n",
        "recall = recall_score(y_true_cancer, y_pred_cancer)\n",
        "\n",
        "print(f\"암 진단 모델 정밀도: {precision:.2f}\") # 5번 Positive 예측 중 4번이 진짜 -> 4/5 = 0.8\n",
        "print(f\"암 진단 모델 재현율: {recall:.2f}\") # 실제 환자 5명 중 4명을 찾아냄 -> 4/5 = 0.8"
      ]
    },
    {
      "cell_type": "markdown",
      "metadata": {
        "id": "L_xef1fZ1ukS"
      },
      "source": [
        "#### ✏️ 연습문제 2 & 3\n",
        "\n",
        "연습문제 1의 혼동 행렬(TP=60, FP=10, TN=120, FN=10)을 사용하여 **정밀도(Precision)** 와 **재현율(Recall)** 을 각각 계산해보세요.\n",
        "\n",
        "-----\n",
        "\n",
        "### 4\\. F1 Score: 정밀도와 재현율의 조화로운 평균\n",
        "\n",
        "정밀도와 재현율은 모두 중요하지만, 두 숫자를 계속해서 비교하는 것은 번거롭습니다. **F1 Score**는 정밀도와 재현율의 **조화 평균(Harmonic Mean)** 을 사용하여 두 지표를 하나의 숫자로 요약해줍니다.\n",
        "\n",
        "#### 🧠 개념 이해하기\n",
        "\n",
        "$$\\text{F1 Score} = 2 \\times \\frac{\\text{Precision} \\times \\text{Recall}}{\\text{Precision} + \\text{Recall}}$$\n",
        "\n",
        "왜 산술 평균이 아닌 조화 평균을 사용할까요? 조화 평균은 두 값 중 어느 한쪽이 극단적으로 낮으면 전체 점수도 낮아지는 특징이 있습니다. 따라서 F1 Score는 정밀도와 재현율이 모두 균형 있게 높을 때만 높은 값을 가집니다. 클래스 불균형이 심한 데이터에서 모델의 성능을 정확하게 평가할 때 매우 유용합니다.\n",
        "\n",
        "  * `Precision=1.0, Recall=0.1` -\\> 산술평균=0.55, **F1 Score=0.18**\n",
        "  * `Precision=0.6, Recall=0.5` -\\> 산술평균=0.55, **F1 Score=0.55**\n",
        "\n",
        "#### 💻 코드 예시"
      ]
    },
    {
      "cell_type": "code",
      "execution_count": 5,
      "metadata": {
        "id": "ghr3vb7k1ukS"
      },
      "outputs": [
        {
          "name": "stdout",
          "output_type": "stream",
          "text": [
            "암 진단 모델 F1 Score: 0.80\n"
          ]
        }
      ],
      "source": [
        "from sklearn.metrics import f1_score\n",
        "\n",
        "# 위 암 진단 모델 예시 재사용\n",
        "precision = 0.8\n",
        "recall = 0.8\n",
        "f1 = f1_score(y_true_cancer, y_pred_cancer)\n",
        "\n",
        "print(f\"암 진단 모델 F1 Score: {f1:.2f}\")"
      ]
    },
    {
      "cell_type": "code",
      "execution_count": 7,
      "metadata": {},
      "outputs": [
        {
          "name": "stdout",
          "output_type": "stream",
          "text": [
            "              precision    recall  f1-score   support\n",
            "\n",
            "           0       0.80      0.80      0.80         5\n",
            "           1       0.80      0.80      0.80         5\n",
            "\n",
            "    accuracy                           0.80        10\n",
            "   macro avg       0.80      0.80      0.80        10\n",
            "weighted avg       0.80      0.80      0.80        10\n",
            "\n"
          ]
        }
      ],
      "source": [
        "from sklearn.metrics import classification_report\n",
        "\n",
        "print(classification_report(y_true, y_pred))"
      ]
    },
    {
      "cell_type": "markdown",
      "metadata": {
        "id": "tivHFfm11ukS"
      },
      "source": [
        "#### ✏️ 연습문제 4\n",
        "\n",
        "연습문제 2와 3에서 구한 정밀도와 재현율 값을 사용하여 **F1 Score**를 계산해보세요.\n",
        "\n",
        "-----\n",
        "\n",
        "### 5\\. 다중 클래스(Multiclass) 분류로의 확장\n",
        "\n",
        "지금까지는 이진 분류를 다루었지만, 분류 문제는 \"고양이 vs 강아지 vs 토끼\"처럼 3개 이상의 클래스를 가질 수도 있습니다. 이 경우, 평가지표는 어떻게 계산할까요? 기본적으로 각 클래스에 대해 '이 클래스인가? 아닌가?'의 이진 문제로 변환하여 지표를 계산한 뒤, 이 값들의 평균을 내는 방식을 사용합니다. 이때 평균을 내는 전략이 중요합니다.\n",
        "\n",
        "#### 🧠 개념 이해하기\n",
        "\n",
        "  * **Macro Average**: 모든 클래스를 동등하게 취급합니다. 각 클래스별로 평가지표(예: F1-score)를 각각 계산한 뒤, 이들의 단순 산술 평균을 냅니다. 데이터 수가 적은 클래스의 성능에 관심이 많을 때 유용합니다.\n",
        "  * **Weighted Average**: 클래스별 가중치를 부여하여 평균을 냅니다. 각 클래스의 실제 샘플 수(support)를 가중치로 사용하여 평가지표의 평균을 계산합니다. 클래스 불균형이 있을 때, 데이터 분포를 고려하여 전체 성능을 평가하고 싶을 때 적합합니다.\n",
        "  * **Micro Average**: 모든 클래스의 TP, FP, FN 값을 전부 합산하여 전체 성능을 한 번에 계산합니다. 다중 클래스에서 micro-F1 스코어는 전체 데이터의 정확도(Accuracy)와 동일한 값을 가집니다.\n",
        "\n",
        "#### 💻 코드 예시"
      ]
    },
    {
      "cell_type": "code",
      "execution_count": 8,
      "metadata": {
        "id": "872sFupH1ukS"
      },
      "outputs": [
        {
          "name": "stdout",
          "output_type": "stream",
          "text": [
            "Macro F1 Score: 0.81\n",
            "Weighted F1 Score: 0.75\n"
          ]
        }
      ],
      "source": [
        "from sklearn.metrics import f1_score\n",
        "\n",
        "# 3개 클래스(0, 1, 2) 분류 예시, 클래스 2가 매우 적음 (불균형)\n",
        "y_true_multi = [0, 0, 0, 0, 1, 1, 1, 2]\n",
        "y_pred_multi = [0, 0, 1, 0, 1, 1, 0, 2]\n",
        "\n",
        "# Macro F1: 각 클래스의 F1 점수 (class 0: 0.8, class 1: 0.67, class 2: 1.0)의 산술 평균\n",
        "f1_macro = f1_score(y_true_multi, y_pred_multi, average='macro')\n",
        "\n",
        "# Weighted F1: 각 클래스 F1 점수에 샘플 수(class 0: 4개, class 1: 3개, class 2: 1개) 가중치를 부여한 평균\n",
        "f1_weighted = f1_score(y_true_multi, y_pred_multi, average='weighted')\n",
        "\n",
        "print(f\"Macro F1 Score: {f1_macro:.2f}\")\n",
        "print(f\"Weighted F1 Score: {f1_weighted:.2f}\")"
      ]
    },
    {
      "cell_type": "markdown",
      "metadata": {
        "id": "IcgzzryY1ukT"
      },
      "source": [
        "Macro F1은 소수 클래스(class 2)의 성능을 동등하게 반영하는 반면, Weighted F1은 다수 클래스(class 0, 1)의 성능을 더 중요하게 반영합니다.\n",
        "\n",
        "#### ✏️ 연습문제 5\n",
        "\n",
        "어떤 모델이 세 개의 클래스(A, B, C)를 예측한 결과가 다음과 같습니다.\n",
        "\n",
        "  * 클래스 A: F1-score=0.9, 실제 샘플 수=80\n",
        "  * 클래스 B: F1-score=0.8, 실제 샘플 수=15\n",
        "  * 클래스 C: F1-score=0.5, 실제 샘플 수=5\n",
        "\n",
        "이 모델의 **Macro F1**과 **Weighted F1** 중 어느 쪽이 더 높게 나올까요? 그 이유는 무엇일까요?\n",
        "\n",
        "-----\n",
        "\n",
        "### 6\\. ROC Curve & AUC: 모델의 종합 성능 평가\n",
        "\n",
        "**ROC(Receiver Operating Characteristic) Curve**와 \\*\\*AUC(Area Under the Curve)\\*\\*는 이진 분류 모델의 성능을 종합적으로 평가하는 데 가장 널리 사용되는 지표 중 하나입니다. 임계값(Threshold)의 변화에 따라 모델의 성능이 어떻게 변하는지를 시각적으로 보여줍니다.\n",
        "\n",
        "#### 🧠 개념 이해하기\n",
        "\n",
        "ROC Curve는 x축을 **FPR(False Positive Rate)**, y축을 **TPR(True Positive Rate)** 로 놓고 그립니다.\n",
        "\n",
        "  * **TPR (True Positive Rate, 재현율)**: $\\\\frac{\\\\text{TP}}{\\\\text{TP} + \\\\text{FN}}$. 실제 Positive 중 모델이 Positive라고 맞춘 비율. (1에 가까울수록 좋음)\n",
        "  * **FPR (False Positive Rate)**: $\\\\frac{\\\\text{FP}}{\\\\text{FP} + \\\\text{TN}}$. 실제 Negative 중 모델이 Positive라고 틀리게 예측한 비율. (0에 가까울수록 좋음)\n",
        "\n",
        "  * **(0,1) 지점 (좌상단)**: FPR은 0이고 TPR은 1인, 완벽한 모델의 위치입니다. ROC 커브가 이 지점에 가까울수록 모델의 성능이 좋다는 의미입니다.\n",
        "  * **대각선 (y=x)**: 완전한 랜덤 예측을 의미합니다. 모델의 성능이 동전 던지기와 같다는 뜻입니다. 커브가 이 대각선 아래에 있다면 랜덤 예측보다도 못한 모델입니다.\n",
        "\n",
        "**AUC (Area Under the Curve)**\n",
        "AUC는 ROC Curve 아래의 면적을 의미하며, 0과 1 사이의 값을 가집니다. 이 면적이 넓을수록(1에 가까울수록) 모델의 성능이 우수함을 나타냅니다.\n",
        "\n",
        "  * **AUC = 1**: 완벽한 분류기.\n",
        "  * **AUC = 0.5**: 랜덤 분류기 (쓸모 없음).\n",
        "  * **AUC의 직관적 의미**: \"랜덤하게 뽑은 Positive 샘플의 예측 점수가 랜덤하게 뽑은 Negative 샘플의 예측 점수보다 높을 확률\"을 나타냅니다. AUC가 0.9라면, 90% 확률로 Positive 샘플을 더 잘 구분한다는 뜻입니다.\n",
        "\n",
        "AUC는 임계값에 상관없이 모델의 전반적인 '분류 능력' 자체를 평가하므로, 특정 임계값에 의존하지 않는 안정적인 성능 평가가 가능합니다.\n",
        "\n",
        "#### 💻 코드 예시\n",
        "\n",
        "ROC Curve를 그리려면 `predict()`로 얻은 0/1 예측값이 아닌, `predict_proba()`로 얻은 'Positive일 확률'이 필요합니다."
      ]
    },
    {
      "cell_type": "code",
      "execution_count": 9,
      "metadata": {
        "id": "MYe-8hvJ1ukT"
      },
      "outputs": [
        {
          "data": {
            "text/plain": [
              "array([6.09536672e-01, 8.68929260e-01, 5.13909465e-01, 7.79089383e-01,\n",
              "       9.53723656e-01, 5.23451932e-02, 2.27636761e-01, 7.89347054e-01,\n",
              "       7.37037455e-01, 3.12417654e-01, 9.66424758e-01, 6.70829492e-01,\n",
              "       4.08948143e-03, 4.99306936e-01, 7.19672711e-01, 1.79605592e-01,\n",
              "       6.44589971e-02, 9.51291957e-01, 8.87630911e-01, 4.78687093e-01,\n",
              "       9.94347672e-01, 2.55081828e-01, 5.14401674e-02, 1.02764693e-01,\n",
              "       9.78692448e-01, 4.51196086e-03, 9.99621703e-01, 9.37634035e-01,\n",
              "       1.18188476e-02, 9.69791848e-01, 8.68816110e-01, 9.88422095e-01,\n",
              "       6.15473106e-01, 1.47860299e-01, 3.12980543e-01, 1.65110252e-01,\n",
              "       7.00945658e-02, 4.04964522e-01, 4.55256562e-02, 2.76558176e-01,\n",
              "       1.86227131e-02, 9.48312870e-01, 5.57726753e-02, 4.53793669e-01,\n",
              "       5.01184326e-01, 1.14111255e-02, 9.92328859e-01, 5.41306342e-03,\n",
              "       8.59704303e-01, 9.90278194e-01, 7.62490429e-02, 7.65075587e-02,\n",
              "       1.00222414e-02, 9.96565652e-01, 9.96836896e-01, 6.70517119e-01,\n",
              "       1.45131996e-02, 7.91753836e-02, 8.06830161e-01, 1.68324514e-01,\n",
              "       7.66609556e-01, 1.29896275e-01, 9.83767858e-02, 9.99678950e-01,\n",
              "       9.99478943e-01, 4.95158620e-02, 9.86731530e-01, 7.47504157e-01,\n",
              "       7.38336625e-01, 2.71048164e-01, 1.18251476e-01, 4.43620311e-01,\n",
              "       4.66279420e-01, 1.17619661e-01, 1.15365849e-01, 9.35829937e-01,\n",
              "       1.46178671e-01, 4.81438896e-01, 9.00739417e-01, 5.46282715e-02,\n",
              "       6.79806651e-02, 1.53239760e-01, 4.34950675e-02, 9.95809334e-01,\n",
              "       9.56867181e-01, 6.06377418e-01, 7.01602532e-02, 1.52129070e-02,\n",
              "       3.91322515e-02, 5.63115004e-01, 7.81404731e-01, 5.66845389e-03,\n",
              "       1.87815387e-02, 6.18897646e-02, 9.04149376e-01, 1.35885870e-01,\n",
              "       7.28263642e-01, 3.38558316e-01, 7.16792967e-01, 2.95655789e-01,\n",
              "       9.96001451e-01, 9.10845807e-01, 3.01279958e-02, 1.72072589e-01,\n",
              "       9.89321742e-01, 9.55415655e-02, 9.49604738e-01, 3.52308884e-01,\n",
              "       4.62086868e-02, 3.24578924e-03, 1.44381585e-01, 2.62336707e-02,\n",
              "       6.57812599e-02, 5.33104469e-01, 1.36275906e-01, 8.03060054e-01,\n",
              "       7.73956570e-01, 5.19867342e-02, 9.19898462e-01, 2.69491420e-01,\n",
              "       9.74325662e-01, 9.97135750e-01, 2.34401342e-01, 2.20139232e-02,\n",
              "       9.97574763e-01, 9.96868970e-01, 8.33131107e-01, 9.13342692e-03,\n",
              "       2.39704326e-01, 5.18849321e-01, 3.54102026e-03, 9.67837419e-01,\n",
              "       5.61146495e-01, 2.70953576e-03, 9.72479315e-01, 9.75674778e-01,\n",
              "       4.29200970e-01, 9.94239746e-01, 4.95031133e-02, 9.42973875e-01,\n",
              "       3.34198768e-01, 8.06346852e-02, 9.98287611e-01, 9.99903312e-01,\n",
              "       1.41042859e-01, 9.66217078e-01, 9.74707493e-01, 1.40254223e-02,\n",
              "       2.59313233e-01, 9.61873848e-01, 9.11144250e-01, 9.81429846e-01,\n",
              "       4.17888738e-01, 1.45165122e-01, 9.74848885e-01, 8.67676539e-02,\n",
              "       9.60819585e-01, 9.15008851e-01, 4.43194698e-02, 5.97147719e-02,\n",
              "       3.96059977e-01, 9.82021426e-01, 3.47982821e-01, 1.93907046e-01,\n",
              "       6.26014659e-01, 4.23546241e-01, 9.02934104e-01, 7.68163849e-01,\n",
              "       7.13968543e-01, 5.99608153e-02, 3.86605541e-02, 1.41194398e-01,\n",
              "       5.42332260e-01, 4.72560029e-01, 8.42967572e-02, 9.97954659e-01,\n",
              "       6.86360574e-01, 8.59454363e-01, 9.98924800e-01, 5.25378260e-02,\n",
              "       9.15073278e-01, 9.98664609e-01, 1.68434810e-03, 1.92236077e-01,\n",
              "       9.31568682e-01, 9.36517002e-01, 3.59937247e-02, 9.20930968e-02,\n",
              "       2.70845883e-01, 9.69408372e-01, 3.07874692e-01, 5.98559683e-01,\n",
              "       1.62678261e-02, 9.60930512e-01, 9.89574560e-01, 9.30978872e-01,\n",
              "       9.97271516e-01, 9.90756894e-01, 2.07880883e-01, 9.54888695e-01,\n",
              "       9.86102618e-01, 2.84329291e-01, 9.70401436e-01, 9.97201426e-01,\n",
              "       4.91548013e-02, 1.16515069e-01, 9.94752846e-01, 5.50338834e-02,\n",
              "       6.13756782e-02, 9.91622484e-01, 9.86852720e-01, 9.99498509e-01,\n",
              "       8.90343083e-01, 1.49381139e-02, 9.43216503e-01, 1.97988953e-01,\n",
              "       8.57330834e-01, 4.37171061e-01, 9.89955349e-01, 1.03985372e-01,\n",
              "       4.30357018e-01, 2.41173582e-01, 1.29127696e-01, 1.41060953e-01,\n",
              "       2.40142099e-01, 9.36560691e-01, 9.80940034e-01, 7.01253980e-02,\n",
              "       8.52246672e-01, 8.03323682e-01, 9.18320734e-01, 3.28119070e-01,\n",
              "       3.85030441e-02, 6.18520443e-01, 6.56260077e-01, 5.06393106e-01,\n",
              "       1.24526381e-01, 6.08037230e-01, 9.42928905e-01, 9.08848834e-01,\n",
              "       8.56417367e-01, 9.59354796e-01, 9.69440281e-01, 9.48421870e-02,\n",
              "       9.78341089e-01, 4.25807252e-01, 6.64080329e-01, 1.36153807e-01,\n",
              "       1.57365810e-02, 1.53125329e-01, 6.15544334e-05, 5.97992204e-01,\n",
              "       7.09363229e-04, 1.09775834e-01, 7.73300955e-01, 9.78974951e-01,\n",
              "       8.60783103e-01, 7.79010144e-02, 3.57063485e-02, 1.68066216e-01,\n",
              "       6.69050831e-03, 1.61437870e-02, 4.30169935e-01, 9.97877824e-01,\n",
              "       9.35196941e-01, 4.78677157e-02, 7.44353128e-01, 3.76714384e-02,\n",
              "       6.56006598e-02, 7.35803961e-01, 9.57647204e-01, 3.54892498e-02,\n",
              "       9.98804270e-01, 2.10861755e-01, 9.57700442e-01, 7.44341554e-01,\n",
              "       1.59185817e-01, 9.60673656e-01, 2.68605757e-01, 2.25507805e-03,\n",
              "       9.98069640e-01, 9.98574493e-02, 9.90285952e-01, 9.28662810e-01,\n",
              "       1.46803799e-02, 7.87645934e-01, 1.54134460e-01, 2.14805770e-01,\n",
              "       4.94152715e-02, 9.33388706e-01, 2.14705705e-01, 9.88131398e-01,\n",
              "       4.67721242e-01, 9.83847562e-01, 9.64149741e-01, 8.34570647e-02,\n",
              "       9.86656699e-04, 7.56307961e-01, 1.83580744e-02, 3.28958636e-02])"
            ]
          },
          "execution_count": 9,
          "metadata": {},
          "output_type": "execute_result"
        }
      ],
      "source": [
        "import plotly.graph_objects as go\n",
        "from sklearn.metrics import roc_curve, roc_auc_score\n",
        "from sklearn.linear_model import LogisticRegression\n",
        "from sklearn.model_selection import train_test_split\n",
        "\n",
        "# 예시 데이터 생성\n",
        "from sklearn.datasets import make_classification\n",
        "X, y = make_classification(n_samples=1000, n_classes=2, random_state=42)\n",
        "X_train, X_test, y_train, y_test = train_test_split(X, y, test_size=0.3, random_state=42)\n",
        "\n",
        "# 모델 학습 및 확률 예측\n",
        "model = LogisticRegression().fit(X_train, y_train)\n",
        "y_scores = model.predict_proba(X_test)[:, 1] # Positive 클래스(1)에 대한 확률\n",
        "y_scores\n"
      ]
    },
    {
      "cell_type": "code",
      "execution_count": 11,
      "metadata": {},
      "outputs": [
        {
          "data": {
            "text/plain": [
              "(array([0.        , 0.        , 0.        , 0.00689655, 0.00689655,\n",
              "        0.0137931 , 0.0137931 , 0.02068966, 0.02068966, 0.02758621,\n",
              "        0.02758621, 0.03448276, 0.03448276, 0.04137931, 0.04137931,\n",
              "        0.04827586, 0.04827586, 0.05517241, 0.05517241, 0.06206897,\n",
              "        0.06206897, 0.07586207, 0.07586207, 0.08965517, 0.08965517,\n",
              "        0.09655172, 0.09655172, 0.10344828, 0.10344828, 0.11034483,\n",
              "        0.11034483, 0.11724138, 0.11724138, 0.12413793, 0.12413793,\n",
              "        0.13103448, 0.13103448, 0.13793103, 0.13793103, 0.14482759,\n",
              "        0.14482759, 0.17931034, 0.17931034, 0.19310345, 0.19310345,\n",
              "        0.2137931 , 0.2137931 , 0.28275862, 0.28275862, 0.33103448,\n",
              "        0.33103448, 0.34482759, 0.34482759, 0.4137931 , 0.4137931 ,\n",
              "        0.43448276, 0.43448276, 0.48965517, 0.48965517, 0.55172414,\n",
              "        0.55172414, 0.55862069, 0.55862069, 0.60689655, 0.60689655,\n",
              "        0.64137931, 0.64137931, 0.8       , 0.8       , 0.90344828,\n",
              "        0.90344828, 0.91034483, 0.91034483, 1.        ]),\n",
              " array([0.        , 0.00645161, 0.38709677, 0.38709677, 0.46451613,\n",
              "        0.46451613, 0.48387097, 0.48387097, 0.49032258, 0.49032258,\n",
              "        0.50967742, 0.50967742, 0.54193548, 0.54193548, 0.57419355,\n",
              "        0.57419355, 0.59354839, 0.59354839, 0.68387097, 0.68387097,\n",
              "        0.69032258, 0.69032258, 0.69677419, 0.69677419, 0.70322581,\n",
              "        0.70322581, 0.73548387, 0.73548387, 0.79354839, 0.79354839,\n",
              "        0.8       , 0.8       , 0.80645161, 0.80645161, 0.85806452,\n",
              "        0.85806452, 0.86451613, 0.86451613, 0.87741935, 0.87741935,\n",
              "        0.88387097, 0.88387097, 0.89677419, 0.89677419, 0.90322581,\n",
              "        0.90322581, 0.90967742, 0.90967742, 0.91612903, 0.91612903,\n",
              "        0.92903226, 0.92903226, 0.93548387, 0.93548387, 0.94193548,\n",
              "        0.94193548, 0.9483871 , 0.9483871 , 0.95483871, 0.95483871,\n",
              "        0.96129032, 0.96129032, 0.96774194, 0.96774194, 0.97419355,\n",
              "        0.97419355, 0.98064516, 0.98064516, 0.98709677, 0.98709677,\n",
              "        0.99354839, 0.99354839, 1.        , 1.        ]),\n",
              " array([           inf, 9.99903312e-01, 9.60819585e-01, 9.60673656e-01,\n",
              "        9.42928905e-01, 9.37634035e-01, 9.35829937e-01, 9.35196941e-01,\n",
              "        9.33388706e-01, 9.31568682e-01, 9.19898462e-01, 9.18320734e-01,\n",
              "        9.08848834e-01, 9.04149376e-01, 8.68929260e-01, 8.68816110e-01,\n",
              "        8.59454363e-01, 8.57330834e-01, 7.66609556e-01, 7.56307961e-01,\n",
              "        7.47504157e-01, 7.44341554e-01, 7.38336625e-01, 7.35803961e-01,\n",
              "        7.28263642e-01, 7.19672711e-01, 6.70517119e-01, 6.64080329e-01,\n",
              "        5.97992204e-01, 5.63115004e-01, 5.61146495e-01, 5.42332260e-01,\n",
              "        5.33104469e-01, 5.18849321e-01, 4.67721242e-01, 4.66279420e-01,\n",
              "        4.53793669e-01, 4.43620311e-01, 4.30357018e-01, 4.30169935e-01,\n",
              "        4.29200970e-01, 3.96059977e-01, 3.47982821e-01, 3.34198768e-01,\n",
              "        3.28119070e-01, 3.07874692e-01, 2.95655789e-01, 2.40142099e-01,\n",
              "        2.39704326e-01, 1.97988953e-01, 1.92236077e-01, 1.72072589e-01,\n",
              "        1.68324514e-01, 1.44381585e-01, 1.41194398e-01, 1.36275906e-01,\n",
              "        1.36153807e-01, 1.15365849e-01, 1.09775834e-01, 8.42967572e-02,\n",
              "        8.34570647e-02, 8.06346852e-02, 7.91753836e-02, 6.79806651e-02,\n",
              "        6.57812599e-02, 5.99608153e-02, 5.97147719e-02, 3.54892498e-02,\n",
              "        3.28958636e-02, 1.18188476e-02, 1.14111255e-02, 1.00222414e-02,\n",
              "        9.13342692e-03, 6.15544334e-05]))"
            ]
          },
          "execution_count": 11,
          "metadata": {},
          "output_type": "execute_result"
        }
      ],
      "source": [
        "# ROC Curve 계산\n",
        "fpr, tpr, thresholds = roc_curve(y_test, y_scores)\n",
        "fpr, tpr, thresholds\n"
      ]
    },
    {
      "cell_type": "code",
      "execution_count": 12,
      "metadata": {},
      "outputs": [
        {
          "data": {
            "text/plain": [
              "0.9141713014460511"
            ]
          },
          "execution_count": 12,
          "metadata": {},
          "output_type": "execute_result"
        }
      ],
      "source": [
        "# AUC 계산\n",
        "auc_score = roc_auc_score(y_test, y_scores)\n",
        "auc_score"
      ]
    },
    {
      "cell_type": "code",
      "execution_count": 13,
      "metadata": {},
      "outputs": [
        {
          "data": {
            "application/vnd.plotly.v1+json": {
              "config": {
                "plotlyServerURL": "https://plot.ly"
              },
              "data": [
                {
                  "mode": "lines",
                  "name": "ROC Curve (AUC = 0.9142)",
                  "type": "scatter",
                  "x": {
                    "bdata": "AAAAAAAAAAAAAAAAAAAAAAAAAAAAAAAA8PjDAY8/fD/w+MMBjz98P/D4wwGPP4w/8PjDAY8/jD+0+lJBqy+VP7T6UkGrL5U/8PjDAY8/nD/w+MMBjz+cP5Z7GmG5p6E/lnsaYbmnoT+0+lJBqy+lP7T6UkGrL6U/0nmLIZ23qD/SeYshnbeoP/D4wwGPP6w/8PjDAY8/rD8OePzhgMevPw54/OGAx68/Jbs2UbJrsz8luzZRsmuzP0M6bzGk87Y/QzpvMaTztj/SeYshnbe4P9J5iyGdt7g/YbmnEZZ7uj9huacRlnu6P/D4wwGPP7w/8PjDAY8/vD9/OODxhwO+P3844PGHA74/Dnj84YDHvz8OePzhgMe/P89bDOm8xcA/z1sM6bzFwD+WexphuafBP5Z7GmG5p8E/Xpso2bWJwj9emyjZtYnCP0M6bzGk88Y/QzpvMaTzxj/SeYshnbfIP9J5iyGdt8g/Kdm1iZJdyz8p2bWJkl3LP3qLIZ23GNI/eoshnbcY0j+0+lJBqy/VP7T6UkGrL9U/fBphuacR1j98GmG5pxHWP2G5pxGWe9o/YbmnEZZ72j8M6bzFkM7bPwzpvMWQzts/Kmj1pYJW3z8qaPWlglbfP5Z7GmG5p+E/lnsaYbmn4T+IAx5/OODhP4gDHn844OE/Jbs2UbJr4z8luzZRsmvjP95iSOcthuQ/3mJI5y2G5D+amZmZmZnpP5qZmZmZmek/xpDOWwzp7D/GkM5bDOnsP7gY0nmLIe0/uBjSeYsh7T8AAAAAAADwPw==",
                    "dtype": "f8"
                  },
                  "y": {
                    "bdata": "AAAAAAAAAABtGtCmAW16P8YYY4wxxtg/xhhjjDHG2D+7HarbobrdP7sdqtuhut0/+N5777333j/43nvvvffeP2EfF/ZxYd8/YR8X9nFh3z9PcPQER0/gP09w9ARHT+A/WJF4FYlX4T9YkXgViVfhP2Cy/CXLX+I/YLL8Jctf4j/+kuUvWf7iP/6S5S9Z/uI/4lUkXkXi5T/iVSReReLlPxf2cWEfF+Y/F/ZxYR8X5j9Mlr9k+UvmP0yWv2T5S+Y/gTYNaNOA5j+BNg1o04DmP4lXkXgViec/iVeReBWJ5z9l+UuWv2TpP2X5S5a/ZOk/mpmZmZmZ6T+amZmZmZnpP84555xzzuk/zjnnnHPO6T91O1S3Q3XrP3U7VLdDdes/qtuhuh2q6z+q26G6HarrPxQcPcHRE+w/FBw9wdET7D9JvIrEq0jsP0m8isSrSOw/svwly1+y7D+y/CXLX7LsP+ecc8455+w/55xzzjnn7D8cPcHRExztPxw9wdETHO0/Ud0O1e1Q7T9R3Q7V7VDtP7sdqtuhuu0/ux2q26G67T/vvffee+/tP++999577+0/JF5F4lUk7j8kXkXiVSTuP1n+kuUvWe4/Wf6S5S9Z7j+OnuDoCY7uP46e4OgJju4/wz4u7OPC7j/DPi7s48LuP/jee++99+4/+N5777337j8tf8nylyzvPy1/yfKXLO8/YR8X9nFh7z9hHxf2cWHvP5a/ZPlLlu8/lr9k+UuW7z/LX7L8JcvvP8tfsvwly+8/AAAAAAAA8D8AAAAAAADwPw==",
                    "dtype": "f8"
                  }
                },
                {
                  "line": {
                    "dash": "dash"
                  },
                  "mode": "lines",
                  "name": "Random Classifier (AUC = 0.5)",
                  "type": "scatter",
                  "x": [
                    0,
                    1
                  ],
                  "y": [
                    0,
                    1
                  ]
                }
              ],
              "layout": {
                "template": {
                  "data": {
                    "bar": [
                      {
                        "error_x": {
                          "color": "#2a3f5f"
                        },
                        "error_y": {
                          "color": "#2a3f5f"
                        },
                        "marker": {
                          "line": {
                            "color": "#E5ECF6",
                            "width": 0.5
                          },
                          "pattern": {
                            "fillmode": "overlay",
                            "size": 10,
                            "solidity": 0.2
                          }
                        },
                        "type": "bar"
                      }
                    ],
                    "barpolar": [
                      {
                        "marker": {
                          "line": {
                            "color": "#E5ECF6",
                            "width": 0.5
                          },
                          "pattern": {
                            "fillmode": "overlay",
                            "size": 10,
                            "solidity": 0.2
                          }
                        },
                        "type": "barpolar"
                      }
                    ],
                    "carpet": [
                      {
                        "aaxis": {
                          "endlinecolor": "#2a3f5f",
                          "gridcolor": "white",
                          "linecolor": "white",
                          "minorgridcolor": "white",
                          "startlinecolor": "#2a3f5f"
                        },
                        "baxis": {
                          "endlinecolor": "#2a3f5f",
                          "gridcolor": "white",
                          "linecolor": "white",
                          "minorgridcolor": "white",
                          "startlinecolor": "#2a3f5f"
                        },
                        "type": "carpet"
                      }
                    ],
                    "choropleth": [
                      {
                        "colorbar": {
                          "outlinewidth": 0,
                          "ticks": ""
                        },
                        "type": "choropleth"
                      }
                    ],
                    "contour": [
                      {
                        "colorbar": {
                          "outlinewidth": 0,
                          "ticks": ""
                        },
                        "colorscale": [
                          [
                            0,
                            "#0d0887"
                          ],
                          [
                            0.1111111111111111,
                            "#46039f"
                          ],
                          [
                            0.2222222222222222,
                            "#7201a8"
                          ],
                          [
                            0.3333333333333333,
                            "#9c179e"
                          ],
                          [
                            0.4444444444444444,
                            "#bd3786"
                          ],
                          [
                            0.5555555555555556,
                            "#d8576b"
                          ],
                          [
                            0.6666666666666666,
                            "#ed7953"
                          ],
                          [
                            0.7777777777777778,
                            "#fb9f3a"
                          ],
                          [
                            0.8888888888888888,
                            "#fdca26"
                          ],
                          [
                            1,
                            "#f0f921"
                          ]
                        ],
                        "type": "contour"
                      }
                    ],
                    "contourcarpet": [
                      {
                        "colorbar": {
                          "outlinewidth": 0,
                          "ticks": ""
                        },
                        "type": "contourcarpet"
                      }
                    ],
                    "heatmap": [
                      {
                        "colorbar": {
                          "outlinewidth": 0,
                          "ticks": ""
                        },
                        "colorscale": [
                          [
                            0,
                            "#0d0887"
                          ],
                          [
                            0.1111111111111111,
                            "#46039f"
                          ],
                          [
                            0.2222222222222222,
                            "#7201a8"
                          ],
                          [
                            0.3333333333333333,
                            "#9c179e"
                          ],
                          [
                            0.4444444444444444,
                            "#bd3786"
                          ],
                          [
                            0.5555555555555556,
                            "#d8576b"
                          ],
                          [
                            0.6666666666666666,
                            "#ed7953"
                          ],
                          [
                            0.7777777777777778,
                            "#fb9f3a"
                          ],
                          [
                            0.8888888888888888,
                            "#fdca26"
                          ],
                          [
                            1,
                            "#f0f921"
                          ]
                        ],
                        "type": "heatmap"
                      }
                    ],
                    "histogram": [
                      {
                        "marker": {
                          "pattern": {
                            "fillmode": "overlay",
                            "size": 10,
                            "solidity": 0.2
                          }
                        },
                        "type": "histogram"
                      }
                    ],
                    "histogram2d": [
                      {
                        "colorbar": {
                          "outlinewidth": 0,
                          "ticks": ""
                        },
                        "colorscale": [
                          [
                            0,
                            "#0d0887"
                          ],
                          [
                            0.1111111111111111,
                            "#46039f"
                          ],
                          [
                            0.2222222222222222,
                            "#7201a8"
                          ],
                          [
                            0.3333333333333333,
                            "#9c179e"
                          ],
                          [
                            0.4444444444444444,
                            "#bd3786"
                          ],
                          [
                            0.5555555555555556,
                            "#d8576b"
                          ],
                          [
                            0.6666666666666666,
                            "#ed7953"
                          ],
                          [
                            0.7777777777777778,
                            "#fb9f3a"
                          ],
                          [
                            0.8888888888888888,
                            "#fdca26"
                          ],
                          [
                            1,
                            "#f0f921"
                          ]
                        ],
                        "type": "histogram2d"
                      }
                    ],
                    "histogram2dcontour": [
                      {
                        "colorbar": {
                          "outlinewidth": 0,
                          "ticks": ""
                        },
                        "colorscale": [
                          [
                            0,
                            "#0d0887"
                          ],
                          [
                            0.1111111111111111,
                            "#46039f"
                          ],
                          [
                            0.2222222222222222,
                            "#7201a8"
                          ],
                          [
                            0.3333333333333333,
                            "#9c179e"
                          ],
                          [
                            0.4444444444444444,
                            "#bd3786"
                          ],
                          [
                            0.5555555555555556,
                            "#d8576b"
                          ],
                          [
                            0.6666666666666666,
                            "#ed7953"
                          ],
                          [
                            0.7777777777777778,
                            "#fb9f3a"
                          ],
                          [
                            0.8888888888888888,
                            "#fdca26"
                          ],
                          [
                            1,
                            "#f0f921"
                          ]
                        ],
                        "type": "histogram2dcontour"
                      }
                    ],
                    "mesh3d": [
                      {
                        "colorbar": {
                          "outlinewidth": 0,
                          "ticks": ""
                        },
                        "type": "mesh3d"
                      }
                    ],
                    "parcoords": [
                      {
                        "line": {
                          "colorbar": {
                            "outlinewidth": 0,
                            "ticks": ""
                          }
                        },
                        "type": "parcoords"
                      }
                    ],
                    "pie": [
                      {
                        "automargin": true,
                        "type": "pie"
                      }
                    ],
                    "scatter": [
                      {
                        "fillpattern": {
                          "fillmode": "overlay",
                          "size": 10,
                          "solidity": 0.2
                        },
                        "type": "scatter"
                      }
                    ],
                    "scatter3d": [
                      {
                        "line": {
                          "colorbar": {
                            "outlinewidth": 0,
                            "ticks": ""
                          }
                        },
                        "marker": {
                          "colorbar": {
                            "outlinewidth": 0,
                            "ticks": ""
                          }
                        },
                        "type": "scatter3d"
                      }
                    ],
                    "scattercarpet": [
                      {
                        "marker": {
                          "colorbar": {
                            "outlinewidth": 0,
                            "ticks": ""
                          }
                        },
                        "type": "scattercarpet"
                      }
                    ],
                    "scattergeo": [
                      {
                        "marker": {
                          "colorbar": {
                            "outlinewidth": 0,
                            "ticks": ""
                          }
                        },
                        "type": "scattergeo"
                      }
                    ],
                    "scattergl": [
                      {
                        "marker": {
                          "colorbar": {
                            "outlinewidth": 0,
                            "ticks": ""
                          }
                        },
                        "type": "scattergl"
                      }
                    ],
                    "scattermap": [
                      {
                        "marker": {
                          "colorbar": {
                            "outlinewidth": 0,
                            "ticks": ""
                          }
                        },
                        "type": "scattermap"
                      }
                    ],
                    "scattermapbox": [
                      {
                        "marker": {
                          "colorbar": {
                            "outlinewidth": 0,
                            "ticks": ""
                          }
                        },
                        "type": "scattermapbox"
                      }
                    ],
                    "scatterpolar": [
                      {
                        "marker": {
                          "colorbar": {
                            "outlinewidth": 0,
                            "ticks": ""
                          }
                        },
                        "type": "scatterpolar"
                      }
                    ],
                    "scatterpolargl": [
                      {
                        "marker": {
                          "colorbar": {
                            "outlinewidth": 0,
                            "ticks": ""
                          }
                        },
                        "type": "scatterpolargl"
                      }
                    ],
                    "scatterternary": [
                      {
                        "marker": {
                          "colorbar": {
                            "outlinewidth": 0,
                            "ticks": ""
                          }
                        },
                        "type": "scatterternary"
                      }
                    ],
                    "surface": [
                      {
                        "colorbar": {
                          "outlinewidth": 0,
                          "ticks": ""
                        },
                        "colorscale": [
                          [
                            0,
                            "#0d0887"
                          ],
                          [
                            0.1111111111111111,
                            "#46039f"
                          ],
                          [
                            0.2222222222222222,
                            "#7201a8"
                          ],
                          [
                            0.3333333333333333,
                            "#9c179e"
                          ],
                          [
                            0.4444444444444444,
                            "#bd3786"
                          ],
                          [
                            0.5555555555555556,
                            "#d8576b"
                          ],
                          [
                            0.6666666666666666,
                            "#ed7953"
                          ],
                          [
                            0.7777777777777778,
                            "#fb9f3a"
                          ],
                          [
                            0.8888888888888888,
                            "#fdca26"
                          ],
                          [
                            1,
                            "#f0f921"
                          ]
                        ],
                        "type": "surface"
                      }
                    ],
                    "table": [
                      {
                        "cells": {
                          "fill": {
                            "color": "#EBF0F8"
                          },
                          "line": {
                            "color": "white"
                          }
                        },
                        "header": {
                          "fill": {
                            "color": "#C8D4E3"
                          },
                          "line": {
                            "color": "white"
                          }
                        },
                        "type": "table"
                      }
                    ]
                  },
                  "layout": {
                    "annotationdefaults": {
                      "arrowcolor": "#2a3f5f",
                      "arrowhead": 0,
                      "arrowwidth": 1
                    },
                    "autotypenumbers": "strict",
                    "coloraxis": {
                      "colorbar": {
                        "outlinewidth": 0,
                        "ticks": ""
                      }
                    },
                    "colorscale": {
                      "diverging": [
                        [
                          0,
                          "#8e0152"
                        ],
                        [
                          0.1,
                          "#c51b7d"
                        ],
                        [
                          0.2,
                          "#de77ae"
                        ],
                        [
                          0.3,
                          "#f1b6da"
                        ],
                        [
                          0.4,
                          "#fde0ef"
                        ],
                        [
                          0.5,
                          "#f7f7f7"
                        ],
                        [
                          0.6,
                          "#e6f5d0"
                        ],
                        [
                          0.7,
                          "#b8e186"
                        ],
                        [
                          0.8,
                          "#7fbc41"
                        ],
                        [
                          0.9,
                          "#4d9221"
                        ],
                        [
                          1,
                          "#276419"
                        ]
                      ],
                      "sequential": [
                        [
                          0,
                          "#0d0887"
                        ],
                        [
                          0.1111111111111111,
                          "#46039f"
                        ],
                        [
                          0.2222222222222222,
                          "#7201a8"
                        ],
                        [
                          0.3333333333333333,
                          "#9c179e"
                        ],
                        [
                          0.4444444444444444,
                          "#bd3786"
                        ],
                        [
                          0.5555555555555556,
                          "#d8576b"
                        ],
                        [
                          0.6666666666666666,
                          "#ed7953"
                        ],
                        [
                          0.7777777777777778,
                          "#fb9f3a"
                        ],
                        [
                          0.8888888888888888,
                          "#fdca26"
                        ],
                        [
                          1,
                          "#f0f921"
                        ]
                      ],
                      "sequentialminus": [
                        [
                          0,
                          "#0d0887"
                        ],
                        [
                          0.1111111111111111,
                          "#46039f"
                        ],
                        [
                          0.2222222222222222,
                          "#7201a8"
                        ],
                        [
                          0.3333333333333333,
                          "#9c179e"
                        ],
                        [
                          0.4444444444444444,
                          "#bd3786"
                        ],
                        [
                          0.5555555555555556,
                          "#d8576b"
                        ],
                        [
                          0.6666666666666666,
                          "#ed7953"
                        ],
                        [
                          0.7777777777777778,
                          "#fb9f3a"
                        ],
                        [
                          0.8888888888888888,
                          "#fdca26"
                        ],
                        [
                          1,
                          "#f0f921"
                        ]
                      ]
                    },
                    "colorway": [
                      "#636efa",
                      "#EF553B",
                      "#00cc96",
                      "#ab63fa",
                      "#FFA15A",
                      "#19d3f3",
                      "#FF6692",
                      "#B6E880",
                      "#FF97FF",
                      "#FECB52"
                    ],
                    "font": {
                      "color": "#2a3f5f"
                    },
                    "geo": {
                      "bgcolor": "white",
                      "lakecolor": "white",
                      "landcolor": "#E5ECF6",
                      "showlakes": true,
                      "showland": true,
                      "subunitcolor": "white"
                    },
                    "hoverlabel": {
                      "align": "left"
                    },
                    "hovermode": "closest",
                    "mapbox": {
                      "style": "light"
                    },
                    "paper_bgcolor": "white",
                    "plot_bgcolor": "#E5ECF6",
                    "polar": {
                      "angularaxis": {
                        "gridcolor": "white",
                        "linecolor": "white",
                        "ticks": ""
                      },
                      "bgcolor": "#E5ECF6",
                      "radialaxis": {
                        "gridcolor": "white",
                        "linecolor": "white",
                        "ticks": ""
                      }
                    },
                    "scene": {
                      "xaxis": {
                        "backgroundcolor": "#E5ECF6",
                        "gridcolor": "white",
                        "gridwidth": 2,
                        "linecolor": "white",
                        "showbackground": true,
                        "ticks": "",
                        "zerolinecolor": "white"
                      },
                      "yaxis": {
                        "backgroundcolor": "#E5ECF6",
                        "gridcolor": "white",
                        "gridwidth": 2,
                        "linecolor": "white",
                        "showbackground": true,
                        "ticks": "",
                        "zerolinecolor": "white"
                      },
                      "zaxis": {
                        "backgroundcolor": "#E5ECF6",
                        "gridcolor": "white",
                        "gridwidth": 2,
                        "linecolor": "white",
                        "showbackground": true,
                        "ticks": "",
                        "zerolinecolor": "white"
                      }
                    },
                    "shapedefaults": {
                      "line": {
                        "color": "#2a3f5f"
                      }
                    },
                    "ternary": {
                      "aaxis": {
                        "gridcolor": "white",
                        "linecolor": "white",
                        "ticks": ""
                      },
                      "baxis": {
                        "gridcolor": "white",
                        "linecolor": "white",
                        "ticks": ""
                      },
                      "bgcolor": "#E5ECF6",
                      "caxis": {
                        "gridcolor": "white",
                        "linecolor": "white",
                        "ticks": ""
                      }
                    },
                    "title": {
                      "x": 0.05
                    },
                    "xaxis": {
                      "automargin": true,
                      "gridcolor": "white",
                      "linecolor": "white",
                      "ticks": "",
                      "title": {
                        "standoff": 15
                      },
                      "zerolinecolor": "white",
                      "zerolinewidth": 2
                    },
                    "yaxis": {
                      "automargin": true,
                      "gridcolor": "white",
                      "linecolor": "white",
                      "ticks": "",
                      "title": {
                        "standoff": 15
                      },
                      "zerolinecolor": "white",
                      "zerolinewidth": 2
                    }
                  }
                },
                "title": {
                  "text": "ROC Curve"
                },
                "xaxis": {
                  "title": {
                    "text": "False Positive Rate (FPR)"
                  }
                },
                "yaxis": {
                  "title": {
                    "text": "True Positive Rate (TPR)"
                  }
                }
              }
            }
          },
          "metadata": {},
          "output_type": "display_data"
        },
        {
          "name": "stdout",
          "output_type": "stream",
          "text": [
            "모델의 AUC 점수: 0.9142\n"
          ]
        }
      ],
      "source": [
        "# ROC Curve 시각화 (Plotly)\n",
        "fig = go.Figure()\n",
        "# ROC Curve\n",
        "fig.add_trace(go.Scatter(x=fpr, y=tpr,\n",
        "                         mode='lines',\n",
        "                         name=f'ROC Curve (AUC = {auc_score:.4f})'))\n",
        "# Random Classifier Line\n",
        "fig.add_trace(go.Scatter(x=[0, 1], y=[0, 1],\n",
        "                         mode='lines',\n",
        "                         name='Random Classifier (AUC = 0.5)',\n",
        "                         line=dict(dash='dash')))\n",
        "fig.update_layout(title='ROC Curve',\n",
        "                  xaxis_title='False Positive Rate (FPR)',\n",
        "                  yaxis_title='True Positive Rate (TPR)')\n",
        "fig.show()\n",
        "\n",
        "print(f\"모델의 AUC 점수: {auc_score:.4f}\")"
      ]
    },
    {
      "cell_type": "markdown",
      "metadata": {
        "id": "8AD-S3Xi1ukT"
      },
      "source": [
        "#### ✏️ 연습문제 6\n",
        "\n",
        "두 개의 고객 이탈 예측 모델 A와 B를 평가한 결과, 다음과 같은 AUC 점수를 얻었습니다.\n",
        "\n",
        "  * 모델 A의 AUC = 0.92\n",
        "  * 모델 B의 AUC = 0.78\n",
        "\n",
        "어떤 모델의 전반적인 성능이 더 우수하다고 판단할 수 있으며, 그 이유는 무엇인가요?"
      ]
    }
  ],
  "metadata": {
    "colab": {
      "provenance": []
    },
    "kernelspec": {
      "display_name": ".venv",
      "language": "python",
      "name": "python3"
    },
    "language_info": {
      "codemirror_mode": {
        "name": "ipython",
        "version": 3
      },
      "file_extension": ".py",
      "mimetype": "text/x-python",
      "name": "python",
      "nbconvert_exporter": "python",
      "pygments_lexer": "ipython3",
      "version": "3.12.9"
    }
  },
  "nbformat": 4,
  "nbformat_minor": 0
}
