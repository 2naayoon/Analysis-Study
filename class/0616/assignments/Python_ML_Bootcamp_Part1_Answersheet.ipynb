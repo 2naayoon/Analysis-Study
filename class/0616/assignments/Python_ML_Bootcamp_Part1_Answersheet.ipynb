{
  "cells": [
    {
      "cell_type": "markdown",
      "metadata": {},
      "source": [
        "## 🔑 Part 1 연습문제 정답지"
      ]
    },
    {
      "cell_type": "code",
      "execution_count": null,
      "metadata": {},
      "outputs": [],
      "source": [
        "from sklearn.preprocessing import PolynomialFeatures\n",
        "from sklearn.linear_model import LinearRegression\n",
        "from sklearn.metrics import mean_squared_error\n",
        "from sklearn.pipeline import make_pipeline\n",
        "from sklearn.model_selection import train_test_split\n",
        "from sklearn.pipeline import Pipeline\n",
        "from sklearn.impute import SimpleImputer\n",
        "from sklearn.preprocessing import StandardScaler, OneHotEncoder\n",
        "from sklearn.compose import ColumnTransformer\n",
        "import numpy as np\n",
        "import pandas as pd\n",
        "import plotly.express as px\n",
        "import plotly.graph_objects as go\n",
        "from sklearn.metrics import r2_score"
      ]
    },
    {
      "cell_type": "code",
      "execution_count": null,
      "metadata": {},
      "outputs": [],
      "source": [
        "# 데이터 로드\n",
        "# 보스턴 주택 가격 데이터셋 생성 (실제 보스턴 데이터셋 대신 시뮬레이션)\n",
        "np.random.seed(42)\n",
        "n_samples = 506\n",
        "\n",
        "# 특성 생성\n",
        "data = {\n",
        "    'LotArea': np.random.normal(10000, 3000, n_samples),\n",
        "    'OverallQual': np.random.randint(1, 11, n_samples),\n",
        "    'BldgType': np.random.choice(['1Fam', '2fmCon', 'Duplex', 'TwnhsE', 'Twnhs'], n_samples),\n",
        "    'Neighborhood': np.random.choice(['CollgCr', 'Veenker', 'Crawfor', 'NoRidge', 'Mitchel', 'Somerst', 'NWAmes'], n_samples)\n",
        "}\n",
        "\n",
        "# 타겟 변수 생성 (주택 가격)\n",
        "price = (data['LotArea'] * 0.01 + \n",
        "         data['OverallQual'] * 15000 + \n",
        "         np.random.normal(0, 10000, n_samples))\n",
        "\n",
        "df = pd.DataFrame(data)\n",
        "df['SalePrice'] = np.maximum(price, 50000)  # 최소 가격 설정\n",
        "\n",
        "# 일부 결측치 추가\n",
        "missing_indices = np.random.choice(df.index, size=int(0.1 * len(df)), replace=False)\n",
        "df.loc[missing_indices[:len(missing_indices)//2], 'LotArea'] = np.nan\n",
        "df.loc[missing_indices[len(missing_indices)//2:], 'BldgType'] = np.nan\n",
        "\n",
        "print(\"데이터셋 정보:\")\n",
        "print(df.info())\n",
        "print(\"\\n처음 5행:\")\n",
        "print(df.head())\n",
        "\n",
        "# 특성과 타겟 분리\n",
        "X = df.drop('SalePrice', axis=1)\n",
        "y = df['SalePrice']\n",
        "\n",
        "# 훈련/테스트 데이터 분할\n",
        "X_train, X_test, y_train, y_test = train_test_split(X, y, test_size=0.2, random_state=42)\n",
        "\n",
        "print(f\"\\n훈련 데이터 크기: {X_train.shape}\")\n",
        "print(f\"테스트 데이터 크기: {X_test.shape}\")\n",
        "\n",
        "# 기본 전처리 파이프라인 설정\n",
        "numeric_transformer = Pipeline(steps=[\n",
        "    ('imputer', SimpleImputer(strategy='mean')),\n",
        "    ('scaler', StandardScaler())])\n",
        "\n",
        "categorical_transformer = Pipeline(steps=[\n",
        "    ('imputer', SimpleImputer(strategy='constant', fill_value='missing')),\n",
        "    ('onehot', OneHotEncoder(handle_unknown='ignore'))])\n",
        "\n",
        "preprocessor = ColumnTransformer(\n",
        "    transformers=[\n",
        "        ('num', numeric_transformer, numeric_features),\n",
        "        ('cat', categorical_transformer, categorical_features)])\n",
        "\n",
        "# 기본 모델 파이프라인\n",
        "model_pipeline = Pipeline(steps=[('preprocessor', preprocessor),\n",
        "                                ('regressor', LinearRegression())])\n",
        "\n",
        "print(\"\\n기본 파이프라인이 설정되었습니다.\")\n"
      ]
    },
    {
      "cell_type": "code",
      "execution_count": null,
      "metadata": {},
      "outputs": [],
      "source": [
        "numeric_features = ['LotArea', 'OverallQual']\n",
        "categorical_features = ['BldgType', 'Neighborhood']"
      ]
    },
    {
      "cell_type": "markdown",
      "metadata": {},
      "source": [
        "\n",
        "### 1.3 연습 문제 정답 보기\n",
        "\n",
        "1.  **Imputer 전략 변경**"
      ]
    },
    {
      "cell_type": "code",
      "execution_count": null,
      "metadata": {
        "id": "drHNFIDFmVHp"
      },
      "outputs": [],
      "source": [
        "# 수치형: median\n",
        "numeric_transformer_median = Pipeline(steps=[\n",
        "    ('imputer', SimpleImputer(strategy='median')),\n",
        "    ('scaler', StandardScaler())])\n",
        "\n",
        "# 범주형: most_frequent\n",
        "categorical_transformer_freq = Pipeline(steps=[\n",
        "    ('imputer', SimpleImputer(strategy='most_frequent')),\n",
        "    ('onehot', OneHotEncoder(handle_unknown='ignore'))])\n",
        "\n",
        "preprocessor_new = ColumnTransformer(\n",
        "    transformers=[\n",
        "        ('num', numeric_transformer_median, numeric_features),\n",
        "        ('cat', categorical_transformer_freq, categorical_features)])\n",
        "\n",
        "model_pipeline_new = Pipeline(steps=[('preprocessor', preprocessor_new),\n",
        "                                      ('regressor', LinearRegression())])\n",
        "model_pipeline_new.fit(X_train, y_train)\n",
        "# 이후 예측 및 평가는 동일"
      ]
    },
    {
      "cell_type": "markdown",
      "metadata": {
        "id": "PHnGdDMHmVHp"
      },
      "source": [
        "2.  **Ridge 모델 파이프라인**"
      ]
    },
    {
      "cell_type": "code",
      "execution_count": null,
      "metadata": {
        "id": "gAAooAP0mVHp"
      },
      "outputs": [],
      "source": [
        "from sklearn.linear_model import Ridge\n",
        "\n",
        "ridge_pipeline = Pipeline(steps=[\n",
        "    ('preprocessor', preprocessor), # 기존 preprocessor 재사용\n",
        "    ('regressor', Ridge(alpha=1.0)) # Ridge 모델로 교체\n",
        "])\n",
        "ridge_pipeline.fit(X_train, y_train)"
      ]
    },
    {
      "cell_type": "markdown",
      "metadata": {
        "id": "yKxIEBXAmVHq"
      },
      "source": [
        "\n",
        "### 2.3 연습 문제 정답 보기\n",
        "\n",
        "1.  **LSTAT 변수 사용**"
      ]
    },
    {
      "cell_type": "code",
      "execution_count": null,
      "metadata": {
        "id": "czvKiextmVHq"
      },
      "outputs": [],
      "source": [
        "# Ames Housing 데이터셋의 실제 컬럼명 사용\n",
        "X_lstat = df[['LotArea']]  # 또는 적절한 면적 관련 변수\n",
        "y = df['SalePrice']\n",
        "X_train, X_test, y_train, y_test = train_test_split(X_lstat, y, test_size=0.3, random_state=42)\n",
        "\n",
        "lr_lstat = LinearRegression().fit(X_train, y_train)\n",
        "y_pred_lstat = lr_lstat.predict(X_test)\n",
        "print(f\"LotArea 모델 R-squared: {r2_score(y_test, y_pred_lstat):.4f}\")\n",
        "# GrLivArea 모델의 R-squared와 비교하여 성능을 확인할 수 있습니다.\n",
        "# 실제 Ames Housing 데이터셋에서는 GrLivArea가 더 강한 예측력을 보일 가능성이 높습니다."
      ]
    },
    {
      "cell_type": "markdown",
      "metadata": {
        "id": "m-_EJwV_mVHq"
      },
      "source": [
        "2.  **LSTAT 계수 해석**\n",
        "    계수는 음수가 나옵니다 (`lr_lstat.coef_[0]` 확인 시 약 -0.9 \\~ -1.0). 이는 저소득층 비율(`LSTAT`)이 높을수록 주택 가격(`SalePrice`)은 낮아지는 경향이 있음을 의미하며, 이는 상식적으로 타당한 해석입니다.\n",
        "\n",
        "### 3.3 연습 문제 정답 보기\n",
        "\n",
        "1.  **NOX 변수 추가**"
      ]
    },
    {
      "cell_type": "code",
      "execution_count": null,
      "metadata": {
        "id": "z0FZO6eEmVHq"
      },
      "outputs": [],
      "source": [
        "features_new = ['GrLivArea', 'CRIM', 'PTRATIO', 'BsmtFinSF1']\n",
        "X_multi_new = df[features_new]\n",
        "# ... (이하 train_test_split, fit, predict, score 과정은 동일) ...\n",
        "# R-squared 값이 기존보다 소폭 상승하는 것을 확인할 수 있습니다."
      ]
    },
    {
      "cell_type": "markdown",
      "metadata": {
        "id": "JssggtVxmVHq"
      },
      "source": [
        "2.  **계수 값이 변하는 이유**\n",
        "    다중 회귀에서 각 변수의 계수는 **'다른 변수들이 통제(고정)되었을 때'** 의 순수한 영향력을 의미합니다. \n",
        "    \n",
        "    단순 회귀에서의 `GrLivArea` 계수는 다른 변수(범죄율, 학생-교사 비율 등)와 `GrLivArea` 간의 숨겨진 관계까지 모두 포함된 값이었습니다. \n",
        "    \n",
        "    예를 들어, 방 개수가 많은 지역은 범죄율이 낮은 경향이 있을 수 있습니다. \n",
        "    \n",
        "    다중 회귀에서는 이러한 다른 변수들의 효과를 분리하여 `GrLivArea`만의 영향력을 추정하기 때문에 계수 값이 달라집니다."
      ]
    },
    {
      "cell_type": "markdown",
      "metadata": {},
      "source": [
        "\n",
        "### 4.3 연습 문제 정답 보기\n",
        "\n",
        "1.  **Degree 3 모델 비교**"
      ]
    },
    {
      "cell_type": "code",
      "execution_count": null,
      "metadata": {
        "id": "dcXjxWjwmVHq"
      },
      "outputs": [],
      "source": [
        "# Degree 3 모델 생성\n",
        "poly_reg_3 = make_pipeline(PolynomialFeatures(degree=3), LinearRegression())\n",
        "poly_reg_3.fit(X_train, y_train)\n",
        "test_rmse_3 = np.sqrt(mean_squared_error(y_test, poly_reg_3.predict(X_test)))\n",
        "print(f\"Degree 3 Test RMSE: {test_rmse_3:.2f}\")\n",
        "# Degree 2 모델보다 Test RMSE가 약간 낮아져 성능이 개선될 수 있습니다.\n",
        "# 하지만 Degree 10 보다는 훨씬 좋은 성능을 보입니다."
      ]
    },
    {
      "cell_type": "markdown",
      "metadata": {
        "id": "go7Q9JdomVHq"
      },
      "source": [
        "2.  **차수별 RMSE 그래프**"
      ]
    },
    {
      "cell_type": "code",
      "execution_count": null,
      "metadata": {
        "id": "gNrS7FoXmVHq"
      },
      "outputs": [],
      "source": [
        "train_rmse_list = []\n",
        "test_rmse_list = []\n",
        "degree_range = range(1, 16)\n",
        "\n",
        "for degree in degree_range:\n",
        "    model = make_pipeline(PolynomialFeatures(degree=degree), LinearRegression())\n",
        "    model.fit(X_train, y_train)\n",
        "\n",
        "    train_rmse = np.sqrt(mean_squared_error(y_train, model.predict(X_train)))\n",
        "    test_rmse = np.sqrt(mean_squared_error(y_test, model.predict(X_test)))\n",
        "\n",
        "    train_rmse_list.append(train_rmse)\n",
        "    test_rmse_list.append(test_rmse)\n",
        "\n",
        "# Plotly로 시각화\n",
        "fig = go.Figure()\n",
        "fig.add_trace(go.Scatter(x=list(degree_range), y=train_rmse_list, mode='lines+markers', name='Train RMSE'))\n",
        "fig.add_trace(go.Scatter(x=list(degree_range), y=test_rmse_list, mode='lines+markers', name='Test RMSE'))\n",
        "fig.update_layout(title='차수에 따른 RMSE 변화', xaxis_title='Degree', yaxis_title='RMSE', template='plotly_white')\n",
        "fig.show()\n",
        "# 그래프를 보면, Train RMSE는 차수가 높아질수록 계속 감소하지만,\n",
        "# Test RMSE는 특정 지점(대략 3~5)에서 최저점을 찍고 다시 증가하는 것을 볼 수 있습니다.\n",
        "# 이 지점이 과적합이 시작되는 구간입니다."
      ]
    }
  ],
  "metadata": {
    "colab": {
      "provenance": []
    },
    "kernelspec": {
      "display_name": ".venv",
      "language": "python",
      "name": "python3"
    },
    "language_info": {
      "codemirror_mode": {
        "name": "ipython",
        "version": 3
      },
      "file_extension": ".py",
      "mimetype": "text/x-python",
      "name": "python",
      "nbconvert_exporter": "python",
      "pygments_lexer": "ipython3",
      "version": "3.12.9"
    }
  },
  "nbformat": 4,
  "nbformat_minor": 0
}
