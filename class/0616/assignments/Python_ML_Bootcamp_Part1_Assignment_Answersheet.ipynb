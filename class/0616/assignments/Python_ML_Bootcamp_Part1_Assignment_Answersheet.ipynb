{
 "cells": [
  {
   "cell_type": "markdown",
   "metadata": {},
   "source": [
    "# Lab #1 (Part 1): Ames 주택 가격 예측 실습 과제\n",
    "\n",
    "이 과제에서는 오늘 배운 `Pipeline`, `ColumnTransformer`, 그리고 다양한 회귀 모델을 종합적으로 활용하여 Ames Housing 데이터셋의 주택 가격을 예측하는 전체 머신러닝 워크플로를 경험합니다.\n",
    "\n",
    "### 🎯 학습 목표\n",
    "\n",
    "1.  다양한 타입의 특성(수치형, 범주형)을 식별하고 적절한 전처리 전략을 수립할 수 있다.\n",
    "2.  `ColumnTransformer`와 `Pipeline`을 사용하여 전처리 및 모델링 과정을 하나의 워크플로로 묶을 수 있다.\n",
    "3.  선형 회귀와 다항 회귀 모델을 구축하고, 그 성능을 비교/분석할 수 있다.\n",
    "4.  모델의 예측 성능을 R-squared와 RMSE 지표로 평가하고 해석할 수 있다."
   ]
  },
  {
   "cell_type": "markdown",
   "metadata": {},
   "source": [
    "---"
   ]
  },
  {
   "cell_type": "markdown",
   "metadata": {},
   "source": [
    "### 📜 Step 1: 데이터 로드 및 기본 탐색\n",
    "\n",
    "Kaggle의 Ames Housing 데이터셋을 불러옵니다. 이 데이터셋은 실제 주택 판매 데이터를 담고 있으며, 매우 다양한 특성을 포함하고 있습니다. 여기서는 실습의 편의를 위해 일부 특성만 선택하여 사용합니다."
   ]
  },
  {
   "cell_type": "code",
   "execution_count": 1,
   "metadata": {},
   "outputs": [],
   "source": [
    "import pandas as pd\n",
    "import numpy as np\n",
    "from sklearn.datasets import fetch_openml\n",
    "# 데이터셋 URL\n",
    "\n",
    "housing = fetch_openml(name=\"house_prices\", as_frame=True)\n",
    "df = housing.data.join(housing.target)"
   ]
  },
  {
   "cell_type": "code",
   "execution_count": 2,
   "metadata": {},
   "outputs": [
    {
     "name": "stdout",
     "output_type": "stream",
     "text": [
      "데이터 정보:\n",
      "<class 'pandas.core.frame.DataFrame'>\n",
      "RangeIndex: 1460 entries, 0 to 1459\n",
      "Data columns (total 12 columns):\n",
      " #   Column        Non-Null Count  Dtype \n",
      "---  ------        --------------  ----- \n",
      " 0   LotArea       1460 non-null   int64 \n",
      " 1   OverallQual   1460 non-null   int64 \n",
      " 2   OverallCond   1460 non-null   int64 \n",
      " 3   YearBuilt     1460 non-null   int64 \n",
      " 4   TotalBsmtSF   1460 non-null   int64 \n",
      " 5   GrLivArea     1460 non-null   int64 \n",
      " 6   MSZoning      1460 non-null   object\n",
      " 7   Street        1460 non-null   object\n",
      " 8   BldgType      1460 non-null   object\n",
      " 9   HouseStyle    1460 non-null   object\n",
      " 10  Neighborhood  1460 non-null   object\n",
      " 11  SalePrice     1460 non-null   int64 \n",
      "dtypes: int64(7), object(5)\n",
      "memory usage: 137.0+ KB\n",
      "\n",
      "결측치 개수:\n",
      "LotArea         0\n",
      "OverallQual     0\n",
      "OverallCond     0\n",
      "YearBuilt       0\n",
      "TotalBsmtSF     0\n",
      "GrLivArea       0\n",
      "MSZoning        0\n",
      "Street          0\n",
      "BldgType        0\n",
      "HouseStyle      0\n",
      "Neighborhood    0\n",
      "SalePrice       0\n",
      "dtype: int64\n"
     ]
    },
    {
     "data": {
      "text/html": [
       "<div>\n",
       "<style scoped>\n",
       "    .dataframe tbody tr th:only-of-type {\n",
       "        vertical-align: middle;\n",
       "    }\n",
       "\n",
       "    .dataframe tbody tr th {\n",
       "        vertical-align: top;\n",
       "    }\n",
       "\n",
       "    .dataframe thead th {\n",
       "        text-align: right;\n",
       "    }\n",
       "</style>\n",
       "<table border=\"1\" class=\"dataframe\">\n",
       "  <thead>\n",
       "    <tr style=\"text-align: right;\">\n",
       "      <th></th>\n",
       "      <th>LotArea</th>\n",
       "      <th>OverallQual</th>\n",
       "      <th>OverallCond</th>\n",
       "      <th>YearBuilt</th>\n",
       "      <th>TotalBsmtSF</th>\n",
       "      <th>GrLivArea</th>\n",
       "      <th>MSZoning</th>\n",
       "      <th>Street</th>\n",
       "      <th>BldgType</th>\n",
       "      <th>HouseStyle</th>\n",
       "      <th>Neighborhood</th>\n",
       "      <th>SalePrice</th>\n",
       "    </tr>\n",
       "  </thead>\n",
       "  <tbody>\n",
       "    <tr>\n",
       "      <th>0</th>\n",
       "      <td>8450</td>\n",
       "      <td>7</td>\n",
       "      <td>5</td>\n",
       "      <td>2003</td>\n",
       "      <td>856</td>\n",
       "      <td>1710</td>\n",
       "      <td>RL</td>\n",
       "      <td>Pave</td>\n",
       "      <td>1Fam</td>\n",
       "      <td>2Story</td>\n",
       "      <td>CollgCr</td>\n",
       "      <td>208500</td>\n",
       "    </tr>\n",
       "    <tr>\n",
       "      <th>1</th>\n",
       "      <td>9600</td>\n",
       "      <td>6</td>\n",
       "      <td>8</td>\n",
       "      <td>1976</td>\n",
       "      <td>1262</td>\n",
       "      <td>1262</td>\n",
       "      <td>RL</td>\n",
       "      <td>Pave</td>\n",
       "      <td>1Fam</td>\n",
       "      <td>1Story</td>\n",
       "      <td>Veenker</td>\n",
       "      <td>181500</td>\n",
       "    </tr>\n",
       "    <tr>\n",
       "      <th>2</th>\n",
       "      <td>11250</td>\n",
       "      <td>7</td>\n",
       "      <td>5</td>\n",
       "      <td>2001</td>\n",
       "      <td>920</td>\n",
       "      <td>1786</td>\n",
       "      <td>RL</td>\n",
       "      <td>Pave</td>\n",
       "      <td>1Fam</td>\n",
       "      <td>2Story</td>\n",
       "      <td>CollgCr</td>\n",
       "      <td>223500</td>\n",
       "    </tr>\n",
       "    <tr>\n",
       "      <th>3</th>\n",
       "      <td>9550</td>\n",
       "      <td>7</td>\n",
       "      <td>5</td>\n",
       "      <td>1915</td>\n",
       "      <td>756</td>\n",
       "      <td>1717</td>\n",
       "      <td>RL</td>\n",
       "      <td>Pave</td>\n",
       "      <td>1Fam</td>\n",
       "      <td>2Story</td>\n",
       "      <td>Crawfor</td>\n",
       "      <td>140000</td>\n",
       "    </tr>\n",
       "    <tr>\n",
       "      <th>4</th>\n",
       "      <td>14260</td>\n",
       "      <td>8</td>\n",
       "      <td>5</td>\n",
       "      <td>2000</td>\n",
       "      <td>1145</td>\n",
       "      <td>2198</td>\n",
       "      <td>RL</td>\n",
       "      <td>Pave</td>\n",
       "      <td>1Fam</td>\n",
       "      <td>2Story</td>\n",
       "      <td>NoRidge</td>\n",
       "      <td>250000</td>\n",
       "    </tr>\n",
       "  </tbody>\n",
       "</table>\n",
       "</div>"
      ],
      "text/plain": [
       "   LotArea  OverallQual  OverallCond  YearBuilt  TotalBsmtSF  GrLivArea  \\\n",
       "0     8450            7            5       2003          856       1710   \n",
       "1     9600            6            8       1976         1262       1262   \n",
       "2    11250            7            5       2001          920       1786   \n",
       "3     9550            7            5       1915          756       1717   \n",
       "4    14260            8            5       2000         1145       2198   \n",
       "\n",
       "  MSZoning Street BldgType HouseStyle Neighborhood  SalePrice  \n",
       "0       RL   Pave     1Fam     2Story      CollgCr     208500  \n",
       "1       RL   Pave     1Fam     1Story      Veenker     181500  \n",
       "2       RL   Pave     1Fam     2Story      CollgCr     223500  \n",
       "3       RL   Pave     1Fam     2Story      Crawfor     140000  \n",
       "4       RL   Pave     1Fam     2Story      NoRidge     250000  "
      ]
     },
     "execution_count": 2,
     "metadata": {},
     "output_type": "execute_result"
    }
   ],
   "source": [
    "\n",
    "# 실습에 사용할 특성 선택\n",
    "use_cols = [\n",
    "    'LotArea', 'OverallQual', 'OverallCond', 'YearBuilt', 'TotalBsmtSF', 'GrLivArea', # 수치형\n",
    "    'MSZoning', 'Street', 'BldgType', 'HouseStyle', 'Neighborhood', # 범주형\n",
    "    'SalePrice' # 타겟\n",
    "]\n",
    "df = df[use_cols]\n",
    "\n",
    "# 데이터 정보 확인 및 결측치 확인\n",
    "print(\"데이터 정보:\")\n",
    "df.info()\n",
    "print(\"\\n결측치 개수:\")\n",
    "print(df.isnull().sum())\n",
    "\n",
    "df.head()"
   ]
  },
  {
   "cell_type": "markdown",
   "metadata": {},
   "source": [
    "---"
   ]
  },
  {
   "cell_type": "markdown",
   "metadata": {},
   "source": [
    "### 📜 Step 2: 데이터 분할 및 특성 정의\n",
    "\n",
    "모델 학습을 위해 데이터를 훈련 세트와 테스트 세트로 분할합니다. 그 후, 파이프라인에 적용할 수치형 특성과 범주형 특성의 목록을 정의합니다."
   ]
  },
  {
   "cell_type": "code",
   "execution_count": null,
   "metadata": {},
   "outputs": [],
   "source": [
    "from sklearn.model_selection import train_test_split\n",
    "\n",
    "# 독립 변수(X)와 종속 변수(y) 분리\n",
    "X = df.drop('SalePrice', axis=1)\n",
    "y = df['SalePrice']\n",
    "\n",
    "# 훈련/테스트 데이터 분할 (8:2 비율, 재현성을 위해 random_state=42)\n",
    "X_train, X_test, y_train, y_test = train_test_split(X, y, test_size=0.2, random_state=42)\n",
    "\n",
    "# 특성 목록 정의\n",
    "numeric_features = X.select_dtypes(include=np.number).columns.tolist()\n",
    "categorical_features = X.select_dtypes(exclude=np.number).columns.tolist()\n",
    "\n",
    "print(\"수치형 특성:\", numeric_features)\n",
    "print(\"범주형 특성:\", categorical_features)"
   ]
  },
  {
   "cell_type": "markdown",
   "metadata": {},
   "source": [
    "---"
   ]
  },
  {
   "cell_type": "markdown",
   "metadata": {},
   "source": [
    "### 📜 Step 3: 전처리 파이프라인 구축\n",
    "\n",
    "`ColumnTransformer`를 사용하여 수치형과 범주형 특성에 각기 다른 전처리 파이프라인을 구축하세요.\n",
    "\n",
    "- **수치형 특성**: 결측치를 중앙값(`median`)으로 대체하고, `StandardScaler`를 사용하여 표준화하세요.\n",
    "- **범주형 특성**: 결측치를 최빈값(`most_frequent`)으로 대체하고, `OneHotEncoder`를 사용하여 인코딩하세요. (`handle_unknown='ignore'` 옵션 추가)"
   ]
  },
  {
   "cell_type": "code",
   "execution_count": null,
   "metadata": {},
   "outputs": [],
   "source": [
    "from sklearn.pipeline import Pipeline\n",
    "from sklearn.impute import SimpleImputer\n",
    "from sklearn.preprocessing import StandardScaler, OneHotEncoder\n",
    "from sklearn.compose import ColumnTransformer\n",
    "\n",
    "# 수치형 데이터 전처리 파이프라인\n",
    "numeric_transformer = Pipeline(steps=[\n",
    "    ('imputer', SimpleImputer(strategy='median')), # TO-DO: 알맞은 전략 채우기\n",
    "    ('scaler', StandardScaler()) # TO-DO: 스케일러 채우기\n",
    "])\n",
    "\n",
    "# 범주형 데이터 전처리 파이프라인\n",
    "categorical_transformer = Pipeline(steps=[\n",
    "    ('imputer', SimpleImputer(strategy='most_frequent')), # TO-DO: 알맞은 전략 채우기\n",
    "    ('onehot', OneHotEncoder(handle_unknown='ignore')) # TO-DO: 인코더 채우기\n",
    "])\n",
    "\n",
    "# ColumnTransformer로 전처리기 통합\n",
    "preprocessor = ColumnTransformer(\n",
    "    transformers=[\n",
    "        ('num', numeric_transformer, numeric_features),\n",
    "        ('cat', categorical_transformer, categorical_features)\n",
    "    ])"
   ]
  },
  {
   "cell_type": "markdown",
   "metadata": {},
   "source": [
    "---"
   ]
  },
  {
   "cell_type": "markdown",
   "metadata": {},
   "source": [
    "### 📜 Step 4: 모델 파이프라인 생성 및 학습/평가\n",
    "\n",
    "이제 위에서 만든 `preprocessor`와 모델을 결합하여 두 개의 최종 파이프라인을 만듭니다.\n",
    "\n",
    "1.  `LinearRegression` 모델을 사용하는 파이프라인\n",
    "2.  `PolynomialFeatures` (degree=2)와 `LinearRegression`을 사용하는 다항 회귀 파이프라인\n",
    "\n",
    "각 파이프라인을 학습시키고, 테스트 데이터에 대한 **RMSE**와 **R-squared** 값을 계산하여 출력하세요."
   ]
  },
  {
   "cell_type": "code",
   "execution_count": null,
   "metadata": {},
   "outputs": [],
   "source": [
    "from sklearn.linear_model import LinearRegression\n",
    "from sklearn.preprocessing import PolynomialFeatures\n",
    "from sklearn.metrics import mean_squared_error, r2_score\n",
    "\n",
    "# ----- 모델 1: 선형 회귀 파이프라인 ----- #\n",
    "\n",
    "# TO-DO: preprocessor와 LinearRegression을 결합한 파이프라인 생성\n",
    "lr_pipeline = Pipeline(steps=[\n",
    "    ('preprocessor', preprocessor),\n",
    "    ('regressor', LinearRegression())\n",
    "])\n",
    "\n",
    "# 학습\n",
    "lr_pipeline.fit(X_train, y_train)\n",
    "\n",
    "# 예측 및 평가\n",
    "y_pred_lr = lr_pipeline.predict(X_test)\n",
    "rmse_lr = np.sqrt(mean_squared_error(y_test, y_pred_lr))\n",
    "r2_lr = r2_score(y_test, y_pred_lr)\n",
    "\n",
    "print(\"[선형 회귀 모델]\")\n",
    "print(f\"Test RMSE: ${rmse_lr:,.2f}\")\n",
    "print(f\"Test R-squared: {r2_lr:.4f}\")\n",
    "\n",
    "\n",
    "# ----- 모델 2: 다항 회귀 파이프라인 ----- #\n",
    "\n",
    "# TO-DO: preprocessor, PolynomialFeatures, LinearRegression을 결합한 파이프라인 생성\n",
    "poly_pipeline = Pipeline(steps=[\n",
    "    ('preprocessor', preprocessor),\n",
    "    ('poly_features', PolynomialFeatures(degree=2, include_bias=False)),\n",
    "    ('regressor', LinearRegression())\n",
    "])\n",
    "\n",
    "# 학습\n",
    "poly_pipeline.fit(X_train, y_train)\n",
    "\n",
    "# 예측 및 평가\n",
    "y_pred_poly = poly_pipeline.predict(X_test)\n",
    "rmse_poly = np.sqrt(mean_squared_error(y_test, y_pred_poly))\n",
    "r2_poly = r2_score(y_test, y_pred_poly)\n",
    "\n",
    "print(\"\\n[다항 회귀(Degree=2) 모델]\")\n",
    "print(f\"Test RMSE: ${rmse_poly:,.2f}\")\n",
    "print(f\"Test R-squared: {r2_poly:.4f}\")"
   ]
  },
  {
   "cell_type": "markdown",
   "metadata": {},
   "source": [
    "---"
   ]
  },
  {
   "cell_type": "markdown",
   "metadata": {},
   "source": [
    "### 📜 Step 5: 결과 비교 및 해석\n",
    "\n",
    "두 모델의 성능 지표(RMSE, R-squared)를 비교하고, 어떤 모델이 이 데이터셋에 더 적합한지 자신의 생각을 간략하게 작성해 보세요. 왜 그런 결과가 나왔을지, 다항 회귀 모델의 장단점은 무엇일지 고민해 보세요."
   ]
  },
  {
   "cell_type": "markdown",
   "metadata": {},
   "source": [
    "**[TODO: 여기에 분석 결과를 작성하세요]**\n",
    "\n",
    "..."
   ]
  },
  {
   "cell_type": "markdown",
   "metadata": {},
   "source": [
    "### 🌟 (심화) 추가적으로 시도해볼 것\n",
    "\n",
    "- 다항 회귀의 차수(degree)를 3으로 변경했을 때 결과는 어떻게 달라지나요?\n",
    "- `StandardScaler` 대신 `MinMaxScaler`를 사용하면 최종 성능에 변화가 있을까요? (선형 모델에서는 큰 차이가 없을 수 있습니다. 이유를 생각해 보세요!)\n",
    "- 사용한 특성 외에 다른 특성들을 추가하여 모델 성능을 더 높여보세요."
   ]
  }
 ],
 "metadata": {
  "kernelspec": {
   "display_name": ".venv",
   "language": "python",
   "name": "python3"
  },
  "language_info": {
   "codemirror_mode": {
    "name": "ipython",
    "version": 3
   },
   "file_extension": ".py",
   "mimetype": "text/x-python",
   "name": "python",
   "nbconvert_exporter": "python",
   "pygments_lexer": "ipython3",
   "version": "3.12.9"
  }
 },
 "nbformat": 4,
 "nbformat_minor": 4
}
