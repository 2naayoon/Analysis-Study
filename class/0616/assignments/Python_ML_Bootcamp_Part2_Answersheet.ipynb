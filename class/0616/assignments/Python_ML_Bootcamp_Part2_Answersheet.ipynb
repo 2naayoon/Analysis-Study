{
  "cells": [
    {
      "cell_type": "markdown",
      "metadata": {},
      "source": [
        "## 🔑 Part 2 연습문제 정답지"
      ]
    },
    {
      "cell_type": "markdown",
      "metadata": {},
      "source": [
        "\n",
        "#### **2.5. 연습문제 정답**\n",
        "\n",
        "**정답 1:**"
      ]
    },
    {
      "cell_type": "code",
      "execution_count": null,
      "metadata": {},
      "outputs": [],
      "source": [
        "import time\n",
        "\n",
        "# 문제 1 정답 코드\n",
        "estimator_options = [10, 50, 200]\n",
        "for n_est in estimator_options:\n",
        "    start_time = time.time()\n",
        "    rf_reg_est = RandomForestRegressor(n_estimators=n_est, random_state=42, n_jobs=-1)\n",
        "    rf_reg_est.fit(X_train, y_train)\n",
        "    end_time = time.time()\n",
        "\n",
        "    y_pred_est = rf_reg_est.predict(X_test)\n",
        "    rmse_est = np.sqrt(mean_squared_error(y_test, y_pred_est))\n",
        "\n",
        "    print(f'n_estimators={n_est}:')\n",
        "    print(f'  - RMSE: {rmse_est:.2f}')\n",
        "    print(f'  - 학습 시간: {end_time - start_time:.2f}초\\n')\n",
        "\n",
        "# n_estimators가 증가할수록 일반적으로 성능이 안정되고 개선되는 경향이 있지만,\n",
        "# 일정 수준 이상부터는 성능 향상 폭이 미미하고 학습 시간만 길어질 수 있습니다."
      ]
    },
    {
      "cell_type": "markdown",
      "metadata": {},
      "source": [
        "**정답 2:**"
      ]
    },
    {
      "cell_type": "code",
      "execution_count": null,
      "metadata": {},
      "outputs": [],
      "source": [
        "# 문제 2 정답 코드\n",
        "feature_options = [1.0, 0.5, 'sqrt']\n",
        "for max_feat in feature_options:\n",
        "    rf_reg_feat = RandomForestRegressor(n_estimators=100, max_features=max_feat, random_state=42, n_jobs=-1)\n",
        "    rf_reg_feat.fit(X_train, y_train)\n",
        "\n",
        "    y_pred_feat = rf_reg_feat.predict(X_test)\n",
        "    rmse_feat = np.sqrt(mean_squared_error(y_test, y_pred_feat))\n",
        "\n",
        "    print(f'max_features={max_feat}:')\n",
        "    print(f'  - RMSE: {rmse_feat:.2f}\\n')\n",
        "\n",
        "# max_features=1.0 이면 각 트리가 모든 특성을 고려하므로 트리의 다양성이 줄어듭니다.\n",
        "# 'sqrt'나 0.5 처럼 특성을 제한하면 각 트리가 다른 관점에서 데이터를 학습하게 되어\n",
        "# 앙상블 효과가 극대화되고 일반화 성능이 좋아지는 경우가 많습니다."
      ]
    }
  ],
  "metadata": {
    "colab": {
      "provenance": []
    },
    "kernelspec": {
      "display_name": ".venv",
      "language": "python",
      "name": "python3"
    },
    "language_info": {
      "codemirror_mode": {
        "name": "ipython",
        "version": 3
      },
      "file_extension": ".py",
      "mimetype": "text/x-python",
      "name": "python",
      "nbconvert_exporter": "python",
      "pygments_lexer": "ipython3",
      "version": "3.12.9"
    }
  },
  "nbformat": 4,
  "nbformat_minor": 0
}
