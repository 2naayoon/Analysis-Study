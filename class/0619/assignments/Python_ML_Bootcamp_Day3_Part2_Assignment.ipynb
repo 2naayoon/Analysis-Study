{
  "cells": [
    {
      "cell_type": "markdown",
      "metadata": {
        "id": "k_HX5hJ_YNP5"
      },
      "source": [
        "## 📝 Lab #3 (응용): 앙상블 기법을 총동원한 따릉이 수요 예측 최적화\n",
        "\n",
        "지금까지 배운 다양한 앙상블 기법(Extra Trees, Gradient Boosting, XGBoost)을 개별적으로 사용하고, 이들을 다시 `VotingRegressor`로 묶어 최종 예측 모델의 성능을 극대화하는 미니 프로젝트를 수행합니다.\n",
        "\n",
        "### 과제 목표\n",
        "1.  **서울 따릉이 데이터셋**에 대해 전처리 파이프라인을 구축합니다.\n",
        "2.  세 가지 강력한 앙상블 모델(`ExtraTreesRegressor`, `GradientBoostingRegressor`, `XGBRegressor`)을 각각 학습시킵니다.\n",
        "3.  세 모델을 `VotingRegressor`를 사용하여 결합합니다. 이때, 각 모델의 성능을 고려하여 가중치(`weights`)를 조절해보는 실험을 포함합니다.\n",
        "4.  개별 모델과 최종 Voting 모델의 성능(RMSE)을 비교하고 결과를 분석합니다.\n",
        "5.  `Plotly Express`를 사용하여 실제 값과 예측 값의 관계를 시각화합니다.\n",
        "\n",
        "### 코드 작성"
      ]
    },
    {
      "cell_type": "code",
      "execution_count": null,
      "metadata": {
        "id": "Jf3x0cNTYNP5"
      },
      "outputs": [],
      "source": [
        "import pandas as pd\n",
        "import numpy as np\n",
        "from sklearn.model_selection import train_test_split\n",
        "from sklearn.ensemble import ExtraTreesRegressor, GradientBoostingRegressor, VotingRegressor\n",
        "import xgboost as xgb\n",
        "from sklearn.metrics import mean_squared_error\n",
        "from sklearn.preprocessing import OneHotEncoder, MinMaxScaler\n",
        "from sklearn.compose import ColumnTransformer\n",
        "from sklearn.pipeline import Pipeline\n",
        "import plotly.express as px\n",
        "\n",
        "# --- [문제 1] 데이터 로드 및 기본 전처리 ---\n",
        "path = '../../datasets/ml/bike-sharing/SeoulBikeData.csv'\n",
        "df_bike = pd.read_csv(path)\n",
        "# 위의 'Boosting 심화' 파트에서 사용한 코드를 참고하여 데이터를 로드하고\n",
        "# 'Date' 컬럼 처리, 'Seasons', 'Holiday', 'Functioning Day' 더미 변수화를 수행하세요.\n",
        "# 특성(X)과 타겟(y)을 분리하고 훈련/테스트 데이터로 나누세요. (test_size=0.2, random_state=42)\n",
        "\n",
        "# 여기에 코드 작성\n",
        "\n",
        "\n",
        "# --- [문제 2] 개별 모델 정의 ---\n",
        "# 다음 세 가지 모델을 정의하세요. random_state는 모두 42로 고정합니다.\n",
        "# 1. ExtraTreesRegressor (n_estimators=100)\n",
        "# 2. GradientBoostingRegressor (n_estimators=100)\n",
        "# 3. XGBRegressor (n_estimators=200, learning_rate=0.1, max_depth=7)\n",
        "\n",
        "# 여기에 모델 정의\n",
        "\n",
        "\n",
        "# --- [문제 3] VotingRegressor 정의 ---\n",
        "# 위에서 정의한 세 모델을 사용하여 VotingRegressor를 만드세요.\n",
        "# 초기에는 가중치 없이(모두 동일하게) 시작합니다.\n",
        "# voting_reg = VotingRegressor(estimators=[('et', et_reg), ('gbrt', gbrt_reg), ('xgb', xgb_reg)])\n",
        "\n",
        "# 여기에 코드 작성\n",
        "\n",
        "\n",
        "# --- [문제 4] 학습 및 성능 비교 ---\n",
        "# 3개의 개별 모델과 1개의 Voting 모델을 각각 학습시키고, 테스트 데이터에 대한 RMSE를 계산하여 비교 출력하세요.\n",
        "# (힌트: for문을 사용하여 코드를 간결하게 만들 수 있습니다.)\n",
        "\n",
        "# 여기에 코드 작성\n",
        "\n",
        "\n",
        "# --- [문제 5] 가중치를 적용한 VotingRegressor ---\n",
        "# 각 모델의 성능을 바탕으로 가중치를 부여하여 VotingRegressor를 다시 만들어보세요.\n",
        "# 예를 들어, XGBoost 성능이 가장 좋았다면 더 높은 가중치를 부여합니다.\n",
        "# 예: weights=[0.2, 0.2, 0.6]\n",
        "# 이 가중치를 적용한 모델을 학습시키고 RMSE를 계산하여 이전 Voting 모델과 비교해보세요.\n",
        "\n",
        "# 여기에 코드 작성\n",
        "\n",
        "\n",
        "# --- [문제 6] 최종 모델 예측 결과 시각화 ---\n",
        "# 가장 성능이 좋았던 모델(아마도 가중치를 적용한 Voting 모델)의 예측 결과를 사용하여\n",
        "# 실제 값(y_test)과 예측 값(y_pred)을 비교하는 산점도(scatter plot)를 Plotly Express로 그리세요.\n",
        "# x축은 '실제 대여량', y축은 '예측 대여량'으로 설정하고, 추세선을 추가(trendline='ols')하여\n",
        "# 예측이 얼마나 잘 이루어졌는지 시각적으로 확인합니다.\n",
        "\n",
        "# 여기에 코드 작성\n",
        "\n",
        "\n",
        "# --- [문제 7] 결과 분석 ---\n",
        "# 아래 마크다운 셀에 다음 질문에 대한 자신의 생각을 정리해보세요.\n",
        "# 1. 개별 모델과 비교했을 때 Voting 앙상블 모델의 성능은 어떠했나요?\n",
        "# 2. 가중치를 적용했을 때와 적용하지 않았을 때의 성능 차이가 있었나요? 그 이유는 무엇일까요?\n",
        "# 3. 산점도 그래프를 통해 우리 모델의 예측 경향성(과대/과소 예측 등)에 대해 어떤 해석을 할 수 있을까요?"
      ]
    },
    {
      "cell_type": "markdown",
      "metadata": {
        "id": "7GLj-X2dYNP5"
      },
      "source": [
        "### 결과 분석\n",
        "*(여기에 자신의 분석 내용을 작성하세요)*\n"
      ]
    }
  ],
  "metadata": {
    "colab": {
      "provenance": []
    },
    "kernelspec": {
      "display_name": "Python 3",
      "name": "python3"
    }
  },
  "nbformat": 4,
  "nbformat_minor": 0
}
