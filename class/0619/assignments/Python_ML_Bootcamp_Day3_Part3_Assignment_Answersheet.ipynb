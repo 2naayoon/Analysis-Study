{
 "cells": [
  {
   "cell_type": "markdown",
   "metadata": {},
   "source": [
    "## 🔑 Lab #3-3 과제 정답지"
   ]
  },
  {
   "cell_type": "code",
   "execution_count": null,
   "metadata": {},
   "outputs": [],
   "source": [
    "import pandas as pd\n",
    "import numpy as np\n",
    "from sklearn.model_selection import KFold, train_test_split\n",
    "from sklearn.ensemble import RandomForestRegressor\n",
    "from xgboost import XGBRegressor\n",
    "from lightgbm import LGBMRegressor\n",
    "from sklearn.linear_model import LinearRegression\n",
    "from sklearn.metrics import mean_squared_log_error\n",
    "import plotly.express as px"
   ]
  },
  {
   "cell_type": "code",
   "execution_count": null,
   "metadata": {},
   "outputs": [],
   "source": [
    "# RMSLE 계산을 위한 함수\n",
    "def rmsle(y_true, y_pred):\n",
    "    return np.sqrt(mean_squared_log_error(y_true, y_pred))"
   ]
  },
  {
   "cell_type": "code",
   "execution_count": null,
   "metadata": {},
   "outputs": [],
   "source": [
    "# 데이터 로드\n",
    "path = '../../datasets/ml/bike-sharing/SeoulBikeData.csv'\n",
    "df = pd.read_csv(path, encoding='cp949')\n"
   ]
  },
  {
   "cell_type": "code",
   "execution_count": null,
   "metadata": {},
   "outputs": [],
   "source": [
    "# 데이터 전처리\n",
    "df['Date'] = pd.to_datetime(df['Date'], format='%d/%m/%Y')\n",
    "df['Year'] = df['Date'].dt.year\n",
    "df['Month'] = df['Date'].dt.month\n",
    "df['Day'] = df['Date'].dt.day\n",
    "df['Hour'] = df['Hour']\n",
    "\n",
    "df.drop(['Date', 'Seasons', 'Holiday', 'Functioning Day'], axis=1, inplace=True)\n",
    "\n",
    "X = df.drop('Rented Bike Count', axis=1)\n",
    "y = df['Rented Bike Count']"
   ]
  },
  {
   "cell_type": "code",
   "execution_count": null,
   "metadata": {},
   "outputs": [
    {
     "name": "stdout",
     "output_type": "stream",
     "text": [
      "데이터 준비 완료!\n"
     ]
    },
    {
     "name": "stderr",
     "output_type": "stream",
     "text": [
      "/var/folders/5y/vwfpdbc96lb5kxd7pmfd9rl00000gn/T/ipykernel_83004/687112193.py:2: SettingWithCopyWarning: \n",
      "A value is trying to be set on a copy of a slice from a DataFrame\n",
      "\n",
      "See the caveats in the documentation: https://pandas.pydata.org/pandas-docs/stable/user_guide/indexing.html#returning-a-view-versus-a-copy\n",
      "  y[y < 0] = 0\n"
     ]
    },
    {
     "data": {
      "text/html": [
       "<div>\n",
       "<style scoped>\n",
       "    .dataframe tbody tr th:only-of-type {\n",
       "        vertical-align: middle;\n",
       "    }\n",
       "\n",
       "    .dataframe tbody tr th {\n",
       "        vertical-align: top;\n",
       "    }\n",
       "\n",
       "    .dataframe thead th {\n",
       "        text-align: right;\n",
       "    }\n",
       "</style>\n",
       "<table border=\"1\" class=\"dataframe\">\n",
       "  <thead>\n",
       "    <tr style=\"text-align: right;\">\n",
       "      <th></th>\n",
       "      <th>Hour</th>\n",
       "      <th>Temperature(캜)</th>\n",
       "      <th>Humidity(%)</th>\n",
       "      <th>Wind speed (m/s)</th>\n",
       "      <th>Visibility (10m)</th>\n",
       "      <th>Dew point temperature(캜)</th>\n",
       "      <th>Solar Radiation (MJ/m2)</th>\n",
       "      <th>Rainfall(mm)</th>\n",
       "      <th>Snowfall (cm)</th>\n",
       "      <th>Year</th>\n",
       "      <th>Month</th>\n",
       "      <th>Day</th>\n",
       "    </tr>\n",
       "  </thead>\n",
       "  <tbody>\n",
       "    <tr>\n",
       "      <th>8415</th>\n",
       "      <td>15</td>\n",
       "      <td>13.2</td>\n",
       "      <td>61</td>\n",
       "      <td>3.9</td>\n",
       "      <td>719</td>\n",
       "      <td>5.8</td>\n",
       "      <td>1.03</td>\n",
       "      <td>0.0</td>\n",
       "      <td>0.0</td>\n",
       "      <td>2018</td>\n",
       "      <td>11</td>\n",
       "      <td>16</td>\n",
       "    </tr>\n",
       "    <tr>\n",
       "      <th>5049</th>\n",
       "      <td>9</td>\n",
       "      <td>22.9</td>\n",
       "      <td>86</td>\n",
       "      <td>1.7</td>\n",
       "      <td>538</td>\n",
       "      <td>20.4</td>\n",
       "      <td>0.76</td>\n",
       "      <td>0.0</td>\n",
       "      <td>0.0</td>\n",
       "      <td>2018</td>\n",
       "      <td>6</td>\n",
       "      <td>29</td>\n",
       "    </tr>\n",
       "    <tr>\n",
       "      <th>8395</th>\n",
       "      <td>19</td>\n",
       "      <td>11.2</td>\n",
       "      <td>46</td>\n",
       "      <td>1.4</td>\n",
       "      <td>869</td>\n",
       "      <td>0.0</td>\n",
       "      <td>0.00</td>\n",
       "      <td>0.0</td>\n",
       "      <td>0.0</td>\n",
       "      <td>2018</td>\n",
       "      <td>11</td>\n",
       "      <td>15</td>\n",
       "    </tr>\n",
       "    <tr>\n",
       "      <th>1535</th>\n",
       "      <td>23</td>\n",
       "      <td>-2.6</td>\n",
       "      <td>69</td>\n",
       "      <td>2.0</td>\n",
       "      <td>1434</td>\n",
       "      <td>-7.5</td>\n",
       "      <td>0.00</td>\n",
       "      <td>0.0</td>\n",
       "      <td>0.0</td>\n",
       "      <td>2018</td>\n",
       "      <td>2</td>\n",
       "      <td>2</td>\n",
       "    </tr>\n",
       "    <tr>\n",
       "      <th>5518</th>\n",
       "      <td>22</td>\n",
       "      <td>27.2</td>\n",
       "      <td>73</td>\n",
       "      <td>1.5</td>\n",
       "      <td>1005</td>\n",
       "      <td>21.9</td>\n",
       "      <td>0.00</td>\n",
       "      <td>0.0</td>\n",
       "      <td>0.0</td>\n",
       "      <td>2018</td>\n",
       "      <td>7</td>\n",
       "      <td>18</td>\n",
       "    </tr>\n",
       "  </tbody>\n",
       "</table>\n",
       "</div>"
      ],
      "text/plain": [
       "      Hour  Temperature(캜)  Humidity(%)  Wind speed (m/s)  Visibility (10m)  \\\n",
       "8415    15            13.2           61               3.9               719   \n",
       "5049     9            22.9           86               1.7               538   \n",
       "8395    19            11.2           46               1.4               869   \n",
       "1535    23            -2.6           69               2.0              1434   \n",
       "5518    22            27.2           73               1.5              1005   \n",
       "\n",
       "      Dew point temperature(캜)  Solar Radiation (MJ/m2)  Rainfall(mm)  \\\n",
       "8415                       5.8                     1.03           0.0   \n",
       "5049                      20.4                     0.76           0.0   \n",
       "8395                       0.0                     0.00           0.0   \n",
       "1535                      -7.5                     0.00           0.0   \n",
       "5518                      21.9                     0.00           0.0   \n",
       "\n",
       "      Snowfall (cm)  Year  Month  Day  \n",
       "8415            0.0  2018     11   16  \n",
       "5049            0.0  2018      6   29  \n",
       "8395            0.0  2018     11   15  \n",
       "1535            0.0  2018      2    2  \n",
       "5518            0.0  2018      7   18  "
      ]
     },
     "metadata": {},
     "output_type": "display_data"
    }
   ],
   "source": [
    "# 음수 값을 0으로 변환 (로그 변환 시 오류 방지)\n",
    "y[y < 0] = 0\n",
    "\n",
    "X_train, X_test, y_train, y_test = train_test_split(X, y, test_size=0.2, random_state=42)\n",
    "\n",
    "print(\"데이터 준비 완료!\")\n",
    "X_train.head()"
   ]
  },
  {
   "cell_type": "code",
   "execution_count": null,
   "metadata": {},
   "outputs": [],
   "source": [
    "# 기본 모델 정의\n",
    "rf_model = RandomForestRegressor(n_estimators=100, random_state=42)\n",
    "xgb_model = XGBRegressor(n_estimators=100, random_state=42)\n",
    "lgbm_model = LGBMRegressor(n_estimators=100, random_state=42)"
   ]
  },
  {
   "cell_type": "code",
   "execution_count": null,
   "metadata": {},
   "outputs": [],
   "source": [
    "# 메타 모델 정의\n",
    "meta_model = LinearRegression()\n",
    "\n",
    "base_models = [rf_model, xgb_model, lgbm_model]"
   ]
  },
  {
   "cell_type": "code",
   "execution_count": null,
   "metadata": {},
   "outputs": [],
   "source": [
    "# K-Fold 설정\n",
    "kf = KFold(n_splits=5, shuffle=True, random_state=42)"
   ]
  },
  {
   "cell_type": "code",
   "execution_count": null,
   "metadata": {},
   "outputs": [],
   "source": [
    "# OOF 예측값을 저장할 배열 초기화\n",
    "oof_preds = np.zeros((X_train.shape[0], len(base_models)))\n",
    "test_preds = np.zeros((X_test.shape[0], len(base_models)))"
   ]
  },
  {
   "cell_type": "code",
   "execution_count": null,
   "metadata": {},
   "outputs": [
    {
     "name": "stdout",
     "output_type": "stream",
     "text": [
      "OOF 예측 생성을 시작합니다...\n",
      "모델 RandomForestRegressor 학습 중...\n",
      "  - Fold 1 완료\n",
      "  - Fold 2 완료\n",
      "  - Fold 3 완료\n",
      "  - Fold 4 완료\n",
      "  - Fold 5 완료\n",
      "모델 XGBRegressor 학습 중...\n",
      "  - Fold 1 완료\n",
      "  - Fold 2 완료\n",
      "  - Fold 3 완료\n",
      "  - Fold 4 완료\n",
      "  - Fold 5 완료\n",
      "모델 LGBMRegressor 학습 중...\n",
      "[LightGBM] [Warning] Found whitespace in feature_names, replace with underlines\n",
      "[LightGBM] [Info] Auto-choosing row-wise multi-threading, the overhead of testing was 0.001015 seconds.\n",
      "You can set `force_row_wise=true` to remove the overhead.\n",
      "And if memory is not enough, you can set `force_col_wise=true`.\n",
      "[LightGBM] [Info] Total Bins 1285\n",
      "[LightGBM] [Info] Number of data points in the train set: 5606, number of used features: 12\n",
      "[LightGBM] [Info] Start training from score 702.360507\n",
      "  - Fold 1 완료\n",
      "[LightGBM] [Warning] Found whitespace in feature_names, replace with underlines\n",
      "[LightGBM] [Info] Auto-choosing row-wise multi-threading, the overhead of testing was 0.000479 seconds.\n",
      "You can set `force_row_wise=true` to remove the overhead.\n",
      "And if memory is not enough, you can set `force_col_wise=true`.\n",
      "[LightGBM] [Info] Total Bins 1282\n",
      "[LightGBM] [Info] Number of data points in the train set: 5606, number of used features: 12\n",
      "[LightGBM] [Info] Start training from score 707.765608\n",
      "  - Fold 2 완료\n",
      "[LightGBM] [Warning] Found whitespace in feature_names, replace with underlines\n",
      "[LightGBM] [Info] Auto-choosing row-wise multi-threading, the overhead of testing was 0.000496 seconds.\n",
      "You can set `force_row_wise=true` to remove the overhead.\n",
      "And if memory is not enough, you can set `force_col_wise=true`.\n",
      "[LightGBM] [Info] Total Bins 1283\n",
      "[LightGBM] [Info] Number of data points in the train set: 5606, number of used features: 12\n",
      "[LightGBM] [Info] Start training from score 702.715662\n",
      "  - Fold 3 완료\n",
      "[LightGBM] [Warning] Found whitespace in feature_names, replace with underlines\n",
      "[LightGBM] [Info] Auto-choosing row-wise multi-threading, the overhead of testing was 0.000582 seconds.\n",
      "You can set `force_row_wise=true` to remove the overhead.\n",
      "And if memory is not enough, you can set `force_col_wise=true`.\n",
      "[LightGBM] [Info] Total Bins 1285\n",
      "[LightGBM] [Info] Number of data points in the train set: 5607, number of used features: 12\n",
      "[LightGBM] [Info] Start training from score 707.065454\n",
      "  - Fold 4 완료\n",
      "[LightGBM] [Warning] Found whitespace in feature_names, replace with underlines\n",
      "[LightGBM] [Info] Auto-choosing row-wise multi-threading, the overhead of testing was 0.000611 seconds.\n",
      "You can set `force_row_wise=true` to remove the overhead.\n",
      "And if memory is not enough, you can set `force_col_wise=true`.\n",
      "[LightGBM] [Info] Total Bins 1284\n",
      "[LightGBM] [Info] Number of data points in the train set: 5607, number of used features: 12\n",
      "[LightGBM] [Info] Start training from score 703.931693\n",
      "  - Fold 5 완료\n"
     ]
    }
   ],
   "source": [
    "print(\"OOF 예측 생성을 시작합니다...\")\n",
    "# 각 기본 모델에 대해 K-Fold 학습 및 예측 수행\n",
    "for i, model in enumerate(base_models):\n",
    "    print(f\"모델 {model.__class__.__name__} 학습 중...\")\n",
    "    \n",
    "    # K-Fold 반복\n",
    "    for fold, (train_idx, val_idx) in enumerate(kf.split(X_train, y_train)):\n",
    "        # Fold 데이터 분리\n",
    "        X_train_fold, X_val_fold = X_train.iloc[train_idx], X_train.iloc[val_idx]\n",
    "        y_train_fold, y_val_fold = y_train.iloc[train_idx], y_train.iloc[val_idx]\n",
    "        \n",
    "        # 모델 학습\n",
    "        model.fit(X_train_fold, y_train_fold)\n",
    "        \n",
    "        # OOF 예측값 생성\n",
    "        oof_preds[val_idx, i] = model.predict(X_val_fold)\n",
    "        \n",
    "        # 테스트 데이터 예측값 생성\n",
    "        test_preds[:, i] += model.predict(X_test)\n",
    "        \n",
    "        print(f\"  - Fold {fold+1} 완료\")"
   ]
  },
  {
   "cell_type": "code",
   "execution_count": null,
   "metadata": {},
   "outputs": [
    {
     "name": "stdout",
     "output_type": "stream",
     "text": [
      "\n",
      "OOF 예측 생성 완료!\n",
      "OOF 예측 데이터 shape: (7008, 3)\n",
      "Test 예측 데이터 shape: (1752, 3)\n"
     ]
    }
   ],
   "source": [
    "# 테스트 데이터 예측값의 평균 계산\n",
    "test_preds /= kf.n_splits\n",
    "\n",
    "print(\"\\nOOF 예측 생성 완료!\")\n",
    "print(\"OOF 예측 데이터 shape:\", oof_preds.shape)\n",
    "print(\"Test 예측 데이터 shape:\", test_preds.shape)"
   ]
  },
  {
   "cell_type": "code",
   "execution_count": null,
   "metadata": {},
   "outputs": [
    {
     "name": "stdout",
     "output_type": "stream",
     "text": [
      "\n",
      "수동 구현 스태킹 모델의 최종 RMSLE: 1.0923\n"
     ]
    }
   ],
   "source": [
    "# 메타 모델 학습\n",
    "meta_model.fit(oof_preds, y_train)\n",
    "\n",
    "# 최종 예측\n",
    "final_predictions = meta_model.predict(test_preds)\n",
    "\n",
    "# 음수 값 처리\n",
    "final_predictions[final_predictions < 0] = 0\n",
    "\n",
    "# RMSLE로 최종 성능 평가\n",
    "final_rmsle = rmsle(y_test, final_predictions)\n",
    "print(f\"\\n수동 구현 스태킹 모델의 최종 RMSLE: {final_rmsle:.4f}\")"
   ]
  },
  {
   "cell_type": "code",
   "execution_count": null,
   "metadata": {},
   "outputs": [
    {
     "data": {
      "application/vnd.plotly.v1+json": {
       "config": {
        "plotlyServerURL": "https://plot.ly"
       },
       "data": [
        {
         "hovertemplate": "실제 대여량=%{x}<br>예측 대여량=%{y}<extra></extra>",
         "legendgroup": "",
         "marker": {
          "color": "#636efa",
          "opacity": 0.5,
          "symbol": "circle"
         },
         "mode": "markers",
         "name": "",
         "showlegend": false,
         "type": "scattergl",
         "x": {
          "bdata": "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",
          "dtype": "i2"
         },
         "xaxis": "x",
         "y": {
          "bdata": "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",
          "dtype": "f8"
         },
         "yaxis": "y"
        }
       ],
       "layout": {
        "height": 600,
        "legend": {
         "tracegroupgap": 0
        },
        "shapes": [
         {
          "line": {
           "color": "Red",
           "dash": "dash",
           "width": 2
          },
          "type": "line",
          "x0": 0,
          "x1": 3556,
          "y0": 0,
          "y1": 3556
         }
        ],
        "template": {
         "data": {
          "bar": [
           {
            "error_x": {
             "color": "#2a3f5f"
            },
            "error_y": {
             "color": "#2a3f5f"
            },
            "marker": {
             "line": {
              "color": "#E5ECF6",
              "width": 0.5
             },
             "pattern": {
              "fillmode": "overlay",
              "size": 10,
              "solidity": 0.2
             }
            },
            "type": "bar"
           }
          ],
          "barpolar": [
           {
            "marker": {
             "line": {
              "color": "#E5ECF6",
              "width": 0.5
             },
             "pattern": {
              "fillmode": "overlay",
              "size": 10,
              "solidity": 0.2
             }
            },
            "type": "barpolar"
           }
          ],
          "carpet": [
           {
            "aaxis": {
             "endlinecolor": "#2a3f5f",
             "gridcolor": "white",
             "linecolor": "white",
             "minorgridcolor": "white",
             "startlinecolor": "#2a3f5f"
            },
            "baxis": {
             "endlinecolor": "#2a3f5f",
             "gridcolor": "white",
             "linecolor": "white",
             "minorgridcolor": "white",
             "startlinecolor": "#2a3f5f"
            },
            "type": "carpet"
           }
          ],
          "choropleth": [
           {
            "colorbar": {
             "outlinewidth": 0,
             "ticks": ""
            },
            "type": "choropleth"
           }
          ],
          "contour": [
           {
            "colorbar": {
             "outlinewidth": 0,
             "ticks": ""
            },
            "colorscale": [
             [
              0,
              "#0d0887"
             ],
             [
              0.1111111111111111,
              "#46039f"
             ],
             [
              0.2222222222222222,
              "#7201a8"
             ],
             [
              0.3333333333333333,
              "#9c179e"
             ],
             [
              0.4444444444444444,
              "#bd3786"
             ],
             [
              0.5555555555555556,
              "#d8576b"
             ],
             [
              0.6666666666666666,
              "#ed7953"
             ],
             [
              0.7777777777777778,
              "#fb9f3a"
             ],
             [
              0.8888888888888888,
              "#fdca26"
             ],
             [
              1,
              "#f0f921"
             ]
            ],
            "type": "contour"
           }
          ],
          "contourcarpet": [
           {
            "colorbar": {
             "outlinewidth": 0,
             "ticks": ""
            },
            "type": "contourcarpet"
           }
          ],
          "heatmap": [
           {
            "colorbar": {
             "outlinewidth": 0,
             "ticks": ""
            },
            "colorscale": [
             [
              0,
              "#0d0887"
             ],
             [
              0.1111111111111111,
              "#46039f"
             ],
             [
              0.2222222222222222,
              "#7201a8"
             ],
             [
              0.3333333333333333,
              "#9c179e"
             ],
             [
              0.4444444444444444,
              "#bd3786"
             ],
             [
              0.5555555555555556,
              "#d8576b"
             ],
             [
              0.6666666666666666,
              "#ed7953"
             ],
             [
              0.7777777777777778,
              "#fb9f3a"
             ],
             [
              0.8888888888888888,
              "#fdca26"
             ],
             [
              1,
              "#f0f921"
             ]
            ],
            "type": "heatmap"
           }
          ],
          "histogram": [
           {
            "marker": {
             "pattern": {
              "fillmode": "overlay",
              "size": 10,
              "solidity": 0.2
             }
            },
            "type": "histogram"
           }
          ],
          "histogram2d": [
           {
            "colorbar": {
             "outlinewidth": 0,
             "ticks": ""
            },
            "colorscale": [
             [
              0,
              "#0d0887"
             ],
             [
              0.1111111111111111,
              "#46039f"
             ],
             [
              0.2222222222222222,
              "#7201a8"
             ],
             [
              0.3333333333333333,
              "#9c179e"
             ],
             [
              0.4444444444444444,
              "#bd3786"
             ],
             [
              0.5555555555555556,
              "#d8576b"
             ],
             [
              0.6666666666666666,
              "#ed7953"
             ],
             [
              0.7777777777777778,
              "#fb9f3a"
             ],
             [
              0.8888888888888888,
              "#fdca26"
             ],
             [
              1,
              "#f0f921"
             ]
            ],
            "type": "histogram2d"
           }
          ],
          "histogram2dcontour": [
           {
            "colorbar": {
             "outlinewidth": 0,
             "ticks": ""
            },
            "colorscale": [
             [
              0,
              "#0d0887"
             ],
             [
              0.1111111111111111,
              "#46039f"
             ],
             [
              0.2222222222222222,
              "#7201a8"
             ],
             [
              0.3333333333333333,
              "#9c179e"
             ],
             [
              0.4444444444444444,
              "#bd3786"
             ],
             [
              0.5555555555555556,
              "#d8576b"
             ],
             [
              0.6666666666666666,
              "#ed7953"
             ],
             [
              0.7777777777777778,
              "#fb9f3a"
             ],
             [
              0.8888888888888888,
              "#fdca26"
             ],
             [
              1,
              "#f0f921"
             ]
            ],
            "type": "histogram2dcontour"
           }
          ],
          "mesh3d": [
           {
            "colorbar": {
             "outlinewidth": 0,
             "ticks": ""
            },
            "type": "mesh3d"
           }
          ],
          "parcoords": [
           {
            "line": {
             "colorbar": {
              "outlinewidth": 0,
              "ticks": ""
             }
            },
            "type": "parcoords"
           }
          ],
          "pie": [
           {
            "automargin": true,
            "type": "pie"
           }
          ],
          "scatter": [
           {
            "fillpattern": {
             "fillmode": "overlay",
             "size": 10,
             "solidity": 0.2
            },
            "type": "scatter"
           }
          ],
          "scatter3d": [
           {
            "line": {
             "colorbar": {
              "outlinewidth": 0,
              "ticks": ""
             }
            },
            "marker": {
             "colorbar": {
              "outlinewidth": 0,
              "ticks": ""
             }
            },
            "type": "scatter3d"
           }
          ],
          "scattercarpet": [
           {
            "marker": {
             "colorbar": {
              "outlinewidth": 0,
              "ticks": ""
             }
            },
            "type": "scattercarpet"
           }
          ],
          "scattergeo": [
           {
            "marker": {
             "colorbar": {
              "outlinewidth": 0,
              "ticks": ""
             }
            },
            "type": "scattergeo"
           }
          ],
          "scattergl": [
           {
            "marker": {
             "colorbar": {
              "outlinewidth": 0,
              "ticks": ""
             }
            },
            "type": "scattergl"
           }
          ],
          "scattermap": [
           {
            "marker": {
             "colorbar": {
              "outlinewidth": 0,
              "ticks": ""
             }
            },
            "type": "scattermap"
           }
          ],
          "scattermapbox": [
           {
            "marker": {
             "colorbar": {
              "outlinewidth": 0,
              "ticks": ""
             }
            },
            "type": "scattermapbox"
           }
          ],
          "scatterpolar": [
           {
            "marker": {
             "colorbar": {
              "outlinewidth": 0,
              "ticks": ""
             }
            },
            "type": "scatterpolar"
           }
          ],
          "scatterpolargl": [
           {
            "marker": {
             "colorbar": {
              "outlinewidth": 0,
              "ticks": ""
             }
            },
            "type": "scatterpolargl"
           }
          ],
          "scatterternary": [
           {
            "marker": {
             "colorbar": {
              "outlinewidth": 0,
              "ticks": ""
             }
            },
            "type": "scatterternary"
           }
          ],
          "surface": [
           {
            "colorbar": {
             "outlinewidth": 0,
             "ticks": ""
            },
            "colorscale": [
             [
              0,
              "#0d0887"
             ],
             [
              0.1111111111111111,
              "#46039f"
             ],
             [
              0.2222222222222222,
              "#7201a8"
             ],
             [
              0.3333333333333333,
              "#9c179e"
             ],
             [
              0.4444444444444444,
              "#bd3786"
             ],
             [
              0.5555555555555556,
              "#d8576b"
             ],
             [
              0.6666666666666666,
              "#ed7953"
             ],
             [
              0.7777777777777778,
              "#fb9f3a"
             ],
             [
              0.8888888888888888,
              "#fdca26"
             ],
             [
              1,
              "#f0f921"
             ]
            ],
            "type": "surface"
           }
          ],
          "table": [
           {
            "cells": {
             "fill": {
              "color": "#EBF0F8"
             },
             "line": {
              "color": "white"
             }
            },
            "header": {
             "fill": {
              "color": "#C8D4E3"
             },
             "line": {
              "color": "white"
             }
            },
            "type": "table"
           }
          ]
         },
         "layout": {
          "annotationdefaults": {
           "arrowcolor": "#2a3f5f",
           "arrowhead": 0,
           "arrowwidth": 1
          },
          "autotypenumbers": "strict",
          "coloraxis": {
           "colorbar": {
            "outlinewidth": 0,
            "ticks": ""
           }
          },
          "colorscale": {
           "diverging": [
            [
             0,
             "#8e0152"
            ],
            [
             0.1,
             "#c51b7d"
            ],
            [
             0.2,
             "#de77ae"
            ],
            [
             0.3,
             "#f1b6da"
            ],
            [
             0.4,
             "#fde0ef"
            ],
            [
             0.5,
             "#f7f7f7"
            ],
            [
             0.6,
             "#e6f5d0"
            ],
            [
             0.7,
             "#b8e186"
            ],
            [
             0.8,
             "#7fbc41"
            ],
            [
             0.9,
             "#4d9221"
            ],
            [
             1,
             "#276419"
            ]
           ],
           "sequential": [
            [
             0,
             "#0d0887"
            ],
            [
             0.1111111111111111,
             "#46039f"
            ],
            [
             0.2222222222222222,
             "#7201a8"
            ],
            [
             0.3333333333333333,
             "#9c179e"
            ],
            [
             0.4444444444444444,
             "#bd3786"
            ],
            [
             0.5555555555555556,
             "#d8576b"
            ],
            [
             0.6666666666666666,
             "#ed7953"
            ],
            [
             0.7777777777777778,
             "#fb9f3a"
            ],
            [
             0.8888888888888888,
             "#fdca26"
            ],
            [
             1,
             "#f0f921"
            ]
           ],
           "sequentialminus": [
            [
             0,
             "#0d0887"
            ],
            [
             0.1111111111111111,
             "#46039f"
            ],
            [
             0.2222222222222222,
             "#7201a8"
            ],
            [
             0.3333333333333333,
             "#9c179e"
            ],
            [
             0.4444444444444444,
             "#bd3786"
            ],
            [
             0.5555555555555556,
             "#d8576b"
            ],
            [
             0.6666666666666666,
             "#ed7953"
            ],
            [
             0.7777777777777778,
             "#fb9f3a"
            ],
            [
             0.8888888888888888,
             "#fdca26"
            ],
            [
             1,
             "#f0f921"
            ]
           ]
          },
          "colorway": [
           "#636efa",
           "#EF553B",
           "#00cc96",
           "#ab63fa",
           "#FFA15A",
           "#19d3f3",
           "#FF6692",
           "#B6E880",
           "#FF97FF",
           "#FECB52"
          ],
          "font": {
           "color": "#2a3f5f"
          },
          "geo": {
           "bgcolor": "white",
           "lakecolor": "white",
           "landcolor": "#E5ECF6",
           "showlakes": true,
           "showland": true,
           "subunitcolor": "white"
          },
          "hoverlabel": {
           "align": "left"
          },
          "hovermode": "closest",
          "mapbox": {
           "style": "light"
          },
          "paper_bgcolor": "white",
          "plot_bgcolor": "#E5ECF6",
          "polar": {
           "angularaxis": {
            "gridcolor": "white",
            "linecolor": "white",
            "ticks": ""
           },
           "bgcolor": "#E5ECF6",
           "radialaxis": {
            "gridcolor": "white",
            "linecolor": "white",
            "ticks": ""
           }
          },
          "scene": {
           "xaxis": {
            "backgroundcolor": "#E5ECF6",
            "gridcolor": "white",
            "gridwidth": 2,
            "linecolor": "white",
            "showbackground": true,
            "ticks": "",
            "zerolinecolor": "white"
           },
           "yaxis": {
            "backgroundcolor": "#E5ECF6",
            "gridcolor": "white",
            "gridwidth": 2,
            "linecolor": "white",
            "showbackground": true,
            "ticks": "",
            "zerolinecolor": "white"
           },
           "zaxis": {
            "backgroundcolor": "#E5ECF6",
            "gridcolor": "white",
            "gridwidth": 2,
            "linecolor": "white",
            "showbackground": true,
            "ticks": "",
            "zerolinecolor": "white"
           }
          },
          "shapedefaults": {
           "line": {
            "color": "#2a3f5f"
           }
          },
          "ternary": {
           "aaxis": {
            "gridcolor": "white",
            "linecolor": "white",
            "ticks": ""
           },
           "baxis": {
            "gridcolor": "white",
            "linecolor": "white",
            "ticks": ""
           },
           "bgcolor": "#E5ECF6",
           "caxis": {
            "gridcolor": "white",
            "linecolor": "white",
            "ticks": ""
           }
          },
          "title": {
           "x": 0.05
          },
          "xaxis": {
           "automargin": true,
           "gridcolor": "white",
           "linecolor": "white",
           "ticks": "",
           "title": {
            "standoff": 15
           },
           "zerolinecolor": "white",
           "zerolinewidth": 2
          },
          "yaxis": {
           "automargin": true,
           "gridcolor": "white",
           "linecolor": "white",
           "ticks": "",
           "title": {
            "standoff": 15
           },
           "zerolinecolor": "white",
           "zerolinewidth": 2
          }
         }
        },
        "title": {
         "text": "스태킹 모델 예측 결과: 실제값 vs. 예측값"
        },
        "width": 800,
        "xaxis": {
         "anchor": "y",
         "domain": [
          0,
          1
         ],
         "title": {
          "text": "실제 대여량"
         }
        },
        "yaxis": {
         "anchor": "x",
         "domain": [
          0,
          1
         ],
         "title": {
          "text": "예측 대여량"
         }
        }
       }
      }
     },
     "metadata": {},
     "output_type": "display_data"
    }
   ],
   "source": [
    "# 결과 시각화\n",
    "fig = px.scatter(\n",
    "    x=y_test,\n",
    "    y=final_predictions,\n",
    "    labels={'x': '실제 대여량', 'y': '예측 대여량'},\n",
    "    title='스태킹 모델 예측 결과: 실제값 vs. 예측값',\n",
    "    opacity=0.5\n",
    ")\n",
    "\n",
    "fig.add_shape(\n",
    "    type='line',\n",
    "    x0=y_test.min(), y0=y_test.min(),\n",
    "    x1=y_test.max(), y1=y_test.max(),\n",
    "    line=dict(color='Red', width=2, dash='dash')\n",
    ")\n",
    "\n",
    "fig.update_layout(width=800, height=600)\n",
    "fig.show()"
   ]
  }
 ],
 "metadata": {
  "kernelspec": {
   "display_name": "Python 3",
   "name": "python3"
  },
  "language_info": {
   "name": "python",
   "version": "3.9.6"
  }
 },
 "nbformat": 4,
 "nbformat_minor": 2
}
