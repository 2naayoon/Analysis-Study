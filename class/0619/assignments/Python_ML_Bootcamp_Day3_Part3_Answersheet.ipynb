{
  "cells": [
    {
      "cell_type": "markdown",
      "metadata": {},
      "source": [
        "\n",
        "### 🔑 Part 4 연습문제 정답\n",
        "\n",
        "#### 연습문제 1 정답"
      ]
    },
    {
      "cell_type": "code",
      "execution_count": null,
      "metadata": {
        "id": "O_xc2eeCjSn4"
      },
      "outputs": [],
      "source": [
        "# 1. 새로운 기본 모델 추가\n",
        "from sklearn.ensemble import GradientBoostingRegressor\n",
        "\n",
        "base_estimators_new = [\n",
        "    ('random_forest', RandomForestRegressor(n_estimators=100, random_state=42)),\n",
        "    ('xgboost', XGBRegressor(random_state=42)),\n",
        "    ('gb', GradientBoostingRegressor(n_estimators=50, random_state=42)) # Gradient Boosting 추가\n",
        "]\n",
        "\n",
        "# 2. 새로운 메타 모델 정의\n",
        "meta_estimator_new = Lasso(alpha=1.0, random_state=42)\n",
        "\n",
        "# 각 기본 모델을 위한 파이프라인 재생성\n",
        "rf_pipeline_new = Pipeline(steps=[('preprocessor', preprocessor), ('regressor', base_estimators_new[0][1])])\n",
        "xgb_pipeline_new = Pipeline(steps=[('preprocessor', preprocessor), ('regressor', base_estimators_new[1][1])])\n",
        "gb_pipeline_new = Pipeline(steps=[('preprocessor', preprocessor), ('regressor', base_estimators_new[2][1])])\n",
        "\n",
        "stacking_estimators_new = [\n",
        "    ('random_forest', rf_pipeline_new),\n",
        "    ('xgboost', xgb_pipeline_new),\n",
        "    ('gb', gb_pipeline_new)\n",
        "]\n",
        "\n",
        "# 3. 새로운 StackingRegressor 생성 및 학습\n",
        "# 메타 모델이 선형 모델이므로 스케일링이 필요. 기존 preprocessor를 재사용\n",
        "meta_pipeline_new = Pipeline(steps=[('scaler', StandardScaler()), ('lasso', meta_estimator_new)])\n",
        "\n",
        "stacking_regressor_new = StackingRegressor(\n",
        "    estimators=stacking_estimators_new,\n",
        "    final_estimator=meta_pipeline_new,\n",
        "    cv=5,\n",
        "    n_jobs=-1\n",
        ")\n",
        "\n",
        "stacking_regressor_new.fit(X_train, y_train)\n",
        "\n",
        "# 4. 성능 평가\n",
        "y_pred_stack_new = stacking_regressor_new.predict(X_test)\n",
        "rmse_stack_new = np.sqrt(mean_squared_error(y_test, y_pred_stack_new))\n",
        "print(f\"새로운 스태킹 앙상블(메타모델: Lasso)의 RMSE: {rmse_stack_new:.4f}\")\n",
        "\n",
        "# 이전 결과와 비교\n",
        "print(f\"기존 스태킹 앙상블(메타모델: Ridge)의 RMSE: {rmse_stack:.4f}\")"
      ]
    },
    {
      "cell_type": "markdown",
      "metadata": {
        "id": "9KD9ORDljSn4"
      },
      "source": [
        "#### 연습문제 2 정답"
      ]
    },
    {
      "cell_type": "code",
      "execution_count": null,
      "metadata": {
        "id": "3vQd488rjSn4"
      },
      "outputs": [],
      "source": [
        "# 1. test_size=0.5로 데이터 분할\n",
        "X_train_a_half, X_valid_b_half, y_train_a_half, y_valid_b_half = train_test_split(\n",
        "    X_train, y_train, test_size=0.5, random_state=42\n",
        ")\n",
        "\n",
        "print(f\"기본 모델 훈련 데이터 크기 (50%): {X_train_a_half.shape[0]}\")\n",
        "print(f\"메타 모델 훈련 데이터 크기 (50%): {X_valid_b_half.shape[0]}\")\n",
        "\n",
        "# 2. 동일한 기본 모델들을 train_a_half로 학습\n",
        "trained_base_models_half = {}\n",
        "for name, model in base_models:\n",
        "    pipeline = Pipeline(steps=[('preprocessor', preprocessor),\n",
        "                               ('regressor', model)])\n",
        "    pipeline.fit(X_train_a_half, y_train_a_half)\n",
        "    trained_base_models_half[name] = pipeline\n",
        "\n",
        "# 3. 메타 특성 생성 및 메타 모델 학습\n",
        "meta_features_valid_half = pd.DataFrame()\n",
        "for name, model in trained_base_models_half.items():\n",
        "    meta_features_valid_half[name] = model.predict(X_valid_b_half)\n",
        "\n",
        "meta_model_blend_half = Ridge(random_state=42)\n",
        "meta_model_blend_half.fit(meta_features_valid_half, y_valid_b_half)\n",
        "\n",
        "# 4. 최종 예측 및 성능 평가\n",
        "meta_features_test_half = pd.DataFrame()\n",
        "for name, model in trained_base_models_half.items():\n",
        "    meta_features_test_half[name] = model.predict(X_test)\n",
        "\n",
        "y_pred_blend_half = meta_model_blend_half.predict(meta_features_test_half)\n",
        "rmse_blend_half = np.sqrt(mean_squared_error(y_test, y_pred_blend_half))\n",
        "\n",
        "print(f\"\\n블렌딩 앙상블(test_size=0.5)의 RMSE: {rmse_blend_half:.4f}\")\n",
        "print(f\"기존 블렌딩 앙상블(test_size=0.3)의 RMSE: {rmse_blend:.4f}\")\n",
        "\n",
        "# 결과 분석:\n",
        "# test_size를 0.3에서 0.5로 늘리면 기본 모델이 학습할 데이터(train_a)는 줄어들고,\n",
        "# 메타 모델이 학습할 데이터(valid_b)는 늘어납니다.\n",
        "# 기본 모델의 성능은 약간 저하될 수 있지만, 메타 모델은 더 많은 데이터를 기반으로 학습하므로\n",
        "# 더 안정적인 조합 가중치를 찾을 수 있습니다. 최종 성능은 이 두 효과의 상충 관계에 따라 결정됩니다.\n",
        "# 데이터셋이 작을수록 train_a의 크기를 줄이는 것이 성능에 더 큰 악영향을 미칠 수 있습니다."
      ]
    }
  ],
  "metadata": {
    "colab": {
      "provenance": []
    },
    "kernelspec": {
      "display_name": ".venv",
      "language": "python",
      "name": "python3"
    },
    "language_info": {
      "codemirror_mode": {
        "name": "ipython",
        "version": 3
      },
      "file_extension": ".py",
      "mimetype": "text/x-python",
      "name": "python",
      "nbconvert_exporter": "python",
      "pygments_lexer": "ipython3",
      "version": "3.12.9"
    }
  },
  "nbformat": 4,
  "nbformat_minor": 0
}
