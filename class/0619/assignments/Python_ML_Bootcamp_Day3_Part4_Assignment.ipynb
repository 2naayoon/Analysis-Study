{
 "cells": [
  {
   "cell_type": "markdown",
   "metadata": {},
   "source": [
    "# 📝 Lab #3 (Part 7): 통신사 고객 이탈 예측 모델 해석\n",
    "\n",
    "지금까지 배운 세 가지 모델 해석 기법(**Permutation Importance, LIME, SHAP**)을 모두 사용하여, 실제 고객 이탈(Churn) 예측 모델의 의사결정 과정을 분석하는 실습을 진행합니다.\n",
    "\n",
    "**Telco Customer Churn 데이터셋**을 사용하여 고객 이탈 여부를 예측하는 `LightGBM` 모델을 만들고, 전역적/지역적 관점에서 모델을 심층 분석합니다.\n",
    "\n",
    "### 과제 목표\n",
    "1. `LightGBM` 분류 모델을 훈련시키고 성능을 평가합니다.\n",
    "2. **Permutation Importance**를 사용해 모델의 전역적인 특성 중요도를 파악합니다.\n",
    "3. **SHAP**을 사용하여 전역적(Summary Plot) 및 지역적(Force Plot) 해석을 수행합니다.\n",
    "4. **LIME**을 사용하여 특정 고객(이탈 고객 vs. 비이탈 고객)의 예측 근거를 설명합니다.\n",
    "5. 세 가지 기법의 결과를 종합하여 모델에 대한 분석 보고서를 작성합니다."
   ]
  },
  {
   "cell_type": "markdown",
   "metadata": {},
   "source": [
    "### 1. 데이터 준비 및 모델 훈련"
   ]
  },
  {
   "cell_type": "code",
   "execution_count": null,
   "metadata": {},
   "outputs": [],
   "source": [
    "# 필요한 라이브러리 임포트\n",
    "import pandas as pd\n",
    "import numpy as np\n",
    "import plotly.express as px\n",
    "from sklearn.model_selection import train_test_split\n",
    "from sklearn.preprocessing import LabelEncoder, StandardScaler\n",
    "from lightgbm import LGBMClassifier\n",
    "from sklearn.metrics import accuracy_score, roc_auc_score\n",
    "\n",
    "# 데이터 로드\n",
    "path = '../../datasets/ml/telco-customer-churn/WA_Fn-UseC_-Telco-Customer-Churn.csv'\n",
    "df = pd.read_csv(path)\n",
    "\n",
    "# --- 데이터 전처리 ---\n",
    "# TotalCharges가 공백인 행 제거 및 숫자형으로 변환\n",
    "df['TotalCharges'] = pd.to_numeric(df['TotalCharges'], errors='coerce')\n",
    "df.dropna(inplace=True)\n",
    "\n",
    "# customerID 제거\n",
    "df.drop('customerID', axis=1, inplace=True)\n",
    "\n",
    "# 이진 특성 변환\n",
    "df['Churn'] = df['Churn'].apply(lambda x: 1 if x == 'Yes' else 0)\n",
    "\n",
    "# 범주형 특성 인코딩 (Label Encoding)\n",
    "categorical_cols = df.select_dtypes(include='object').columns\n",
    "for col in categorical_cols:\n",
    "    df[col] = LabelEncoder().fit_transform(df[col])\n",
    "\n",
    "# 특성과 타겟 분리\n",
    "X = df.drop('Churn', axis=1)\n",
    "y = df['Churn']\n",
    "feature_names = X.columns.tolist()\n",
    "\n",
    "# 훈련/테스트 데이터 분리\n",
    "X_train, X_test, y_train, y_test = train_test_split(X, y, test_size=0.2, random_state=42, stratify=y)\n",
    "\n",
    "# 모델 훈련\n",
    "lgbm = LGBMClassifier(random_state=42)\n",
    "lgbm.fit(X_train, y_train)\n",
    "\n",
    "# 모델 성능 평가\n",
    "preds = lgbm.predict(X_test)\n",
    "proba = lgbm.predict_proba(X_test)[:, 1]\n",
    "print(f\"Accuracy: {accuracy_score(y_test, preds):.4f}\")\n",
    "print(f\"ROC AUC: {roc_auc_score(y_test, proba):.4f}\")"
   ]
  },
  {
   "cell_type": "markdown",
   "metadata": {},
   "source": [
    "### 2. 전역적 해석 (Global Interpretation)"
   ]
  },
  {
   "cell_type": "markdown",
   "metadata": {},
   "source": [
    "#### [문제 1] Permutation Importance 계산\n",
    "\n",
    "`lgbm` 모델과 테스트 데이터(`X_test`, `y_test`)를 사용하여 Permutation Importance를 계산하고, 상위 10개 특성을 Bar chart로 시각화하세요. (`scoring`은 `roc_auc`를 사용하세요.)"
   ]
  },
  {
   "cell_type": "code",
   "execution_count": null,
   "metadata": {},
   "outputs": [],
   "source": [
    "from sklearn.inspection import permutation_importance\n",
    "\n",
    "# 여기에 코드를 작성하세요"
   ]
  },
  {
   "cell_type": "markdown",
   "metadata": {},
   "source": [
    "#### [문제 2] SHAP Summary Plot\n",
    "\n",
    "`shap` 라이브러리를 사용하여 `lgbm` 모델의 `summary_plot`을 그려보세요. Permutation Importance 결과와 어떻게 다른지 비교해보세요."
   ]
  },
  {
   "cell_type": "code",
   "execution_count": null,
   "metadata": {},
   "outputs": [],
   "source": [
    "import shap\n",
    "shap.initjs()\n",
    "\n",
    "# 여기에 코드를 작성하세요"
   ]
  },
  {
   "cell_type": "markdown",
   "metadata": {},
   "source": [
    "### 3. 지역적 해석 (Local Interpretation)"
   ]
  },
  {
   "cell_type": "markdown",
   "metadata": {},
   "source": [
    "#### [문제 3] 특정 고객 예측 해석 (SHAP Force Plot)\n",
    "\n",
    "테스트 데이터셋에서 **실제로 이탈했고(Churn=1), 모델도 이탈할 것이라고 올바르게 예측한 고객**을 한 명 골라 SHAP `force_plot`으로 예측 이유를 설명하세요."
   ]
  },
  {
   "cell_type": "code",
   "execution_count": null,
   "metadata": {},
   "outputs": [],
   "source": [
    "# 여기에 코드를 작성하세요"
   ]
  },
  {
   "cell_type": "markdown",
   "metadata": {},
   "source": [
    "#### [문제 4] 특정 고객 예측 해석 (LIME)\n",
    "\n",
    "테스트 데이터셋에서 **실제로 이탈하지 않았고(Churn=0), 모델도 이탈하지 않을 것이라고 올바르게 예측한 고객**을 한 명 골라 LIME으로 예측 이유를 설명하세요. (`num_features`는 6으로 설정)"
   ]
  },
  {
   "cell_type": "code",
   "execution_count": null,
   "metadata": {},
   "outputs": [],
   "source": [
    "import lime\n",
    "import lime.lime_tabular\n",
    "\n",
    "# 여기에 코드를 작성하세요"
   ]
  },
  {
   "cell_type": "markdown",
   "metadata": {},
   "source": [
    "### 4. 종합 분석\n",
    "\n",
    "#### [문제 5] 결과 분석 및 토의\n",
    "\n",
    "위에서 수행한 4가지 분석(Permutation Importance, SHAP Summary, SHAP Force, LIME) 결과를 바탕으로 다음 질문에 답하세요. (Markdown 셀에 답변을 작성)\n",
    "\n",
    "1. Permutation Importance와 SHAP Summary Plot에서 공통적으로 중요하게 나타난 최상위 특성 3가지는 무엇인가요? 두 기법의 결과에 차이가 있다면 그 이유는 무엇일까요?\n",
    "2. [문제 3]에서 분석한 '이탈 고객'의 이탈 예측에 가장 큰 영향을 미친 특성은 무엇이었나요? 해당 특성의 값이 어떠했기 때문에 모델이 이탈을 예측했는지 설명하세요.\n",
    "3. [문제 4]에서 분석한 '비이탈 고객'의 비이탈 예측에 가장 큰 영향을 미친 특성은 무엇이었나요? \n",
    "4. 이 모델을 비즈니스에 활용한다면, 어떤 고객에게 어떤 마케팅 활동을 제안할 수 있을까요? 위 분석 결과를 근거로 아이디어를 제시해보세요."
   ]
  }
 ],
 "metadata": {
  "kernelspec": {
   "display_name": "Python 3",
   "language": "python",
   "name": "python3"
  },
  "language_info": {
   "codemirror_mode": {
    "name": "ipython",
    "version": 3
   },
   "file_extension": ".py",
   "mimetype": "text/x-python",
   "name": "python",
   "nbconvert_exporter": "python",
   "pygments_lexer": "ipython3",
   "version": "3.9.7"
  }
 },
 "nbformat": 4,
 "nbformat_minor": 4
}
