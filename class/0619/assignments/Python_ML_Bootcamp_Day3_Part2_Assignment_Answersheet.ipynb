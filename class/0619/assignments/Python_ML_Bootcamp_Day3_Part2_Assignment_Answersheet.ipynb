{
  "cells": [
    {
      "cell_type": "markdown",
      "metadata": {
        "id": "7GLj-X2dYNP5"
      },
      "source": [
        "## 📝 Lab #3 과제 정답"
      ]
    },
    {
      "cell_type": "code",
      "execution_count": null,
      "metadata": {
        "id": "cKp2pAlCYNP5"
      },
      "outputs": [],
      "source": [
        "import pandas as pd\n",
        "import numpy as np\n",
        "from sklearn.model_selection import train_test_split\n",
        "from sklearn.ensemble import ExtraTreesRegressor, GradientBoostingRegressor, VotingRegressor\n",
        "import xgboost as xgb\n",
        "from sklearn.metrics import mean_squared_error\n",
        "import plotly.express as px\n",
        "\n",
        "# --- [문제 1] 데이터 로드 및 기본 전처리 ---\n",
        "path = '../../datasets/ml/bike-sharing/SeoulBikeData.csv'\n",
        "df_bike = pd.read_csv(path)\n",
        "\n",
        "df_bike['Date'] = pd.to_datetime(df_bike['Date'], format='%d/%m/%Y')\n",
        "df_bike['Month'] = df_bike['Date'].dt.month\n",
        "df_bike['Day'] = df_bike['Date'].dt.day\n",
        "df_bike = df_bike.drop('Date', axis=1)\n",
        "df_bike = pd.get_dummies(df_bike, columns=['Seasons', 'Holiday', 'Functioning Day'], drop_first=True)\n",
        "X = df_bike.drop('Rented Bike Count', axis=1)\n",
        "y = df_bike['Rented Bike Count']\n",
        "X_train, X_test, y_train, y_test = train_test_split(X, y, test_size=0.2, random_state=42)\n",
        "\n",
        "# --- [문제 2] 개별 모델 정의 ---\n",
        "et_reg = ExtraTreesRegressor(n_estimators=100, random_state=42, n_jobs=-1)\n",
        "gbrt_reg = GradientBoostingRegressor(n_estimators=100, random_state=42)\n",
        "xgb_reg = xgb.XGBRegressor(n_estimators=200, learning_rate=0.1, max_depth=7, random_state=42, n_jobs=-1)\n",
        "\n",
        "# --- [문제 3] VotingRegressor 정의 ---\n",
        "voting_reg = VotingRegressor(estimators=[('et', et_reg), ('gbrt', gbrt_reg), ('xgb', xgb_reg)], n_jobs=-1)\n",
        "\n",
        "# --- [문제 4] 학습 및 성능 비교 ---\n",
        "models = [et_reg, gbrt_reg, xgb_reg, voting_reg]\n",
        "model_names = ['ExtraTrees', 'GradientBoosting', 'XGBoost', 'Voting (Equal Weights)']\n",
        "\n",
        "print(\"--- 모델별 RMSE 성능 비교 ---\")\n",
        "for model, name in zip(models, model_names):\n",
        "    model.fit(X_train, y_train)\n",
        "    y_pred = model.predict(X_test)\n",
        "    rmse = np.sqrt(mean_squared_error(y_test, y_pred))\n",
        "    print(f\"{name}: {rmse:.4f}\")\n",
        "\n",
        "# --- [문제 5] 가중치를 적용한 VotingRegressor ---\n",
        "# 개별 성능을 보니 XGBoost가 가장 우수하므로, 더 높은 가중치를 부여\n",
        "weighted_voting_reg = VotingRegressor(\n",
        "    estimators=[('et', et_reg), ('gbrt', gbrt_reg), ('xgb', xgb_reg)],\n",
        "    weights=[0.15, 0.25, 0.6], # XGBoost에 높은 가중치\n",
        "    n_jobs=-1\n",
        ")\n",
        "weighted_voting_reg.fit(X_train, y_train)\n",
        "y_pred_weighted = weighted_voting_reg.predict(X_test)\n",
        "rmse_weighted = np.sqrt(mean_squared_error(y_test, y_pred_weighted))\n",
        "print(f\"\\nVoting (Weighted): {rmse_weighted:.4f}\")\n",
        "\n",
        "\n",
        "# --- [문제 6] 최종 모델 예측 결과 시각화 ---\n",
        "# 최종 예측값을 데이터프레임으로 만들기\n",
        "df_results = pd.DataFrame({'실제 대여량': y_test, '예측 대여량': y_pred_weighted})\n",
        "\n",
        "fig = px.scatter(df_results,\n",
        "                 x='실제 대여량',\n",
        "                 y='예측 대여량',\n",
        "                 title='실제 값 vs. 예측 값 (Weighted Voting)',\n",
        "                 opacity=0.5,\n",
        "                 trendline='ols', # Ordinary Least Squares 회귀선 추가\n",
        "                 trendline_color_override='red'\n",
        "                 )\n",
        "fig.update_layout(\n",
        "    xaxis_title=\"실제 대여량\",\n",
        "    yaxis_title=\"예측 대여량\",\n",
        "    width=800, height=600\n",
        ")\n",
        "fig.show()\n",
        "\n",
        "# --- [문제 7] 결과 분석 ---\n",
        "# 1. Voting 앙상블은 개별 모델 중 가장 성능이 좋았던 XGBoost와 비슷하거나 약간 더 나은 성능을 보여주었습니다. 이는 여러 모델의 예측을 평균내면서 일부 모델의 오차를 다른 모델이 상쇄해주는 효과 덕분입니다.\n",
        "# 2. 성능이 좋은 모델에 더 높은 가중치를 부여했을 때, 앙상블 모델의 성능이 소폭 개선되었습니다. 이는 앙상블의 최종 결정에 더 정확한 모델의 \"의견\"을 더 많이 반영했기 때문입니다.\n",
        "# 3. 산점도 그래프에서 점들이 y=x 직선(붉은색 추세선) 주위에 밀집할수록 예측이 정확함을 의미합니다.\n",
        "#    - 대체로 추세선이 y=x와 비슷하게 그려져 전반적인 예측 경향은 좋습니다.\n",
        "#    - 하지만 대여량이 매우 높은 값(2500 이상)에서는 점들이 추세선 아래에 위치하는 경향이 있는데, 이는 모델이 극단적으로 높은 수요를 과소예측하는 경향이 있음을 시사합니다."
      ]
    }
  ],
  "metadata": {
    "colab": {
      "provenance": []
    },
    "kernelspec": {
      "display_name": "Python 3",
      "name": "python3"
    }
  },
  "nbformat": 4,
  "nbformat_minor": 0
}
