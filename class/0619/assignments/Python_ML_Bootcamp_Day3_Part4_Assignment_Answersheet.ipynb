{
 "cells": [
  {
   "cell_type": "markdown",
   "metadata": {},
   "source": [
    "# 📝 Lab #3-4 정답지: 통신사 고객 이탈 예측 모델 해석"
   ]
  },
  {
   "cell_type": "markdown",
   "metadata": {},
   "source": [
    "### 1. 데이터 준비 및 모델 훈련"
   ]
  },
  {
   "cell_type": "code",
   "execution_count": 1,
   "metadata": {},
   "outputs": [
    {
     "name": "stdout",
     "output_type": "stream",
     "text": [
      "Accuracy: 0.8038\n",
      "ROC AUC: 0.8437\n"
     ]
    }
   ],
   "source": [
    "# 필요한 라이브러리 임포트\n",
    "import pandas as pd\n",
    "import numpy as np\n",
    "import plotly.express as px\n",
    "from sklearn.model_selection import train_test_split\n",
    "from sklearn.preprocessing import LabelEncoder, StandardScaler\n",
    "from lightgbm import LGBMClassifier\n",
    "from sklearn.metrics import accuracy_score, roc_auc_score\n",
    "\n",
    "# 데이터 로드\n",
    "path = '../../datasets/ml/telco-customer-churn/WA_Fn-UseC_-Telco-Customer-Churn.csv'\n",
    "df = pd.read_csv(path)\n",
    "\n",
    "# --- 데이터 전처리 ---\n",
    "df['TotalCharges'] = pd.to_numeric(df['TotalCharges'], errors='coerce')\n",
    "df.dropna(inplace=True)\n",
    "df.drop('customerID', axis=1, inplace=True)\n",
    "df['Churn'] = df['Churn'].apply(lambda x: 1 if x == 'Yes' else 0)\n",
    "\n",
    "categorical_cols = df.select_dtypes(include='object').columns\n",
    "for col in categorical_cols:\n",
    "    df[col] = LabelEncoder().fit_transform(df[col])\n",
    "\n",
    "X = df.drop('Churn', axis=1)\n",
    "y = df['Churn']\n",
    "feature_names = X.columns.tolist()\n",
    "\n",
    "X_train, X_test, y_train, y_test = train_test_split(X, y, test_size=0.2, random_state=42, stratify=y)\n",
    "\n",
    "# 모델 훈련\n",
    "lgbm = LGBMClassifier(random_state=42)\n",
    "lgbm.fit(X_train, y_train)\n",
    "\n",
    "# 모델 성능 평가\n",
    "preds = lgbm.predict(X_test)\n",
    "proba = lgbm.predict_proba(X_test)[:, 1]\n",
    "print(f\"Accuracy: {accuracy_score(y_test, preds):.4f}\")\n",
    "print(f\"ROC AUC: {roc_auc_score(y_test, proba):.4f}\")"
   ]
  },
  {
   "cell_type": "markdown",
   "metadata": {},
   "source": [
    "### 2. 전역적 해석 (Global Interpretation)"
   ]
  },
  {
   "cell_type": "markdown",
   "metadata": {},
   "source": [
    "#### [문제 1] Permutation Importance 계산 (정답)"
   ]
  },
  {
   "cell_type": "code",
   "execution_count": 2,
   "metadata": {},
   "outputs": [
    {
     "data": {
      "application/vnd.plotly.v1+json": {
       "config": {
        "plotlyServerURL": "https://plot.ly"
       },
       "data": [
        {
         "error_x": {
          "array": [
           0.0090264028,
           0.0051152865,
           0.0053744983,
           0.002956262,
           0.0024982352,
           0.0024967355,
           0.0023846663,
           0.0016625895,
           0.001925324,
           0.0013919245
          ],
          "type": "data",
          "visible": true
         },
         "legendgroup": "",
         "marker": {
          "color": "#636efa",
          "pattern": {}
         },
         "name": "",
         "orientation": "h",
         "showlegend": false,
         "type": "bar",
         "x": [
          0.0033149955,
          0.0037326889,
          0.004128062,
          0.0045145829,
          0.0048680197,
          0.006935105,
          0.0125407887,
          0.0142981989,
          0.0270054774,
          0.0436852504
         ],
         "xaxis": "x",
         "y": [
          "StreamingMovies",
          "PaperlessBilling",
          "gender",
          "TotalCharges",
          "PaymentMethod",
          "MonthlyCharges",
          "OnlineSecurity",
          "InternetService",
          "tenure",
          "Contract"
         ],
         "yaxis": "y"
        }
       ],
       "layout": {
        "barmode": "relative",
        "legend": {
         "tracegroupgap": 0
        },
        "template": {},
        "title": {
         "text": "Permutation Importance (Top 10 Features)"
        },
        "xaxis": {
         "anchor": "y",
         "domain": [
          0,
          1
         ],
         "title": {
          "text": "Importance (ROC AUC Drop)"
         }
        },
        "yaxis": {
         "anchor": "x",
         "autorange": "reversed",
         "categoryorder": "total ascending",
         "domain": [
          0,
          1
         ],
         "title": {
          "text": "Feature"
         }
        }
       }
      },
      "text/plain": []
     },
     "metadata": {},
     "output_type": "display_data"
    }
   ],
   "source": [
    "from sklearn.inspection import permutation_importance\n",
    "\n",
    "# ROC AUC를 점수 기준으로 Permutation Importance 계산\n",
    "result = permutation_importance(\n",
    "    lgbm, X_test, y_test, scoring='roc_auc', n_repeats=10, random_state=42, n_jobs=-1\n",
    ")\n",
    "\n",
    "# 결과를 DataFrame으로 정리\n",
    "importances = pd.DataFrame(\n",
    "    {'feature': feature_names,\n",
    "     'importance_mean': result.importances_mean,\n",
    "     'importance_std': result.importances_std}\n",
    ").sort_values('importance_mean', ascending=False)\n",
    "\n",
    "# 상위 10개 특성 시각화\n",
    "fig = px.bar(importances.head(10).sort_values('importance_mean'),\n",
    "             x='importance_mean',\n",
    "             y='feature',\n",
    "             error_x='importance_std',\n",
    "             title='Permutation Importance (Top 10 Features)',\n",
    "             labels={'importance_mean': 'Importance (ROC AUC Drop)', 'feature': 'Feature'},\n",
    "             orientation='h')\n",
    "\n",
    "fig.update_layout(yaxis={'categoryorder':'total ascending'})\n",
    "fig.show()"
   ]
  },
  {
   "cell_type": "markdown",
   "metadata": {},
   "source": [
    "#### [문제 2] SHAP Summary Plot (정답)"
   ]
  },
  {
   "cell_type": "code",
   "execution_count": 3,
   "metadata": {},
   "outputs": [
    {
     "data": {
      "text/html": [
       "<script>\n",
       "  function shap_load_css() {\n",
       "    var link = document.createElement('link');\n",
       "    link.rel = 'stylesheet';\n",
       "    link.type = 'text/css';\n",
       "    link.href = 'https://cdn.jsdelivr.net/npm/shap@0.41.0/notebooks/resources/style.css';\n",
       "    document.getElementsByTagName('head')[0].appendChild(link);\n",
       "  }\n",
       "  if (typeof(jQuery) != 'undefined') {\n",
       "    shap_load_css();\n",
       "  } else {\n",
       "    var script = document.createElement('script');\n",
       "    script.src = 'https://ajax.googleapis.com/ajax/libs/jquery/3.5.1/jquery.min.js';\n",
       "    script.onload = shap_load_css;\n",
       "    document.getElementsByTagName('head')[0].appendChild(script);\n",
       "  }\n",
       "</script>"
      ]
     },
     "metadata": {},
     "output_type": "display_data"
    }
   ],
   "source": [
    "import shap\n",
    "shap.initjs()\n",
    "\n",
    "# TreeExplainer를 사용하여 SHAP 값 계산\n",
    "explainer = shap.TreeExplainer(lgbm)\n",
    "shap_values = explainer.shap_values(X_test)\n",
    "\n",
    "# Summary Plot 시각화\n",
    "# shap_values[1]은 'Churn=1' 클래스에 대한 기여도를 의미합니다.\n",
    "shap.summary_plot(shap_values[1], X_test, plot_type=\"dot\")"
   ]
  },
  {
   "cell_type": "markdown",
   "metadata": {},
   "source": [
    "### 3. 지역적 해석 (Local Interpretation)"
   ]
  },
  {
   "cell_type": "markdown",
   "metadata": {},
   "source": [
    "#### [문제 3] 특정 고객 예측 해석 (SHAP Force Plot) (정답)"
   ]
  },
  {
   "cell_type": "code",
   "execution_count": 4,
   "metadata": {},
   "outputs": [
    {
     "name": "stdout",
     "output_type": "stream",
     "text": [
      "이탈(Churn=1)로 올바르게 예측된 고객 인덱스: 1\n"
     ]
    },
    {
     "data": {
      "text/html": [
       "<div id='shap_id_140417961138864' class='shap_force_plot_js'></div><script>function render_140417961138864() { new ForcePlot({\"outNames\": [\"output value\"], \"baseValue\": -1.3323062658309937, \"link\": \"identity\", \"featureNames\": {\"0\": \"gender\", \"1\": \"SeniorCitizen\", \"2\": \"Partner\", \"3\": \"Dependents\", \"4\": \"tenure\", \"5\": \"PhoneService\", \"6\": \"MultipleLines\", \"7\": \"InternetService\", \"8\": \"OnlineSecurity\", \"9\": \"OnlineBackup\", \"10\": \"DeviceProtection\", \"11\": \"TechSupport\", \"12\": \"StreamingTV\", \"13\": \"StreamingMovies\", \"14\": \"Contract\", \"15\": \"PaperlessBilling\", \"16\": \"PaymentMethod\", \"17\": \"MonthlyCharges\", \"18\": \"TotalCharges\"}, \"features\": {\"0\": {\"value\": 0.0, \"effect\": -0.015248550102114677}, \"1\": {\"value\": 1.0, \"effect\": 0.22234033048152924}, \"2\": {\"value\": 0.0, \"effect\": 0.14169727265834808}, \"3\": {\"value\": 0.0, \"effect\": 0.23194511234760284}, \"4\": {\"value\": 1.0, \"effect\": -1.6112701892852783}, \"5\": {\"value\": 1.0, \"effect\": -0.010537022724747658}, \"6\": {\"value\": 0.0, \"effect\": -0.19833441078662872}, \"7\": {\"value\": 1.0, \"effect\": -0.3204907774925232}, \"8\": {\"value\": 0.0, \"effect\": 1.1090620756149292}, \"9\": {\"value\": 0.0, \"effect\": 0.589816689491272}, \"10\": {\"value\": 0.0, \"effect\": 0.5282464027404785}, \"11\": {\"value\": 0.0, \"effect\": 0.9023416638374329}, \"12\": {\"value\": 0.0, \"effect\": 0.04022378474473953}, \"13\": {\"value\": 0.0, \"effect\": -0.04005523026006762}, \"14\": {\"value\": 0.0, \"effect\": 2.3734912872314453}, \"15\": {\"value\": 1.0, \"effect\": 0.17056636810302734}, \"16\": {\"value\": 2.0, \"effect\": 0.4287841320037842}, \"17\": {\"value\": 70.7, \"effect\": -0.14131557941436768}, \"18\": {\"value\": 70.7, \"effect\": -0.16543085873126984}}, \"outValue\": 3.091396927833557}, \"140417961138864\");}</script>"
      ]
     },
     "metadata": {},
     "output_type": "display_data"
    }
   ],
   "source": [
    "# 이탈(Churn=1)로 올바르게 예측한 고객 인덱스 찾기\n",
    "churn_correct_indices = np.where((y_test.values == 1) & (preds == 1))[0]\n",
    "churn_customer_idx = churn_correct_indices[0] # 첫 번째 고객 선택\n",
    "print(f\"이탈(Churn=1)로 올바르게 예측된 고객 인덱스: {churn_customer_idx}\")\n",
    "\n",
    "# 해당 고객에 대한 Force Plot 시각화\n",
    "# shap_values[1]은 'Churn=1' 클래스에 대한 값\n",
    "shap.force_plot(explainer.expected_value[1], \n",
    "                shap_values[1][churn_customer_idx], \n",
    "                X_test.iloc[churn_customer_idx])"
   ]
  },
  {
   "cell_type": "markdown",
   "metadata": {},
   "source": [
    "#### [문제 4] 특정 고객 예측 해석 (LIME) (정답)"
   ]
  },
  {
   "cell_type": "code",
   "execution_count": 5,
   "metadata": {},
   "outputs": [
    {
     "name": "stdout",
     "output_type": "stream",
     "text": [
      "비이탈(Churn=0)로 올바르게 예측된 고객 인덱스: 0\n"
     ]
    },
    {
     "data": {
      "text/html": [
       "\n",
       " <iframe src=\"data:text/html;base64,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\" width=\"100%\" height=\"500px\" frameborder=\"0\"></iframe> "
      ]
     },
     "metadata": {},
     "output_type": "display_data"
    }
   ],
   "source": [
    "import lime\n",
    "import lime.lime_tabular\n",
    "\n",
    "# LIME Explainer 객체 생성\n",
    "lime_explainer = lime.lime_tabular.LimeTabularExplainer(\n",
    "    training_data=X_train.values,\n",
    "    feature_names=feature_names,\n",
    "    class_names=['Not Churn', 'Churn'],\n",
    "    mode='classification'\n",
    ")\n",
    "\n",
    "# 비이탈(Churn=0)로 올바르게 예측한 고객 인덱스 찾기\n",
    "no_churn_correct_indices = np.where((y_test.values == 0) & (preds == 0))[0]\n",
    "no_churn_customer_idx = no_churn_correct_indices[0]\n",
    "print(f\"비이탈(Churn=0)로 올바르게 예측된 고객 인덱스: {no_churn_customer_idx}\")\n",
    "\n",
    "# 해당 고객에 대한 LIME 설명 생성\n",
    "explanation = lime_explainer.explain_instance(\n",
    "    X_test.iloc[no_churn_customer_idx].values,\n",
    "    lgbm.predict_proba,\n",
    "    num_features=6\n",
    ")\n",
    "\n",
    "# 결과 시각화\n",
    "explanation.show_in_notebook(show_table=True)"
   ]
  },
  {
   "cell_type": "markdown",
   "metadata": {},
   "source": [
    "### 4. 종합 분석"
   ]
  },
  {
   "cell_type": "markdown",
   "metadata": {},
   "source": [
    "#### [문제 5] 결과 분석 및 토의 (정답 예시)\n",
    "\n",
    "**1. Permutation Importance와 SHAP Summary Plot에서 공통적으로 중요하게 나타난 최상위 특성 3가지는 무엇인가요? 두 기법의 결과에 차이가 있다면 그 이유는 무엇일까요?**\n",
    "\n",
    "-   **공통 최상위 특성**: 양쪽 모두에서 `Contract`(계약 유형), `tenure`(고객 유지 기간), `InternetService`(인터넷 서비스 종류)가 매우 중요한 특성으로 나타났습니다. `MonthlyCharges`(월 요금)와 `TotalCharges`(총 요금)도 상위권에 위치합니다.\n",
    "-   **차이점과 이유**: \n",
    "    -   Permutation Importance는 모델의 최종 성능 지표(여기서는 ROC AUC)가 얼마나 떨어지는지만을 측정하므로 특성의 순수한 '영향력'만을 보여줍니다.\n",
    "    -   SHAP Summary Plot은 영향력뿐만 아니라, 각 특성 값이 예측에 미치는 **방향성**(이탈 확률을 높이는지, 낮추는지)과 **분포**까지 함께 보여줍니다. 예를 들어, `Contract` 특성의 경우, SHAP plot을 통해 월별 계약(값이 0)이 이탈 확률을 높이고(붉은색 점들이 오른쪽으로), 2년 계약(값이 2)은 이탈 확률을 낮춘다(푸른색 점들이 왼쪽으로)는 구체적인 관계를 알 수 있습니다. 이처럼 SHAP이 더 풍부한 정보를 제공하기 때문에 순위가 약간 다를 수 있습니다.\n",
    "\n",
    "**2. [문제 3]에서 분석한 '이탈 고객'의 이탈 예측에 가장 큰 영향을 미친 특성은 무엇이었나요? 해당 특성의 값이 어떠했기 때문에 모델이 이탈을 예측했는지 설명하세요.**\n",
    "\n",
    "-   **가장 큰 영향을 미친 특성**: `Contract` (계약 유형) 입니다.\n",
    "-   **이유**: SHAP Force Plot에서 `Contract`는 가장 긴 붉은색 막대로 표시되어, 이탈 확률을 가장 크게 높인 요인임을 알 수 있습니다. 이 고객의 `Contract` 값은 0으로, 이는 '월별 계약(Month-to-month)'에 해당합니다. 약정 기간이 짧은 월별 계약 고객은 언제든 쉽게 서비스를 해지할 수 있기 때문에 모델이 이탈 가능성을 매우 높게 판단한 것입니다. 그 외에도 `OnlineSecurity=0`(온라인 보안 서비스 미사용), `TechSupport=0`(기술 지원 미사용) 등도 이탈 예측에 기여했습니다.\n",
    "\n",
    "**3. [문제 4]에서 분석한 '비이탈 고객'의 비이탈 예측에 가장 큰 영향을 미친 특성은 무엇이었나요?**\n",
    "\n",
    "-   LIME 결과를 보면 `InternetService > 2`, `Contract > 16`, `tenure > 58`이 비이탈 예측(Not Churn 확률을 낮춤, 즉 Churn 확률을 높임)에 가장 큰 영향을 미쳤습니다. 이는 이 고객이 DSL이나 광랜이 아닌 다른 인터넷 서비스를 사용하고, 장기 계약을 맺었으며, 오랜 기간 고객으로 유지되었음을 의미합니다. 이러한 특성들은 고객 충성도가 높다는 강력한 신호이므로, 모델이 이 고객은 이탈하지 않을 것이라고 강하게 예측한 근거가 됩니다.\n",
    "\n",
    "**4. 이 모델을 비즈니스에 활용한다면, 어떤 고객에게 어떤 마케팅 활동을 제안할 수 있을까요? 위 분석 결과를 근거로 아이디어를 제시해보세요.**\n",
    "\n",
    "모델 해석 결과를 바탕으로 다음과 같은 데이터 기반의 마케팅 전략을 수립할 수 있습니다.\n",
    "\n",
    "-   **타겟 고객군 선정**: `Contract`가 '월별 계약'이고, `tenure`가 짧으며(예: 1년 미만), `OnlineSecurity`나 `TechSupport` 같은 부가 서비스를 이용하지 않는 고객을 '이탈 고위험군'으로 분류합니다.\n",
    "-   **개인화된 리텐션(고객 유지) 프로그램 제안**:\n",
    "    -   **장기 계약 유도**: 이탈 고위험군 고객에게 1년 또는 2년 약정으로 전환 시 요금 할인이나 사은품을 제공하는 프로모션을 진행합니다.\n",
    "    -   **부가 서비스 체험 제공**: `OnlineSecurity`나 `TechSupport` 서비스가 이탈 방지에 긍정적인 영향을 미치므로, 해당 서비스를 몇 개월간 무료로 체험하게 하여 서비스의 가치를 느끼게 하고 유료 전환을 유도합니다.\n",
    "    -   **요금제 컨설팅**: `MonthlyCharges`가 높은 것도 이탈 요인이므로, 고객의 `TotalCharges`와 사용 패턴을 분석하여 더 저렴하거나 합리적인 요금제를 추천해주는 컨설팅을 제공할 수 있습니다."
   ]
  }
 ],
 "metadata": {
  "kernelspec": {
   "display_name": "Python 3",
   "language": "python",
   "name": "python3"
  },
  "language_info": {
   "codemirror_mode": {
    "name": "ipython",
    "version": 3
   },
   "file_extension": ".py",
   "mimetype": "text/x-python",
   "name": "python",
   "nbconvert_exporter": "python",
   "pygments_lexer": "ipython3",
   "version": "3.9.7"
  }
 },
 "nbformat": 4,
 "nbformat_minor": 4
}
