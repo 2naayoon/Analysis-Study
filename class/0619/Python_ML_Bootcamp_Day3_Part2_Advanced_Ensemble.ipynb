{
  "cells": [
    {
      "cell_type": "markdown",
      "metadata": {
        "id": "NyKvD6DFYNPw"
      },
      "source": [
        "# 🚀 Day 3-2: 앙상블 심화 (Bagging, Voting, Boosting)\n",
        "\n",
        "앙상블(Ensemble) 학습의 철학은 이 한 문장으로 요약될 수 있습니다. \n",
        "\n",
        "단 하나의 강력한 모델에 의존하기보다, 여러 개의 평범한 모델(약한 학습기, weak learner)을 모아 집단 지성을 형성했을 때 훨씬 더 안정적이고 뛰어난 예측 성능을 얻을 수 있습니다.\n",
        "\n",
        "Day 1에서 우리는 앙상블의 대표주자인 `RandomForest`를 이미 만나보았습니다. \n",
        "\n",
        "랜덤 포레스트는 <u>배깅(Bagging)</u> 이라는 앙상블 기법을 기반으로 만들어졌죠.\n",
        "\n",
        "이번 시간에는 여기서 한 걸음 더 나아가, 배깅의 또 다른 변형인 <u>Extra Trees</u>를 알아보고, \n",
        "\n",
        "서로 다른 종류의 모델들을 결합하는 <u>보팅(Voting)</u>, 그리고 이전 모델의 실수를 보완하며 순차적으로 학습하는 <u>부스팅(Boosting)</u> 계열의 알고리즘들을 깊이 있게 탐색합니다.\n",
        "\n",
        "이번 실습에서는 다음 두 데이터셋을 주로 사용합니다.\n",
        "\n",
        "* <u>Heart Failure Records:</u> 환자의 임상 데이터를 기반으로 심부전으로 인한 사망 여부를 예측하는 분류 문제 (Bagging, Voting 실습용)\n",
        "\n",
        "* <u>Seoul Bike Sharing Demand:</u> 서울시 공공자전거 '따릉이'의 시간대별 대여 수요를 예측하는 회귀 문제 (Boosting 실습용)\n",
        "\n",
        "이 과정을 통해 여러분은 개별 모델의 성능을 뛰어넘어, 캐글(Kaggle)과 같은 데이터 경진대회에서 상위권을 차지하는 모델들이 어떻게 구성되는지에 대한 실질적인 감각을 익히게 될 것입니다.\n",
        "\n",
        "---"
      ]
    },
    {
      "cell_type": "markdown",
      "metadata": {},
      "source": [
        "\n",
        "### 1. Bagging 계열 심화 - Extra Trees\n",
        "\n",
        "배깅은 <u>B</u>ootstrap <u>Agg</u>regat<u>ing</u>의 약자로, \n",
        "\n",
        "원본 데이터셋에서 무작위로 복원을 허용하여 여러 개의 부분 데이터셋(Bootstrap sample)을 만들고,\n",
        "\n",
        "각 데이터셋으로 개별 모델을 학습시킨 뒤 결과를 종합하는 방식입니다. \n",
        "\n",
        "`RandomForest`는 여기에 추가로 각 노드를 분할할 때 특성의 일부만 무작위로 선택하는 과정을 더해 모델의 다양성을 극대화합니다.\n",
        "\n",
        "이제 `RandomForest`와 매우 유사하지만, '극단적인 무작위성'을 더한 <u>Extra Trees (Extremely Randomized Trees)</u> 를 알아보겠습니다.\n",
        "\n",
        "#### 🧠 개념 이해하기\n",
        "\n",
        "`ExtraTrees`는 `RandomForest`와 두 가지 핵심적인 차이점을 가집니다.\n",
        "\n",
        "1.  <u>부트스트랩 미사용 (No Bootstrapping):</u> `RandomForest`는 복원 추출을 통해 부트스트랩 샘플을 만들지만, `ExtraTrees`는 기본적으로 전체 원본 훈련 데이터셋을 모든 트리에 그대로 사용합니다 (`bootstrap=False`가 기본값). 이는 데이터의 편향(Bias)을 약간 줄이는 효과를 가져올 수 있습니다.\n",
        "\n",
        "2.  <u>극도의 무작위 분할 (Extremely Randomized Splits):</u> `RandomForest`는 각 노드에서 최적의 분할 지점을 찾기 위해 고려 대상이 된 특성들의 모든 가능한 분할 지점을 평가합니다. 반면, `ExtraTrees`는 한 단계 더 나아가 분할 지점(threshold)마저도 <u>무작위로</u> 선택합니다. 즉, 랜덤한 특성 서브셋에 대해 랜덤한 분할 후보들을 생성하고, 그중에서 가장 좋은 것을 선택합니다.\n",
        "\n",
        "이러한 극단적인 무작위성은 다음과 같은 효과를 가져옵니다.\n",
        "\n",
        "* <u>분산 감소:</u> 트리의 분할이 데이터에 덜 의존적이 되므로, 모델의 분산(Variance)이 줄어들어 과적합 방지에 더 효과적일 수 있습니다.\n",
        "\n",
        "* <u>속도 향상:</u> 최적의 분할을 일일이 계산하지 않으므로 훈련 속도가 일반적으로 더 빠릅니다.\n",
        "\n",
        "결론적으로 `ExtraTrees`는 약간의 편향 증가를 감수하는 대신, 분산을 크게 줄이고 훈련 속도를 높이는 전략을 취하는 모델이라고 할 수 있습니다.\n",
        "\n",
        "#### 💻 코드로 알아보기\n",
        "\n",
        "`Heart Failure Records` 데이터셋으로 `ExtraTreesClassifier`를 직접 사용해 보겠습니다."
      ]
    },
    {
      "cell_type": "code",
      "execution_count": 4,
      "metadata": {
        "id": "Mk7QfIt4YNP0"
      },
      "outputs": [],
      "source": [
        "import pandas as pd\n",
        "import numpy as np\n",
        "from sklearn.model_selection import train_test_split\n",
        "from sklearn.ensemble import ExtraTreesClassifier\n",
        "from sklearn.metrics import accuracy_score, f1_score\n",
        "import plotly.express as px\n",
        "import warnings\n",
        "warnings.filterwarnings('ignore')\n",
        "\n",
        "# 데이터셋 로드\n",
        "path = '../datasets/ml/heart-failure/heart_failure_clinical_records_dataset.csv'\n",
        "df_heart = pd.read_csv(path)"
      ]
    },
    {
      "cell_type": "code",
      "execution_count": 2,
      "metadata": {},
      "outputs": [
        {
          "name": "stdout",
          "output_type": "stream",
          "text": [
            "ExtraTreesClassifier 정확도: 0.7333\n",
            "ExtraTreesClassifier F1 점수: 0.4667\n"
          ]
        },
        {
          "data": {
            "application/vnd.plotly.v1+json": {
              "config": {
                "plotlyServerURL": "https://plot.ly"
              },
              "data": [
                {
                  "hovertemplate": "중요도=%{x}<br>특성=%{y}<extra></extra>",
                  "legendgroup": "",
                  "marker": {
                    "color": "#636efa",
                    "pattern": {
                      "shape": ""
                    }
                  },
                  "name": "",
                  "orientation": "h",
                  "showlegend": false,
                  "textposition": "auto",
                  "type": "bar",
                  "x": {
                    "bdata": "xuPq6jc90j8+yqxsMvPBP88gpZNwBME/7uLda1YStD8BZQ5Yp82zPxiDig2Lx7M/hWNEBYPBsT+o/mAJQQChP+RHXiScJZ0/7Y8h1YUUnT+jFYV3AXqZP2HGDnCUFpk/",
                    "dtype": "f8"
                  },
                  "xaxis": "x",
                  "y": [
                    "time",
                    "ejection_fraction",
                    "serum_creatinine",
                    "serum_sodium",
                    "creatinine_phosphokinase",
                    "age",
                    "platelets",
                    "diabetes",
                    "sex",
                    "anaemia",
                    "smoking",
                    "high_blood_pressure"
                  ],
                  "yaxis": "y"
                }
              ],
              "layout": {
                "barmode": "relative",
                "legend": {
                  "tracegroupgap": 0
                },
                "template": {
                  "data": {
                    "bar": [
                      {
                        "error_x": {
                          "color": "#2a3f5f"
                        },
                        "error_y": {
                          "color": "#2a3f5f"
                        },
                        "marker": {
                          "line": {
                            "color": "#E5ECF6",
                            "width": 0.5
                          },
                          "pattern": {
                            "fillmode": "overlay",
                            "size": 10,
                            "solidity": 0.2
                          }
                        },
                        "type": "bar"
                      }
                    ],
                    "barpolar": [
                      {
                        "marker": {
                          "line": {
                            "color": "#E5ECF6",
                            "width": 0.5
                          },
                          "pattern": {
                            "fillmode": "overlay",
                            "size": 10,
                            "solidity": 0.2
                          }
                        },
                        "type": "barpolar"
                      }
                    ],
                    "carpet": [
                      {
                        "aaxis": {
                          "endlinecolor": "#2a3f5f",
                          "gridcolor": "white",
                          "linecolor": "white",
                          "minorgridcolor": "white",
                          "startlinecolor": "#2a3f5f"
                        },
                        "baxis": {
                          "endlinecolor": "#2a3f5f",
                          "gridcolor": "white",
                          "linecolor": "white",
                          "minorgridcolor": "white",
                          "startlinecolor": "#2a3f5f"
                        },
                        "type": "carpet"
                      }
                    ],
                    "choropleth": [
                      {
                        "colorbar": {
                          "outlinewidth": 0,
                          "ticks": ""
                        },
                        "type": "choropleth"
                      }
                    ],
                    "contour": [
                      {
                        "colorbar": {
                          "outlinewidth": 0,
                          "ticks": ""
                        },
                        "colorscale": [
                          [
                            0,
                            "#0d0887"
                          ],
                          [
                            0.1111111111111111,
                            "#46039f"
                          ],
                          [
                            0.2222222222222222,
                            "#7201a8"
                          ],
                          [
                            0.3333333333333333,
                            "#9c179e"
                          ],
                          [
                            0.4444444444444444,
                            "#bd3786"
                          ],
                          [
                            0.5555555555555556,
                            "#d8576b"
                          ],
                          [
                            0.6666666666666666,
                            "#ed7953"
                          ],
                          [
                            0.7777777777777778,
                            "#fb9f3a"
                          ],
                          [
                            0.8888888888888888,
                            "#fdca26"
                          ],
                          [
                            1,
                            "#f0f921"
                          ]
                        ],
                        "type": "contour"
                      }
                    ],
                    "contourcarpet": [
                      {
                        "colorbar": {
                          "outlinewidth": 0,
                          "ticks": ""
                        },
                        "type": "contourcarpet"
                      }
                    ],
                    "heatmap": [
                      {
                        "colorbar": {
                          "outlinewidth": 0,
                          "ticks": ""
                        },
                        "colorscale": [
                          [
                            0,
                            "#0d0887"
                          ],
                          [
                            0.1111111111111111,
                            "#46039f"
                          ],
                          [
                            0.2222222222222222,
                            "#7201a8"
                          ],
                          [
                            0.3333333333333333,
                            "#9c179e"
                          ],
                          [
                            0.4444444444444444,
                            "#bd3786"
                          ],
                          [
                            0.5555555555555556,
                            "#d8576b"
                          ],
                          [
                            0.6666666666666666,
                            "#ed7953"
                          ],
                          [
                            0.7777777777777778,
                            "#fb9f3a"
                          ],
                          [
                            0.8888888888888888,
                            "#fdca26"
                          ],
                          [
                            1,
                            "#f0f921"
                          ]
                        ],
                        "type": "heatmap"
                      }
                    ],
                    "histogram": [
                      {
                        "marker": {
                          "pattern": {
                            "fillmode": "overlay",
                            "size": 10,
                            "solidity": 0.2
                          }
                        },
                        "type": "histogram"
                      }
                    ],
                    "histogram2d": [
                      {
                        "colorbar": {
                          "outlinewidth": 0,
                          "ticks": ""
                        },
                        "colorscale": [
                          [
                            0,
                            "#0d0887"
                          ],
                          [
                            0.1111111111111111,
                            "#46039f"
                          ],
                          [
                            0.2222222222222222,
                            "#7201a8"
                          ],
                          [
                            0.3333333333333333,
                            "#9c179e"
                          ],
                          [
                            0.4444444444444444,
                            "#bd3786"
                          ],
                          [
                            0.5555555555555556,
                            "#d8576b"
                          ],
                          [
                            0.6666666666666666,
                            "#ed7953"
                          ],
                          [
                            0.7777777777777778,
                            "#fb9f3a"
                          ],
                          [
                            0.8888888888888888,
                            "#fdca26"
                          ],
                          [
                            1,
                            "#f0f921"
                          ]
                        ],
                        "type": "histogram2d"
                      }
                    ],
                    "histogram2dcontour": [
                      {
                        "colorbar": {
                          "outlinewidth": 0,
                          "ticks": ""
                        },
                        "colorscale": [
                          [
                            0,
                            "#0d0887"
                          ],
                          [
                            0.1111111111111111,
                            "#46039f"
                          ],
                          [
                            0.2222222222222222,
                            "#7201a8"
                          ],
                          [
                            0.3333333333333333,
                            "#9c179e"
                          ],
                          [
                            0.4444444444444444,
                            "#bd3786"
                          ],
                          [
                            0.5555555555555556,
                            "#d8576b"
                          ],
                          [
                            0.6666666666666666,
                            "#ed7953"
                          ],
                          [
                            0.7777777777777778,
                            "#fb9f3a"
                          ],
                          [
                            0.8888888888888888,
                            "#fdca26"
                          ],
                          [
                            1,
                            "#f0f921"
                          ]
                        ],
                        "type": "histogram2dcontour"
                      }
                    ],
                    "mesh3d": [
                      {
                        "colorbar": {
                          "outlinewidth": 0,
                          "ticks": ""
                        },
                        "type": "mesh3d"
                      }
                    ],
                    "parcoords": [
                      {
                        "line": {
                          "colorbar": {
                            "outlinewidth": 0,
                            "ticks": ""
                          }
                        },
                        "type": "parcoords"
                      }
                    ],
                    "pie": [
                      {
                        "automargin": true,
                        "type": "pie"
                      }
                    ],
                    "scatter": [
                      {
                        "fillpattern": {
                          "fillmode": "overlay",
                          "size": 10,
                          "solidity": 0.2
                        },
                        "type": "scatter"
                      }
                    ],
                    "scatter3d": [
                      {
                        "line": {
                          "colorbar": {
                            "outlinewidth": 0,
                            "ticks": ""
                          }
                        },
                        "marker": {
                          "colorbar": {
                            "outlinewidth": 0,
                            "ticks": ""
                          }
                        },
                        "type": "scatter3d"
                      }
                    ],
                    "scattercarpet": [
                      {
                        "marker": {
                          "colorbar": {
                            "outlinewidth": 0,
                            "ticks": ""
                          }
                        },
                        "type": "scattercarpet"
                      }
                    ],
                    "scattergeo": [
                      {
                        "marker": {
                          "colorbar": {
                            "outlinewidth": 0,
                            "ticks": ""
                          }
                        },
                        "type": "scattergeo"
                      }
                    ],
                    "scattergl": [
                      {
                        "marker": {
                          "colorbar": {
                            "outlinewidth": 0,
                            "ticks": ""
                          }
                        },
                        "type": "scattergl"
                      }
                    ],
                    "scattermap": [
                      {
                        "marker": {
                          "colorbar": {
                            "outlinewidth": 0,
                            "ticks": ""
                          }
                        },
                        "type": "scattermap"
                      }
                    ],
                    "scattermapbox": [
                      {
                        "marker": {
                          "colorbar": {
                            "outlinewidth": 0,
                            "ticks": ""
                          }
                        },
                        "type": "scattermapbox"
                      }
                    ],
                    "scatterpolar": [
                      {
                        "marker": {
                          "colorbar": {
                            "outlinewidth": 0,
                            "ticks": ""
                          }
                        },
                        "type": "scatterpolar"
                      }
                    ],
                    "scatterpolargl": [
                      {
                        "marker": {
                          "colorbar": {
                            "outlinewidth": 0,
                            "ticks": ""
                          }
                        },
                        "type": "scatterpolargl"
                      }
                    ],
                    "scatterternary": [
                      {
                        "marker": {
                          "colorbar": {
                            "outlinewidth": 0,
                            "ticks": ""
                          }
                        },
                        "type": "scatterternary"
                      }
                    ],
                    "surface": [
                      {
                        "colorbar": {
                          "outlinewidth": 0,
                          "ticks": ""
                        },
                        "colorscale": [
                          [
                            0,
                            "#0d0887"
                          ],
                          [
                            0.1111111111111111,
                            "#46039f"
                          ],
                          [
                            0.2222222222222222,
                            "#7201a8"
                          ],
                          [
                            0.3333333333333333,
                            "#9c179e"
                          ],
                          [
                            0.4444444444444444,
                            "#bd3786"
                          ],
                          [
                            0.5555555555555556,
                            "#d8576b"
                          ],
                          [
                            0.6666666666666666,
                            "#ed7953"
                          ],
                          [
                            0.7777777777777778,
                            "#fb9f3a"
                          ],
                          [
                            0.8888888888888888,
                            "#fdca26"
                          ],
                          [
                            1,
                            "#f0f921"
                          ]
                        ],
                        "type": "surface"
                      }
                    ],
                    "table": [
                      {
                        "cells": {
                          "fill": {
                            "color": "#EBF0F8"
                          },
                          "line": {
                            "color": "white"
                          }
                        },
                        "header": {
                          "fill": {
                            "color": "#C8D4E3"
                          },
                          "line": {
                            "color": "white"
                          }
                        },
                        "type": "table"
                      }
                    ]
                  },
                  "layout": {
                    "annotationdefaults": {
                      "arrowcolor": "#2a3f5f",
                      "arrowhead": 0,
                      "arrowwidth": 1
                    },
                    "autotypenumbers": "strict",
                    "coloraxis": {
                      "colorbar": {
                        "outlinewidth": 0,
                        "ticks": ""
                      }
                    },
                    "colorscale": {
                      "diverging": [
                        [
                          0,
                          "#8e0152"
                        ],
                        [
                          0.1,
                          "#c51b7d"
                        ],
                        [
                          0.2,
                          "#de77ae"
                        ],
                        [
                          0.3,
                          "#f1b6da"
                        ],
                        [
                          0.4,
                          "#fde0ef"
                        ],
                        [
                          0.5,
                          "#f7f7f7"
                        ],
                        [
                          0.6,
                          "#e6f5d0"
                        ],
                        [
                          0.7,
                          "#b8e186"
                        ],
                        [
                          0.8,
                          "#7fbc41"
                        ],
                        [
                          0.9,
                          "#4d9221"
                        ],
                        [
                          1,
                          "#276419"
                        ]
                      ],
                      "sequential": [
                        [
                          0,
                          "#0d0887"
                        ],
                        [
                          0.1111111111111111,
                          "#46039f"
                        ],
                        [
                          0.2222222222222222,
                          "#7201a8"
                        ],
                        [
                          0.3333333333333333,
                          "#9c179e"
                        ],
                        [
                          0.4444444444444444,
                          "#bd3786"
                        ],
                        [
                          0.5555555555555556,
                          "#d8576b"
                        ],
                        [
                          0.6666666666666666,
                          "#ed7953"
                        ],
                        [
                          0.7777777777777778,
                          "#fb9f3a"
                        ],
                        [
                          0.8888888888888888,
                          "#fdca26"
                        ],
                        [
                          1,
                          "#f0f921"
                        ]
                      ],
                      "sequentialminus": [
                        [
                          0,
                          "#0d0887"
                        ],
                        [
                          0.1111111111111111,
                          "#46039f"
                        ],
                        [
                          0.2222222222222222,
                          "#7201a8"
                        ],
                        [
                          0.3333333333333333,
                          "#9c179e"
                        ],
                        [
                          0.4444444444444444,
                          "#bd3786"
                        ],
                        [
                          0.5555555555555556,
                          "#d8576b"
                        ],
                        [
                          0.6666666666666666,
                          "#ed7953"
                        ],
                        [
                          0.7777777777777778,
                          "#fb9f3a"
                        ],
                        [
                          0.8888888888888888,
                          "#fdca26"
                        ],
                        [
                          1,
                          "#f0f921"
                        ]
                      ]
                    },
                    "colorway": [
                      "#636efa",
                      "#EF553B",
                      "#00cc96",
                      "#ab63fa",
                      "#FFA15A",
                      "#19d3f3",
                      "#FF6692",
                      "#B6E880",
                      "#FF97FF",
                      "#FECB52"
                    ],
                    "font": {
                      "color": "#2a3f5f"
                    },
                    "geo": {
                      "bgcolor": "white",
                      "lakecolor": "white",
                      "landcolor": "#E5ECF6",
                      "showlakes": true,
                      "showland": true,
                      "subunitcolor": "white"
                    },
                    "hoverlabel": {
                      "align": "left"
                    },
                    "hovermode": "closest",
                    "mapbox": {
                      "style": "light"
                    },
                    "paper_bgcolor": "white",
                    "plot_bgcolor": "#E5ECF6",
                    "polar": {
                      "angularaxis": {
                        "gridcolor": "white",
                        "linecolor": "white",
                        "ticks": ""
                      },
                      "bgcolor": "#E5ECF6",
                      "radialaxis": {
                        "gridcolor": "white",
                        "linecolor": "white",
                        "ticks": ""
                      }
                    },
                    "scene": {
                      "xaxis": {
                        "backgroundcolor": "#E5ECF6",
                        "gridcolor": "white",
                        "gridwidth": 2,
                        "linecolor": "white",
                        "showbackground": true,
                        "ticks": "",
                        "zerolinecolor": "white"
                      },
                      "yaxis": {
                        "backgroundcolor": "#E5ECF6",
                        "gridcolor": "white",
                        "gridwidth": 2,
                        "linecolor": "white",
                        "showbackground": true,
                        "ticks": "",
                        "zerolinecolor": "white"
                      },
                      "zaxis": {
                        "backgroundcolor": "#E5ECF6",
                        "gridcolor": "white",
                        "gridwidth": 2,
                        "linecolor": "white",
                        "showbackground": true,
                        "ticks": "",
                        "zerolinecolor": "white"
                      }
                    },
                    "shapedefaults": {
                      "line": {
                        "color": "#2a3f5f"
                      }
                    },
                    "ternary": {
                      "aaxis": {
                        "gridcolor": "white",
                        "linecolor": "white",
                        "ticks": ""
                      },
                      "baxis": {
                        "gridcolor": "white",
                        "linecolor": "white",
                        "ticks": ""
                      },
                      "bgcolor": "#E5ECF6",
                      "caxis": {
                        "gridcolor": "white",
                        "linecolor": "white",
                        "ticks": ""
                      }
                    },
                    "title": {
                      "x": 0.05
                    },
                    "xaxis": {
                      "automargin": true,
                      "gridcolor": "white",
                      "linecolor": "white",
                      "ticks": "",
                      "title": {
                        "standoff": 15
                      },
                      "zerolinecolor": "white",
                      "zerolinewidth": 2
                    },
                    "yaxis": {
                      "automargin": true,
                      "gridcolor": "white",
                      "linecolor": "white",
                      "ticks": "",
                      "title": {
                        "standoff": 15
                      },
                      "zerolinecolor": "white",
                      "zerolinewidth": 2
                    }
                  }
                },
                "title": {
                  "text": "Extra Trees 특성 중요도"
                },
                "xaxis": {
                  "anchor": "y",
                  "domain": [
                    0,
                    1
                  ],
                  "title": {
                    "text": "중요도"
                  }
                },
                "yaxis": {
                  "anchor": "x",
                  "domain": [
                    0,
                    1
                  ],
                  "title": {
                    "text": "특성"
                  }
                }
              }
            }
          },
          "metadata": {},
          "output_type": "display_data"
        }
      ],
      "source": [
        "# 특성(X)과 타겟(y) 분리\n",
        "X = df_heart.drop('DEATH_EVENT', axis=1)\n",
        "y = df_heart['DEATH_EVENT']\n",
        "\n",
        "# 훈련/테스트 데이터 분리\n",
        "X_train, X_test, y_train, y_test = train_test_split(X, y, test_size=0.2, random_state=42, stratify=y)\n",
        "\n",
        "# ExtraTreesClassifier 모델 생성 및 학습\n",
        "# n_estimators: 트리의 개수\n",
        "# random_state: 재현성을 위한 시드 고정\n",
        "et_clf = ExtraTreesClassifier(n_estimators=100, random_state=42)\n",
        "et_clf.fit(X_train, y_train)\n",
        "\n",
        "# 예측 및 평가\n",
        "y_pred = et_clf.predict(X_test)\n",
        "accuracy = accuracy_score(y_test, y_pred)\n",
        "f1 = f1_score(y_test, y_pred)\n",
        "\n",
        "print(f\"ExtraTreesClassifier 정확도: {accuracy:.4f}\")\n",
        "print(f\"ExtraTreesClassifier F1 점수: {f1:.4f}\")\n",
        "\n",
        "# 특성 중요도 시각화\n",
        "feature_importances = pd.DataFrame({'feature': X_train.columns, 'importance': et_clf.feature_importances_})\n",
        "feature_importances = feature_importances.sort_values('importance', ascending=False)\n",
        "\n",
        "fig = px.bar(feature_importances,\n",
        "             x='importance',\n",
        "             y='feature',\n",
        "             orientation='h',\n",
        "             title='Extra Trees 특성 중요도',\n",
        "             labels={'importance': '중요도', 'feature': '특성'})\n",
        "fig.show()"
      ]
    },
    {
      "cell_type": "markdown",
      "metadata": {
        "id": "cTMjVNhFYNP1"
      },
      "source": [
        "`time`(추적 기간), `ejection_fraction`(박출 계수), `serum_creatinine`(혈청 크레아티닌) 등이 사망 사건 예측에 중요한 변수임을 확인할 수 있습니다.\n",
        "\n",
        "#### ✏️ 연습문제 1\n",
        "\n",
        "`ExtraTreesClassifier`의 하이퍼파라미터를 조정하여 성능 변화를 관찰해보세요. `n_estimators`를 200으로, `max_depth`를 10으로 설정했을 때의 정확도와 F1 점수는 어떻게 변하는지 확인해보세요.\n",
        "\n",
        "---"
      ]
    },
    {
      "cell_type": "markdown",
      "metadata": {},
      "source": [
        "\n",
        "### 2. Hard & Soft Voting\n",
        "\n",
        "Voting은 여러 다른 종류의 모델(Heterogeneous Models)을 묶어 예측을 수행하는 가장 간단하면서도 효과적인 앙상블 기법 중 하나입니다. \n",
        "\n",
        "예를 들어, 로지스틱 회귀, K-NN, 결정 트리 모델을 각각 만들어 이들의 \"투표\"로 최종 결정을 내리는 방식입니다.\n",
        "\n",
        "#### 🧠 개념 이해하기\n",
        "\n",
        "Voting에는 두 가지 주요 방식이 있습니다.\n",
        "\n",
        "* <u>Hard Voting (다수결 투표):</u>\n",
        "    * 가장 직관적인 방식으로, 각 모델이 예측한 클래스 레이블 중 가장 많이 나온 것을 최종 예측으로 선택합니다.\n",
        "    \n",
        "    * 예시: 3개의 분류기(A, B, C)가 있고, 어떤 샘플에 대해 A는 '1', B는 '0', C는 '1'로 예측했다면, 다수결에 따라 최종 예측은 '1'이 됩니다. 마치 민주주의 선거와 같습니다.\n",
        "\n",
        "* <u>Soft Voting (가중치 투표):</u>\n",
        "    * 각 모델이 예측한 <u>클래스별 확률</u>을 평균 내어, 가장 높은 확률을 가진 클래스를 최종 예측으로 선택합니다.\n",
        "  \n",
        "    * 이 방식을 사용하려면 모든 기본 모델이 클래스 확률을 예측하는 기능(`predict_proba()`)을 제공해야 합니다.\n",
        "    * 예시: 3개의 분류기가 어떤 샘플에 대해 아래와 같이 확률을 예측했다면,\n",
        "        * 모델 A: `P(Class=0)=0.1`, `P(Class=1)=0.9`\n",
        "        \n",
        "        * 모델 B: `P(Class=0)=0.6`, `P(Class=1)=0.4`\n",
        "        * 모델 C: `P(Class=0)=0.4`, `P(Class=1)=0.6`\n",
        "    * 평균 확률은 `P(Class=0) = (0.1+0.6+0.4)/3 = 0.367`, `P(Class=1) = (0.9+0.4+0.6)/3 = 0.633` 이므로, 최종 예측은 '1'이 됩니다.\n",
        "    * 일반적으로 Soft Voting이 Hard Voting보다 성능이 더 좋다고 알려져 있습니다. 이는 모델이 예측에 얼마나 \"확신\"하는지에 대한 정보를 활용하기 때문입니다.\n",
        "\n",
        "    <img src=\"https://blog.kakaocdn.net/dn/btzlAy/btrJC31chQi/m71MigUhKkBU9cErwvAL01/img.png\" width=\"800\">\n",
        "\n",
        "#### 💻 코드로 알아보기\n",
        "\n",
        "Day 2에서 사용했던 `Telco Customer Churn` 데이터셋을 다시 활용하여 여러 모델을 결합하는 `VotingClassifier`를 만들어 보겠습니다. \n",
        "\n",
        "이를 위해 먼저 간단한 전처리 파이프라인부터 구축합니다."
      ]
    },
    {
      "cell_type": "code",
      "execution_count": 5,
      "metadata": {
        "id": "DRiKtvlUYNP2"
      },
      "outputs": [],
      "source": [
        "from sklearn.preprocessing import StandardScaler, OneHotEncoder\n",
        "from sklearn.compose import ColumnTransformer\n",
        "from sklearn.pipeline import Pipeline\n",
        "from sklearn.linear_model import LogisticRegression\n",
        "from sklearn.neighbors import KNeighborsClassifier\n",
        "from sklearn.tree import DecisionTreeClassifier\n",
        "from sklearn.ensemble import VotingClassifier\n",
        "\n",
        "# 데이터 로드 및 기본 전처리 (Day 2와 동일)\n",
        "path = '../datasets/ml/telco-customer-churn/WA_Fn-UseC_-Telco-Customer-Churn.csv'\n",
        "df_telco = pd.read_csv(path)\n",
        "df_telco['TotalCharges'] = pd.to_numeric(df_telco['TotalCharges'], errors='coerce')\n",
        "df_telco.drop('customerID', axis=1, inplace=True)\n",
        "df_telco['Churn'].replace({'No': 0, 'Yes': 1}, inplace=True)"
      ]
    },
    {
      "cell_type": "code",
      "execution_count": 6,
      "metadata": {},
      "outputs": [
        {
          "name": "stdout",
          "output_type": "stream",
          "text": [
            "Hard Voting 정확도: 0.7878\n",
            "Soft Voting 정확도: 0.7615\n"
          ]
        }
      ],
      "source": [
        "X = df_telco.drop('Churn', axis=1)\n",
        "y = df_telco['Churn']\n",
        "\n",
        "# 결측치가 있는 TotalCharges는 SimpleImputer로 처리\n",
        "from sklearn.impute import SimpleImputer\n",
        "imputer = SimpleImputer(strategy='median')\n",
        "X['TotalCharges'] = imputer.fit_transform(X[['TotalCharges']])\n",
        "\n",
        "X_train, X_test, y_train, y_test = train_test_split(X, y, test_size=0.2, random_state=42, stratify=y)\n",
        "\n",
        "# 전처리 파이프라인 구축\n",
        "numeric_features = X.select_dtypes(include=np.number).columns\n",
        "categorical_features = X.select_dtypes(include='object').columns\n",
        "\n",
        "numeric_transformer = StandardScaler()\n",
        "categorical_transformer = OneHotEncoder(handle_unknown='ignore')\n",
        "\n",
        "preprocessor = ColumnTransformer(\n",
        "    transformers=[\n",
        "        ('num', numeric_transformer, numeric_features),\n",
        "        ('cat', categorical_transformer, categorical_features)])\n",
        "\n",
        "# 1. 개별 모델 정의\n",
        "lr_clf = LogisticRegression(solver='liblinear', random_state=42)\n",
        "knn_clf = KNeighborsClassifier(n_neighbors=5)\n",
        "dt_clf = DecisionTreeClassifier(random_state=42)\n",
        "\n",
        "# 2. VotingClassifier 생성\n",
        "# Hard Voting\n",
        "hard_voting_clf = VotingClassifier(\n",
        "    estimators=[('lr', lr_clf), ('knn', knn_clf), ('dt', dt_clf)],\n",
        "    voting='hard'\n",
        ")\n",
        "\n",
        "# Soft Voting\n",
        "soft_voting_clf = VotingClassifier(\n",
        "    estimators=[('lr', lr_clf), ('knn', knn_clf), ('dt', dt_clf)],\n",
        "    voting='soft'\n",
        ")\n",
        "\n",
        "# 3. 전체 파이프라인으로 묶기\n",
        "pipeline_hard = Pipeline([('preprocessor', preprocessor), ('classifier', hard_voting_clf)])\n",
        "pipeline_soft = Pipeline([('preprocessor', preprocessor), ('classifier', soft_voting_clf)])\n",
        "\n",
        "# 4. 학습 및 평가\n",
        "pipeline_hard.fit(X_train, y_train)\n",
        "pipeline_soft.fit(X_train, y_train)\n",
        "\n",
        "hard_accuracy = pipeline_hard.score(X_test, y_test)\n",
        "soft_accuracy = pipeline_soft.score(X_test, y_test)\n",
        "\n",
        "print(f\"Hard Voting 정확도: {hard_accuracy:.4f}\")\n",
        "print(f\"Soft Voting 정확도: {soft_accuracy:.4f}\")"
      ]
    },
    {
      "cell_type": "markdown",
      "metadata": {
        "id": "CQ0n_qKgYNP2"
      },
      "source": [
        "Soft Voting이 Hard Voting에 비해 미세하게나마 성능이 더 좋은 것을 확인할 수 있습니다. 실제 문제에서는 이 차이가 더 크게 나타날 수 있습니다.\n",
        "\n",
        "#### ✏️ 연습문제 2\n",
        "\n",
        "`VotingClassifier`에 새로운 모델을 추가하여 성능 변화를 확인해보세요. `sklearn.svm.SVC` 모델(커널은 `rbf`, `probability=True`, `random_state=42`로 설정)을 Soft Voting 앙상블에 추가하고, 4개 모델을 사용했을 때의 정확도를 계산해보세요."
      ]
    },
    {
      "cell_type": "markdown",
      "metadata": {},
      "source": [
        "---\n",
        "\n",
        "### 3. Boosting 심화\n",
        "\n",
        "부스팅은 배깅과 달리, 순차적으로 모델을 학습시키는 방식입니다. \n",
        "\n",
        "각 모델은 이전 단계 모델의 <u>실수(오차)</u>를 보완하는 방향으로 학습됩니다. \n",
        "\n",
        "이 과정을 통해 점진적으로 성능이 개선되며, 매우 강력한 예측 모델을 만들 수 있습니다.\n",
        "\n",
        "이번 파트에서는 부스팅의 고전적인 모델인 `AdaBoost`와 `GradientBoosting`, 그리고 캐글의 황제로 불리는 `XGBoost`의 핵심 튜닝 포인트를 알아보겠습니다.\n",
        "\n",
        "#### 🧠 개념 이해하기\n",
        "\n",
        "* <u>AdaBoost (Adaptive Boosting):</u>\n",
        "    \n",
        "    * <u>핵심 아이디어:</u> 이전 모델이 <u>잘못 예측한 샘플에 가중치</u>를 부여하여, 다음 모델이 해당 샘플에 더 집중하도록 만듭니다.\n",
        "    \n",
        "    * <u>동작 방식:</u>\n",
        "        1.  모든 샘플에 동일한 가중치로 시작합니다.\n",
        "        2.  첫 번째 약한 학습기(보통 결정 트리 스텀프, depth=1인 트리)를 학습하고 예측합니다.\n",
        "        3.  예측이 틀린 샘플들의 가중치는 높이고, 맞힌 샘플들의 가중치는 낮춥니다.\n",
        "        4.  가중치가 적용된 샘플들을 다시 학습하여 두 번째 모델을 만듭니다.\n",
        "        5.  이 과정을 반복하고, 최종적으로 각 모델의 예측을 성능에 따라 가중합하여 최종 예측을 만듭니다.\n",
        "    * <u>비유:</u> 오답 노트와 같습니다. 틀린 문제에 더 많은 시간을 할애하여 공부하는 것과 유사합니다.\n",
        "\n",
        "* <u>GBRT (Gradient Boosting Regression Trees):</u>\n",
        "    \n",
        "    * <u>핵심 아이디어:</u> 이전 모델의 예측과 실제 값 사이의 <u>잔차(Residual Error)</u>를 다음 모델이 학습하도록 합니다.\n",
        "    \n",
        "    * <u>동작 방식 (회귀 예시):</u>\n",
        "        1.  첫 번째 모델(보통 전체 타겟값의 평균)을 만듭니다.\n",
        "        \n",
        "        2.  실제 값과 첫 번째 모델의 예측값 사이의 오차(잔차)를 계산합니다.\n",
        "        3.  이 <u>잔차 자체를 타겟으로</u> 하여 두 번째 모델을 학습시킵니다.\n",
        "        4.  (첫 번째 모델 예측 + 두 번째 모델 예측)을 통해 새로운 예측을 만듭니다.\n",
        "        5.  다시 새로운 예측과 실제 값 사이의 잔차를 계산하고, 이를 세 번째 모델이 학습합니다.\n",
        "        6.  이 과정을 반복하며 점진적으로 실제 값에 근사해갑니다.\n",
        "    * AdaBoost가 '틀린 샘플'에 집중한다면, Gradient Boosting은 '오차 자체'를 줄이는 데 집중하며, 손실 함수의 경사(Gradient)를 이용해 최적화하므로 더 일반적이고 강력합니다.\n",
        "\n",
        "* <u>XGBoost 하이퍼파라미터 튜닝:</u>\n",
        "    \n",
        "    * `XGBoost`는 GBRT를 매우 효율적이고 확장 가능하게 구현한 라이브러리입니다. 성능을 최적화하기 위해 다음과 같은 파라미터 튜닝이 중요합니다.\n",
        "    \n",
        "    * `learning_rate` (또는 `eta`): 각 트리의 기여도를 조절하는 값입니다. 값을 낮추면 각 단계의 업데이트가 보수적으로 이루어져 과적합을 방지하지만, 그만큼 더 많은 `n_estimators`(트리 개수)가 필요합니다. (보통 0.01 ~ 0.3 사이)\n",
        "    * `n_estimators`: 생성할 트리의 개수입니다. 너무 많으면 과적합, 너무 적으면 과소적합될 수 있습니다.\n",
        "    * `max_depth`: 트리의 최대 깊이. 모델의 복잡도를 제어하는 핵심 파라미터입니다. (보통 3 ~ 10 사이)\n",
        "    * <u>Early Stopping (조기 종료):</u> `n_estimators`를 넉넉하게 큰 값으로 설정하고, 검증 데이터(validation set)의 성능이 일정 반복 횟수(`early_stopping_rounds`) 동안 개선되지 않으면 학습을 자동으로 중단하는 매우 중요한 기능입니다. 이는 최적의 트리 개수를 찾아주고 과적합을 방지하는 효과적인 방법입니다.\n",
        "\n",
        "#### 💻 코드로 알아보기\n",
        "\n",
        "서울시 따릉이 수요 예측 데이터셋을 사용하여 부스팅 모델들을 비교하고 `XGBoost` 튜닝을 실습해 보겠습니다."
      ]
    },
    {
      "cell_type": "code",
      "execution_count": 10,
      "metadata": {
        "id": "nFmshYCoYNP3"
      },
      "outputs": [],
      "source": [
        "import pandas as pd\n",
        "from sklearn.model_selection import train_test_split\n",
        "from sklearn.metrics import mean_squared_error\n",
        "from sklearn.ensemble import AdaBoostRegressor, GradientBoostingRegressor\n",
        "import xgboost as xgb\n",
        "import numpy as np\n",
        "\n",
        "# 데이터 로드 (Kaggle Dataset)\n",
        "# 출처: https://www.kaggle.com/datasets/saurabhshahane/seoul-bike-sharing-demand-prediction\n",
        "# 이 데이터는 인코딩 문제로 cp949를 사용해야 할 수 있습니다.\n",
        "df_bike = pd.read_csv('../datasets/ml/bike-sharing/SeoulBikeData.csv', encoding='cp949')\n"
      ]
    },
    {
      "cell_type": "code",
      "execution_count": 11,
      "metadata": {},
      "outputs": [],
      "source": [
        "# 간단한 전처리\n",
        "df_bike['Date'] = pd.to_datetime(df_bike['Date'], format='%d/%m/%Y')\n",
        "df_bike['Month'] = df_bike['Date'].dt.month\n",
        "df_bike['Day'] = df_bike['Date'].dt.day\n",
        "df_bike = df_bike.drop('Date', axis=1)\n",
        "\n",
        "# 범주형 변수 원-핫 인코딩\n",
        "df_bike = pd.get_dummies(df_bike, columns=['Seasons', 'Holiday', 'Functioning Day'], drop_first=True)\n",
        "\n",
        "# 특성(X)과 타겟(y) 분리\n",
        "X = df_bike.drop('Rented Bike Count', axis=1)\n",
        "y = df_bike['Rented Bike Count']\n",
        "X_train, X_test, y_train, y_test = train_test_split(X, y, test_size=0.2, random_state=42)\n"
      ]
    },
    {
      "cell_type": "code",
      "execution_count": 12,
      "metadata": {},
      "outputs": [
        {
          "name": "stdout",
          "output_type": "stream",
          "text": [
            "AdaBoost RMSE: 414.6277\n"
          ]
        }
      ],
      "source": [
        "\n",
        "# --- AdaBoost ---\n",
        "ada_reg = AdaBoostRegressor(n_estimators=50, random_state=42)\n",
        "ada_reg.fit(X_train, y_train)\n",
        "y_pred_ada = ada_reg.predict(X_test)\n",
        "rmse_ada = np.sqrt(mean_squared_error(y_test, y_pred_ada))\n",
        "print(f\"AdaBoost RMSE: {rmse_ada:.4f}\")\n"
      ]
    },
    {
      "cell_type": "code",
      "execution_count": 13,
      "metadata": {},
      "outputs": [
        {
          "name": "stdout",
          "output_type": "stream",
          "text": [
            "Gradient Boosting RMSE: 261.3390\n"
          ]
        }
      ],
      "source": [
        "\n",
        "# --- Gradient Boosting ---\n",
        "gbrt_reg = GradientBoostingRegressor(n_estimators=100, random_state=42)\n",
        "gbrt_reg.fit(X_train, y_train)\n",
        "y_pred_gbrt = gbrt_reg.predict(X_test)\n",
        "rmse_gbrt = np.sqrt(mean_squared_error(y_test, y_pred_gbrt))\n",
        "print(f\"Gradient Boosting RMSE: {rmse_gbrt:.4f}\")\n"
      ]
    },
    {
      "cell_type": "code",
      "execution_count": 14,
      "metadata": {},
      "outputs": [
        {
          "name": "stdout",
          "output_type": "stream",
          "text": [
            "XGBoost (tuned with early stopping) RMSE: 219.2051\n",
            "XGBoost 최적 트리 개수: 597\n"
          ]
        }
      ],
      "source": [
        "\n",
        "# --- XGBoost with Early Stopping ---\n",
        "# 검증을 위해 훈련 데이터를 다시 훈련용과 검증용으로 분리\n",
        "X_train_xgb, X_val_xgb, y_train_xgb, y_val_xgb = train_test_split(X_train, y_train, test_size=0.2, random_state=42)\n",
        "\n",
        "xgb_reg = xgb.XGBRegressor(n_estimators=1000, # 넉넉하게 설정\n",
        "                           learning_rate=0.05,\n",
        "                           max_depth=5,\n",
        "                           random_state=42,\n",
        "                           early_stopping_rounds=50,# 50 라운드 동안 성능 개선이 없으면 중단\n",
        "                           n_jobs=-1)\n",
        "\n",
        "# 조기 종료를 설정하여 학습\n",
        "xgb_reg.fit(X_train_xgb, y_train_xgb,\n",
        "            eval_set=[(X_val_xgb, y_val_xgb)],\n",
        "             \n",
        "            verbose=False) # 학습 과정 출력 생략\n",
        "\n",
        "y_pred_xgb = xgb_reg.predict(X_test)\n",
        "rmse_xgb = np.sqrt(mean_squared_error(y_test, y_pred_xgb))\n",
        "print(f\"XGBoost (tuned with early stopping) RMSE: {rmse_xgb:.4f}\")\n",
        "print(f\"XGBoost 최적 트리 개수: {xgb_reg.best_iteration}\")"
      ]
    },
    {
      "cell_type": "markdown",
      "metadata": {
        "id": "W-z59GPUYNP3"
      },
      "source": [
        "`XGBoost`가 다른 모델들보다 훨씬 낮은 RMSE(오차)를 보여주며, `early_stopping` 덕분에 1000개의 트리를 모두 사용하지 않고 262개에서 최적의 성능을 찾고 학습을 멈춘 것을 확인할 수 있습니다.\n",
        "\n",
        "#### ✏️ 연습문제 3\n",
        "\n",
        "위의 `XGBoost` 모델에서 `learning_rate`를 `0.1`로, `max_depth`를 `7`로 변경하여 다시 학습시켜보세요. RMSE와 최적 트리 개수(`best_iteration`)가 어떻게 변하는지 관찰하고, 왜 그렇게 변했는지 이유를 생각해보세요."
      ]
    }
  ],
  "metadata": {
    "colab": {
      "provenance": []
    },
    "kernelspec": {
      "display_name": ".venv",
      "language": "python",
      "name": "python3"
    },
    "language_info": {
      "codemirror_mode": {
        "name": "ipython",
        "version": 3
      },
      "file_extension": ".py",
      "mimetype": "text/x-python",
      "name": "python",
      "nbconvert_exporter": "python",
      "pygments_lexer": "ipython3",
      "version": "3.12.9"
    }
  },
  "nbformat": 4,
  "nbformat_minor": 0
}
